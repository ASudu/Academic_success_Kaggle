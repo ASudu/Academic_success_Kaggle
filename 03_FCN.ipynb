{
 "cells": [
  {
   "cell_type": "markdown",
   "metadata": {},
   "source": [
    "# Train an FCN for the classification problem\n",
    "\n",
    "Architecture:\n",
    "- Input layer: `50` neurons corresponding to the 50 features in train data\n",
    "- Hidden layers:\n",
    "    - First with `35` neurons\n",
    "    - Next with `20` neurons\n",
    "- Output layer: `3` neurons corresponding to 3 output classes\n",
    "\n",
    "Loss function: Weighted cross entropy loss due to class imbalance\n",
    "Optimizer: SGD"
   ]
  },
  {
   "cell_type": "code",
   "execution_count": 1,
   "metadata": {},
   "outputs": [],
   "source": [
    "from FCN import Net\n",
    "import torch\n",
    "import torch.nn as nn\n",
    "import torch.optim as optim\n",
    "from torch.utils.data import DataLoader, TensorDataset\n",
    "from sklearn.model_selection import train_test_split\n",
    "from sklearn.preprocessing import StandardScaler\n",
    "import numpy as np\n",
    "import pandas as pd\n",
    "import matplotlib.pyplot as plt\n",
    "from tqdm import tqdm"
   ]
  },
  {
   "cell_type": "code",
   "execution_count": 2,
   "metadata": {},
   "outputs": [
    {
     "data": {
      "text/plain": [
       "((74462, 54),\n",
       " Index(['id', 'marital_status', 'appln_mode', 'appln_order', 'prog_of_study',\n",
       "        'morn/eve_attend', 'prev_edu', 'prev_edu_grade', 'nationality',\n",
       "        'mom_edu', 'dad_edu', 'mom_occup', 'admission_grade', 'was_displaced',\n",
       "        'edu_spl_need', 'has_student_debt', 'no_fee_dues', 'gender',\n",
       "        'got_scholarship', 'age_at_start', 'sem1_units_credited',\n",
       "        'sem1_units_enrolled', 'sem1_units_eval', 'sem1_units_approved',\n",
       "        'sem1_units_grade', 'sem1_units_no_eval', 'sem2_units_credited',\n",
       "        'sem2_units_enrolled', 'sem2_units_eval', 'sem2_units_approved',\n",
       "        'sem2_units_grade', 'sem2_units_no_eval', 'unemployment_rate',\n",
       "        'inflation', 'gdp', 'Target', 'marital_status_log', 'appln_order_log',\n",
       "        'prog_of_study_log', 'morn/eve_attend_log', 'prev_edu_log',\n",
       "        'nationality_log', 'mom_occup_log', 'edu_spl_need_log',\n",
       "        'has_student_debt_log', 'no_fee_dues_log', 'got_scholarship_log',\n",
       "        'age_at_start_log', 'sem1_units_credited_log', 'sem1_units_grade_log',\n",
       "        'sem1_units_no_eval_log', 'sem2_units_credited_log',\n",
       "        'sem2_units_grade_log', 'sem2_units_no_eval_log'],\n",
       "       dtype='object'),\n",
       " ['sem2_units_approved',\n",
       "  'no_fee_dues_log',\n",
       "  'got_scholarship_log',\n",
       "  'sem2_units_enrolled',\n",
       "  'sem2_units_eval',\n",
       "  'admission_grade',\n",
       "  'prog_of_study',\n",
       "  'sem1_units_eval',\n",
       "  'prev_edu_grade',\n",
       "  'was_displaced',\n",
       "  'appln_order_log',\n",
       "  'morn/eve_attend',\n",
       "  'gdp',\n",
       "  'marital_status_log',\n",
       "  'has_student_debt_log',\n",
       "  'appln_mode',\n",
       "  'gender',\n",
       "  'age_at_start'])"
      ]
     },
     "execution_count": 2,
     "metadata": {},
     "output_type": "execute_result"
    }
   ],
   "source": [
    "# Data\n",
    "df = pd.read_csv('data/cleaned_train.csv')\n",
    "feats = []\n",
    "with open('data/features.txt','r') as f:\n",
    "    feats = [x[:-1] for x in f.readlines()]\n",
    "df.shape, df.columns, feats"
   ]
  },
  {
   "cell_type": "code",
   "execution_count": 3,
   "metadata": {},
   "outputs": [
    {
     "data": {
      "text/plain": [
       "{'Graduate': 36433, 'Dropout': 23325, 'Enrolled': 14704}"
      ]
     },
     "execution_count": 3,
     "metadata": {},
     "output_type": "execute_result"
    }
   ],
   "source": [
    "val_counts = dict(df['Target'].value_counts())\n",
    "val_counts"
   ]
  },
  {
   "cell_type": "markdown",
   "metadata": {},
   "source": [
    "Based on this, we assign `0` as `Graduate`, `1` as `Droupout`, `2` as `Enrolled`."
   ]
  },
  {
   "cell_type": "code",
   "execution_count": 4,
   "metadata": {},
   "outputs": [
    {
     "data": {
      "text/plain": [
       "array([0, 1, 2], dtype=int64)"
      ]
     },
     "execution_count": 4,
     "metadata": {},
     "output_type": "execute_result"
    }
   ],
   "source": [
    "df['Target_enc'] = df['Target'].apply(lambda x: {'Graduate': 0, 'Dropout': 1, 'Enrolled': 2}[x])\n",
    "df['Target_enc'].unique()"
   ]
  },
  {
   "cell_type": "code",
   "execution_count": 5,
   "metadata": {},
   "outputs": [
    {
     "data": {
      "text/plain": [
       "51"
      ]
     },
     "execution_count": 5,
     "metadata": {},
     "output_type": "execute_result"
    }
   ],
   "source": [
    "# Data\n",
    "X,y = df.drop(columns=['Target','Target_enc','id','nationality']).values, df['Target_enc'].values\n",
    "\n",
    "X_train, X_val, y_train, y_val = train_test_split(X, y, test_size=0.2, random_state=42)\n",
    "X.shape[1]"
   ]
  },
  {
   "cell_type": "code",
   "execution_count": 6,
   "metadata": {},
   "outputs": [],
   "source": [
    "# Standardize the features\n",
    "scaler = StandardScaler()\n",
    "X_train = scaler.fit_transform(X_train)\n",
    "X_val = scaler.transform(X_val)"
   ]
  },
  {
   "cell_type": "code",
   "execution_count": 7,
   "metadata": {},
   "outputs": [],
   "source": [
    "# Convert to PyTorch tensors\n",
    "X_train = torch.tensor(X_train, dtype=torch.float32)\n",
    "y_train = torch.tensor(y_train, dtype=torch.long)\n",
    "X_val = torch.tensor(X_val, dtype=torch.float32)\n",
    "y_val = torch.tensor(y_val, dtype=torch.long)"
   ]
  },
  {
   "cell_type": "code",
   "execution_count": 8,
   "metadata": {},
   "outputs": [],
   "source": [
    "# Create DataLoader\n",
    "train_dataset = TensorDataset(X_train, y_train)\n",
    "val_dataset = TensorDataset(X_val, y_val)\n",
    "train_loader = DataLoader(train_dataset, batch_size=32, shuffle=True)\n",
    "val_loader = DataLoader(val_dataset, batch_size=32)"
   ]
  },
  {
   "cell_type": "code",
   "execution_count": 9,
   "metadata": {},
   "outputs": [],
   "source": [
    "# Instantiate the model, define the optimizer and the loss function\n",
    "model = Net(X_train.shape[1])\n",
    "optimizer = optim.AdamW(params=model.parameters(), lr=1e-4)"
   ]
  },
  {
   "cell_type": "markdown",
   "metadata": {},
   "source": [
    "Class weights"
   ]
  },
  {
   "cell_type": "code",
   "execution_count": 10,
   "metadata": {},
   "outputs": [
    {
     "data": {
      "text/plain": [
       "[1.0, 0.640216287431724, 0.4035901517854692]"
      ]
     },
     "execution_count": 10,
     "metadata": {},
     "output_type": "execute_result"
    }
   ],
   "source": [
    "weights = [1.0, val_counts['Dropout']/val_counts['Graduate'], val_counts['Enrolled']/val_counts['Graduate']]\n",
    "weights"
   ]
  },
  {
   "cell_type": "code",
   "execution_count": 11,
   "metadata": {},
   "outputs": [],
   "source": [
    "# Define class weights\n",
    "class_weights = torch.tensor(weights, dtype=torch.float32)  # Example weights\n",
    "criterion = nn.CrossEntropyLoss(weight=class_weights)"
   ]
  },
  {
   "cell_type": "code",
   "execution_count": 12,
   "metadata": {},
   "outputs": [
    {
     "name": "stderr",
     "output_type": "stream",
     "text": [
      "Training Epoch 1/100: 100%|██████████| 1862/1862 [00:02<00:00, 804.57it/s]\n",
      "Validation Epoch 1/100: 100%|██████████| 466/466 [00:00<00:00, 1303.10it/s]\n"
     ]
    },
    {
     "name": "stdout",
     "output_type": "stream",
     "text": [
      "Epoch 1/100, Train Loss: 0.5646, Validation Loss: 0.3915, Validation Accuracy: 0.7581\n"
     ]
    },
    {
     "name": "stderr",
     "output_type": "stream",
     "text": [
      "Training Epoch 2/100: 100%|██████████| 1862/1862 [00:02<00:00, 894.47it/s]\n",
      "Validation Epoch 2/100: 100%|██████████| 466/466 [00:00<00:00, 1780.70it/s]\n"
     ]
    },
    {
     "name": "stdout",
     "output_type": "stream",
     "text": [
      "Epoch 2/100, Train Loss: 0.3696, Validation Loss: 0.3596, Validation Accuracy: 0.7973\n"
     ]
    },
    {
     "name": "stderr",
     "output_type": "stream",
     "text": [
      "Training Epoch 3/100: 100%|██████████| 1862/1862 [00:02<00:00, 871.22it/s]\n",
      "Validation Epoch 3/100: 100%|██████████| 466/466 [00:00<00:00, 1652.65it/s]\n"
     ]
    },
    {
     "name": "stdout",
     "output_type": "stream",
     "text": [
      "Epoch 3/100, Train Loss: 0.3514, Validation Loss: 0.3486, Validation Accuracy: 0.8100\n"
     ]
    },
    {
     "name": "stderr",
     "output_type": "stream",
     "text": [
      "Training Epoch 4/100: 100%|██████████| 1862/1862 [00:02<00:00, 794.15it/s]\n",
      "Validation Epoch 4/100: 100%|██████████| 466/466 [00:00<00:00, 1677.14it/s]\n"
     ]
    },
    {
     "name": "stdout",
     "output_type": "stream",
     "text": [
      "Epoch 4/100, Train Loss: 0.3429, Validation Loss: 0.3429, Validation Accuracy: 0.8117\n"
     ]
    },
    {
     "name": "stderr",
     "output_type": "stream",
     "text": [
      "Training Epoch 5/100: 100%|██████████| 1862/1862 [00:02<00:00, 857.14it/s]\n",
      "Validation Epoch 5/100: 100%|██████████| 466/466 [00:00<00:00, 1864.41it/s]\n"
     ]
    },
    {
     "name": "stdout",
     "output_type": "stream",
     "text": [
      "Epoch 5/100, Train Loss: 0.3376, Validation Loss: 0.3391, Validation Accuracy: 0.8150\n"
     ]
    },
    {
     "name": "stderr",
     "output_type": "stream",
     "text": [
      "Training Epoch 6/100: 100%|██████████| 1862/1862 [00:02<00:00, 900.42it/s]\n",
      "Validation Epoch 6/100: 100%|██████████| 466/466 [00:00<00:00, 1319.72it/s]\n"
     ]
    },
    {
     "name": "stdout",
     "output_type": "stream",
     "text": [
      "Epoch 6/100, Train Loss: 0.3341, Validation Loss: 0.3377, Validation Accuracy: 0.8151\n"
     ]
    },
    {
     "name": "stderr",
     "output_type": "stream",
     "text": [
      "Training Epoch 7/100: 100%|██████████| 1862/1862 [00:01<00:00, 946.77it/s]\n",
      "Validation Epoch 7/100: 100%|██████████| 466/466 [00:00<00:00, 1839.35it/s]\n"
     ]
    },
    {
     "name": "stdout",
     "output_type": "stream",
     "text": [
      "Epoch 7/100, Train Loss: 0.3318, Validation Loss: 0.3355, Validation Accuracy: 0.8153\n"
     ]
    },
    {
     "name": "stderr",
     "output_type": "stream",
     "text": [
      "Training Epoch 8/100: 100%|██████████| 1862/1862 [00:01<00:00, 949.74it/s]\n",
      "Validation Epoch 8/100: 100%|██████████| 466/466 [00:00<00:00, 1613.49it/s]\n"
     ]
    },
    {
     "name": "stdout",
     "output_type": "stream",
     "text": [
      "Epoch 8/100, Train Loss: 0.3304, Validation Loss: 0.3344, Validation Accuracy: 0.8172\n"
     ]
    },
    {
     "name": "stderr",
     "output_type": "stream",
     "text": [
      "Training Epoch 9/100: 100%|██████████| 1862/1862 [00:01<00:00, 942.27it/s]\n",
      "Validation Epoch 9/100: 100%|██████████| 466/466 [00:00<00:00, 1488.95it/s]\n"
     ]
    },
    {
     "name": "stdout",
     "output_type": "stream",
     "text": [
      "Epoch 9/100, Train Loss: 0.3287, Validation Loss: 0.3333, Validation Accuracy: 0.8190\n"
     ]
    },
    {
     "name": "stderr",
     "output_type": "stream",
     "text": [
      "Training Epoch 10/100: 100%|██████████| 1862/1862 [00:02<00:00, 930.46it/s]\n",
      "Validation Epoch 10/100: 100%|██████████| 466/466 [00:00<00:00, 1862.78it/s]\n"
     ]
    },
    {
     "name": "stdout",
     "output_type": "stream",
     "text": [
      "Epoch 10/100, Train Loss: 0.3278, Validation Loss: 0.3327, Validation Accuracy: 0.8196\n"
     ]
    },
    {
     "name": "stderr",
     "output_type": "stream",
     "text": [
      "Training Epoch 11/100: 100%|██████████| 1862/1862 [00:02<00:00, 900.40it/s]\n",
      "Validation Epoch 11/100: 100%|██████████| 466/466 [00:00<00:00, 1793.57it/s]\n"
     ]
    },
    {
     "name": "stdout",
     "output_type": "stream",
     "text": [
      "Epoch 11/100, Train Loss: 0.3266, Validation Loss: 0.3328, Validation Accuracy: 0.8220\n"
     ]
    },
    {
     "name": "stderr",
     "output_type": "stream",
     "text": [
      "Training Epoch 12/100: 100%|██████████| 1862/1862 [00:02<00:00, 880.11it/s]\n",
      "Validation Epoch 12/100: 100%|██████████| 466/466 [00:00<00:00, 1715.28it/s]\n"
     ]
    },
    {
     "name": "stdout",
     "output_type": "stream",
     "text": [
      "Epoch 12/100, Train Loss: 0.3259, Validation Loss: 0.3319, Validation Accuracy: 0.8213\n"
     ]
    },
    {
     "name": "stderr",
     "output_type": "stream",
     "text": [
      "Training Epoch 13/100: 100%|██████████| 1862/1862 [00:02<00:00, 865.74it/s]\n",
      "Validation Epoch 13/100: 100%|██████████| 466/466 [00:00<00:00, 1853.76it/s]\n"
     ]
    },
    {
     "name": "stdout",
     "output_type": "stream",
     "text": [
      "Epoch 13/100, Train Loss: 0.3251, Validation Loss: 0.3316, Validation Accuracy: 0.8203\n"
     ]
    },
    {
     "name": "stderr",
     "output_type": "stream",
     "text": [
      "Training Epoch 14/100: 100%|██████████| 1862/1862 [00:02<00:00, 896.87it/s]\n",
      "Validation Epoch 14/100: 100%|██████████| 466/466 [00:00<00:00, 2129.43it/s]\n"
     ]
    },
    {
     "name": "stdout",
     "output_type": "stream",
     "text": [
      "Epoch 14/100, Train Loss: 0.3244, Validation Loss: 0.3310, Validation Accuracy: 0.8186\n"
     ]
    },
    {
     "name": "stderr",
     "output_type": "stream",
     "text": [
      "Training Epoch 15/100: 100%|██████████| 1862/1862 [00:01<00:00, 977.40it/s] \n",
      "Validation Epoch 15/100: 100%|██████████| 466/466 [00:00<00:00, 1797.27it/s]\n"
     ]
    },
    {
     "name": "stdout",
     "output_type": "stream",
     "text": [
      "Epoch 15/100, Train Loss: 0.3237, Validation Loss: 0.3304, Validation Accuracy: 0.8213\n"
     ]
    },
    {
     "name": "stderr",
     "output_type": "stream",
     "text": [
      "Training Epoch 16/100: 100%|██████████| 1862/1862 [00:01<00:00, 951.85it/s]\n",
      "Validation Epoch 16/100: 100%|██████████| 466/466 [00:00<00:00, 1969.85it/s]\n"
     ]
    },
    {
     "name": "stdout",
     "output_type": "stream",
     "text": [
      "Epoch 16/100, Train Loss: 0.3231, Validation Loss: 0.3305, Validation Accuracy: 0.8205\n"
     ]
    },
    {
     "name": "stderr",
     "output_type": "stream",
     "text": [
      "Training Epoch 17/100: 100%|██████████| 1862/1862 [00:02<00:00, 877.35it/s]\n",
      "Validation Epoch 17/100: 100%|██████████| 466/466 [00:00<00:00, 1858.07it/s]\n"
     ]
    },
    {
     "name": "stdout",
     "output_type": "stream",
     "text": [
      "Epoch 17/100, Train Loss: 0.3226, Validation Loss: 0.3305, Validation Accuracy: 0.8209\n"
     ]
    },
    {
     "name": "stderr",
     "output_type": "stream",
     "text": [
      "Training Epoch 18/100: 100%|██████████| 1862/1862 [00:02<00:00, 879.33it/s]\n",
      "Validation Epoch 18/100: 100%|██████████| 466/466 [00:00<00:00, 2002.39it/s]\n"
     ]
    },
    {
     "name": "stdout",
     "output_type": "stream",
     "text": [
      "Epoch 18/100, Train Loss: 0.3221, Validation Loss: 0.3299, Validation Accuracy: 0.8201\n"
     ]
    },
    {
     "name": "stderr",
     "output_type": "stream",
     "text": [
      "Training Epoch 19/100: 100%|██████████| 1862/1862 [00:01<00:00, 938.93it/s]\n",
      "Validation Epoch 19/100: 100%|██████████| 466/466 [00:00<00:00, 1997.09it/s]\n"
     ]
    },
    {
     "name": "stdout",
     "output_type": "stream",
     "text": [
      "Epoch 19/100, Train Loss: 0.3216, Validation Loss: 0.3295, Validation Accuracy: 0.8210\n"
     ]
    },
    {
     "name": "stderr",
     "output_type": "stream",
     "text": [
      "Training Epoch 20/100: 100%|██████████| 1862/1862 [00:02<00:00, 928.19it/s]\n",
      "Validation Epoch 20/100: 100%|██████████| 466/466 [00:00<00:00, 1978.13it/s]\n"
     ]
    },
    {
     "name": "stdout",
     "output_type": "stream",
     "text": [
      "Epoch 20/100, Train Loss: 0.3213, Validation Loss: 0.3294, Validation Accuracy: 0.8219\n"
     ]
    },
    {
     "name": "stderr",
     "output_type": "stream",
     "text": [
      "Training Epoch 21/100: 100%|██████████| 1862/1862 [00:01<00:00, 940.39it/s]\n",
      "Validation Epoch 21/100: 100%|██████████| 466/466 [00:00<00:00, 1391.87it/s]\n"
     ]
    },
    {
     "name": "stdout",
     "output_type": "stream",
     "text": [
      "Epoch 21/100, Train Loss: 0.3211, Validation Loss: 0.3291, Validation Accuracy: 0.8195\n"
     ]
    },
    {
     "name": "stderr",
     "output_type": "stream",
     "text": [
      "Training Epoch 22/100: 100%|██████████| 1862/1862 [00:02<00:00, 927.12it/s]\n",
      "Validation Epoch 22/100: 100%|██████████| 466/466 [00:00<00:00, 1637.20it/s]\n"
     ]
    },
    {
     "name": "stdout",
     "output_type": "stream",
     "text": [
      "Epoch 22/100, Train Loss: 0.3206, Validation Loss: 0.3289, Validation Accuracy: 0.8210\n"
     ]
    },
    {
     "name": "stderr",
     "output_type": "stream",
     "text": [
      "Training Epoch 23/100: 100%|██████████| 1862/1862 [00:01<00:00, 947.37it/s]\n",
      "Validation Epoch 23/100: 100%|██████████| 466/466 [00:00<00:00, 1845.79it/s]\n"
     ]
    },
    {
     "name": "stdout",
     "output_type": "stream",
     "text": [
      "Epoch 23/100, Train Loss: 0.3203, Validation Loss: 0.3283, Validation Accuracy: 0.8200\n"
     ]
    },
    {
     "name": "stderr",
     "output_type": "stream",
     "text": [
      "Training Epoch 24/100: 100%|██████████| 1862/1862 [00:02<00:00, 895.02it/s]\n",
      "Validation Epoch 24/100: 100%|██████████| 466/466 [00:00<00:00, 1713.32it/s]\n"
     ]
    },
    {
     "name": "stdout",
     "output_type": "stream",
     "text": [
      "Epoch 24/100, Train Loss: 0.3198, Validation Loss: 0.3283, Validation Accuracy: 0.8220\n"
     ]
    },
    {
     "name": "stderr",
     "output_type": "stream",
     "text": [
      "Training Epoch 25/100: 100%|██████████| 1862/1862 [00:02<00:00, 789.95it/s]\n",
      "Validation Epoch 25/100: 100%|██████████| 466/466 [00:00<00:00, 1847.95it/s]\n"
     ]
    },
    {
     "name": "stdout",
     "output_type": "stream",
     "text": [
      "Epoch 25/100, Train Loss: 0.3195, Validation Loss: 0.3284, Validation Accuracy: 0.8213\n"
     ]
    },
    {
     "name": "stderr",
     "output_type": "stream",
     "text": [
      "Training Epoch 26/100: 100%|██████████| 1862/1862 [00:02<00:00, 879.57it/s]\n",
      "Validation Epoch 26/100: 100%|██████████| 466/466 [00:00<00:00, 1851.26it/s]\n"
     ]
    },
    {
     "name": "stdout",
     "output_type": "stream",
     "text": [
      "Epoch 26/100, Train Loss: 0.3191, Validation Loss: 0.3298, Validation Accuracy: 0.8243\n"
     ]
    },
    {
     "name": "stderr",
     "output_type": "stream",
     "text": [
      "Training Epoch 27/100: 100%|██████████| 1862/1862 [00:02<00:00, 916.74it/s]\n",
      "Validation Epoch 27/100: 100%|██████████| 466/466 [00:00<00:00, 1998.64it/s]\n"
     ]
    },
    {
     "name": "stdout",
     "output_type": "stream",
     "text": [
      "Epoch 27/100, Train Loss: 0.3191, Validation Loss: 0.3280, Validation Accuracy: 0.8183\n"
     ]
    },
    {
     "name": "stderr",
     "output_type": "stream",
     "text": [
      "Training Epoch 28/100: 100%|██████████| 1862/1862 [00:02<00:00, 856.63it/s]\n",
      "Validation Epoch 28/100: 100%|██████████| 466/466 [00:00<00:00, 1657.69it/s]\n"
     ]
    },
    {
     "name": "stdout",
     "output_type": "stream",
     "text": [
      "Epoch 28/100, Train Loss: 0.3188, Validation Loss: 0.3279, Validation Accuracy: 0.8240\n"
     ]
    },
    {
     "name": "stderr",
     "output_type": "stream",
     "text": [
      "Training Epoch 29/100: 100%|██████████| 1862/1862 [00:02<00:00, 793.05it/s]\n",
      "Validation Epoch 29/100: 100%|██████████| 466/466 [00:00<00:00, 1668.30it/s]\n"
     ]
    },
    {
     "name": "stdout",
     "output_type": "stream",
     "text": [
      "Epoch 29/100, Train Loss: 0.3182, Validation Loss: 0.3279, Validation Accuracy: 0.8185\n"
     ]
    },
    {
     "name": "stderr",
     "output_type": "stream",
     "text": [
      "Training Epoch 30/100: 100%|██████████| 1862/1862 [00:02<00:00, 826.83it/s]\n",
      "Validation Epoch 30/100: 100%|██████████| 466/466 [00:00<00:00, 1857.88it/s]\n"
     ]
    },
    {
     "name": "stdout",
     "output_type": "stream",
     "text": [
      "Epoch 30/100, Train Loss: 0.3181, Validation Loss: 0.3277, Validation Accuracy: 0.8198\n"
     ]
    },
    {
     "name": "stderr",
     "output_type": "stream",
     "text": [
      "Training Epoch 31/100: 100%|██████████| 1862/1862 [00:02<00:00, 896.10it/s]\n",
      "Validation Epoch 31/100: 100%|██████████| 466/466 [00:00<00:00, 1729.01it/s]\n"
     ]
    },
    {
     "name": "stdout",
     "output_type": "stream",
     "text": [
      "Epoch 31/100, Train Loss: 0.3175, Validation Loss: 0.3276, Validation Accuracy: 0.8234\n"
     ]
    },
    {
     "name": "stderr",
     "output_type": "stream",
     "text": [
      "Training Epoch 32/100: 100%|██████████| 1862/1862 [00:02<00:00, 689.49it/s]\n",
      "Validation Epoch 32/100: 100%|██████████| 466/466 [00:00<00:00, 1570.10it/s]\n"
     ]
    },
    {
     "name": "stdout",
     "output_type": "stream",
     "text": [
      "Epoch 32/100, Train Loss: 0.3176, Validation Loss: 0.3282, Validation Accuracy: 0.8204\n"
     ]
    },
    {
     "name": "stderr",
     "output_type": "stream",
     "text": [
      "Training Epoch 33/100: 100%|██████████| 1862/1862 [00:03<00:00, 619.33it/s]\n",
      "Validation Epoch 33/100: 100%|██████████| 466/466 [00:00<00:00, 1388.90it/s]\n"
     ]
    },
    {
     "name": "stdout",
     "output_type": "stream",
     "text": [
      "Epoch 33/100, Train Loss: 0.3174, Validation Loss: 0.3274, Validation Accuracy: 0.8215\n"
     ]
    },
    {
     "name": "stderr",
     "output_type": "stream",
     "text": [
      "Training Epoch 34/100: 100%|██████████| 1862/1862 [00:03<00:00, 596.23it/s]\n",
      "Validation Epoch 34/100: 100%|██████████| 466/466 [00:00<00:00, 1466.75it/s]\n"
     ]
    },
    {
     "name": "stdout",
     "output_type": "stream",
     "text": [
      "Epoch 34/100, Train Loss: 0.3169, Validation Loss: 0.3272, Validation Accuracy: 0.8210\n"
     ]
    },
    {
     "name": "stderr",
     "output_type": "stream",
     "text": [
      "Training Epoch 35/100: 100%|██████████| 1862/1862 [00:02<00:00, 839.12it/s]\n",
      "Validation Epoch 35/100: 100%|██████████| 466/466 [00:00<00:00, 1413.78it/s]\n"
     ]
    },
    {
     "name": "stdout",
     "output_type": "stream",
     "text": [
      "Epoch 35/100, Train Loss: 0.3165, Validation Loss: 0.3270, Validation Accuracy: 0.8241\n"
     ]
    },
    {
     "name": "stderr",
     "output_type": "stream",
     "text": [
      "Training Epoch 36/100: 100%|██████████| 1862/1862 [00:02<00:00, 826.68it/s]\n",
      "Validation Epoch 36/100: 100%|██████████| 466/466 [00:00<00:00, 1862.69it/s]\n"
     ]
    },
    {
     "name": "stdout",
     "output_type": "stream",
     "text": [
      "Epoch 36/100, Train Loss: 0.3165, Validation Loss: 0.3275, Validation Accuracy: 0.8210\n"
     ]
    },
    {
     "name": "stderr",
     "output_type": "stream",
     "text": [
      "Training Epoch 37/100: 100%|██████████| 1862/1862 [00:02<00:00, 910.29it/s]\n",
      "Validation Epoch 37/100: 100%|██████████| 466/466 [00:00<00:00, 1948.84it/s]\n"
     ]
    },
    {
     "name": "stdout",
     "output_type": "stream",
     "text": [
      "Epoch 37/100, Train Loss: 0.3166, Validation Loss: 0.3272, Validation Accuracy: 0.8192\n"
     ]
    },
    {
     "name": "stderr",
     "output_type": "stream",
     "text": [
      "Training Epoch 38/100: 100%|██████████| 1862/1862 [00:01<00:00, 938.90it/s]\n",
      "Validation Epoch 38/100: 100%|██████████| 466/466 [00:00<00:00, 1530.05it/s]\n"
     ]
    },
    {
     "name": "stdout",
     "output_type": "stream",
     "text": [
      "Epoch 38/100, Train Loss: 0.3161, Validation Loss: 0.3274, Validation Accuracy: 0.8217\n"
     ]
    },
    {
     "name": "stderr",
     "output_type": "stream",
     "text": [
      "Training Epoch 39/100: 100%|██████████| 1862/1862 [00:02<00:00, 870.89it/s]\n",
      "Validation Epoch 39/100: 100%|██████████| 466/466 [00:00<00:00, 1801.67it/s]\n"
     ]
    },
    {
     "name": "stdout",
     "output_type": "stream",
     "text": [
      "Epoch 39/100, Train Loss: 0.3160, Validation Loss: 0.3280, Validation Accuracy: 0.8244\n"
     ]
    },
    {
     "name": "stderr",
     "output_type": "stream",
     "text": [
      "Training Epoch 40/100: 100%|██████████| 1862/1862 [00:02<00:00, 885.85it/s]\n",
      "Validation Epoch 40/100: 100%|██████████| 466/466 [00:00<00:00, 1490.12it/s]\n"
     ]
    },
    {
     "name": "stdout",
     "output_type": "stream",
     "text": [
      "Epoch 40/100, Train Loss: 0.3156, Validation Loss: 0.3274, Validation Accuracy: 0.8237\n"
     ]
    },
    {
     "name": "stderr",
     "output_type": "stream",
     "text": [
      "Training Epoch 41/100: 100%|██████████| 1862/1862 [00:02<00:00, 873.27it/s]\n",
      "Validation Epoch 41/100: 100%|██████████| 466/466 [00:00<00:00, 1667.81it/s]\n"
     ]
    },
    {
     "name": "stdout",
     "output_type": "stream",
     "text": [
      "Epoch 41/100, Train Loss: 0.3158, Validation Loss: 0.3271, Validation Accuracy: 0.8231\n"
     ]
    },
    {
     "name": "stderr",
     "output_type": "stream",
     "text": [
      "Training Epoch 42/100: 100%|██████████| 1862/1862 [00:02<00:00, 894.21it/s]\n",
      "Validation Epoch 42/100: 100%|██████████| 466/466 [00:00<00:00, 1854.95it/s]\n"
     ]
    },
    {
     "name": "stdout",
     "output_type": "stream",
     "text": [
      "Epoch 42/100, Train Loss: 0.3154, Validation Loss: 0.3269, Validation Accuracy: 0.8211\n"
     ]
    },
    {
     "name": "stderr",
     "output_type": "stream",
     "text": [
      "Training Epoch 43/100: 100%|██████████| 1862/1862 [00:02<00:00, 915.31it/s]\n",
      "Validation Epoch 43/100: 100%|██████████| 466/466 [00:00<00:00, 1870.47it/s]\n"
     ]
    },
    {
     "name": "stdout",
     "output_type": "stream",
     "text": [
      "Epoch 43/100, Train Loss: 0.3151, Validation Loss: 0.3269, Validation Accuracy: 0.8195\n"
     ]
    },
    {
     "name": "stderr",
     "output_type": "stream",
     "text": [
      "Training Epoch 44/100: 100%|██████████| 1862/1862 [00:01<00:00, 946.55it/s]\n",
      "Validation Epoch 44/100: 100%|██████████| 466/466 [00:00<00:00, 2000.37it/s]\n"
     ]
    },
    {
     "name": "stdout",
     "output_type": "stream",
     "text": [
      "Epoch 44/100, Train Loss: 0.3147, Validation Loss: 0.3269, Validation Accuracy: 0.8217\n"
     ]
    },
    {
     "name": "stderr",
     "output_type": "stream",
     "text": [
      "Training Epoch 45/100: 100%|██████████| 1862/1862 [00:01<00:00, 938.82it/s]\n",
      "Validation Epoch 45/100: 100%|██████████| 466/466 [00:00<00:00, 1631.61it/s]\n"
     ]
    },
    {
     "name": "stdout",
     "output_type": "stream",
     "text": [
      "Epoch 45/100, Train Loss: 0.3151, Validation Loss: 0.3268, Validation Accuracy: 0.8220\n"
     ]
    },
    {
     "name": "stderr",
     "output_type": "stream",
     "text": [
      "Training Epoch 46/100: 100%|██████████| 1862/1862 [00:02<00:00, 907.48it/s]\n",
      "Validation Epoch 46/100: 100%|██████████| 466/466 [00:00<00:00, 1756.08it/s]\n"
     ]
    },
    {
     "name": "stdout",
     "output_type": "stream",
     "text": [
      "Epoch 46/100, Train Loss: 0.3149, Validation Loss: 0.3273, Validation Accuracy: 0.8194\n"
     ]
    },
    {
     "name": "stderr",
     "output_type": "stream",
     "text": [
      "Training Epoch 47/100: 100%|██████████| 1862/1862 [00:02<00:00, 786.42it/s]\n",
      "Validation Epoch 47/100: 100%|██████████| 466/466 [00:00<00:00, 1656.90it/s]\n"
     ]
    },
    {
     "name": "stdout",
     "output_type": "stream",
     "text": [
      "Epoch 47/100, Train Loss: 0.3147, Validation Loss: 0.3268, Validation Accuracy: 0.8211\n"
     ]
    },
    {
     "name": "stderr",
     "output_type": "stream",
     "text": [
      "Training Epoch 48/100: 100%|██████████| 1862/1862 [00:02<00:00, 858.96it/s]\n",
      "Validation Epoch 48/100: 100%|██████████| 466/466 [00:00<00:00, 1766.82it/s]\n"
     ]
    },
    {
     "name": "stdout",
     "output_type": "stream",
     "text": [
      "Epoch 48/100, Train Loss: 0.3148, Validation Loss: 0.3274, Validation Accuracy: 0.8239\n"
     ]
    },
    {
     "name": "stderr",
     "output_type": "stream",
     "text": [
      "Training Epoch 49/100: 100%|██████████| 1862/1862 [00:02<00:00, 827.44it/s]\n",
      "Validation Epoch 49/100: 100%|██████████| 466/466 [00:00<00:00, 1727.65it/s]\n"
     ]
    },
    {
     "name": "stdout",
     "output_type": "stream",
     "text": [
      "Epoch 49/100, Train Loss: 0.3142, Validation Loss: 0.3270, Validation Accuracy: 0.8227\n"
     ]
    },
    {
     "name": "stderr",
     "output_type": "stream",
     "text": [
      "Training Epoch 50/100: 100%|██████████| 1862/1862 [00:02<00:00, 908.20it/s]\n",
      "Validation Epoch 50/100: 100%|██████████| 466/466 [00:00<00:00, 1874.48it/s]\n"
     ]
    },
    {
     "name": "stdout",
     "output_type": "stream",
     "text": [
      "Epoch 50/100, Train Loss: 0.3141, Validation Loss: 0.3280, Validation Accuracy: 0.8225\n"
     ]
    },
    {
     "name": "stderr",
     "output_type": "stream",
     "text": [
      "Training Epoch 51/100: 100%|██████████| 1862/1862 [00:02<00:00, 873.75it/s]\n",
      "Validation Epoch 51/100: 100%|██████████| 466/466 [00:00<00:00, 1845.70it/s]\n"
     ]
    },
    {
     "name": "stdout",
     "output_type": "stream",
     "text": [
      "Epoch 51/100, Train Loss: 0.3143, Validation Loss: 0.3270, Validation Accuracy: 0.8189\n"
     ]
    },
    {
     "name": "stderr",
     "output_type": "stream",
     "text": [
      "Training Epoch 52/100: 100%|██████████| 1862/1862 [00:02<00:00, 917.77it/s]\n",
      "Validation Epoch 52/100: 100%|██████████| 466/466 [00:00<00:00, 1829.22it/s]\n"
     ]
    },
    {
     "name": "stdout",
     "output_type": "stream",
     "text": [
      "Epoch 52/100, Train Loss: 0.3141, Validation Loss: 0.3277, Validation Accuracy: 0.8191\n"
     ]
    },
    {
     "name": "stderr",
     "output_type": "stream",
     "text": [
      "Training Epoch 53/100: 100%|██████████| 1862/1862 [00:02<00:00, 888.30it/s]\n",
      "Validation Epoch 53/100: 100%|██████████| 466/466 [00:00<00:00, 1844.69it/s]\n"
     ]
    },
    {
     "name": "stdout",
     "output_type": "stream",
     "text": [
      "Epoch 53/100, Train Loss: 0.3137, Validation Loss: 0.3279, Validation Accuracy: 0.8215\n"
     ]
    },
    {
     "name": "stderr",
     "output_type": "stream",
     "text": [
      "Training Epoch 54/100: 100%|██████████| 1862/1862 [00:01<00:00, 932.85it/s]\n",
      "Validation Epoch 54/100: 100%|██████████| 466/466 [00:00<00:00, 1840.46it/s]\n"
     ]
    },
    {
     "name": "stdout",
     "output_type": "stream",
     "text": [
      "Epoch 54/100, Train Loss: 0.3138, Validation Loss: 0.3276, Validation Accuracy: 0.8243\n"
     ]
    },
    {
     "name": "stderr",
     "output_type": "stream",
     "text": [
      "Training Epoch 55/100: 100%|██████████| 1862/1862 [00:02<00:00, 900.85it/s]\n",
      "Validation Epoch 55/100: 100%|██████████| 466/466 [00:00<00:00, 1859.09it/s]\n"
     ]
    },
    {
     "name": "stdout",
     "output_type": "stream",
     "text": [
      "Epoch 55/100, Train Loss: 0.3136, Validation Loss: 0.3276, Validation Accuracy: 0.8215\n"
     ]
    },
    {
     "name": "stderr",
     "output_type": "stream",
     "text": [
      "Training Epoch 56/100: 100%|██████████| 1862/1862 [00:02<00:00, 867.05it/s]\n",
      "Validation Epoch 56/100: 100%|██████████| 466/466 [00:00<00:00, 1746.90it/s]\n"
     ]
    },
    {
     "name": "stdout",
     "output_type": "stream",
     "text": [
      "Epoch 56/100, Train Loss: 0.3138, Validation Loss: 0.3277, Validation Accuracy: 0.8230\n"
     ]
    },
    {
     "name": "stderr",
     "output_type": "stream",
     "text": [
      "Training Epoch 57/100: 100%|██████████| 1862/1862 [00:02<00:00, 899.96it/s]\n",
      "Validation Epoch 57/100: 100%|██████████| 466/466 [00:00<00:00, 1868.72it/s]\n"
     ]
    },
    {
     "name": "stdout",
     "output_type": "stream",
     "text": [
      "Epoch 57/100, Train Loss: 0.3132, Validation Loss: 0.3275, Validation Accuracy: 0.8214\n"
     ]
    },
    {
     "name": "stderr",
     "output_type": "stream",
     "text": [
      "Training Epoch 58/100: 100%|██████████| 1862/1862 [00:02<00:00, 902.50it/s]\n",
      "Validation Epoch 58/100: 100%|██████████| 466/466 [00:00<00:00, 1313.88it/s]\n"
     ]
    },
    {
     "name": "stdout",
     "output_type": "stream",
     "text": [
      "Epoch 58/100, Train Loss: 0.3132, Validation Loss: 0.3272, Validation Accuracy: 0.8228\n"
     ]
    },
    {
     "name": "stderr",
     "output_type": "stream",
     "text": [
      "Training Epoch 59/100: 100%|██████████| 1862/1862 [00:02<00:00, 847.86it/s]\n",
      "Validation Epoch 59/100: 100%|██████████| 466/466 [00:00<00:00, 1770.26it/s]\n"
     ]
    },
    {
     "name": "stdout",
     "output_type": "stream",
     "text": [
      "Epoch 59/100, Train Loss: 0.3129, Validation Loss: 0.3275, Validation Accuracy: 0.8212\n"
     ]
    },
    {
     "name": "stderr",
     "output_type": "stream",
     "text": [
      "Training Epoch 60/100: 100%|██████████| 1862/1862 [00:02<00:00, 894.32it/s]\n",
      "Validation Epoch 60/100: 100%|██████████| 466/466 [00:00<00:00, 1389.45it/s]\n"
     ]
    },
    {
     "name": "stdout",
     "output_type": "stream",
     "text": [
      "Epoch 60/100, Train Loss: 0.3127, Validation Loss: 0.3282, Validation Accuracy: 0.8210\n"
     ]
    },
    {
     "name": "stderr",
     "output_type": "stream",
     "text": [
      "Training Epoch 61/100: 100%|██████████| 1862/1862 [00:02<00:00, 908.49it/s]\n",
      "Validation Epoch 61/100: 100%|██████████| 466/466 [00:00<00:00, 1639.65it/s]\n"
     ]
    },
    {
     "name": "stdout",
     "output_type": "stream",
     "text": [
      "Epoch 61/100, Train Loss: 0.3129, Validation Loss: 0.3283, Validation Accuracy: 0.8218\n"
     ]
    },
    {
     "name": "stderr",
     "output_type": "stream",
     "text": [
      "Training Epoch 62/100: 100%|██████████| 1862/1862 [00:02<00:00, 872.06it/s]\n",
      "Validation Epoch 62/100: 100%|██████████| 466/466 [00:00<00:00, 1679.92it/s]\n"
     ]
    },
    {
     "name": "stdout",
     "output_type": "stream",
     "text": [
      "Epoch 62/100, Train Loss: 0.3125, Validation Loss: 0.3281, Validation Accuracy: 0.8225\n"
     ]
    },
    {
     "name": "stderr",
     "output_type": "stream",
     "text": [
      "Training Epoch 63/100: 100%|██████████| 1862/1862 [00:02<00:00, 865.20it/s]\n",
      "Validation Epoch 63/100: 100%|██████████| 466/466 [00:00<00:00, 1761.71it/s]\n"
     ]
    },
    {
     "name": "stdout",
     "output_type": "stream",
     "text": [
      "Epoch 63/100, Train Loss: 0.3125, Validation Loss: 0.3274, Validation Accuracy: 0.8223\n"
     ]
    },
    {
     "name": "stderr",
     "output_type": "stream",
     "text": [
      "Training Epoch 64/100: 100%|██████████| 1862/1862 [00:01<00:00, 954.71it/s]\n",
      "Validation Epoch 64/100: 100%|██████████| 466/466 [00:00<00:00, 1849.90it/s]\n"
     ]
    },
    {
     "name": "stdout",
     "output_type": "stream",
     "text": [
      "Epoch 64/100, Train Loss: 0.3126, Validation Loss: 0.3277, Validation Accuracy: 0.8227\n"
     ]
    },
    {
     "name": "stderr",
     "output_type": "stream",
     "text": [
      "Training Epoch 65/100: 100%|██████████| 1862/1862 [00:02<00:00, 923.65it/s]\n",
      "Validation Epoch 65/100: 100%|██████████| 466/466 [00:00<00:00, 1746.47it/s]\n"
     ]
    },
    {
     "name": "stdout",
     "output_type": "stream",
     "text": [
      "Epoch 65/100, Train Loss: 0.3125, Validation Loss: 0.3276, Validation Accuracy: 0.8213\n"
     ]
    },
    {
     "name": "stderr",
     "output_type": "stream",
     "text": [
      "Training Epoch 66/100: 100%|██████████| 1862/1862 [00:02<00:00, 900.08it/s]\n",
      "Validation Epoch 66/100: 100%|██████████| 466/466 [00:00<00:00, 1773.80it/s]\n"
     ]
    },
    {
     "name": "stdout",
     "output_type": "stream",
     "text": [
      "Epoch 66/100, Train Loss: 0.3126, Validation Loss: 0.3279, Validation Accuracy: 0.8236\n"
     ]
    },
    {
     "name": "stderr",
     "output_type": "stream",
     "text": [
      "Training Epoch 67/100: 100%|██████████| 1862/1862 [00:01<00:00, 935.50it/s]\n",
      "Validation Epoch 67/100: 100%|██████████| 466/466 [00:00<00:00, 1792.56it/s]\n"
     ]
    },
    {
     "name": "stdout",
     "output_type": "stream",
     "text": [
      "Epoch 67/100, Train Loss: 0.3121, Validation Loss: 0.3279, Validation Accuracy: 0.8220\n"
     ]
    },
    {
     "name": "stderr",
     "output_type": "stream",
     "text": [
      "Training Epoch 68/100: 100%|██████████| 1862/1862 [00:01<00:00, 954.61it/s]\n",
      "Validation Epoch 68/100: 100%|██████████| 466/466 [00:00<00:00, 1567.69it/s]\n"
     ]
    },
    {
     "name": "stdout",
     "output_type": "stream",
     "text": [
      "Epoch 68/100, Train Loss: 0.3120, Validation Loss: 0.3280, Validation Accuracy: 0.8188\n"
     ]
    },
    {
     "name": "stderr",
     "output_type": "stream",
     "text": [
      "Training Epoch 69/100: 100%|██████████| 1862/1862 [00:02<00:00, 913.55it/s]\n",
      "Validation Epoch 69/100: 100%|██████████| 466/466 [00:00<00:00, 1761.62it/s]\n"
     ]
    },
    {
     "name": "stdout",
     "output_type": "stream",
     "text": [
      "Epoch 69/100, Train Loss: 0.3121, Validation Loss: 0.3285, Validation Accuracy: 0.8204\n"
     ]
    },
    {
     "name": "stderr",
     "output_type": "stream",
     "text": [
      "Training Epoch 70/100: 100%|██████████| 1862/1862 [00:02<00:00, 916.25it/s]\n",
      "Validation Epoch 70/100: 100%|██████████| 466/466 [00:00<00:00, 1741.20it/s]\n"
     ]
    },
    {
     "name": "stdout",
     "output_type": "stream",
     "text": [
      "Epoch 70/100, Train Loss: 0.3118, Validation Loss: 0.3281, Validation Accuracy: 0.8221\n"
     ]
    },
    {
     "name": "stderr",
     "output_type": "stream",
     "text": [
      "Training Epoch 71/100: 100%|██████████| 1862/1862 [00:02<00:00, 914.65it/s]\n",
      "Validation Epoch 71/100: 100%|██████████| 466/466 [00:00<00:00, 1762.32it/s]\n"
     ]
    },
    {
     "name": "stdout",
     "output_type": "stream",
     "text": [
      "Epoch 71/100, Train Loss: 0.3118, Validation Loss: 0.3282, Validation Accuracy: 0.8205\n"
     ]
    },
    {
     "name": "stderr",
     "output_type": "stream",
     "text": [
      "Training Epoch 72/100: 100%|██████████| 1862/1862 [00:01<00:00, 947.58it/s]\n",
      "Validation Epoch 72/100: 100%|██████████| 466/466 [00:00<00:00, 1720.44it/s]\n"
     ]
    },
    {
     "name": "stdout",
     "output_type": "stream",
     "text": [
      "Epoch 72/100, Train Loss: 0.3116, Validation Loss: 0.3283, Validation Accuracy: 0.8200\n"
     ]
    },
    {
     "name": "stderr",
     "output_type": "stream",
     "text": [
      "Training Epoch 73/100: 100%|██████████| 1862/1862 [00:01<00:00, 933.48it/s]\n",
      "Validation Epoch 73/100: 100%|██████████| 466/466 [00:00<00:00, 1830.79it/s]\n"
     ]
    },
    {
     "name": "stdout",
     "output_type": "stream",
     "text": [
      "Epoch 73/100, Train Loss: 0.3115, Validation Loss: 0.3282, Validation Accuracy: 0.8213\n"
     ]
    },
    {
     "name": "stderr",
     "output_type": "stream",
     "text": [
      "Training Epoch 74/100: 100%|██████████| 1862/1862 [00:02<00:00, 865.76it/s]\n",
      "Validation Epoch 74/100: 100%|██████████| 466/466 [00:00<00:00, 1761.32it/s]\n"
     ]
    },
    {
     "name": "stdout",
     "output_type": "stream",
     "text": [
      "Epoch 74/100, Train Loss: 0.3115, Validation Loss: 0.3282, Validation Accuracy: 0.8200\n"
     ]
    },
    {
     "name": "stderr",
     "output_type": "stream",
     "text": [
      "Training Epoch 75/100: 100%|██████████| 1862/1862 [00:02<00:00, 867.67it/s]\n",
      "Validation Epoch 75/100: 100%|██████████| 466/466 [00:00<00:00, 1628.15it/s]\n"
     ]
    },
    {
     "name": "stdout",
     "output_type": "stream",
     "text": [
      "Epoch 75/100, Train Loss: 0.3112, Validation Loss: 0.3281, Validation Accuracy: 0.8219\n"
     ]
    },
    {
     "name": "stderr",
     "output_type": "stream",
     "text": [
      "Training Epoch 76/100: 100%|██████████| 1862/1862 [00:02<00:00, 854.34it/s]\n",
      "Validation Epoch 76/100: 100%|██████████| 466/466 [00:00<00:00, 1641.13it/s]\n"
     ]
    },
    {
     "name": "stdout",
     "output_type": "stream",
     "text": [
      "Epoch 76/100, Train Loss: 0.3113, Validation Loss: 0.3277, Validation Accuracy: 0.8216\n"
     ]
    },
    {
     "name": "stderr",
     "output_type": "stream",
     "text": [
      "Training Epoch 77/100: 100%|██████████| 1862/1862 [00:02<00:00, 887.10it/s]\n",
      "Validation Epoch 77/100: 100%|██████████| 466/466 [00:00<00:00, 1552.45it/s]\n"
     ]
    },
    {
     "name": "stdout",
     "output_type": "stream",
     "text": [
      "Epoch 77/100, Train Loss: 0.3113, Validation Loss: 0.3279, Validation Accuracy: 0.8222\n"
     ]
    },
    {
     "name": "stderr",
     "output_type": "stream",
     "text": [
      "Training Epoch 78/100: 100%|██████████| 1862/1862 [00:02<00:00, 894.00it/s]\n",
      "Validation Epoch 78/100: 100%|██████████| 466/466 [00:00<00:00, 1637.39it/s]\n"
     ]
    },
    {
     "name": "stdout",
     "output_type": "stream",
     "text": [
      "Epoch 78/100, Train Loss: 0.3108, Validation Loss: 0.3280, Validation Accuracy: 0.8203\n"
     ]
    },
    {
     "name": "stderr",
     "output_type": "stream",
     "text": [
      "Training Epoch 79/100: 100%|██████████| 1862/1862 [00:02<00:00, 842.70it/s]\n",
      "Validation Epoch 79/100: 100%|██████████| 466/466 [00:00<00:00, 822.03it/s]\n"
     ]
    },
    {
     "name": "stdout",
     "output_type": "stream",
     "text": [
      "Epoch 79/100, Train Loss: 0.3114, Validation Loss: 0.3291, Validation Accuracy: 0.8202\n"
     ]
    },
    {
     "name": "stderr",
     "output_type": "stream",
     "text": [
      "Training Epoch 80/100: 100%|██████████| 1862/1862 [00:02<00:00, 645.82it/s]\n",
      "Validation Epoch 80/100: 100%|██████████| 466/466 [00:00<00:00, 1842.08it/s]\n"
     ]
    },
    {
     "name": "stdout",
     "output_type": "stream",
     "text": [
      "Epoch 80/100, Train Loss: 0.3111, Validation Loss: 0.3281, Validation Accuracy: 0.8218\n"
     ]
    },
    {
     "name": "stderr",
     "output_type": "stream",
     "text": [
      "Training Epoch 81/100: 100%|██████████| 1862/1862 [00:02<00:00, 852.47it/s]\n",
      "Validation Epoch 81/100: 100%|██████████| 466/466 [00:00<00:00, 1867.99it/s]\n"
     ]
    },
    {
     "name": "stdout",
     "output_type": "stream",
     "text": [
      "Epoch 81/100, Train Loss: 0.3109, Validation Loss: 0.3282, Validation Accuracy: 0.8229\n"
     ]
    },
    {
     "name": "stderr",
     "output_type": "stream",
     "text": [
      "Training Epoch 82/100: 100%|██████████| 1862/1862 [00:02<00:00, 895.79it/s]\n",
      "Validation Epoch 82/100: 100%|██████████| 466/466 [00:00<00:00, 1823.42it/s]\n"
     ]
    },
    {
     "name": "stdout",
     "output_type": "stream",
     "text": [
      "Epoch 82/100, Train Loss: 0.3107, Validation Loss: 0.3290, Validation Accuracy: 0.8215\n"
     ]
    },
    {
     "name": "stderr",
     "output_type": "stream",
     "text": [
      "Training Epoch 83/100: 100%|██████████| 1862/1862 [00:02<00:00, 811.18it/s]\n",
      "Validation Epoch 83/100: 100%|██████████| 466/466 [00:00<00:00, 1842.46it/s]\n"
     ]
    },
    {
     "name": "stdout",
     "output_type": "stream",
     "text": [
      "Epoch 83/100, Train Loss: 0.3106, Validation Loss: 0.3289, Validation Accuracy: 0.8229\n"
     ]
    },
    {
     "name": "stderr",
     "output_type": "stream",
     "text": [
      "Training Epoch 84/100: 100%|██████████| 1862/1862 [00:02<00:00, 874.06it/s]\n",
      "Validation Epoch 84/100: 100%|██████████| 466/466 [00:00<00:00, 1946.70it/s]\n"
     ]
    },
    {
     "name": "stdout",
     "output_type": "stream",
     "text": [
      "Epoch 84/100, Train Loss: 0.3107, Validation Loss: 0.3281, Validation Accuracy: 0.8217\n"
     ]
    },
    {
     "name": "stderr",
     "output_type": "stream",
     "text": [
      "Training Epoch 85/100: 100%|██████████| 1862/1862 [00:02<00:00, 924.89it/s]\n",
      "Validation Epoch 85/100: 100%|██████████| 466/466 [00:00<00:00, 1744.77it/s]\n"
     ]
    },
    {
     "name": "stdout",
     "output_type": "stream",
     "text": [
      "Epoch 85/100, Train Loss: 0.3108, Validation Loss: 0.3275, Validation Accuracy: 0.8215\n"
     ]
    },
    {
     "name": "stderr",
     "output_type": "stream",
     "text": [
      "Training Epoch 86/100: 100%|██████████| 1862/1862 [00:02<00:00, 844.85it/s]\n",
      "Validation Epoch 86/100: 100%|██████████| 466/466 [00:00<00:00, 1627.72it/s]\n"
     ]
    },
    {
     "name": "stdout",
     "output_type": "stream",
     "text": [
      "Epoch 86/100, Train Loss: 0.3104, Validation Loss: 0.3281, Validation Accuracy: 0.8235\n"
     ]
    },
    {
     "name": "stderr",
     "output_type": "stream",
     "text": [
      "Training Epoch 87/100: 100%|██████████| 1862/1862 [00:02<00:00, 927.32it/s]\n",
      "Validation Epoch 87/100: 100%|██████████| 466/466 [00:00<00:00, 1714.08it/s]\n"
     ]
    },
    {
     "name": "stdout",
     "output_type": "stream",
     "text": [
      "Epoch 87/100, Train Loss: 0.3106, Validation Loss: 0.3277, Validation Accuracy: 0.8218\n"
     ]
    },
    {
     "name": "stderr",
     "output_type": "stream",
     "text": [
      "Training Epoch 88/100: 100%|██████████| 1862/1862 [00:02<00:00, 726.23it/s]\n",
      "Validation Epoch 88/100: 100%|██████████| 466/466 [00:00<00:00, 1990.31it/s]\n"
     ]
    },
    {
     "name": "stdout",
     "output_type": "stream",
     "text": [
      "Epoch 88/100, Train Loss: 0.3103, Validation Loss: 0.3282, Validation Accuracy: 0.8215\n"
     ]
    },
    {
     "name": "stderr",
     "output_type": "stream",
     "text": [
      "Training Epoch 89/100: 100%|██████████| 1862/1862 [00:02<00:00, 921.08it/s]\n",
      "Validation Epoch 89/100: 100%|██████████| 466/466 [00:00<00:00, 1889.03it/s]\n"
     ]
    },
    {
     "name": "stdout",
     "output_type": "stream",
     "text": [
      "Epoch 89/100, Train Loss: 0.3101, Validation Loss: 0.3280, Validation Accuracy: 0.8237\n"
     ]
    },
    {
     "name": "stderr",
     "output_type": "stream",
     "text": [
      "Training Epoch 90/100: 100%|██████████| 1862/1862 [00:02<00:00, 909.10it/s]\n",
      "Validation Epoch 90/100: 100%|██████████| 466/466 [00:00<00:00, 1852.22it/s]\n"
     ]
    },
    {
     "name": "stdout",
     "output_type": "stream",
     "text": [
      "Epoch 90/100, Train Loss: 0.3103, Validation Loss: 0.3287, Validation Accuracy: 0.8228\n"
     ]
    },
    {
     "name": "stderr",
     "output_type": "stream",
     "text": [
      "Training Epoch 91/100: 100%|██████████| 1862/1862 [00:02<00:00, 857.04it/s]\n",
      "Validation Epoch 91/100: 100%|██████████| 466/466 [00:00<00:00, 1579.56it/s]\n"
     ]
    },
    {
     "name": "stdout",
     "output_type": "stream",
     "text": [
      "Epoch 91/100, Train Loss: 0.3098, Validation Loss: 0.3278, Validation Accuracy: 0.8229\n"
     ]
    },
    {
     "name": "stderr",
     "output_type": "stream",
     "text": [
      "Training Epoch 92/100: 100%|██████████| 1862/1862 [00:02<00:00, 864.48it/s]\n",
      "Validation Epoch 92/100: 100%|██████████| 466/466 [00:00<00:00, 1769.97it/s]\n"
     ]
    },
    {
     "name": "stdout",
     "output_type": "stream",
     "text": [
      "Epoch 92/100, Train Loss: 0.3099, Validation Loss: 0.3287, Validation Accuracy: 0.8200\n"
     ]
    },
    {
     "name": "stderr",
     "output_type": "stream",
     "text": [
      "Training Epoch 93/100: 100%|██████████| 1862/1862 [00:02<00:00, 908.30it/s]\n",
      "Validation Epoch 93/100: 100%|██████████| 466/466 [00:00<00:00, 1752.49it/s]\n"
     ]
    },
    {
     "name": "stdout",
     "output_type": "stream",
     "text": [
      "Epoch 93/100, Train Loss: 0.3098, Validation Loss: 0.3286, Validation Accuracy: 0.8239\n"
     ]
    },
    {
     "name": "stderr",
     "output_type": "stream",
     "text": [
      "Training Epoch 94/100: 100%|██████████| 1862/1862 [00:02<00:00, 867.49it/s]\n",
      "Validation Epoch 94/100: 100%|██████████| 466/466 [00:00<00:00, 1958.95it/s]\n"
     ]
    },
    {
     "name": "stdout",
     "output_type": "stream",
     "text": [
      "Epoch 94/100, Train Loss: 0.3098, Validation Loss: 0.3280, Validation Accuracy: 0.8227\n"
     ]
    },
    {
     "name": "stderr",
     "output_type": "stream",
     "text": [
      "Training Epoch 95/100: 100%|██████████| 1862/1862 [00:02<00:00, 877.89it/s]\n",
      "Validation Epoch 95/100: 100%|██████████| 466/466 [00:00<00:00, 2025.48it/s]\n"
     ]
    },
    {
     "name": "stdout",
     "output_type": "stream",
     "text": [
      "Epoch 95/100, Train Loss: 0.3098, Validation Loss: 0.3282, Validation Accuracy: 0.8235\n"
     ]
    },
    {
     "name": "stderr",
     "output_type": "stream",
     "text": [
      "Training Epoch 96/100: 100%|██████████| 1862/1862 [00:02<00:00, 860.19it/s]\n",
      "Validation Epoch 96/100: 100%|██████████| 466/466 [00:00<00:00, 1976.46it/s]\n"
     ]
    },
    {
     "name": "stdout",
     "output_type": "stream",
     "text": [
      "Epoch 96/100, Train Loss: 0.3099, Validation Loss: 0.3280, Validation Accuracy: 0.8211\n"
     ]
    },
    {
     "name": "stderr",
     "output_type": "stream",
     "text": [
      "Training Epoch 97/100: 100%|██████████| 1862/1862 [00:02<00:00, 900.97it/s]\n",
      "Validation Epoch 97/100: 100%|██████████| 466/466 [00:00<00:00, 1657.18it/s]\n"
     ]
    },
    {
     "name": "stdout",
     "output_type": "stream",
     "text": [
      "Epoch 97/100, Train Loss: 0.3096, Validation Loss: 0.3280, Validation Accuracy: 0.8233\n"
     ]
    },
    {
     "name": "stderr",
     "output_type": "stream",
     "text": [
      "Training Epoch 98/100: 100%|██████████| 1862/1862 [00:02<00:00, 754.75it/s]\n",
      "Validation Epoch 98/100: 100%|██████████| 466/466 [00:00<00:00, 1718.33it/s]\n"
     ]
    },
    {
     "name": "stdout",
     "output_type": "stream",
     "text": [
      "Epoch 98/100, Train Loss: 0.3098, Validation Loss: 0.3286, Validation Accuracy: 0.8233\n"
     ]
    },
    {
     "name": "stderr",
     "output_type": "stream",
     "text": [
      "Training Epoch 99/100: 100%|██████████| 1862/1862 [00:02<00:00, 892.84it/s]\n",
      "Validation Epoch 99/100: 100%|██████████| 466/466 [00:00<00:00, 1490.67it/s]\n"
     ]
    },
    {
     "name": "stdout",
     "output_type": "stream",
     "text": [
      "Epoch 99/100, Train Loss: 0.3094, Validation Loss: 0.3286, Validation Accuracy: 0.8241\n"
     ]
    },
    {
     "name": "stderr",
     "output_type": "stream",
     "text": [
      "Training Epoch 100/100: 100%|██████████| 1862/1862 [00:02<00:00, 871.55it/s]\n",
      "Validation Epoch 100/100: 100%|██████████| 466/466 [00:00<00:00, 1784.68it/s]"
     ]
    },
    {
     "name": "stdout",
     "output_type": "stream",
     "text": [
      "Epoch 100/100, Train Loss: 0.3093, Validation Loss: 0.3275, Validation Accuracy: 0.8236\n",
      "Training complete\n"
     ]
    },
    {
     "name": "stderr",
     "output_type": "stream",
     "text": [
      "\n"
     ]
    }
   ],
   "source": [
    "# Training the model\n",
    "num_epochs = 100\n",
    "train_losses = []\n",
    "val_losses = []\n",
    "val_accuracies = []\n",
    "\n",
    "for epoch in range(num_epochs):\n",
    "    model.train()\n",
    "    running_loss = 0.0\n",
    "    \n",
    "    # Training loop with tqdm\n",
    "    for inputs, labels in tqdm(train_loader, desc=f\"Training Epoch {epoch+1}/{num_epochs}\"):\n",
    "        optimizer.zero_grad()\n",
    "        outputs = model(inputs)\n",
    "        loss = criterion(outputs, labels)\n",
    "        loss.backward()\n",
    "        optimizer.step()\n",
    "        running_loss += loss.item() * inputs.size(0)\n",
    "    \n",
    "    epoch_loss = running_loss / len(train_loader.dataset)\n",
    "    train_losses.append(epoch_loss)\n",
    "    \n",
    "    # Validation\n",
    "    model.eval()\n",
    "    val_loss = 0.0\n",
    "    correct = 0\n",
    "    \n",
    "    # Validation loop with tqdm\n",
    "    with torch.no_grad():\n",
    "        for inputs, labels in tqdm(val_loader, desc=f\"Validation Epoch {epoch+1}/{num_epochs}\"):\n",
    "            outputs = model(inputs)\n",
    "            loss = criterion(outputs, labels)\n",
    "            val_loss += loss.item() * inputs.size(0)\n",
    "            _, predicted = torch.max(outputs, 1)\n",
    "            correct += (predicted == labels).sum().item()\n",
    "    \n",
    "    val_loss /= len(val_loader.dataset)\n",
    "    val_losses.append(val_loss)\n",
    "    val_accuracy = correct / len(val_loader.dataset)\n",
    "    val_accuracies.append(val_accuracy)\n",
    "    \n",
    "    print(f'Epoch {epoch+1}/{num_epochs}, Train Loss: {epoch_loss:.4f}, Validation Loss: {val_loss:.4f}, Validation Accuracy: {val_accuracy:.4f}')\n",
    "\n",
    "print(\"Training complete\")"
   ]
  },
  {
   "cell_type": "code",
   "execution_count": 13,
   "metadata": {},
   "outputs": [
    {
     "data": {
      "image/png": "[encoded data removed]",
      "text/plain": [
       "<Figure size 1800x500 with 3 Axes>"
      ]
     },
     "metadata": {},
     "output_type": "display_data"
    }
   ],
   "source": [
    "# Plotting the results\n",
    "fig, (ax1, ax2, ax3) = plt.subplots(1, 3, figsize=(18, 5))\n",
    "\n",
    "# Plot train loss\n",
    "ax1.plot(train_losses, label='Train Loss')\n",
    "ax1.set_title('Training Loss')\n",
    "ax1.set_xlabel('Epochs')\n",
    "ax1.set_ylabel('Loss')\n",
    "ax1.legend()\n",
    "\n",
    "# Plot validation loss\n",
    "ax2.plot(val_losses, label='Validation Loss', color='orange')\n",
    "ax2.set_title('Validation Loss')\n",
    "ax2.set_xlabel('Epochs')\n",
    "ax2.set_ylabel('Loss')\n",
    "ax2.legend()\n",
    "\n",
    "# Plot validation accuracy\n",
    "ax3.plot(val_accuracies, label='Validation Accuracy', color='green')\n",
    "ax3.set_title('Validation Accuracy')\n",
    "ax3.set_xlabel('Epochs')\n",
    "ax3.set_ylabel('Accuracy')\n",
    "ax3.legend()\n",
    "\n",
    "plt.show()"
   ]
  }
 ],
 "metadata": {
  "kernelspec": {
   "display_name": "Python 3",
   "language": "python",
   "name": "python3"
  },
  "language_info": {
   "codemirror_mode": {
    "name": "ipython",
    "version": 3
   },
   "file_extension": ".py",
   "mimetype": "text/x-python",
   "name": "python",
   "nbconvert_exporter": "python",
   "pygments_lexer": "ipython3",
   "version": "3.11.4"
  }
 },
 "nbformat": 4,
 "nbformat_minor": 2
}
