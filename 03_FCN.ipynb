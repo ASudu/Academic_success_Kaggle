{
 "cells": [
  {
   "cell_type": "markdown",
   "metadata": {},
   "source": [
    "# Train an FCN for the classification problem\n",
    "\n",
    "Architecture:\n",
    "- Input layer: `50` neurons corresponding to the 50 features in train data\n",
    "- Hidden layers:\n",
    "    - First with `35` neurons\n",
    "    - Next with `20` neurons\n",
    "- Output layer: `3` neurons corresponding to 3 output classes\n",
    "\n",
    "Loss function: Weighted cross entropy loss due to class imbalance\n",
    "Optimizer: SGD"
   ]
  },
  {
   "cell_type": "code",
   "execution_count": 1,
   "metadata": {},
   "outputs": [],
   "source": [
    "from FCN import Net\n",
    "import torch\n",
    "import torch.nn as nn\n",
    "import torch.optim as optim\n",
    "from torch.utils.data import DataLoader, TensorDataset\n",
    "from sklearn.model_selection import train_test_split\n",
    "from sklearn.preprocessing import StandardScaler\n",
    "import numpy as np\n",
    "import pandas as pd\n",
    "import matplotlib.pyplot as plt\n",
    "from tqdm import tqdm"
   ]
  },
  {
   "cell_type": "code",
   "execution_count": 2,
   "metadata": {},
   "outputs": [
    {
     "data": {
      "text/plain": [
       "((75018, 53),\n",
       " Index(['id', 'marital_status', 'appln_mode', 'appln_order', 'prog_of_study',\n",
       "        'morn/eve_attend', 'prev_edu', 'prev_edu_grade', 'nationality',\n",
       "        'mom_edu', 'dad_edu', 'mom_occup', 'admission_grade', 'was_displaced',\n",
       "        'edu_spl_need', 'has_student_debt', 'no_fee_dues', 'gender',\n",
       "        'got_scholarship', 'age_at_start', 'sem1_units_credited',\n",
       "        'sem1_units_enrolled', 'sem1_units_eval', 'sem1_units_approved',\n",
       "        'sem1_units_grade', 'sem1_units_no_eval', 'sem2_units_credited',\n",
       "        'sem2_units_enrolled', 'sem2_units_eval', 'sem2_units_approved',\n",
       "        'sem2_units_grade', 'sem2_units_no_eval', 'unemployment_rate',\n",
       "        'inflation', 'gdp', 'Target', 'marital_status_log', 'appln_order_log',\n",
       "        'prog_of_study_log', 'morn/eve_attend_log', 'prev_edu_log',\n",
       "        'mom_occup_log', 'edu_spl_need_log', 'has_student_debt_log',\n",
       "        'no_fee_dues_log', 'got_scholarship_log', 'age_at_start_log',\n",
       "        'sem1_units_credited_log', 'sem1_units_grade_log',\n",
       "        'sem1_units_no_eval_log', 'sem2_units_credited_log',\n",
       "        'sem2_units_grade_log', 'sem2_units_no_eval_log'],\n",
       "       dtype='object'),\n",
       " ['sem2_units_approved',\n",
       "  'no_fee_dues',\n",
       "  'got_scholarship',\n",
       "  'sem2_units_enrolled',\n",
       "  'sem2_units_eval',\n",
       "  'admission_grade',\n",
       "  'prog_of_study',\n",
       "  'sem1_units_eval',\n",
       "  'prev_edu_grade',\n",
       "  'was_displaced',\n",
       "  'appln_order_log',\n",
       "  'morn/eve_attend',\n",
       "  'gdp',\n",
       "  'marital_status_log',\n",
       "  'has_student_debt',\n",
       "  'appln_mode',\n",
       "  'gender',\n",
       "  'age_at_start'])"
      ]
     },
     "execution_count": 2,
     "metadata": {},
     "output_type": "execute_result"
    }
   ],
   "source": [
    "# Data\n",
    "df = pd.read_csv('data/cleaned_train.csv')\n",
    "feats = []\n",
    "with open('data/features.txt','r') as f:\n",
    "    feats = [x[:-1] for x in f.readlines()]\n",
    "df.shape, df.columns, feats"
   ]
  },
  {
   "cell_type": "code",
   "execution_count": 3,
   "metadata": {},
   "outputs": [
    {
     "data": {
      "text/plain": [
       "{'Graduate': 36603, 'Dropout': 23669, 'Enrolled': 14746}"
      ]
     },
     "execution_count": 3,
     "metadata": {},
     "output_type": "execute_result"
    }
   ],
   "source": [
    "val_counts = dict(df['Target'].value_counts())\n",
    "val_counts"
   ]
  },
  {
   "cell_type": "markdown",
   "metadata": {},
   "source": [
    "Based on this, we assign `0` as `Graduate`, `1` as `Droupout`, `2` as `Enrolled`."
   ]
  },
  {
   "cell_type": "code",
   "execution_count": 4,
   "metadata": {},
   "outputs": [
    {
     "data": {
      "text/plain": [
       "array([0, 1, 2], dtype=int64)"
      ]
     },
     "execution_count": 4,
     "metadata": {},
     "output_type": "execute_result"
    }
   ],
   "source": [
    "df['Target_enc'] = df['Target'].apply(lambda x: {'Graduate': 0, 'Dropout': 1, 'Enrolled': 2}[x])\n",
    "df['Target_enc'].unique()"
   ]
  },
  {
   "cell_type": "code",
   "execution_count": 5,
   "metadata": {},
   "outputs": [
    {
     "data": {
      "text/plain": [
       "50"
      ]
     },
     "execution_count": 5,
     "metadata": {},
     "output_type": "execute_result"
    }
   ],
   "source": [
    "# Data\n",
    "X,y = df.drop(columns=['Target','Target_enc','id','nationality']).values, df['Target_enc'].values\n",
    "\n",
    "X_train, X_val, y_train, y_val = train_test_split(X, y, test_size=0.2, random_state=42)\n",
    "X.shape[1]"
   ]
  },
  {
   "cell_type": "code",
   "execution_count": 6,
   "metadata": {},
   "outputs": [],
   "source": [
    "# Standardize the features\n",
    "scaler = StandardScaler()\n",
    "X_train = scaler.fit_transform(X_train)\n",
    "X_val = scaler.transform(X_val)"
   ]
  },
  {
   "cell_type": "code",
   "execution_count": 7,
   "metadata": {},
   "outputs": [],
   "source": [
    "# Convert to PyTorch tensors\n",
    "X_train = torch.tensor(X_train, dtype=torch.float32)\n",
    "y_train = torch.tensor(y_train, dtype=torch.long)\n",
    "X_val = torch.tensor(X_val, dtype=torch.float32)\n",
    "y_val = torch.tensor(y_val, dtype=torch.long)"
   ]
  },
  {
   "cell_type": "code",
   "execution_count": 8,
   "metadata": {},
   "outputs": [],
   "source": [
    "# Create DataLoader\n",
    "train_dataset = TensorDataset(X_train, y_train)\n",
    "val_dataset = TensorDataset(X_val, y_val)\n",
    "train_loader = DataLoader(train_dataset, batch_size=32, shuffle=True)\n",
    "val_loader = DataLoader(val_dataset, batch_size=32)"
   ]
  },
  {
   "cell_type": "code",
   "execution_count": 9,
   "metadata": {},
   "outputs": [],
   "source": [
    "# Instantiate the model, define the optimizer and the loss function\n",
    "model = Net()\n",
    "optimizer = optim.AdamW(params=model.parameters(), lr=1e-4)"
   ]
  },
  {
   "cell_type": "markdown",
   "metadata": {},
   "source": [
    "Class weights"
   ]
  },
  {
   "cell_type": "code",
   "execution_count": 10,
   "metadata": {},
   "outputs": [
    {
     "data": {
      "text/plain": [
       "[1.0, 0.6466409857115537, 0.4028631532934459]"
      ]
     },
     "execution_count": 10,
     "metadata": {},
     "output_type": "execute_result"
    }
   ],
   "source": [
    "weights = [1.0, val_counts['Dropout']/val_counts['Graduate'], val_counts['Enrolled']/val_counts['Graduate']]\n",
    "weights"
   ]
  },
  {
   "cell_type": "code",
   "execution_count": 11,
   "metadata": {},
   "outputs": [],
   "source": [
    "# Define class weights\n",
    "class_weights = torch.tensor(weights, dtype=torch.float32)  # Example weights\n",
    "criterion = nn.CrossEntropyLoss(weight=class_weights)"
   ]
  },
  {
   "cell_type": "code",
   "execution_count": 12,
   "metadata": {},
   "outputs": [
    {
     "name": "stderr",
     "output_type": "stream",
     "text": [
      "Training Epoch 1/100: 100%|██████████| 1876/1876 [00:02<00:00, 794.37it/s]\n",
      "Validation Epoch 1/100: 100%|██████████| 469/469 [00:00<00:00, 1783.07it/s]\n"
     ]
    },
    {
     "name": "stdout",
     "output_type": "stream",
     "text": [
      "Epoch 1/100, Train Loss: 0.5555, Validation Loss: 0.3990, Validation Accuracy: 0.7537\n"
     ]
    },
    {
     "name": "stderr",
     "output_type": "stream",
     "text": [
      "Training Epoch 2/100: 100%|██████████| 1876/1876 [00:02<00:00, 852.38it/s]\n",
      "Validation Epoch 2/100: 100%|██████████| 469/469 [00:00<00:00, 1739.03it/s]\n"
     ]
    },
    {
     "name": "stdout",
     "output_type": "stream",
     "text": [
      "Epoch 2/100, Train Loss: 0.3707, Validation Loss: 0.3679, Validation Accuracy: 0.7945\n"
     ]
    },
    {
     "name": "stderr",
     "output_type": "stream",
     "text": [
      "Training Epoch 3/100: 100%|██████████| 1876/1876 [00:02<00:00, 859.95it/s]\n",
      "Validation Epoch 3/100: 100%|██████████| 469/469 [00:00<00:00, 1680.15it/s]\n"
     ]
    },
    {
     "name": "stdout",
     "output_type": "stream",
     "text": [
      "Epoch 3/100, Train Loss: 0.3517, Validation Loss: 0.3579, Validation Accuracy: 0.8057\n"
     ]
    },
    {
     "name": "stderr",
     "output_type": "stream",
     "text": [
      "Training Epoch 4/100: 100%|██████████| 1876/1876 [00:02<00:00, 858.26it/s]\n",
      "Validation Epoch 4/100: 100%|██████████| 469/469 [00:00<00:00, 1787.10it/s]\n"
     ]
    },
    {
     "name": "stdout",
     "output_type": "stream",
     "text": [
      "Epoch 4/100, Train Loss: 0.3439, Validation Loss: 0.3517, Validation Accuracy: 0.8111\n"
     ]
    },
    {
     "name": "stderr",
     "output_type": "stream",
     "text": [
      "Training Epoch 5/100: 100%|██████████| 1876/1876 [00:02<00:00, 842.81it/s]\n",
      "Validation Epoch 5/100: 100%|██████████| 469/469 [00:00<00:00, 1747.94it/s]\n"
     ]
    },
    {
     "name": "stdout",
     "output_type": "stream",
     "text": [
      "Epoch 5/100, Train Loss: 0.3387, Validation Loss: 0.3478, Validation Accuracy: 0.8136\n"
     ]
    },
    {
     "name": "stderr",
     "output_type": "stream",
     "text": [
      "Training Epoch 6/100: 100%|██████████| 1876/1876 [00:02<00:00, 836.17it/s]\n",
      "Validation Epoch 6/100: 100%|██████████| 469/469 [00:00<00:00, 1737.43it/s]\n"
     ]
    },
    {
     "name": "stdout",
     "output_type": "stream",
     "text": [
      "Epoch 6/100, Train Loss: 0.3352, Validation Loss: 0.3449, Validation Accuracy: 0.8150\n"
     ]
    },
    {
     "name": "stderr",
     "output_type": "stream",
     "text": [
      "Training Epoch 7/100: 100%|██████████| 1876/1876 [00:02<00:00, 883.06it/s]\n",
      "Validation Epoch 7/100: 100%|██████████| 469/469 [00:00<00:00, 1790.34it/s]\n"
     ]
    },
    {
     "name": "stdout",
     "output_type": "stream",
     "text": [
      "Epoch 7/100, Train Loss: 0.3327, Validation Loss: 0.3427, Validation Accuracy: 0.8160\n"
     ]
    },
    {
     "name": "stderr",
     "output_type": "stream",
     "text": [
      "Training Epoch 8/100: 100%|██████████| 1876/1876 [00:02<00:00, 840.98it/s]\n",
      "Validation Epoch 8/100: 100%|██████████| 469/469 [00:00<00:00, 1773.07it/s]\n"
     ]
    },
    {
     "name": "stdout",
     "output_type": "stream",
     "text": [
      "Epoch 8/100, Train Loss: 0.3305, Validation Loss: 0.3412, Validation Accuracy: 0.8185\n"
     ]
    },
    {
     "name": "stderr",
     "output_type": "stream",
     "text": [
      "Training Epoch 9/100: 100%|██████████| 1876/1876 [00:02<00:00, 844.91it/s]\n",
      "Validation Epoch 9/100: 100%|██████████| 469/469 [00:00<00:00, 1626.30it/s]\n"
     ]
    },
    {
     "name": "stdout",
     "output_type": "stream",
     "text": [
      "Epoch 9/100, Train Loss: 0.3290, Validation Loss: 0.3399, Validation Accuracy: 0.8189\n"
     ]
    },
    {
     "name": "stderr",
     "output_type": "stream",
     "text": [
      "Training Epoch 10/100: 100%|██████████| 1876/1876 [00:02<00:00, 854.31it/s]\n",
      "Validation Epoch 10/100: 100%|██████████| 469/469 [00:00<00:00, 1706.57it/s]\n"
     ]
    },
    {
     "name": "stdout",
     "output_type": "stream",
     "text": [
      "Epoch 10/100, Train Loss: 0.3276, Validation Loss: 0.3394, Validation Accuracy: 0.8186\n"
     ]
    },
    {
     "name": "stderr",
     "output_type": "stream",
     "text": [
      "Training Epoch 11/100: 100%|██████████| 1876/1876 [00:02<00:00, 813.97it/s]\n",
      "Validation Epoch 11/100: 100%|██████████| 469/469 [00:00<00:00, 1684.00it/s]\n"
     ]
    },
    {
     "name": "stdout",
     "output_type": "stream",
     "text": [
      "Epoch 11/100, Train Loss: 0.3263, Validation Loss: 0.3383, Validation Accuracy: 0.8203\n"
     ]
    },
    {
     "name": "stderr",
     "output_type": "stream",
     "text": [
      "Training Epoch 12/100: 100%|██████████| 1876/1876 [00:02<00:00, 850.55it/s]\n",
      "Validation Epoch 12/100: 100%|██████████| 469/469 [00:00<00:00, 1733.48it/s]\n"
     ]
    },
    {
     "name": "stdout",
     "output_type": "stream",
     "text": [
      "Epoch 12/100, Train Loss: 0.3255, Validation Loss: 0.3376, Validation Accuracy: 0.8202\n"
     ]
    },
    {
     "name": "stderr",
     "output_type": "stream",
     "text": [
      "Training Epoch 13/100: 100%|██████████| 1876/1876 [00:02<00:00, 786.39it/s]\n",
      "Validation Epoch 13/100: 100%|██████████| 469/469 [00:00<00:00, 1771.34it/s]\n"
     ]
    },
    {
     "name": "stdout",
     "output_type": "stream",
     "text": [
      "Epoch 13/100, Train Loss: 0.3245, Validation Loss: 0.3373, Validation Accuracy: 0.8187\n"
     ]
    },
    {
     "name": "stderr",
     "output_type": "stream",
     "text": [
      "Training Epoch 14/100: 100%|██████████| 1876/1876 [00:02<00:00, 865.44it/s]\n",
      "Validation Epoch 14/100: 100%|██████████| 469/469 [00:00<00:00, 1701.70it/s]\n"
     ]
    },
    {
     "name": "stdout",
     "output_type": "stream",
     "text": [
      "Epoch 14/100, Train Loss: 0.3236, Validation Loss: 0.3368, Validation Accuracy: 0.8208\n"
     ]
    },
    {
     "name": "stderr",
     "output_type": "stream",
     "text": [
      "Training Epoch 15/100: 100%|██████████| 1876/1876 [00:02<00:00, 876.71it/s]\n",
      "Validation Epoch 15/100: 100%|██████████| 469/469 [00:00<00:00, 1827.47it/s]\n"
     ]
    },
    {
     "name": "stdout",
     "output_type": "stream",
     "text": [
      "Epoch 15/100, Train Loss: 0.3230, Validation Loss: 0.3357, Validation Accuracy: 0.8218\n"
     ]
    },
    {
     "name": "stderr",
     "output_type": "stream",
     "text": [
      "Training Epoch 16/100: 100%|██████████| 1876/1876 [00:02<00:00, 833.88it/s]\n",
      "Validation Epoch 16/100: 100%|██████████| 469/469 [00:00<00:00, 1756.79it/s]\n"
     ]
    },
    {
     "name": "stdout",
     "output_type": "stream",
     "text": [
      "Epoch 16/100, Train Loss: 0.3223, Validation Loss: 0.3356, Validation Accuracy: 0.8218\n"
     ]
    },
    {
     "name": "stderr",
     "output_type": "stream",
     "text": [
      "Training Epoch 17/100: 100%|██████████| 1876/1876 [00:02<00:00, 881.25it/s]\n",
      "Validation Epoch 17/100: 100%|██████████| 469/469 [00:00<00:00, 1777.18it/s]\n"
     ]
    },
    {
     "name": "stdout",
     "output_type": "stream",
     "text": [
      "Epoch 17/100, Train Loss: 0.3217, Validation Loss: 0.3344, Validation Accuracy: 0.8218\n"
     ]
    },
    {
     "name": "stderr",
     "output_type": "stream",
     "text": [
      "Training Epoch 18/100: 100%|██████████| 1876/1876 [00:02<00:00, 848.09it/s]\n",
      "Validation Epoch 18/100: 100%|██████████| 469/469 [00:00<00:00, 1728.30it/s]\n"
     ]
    },
    {
     "name": "stdout",
     "output_type": "stream",
     "text": [
      "Epoch 18/100, Train Loss: 0.3211, Validation Loss: 0.3341, Validation Accuracy: 0.8243\n"
     ]
    },
    {
     "name": "stderr",
     "output_type": "stream",
     "text": [
      "Training Epoch 19/100: 100%|██████████| 1876/1876 [00:02<00:00, 861.74it/s]\n",
      "Validation Epoch 19/100: 100%|██████████| 469/469 [00:00<00:00, 1701.15it/s]\n"
     ]
    },
    {
     "name": "stdout",
     "output_type": "stream",
     "text": [
      "Epoch 19/100, Train Loss: 0.3207, Validation Loss: 0.3338, Validation Accuracy: 0.8231\n"
     ]
    },
    {
     "name": "stderr",
     "output_type": "stream",
     "text": [
      "Training Epoch 20/100: 100%|██████████| 1876/1876 [00:02<00:00, 886.26it/s]\n",
      "Validation Epoch 20/100: 100%|██████████| 469/469 [00:00<00:00, 1731.03it/s]\n"
     ]
    },
    {
     "name": "stdout",
     "output_type": "stream",
     "text": [
      "Epoch 20/100, Train Loss: 0.3201, Validation Loss: 0.3335, Validation Accuracy: 0.8232\n"
     ]
    },
    {
     "name": "stderr",
     "output_type": "stream",
     "text": [
      "Training Epoch 21/100: 100%|██████████| 1876/1876 [00:02<00:00, 837.34it/s]\n",
      "Validation Epoch 21/100: 100%|██████████| 469/469 [00:00<00:00, 1774.88it/s]\n"
     ]
    },
    {
     "name": "stdout",
     "output_type": "stream",
     "text": [
      "Epoch 21/100, Train Loss: 0.3197, Validation Loss: 0.3339, Validation Accuracy: 0.8242\n"
     ]
    },
    {
     "name": "stderr",
     "output_type": "stream",
     "text": [
      "Training Epoch 22/100: 100%|██████████| 1876/1876 [00:02<00:00, 878.49it/s]\n",
      "Validation Epoch 22/100: 100%|██████████| 469/469 [00:00<00:00, 1774.07it/s]\n"
     ]
    },
    {
     "name": "stdout",
     "output_type": "stream",
     "text": [
      "Epoch 22/100, Train Loss: 0.3192, Validation Loss: 0.3338, Validation Accuracy: 0.8208\n"
     ]
    },
    {
     "name": "stderr",
     "output_type": "stream",
     "text": [
      "Training Epoch 23/100: 100%|██████████| 1876/1876 [00:02<00:00, 835.73it/s]\n",
      "Validation Epoch 23/100: 100%|██████████| 469/469 [00:00<00:00, 1818.03it/s]\n"
     ]
    },
    {
     "name": "stdout",
     "output_type": "stream",
     "text": [
      "Epoch 23/100, Train Loss: 0.3185, Validation Loss: 0.3329, Validation Accuracy: 0.8224\n"
     ]
    },
    {
     "name": "stderr",
     "output_type": "stream",
     "text": [
      "Training Epoch 24/100: 100%|██████████| 1876/1876 [00:02<00:00, 870.58it/s]\n",
      "Validation Epoch 24/100: 100%|██████████| 469/469 [00:00<00:00, 1740.23it/s]\n"
     ]
    },
    {
     "name": "stdout",
     "output_type": "stream",
     "text": [
      "Epoch 24/100, Train Loss: 0.3182, Validation Loss: 0.3324, Validation Accuracy: 0.8225\n"
     ]
    },
    {
     "name": "stderr",
     "output_type": "stream",
     "text": [
      "Training Epoch 25/100: 100%|██████████| 1876/1876 [00:02<00:00, 867.68it/s]\n",
      "Validation Epoch 25/100: 100%|██████████| 469/469 [00:00<00:00, 1750.86it/s]\n"
     ]
    },
    {
     "name": "stdout",
     "output_type": "stream",
     "text": [
      "Epoch 25/100, Train Loss: 0.3178, Validation Loss: 0.3328, Validation Accuracy: 0.8239\n"
     ]
    },
    {
     "name": "stderr",
     "output_type": "stream",
     "text": [
      "Training Epoch 26/100: 100%|██████████| 1876/1876 [00:02<00:00, 817.00it/s]\n",
      "Validation Epoch 26/100: 100%|██████████| 469/469 [00:00<00:00, 1700.56it/s]\n"
     ]
    },
    {
     "name": "stdout",
     "output_type": "stream",
     "text": [
      "Epoch 26/100, Train Loss: 0.3174, Validation Loss: 0.3320, Validation Accuracy: 0.8220\n"
     ]
    },
    {
     "name": "stderr",
     "output_type": "stream",
     "text": [
      "Training Epoch 27/100: 100%|██████████| 1876/1876 [00:02<00:00, 810.58it/s]\n",
      "Validation Epoch 27/100: 100%|██████████| 469/469 [00:00<00:00, 1796.60it/s]\n"
     ]
    },
    {
     "name": "stdout",
     "output_type": "stream",
     "text": [
      "Epoch 27/100, Train Loss: 0.3172, Validation Loss: 0.3325, Validation Accuracy: 0.8240\n"
     ]
    },
    {
     "name": "stderr",
     "output_type": "stream",
     "text": [
      "Training Epoch 28/100: 100%|██████████| 1876/1876 [00:02<00:00, 812.23it/s]\n",
      "Validation Epoch 28/100: 100%|██████████| 469/469 [00:00<00:00, 1248.87it/s]\n"
     ]
    },
    {
     "name": "stdout",
     "output_type": "stream",
     "text": [
      "Epoch 28/100, Train Loss: 0.3168, Validation Loss: 0.3327, Validation Accuracy: 0.8236\n"
     ]
    },
    {
     "name": "stderr",
     "output_type": "stream",
     "text": [
      "Training Epoch 29/100: 100%|██████████| 1876/1876 [00:02<00:00, 857.36it/s]\n",
      "Validation Epoch 29/100: 100%|██████████| 469/469 [00:00<00:00, 1717.48it/s]\n"
     ]
    },
    {
     "name": "stdout",
     "output_type": "stream",
     "text": [
      "Epoch 29/100, Train Loss: 0.3165, Validation Loss: 0.3323, Validation Accuracy: 0.8219\n"
     ]
    },
    {
     "name": "stderr",
     "output_type": "stream",
     "text": [
      "Training Epoch 30/100: 100%|██████████| 1876/1876 [00:02<00:00, 875.64it/s]\n",
      "Validation Epoch 30/100: 100%|██████████| 469/469 [00:00<00:00, 1740.65it/s]\n"
     ]
    },
    {
     "name": "stdout",
     "output_type": "stream",
     "text": [
      "Epoch 30/100, Train Loss: 0.3162, Validation Loss: 0.3325, Validation Accuracy: 0.8266\n"
     ]
    },
    {
     "name": "stderr",
     "output_type": "stream",
     "text": [
      "Training Epoch 31/100: 100%|██████████| 1876/1876 [00:02<00:00, 836.26it/s]\n",
      "Validation Epoch 31/100: 100%|██████████| 469/469 [00:00<00:00, 1748.89it/s]\n"
     ]
    },
    {
     "name": "stdout",
     "output_type": "stream",
     "text": [
      "Epoch 31/100, Train Loss: 0.3158, Validation Loss: 0.3322, Validation Accuracy: 0.8238\n"
     ]
    },
    {
     "name": "stderr",
     "output_type": "stream",
     "text": [
      "Training Epoch 32/100: 100%|██████████| 1876/1876 [00:02<00:00, 856.85it/s]\n",
      "Validation Epoch 32/100: 100%|██████████| 469/469 [00:00<00:00, 1732.90it/s]\n"
     ]
    },
    {
     "name": "stdout",
     "output_type": "stream",
     "text": [
      "Epoch 32/100, Train Loss: 0.3157, Validation Loss: 0.3317, Validation Accuracy: 0.8258\n"
     ]
    },
    {
     "name": "stderr",
     "output_type": "stream",
     "text": [
      "Training Epoch 33/100: 100%|██████████| 1876/1876 [00:02<00:00, 874.33it/s]\n",
      "Validation Epoch 33/100: 100%|██████████| 469/469 [00:00<00:00, 1690.70it/s]\n"
     ]
    },
    {
     "name": "stdout",
     "output_type": "stream",
     "text": [
      "Epoch 33/100, Train Loss: 0.3153, Validation Loss: 0.3320, Validation Accuracy: 0.8234\n"
     ]
    },
    {
     "name": "stderr",
     "output_type": "stream",
     "text": [
      "Training Epoch 34/100: 100%|██████████| 1876/1876 [00:02<00:00, 822.12it/s]\n",
      "Validation Epoch 34/100: 100%|██████████| 469/469 [00:00<00:00, 1797.92it/s]\n"
     ]
    },
    {
     "name": "stdout",
     "output_type": "stream",
     "text": [
      "Epoch 34/100, Train Loss: 0.3150, Validation Loss: 0.3319, Validation Accuracy: 0.8227\n"
     ]
    },
    {
     "name": "stderr",
     "output_type": "stream",
     "text": [
      "Training Epoch 35/100: 100%|██████████| 1876/1876 [00:02<00:00, 878.55it/s]\n",
      "Validation Epoch 35/100: 100%|██████████| 469/469 [00:00<00:00, 1802.17it/s]\n"
     ]
    },
    {
     "name": "stdout",
     "output_type": "stream",
     "text": [
      "Epoch 35/100, Train Loss: 0.3147, Validation Loss: 0.3316, Validation Accuracy: 0.8262\n"
     ]
    },
    {
     "name": "stderr",
     "output_type": "stream",
     "text": [
      "Training Epoch 36/100: 100%|██████████| 1876/1876 [00:02<00:00, 839.15it/s]\n",
      "Validation Epoch 36/100: 100%|██████████| 469/469 [00:00<00:00, 1764.69it/s]\n"
     ]
    },
    {
     "name": "stdout",
     "output_type": "stream",
     "text": [
      "Epoch 36/100, Train Loss: 0.3146, Validation Loss: 0.3314, Validation Accuracy: 0.8244\n"
     ]
    },
    {
     "name": "stderr",
     "output_type": "stream",
     "text": [
      "Training Epoch 37/100: 100%|██████████| 1876/1876 [00:02<00:00, 845.39it/s]\n",
      "Validation Epoch 37/100: 100%|██████████| 469/469 [00:00<00:00, 1780.65it/s]\n"
     ]
    },
    {
     "name": "stdout",
     "output_type": "stream",
     "text": [
      "Epoch 37/100, Train Loss: 0.3145, Validation Loss: 0.3313, Validation Accuracy: 0.8256\n"
     ]
    },
    {
     "name": "stderr",
     "output_type": "stream",
     "text": [
      "Training Epoch 38/100: 100%|██████████| 1876/1876 [00:02<00:00, 866.07it/s]\n",
      "Validation Epoch 38/100: 100%|██████████| 469/469 [00:00<00:00, 1693.02it/s]\n"
     ]
    },
    {
     "name": "stdout",
     "output_type": "stream",
     "text": [
      "Epoch 38/100, Train Loss: 0.3139, Validation Loss: 0.3317, Validation Accuracy: 0.8251\n"
     ]
    },
    {
     "name": "stderr",
     "output_type": "stream",
     "text": [
      "Training Epoch 39/100: 100%|██████████| 1876/1876 [00:02<00:00, 835.06it/s]\n",
      "Validation Epoch 39/100: 100%|██████████| 469/469 [00:00<00:00, 1749.19it/s]\n"
     ]
    },
    {
     "name": "stdout",
     "output_type": "stream",
     "text": [
      "Epoch 39/100, Train Loss: 0.3140, Validation Loss: 0.3315, Validation Accuracy: 0.8249\n"
     ]
    },
    {
     "name": "stderr",
     "output_type": "stream",
     "text": [
      "Training Epoch 40/100: 100%|██████████| 1876/1876 [00:02<00:00, 870.12it/s]\n",
      "Validation Epoch 40/100: 100%|██████████| 469/469 [00:00<00:00, 1764.18it/s]\n"
     ]
    },
    {
     "name": "stdout",
     "output_type": "stream",
     "text": [
      "Epoch 40/100, Train Loss: 0.3137, Validation Loss: 0.3316, Validation Accuracy: 0.8227\n"
     ]
    },
    {
     "name": "stderr",
     "output_type": "stream",
     "text": [
      "Training Epoch 41/100: 100%|██████████| 1876/1876 [00:02<00:00, 835.87it/s]\n",
      "Validation Epoch 41/100: 100%|██████████| 469/469 [00:00<00:00, 1622.27it/s]\n"
     ]
    },
    {
     "name": "stdout",
     "output_type": "stream",
     "text": [
      "Epoch 41/100, Train Loss: 0.3135, Validation Loss: 0.3320, Validation Accuracy: 0.8259\n"
     ]
    },
    {
     "name": "stderr",
     "output_type": "stream",
     "text": [
      "Training Epoch 42/100: 100%|██████████| 1876/1876 [00:02<00:00, 854.85it/s]\n",
      "Validation Epoch 42/100: 100%|██████████| 469/469 [00:00<00:00, 1754.50it/s]\n"
     ]
    },
    {
     "name": "stdout",
     "output_type": "stream",
     "text": [
      "Epoch 42/100, Train Loss: 0.3133, Validation Loss: 0.3316, Validation Accuracy: 0.8251\n"
     ]
    },
    {
     "name": "stderr",
     "output_type": "stream",
     "text": [
      "Training Epoch 43/100: 100%|██████████| 1876/1876 [00:02<00:00, 812.59it/s]\n",
      "Validation Epoch 43/100: 100%|██████████| 469/469 [00:00<00:00, 1749.88it/s]\n"
     ]
    },
    {
     "name": "stdout",
     "output_type": "stream",
     "text": [
      "Epoch 43/100, Train Loss: 0.3131, Validation Loss: 0.3306, Validation Accuracy: 0.8273\n"
     ]
    },
    {
     "name": "stderr",
     "output_type": "stream",
     "text": [
      "Training Epoch 44/100: 100%|██████████| 1876/1876 [00:02<00:00, 858.49it/s]\n",
      "Validation Epoch 44/100: 100%|██████████| 469/469 [00:00<00:00, 1741.22it/s]\n"
     ]
    },
    {
     "name": "stdout",
     "output_type": "stream",
     "text": [
      "Epoch 44/100, Train Loss: 0.3132, Validation Loss: 0.3311, Validation Accuracy: 0.8265\n"
     ]
    },
    {
     "name": "stderr",
     "output_type": "stream",
     "text": [
      "Training Epoch 45/100: 100%|██████████| 1876/1876 [00:02<00:00, 852.54it/s]\n",
      "Validation Epoch 45/100: 100%|██████████| 469/469 [00:00<00:00, 1733.46it/s]\n"
     ]
    },
    {
     "name": "stdout",
     "output_type": "stream",
     "text": [
      "Epoch 45/100, Train Loss: 0.3126, Validation Loss: 0.3314, Validation Accuracy: 0.8229\n"
     ]
    },
    {
     "name": "stderr",
     "output_type": "stream",
     "text": [
      "Training Epoch 46/100: 100%|██████████| 1876/1876 [00:02<00:00, 800.14it/s]\n",
      "Validation Epoch 46/100: 100%|██████████| 469/469 [00:00<00:00, 1728.26it/s]\n"
     ]
    },
    {
     "name": "stdout",
     "output_type": "stream",
     "text": [
      "Epoch 46/100, Train Loss: 0.3127, Validation Loss: 0.3312, Validation Accuracy: 0.8233\n"
     ]
    },
    {
     "name": "stderr",
     "output_type": "stream",
     "text": [
      "Training Epoch 47/100: 100%|██████████| 1876/1876 [00:02<00:00, 779.98it/s]\n",
      "Validation Epoch 47/100: 100%|██████████| 469/469 [00:00<00:00, 1582.86it/s]\n"
     ]
    },
    {
     "name": "stdout",
     "output_type": "stream",
     "text": [
      "Epoch 47/100, Train Loss: 0.3123, Validation Loss: 0.3314, Validation Accuracy: 0.8252\n"
     ]
    },
    {
     "name": "stderr",
     "output_type": "stream",
     "text": [
      "Training Epoch 48/100: 100%|██████████| 1876/1876 [00:02<00:00, 765.32it/s]\n",
      "Validation Epoch 48/100: 100%|██████████| 469/469 [00:00<00:00, 1532.50it/s]\n"
     ]
    },
    {
     "name": "stdout",
     "output_type": "stream",
     "text": [
      "Epoch 48/100, Train Loss: 0.3123, Validation Loss: 0.3319, Validation Accuracy: 0.8261\n"
     ]
    },
    {
     "name": "stderr",
     "output_type": "stream",
     "text": [
      "Training Epoch 49/100: 100%|██████████| 1876/1876 [00:02<00:00, 857.61it/s]\n",
      "Validation Epoch 49/100: 100%|██████████| 469/469 [00:00<00:00, 1657.61it/s]\n"
     ]
    },
    {
     "name": "stdout",
     "output_type": "stream",
     "text": [
      "Epoch 49/100, Train Loss: 0.3121, Validation Loss: 0.3314, Validation Accuracy: 0.8253\n"
     ]
    },
    {
     "name": "stderr",
     "output_type": "stream",
     "text": [
      "Training Epoch 50/100: 100%|██████████| 1876/1876 [00:02<00:00, 855.97it/s]\n",
      "Validation Epoch 50/100: 100%|██████████| 469/469 [00:00<00:00, 1874.41it/s]\n"
     ]
    },
    {
     "name": "stdout",
     "output_type": "stream",
     "text": [
      "Epoch 50/100, Train Loss: 0.3119, Validation Loss: 0.3318, Validation Accuracy: 0.8240\n"
     ]
    },
    {
     "name": "stderr",
     "output_type": "stream",
     "text": [
      "Training Epoch 51/100: 100%|██████████| 1876/1876 [00:02<00:00, 817.54it/s]\n",
      "Validation Epoch 51/100: 100%|██████████| 469/469 [00:00<00:00, 1807.37it/s]\n"
     ]
    },
    {
     "name": "stdout",
     "output_type": "stream",
     "text": [
      "Epoch 51/100, Train Loss: 0.3116, Validation Loss: 0.3311, Validation Accuracy: 0.8244\n"
     ]
    },
    {
     "name": "stderr",
     "output_type": "stream",
     "text": [
      "Training Epoch 52/100: 100%|██████████| 1876/1876 [00:02<00:00, 871.38it/s]\n",
      "Validation Epoch 52/100: 100%|██████████| 469/469 [00:00<00:00, 1801.93it/s]\n"
     ]
    },
    {
     "name": "stdout",
     "output_type": "stream",
     "text": [
      "Epoch 52/100, Train Loss: 0.3114, Validation Loss: 0.3310, Validation Accuracy: 0.8256\n"
     ]
    },
    {
     "name": "stderr",
     "output_type": "stream",
     "text": [
      "Training Epoch 53/100: 100%|██████████| 1876/1876 [00:02<00:00, 814.69it/s]\n",
      "Validation Epoch 53/100: 100%|██████████| 469/469 [00:00<00:00, 1792.55it/s]\n"
     ]
    },
    {
     "name": "stdout",
     "output_type": "stream",
     "text": [
      "Epoch 53/100, Train Loss: 0.3114, Validation Loss: 0.3303, Validation Accuracy: 0.8264\n"
     ]
    },
    {
     "name": "stderr",
     "output_type": "stream",
     "text": [
      "Training Epoch 54/100: 100%|██████████| 1876/1876 [00:02<00:00, 860.66it/s]\n",
      "Validation Epoch 54/100: 100%|██████████| 469/469 [00:00<00:00, 1773.62it/s]\n"
     ]
    },
    {
     "name": "stdout",
     "output_type": "stream",
     "text": [
      "Epoch 54/100, Train Loss: 0.3115, Validation Loss: 0.3313, Validation Accuracy: 0.8231\n"
     ]
    },
    {
     "name": "stderr",
     "output_type": "stream",
     "text": [
      "Training Epoch 55/100: 100%|██████████| 1876/1876 [00:02<00:00, 863.16it/s]\n",
      "Validation Epoch 55/100: 100%|██████████| 469/469 [00:00<00:00, 1708.75it/s]\n"
     ]
    },
    {
     "name": "stdout",
     "output_type": "stream",
     "text": [
      "Epoch 55/100, Train Loss: 0.3116, Validation Loss: 0.3306, Validation Accuracy: 0.8259\n"
     ]
    },
    {
     "name": "stderr",
     "output_type": "stream",
     "text": [
      "Training Epoch 56/100: 100%|██████████| 1876/1876 [00:02<00:00, 817.47it/s]\n",
      "Validation Epoch 56/100: 100%|██████████| 469/469 [00:00<00:00, 1773.41it/s]\n"
     ]
    },
    {
     "name": "stdout",
     "output_type": "stream",
     "text": [
      "Epoch 56/100, Train Loss: 0.3110, Validation Loss: 0.3318, Validation Accuracy: 0.8229\n"
     ]
    },
    {
     "name": "stderr",
     "output_type": "stream",
     "text": [
      "Training Epoch 57/100: 100%|██████████| 1876/1876 [00:02<00:00, 891.17it/s]\n",
      "Validation Epoch 57/100: 100%|██████████| 469/469 [00:00<00:00, 1899.89it/s]\n"
     ]
    },
    {
     "name": "stdout",
     "output_type": "stream",
     "text": [
      "Epoch 57/100, Train Loss: 0.3111, Validation Loss: 0.3310, Validation Accuracy: 0.8241\n"
     ]
    },
    {
     "name": "stderr",
     "output_type": "stream",
     "text": [
      "Training Epoch 58/100: 100%|██████████| 1876/1876 [00:02<00:00, 849.06it/s]\n",
      "Validation Epoch 58/100: 100%|██████████| 469/469 [00:00<00:00, 1514.79it/s]\n"
     ]
    },
    {
     "name": "stdout",
     "output_type": "stream",
     "text": [
      "Epoch 58/100, Train Loss: 0.3109, Validation Loss: 0.3314, Validation Accuracy: 0.8250\n"
     ]
    },
    {
     "name": "stderr",
     "output_type": "stream",
     "text": [
      "Training Epoch 59/100: 100%|██████████| 1876/1876 [00:02<00:00, 891.58it/s]\n",
      "Validation Epoch 59/100: 100%|██████████| 469/469 [00:00<00:00, 1847.62it/s]\n"
     ]
    },
    {
     "name": "stdout",
     "output_type": "stream",
     "text": [
      "Epoch 59/100, Train Loss: 0.3106, Validation Loss: 0.3308, Validation Accuracy: 0.8260\n"
     ]
    },
    {
     "name": "stderr",
     "output_type": "stream",
     "text": [
      "Training Epoch 60/100: 100%|██████████| 1876/1876 [00:02<00:00, 884.45it/s]\n",
      "Validation Epoch 60/100: 100%|██████████| 469/469 [00:00<00:00, 1825.88it/s]\n"
     ]
    },
    {
     "name": "stdout",
     "output_type": "stream",
     "text": [
      "Epoch 60/100, Train Loss: 0.3106, Validation Loss: 0.3316, Validation Accuracy: 0.8246\n"
     ]
    },
    {
     "name": "stderr",
     "output_type": "stream",
     "text": [
      "Training Epoch 61/100: 100%|██████████| 1876/1876 [00:02<00:00, 847.41it/s]\n",
      "Validation Epoch 61/100: 100%|██████████| 469/469 [00:00<00:00, 1666.69it/s]\n"
     ]
    },
    {
     "name": "stdout",
     "output_type": "stream",
     "text": [
      "Epoch 61/100, Train Loss: 0.3106, Validation Loss: 0.3309, Validation Accuracy: 0.8246\n"
     ]
    },
    {
     "name": "stderr",
     "output_type": "stream",
     "text": [
      "Training Epoch 62/100: 100%|██████████| 1876/1876 [00:02<00:00, 892.52it/s]\n",
      "Validation Epoch 62/100: 100%|██████████| 469/469 [00:00<00:00, 1855.89it/s]\n"
     ]
    },
    {
     "name": "stdout",
     "output_type": "stream",
     "text": [
      "Epoch 62/100, Train Loss: 0.3106, Validation Loss: 0.3310, Validation Accuracy: 0.8264\n"
     ]
    },
    {
     "name": "stderr",
     "output_type": "stream",
     "text": [
      "Training Epoch 63/100: 100%|██████████| 1876/1876 [00:02<00:00, 909.91it/s]\n",
      "Validation Epoch 63/100: 100%|██████████| 469/469 [00:00<00:00, 1859.94it/s]\n"
     ]
    },
    {
     "name": "stdout",
     "output_type": "stream",
     "text": [
      "Epoch 63/100, Train Loss: 0.3100, Validation Loss: 0.3309, Validation Accuracy: 0.8256\n"
     ]
    },
    {
     "name": "stderr",
     "output_type": "stream",
     "text": [
      "Training Epoch 64/100: 100%|██████████| 1876/1876 [00:02<00:00, 874.19it/s]\n",
      "Validation Epoch 64/100: 100%|██████████| 469/469 [00:00<00:00, 1799.97it/s]\n"
     ]
    },
    {
     "name": "stdout",
     "output_type": "stream",
     "text": [
      "Epoch 64/100, Train Loss: 0.3098, Validation Loss: 0.3307, Validation Accuracy: 0.8250\n"
     ]
    },
    {
     "name": "stderr",
     "output_type": "stream",
     "text": [
      "Training Epoch 65/100: 100%|██████████| 1876/1876 [00:02<00:00, 900.36it/s]\n",
      "Validation Epoch 65/100: 100%|██████████| 469/469 [00:00<00:00, 1904.47it/s]\n"
     ]
    },
    {
     "name": "stdout",
     "output_type": "stream",
     "text": [
      "Epoch 65/100, Train Loss: 0.3099, Validation Loss: 0.3315, Validation Accuracy: 0.8254\n"
     ]
    },
    {
     "name": "stderr",
     "output_type": "stream",
     "text": [
      "Training Epoch 66/100: 100%|██████████| 1876/1876 [00:02<00:00, 913.70it/s]\n",
      "Validation Epoch 66/100: 100%|██████████| 469/469 [00:00<00:00, 1358.64it/s]\n"
     ]
    },
    {
     "name": "stdout",
     "output_type": "stream",
     "text": [
      "Epoch 66/100, Train Loss: 0.3099, Validation Loss: 0.3314, Validation Accuracy: 0.8252\n"
     ]
    },
    {
     "name": "stderr",
     "output_type": "stream",
     "text": [
      "Training Epoch 67/100: 100%|██████████| 1876/1876 [00:02<00:00, 902.22it/s]\n",
      "Validation Epoch 67/100: 100%|██████████| 469/469 [00:00<00:00, 1877.75it/s]\n"
     ]
    },
    {
     "name": "stdout",
     "output_type": "stream",
     "text": [
      "Epoch 67/100, Train Loss: 0.3098, Validation Loss: 0.3315, Validation Accuracy: 0.8246\n"
     ]
    },
    {
     "name": "stderr",
     "output_type": "stream",
     "text": [
      "Training Epoch 68/100: 100%|██████████| 1876/1876 [00:02<00:00, 898.24it/s]\n",
      "Validation Epoch 68/100: 100%|██████████| 469/469 [00:00<00:00, 1795.11it/s]\n"
     ]
    },
    {
     "name": "stdout",
     "output_type": "stream",
     "text": [
      "Epoch 68/100, Train Loss: 0.3100, Validation Loss: 0.3308, Validation Accuracy: 0.8254\n"
     ]
    },
    {
     "name": "stderr",
     "output_type": "stream",
     "text": [
      "Training Epoch 69/100: 100%|██████████| 1876/1876 [00:02<00:00, 782.87it/s]\n",
      "Validation Epoch 69/100: 100%|██████████| 469/469 [00:00<00:00, 1478.08it/s]\n"
     ]
    },
    {
     "name": "stdout",
     "output_type": "stream",
     "text": [
      "Epoch 69/100, Train Loss: 0.3099, Validation Loss: 0.3310, Validation Accuracy: 0.8261\n"
     ]
    },
    {
     "name": "stderr",
     "output_type": "stream",
     "text": [
      "Training Epoch 70/100: 100%|██████████| 1876/1876 [00:02<00:00, 716.82it/s]\n",
      "Validation Epoch 70/100: 100%|██████████| 469/469 [00:00<00:00, 1788.74it/s]\n"
     ]
    },
    {
     "name": "stdout",
     "output_type": "stream",
     "text": [
      "Epoch 70/100, Train Loss: 0.3093, Validation Loss: 0.3311, Validation Accuracy: 0.8237\n"
     ]
    },
    {
     "name": "stderr",
     "output_type": "stream",
     "text": [
      "Training Epoch 71/100: 100%|██████████| 1876/1876 [00:02<00:00, 896.79it/s]\n",
      "Validation Epoch 71/100: 100%|██████████| 469/469 [00:00<00:00, 1759.12it/s]\n"
     ]
    },
    {
     "name": "stdout",
     "output_type": "stream",
     "text": [
      "Epoch 71/100, Train Loss: 0.3093, Validation Loss: 0.3313, Validation Accuracy: 0.8240\n"
     ]
    },
    {
     "name": "stderr",
     "output_type": "stream",
     "text": [
      "Training Epoch 72/100: 100%|██████████| 1876/1876 [00:02<00:00, 852.55it/s]\n",
      "Validation Epoch 72/100: 100%|██████████| 469/469 [00:00<00:00, 1814.91it/s]\n"
     ]
    },
    {
     "name": "stdout",
     "output_type": "stream",
     "text": [
      "Epoch 72/100, Train Loss: 0.3094, Validation Loss: 0.3309, Validation Accuracy: 0.8248\n"
     ]
    },
    {
     "name": "stderr",
     "output_type": "stream",
     "text": [
      "Training Epoch 73/100: 100%|██████████| 1876/1876 [00:02<00:00, 892.72it/s]\n",
      "Validation Epoch 73/100: 100%|██████████| 469/469 [00:00<00:00, 1828.28it/s]\n"
     ]
    },
    {
     "name": "stdout",
     "output_type": "stream",
     "text": [
      "Epoch 73/100, Train Loss: 0.3093, Validation Loss: 0.3313, Validation Accuracy: 0.8256\n"
     ]
    },
    {
     "name": "stderr",
     "output_type": "stream",
     "text": [
      "Training Epoch 74/100: 100%|██████████| 1876/1876 [00:02<00:00, 889.36it/s]\n",
      "Validation Epoch 74/100: 100%|██████████| 469/469 [00:00<00:00, 1207.47it/s]\n"
     ]
    },
    {
     "name": "stdout",
     "output_type": "stream",
     "text": [
      "Epoch 74/100, Train Loss: 0.3089, Validation Loss: 0.3315, Validation Accuracy: 0.8268\n"
     ]
    },
    {
     "name": "stderr",
     "output_type": "stream",
     "text": [
      "Training Epoch 75/100: 100%|██████████| 1876/1876 [00:02<00:00, 876.59it/s]\n",
      "Validation Epoch 75/100: 100%|██████████| 469/469 [00:00<00:00, 1859.55it/s]\n"
     ]
    },
    {
     "name": "stdout",
     "output_type": "stream",
     "text": [
      "Epoch 75/100, Train Loss: 0.3093, Validation Loss: 0.3315, Validation Accuracy: 0.8264\n"
     ]
    },
    {
     "name": "stderr",
     "output_type": "stream",
     "text": [
      "Training Epoch 76/100: 100%|██████████| 1876/1876 [00:02<00:00, 891.49it/s]\n",
      "Validation Epoch 76/100: 100%|██████████| 469/469 [00:00<00:00, 1720.84it/s]\n"
     ]
    },
    {
     "name": "stdout",
     "output_type": "stream",
     "text": [
      "Epoch 76/100, Train Loss: 0.3089, Validation Loss: 0.3308, Validation Accuracy: 0.8249\n"
     ]
    },
    {
     "name": "stderr",
     "output_type": "stream",
     "text": [
      "Training Epoch 77/100: 100%|██████████| 1876/1876 [00:02<00:00, 853.48it/s]\n",
      "Validation Epoch 77/100: 100%|██████████| 469/469 [00:00<00:00, 1844.93it/s]\n"
     ]
    },
    {
     "name": "stdout",
     "output_type": "stream",
     "text": [
      "Epoch 77/100, Train Loss: 0.3088, Validation Loss: 0.3312, Validation Accuracy: 0.8218\n"
     ]
    },
    {
     "name": "stderr",
     "output_type": "stream",
     "text": [
      "Training Epoch 78/100: 100%|██████████| 1876/1876 [00:02<00:00, 886.09it/s]\n",
      "Validation Epoch 78/100: 100%|██████████| 469/469 [00:00<00:00, 1802.28it/s]\n"
     ]
    },
    {
     "name": "stdout",
     "output_type": "stream",
     "text": [
      "Epoch 78/100, Train Loss: 0.3088, Validation Loss: 0.3313, Validation Accuracy: 0.8248\n"
     ]
    },
    {
     "name": "stderr",
     "output_type": "stream",
     "text": [
      "Training Epoch 79/100: 100%|██████████| 1876/1876 [00:02<00:00, 888.77it/s]\n",
      "Validation Epoch 79/100: 100%|██████████| 469/469 [00:00<00:00, 1811.98it/s]\n"
     ]
    },
    {
     "name": "stdout",
     "output_type": "stream",
     "text": [
      "Epoch 79/100, Train Loss: 0.3087, Validation Loss: 0.3316, Validation Accuracy: 0.8241\n"
     ]
    },
    {
     "name": "stderr",
     "output_type": "stream",
     "text": [
      "Training Epoch 80/100: 100%|██████████| 1876/1876 [00:02<00:00, 855.50it/s]\n",
      "Validation Epoch 80/100: 100%|██████████| 469/469 [00:00<00:00, 1742.65it/s]\n"
     ]
    },
    {
     "name": "stdout",
     "output_type": "stream",
     "text": [
      "Epoch 80/100, Train Loss: 0.3085, Validation Loss: 0.3314, Validation Accuracy: 0.8236\n"
     ]
    },
    {
     "name": "stderr",
     "output_type": "stream",
     "text": [
      "Training Epoch 81/100: 100%|██████████| 1876/1876 [00:02<00:00, 892.43it/s]\n",
      "Validation Epoch 81/100: 100%|██████████| 469/469 [00:00<00:00, 1859.62it/s]\n"
     ]
    },
    {
     "name": "stdout",
     "output_type": "stream",
     "text": [
      "Epoch 81/100, Train Loss: 0.3086, Validation Loss: 0.3316, Validation Accuracy: 0.8231\n"
     ]
    },
    {
     "name": "stderr",
     "output_type": "stream",
     "text": [
      "Training Epoch 82/100: 100%|██████████| 1876/1876 [00:02<00:00, 878.69it/s]\n",
      "Validation Epoch 82/100: 100%|██████████| 469/469 [00:00<00:00, 1356.64it/s]\n"
     ]
    },
    {
     "name": "stdout",
     "output_type": "stream",
     "text": [
      "Epoch 82/100, Train Loss: 0.3087, Validation Loss: 0.3311, Validation Accuracy: 0.8262\n"
     ]
    },
    {
     "name": "stderr",
     "output_type": "stream",
     "text": [
      "Training Epoch 83/100: 100%|██████████| 1876/1876 [00:02<00:00, 900.96it/s]\n",
      "Validation Epoch 83/100: 100%|██████████| 469/469 [00:00<00:00, 1814.84it/s]\n"
     ]
    },
    {
     "name": "stdout",
     "output_type": "stream",
     "text": [
      "Epoch 83/100, Train Loss: 0.3087, Validation Loss: 0.3311, Validation Accuracy: 0.8248\n"
     ]
    },
    {
     "name": "stderr",
     "output_type": "stream",
     "text": [
      "Training Epoch 84/100: 100%|██████████| 1876/1876 [00:02<00:00, 888.70it/s]\n",
      "Validation Epoch 84/100: 100%|██████████| 469/469 [00:00<00:00, 1759.74it/s]\n"
     ]
    },
    {
     "name": "stdout",
     "output_type": "stream",
     "text": [
      "Epoch 84/100, Train Loss: 0.3081, Validation Loss: 0.3311, Validation Accuracy: 0.8242\n"
     ]
    },
    {
     "name": "stderr",
     "output_type": "stream",
     "text": [
      "Training Epoch 85/100: 100%|██████████| 1876/1876 [00:02<00:00, 868.87it/s]\n",
      "Validation Epoch 85/100: 100%|██████████| 469/469 [00:00<00:00, 1898.95it/s]\n"
     ]
    },
    {
     "name": "stdout",
     "output_type": "stream",
     "text": [
      "Epoch 85/100, Train Loss: 0.3081, Validation Loss: 0.3322, Validation Accuracy: 0.8234\n"
     ]
    },
    {
     "name": "stderr",
     "output_type": "stream",
     "text": [
      "Training Epoch 86/100: 100%|██████████| 1876/1876 [00:02<00:00, 870.45it/s]\n",
      "Validation Epoch 86/100: 100%|██████████| 469/469 [00:00<00:00, 1779.61it/s]\n"
     ]
    },
    {
     "name": "stdout",
     "output_type": "stream",
     "text": [
      "Epoch 86/100, Train Loss: 0.3084, Validation Loss: 0.3310, Validation Accuracy: 0.8244\n"
     ]
    },
    {
     "name": "stderr",
     "output_type": "stream",
     "text": [
      "Training Epoch 87/100: 100%|██████████| 1876/1876 [00:02<00:00, 892.09it/s]\n",
      "Validation Epoch 87/100: 100%|██████████| 469/469 [00:00<00:00, 1724.52it/s]\n"
     ]
    },
    {
     "name": "stdout",
     "output_type": "stream",
     "text": [
      "Epoch 87/100, Train Loss: 0.3079, Validation Loss: 0.3311, Validation Accuracy: 0.8273\n"
     ]
    },
    {
     "name": "stderr",
     "output_type": "stream",
     "text": [
      "Training Epoch 88/100: 100%|██████████| 1876/1876 [00:02<00:00, 874.21it/s]\n",
      "Validation Epoch 88/100: 100%|██████████| 469/469 [00:00<00:00, 1871.38it/s]\n"
     ]
    },
    {
     "name": "stdout",
     "output_type": "stream",
     "text": [
      "Epoch 88/100, Train Loss: 0.3081, Validation Loss: 0.3310, Validation Accuracy: 0.8244\n"
     ]
    },
    {
     "name": "stderr",
     "output_type": "stream",
     "text": [
      "Training Epoch 89/100: 100%|██████████| 1876/1876 [00:02<00:00, 904.51it/s]\n",
      "Validation Epoch 89/100: 100%|██████████| 469/469 [00:00<00:00, 1928.97it/s]\n"
     ]
    },
    {
     "name": "stdout",
     "output_type": "stream",
     "text": [
      "Epoch 89/100, Train Loss: 0.3078, Validation Loss: 0.3310, Validation Accuracy: 0.8237\n"
     ]
    },
    {
     "name": "stderr",
     "output_type": "stream",
     "text": [
      "Training Epoch 90/100: 100%|██████████| 1876/1876 [00:02<00:00, 906.69it/s]\n",
      "Validation Epoch 90/100: 100%|██████████| 469/469 [00:00<00:00, 1304.67it/s]\n"
     ]
    },
    {
     "name": "stdout",
     "output_type": "stream",
     "text": [
      "Epoch 90/100, Train Loss: 0.3081, Validation Loss: 0.3318, Validation Accuracy: 0.8236\n"
     ]
    },
    {
     "name": "stderr",
     "output_type": "stream",
     "text": [
      "Training Epoch 91/100: 100%|██████████| 1876/1876 [00:02<00:00, 913.85it/s]\n",
      "Validation Epoch 91/100: 100%|██████████| 469/469 [00:00<00:00, 1796.28it/s]\n"
     ]
    },
    {
     "name": "stdout",
     "output_type": "stream",
     "text": [
      "Epoch 91/100, Train Loss: 0.3080, Validation Loss: 0.3311, Validation Accuracy: 0.8248\n"
     ]
    },
    {
     "name": "stderr",
     "output_type": "stream",
     "text": [
      "Training Epoch 92/100: 100%|██████████| 1876/1876 [00:02<00:00, 913.61it/s]\n",
      "Validation Epoch 92/100: 100%|██████████| 469/469 [00:00<00:00, 1818.71it/s]\n"
     ]
    },
    {
     "name": "stdout",
     "output_type": "stream",
     "text": [
      "Epoch 92/100, Train Loss: 0.3079, Validation Loss: 0.3304, Validation Accuracy: 0.8262\n"
     ]
    },
    {
     "name": "stderr",
     "output_type": "stream",
     "text": [
      "Training Epoch 93/100: 100%|██████████| 1876/1876 [00:02<00:00, 859.95it/s]\n",
      "Validation Epoch 93/100: 100%|██████████| 469/469 [00:00<00:00, 1845.99it/s]\n"
     ]
    },
    {
     "name": "stdout",
     "output_type": "stream",
     "text": [
      "Epoch 93/100, Train Loss: 0.3075, Validation Loss: 0.3318, Validation Accuracy: 0.8241\n"
     ]
    },
    {
     "name": "stderr",
     "output_type": "stream",
     "text": [
      "Training Epoch 94/100: 100%|██████████| 1876/1876 [00:02<00:00, 882.41it/s]\n",
      "Validation Epoch 94/100: 100%|██████████| 469/469 [00:00<00:00, 1936.26it/s]\n"
     ]
    },
    {
     "name": "stdout",
     "output_type": "stream",
     "text": [
      "Epoch 94/100, Train Loss: 0.3080, Validation Loss: 0.3311, Validation Accuracy: 0.8269\n"
     ]
    },
    {
     "name": "stderr",
     "output_type": "stream",
     "text": [
      "Training Epoch 95/100: 100%|██████████| 1876/1876 [00:02<00:00, 850.96it/s]\n",
      "Validation Epoch 95/100: 100%|██████████| 469/469 [00:00<00:00, 1850.81it/s]\n"
     ]
    },
    {
     "name": "stdout",
     "output_type": "stream",
     "text": [
      "Epoch 95/100, Train Loss: 0.3075, Validation Loss: 0.3318, Validation Accuracy: 0.8240\n"
     ]
    },
    {
     "name": "stderr",
     "output_type": "stream",
     "text": [
      "Training Epoch 96/100: 100%|██████████| 1876/1876 [00:02<00:00, 882.77it/s]\n",
      "Validation Epoch 96/100: 100%|██████████| 469/469 [00:00<00:00, 1741.07it/s]\n"
     ]
    },
    {
     "name": "stdout",
     "output_type": "stream",
     "text": [
      "Epoch 96/100, Train Loss: 0.3076, Validation Loss: 0.3314, Validation Accuracy: 0.8250\n"
     ]
    },
    {
     "name": "stderr",
     "output_type": "stream",
     "text": [
      "Training Epoch 97/100: 100%|██████████| 1876/1876 [00:02<00:00, 893.60it/s]\n",
      "Validation Epoch 97/100: 100%|██████████| 469/469 [00:00<00:00, 1815.42it/s]\n"
     ]
    },
    {
     "name": "stdout",
     "output_type": "stream",
     "text": [
      "Epoch 97/100, Train Loss: 0.3077, Validation Loss: 0.3315, Validation Accuracy: 0.8263\n"
     ]
    },
    {
     "name": "stderr",
     "output_type": "stream",
     "text": [
      "Training Epoch 98/100: 100%|██████████| 1876/1876 [00:02<00:00, 855.21it/s]\n",
      "Validation Epoch 98/100: 100%|██████████| 469/469 [00:00<00:00, 1809.35it/s]\n"
     ]
    },
    {
     "name": "stdout",
     "output_type": "stream",
     "text": [
      "Epoch 98/100, Train Loss: 0.3073, Validation Loss: 0.3315, Validation Accuracy: 0.8251\n"
     ]
    },
    {
     "name": "stderr",
     "output_type": "stream",
     "text": [
      "Training Epoch 99/100: 100%|██████████| 1876/1876 [00:02<00:00, 918.18it/s]\n",
      "Validation Epoch 99/100: 100%|██████████| 469/469 [00:00<00:00, 1759.16it/s]\n"
     ]
    },
    {
     "name": "stdout",
     "output_type": "stream",
     "text": [
      "Epoch 99/100, Train Loss: 0.3074, Validation Loss: 0.3324, Validation Accuracy: 0.8266\n"
     ]
    },
    {
     "name": "stderr",
     "output_type": "stream",
     "text": [
      "Training Epoch 100/100: 100%|██████████| 1876/1876 [00:02<00:00, 903.61it/s]\n",
      "Validation Epoch 100/100: 100%|██████████| 469/469 [00:00<00:00, 1280.27it/s]"
     ]
    },
    {
     "name": "stdout",
     "output_type": "stream",
     "text": [
      "Epoch 100/100, Train Loss: 0.3072, Validation Loss: 0.3312, Validation Accuracy: 0.8247\n",
      "Training complete\n"
     ]
    },
    {
     "name": "stderr",
     "output_type": "stream",
     "text": [
      "\n"
     ]
    }
   ],
   "source": [
    "# Training the model\n",
    "num_epochs = 100\n",
    "train_losses = []\n",
    "val_losses = []\n",
    "val_accuracies = []\n",
    "\n",
    "for epoch in range(num_epochs):\n",
    "    model.train()\n",
    "    running_loss = 0.0\n",
    "    \n",
    "    # Training loop with tqdm\n",
    "    for inputs, labels in tqdm(train_loader, desc=f\"Training Epoch {epoch+1}/{num_epochs}\"):\n",
    "        optimizer.zero_grad()\n",
    "        outputs = model(inputs)\n",
    "        loss = criterion(outputs, labels)\n",
    "        loss.backward()\n",
    "        optimizer.step()\n",
    "        running_loss += loss.item() * inputs.size(0)\n",
    "    \n",
    "    epoch_loss = running_loss / len(train_loader.dataset)\n",
    "    train_losses.append(epoch_loss)\n",
    "    \n",
    "    # Validation\n",
    "    model.eval()\n",
    "    val_loss = 0.0\n",
    "    correct = 0\n",
    "    \n",
    "    # Validation loop with tqdm\n",
    "    with torch.no_grad():\n",
    "        for inputs, labels in tqdm(val_loader, desc=f\"Validation Epoch {epoch+1}/{num_epochs}\"):\n",
    "            outputs = model(inputs)\n",
    "            loss = criterion(outputs, labels)\n",
    "            val_loss += loss.item() * inputs.size(0)\n",
    "            _, predicted = torch.max(outputs, 1)\n",
    "            correct += (predicted == labels).sum().item()\n",
    "    \n",
    "    val_loss /= len(val_loader.dataset)\n",
    "    val_losses.append(val_loss)\n",
    "    val_accuracy = correct / len(val_loader.dataset)\n",
    "    val_accuracies.append(val_accuracy)\n",
    "    \n",
    "    print(f'Epoch {epoch+1}/{num_epochs}, Train Loss: {epoch_loss:.4f}, Validation Loss: {val_loss:.4f}, Validation Accuracy: {val_accuracy:.4f}')\n",
    "\n",
    "print(\"Training complete\")"
   ]
  },
  {
   "cell_type": "code",
   "execution_count": 13,
   "metadata": {},
   "outputs": [
    {
     "data": {
      "image/png": "[encoded data removed]",
      "text/plain": [
       "<Figure size 1800x500 with 3 Axes>"
      ]
     },
     "metadata": {},
     "output_type": "display_data"
    }
   ],
   "source": [
    "# Plotting the results\n",
    "fig, (ax1, ax2, ax3) = plt.subplots(1, 3, figsize=(18, 5))\n",
    "\n",
    "# Plot train loss\n",
    "ax1.plot(train_losses, label='Train Loss')\n",
    "ax1.set_title('Training Loss')\n",
    "ax1.set_xlabel('Epochs')\n",
    "ax1.set_ylabel('Loss')\n",
    "ax1.legend()\n",
    "\n",
    "# Plot validation loss\n",
    "ax2.plot(val_losses, label='Validation Loss', color='orange')\n",
    "ax2.set_title('Validation Loss')\n",
    "ax2.set_xlabel('Epochs')\n",
    "ax2.set_ylabel('Loss')\n",
    "ax2.legend()\n",
    "\n",
    "# Plot validation accuracy\n",
    "ax3.plot(val_accuracies, label='Validation Accuracy', color='green')\n",
    "ax3.set_title('Validation Accuracy')\n",
    "ax3.set_xlabel('Epochs')\n",
    "ax3.set_ylabel('Accuracy')\n",
    "ax3.legend()\n",
    "\n",
    "plt.show()"
   ]
  }
 ],
 "metadata": {
  "kernelspec": {
   "display_name": "Python 3",
   "language": "python",
   "name": "python3"
  },
  "language_info": {
   "codemirror_mode": {
    "name": "ipython",
    "version": 3
   },
   "file_extension": ".py",
   "mimetype": "text/x-python",
   "name": "python",
   "nbconvert_exporter": "python",
   "pygments_lexer": "ipython3",
   "version": "3.11.4"
  }
 },
 "nbformat": 4,
 "nbformat_minor": 2
}
