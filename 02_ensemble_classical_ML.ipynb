{
 "cells": [
  {
   "cell_type": "markdown",
   "metadata": {},
   "source": [
    "# Ensemble of Classical Models\n",
    "\n",
    "From the previous notebook, we saw that both Naive Bayes Classifier and Random Forest Classifier performed really well. So, in this notebook we construct an ensemble of these and then note how the perfrmance varies"
   ]
  },
  {
   "cell_type": "code",
   "execution_count": 22,
   "metadata": {},
   "outputs": [],
   "source": [
    "import pandas as pd\n",
    "import numpy as np\n",
    "import time\n",
    "import matplotlib.pyplot as plt\n",
    "import seaborn as sns\n",
    "\n",
    "from sklearn.naive_bayes import GaussianNB\n",
    "from lightgbm import LGBMClassifier\n",
    "from sklearn.ensemble import RandomForestClassifier, VotingClassifier\n",
    "from sklearn.model_selection import train_test_split\n",
    "from sklearn.preprocessing import StandardScaler, LabelEncoder\n",
    "from sklearn.metrics import roc_auc_score, multilabel_confusion_matrix, accuracy_score, classification_report, balanced_accuracy_score"
   ]
  },
  {
   "cell_type": "code",
   "execution_count": 23,
   "metadata": {},
   "outputs": [
    {
     "data": {
      "text/plain": [
       "Index(['id', 'marital_status', 'appln_mode', 'appln_order', 'prog_of_study',\n",
       "       'morn/eve_attend', 'prev_edu', 'prev_edu_grade', 'nationality',\n",
       "       'mom_edu', 'dad_edu', 'mom_occup', 'admission_grade', 'was_displaced',\n",
       "       'edu_spl_need', 'has_student_debt', 'no_fee_dues', 'gender',\n",
       "       'got_scholarship', 'age_at_start', 'sem1_units_credited',\n",
       "       'sem1_units_enrolled', 'sem1_units_eval', 'sem1_units_approved',\n",
       "       'sem1_units_grade', 'sem1_units_no_eval', 'sem2_units_credited',\n",
       "       'sem2_units_enrolled', 'sem2_units_eval', 'sem2_units_approved',\n",
       "       'sem2_units_grade', 'sem2_units_no_eval', 'unemployment_rate',\n",
       "       'inflation', 'gdp', 'Target', 'marital_status_log', 'appln_order_log',\n",
       "       'prog_of_study_log', 'morn/eve_attend_log', 'prev_edu_log',\n",
       "       'mom_occup_log', 'edu_spl_need_log', 'has_student_debt_log',\n",
       "       'no_fee_dues_log', 'got_scholarship_log', 'age_at_start_log',\n",
       "       'sem1_units_credited_log', 'sem1_units_grade_log',\n",
       "       'sem1_units_no_eval_log', 'sem2_units_credited_log',\n",
       "       'sem2_units_grade_log', 'sem2_units_no_eval_log'],\n",
       "      dtype='object')"
      ]
     },
     "execution_count": 23,
     "metadata": {},
     "output_type": "execute_result"
    }
   ],
   "source": [
    "df = pd.read_csv('data/cleaned_train.csv')\n",
    "df.columns"
   ]
  },
  {
   "cell_type": "code",
   "execution_count": 24,
   "metadata": {},
   "outputs": [],
   "source": [
    "X,y = df.drop(columns=['Target','id','nationality']).values, df['Target'].values\n",
    "\n",
    "# Train test split\n",
    "le = LabelEncoder()\n",
    "y_l = le.fit(y)\n",
    "y_enc = y_l.transform(y)\n",
    "\n",
    "X_train, X_val, y_train, y_val = train_test_split(X, y_enc, test_size=0.2, random_state=42)"
   ]
  },
  {
   "cell_type": "markdown",
   "metadata": {},
   "source": [
    "First, let's train the Random Forest classifier with `300` estimators"
   ]
  },
  {
   "cell_type": "code",
   "execution_count": 25,
   "metadata": {},
   "outputs": [
    {
     "name": "stdout",
     "output_type": "stream",
     "text": [
      "Training ended in 37.911606800043955 s\n",
      "CPU times: total: 30.8 s\n",
      "Wall time: 37.9 s\n"
     ]
    }
   ],
   "source": [
    "%%time\n",
    "model_rf = RandomForestClassifier(n_estimators=300)\n",
    "start = time.perf_counter()\n",
    "model_rf.fit(X_train,y_train)\n",
    "end = time.perf_counter()\n",
    "print(f'Training ended in {end-start} s')"
   ]
  },
  {
   "cell_type": "code",
   "execution_count": 26,
   "metadata": {},
   "outputs": [
    {
     "name": "stdout",
     "output_type": "stream",
     "text": [
      "              precision    recall  f1-score   support\n",
      "\n",
      "           0     0.9466    0.8221    0.8800      4699\n",
      "           1     0.6475    0.6315    0.6394      2961\n",
      "           2     0.8478    0.9276    0.8859      7344\n",
      "\n",
      "    accuracy                         0.8361     15004\n",
      "   macro avg     0.8140    0.7937    0.8018     15004\n",
      "weighted avg     0.8392    0.8361    0.8354     15004\n",
      "\n"
     ]
    }
   ],
   "source": [
    "y_pred = model_rf.predict(X_val)\n",
    "print(classification_report(y_val, y_pred, labels = sorted(list(set(y_enc))), digits=4))"
   ]
  },
  {
   "cell_type": "markdown",
   "metadata": {},
   "source": [
    "The performance seems better than before, now let us train the LightGBM classifier"
   ]
  },
  {
   "cell_type": "code",
   "execution_count": 27,
   "metadata": {},
   "outputs": [
    {
     "name": "stdout",
     "output_type": "stream",
     "text": [
      "[LightGBM] [Info] Auto-choosing row-wise multi-threading, the overhead of testing was 0.003106 seconds.\n",
      "You can set `force_row_wise=true` to remove the overhead.\n",
      "And if memory is not enough, you can set `force_col_wise=true`.\n",
      "[LightGBM] [Info] Total Bins 1928\n",
      "[LightGBM] [Info] Number of data points in the train set: 60014, number of used features: 50\n",
      "[LightGBM] [Info] Start training from score -1.151719\n",
      "[LightGBM] [Info] Start training from score -1.627750\n",
      "[LightGBM] [Info] Start training from score -0.718391\n",
      "Training ended in 0.7521330001764 s\n",
      "CPU times: total: 5.52 s\n",
      "Wall time: 831 ms\n"
     ]
    }
   ],
   "source": [
    "%%time\n",
    "model_lg = LGBMClassifier()\n",
    "start = time.perf_counter()\n",
    "model_lg.fit(X_train,y_train)\n",
    "end = time.perf_counter()\n",
    "print(f'Training ended in {end-start} s')"
   ]
  },
  {
   "cell_type": "code",
   "execution_count": 28,
   "metadata": {},
   "outputs": [
    {
     "name": "stdout",
     "output_type": "stream",
     "text": [
      "              precision    recall  f1-score   support\n",
      "\n",
      "           0     0.9425    0.8302    0.8828      4699\n",
      "           1     0.6525    0.6380    0.6452      2961\n",
      "           2     0.8517    0.9243    0.8865      7344\n",
      "\n",
      "    accuracy                         0.8383     15004\n",
      "   macro avg     0.8156    0.7975    0.8048     15004\n",
      "weighted avg     0.8408    0.8383    0.8377     15004\n",
      "\n"
     ]
    }
   ],
   "source": [
    "y_pred = model_lg.predict(X_val)\n",
    "print(classification_report(y_val, y_pred, labels = sorted(list(set(y_enc))), digits=4))"
   ]
  },
  {
   "cell_type": "markdown",
   "metadata": {},
   "source": [
    "Vary `n_estimators`"
   ]
  },
  {
   "cell_type": "code",
   "execution_count": 29,
   "metadata": {},
   "outputs": [
    {
     "name": "stdout",
     "output_type": "stream",
     "text": [
      "[LightGBM] [Info] Auto-choosing row-wise multi-threading, the overhead of testing was 0.003108 seconds.\n",
      "You can set `force_row_wise=true` to remove the overhead.\n",
      "And if memory is not enough, you can set `force_col_wise=true`.\n",
      "[LightGBM] [Info] Total Bins 1928\n",
      "[LightGBM] [Info] Number of data points in the train set: 60014, number of used features: 50\n",
      "[LightGBM] [Info] Start training from score -1.151719\n",
      "[LightGBM] [Info] Start training from score -1.627750\n",
      "[LightGBM] [Info] Start training from score -0.718391\n",
      "n_estimators: 5, time_taken: 0.14727330021560192s, accuracy: 0.8127832577979206\n",
      "[LightGBM] [Info] Auto-choosing row-wise multi-threading, the overhead of testing was 0.002697 seconds.\n",
      "You can set `force_row_wise=true` to remove the overhead.\n",
      "And if memory is not enough, you can set `force_col_wise=true`.\n",
      "[LightGBM] [Info] Total Bins 1928\n",
      "[LightGBM] [Info] Number of data points in the train set: 60014, number of used features: 50\n",
      "[LightGBM] [Info] Start training from score -1.151719\n",
      "[LightGBM] [Info] Start training from score -1.627750\n",
      "[LightGBM] [Info] Start training from score -0.718391\n",
      "n_estimators: 10, time_taken: 0.17274009995162487s, accuracy: 0.8288456411623567\n",
      "[LightGBM] [Info] Auto-choosing row-wise multi-threading, the overhead of testing was 0.002832 seconds.\n",
      "You can set `force_row_wise=true` to remove the overhead.\n",
      "And if memory is not enough, you can set `force_col_wise=true`.\n",
      "[LightGBM] [Info] Total Bins 1928\n",
      "[LightGBM] [Info] Number of data points in the train set: 60014, number of used features: 50\n",
      "[LightGBM] [Info] Start training from score -1.151719\n",
      "[LightGBM] [Info] Start training from score -1.627750\n",
      "[LightGBM] [Info] Start training from score -0.718391\n",
      "n_estimators: 20, time_taken: 0.2542137000709772s, accuracy: 0.8333777659290855\n",
      "[LightGBM] [Info] Auto-choosing row-wise multi-threading, the overhead of testing was 0.003475 seconds.\n",
      "You can set `force_row_wise=true` to remove the overhead.\n",
      "And if memory is not enough, you can set `force_col_wise=true`.\n",
      "[LightGBM] [Info] Total Bins 1928\n",
      "[LightGBM] [Info] Number of data points in the train set: 60014, number of used features: 50\n",
      "[LightGBM] [Info] Start training from score -1.151719\n",
      "[LightGBM] [Info] Start training from score -1.627750\n",
      "[LightGBM] [Info] Start training from score -0.718391\n",
      "n_estimators: 50, time_taken: 0.8682305999100208s, accuracy: 0.8379098906958145\n",
      "[LightGBM] [Info] Auto-choosing row-wise multi-threading, the overhead of testing was 0.005128 seconds.\n",
      "You can set `force_row_wise=true` to remove the overhead.\n",
      "And if memory is not enough, you can set `force_col_wise=true`.\n",
      "[LightGBM] [Info] Total Bins 1928\n",
      "[LightGBM] [Info] Number of data points in the train set: 60014, number of used features: 50\n",
      "[LightGBM] [Info] Start training from score -1.151719\n",
      "[LightGBM] [Info] Start training from score -1.627750\n",
      "[LightGBM] [Info] Start training from score -0.718391\n",
      "n_estimators: 100, time_taken: 1.151724399998784s, accuracy: 0.8383097840575846\n",
      "[LightGBM] [Info] Auto-choosing row-wise multi-threading, the overhead of testing was 0.004113 seconds.\n",
      "You can set `force_row_wise=true` to remove the overhead.\n",
      "And if memory is not enough, you can set `force_col_wise=true`.\n",
      "[LightGBM] [Info] Total Bins 1928\n",
      "[LightGBM] [Info] Number of data points in the train set: 60014, number of used features: 50\n",
      "[LightGBM] [Info] Start training from score -1.151719\n",
      "[LightGBM] [Info] Start training from score -1.627750\n",
      "[LightGBM] [Info] Start training from score -0.718391\n",
      "n_estimators: 200, time_taken: 1.9971995998639613s, accuracy: 0.8392428685683818\n",
      "[LightGBM] [Info] Auto-choosing row-wise multi-threading, the overhead of testing was 0.004478 seconds.\n",
      "You can set `force_row_wise=true` to remove the overhead.\n",
      "And if memory is not enough, you can set `force_col_wise=true`.\n",
      "[LightGBM] [Info] Total Bins 1928\n",
      "[LightGBM] [Info] Number of data points in the train set: 60014, number of used features: 50\n",
      "[LightGBM] [Info] Start training from score -1.151719\n",
      "[LightGBM] [Info] Start training from score -1.627750\n",
      "[LightGBM] [Info] Start training from score -0.718391\n",
      "n_estimators: 300, time_taken: 2.882830100134015s, accuracy: 0.8405091975473207\n"
     ]
    }
   ],
   "source": [
    "estims = [5,10,20,50,100,200,300]\n",
    "model = LGBMClassifier()\n",
    "acc,tim = [], []\n",
    "for x in estims:\n",
    "    model = LGBMClassifier(n_estimators=x)\n",
    "    start = time.perf_counter()\n",
    "    model.fit(X_train,y_train)\n",
    "    end = time.perf_counter()\n",
    "    y_pred = model.predict(X_val)\n",
    "    _acc = accuracy_score(y_val,y_pred)\n",
    "    tim.append(end-start)\n",
    "    print(f'n_estimators: {x}, time_taken: {end-start}s, accuracy: {_acc}')\n",
    "    acc.append(_acc)"
   ]
  },
  {
   "cell_type": "code",
   "execution_count": 30,
   "metadata": {},
   "outputs": [
    {
     "data": {
      "text/plain": [
       "Text(0.5, 1.0, 'Training time')"
      ]
     },
     "execution_count": 30,
     "metadata": {},
     "output_type": "execute_result"
    },
    {
     "data": {
      "image/png": "[encoded data removed]",
      "text/plain": [
       "<Figure size 1000x500 with 2 Axes>"
      ]
     },
     "metadata": {},
     "output_type": "display_data"
    }
   ],
   "source": [
    "fig = plt.figure(figsize=(10,5))\n",
    "\n",
    "ax1 = fig.add_subplot(121)\n",
    "ax1.plot(estims,acc)\n",
    "ax1.set_title('Accuracy')\n",
    "\n",
    "ax2 = fig.add_subplot(122)\n",
    "ax2.plot(estims,tim)\n",
    "ax2.set_title('Training time')"
   ]
  },
  {
   "cell_type": "markdown",
   "metadata": {},
   "source": [
    "Try different boosting technique"
   ]
  },
  {
   "cell_type": "code",
   "execution_count": 31,
   "metadata": {},
   "outputs": [
    {
     "name": "stdout",
     "output_type": "stream",
     "text": [
      "[LightGBM] [Warning] bagging_fraction is set=0.8, subsample=1.0 will be ignored. Current value: bagging_fraction=0.8\n",
      "[LightGBM] [Warning] bagging_freq is set=1, subsample_freq=0 will be ignored. Current value: bagging_freq=1\n",
      "[LightGBM] [Warning] bagging_fraction is set=0.8, subsample=1.0 will be ignored. Current value: bagging_fraction=0.8\n",
      "[LightGBM] [Warning] bagging_freq is set=1, subsample_freq=0 will be ignored. Current value: bagging_freq=1\n",
      "[LightGBM] [Info] Auto-choosing row-wise multi-threading, the overhead of testing was 0.006224 seconds.\n",
      "You can set `force_row_wise=true` to remove the overhead.\n",
      "And if memory is not enough, you can set `force_col_wise=true`.\n",
      "[LightGBM] [Info] Total Bins 1928\n",
      "[LightGBM] [Info] Number of data points in the train set: 60014, number of used features: 50\n",
      "[LightGBM] [Info] Start training from score -1.151719\n",
      "[LightGBM] [Info] Start training from score -1.627750\n",
      "[LightGBM] [Info] Start training from score -0.718391\n",
      "[LightGBM] [Warning] bagging_fraction is set=0.8, subsample=1.0 will be ignored. Current value: bagging_fraction=0.8\n",
      "[LightGBM] [Warning] bagging_freq is set=1, subsample_freq=0 will be ignored. Current value: bagging_freq=1\n",
      "n_estimators: 5, time_taken: 0.3031322001479566s, accuracy: 0.8233137829912024\n",
      "[LightGBM] [Warning] bagging_fraction is set=0.8, subsample=1.0 will be ignored. Current value: bagging_fraction=0.8\n",
      "[LightGBM] [Warning] bagging_freq is set=1, subsample_freq=0 will be ignored. Current value: bagging_freq=1\n",
      "[LightGBM] [Warning] bagging_fraction is set=0.8, subsample=1.0 will be ignored. Current value: bagging_fraction=0.8\n",
      "[LightGBM] [Warning] bagging_freq is set=1, subsample_freq=0 will be ignored. Current value: bagging_freq=1\n",
      "[LightGBM] [Info] Auto-choosing row-wise multi-threading, the overhead of testing was 0.004580 seconds.\n",
      "You can set `force_row_wise=true` to remove the overhead.\n",
      "And if memory is not enough, you can set `force_col_wise=true`.\n",
      "[LightGBM] [Info] Total Bins 1928\n",
      "[LightGBM] [Info] Number of data points in the train set: 60014, number of used features: 50\n",
      "[LightGBM] [Info] Start training from score -1.151719\n",
      "[LightGBM] [Info] Start training from score -1.627750\n",
      "[LightGBM] [Info] Start training from score -0.718391\n",
      "[LightGBM] [Warning] bagging_fraction is set=0.8, subsample=1.0 will be ignored. Current value: bagging_fraction=0.8\n",
      "[LightGBM] [Warning] bagging_freq is set=1, subsample_freq=0 will be ignored. Current value: bagging_freq=1\n",
      "n_estimators: 10, time_taken: 0.2780844001099467s, accuracy: 0.8231804852039456\n",
      "[LightGBM] [Warning] bagging_fraction is set=0.8, subsample=1.0 will be ignored. Current value: bagging_fraction=0.8\n",
      "[LightGBM] [Warning] bagging_freq is set=1, subsample_freq=0 will be ignored. Current value: bagging_freq=1\n",
      "[LightGBM] [Warning] bagging_fraction is set=0.8, subsample=1.0 will be ignored. Current value: bagging_fraction=0.8\n",
      "[LightGBM] [Warning] bagging_freq is set=1, subsample_freq=0 will be ignored. Current value: bagging_freq=1\n",
      "[LightGBM] [Info] Auto-choosing row-wise multi-threading, the overhead of testing was 0.005876 seconds.\n",
      "You can set `force_row_wise=true` to remove the overhead.\n",
      "And if memory is not enough, you can set `force_col_wise=true`.\n",
      "[LightGBM] [Info] Total Bins 1928\n",
      "[LightGBM] [Info] Number of data points in the train set: 60014, number of used features: 50\n",
      "[LightGBM] [Info] Start training from score -1.151719\n",
      "[LightGBM] [Info] Start training from score -1.627750\n",
      "[LightGBM] [Info] Start training from score -0.718391\n",
      "[LightGBM] [Warning] bagging_fraction is set=0.8, subsample=1.0 will be ignored. Current value: bagging_fraction=0.8\n",
      "[LightGBM] [Warning] bagging_freq is set=1, subsample_freq=0 will be ignored. Current value: bagging_freq=1\n",
      "n_estimators: 20, time_taken: 0.5255613999906927s, accuracy: 0.8235137296720875\n",
      "[LightGBM] [Warning] bagging_fraction is set=0.8, subsample=1.0 will be ignored. Current value: bagging_fraction=0.8\n",
      "[LightGBM] [Warning] bagging_freq is set=1, subsample_freq=0 will be ignored. Current value: bagging_freq=1\n",
      "[LightGBM] [Warning] bagging_fraction is set=0.8, subsample=1.0 will be ignored. Current value: bagging_fraction=0.8\n",
      "[LightGBM] [Warning] bagging_freq is set=1, subsample_freq=0 will be ignored. Current value: bagging_freq=1\n",
      "[LightGBM] [Info] Auto-choosing row-wise multi-threading, the overhead of testing was 0.008677 seconds.\n",
      "You can set `force_row_wise=true` to remove the overhead.\n",
      "And if memory is not enough, you can set `force_col_wise=true`.\n",
      "[LightGBM] [Info] Total Bins 1928\n",
      "[LightGBM] [Info] Number of data points in the train set: 60014, number of used features: 50\n",
      "[LightGBM] [Info] Start training from score -1.151719\n",
      "[LightGBM] [Info] Start training from score -1.627750\n",
      "[LightGBM] [Info] Start training from score -0.718391\n",
      "[LightGBM] [Warning] bagging_fraction is set=0.8, subsample=1.0 will be ignored. Current value: bagging_fraction=0.8\n",
      "[LightGBM] [Warning] bagging_freq is set=1, subsample_freq=0 will be ignored. Current value: bagging_freq=1\n",
      "n_estimators: 50, time_taken: 0.9300279000308365s, accuracy: 0.8231804852039456\n",
      "[LightGBM] [Warning] bagging_fraction is set=0.8, subsample=1.0 will be ignored. Current value: bagging_fraction=0.8\n",
      "[LightGBM] [Warning] bagging_freq is set=1, subsample_freq=0 will be ignored. Current value: bagging_freq=1\n",
      "[LightGBM] [Warning] bagging_fraction is set=0.8, subsample=1.0 will be ignored. Current value: bagging_fraction=0.8\n",
      "[LightGBM] [Warning] bagging_freq is set=1, subsample_freq=0 will be ignored. Current value: bagging_freq=1\n",
      "[LightGBM] [Info] Auto-choosing row-wise multi-threading, the overhead of testing was 0.004255 seconds.\n",
      "You can set `force_row_wise=true` to remove the overhead.\n",
      "And if memory is not enough, you can set `force_col_wise=true`.\n",
      "[LightGBM] [Info] Total Bins 1928\n",
      "[LightGBM] [Info] Number of data points in the train set: 60014, number of used features: 50\n",
      "[LightGBM] [Info] Start training from score -1.151719\n",
      "[LightGBM] [Info] Start training from score -1.627750\n",
      "[LightGBM] [Info] Start training from score -0.718391\n",
      "[LightGBM] [Warning] bagging_fraction is set=0.8, subsample=1.0 will be ignored. Current value: bagging_fraction=0.8\n",
      "[LightGBM] [Warning] bagging_freq is set=1, subsample_freq=0 will be ignored. Current value: bagging_freq=1\n",
      "n_estimators: 100, time_taken: 1.2374452999792993s, accuracy: 0.8231804852039456\n",
      "[LightGBM] [Warning] bagging_fraction is set=0.8, subsample=1.0 will be ignored. Current value: bagging_fraction=0.8\n",
      "[LightGBM] [Warning] bagging_freq is set=1, subsample_freq=0 will be ignored. Current value: bagging_freq=1\n",
      "[LightGBM] [Warning] bagging_fraction is set=0.8, subsample=1.0 will be ignored. Current value: bagging_fraction=0.8\n",
      "[LightGBM] [Warning] bagging_freq is set=1, subsample_freq=0 will be ignored. Current value: bagging_freq=1\n",
      "[LightGBM] [Info] Auto-choosing row-wise multi-threading, the overhead of testing was 0.004724 seconds.\n",
      "You can set `force_row_wise=true` to remove the overhead.\n",
      "And if memory is not enough, you can set `force_col_wise=true`.\n",
      "[LightGBM] [Info] Total Bins 1928\n",
      "[LightGBM] [Info] Number of data points in the train set: 60014, number of used features: 50\n",
      "[LightGBM] [Info] Start training from score -1.151719\n",
      "[LightGBM] [Info] Start training from score -1.627750\n",
      "[LightGBM] [Info] Start training from score -0.718391\n",
      "[LightGBM] [Warning] bagging_fraction is set=0.8, subsample=1.0 will be ignored. Current value: bagging_fraction=0.8\n",
      "[LightGBM] [Warning] bagging_freq is set=1, subsample_freq=0 will be ignored. Current value: bagging_freq=1\n",
      "n_estimators: 200, time_taken: 2.243157400051132s, accuracy: 0.8231804852039456\n",
      "[LightGBM] [Warning] bagging_fraction is set=0.8, subsample=1.0 will be ignored. Current value: bagging_fraction=0.8\n",
      "[LightGBM] [Warning] bagging_freq is set=1, subsample_freq=0 will be ignored. Current value: bagging_freq=1\n",
      "[LightGBM] [Warning] bagging_fraction is set=0.8, subsample=1.0 will be ignored. Current value: bagging_fraction=0.8\n",
      "[LightGBM] [Warning] bagging_freq is set=1, subsample_freq=0 will be ignored. Current value: bagging_freq=1\n",
      "[LightGBM] [Info] Auto-choosing row-wise multi-threading, the overhead of testing was 0.004833 seconds.\n",
      "You can set `force_row_wise=true` to remove the overhead.\n",
      "And if memory is not enough, you can set `force_col_wise=true`.\n",
      "[LightGBM] [Info] Total Bins 1928\n",
      "[LightGBM] [Info] Number of data points in the train set: 60014, number of used features: 50\n",
      "[LightGBM] [Info] Start training from score -1.151719\n",
      "[LightGBM] [Info] Start training from score -1.627750\n",
      "[LightGBM] [Info] Start training from score -0.718391\n",
      "[LightGBM] [Warning] bagging_fraction is set=0.8, subsample=1.0 will be ignored. Current value: bagging_fraction=0.8\n",
      "[LightGBM] [Warning] bagging_freq is set=1, subsample_freq=0 will be ignored. Current value: bagging_freq=1\n",
      "n_estimators: 300, time_taken: 3.011109800077975s, accuracy: 0.8231804852039456\n"
     ]
    }
   ],
   "source": [
    "params = {\n",
    "    'boosting_type': 'rf',\n",
    "    'bagging_freq': 1,\n",
    "    'bagging_fraction': 0.8\n",
    "}\n",
    "model = LGBMClassifier()\n",
    "acc,tim = [], []\n",
    "for x in estims:\n",
    "    model = LGBMClassifier(n_estimators=x,**params)\n",
    "    start = time.perf_counter()\n",
    "    model.fit(X_train,y_train)\n",
    "    end = time.perf_counter()\n",
    "    y_pred = model.predict(X_val)\n",
    "    _acc = accuracy_score(y_val,y_pred)\n",
    "    tim.append(end-start)\n",
    "    print(f'n_estimators: {x}, time_taken: {end-start}s, accuracy: {_acc}')\n",
    "    acc.append(_acc)"
   ]
  },
  {
   "cell_type": "code",
   "execution_count": 32,
   "metadata": {},
   "outputs": [
    {
     "data": {
      "text/plain": [
       "Text(0.5, 1.0, 'Training time')"
      ]
     },
     "execution_count": 32,
     "metadata": {},
     "output_type": "execute_result"
    },
    {
     "data": {
      "image/png": "[encoded data removed]",
      "text/plain": [
       "<Figure size 1000x500 with 2 Axes>"
      ]
     },
     "metadata": {},
     "output_type": "display_data"
    }
   ],
   "source": [
    "fig = plt.figure(figsize=(10,5))\n",
    "\n",
    "ax1 = fig.add_subplot(121)\n",
    "ax1.plot(estims,acc)\n",
    "ax1.set_title('Accuracy')\n",
    "\n",
    "ax2 = fig.add_subplot(122)\n",
    "ax2.plot(estims,tim)\n",
    "ax2.set_title('Training time')"
   ]
  },
  {
   "cell_type": "markdown",
   "metadata": {},
   "source": [
    "Different boosting did not work"
   ]
  },
  {
   "cell_type": "code",
   "execution_count": 33,
   "metadata": {},
   "outputs": [
    {
     "name": "stdout",
     "output_type": "stream",
     "text": [
      "[LightGBM] [Info] Auto-choosing row-wise multi-threading, the overhead of testing was 0.006982 seconds.\n",
      "You can set `force_row_wise=true` to remove the overhead.\n",
      "And if memory is not enough, you can set `force_col_wise=true`.\n",
      "[LightGBM] [Info] Total Bins 1928\n",
      "[LightGBM] [Info] Number of data points in the train set: 60014, number of used features: 50\n",
      "[LightGBM] [Info] Start training from score -1.151719\n",
      "[LightGBM] [Info] Start training from score -1.627750\n",
      "[LightGBM] [Info] Start training from score -0.718391\n",
      "Training time: 2.6183541999198496s, Accuracy: 84.051%\n",
      "CPU times: total: 20.1 s\n",
      "Wall time: 2.75 s\n"
     ]
    }
   ],
   "source": [
    "%%time\n",
    "model_lgbm = LGBMClassifier(n_estimators=300)\n",
    "start = time.perf_counter()\n",
    "model_lgbm.fit(X_train,y_train)\n",
    "end = time.perf_counter()\n",
    "y_pred = model_lgbm.predict(X_val)\n",
    "print(f'Training time: {end-start}s, Accuracy: {round(accuracy_score(y_val,y_pred)*100,3)}%')"
   ]
  },
  {
   "cell_type": "code",
   "execution_count": 34,
   "metadata": {},
   "outputs": [
    {
     "name": "stdout",
     "output_type": "stream",
     "text": [
      "              precision    recall  f1-score   support\n",
      "\n",
      "           0     0.9382    0.8368    0.8846      4699\n",
      "           1     0.6593    0.6410    0.6500      2961\n",
      "           2     0.8547    0.9233    0.8877      7344\n",
      "\n",
      "    accuracy                         0.8405     15004\n",
      "   macro avg     0.8174    0.8004    0.8074     15004\n",
      "weighted avg     0.8423    0.8405    0.8398     15004\n",
      "\n"
     ]
    }
   ],
   "source": [
    "y_pred = model_lgbm.predict(X_val)\n",
    "print(classification_report(y_val, y_pred, labels = sorted(list(set(y_enc))), digits=4))"
   ]
  },
  {
   "cell_type": "markdown",
   "metadata": {},
   "source": [
    "## The ensemble"
   ]
  },
  {
   "cell_type": "markdown",
   "metadata": {},
   "source": [
    "The performance is similar to last time. Now let us combine these two models with weights `2` for Random Forest and `1` for Naive Bayes Classifier"
   ]
  },
  {
   "cell_type": "code",
   "execution_count": 35,
   "metadata": {},
   "outputs": [
    {
     "name": "stdout",
     "output_type": "stream",
     "text": [
      "[Voting] ....................... (1 of 2) Processing rf, total=  51.9s\n",
      "[LightGBM] [Info] Auto-choosing row-wise multi-threading, the overhead of testing was 0.005463 seconds.\n",
      "You can set `force_row_wise=true` to remove the overhead.\n",
      "And if memory is not enough, you can set `force_col_wise=true`.\n",
      "[LightGBM] [Info] Total Bins 1928\n",
      "[LightGBM] [Info] Number of data points in the train set: 60014, number of used features: 50\n",
      "[LightGBM] [Info] Start training from score -1.151719\n",
      "[LightGBM] [Info] Start training from score -1.627750\n",
      "[LightGBM] [Info] Start training from score -0.718391\n",
      "[Voting] ....................... (2 of 2) Processing nb, total=   3.3s\n",
      "Total training time: 55.24850980006158 s\n",
      "CPU times: total: 42 s\n",
      "Wall time: 56 s\n"
     ]
    }
   ],
   "source": [
    "%%time\n",
    "soft_ensemble = VotingClassifier(estimators=[('rf',model_rf),('nb',model_lgbm)],voting='soft',weights=[1,1.2],verbose=True)\n",
    "start = time.perf_counter()\n",
    "soft_ensemble.fit(X_train,y_train)\n",
    "end = time.perf_counter()\n",
    "print(f'Total training time: {end-start} s')"
   ]
  },
  {
   "cell_type": "code",
   "execution_count": 36,
   "metadata": {},
   "outputs": [
    {
     "name": "stdout",
     "output_type": "stream",
     "text": [
      "              precision    recall  f1-score   support\n",
      "\n",
      "           0     0.9441    0.8306    0.8837      4699\n",
      "           1     0.6569    0.6420    0.6494      2961\n",
      "           2     0.8521    0.9254    0.8872      7344\n",
      "\n",
      "    accuracy                         0.8398     15004\n",
      "   macro avg     0.8177    0.7993    0.8068     15004\n",
      "weighted avg     0.8424    0.8398    0.8392     15004\n",
      "\n"
     ]
    }
   ],
   "source": [
    "y_pred = soft_ensemble.predict(X_val)\n",
    "print(classification_report(y_val, y_pred, labels = sorted(list(set(y_enc))), digits=4))"
   ]
  },
  {
   "cell_type": "code",
   "execution_count": 37,
   "metadata": {},
   "outputs": [
    {
     "name": "stdout",
     "output_type": "stream",
     "text": [
      "[Voting] ....................... (1 of 2) Processing rf, total= 1.2min\n",
      "[LightGBM] [Info] Auto-choosing row-wise multi-threading, the overhead of testing was 0.033830 seconds.\n",
      "You can set `force_row_wise=true` to remove the overhead.\n",
      "And if memory is not enough, you can set `force_col_wise=true`.\n",
      "[LightGBM] [Info] Total Bins 1928\n",
      "[LightGBM] [Info] Number of data points in the train set: 60014, number of used features: 50\n",
      "[LightGBM] [Info] Start training from score -1.151719\n",
      "[LightGBM] [Info] Start training from score -1.627750\n",
      "[LightGBM] [Info] Start training from score -0.718391\n",
      "[Voting] ....................... (2 of 2) Processing nb, total=  14.6s\n",
      "Total training time: 86.2729110000655 s\n",
      "CPU times: total: 1min 9s\n",
      "Wall time: 1min 27s\n"
     ]
    }
   ],
   "source": [
    "%%time\n",
    "hard_ensemble = VotingClassifier(estimators=[('rf',model_rf),('nb',model_lgbm)],voting='hard',verbose=True)\n",
    "start = time.perf_counter()\n",
    "hard_ensemble.fit(X_train,y_train)\n",
    "end = time.perf_counter()\n",
    "print(f'Total training time: {end-start} s')"
   ]
  },
  {
   "cell_type": "code",
   "execution_count": 38,
   "metadata": {},
   "outputs": [
    {
     "name": "stdout",
     "output_type": "stream",
     "text": [
      "              precision    recall  f1-score   support\n",
      "\n",
      "           0     0.9229    0.8453    0.8824      4699\n",
      "           1     0.6441    0.6498    0.6469      2961\n",
      "           2     0.8641    0.9075    0.8853      7344\n",
      "\n",
      "    accuracy                         0.8372     15004\n",
      "   macro avg     0.8104    0.8009    0.8049     15004\n",
      "weighted avg     0.8391    0.8372    0.8373     15004\n",
      "\n"
     ]
    }
   ],
   "source": [
    "y_pred = hard_ensemble.predict(X_val)\n",
    "print(classification_report(y_val, y_pred, labels = sorted(list(set(y_enc))), digits=4))"
   ]
  },
  {
   "cell_type": "markdown",
   "metadata": {},
   "source": [
    "Let's try with weights"
   ]
  },
  {
   "cell_type": "code",
   "execution_count": 39,
   "metadata": {},
   "outputs": [
    {
     "name": "stdout",
     "output_type": "stream",
     "text": [
      "[Voting] ....................... (1 of 2) Processing rf, total= 1.3min\n",
      "[LightGBM] [Info] Auto-choosing row-wise multi-threading, the overhead of testing was 0.008559 seconds.\n",
      "You can set `force_row_wise=true` to remove the overhead.\n",
      "And if memory is not enough, you can set `force_col_wise=true`.\n",
      "[LightGBM] [Info] Total Bins 1928\n",
      "[LightGBM] [Info] Number of data points in the train set: 60014, number of used features: 50\n",
      "[LightGBM] [Info] Start training from score -1.151719\n",
      "[LightGBM] [Info] Start training from score -1.627750\n",
      "[LightGBM] [Info] Start training from score -0.718391\n",
      "[Voting] ....................... (2 of 2) Processing nb, total=   8.0s\n",
      "Total training time: 86.16336710005999 s\n",
      "CPU times: total: 1min 50s\n",
      "Wall time: 1min 26s\n"
     ]
    }
   ],
   "source": [
    "%%time\n",
    "hard_ensemble_weighted = VotingClassifier(estimators=[('rf',model_rf),('nb',model_lgbm)],voting='hard',weights=[1,1.2],verbose=True)\n",
    "start = time.perf_counter()\n",
    "hard_ensemble_weighted.fit(X_train,y_train)\n",
    "end = time.perf_counter()\n",
    "print(f'Total training time: {end-start} s')"
   ]
  },
  {
   "cell_type": "code",
   "execution_count": 40,
   "metadata": {},
   "outputs": [
    {
     "name": "stdout",
     "output_type": "stream",
     "text": [
      "              precision    recall  f1-score   support\n",
      "\n",
      "           0     0.9382    0.8368    0.8846      4699\n",
      "           1     0.6593    0.6410    0.6500      2961\n",
      "           2     0.8547    0.9233    0.8877      7344\n",
      "\n",
      "    accuracy                         0.8405     15004\n",
      "   macro avg     0.8174    0.8004    0.8074     15004\n",
      "weighted avg     0.8423    0.8405    0.8398     15004\n",
      "\n"
     ]
    }
   ],
   "source": [
    "y_pred = hard_ensemble_weighted.predict(X_val)\n",
    "print(classification_report(y_val, y_pred, labels = sorted(list(set(y_enc))), digits=4))"
   ]
  },
  {
   "cell_type": "markdown",
   "metadata": {},
   "source": [
    "Next, let us try the hard ensemble but with oversampling"
   ]
  },
  {
   "cell_type": "code",
   "execution_count": 41,
   "metadata": {},
   "outputs": [],
   "source": [
    "from imblearn.over_sampling import SMOTE"
   ]
  },
  {
   "cell_type": "code",
   "execution_count": 42,
   "metadata": {},
   "outputs": [],
   "source": [
    "X_train1, y_train1 = SMOTE().fit_resample(X_train,y_train)"
   ]
  },
  {
   "cell_type": "code",
   "execution_count": 44,
   "metadata": {},
   "outputs": [
    {
     "name": "stdout",
     "output_type": "stream",
     "text": [
      "[Voting] ....................... (1 of 2) Processing rf, total= 3.3min\n",
      "[LightGBM] [Info] Auto-choosing row-wise multi-threading, the overhead of testing was 0.018151 seconds.\n",
      "You can set `force_row_wise=true` to remove the overhead.\n",
      "And if memory is not enough, you can set `force_col_wise=true`.\n",
      "[LightGBM] [Info] Total Bins 11710\n",
      "[LightGBM] [Info] Number of data points in the train set: 87777, number of used features: 50\n",
      "[LightGBM] [Info] Start training from score -1.098612\n",
      "[LightGBM] [Info] Start training from score -1.098612\n",
      "[LightGBM] [Info] Start training from score -1.098612\n",
      "[Voting] ....................... (2 of 2) Processing nb, total=  12.9s\n",
      "Total training time: 208.1757837999612 s\n",
      "CPU times: total: 2min 57s\n",
      "Wall time: 3min 28s\n"
     ]
    }
   ],
   "source": [
    "%%time\n",
    "hard_ensemble = VotingClassifier(estimators=[('rf',model_rf),('nb',model_lgbm)],voting='hard',weights=[2,1],verbose=True)\n",
    "start = time.perf_counter()\n",
    "hard_ensemble.fit(X_train1,y_train1)\n",
    "end = time.perf_counter()\n",
    "print(f'Total training time: {end-start} s')"
   ]
  },
  {
   "cell_type": "code",
   "execution_count": 45,
   "metadata": {},
   "outputs": [
    {
     "name": "stdout",
     "output_type": "stream",
     "text": [
      "              precision    recall  f1-score   support\n",
      "\n",
      "           0     0.9530    0.8193    0.8811      4699\n",
      "           1     0.6323    0.6724    0.6517      2961\n",
      "           2     0.8583    0.9134    0.8850      7344\n",
      "\n",
      "    accuracy                         0.8364     15004\n",
      "   macro avg     0.8145    0.8017    0.8059     15004\n",
      "weighted avg     0.8434    0.8364    0.8378     15004\n",
      "\n"
     ]
    }
   ],
   "source": [
    "y_pred = hard_ensemble.predict(X_val)\n",
    "print(classification_report(y_val, y_pred, labels = sorted(list(set(y_enc))), digits=4))"
   ]
  },
  {
   "cell_type": "markdown",
   "metadata": {},
   "source": [
    "## Train base by oversampling\n",
    "\n",
    "We train base models by oversampling and then try the ensemble"
   ]
  },
  {
   "cell_type": "code",
   "execution_count": 46,
   "metadata": {},
   "outputs": [
    {
     "name": "stdout",
     "output_type": "stream",
     "text": [
      "Training ended in 132.21215519984253 s\n",
      "CPU times: total: 2min\n",
      "Wall time: 2min 12s\n"
     ]
    }
   ],
   "source": [
    "%%time\n",
    "rf_os = RandomForestClassifier(n_estimators=300)\n",
    "start = time.perf_counter()\n",
    "rf_os.fit(X_train1,y_train1)\n",
    "end = time.perf_counter()\n",
    "print(f'Training ended in {end-start} s')"
   ]
  },
  {
   "cell_type": "code",
   "execution_count": 47,
   "metadata": {},
   "outputs": [
    {
     "name": "stdout",
     "output_type": "stream",
     "text": [
      "              precision    recall  f1-score   support\n",
      "\n",
      "           0     0.9532    0.8151    0.8787      4699\n",
      "           1     0.6312    0.6717    0.6509      2961\n",
      "           2     0.8565    0.9138    0.8842      7344\n",
      "\n",
      "    accuracy                         0.8351     15004\n",
      "   macro avg     0.8137    0.8002    0.8046     15004\n",
      "weighted avg     0.8424    0.8351    0.8365     15004\n",
      "\n"
     ]
    }
   ],
   "source": [
    "y_pred = rf_os.predict(X_val)\n",
    "print(classification_report(y_val, y_pred, labels = sorted(list(set(y_enc))), digits=4))"
   ]
  },
  {
   "cell_type": "code",
   "execution_count": 48,
   "metadata": {},
   "outputs": [
    {
     "name": "stdout",
     "output_type": "stream",
     "text": [
      "[LightGBM] [Info] Auto-choosing row-wise multi-threading, the overhead of testing was 0.014718 seconds.\n",
      "You can set `force_row_wise=true` to remove the overhead.\n",
      "And if memory is not enough, you can set `force_col_wise=true`.\n",
      "[LightGBM] [Info] Total Bins 11710\n",
      "[LightGBM] [Info] Number of data points in the train set: 87777, number of used features: 50\n",
      "[LightGBM] [Info] Start training from score -1.098612\n",
      "[LightGBM] [Info] Start training from score -1.098612\n",
      "[LightGBM] [Info] Start training from score -1.098612\n",
      "Training ended in 4.892612399999052 s\n",
      "CPU times: total: 25 s\n",
      "Wall time: 4.89 s\n"
     ]
    }
   ],
   "source": [
    "%%time\n",
    "lgbm_os = LGBMClassifier()\n",
    "start = time.perf_counter()\n",
    "lgbm_os.fit(X_train1,y_train1)\n",
    "end = time.perf_counter()\n",
    "print(f'Training ended in {end-start} s')"
   ]
  },
  {
   "cell_type": "code",
   "execution_count": 49,
   "metadata": {},
   "outputs": [
    {
     "name": "stdout",
     "output_type": "stream",
     "text": [
      "              precision    recall  f1-score   support\n",
      "\n",
      "           0     0.9421    0.8317    0.8835      4699\n",
      "           1     0.6456    0.6528    0.6492      2961\n",
      "           2     0.8569    0.9173    0.8861      7344\n",
      "\n",
      "    accuracy                         0.8383     15004\n",
      "   macro avg     0.8149    0.8006    0.8063     15004\n",
      "weighted avg     0.8419    0.8383    0.8385     15004\n",
      "\n"
     ]
    }
   ],
   "source": [
    "y_pred = lgbm_os.predict(X_val)\n",
    "print(classification_report(y_val, y_pred, labels = sorted(list(set(y_enc))), digits=4))"
   ]
  },
  {
   "cell_type": "markdown",
   "metadata": {},
   "source": [
    "Let's try the ensemble"
   ]
  },
  {
   "cell_type": "code",
   "execution_count": 50,
   "metadata": {},
   "outputs": [
    {
     "name": "stdout",
     "output_type": "stream",
     "text": [
      "[Voting] ....................... (1 of 2) Processing rf, total= 2.9min\n",
      "[LightGBM] [Info] Auto-choosing col-wise multi-threading, the overhead of testing was 0.014192 seconds.\n",
      "You can set `force_col_wise=true` to remove the overhead.\n",
      "[LightGBM] [Info] Total Bins 11710\n",
      "[LightGBM] [Info] Number of data points in the train set: 87777, number of used features: 50\n",
      "[LightGBM] [Info] Start training from score -1.098612\n",
      "[LightGBM] [Info] Start training from score -1.098612\n",
      "[LightGBM] [Info] Start training from score -1.098612\n",
      "[Voting] ....................... (2 of 2) Processing nb, total=   2.1s\n",
      "Total training time: 175.99004839989357 s\n",
      "CPU times: total: 2min 43s\n",
      "Wall time: 2min 55s\n"
     ]
    }
   ],
   "source": [
    "%%time\n",
    "hard_ensemble_os = VotingClassifier(estimators=[('rf',rf_os),('nb',lgbm_os)],voting='hard',weights=[1,1.2],verbose=True)\n",
    "start = time.perf_counter()\n",
    "hard_ensemble_os.fit(X_train1,y_train1)\n",
    "end = time.perf_counter()\n",
    "print(f'Total training time: {end-start} s')"
   ]
  },
  {
   "cell_type": "code",
   "execution_count": 51,
   "metadata": {},
   "outputs": [
    {
     "name": "stdout",
     "output_type": "stream",
     "text": [
      "              precision    recall  f1-score   support\n",
      "\n",
      "           0     0.9421    0.8317    0.8835      4699\n",
      "           1     0.6456    0.6528    0.6492      2961\n",
      "           2     0.8569    0.9173    0.8861      7344\n",
      "\n",
      "    accuracy                         0.8383     15004\n",
      "   macro avg     0.8149    0.8006    0.8063     15004\n",
      "weighted avg     0.8419    0.8383    0.8385     15004\n",
      "\n"
     ]
    }
   ],
   "source": [
    "y_pred = hard_ensemble_os.predict(X_val)\n",
    "print(classification_report(y_val, y_pred, labels = sorted(list(set(y_enc))), digits=4))"
   ]
  },
  {
   "cell_type": "code",
   "execution_count": 54,
   "metadata": {},
   "outputs": [
    {
     "name": "stdout",
     "output_type": "stream",
     "text": [
      "[Voting] ....................... (1 of 2) Processing rf, total= 1.9min\n",
      "[LightGBM] [Info] Auto-choosing col-wise multi-threading, the overhead of testing was 0.013934 seconds.\n",
      "You can set `force_col_wise=true` to remove the overhead.\n",
      "[LightGBM] [Info] Total Bins 11710\n",
      "[LightGBM] [Info] Number of data points in the train set: 87777, number of used features: 50\n",
      "[LightGBM] [Info] Start training from score -1.098612\n",
      "[LightGBM] [Info] Start training from score -1.098612\n",
      "[LightGBM] [Info] Start training from score -1.098612\n",
      "[Voting] ....................... (2 of 2) Processing nb, total=   2.5s\n",
      "Total training time: 116.77868089987896 s\n",
      "CPU times: total: 2min 3s\n",
      "Wall time: 1min 56s\n"
     ]
    }
   ],
   "source": [
    "%%time\n",
    "hard_ensemble_os1 = VotingClassifier(estimators=[('rf',model_rf),('nb',lgbm_os)],voting='hard',weights=[1,1.2],verbose=True)\n",
    "start = time.perf_counter()\n",
    "hard_ensemble_os1.fit(X_train1,y_train1)\n",
    "end = time.perf_counter()\n",
    "print(f'Total training time: {end-start} s')"
   ]
  },
  {
   "cell_type": "code",
   "execution_count": 55,
   "metadata": {},
   "outputs": [
    {
     "name": "stdout",
     "output_type": "stream",
     "text": [
      "              precision    recall  f1-score   support\n",
      "\n",
      "           0     0.9421    0.8317    0.8835      4699\n",
      "           1     0.6456    0.6528    0.6492      2961\n",
      "           2     0.8569    0.9173    0.8861      7344\n",
      "\n",
      "    accuracy                         0.8383     15004\n",
      "   macro avg     0.8149    0.8006    0.8063     15004\n",
      "weighted avg     0.8419    0.8383    0.8385     15004\n",
      "\n"
     ]
    }
   ],
   "source": [
    "y_pred = hard_ensemble_os1.predict(X_val)\n",
    "print(classification_report(y_val, y_pred, labels = sorted(list(set(y_enc))), digits=4))"
   ]
  },
  {
   "cell_type": "markdown",
   "metadata": {},
   "source": [
    "Oversampling did not help, in fact, it reduced performance"
   ]
  }
 ],
 "metadata": {
  "kernelspec": {
   "display_name": "Python 3",
   "language": "python",
   "name": "python3"
  },
  "language_info": {
   "codemirror_mode": {
    "name": "ipython",
    "version": 3
   },
   "file_extension": ".py",
   "mimetype": "text/x-python",
   "name": "python",
   "nbconvert_exporter": "python",
   "pygments_lexer": "ipython3",
   "version": "3.11.4"
  }
 },
 "nbformat": 4,
 "nbformat_minor": 2
}
