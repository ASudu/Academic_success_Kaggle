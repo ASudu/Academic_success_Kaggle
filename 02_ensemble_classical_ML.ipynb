{
 "cells": [
  {
   "cell_type": "markdown",
   "metadata": {},
   "source": [
    "# Ensemble of Classical Models\n",
    "\n",
    "From the previous notebook, we saw that both Naive Bayes Classifier and Random Forest Classifier performed really well. So, in this notebook we construct an ensemble of these and then note how the perfrmance varies"
   ]
  },
  {
   "cell_type": "code",
   "execution_count": 30,
   "metadata": {},
   "outputs": [],
   "source": [
    "import pandas as pd\n",
    "import numpy as np\n",
    "import time\n",
    "import matplotlib.pyplot as plt\n",
    "import seaborn as sns\n",
    "\n",
    "from sklearn.naive_bayes import GaussianNB\n",
    "from lightgbm import LGBMClassifier\n",
    "from sklearn.ensemble import RandomForestClassifier, VotingClassifier\n",
    "from sklearn.model_selection import train_test_split\n",
    "from sklearn.preprocessing import StandardScaler, LabelEncoder\n",
    "from sklearn.metrics import roc_auc_score, multilabel_confusion_matrix, accuracy_score, classification_report, balanced_accuracy_score"
   ]
  },
  {
   "cell_type": "code",
   "execution_count": 31,
   "metadata": {},
   "outputs": [
    {
     "data": {
      "text/plain": [
       "Index(['id', 'marital_status', 'appln_mode', 'appln_order', 'prog_of_study',\n",
       "       'morn/eve_attend', 'prev_edu', 'prev_edu_grade', 'nationality',\n",
       "       'mom_edu', 'dad_edu', 'mom_occup', 'admission_grade', 'was_displaced',\n",
       "       'edu_spl_need', 'has_student_debt', 'no_fee_dues', 'gender',\n",
       "       'got_scholarship', 'age_at_start', 'sem1_units_credited',\n",
       "       'sem1_units_enrolled', 'sem1_units_eval', 'sem1_units_approved',\n",
       "       'sem1_units_grade', 'sem1_units_no_eval', 'sem2_units_credited',\n",
       "       'sem2_units_enrolled', 'sem2_units_eval', 'sem2_units_approved',\n",
       "       'sem2_units_grade', 'sem2_units_no_eval', 'unemployment_rate',\n",
       "       'inflation', 'gdp', 'Target', 'marital_status_log', 'appln_order_log',\n",
       "       'prog_of_study_log', 'morn/eve_attend_log', 'prev_edu_log',\n",
       "       'nationality_log', 'mom_occup_log', 'edu_spl_need_log',\n",
       "       'has_student_debt_log', 'no_fee_dues_log', 'got_scholarship_log',\n",
       "       'age_at_start_log', 'sem1_units_credited_log', 'sem1_units_grade_log',\n",
       "       'sem1_units_no_eval_log', 'sem2_units_credited_log',\n",
       "       'sem2_units_grade_log', 'sem2_units_no_eval_log'],\n",
       "      dtype='object')"
      ]
     },
     "execution_count": 31,
     "metadata": {},
     "output_type": "execute_result"
    }
   ],
   "source": [
    "df = pd.read_csv('data/cleaned_train.csv')\n",
    "df.columns"
   ]
  },
  {
   "cell_type": "code",
   "execution_count": 32,
   "metadata": {},
   "outputs": [],
   "source": [
    "X,y = df.drop(columns=['Target','id','nationality']).values, df['Target'].values\n",
    "\n",
    "# Train test split\n",
    "le = LabelEncoder()\n",
    "y_l = le.fit(y)\n",
    "y_enc = y_l.transform(y)\n",
    "\n",
    "X_train, X_val, y_train, y_val = train_test_split(X, y_enc, test_size=0.2, random_state=42)"
   ]
  },
  {
   "cell_type": "markdown",
   "metadata": {},
   "source": [
    "First, let's train the Random Forest classifier with `300` estimators"
   ]
  },
  {
   "cell_type": "code",
   "execution_count": 33,
   "metadata": {},
   "outputs": [
    {
     "name": "stdout",
     "output_type": "stream",
     "text": [
      "Training ended in 36.7141449999981 s\n",
      "CPU times: total: 33 s\n",
      "Wall time: 36.7 s\n"
     ]
    }
   ],
   "source": [
    "%%time\n",
    "model_rf = RandomForestClassifier(n_estimators=300)\n",
    "start = time.perf_counter()\n",
    "model_rf.fit(X_train,y_train)\n",
    "end = time.perf_counter()\n",
    "print(f'Training ended in {end-start} s')"
   ]
  },
  {
   "cell_type": "code",
   "execution_count": 34,
   "metadata": {},
   "outputs": [
    {
     "name": "stdout",
     "output_type": "stream",
     "text": [
      "              precision    recall  f1-score   support\n",
      "\n",
      "           0     0.9418    0.8097    0.8708      4635\n",
      "           1     0.6455    0.6470    0.6463      2969\n",
      "           2     0.8548    0.9302    0.8909      7289\n",
      "\n",
      "    accuracy                         0.8362     14893\n",
      "   macro avg     0.8140    0.7956    0.8026     14893\n",
      "weighted avg     0.8401    0.8362    0.8359     14893\n",
      "\n"
     ]
    }
   ],
   "source": [
    "y_pred = model_rf.predict(X_val)\n",
    "print(classification_report(y_val, y_pred, labels = sorted(list(set(y_enc))), digits=4))"
   ]
  },
  {
   "cell_type": "markdown",
   "metadata": {},
   "source": [
    "The performance seems better than before, now let us train the LightGBM classifier"
   ]
  },
  {
   "cell_type": "code",
   "execution_count": 35,
   "metadata": {},
   "outputs": [
    {
     "name": "stdout",
     "output_type": "stream",
     "text": [
      "[LightGBM] [Info] Auto-choosing row-wise multi-threading, the overhead of testing was 0.005584 seconds.\n",
      "You can set `force_row_wise=true` to remove the overhead.\n",
      "And if memory is not enough, you can set `force_col_wise=true`.\n",
      "[LightGBM] [Info] Total Bins 1885\n",
      "[LightGBM] [Info] Number of data points in the train set: 59569, number of used features: 51\n",
      "[LightGBM] [Info] Start training from score -1.159147\n",
      "[LightGBM] [Info] Start training from score -1.624559\n",
      "[LightGBM] [Info] Start training from score -0.714886\n",
      "Training ended in 0.8166644999982964 s\n",
      "CPU times: total: 5.02 s\n",
      "Wall time: 890 ms\n"
     ]
    }
   ],
   "source": [
    "%%time\n",
    "model_lg = LGBMClassifier()\n",
    "start = time.perf_counter()\n",
    "model_lg.fit(X_train,y_train)\n",
    "end = time.perf_counter()\n",
    "print(f'Training ended in {end-start} s')"
   ]
  },
  {
   "cell_type": "code",
   "execution_count": 36,
   "metadata": {},
   "outputs": [
    {
     "name": "stdout",
     "output_type": "stream",
     "text": [
      "              precision    recall  f1-score   support\n",
      "\n",
      "           0     0.9365    0.8276    0.8787      4635\n",
      "           1     0.6615    0.6554    0.6584      2969\n",
      "           2     0.8614    0.9282    0.8936      7289\n",
      "\n",
      "    accuracy                         0.8425     14893\n",
      "   macro avg     0.8198    0.8038    0.8102     14893\n",
      "weighted avg     0.8449    0.8425    0.8421     14893\n",
      "\n"
     ]
    }
   ],
   "source": [
    "y_pred = model_lg.predict(X_val)\n",
    "print(classification_report(y_val, y_pred, labels = sorted(list(set(y_enc))), digits=4))"
   ]
  },
  {
   "cell_type": "markdown",
   "metadata": {},
   "source": [
    "Vary `n_estimators`"
   ]
  },
  {
   "cell_type": "code",
   "execution_count": 37,
   "metadata": {},
   "outputs": [
    {
     "name": "stdout",
     "output_type": "stream",
     "text": [
      "[LightGBM] [Info] Auto-choosing row-wise multi-threading, the overhead of testing was 0.003169 seconds.\n",
      "You can set `force_row_wise=true` to remove the overhead.\n",
      "And if memory is not enough, you can set `force_col_wise=true`.\n",
      "[LightGBM] [Info] Total Bins 1885\n",
      "[LightGBM] [Info] Number of data points in the train set: 59569, number of used features: 51\n",
      "[LightGBM] [Info] Start training from score -1.159147\n",
      "[LightGBM] [Info] Start training from score -1.624559\n",
      "[LightGBM] [Info] Start training from score -0.714886\n",
      "n_estimators: 5, time_taken: 0.12279870000202209s, accuracy: 0.8121936480225609\n",
      "[LightGBM] [Info] Auto-choosing row-wise multi-threading, the overhead of testing was 0.002700 seconds.\n",
      "You can set `force_row_wise=true` to remove the overhead.\n",
      "And if memory is not enough, you can set `force_col_wise=true`.\n",
      "[LightGBM] [Info] Total Bins 1885\n",
      "[LightGBM] [Info] Number of data points in the train set: 59569, number of used features: 51\n",
      "[LightGBM] [Info] Start training from score -1.159147\n",
      "[LightGBM] [Info] Start training from score -1.624559\n",
      "[LightGBM] [Info] Start training from score -0.714886\n",
      "n_estimators: 10, time_taken: 0.15781519999654847s, accuracy: 0.8294500772174848\n",
      "[LightGBM] [Info] Auto-choosing row-wise multi-threading, the overhead of testing was 0.003243 seconds.\n",
      "You can set `force_row_wise=true` to remove the overhead.\n",
      "And if memory is not enough, you can set `force_col_wise=true`.\n",
      "[LightGBM] [Info] Total Bins 1885\n",
      "[LightGBM] [Info] Number of data points in the train set: 59569, number of used features: 51\n",
      "[LightGBM] [Info] Start training from score -1.159147\n",
      "[LightGBM] [Info] Start training from score -1.624559\n",
      "[LightGBM] [Info] Start training from score -0.714886\n",
      "n_estimators: 20, time_taken: 0.23148500000024796s, accuracy: 0.8353588934398711\n",
      "[LightGBM] [Info] Auto-choosing row-wise multi-threading, the overhead of testing was 0.003440 seconds.\n",
      "You can set `force_row_wise=true` to remove the overhead.\n",
      "And if memory is not enough, you can set `force_col_wise=true`.\n",
      "[LightGBM] [Info] Total Bins 1885\n",
      "[LightGBM] [Info] Number of data points in the train set: 59569, number of used features: 51\n",
      "[LightGBM] [Info] Start training from score -1.159147\n",
      "[LightGBM] [Info] Start training from score -1.624559\n",
      "[LightGBM] [Info] Start training from score -0.714886\n",
      "n_estimators: 50, time_taken: 0.4146772999993118s, accuracy: 0.8406633989122406\n",
      "[LightGBM] [Info] Auto-choosing row-wise multi-threading, the overhead of testing was 0.003268 seconds.\n",
      "You can set `force_row_wise=true` to remove the overhead.\n",
      "And if memory is not enough, you can set `force_col_wise=true`.\n",
      "[LightGBM] [Info] Total Bins 1885\n",
      "[LightGBM] [Info] Number of data points in the train set: 59569, number of used features: 51\n",
      "[LightGBM] [Info] Start training from score -1.159147\n",
      "[LightGBM] [Info] Start training from score -1.624559\n",
      "[LightGBM] [Info] Start training from score -0.714886\n",
      "n_estimators: 100, time_taken: 0.7503426999974181s, accuracy: 0.8425434768011818\n",
      "[LightGBM] [Info] Auto-choosing row-wise multi-threading, the overhead of testing was 0.002965 seconds.\n",
      "You can set `force_row_wise=true` to remove the overhead.\n",
      "And if memory is not enough, you can set `force_col_wise=true`.\n",
      "[LightGBM] [Info] Total Bins 1885\n",
      "[LightGBM] [Info] Number of data points in the train set: 59569, number of used features: 51\n",
      "[LightGBM] [Info] Start training from score -1.159147\n",
      "[LightGBM] [Info] Start training from score -1.624559\n",
      "[LightGBM] [Info] Start training from score -0.714886\n",
      "n_estimators: 200, time_taken: 1.2637095999998564s, accuracy: 0.8413348553011482\n",
      "[LightGBM] [Info] Auto-choosing row-wise multi-threading, the overhead of testing was 0.003344 seconds.\n",
      "You can set `force_row_wise=true` to remove the overhead.\n",
      "And if memory is not enough, you can set `force_col_wise=true`.\n",
      "[LightGBM] [Info] Total Bins 1885\n",
      "[LightGBM] [Info] Number of data points in the train set: 59569, number of used features: 51\n",
      "[LightGBM] [Info] Start training from score -1.159147\n",
      "[LightGBM] [Info] Start training from score -1.624559\n",
      "[LightGBM] [Info] Start training from score -0.714886\n",
      "n_estimators: 300, time_taken: 1.8355670000019018s, accuracy: 0.8407976901900222\n"
     ]
    }
   ],
   "source": [
    "estims = [5,10,20,50,100,200,300]\n",
    "model = LGBMClassifier()\n",
    "acc,tim = [], []\n",
    "for x in estims:\n",
    "    model = LGBMClassifier(n_estimators=x)\n",
    "    start = time.perf_counter()\n",
    "    model.fit(X_train,y_train)\n",
    "    end = time.perf_counter()\n",
    "    y_pred = model.predict(X_val)\n",
    "    _acc = accuracy_score(y_val,y_pred)\n",
    "    tim.append(end-start)\n",
    "    print(f'n_estimators: {x}, time_taken: {end-start}s, accuracy: {_acc}')\n",
    "    acc.append(_acc)\n",
    "\n",
    "n_best = estims[np.argmax(acc)]"
   ]
  },
  {
   "cell_type": "code",
   "execution_count": 38,
   "metadata": {},
   "outputs": [
    {
     "data": {
      "text/plain": [
       "Text(0.5, 1.0, 'Training time')"
      ]
     },
     "execution_count": 38,
     "metadata": {},
     "output_type": "execute_result"
    },
    {
     "data": {
      "image/png": "[encoded data removed]",
      "text/plain": [
       "<Figure size 1000x500 with 2 Axes>"
      ]
     },
     "metadata": {},
     "output_type": "display_data"
    }
   ],
   "source": [
    "fig = plt.figure(figsize=(10,5))\n",
    "\n",
    "ax1 = fig.add_subplot(121)\n",
    "ax1.plot(estims,acc)\n",
    "ax1.set_title('Accuracy')\n",
    "\n",
    "ax2 = fig.add_subplot(122)\n",
    "ax2.plot(estims,tim)\n",
    "ax2.set_title('Training time')"
   ]
  },
  {
   "cell_type": "markdown",
   "metadata": {},
   "source": [
    "Try different boosting technique"
   ]
  },
  {
   "cell_type": "code",
   "execution_count": 39,
   "metadata": {},
   "outputs": [
    {
     "name": "stdout",
     "output_type": "stream",
     "text": [
      "[LightGBM] [Warning] bagging_fraction is set=0.8, subsample=1.0 will be ignored. Current value: bagging_fraction=0.8\n",
      "[LightGBM] [Warning] bagging_freq is set=1, subsample_freq=0 will be ignored. Current value: bagging_freq=1\n",
      "[LightGBM] [Warning] bagging_fraction is set=0.8, subsample=1.0 will be ignored. Current value: bagging_fraction=0.8\n",
      "[LightGBM] [Warning] bagging_freq is set=1, subsample_freq=0 will be ignored. Current value: bagging_freq=1\n",
      "[LightGBM] [Info] Auto-choosing row-wise multi-threading, the overhead of testing was 0.006801 seconds.\n",
      "You can set `force_row_wise=true` to remove the overhead.\n",
      "And if memory is not enough, you can set `force_col_wise=true`.\n",
      "[LightGBM] [Info] Total Bins 1885\n",
      "[LightGBM] [Info] Number of data points in the train set: 59569, number of used features: 51\n",
      "[LightGBM] [Info] Start training from score -1.159147\n",
      "[LightGBM] [Info] Start training from score -1.624559\n",
      "[LightGBM] [Info] Start training from score -0.714886\n",
      "[LightGBM] [Warning] bagging_fraction is set=0.8, subsample=1.0 will be ignored. Current value: bagging_fraction=0.8\n",
      "[LightGBM] [Warning] bagging_freq is set=1, subsample_freq=0 will be ignored. Current value: bagging_freq=1\n",
      "n_estimators: 5, time_taken: 0.23149069999999483s, accuracy: 0.8232055328006446\n",
      "[LightGBM] [Warning] bagging_fraction is set=0.8, subsample=1.0 will be ignored. Current value: bagging_fraction=0.8\n",
      "[LightGBM] [Warning] bagging_freq is set=1, subsample_freq=0 will be ignored. Current value: bagging_freq=1\n",
      "[LightGBM] [Warning] bagging_fraction is set=0.8, subsample=1.0 will be ignored. Current value: bagging_fraction=0.8\n",
      "[LightGBM] [Warning] bagging_freq is set=1, subsample_freq=0 will be ignored. Current value: bagging_freq=1\n",
      "[LightGBM] [Info] Auto-choosing row-wise multi-threading, the overhead of testing was 0.004497 seconds.\n",
      "You can set `force_row_wise=true` to remove the overhead.\n",
      "And if memory is not enough, you can set `force_col_wise=true`.\n",
      "[LightGBM] [Info] Total Bins 1885\n",
      "[LightGBM] [Info] Number of data points in the train set: 59569, number of used features: 51\n",
      "[LightGBM] [Info] Start training from score -1.159147\n",
      "[LightGBM] [Info] Start training from score -1.624559\n",
      "[LightGBM] [Info] Start training from score -0.714886\n",
      "[LightGBM] [Warning] bagging_fraction is set=0.8, subsample=1.0 will be ignored. Current value: bagging_fraction=0.8\n",
      "[LightGBM] [Warning] bagging_freq is set=1, subsample_freq=0 will be ignored. Current value: bagging_freq=1\n",
      "n_estimators: 10, time_taken: 0.2524959000002127s, accuracy: 0.8232726784395353\n",
      "[LightGBM] [Warning] bagging_fraction is set=0.8, subsample=1.0 will be ignored. Current value: bagging_fraction=0.8\n",
      "[LightGBM] [Warning] bagging_freq is set=1, subsample_freq=0 will be ignored. Current value: bagging_freq=1\n",
      "[LightGBM] [Warning] bagging_fraction is set=0.8, subsample=1.0 will be ignored. Current value: bagging_fraction=0.8\n",
      "[LightGBM] [Warning] bagging_freq is set=1, subsample_freq=0 will be ignored. Current value: bagging_freq=1\n",
      "[LightGBM] [Info] Auto-choosing row-wise multi-threading, the overhead of testing was 0.006037 seconds.\n",
      "You can set `force_row_wise=true` to remove the overhead.\n",
      "And if memory is not enough, you can set `force_col_wise=true`.\n",
      "[LightGBM] [Info] Total Bins 1885\n",
      "[LightGBM] [Info] Number of data points in the train set: 59569, number of used features: 51\n",
      "[LightGBM] [Info] Start training from score -1.159147\n",
      "[LightGBM] [Info] Start training from score -1.624559\n",
      "[LightGBM] [Info] Start training from score -0.714886\n",
      "[LightGBM] [Warning] bagging_fraction is set=0.8, subsample=1.0 will be ignored. Current value: bagging_fraction=0.8\n",
      "[LightGBM] [Warning] bagging_freq is set=1, subsample_freq=0 will be ignored. Current value: bagging_freq=1\n",
      "n_estimators: 20, time_taken: 0.34077980000074604s, accuracy: 0.8227355133284093\n",
      "[LightGBM] [Warning] bagging_fraction is set=0.8, subsample=1.0 will be ignored. Current value: bagging_fraction=0.8\n",
      "[LightGBM] [Warning] bagging_freq is set=1, subsample_freq=0 will be ignored. Current value: bagging_freq=1\n",
      "[LightGBM] [Warning] bagging_fraction is set=0.8, subsample=1.0 will be ignored. Current value: bagging_fraction=0.8\n",
      "[LightGBM] [Warning] bagging_freq is set=1, subsample_freq=0 will be ignored. Current value: bagging_freq=1\n",
      "[LightGBM] [Info] Auto-choosing row-wise multi-threading, the overhead of testing was 0.005773 seconds.\n",
      "You can set `force_row_wise=true` to remove the overhead.\n",
      "And if memory is not enough, you can set `force_col_wise=true`.\n",
      "[LightGBM] [Info] Total Bins 1885\n",
      "[LightGBM] [Info] Number of data points in the train set: 59569, number of used features: 51\n",
      "[LightGBM] [Info] Start training from score -1.159147\n",
      "[LightGBM] [Info] Start training from score -1.624559\n",
      "[LightGBM] [Info] Start training from score -0.714886\n",
      "[LightGBM] [Warning] bagging_fraction is set=0.8, subsample=1.0 will be ignored. Current value: bagging_fraction=0.8\n",
      "[LightGBM] [Warning] bagging_freq is set=1, subsample_freq=0 will be ignored. Current value: bagging_freq=1\n",
      "n_estimators: 50, time_taken: 0.6586411999996926s, accuracy: 0.8232055328006446\n",
      "[LightGBM] [Warning] bagging_fraction is set=0.8, subsample=1.0 will be ignored. Current value: bagging_fraction=0.8\n",
      "[LightGBM] [Warning] bagging_freq is set=1, subsample_freq=0 will be ignored. Current value: bagging_freq=1\n",
      "[LightGBM] [Warning] bagging_fraction is set=0.8, subsample=1.0 will be ignored. Current value: bagging_fraction=0.8\n",
      "[LightGBM] [Warning] bagging_freq is set=1, subsample_freq=0 will be ignored. Current value: bagging_freq=1\n",
      "[LightGBM] [Info] Auto-choosing row-wise multi-threading, the overhead of testing was 0.006314 seconds.\n",
      "You can set `force_row_wise=true` to remove the overhead.\n",
      "And if memory is not enough, you can set `force_col_wise=true`.\n",
      "[LightGBM] [Info] Total Bins 1885\n",
      "[LightGBM] [Info] Number of data points in the train set: 59569, number of used features: 51\n",
      "[LightGBM] [Info] Start training from score -1.159147\n",
      "[LightGBM] [Info] Start training from score -1.624559\n",
      "[LightGBM] [Info] Start training from score -0.714886\n",
      "[LightGBM] [Warning] bagging_fraction is set=0.8, subsample=1.0 will be ignored. Current value: bagging_fraction=0.8\n",
      "[LightGBM] [Warning] bagging_freq is set=1, subsample_freq=0 will be ignored. Current value: bagging_freq=1\n",
      "n_estimators: 100, time_taken: 1.1769849000011163s, accuracy: 0.8234069697173169\n",
      "[LightGBM] [Warning] bagging_fraction is set=0.8, subsample=1.0 will be ignored. Current value: bagging_fraction=0.8\n",
      "[LightGBM] [Warning] bagging_freq is set=1, subsample_freq=0 will be ignored. Current value: bagging_freq=1\n",
      "[LightGBM] [Warning] bagging_fraction is set=0.8, subsample=1.0 will be ignored. Current value: bagging_fraction=0.8\n",
      "[LightGBM] [Warning] bagging_freq is set=1, subsample_freq=0 will be ignored. Current value: bagging_freq=1\n",
      "[LightGBM] [Info] Auto-choosing row-wise multi-threading, the overhead of testing was 0.010862 seconds.\n",
      "You can set `force_row_wise=true` to remove the overhead.\n",
      "And if memory is not enough, you can set `force_col_wise=true`.\n",
      "[LightGBM] [Info] Total Bins 1885\n",
      "[LightGBM] [Info] Number of data points in the train set: 59569, number of used features: 51\n",
      "[LightGBM] [Info] Start training from score -1.159147\n",
      "[LightGBM] [Info] Start training from score -1.624559\n",
      "[LightGBM] [Info] Start training from score -0.714886\n",
      "[LightGBM] [Warning] bagging_fraction is set=0.8, subsample=1.0 will be ignored. Current value: bagging_fraction=0.8\n",
      "[LightGBM] [Warning] bagging_freq is set=1, subsample_freq=0 will be ignored. Current value: bagging_freq=1\n",
      "n_estimators: 200, time_taken: 2.4567432000003464s, accuracy: 0.8235412609950984\n",
      "[LightGBM] [Warning] bagging_fraction is set=0.8, subsample=1.0 will be ignored. Current value: bagging_fraction=0.8\n",
      "[LightGBM] [Warning] bagging_freq is set=1, subsample_freq=0 will be ignored. Current value: bagging_freq=1\n",
      "[LightGBM] [Warning] bagging_fraction is set=0.8, subsample=1.0 will be ignored. Current value: bagging_fraction=0.8\n",
      "[LightGBM] [Warning] bagging_freq is set=1, subsample_freq=0 will be ignored. Current value: bagging_freq=1\n",
      "[LightGBM] [Info] Auto-choosing row-wise multi-threading, the overhead of testing was 0.006122 seconds.\n",
      "You can set `force_row_wise=true` to remove the overhead.\n",
      "And if memory is not enough, you can set `force_col_wise=true`.\n",
      "[LightGBM] [Info] Total Bins 1885\n",
      "[LightGBM] [Info] Number of data points in the train set: 59569, number of used features: 51\n",
      "[LightGBM] [Info] Start training from score -1.159147\n",
      "[LightGBM] [Info] Start training from score -1.624559\n",
      "[LightGBM] [Info] Start training from score -0.714886\n",
      "[LightGBM] [Warning] bagging_fraction is set=0.8, subsample=1.0 will be ignored. Current value: bagging_fraction=0.8\n",
      "[LightGBM] [Warning] bagging_freq is set=1, subsample_freq=0 will be ignored. Current value: bagging_freq=1\n",
      "n_estimators: 300, time_taken: 3.3505755000005593s, accuracy: 0.8231383871617538\n"
     ]
    }
   ],
   "source": [
    "params = {\n",
    "    'boosting_type': 'rf',\n",
    "    'bagging_freq': 1,\n",
    "    'bagging_fraction': 0.8\n",
    "}\n",
    "model = LGBMClassifier()\n",
    "acc,tim = [], []\n",
    "for x in estims:\n",
    "    model = LGBMClassifier(n_estimators=x,**params)\n",
    "    start = time.perf_counter()\n",
    "    model.fit(X_train,y_train)\n",
    "    end = time.perf_counter()\n",
    "    y_pred = model.predict(X_val)\n",
    "    _acc = accuracy_score(y_val,y_pred)\n",
    "    tim.append(end-start)\n",
    "    print(f'n_estimators: {x}, time_taken: {end-start}s, accuracy: {_acc}')\n",
    "    acc.append(_acc)"
   ]
  },
  {
   "cell_type": "code",
   "execution_count": 40,
   "metadata": {},
   "outputs": [
    {
     "data": {
      "text/plain": [
       "Text(0.5, 1.0, 'Training time')"
      ]
     },
     "execution_count": 40,
     "metadata": {},
     "output_type": "execute_result"
    },
    {
     "data": {
      "image/png": "[encoded data removed]",
      "text/plain": [
       "<Figure size 1000x500 with 2 Axes>"
      ]
     },
     "metadata": {},
     "output_type": "display_data"
    }
   ],
   "source": [
    "fig = plt.figure(figsize=(10,5))\n",
    "\n",
    "ax1 = fig.add_subplot(121)\n",
    "ax1.plot(estims,acc)\n",
    "ax1.set_title('Accuracy')\n",
    "\n",
    "ax2 = fig.add_subplot(122)\n",
    "ax2.plot(estims,tim)\n",
    "ax2.set_title('Training time')"
   ]
  },
  {
   "cell_type": "markdown",
   "metadata": {},
   "source": [
    "Different boosting did not work"
   ]
  },
  {
   "cell_type": "code",
   "execution_count": 41,
   "metadata": {},
   "outputs": [
    {
     "name": "stdout",
     "output_type": "stream",
     "text": [
      "[LightGBM] [Info] Auto-choosing row-wise multi-threading, the overhead of testing was 0.004653 seconds.\n",
      "You can set `force_row_wise=true` to remove the overhead.\n",
      "And if memory is not enough, you can set `force_col_wise=true`.\n",
      "[LightGBM] [Info] Total Bins 1885\n",
      "[LightGBM] [Info] Number of data points in the train set: 59569, number of used features: 51\n",
      "[LightGBM] [Info] Start training from score -1.159147\n",
      "[LightGBM] [Info] Start training from score -1.624559\n",
      "[LightGBM] [Info] Start training from score -0.714886\n",
      "Training time: 1.2324481000032392s, Accuracy: 84.254%\n",
      "CPU times: total: 8.97 s\n",
      "Wall time: 1.31 s\n"
     ]
    }
   ],
   "source": [
    "%%time\n",
    "model_lgbm = LGBMClassifier(n_estimators=n_best)\n",
    "start = time.perf_counter()\n",
    "model_lgbm.fit(X_train,y_train)\n",
    "end = time.perf_counter()\n",
    "y_pred = model_lgbm.predict(X_val)\n",
    "print(f'Training time: {end-start}s, Accuracy: {round(accuracy_score(y_val,y_pred)*100,3)}%')"
   ]
  },
  {
   "cell_type": "code",
   "execution_count": 42,
   "metadata": {},
   "outputs": [
    {
     "name": "stdout",
     "output_type": "stream",
     "text": [
      "              precision    recall  f1-score   support\n",
      "\n",
      "           0     0.9365    0.8276    0.8787      4635\n",
      "           1     0.6615    0.6554    0.6584      2969\n",
      "           2     0.8614    0.9282    0.8936      7289\n",
      "\n",
      "    accuracy                         0.8425     14893\n",
      "   macro avg     0.8198    0.8038    0.8102     14893\n",
      "weighted avg     0.8449    0.8425    0.8421     14893\n",
      "\n"
     ]
    }
   ],
   "source": [
    "y_pred = model_lgbm.predict(X_val)\n",
    "print(classification_report(y_val, y_pred, labels = sorted(list(set(y_enc))), digits=4))"
   ]
  },
  {
   "cell_type": "markdown",
   "metadata": {},
   "source": [
    "## The ensemble"
   ]
  },
  {
   "cell_type": "markdown",
   "metadata": {},
   "source": [
    "The performance is similar to last time. Now let us combine these two models with weights `2` for Random Forest and `1` for Naive Bayes Classifier"
   ]
  },
  {
   "cell_type": "code",
   "execution_count": 43,
   "metadata": {},
   "outputs": [
    {
     "name": "stdout",
     "output_type": "stream",
     "text": [
      "[Voting] ....................... (1 of 2) Processing rf, total=  34.4s\n",
      "[LightGBM] [Info] Auto-choosing row-wise multi-threading, the overhead of testing was 0.003255 seconds.\n",
      "You can set `force_row_wise=true` to remove the overhead.\n",
      "And if memory is not enough, you can set `force_col_wise=true`.\n",
      "[LightGBM] [Info] Total Bins 1885\n",
      "[LightGBM] [Info] Number of data points in the train set: 59569, number of used features: 51\n",
      "[LightGBM] [Info] Start training from score -1.159147\n",
      "[LightGBM] [Info] Start training from score -1.624559\n",
      "[LightGBM] [Info] Start training from score -0.714886\n",
      "[Voting] ....................... (2 of 2) Processing nb, total=   1.0s\n",
      "Total training time: 35.4579507999988 s\n",
      "CPU times: total: 40.2 s\n",
      "Wall time: 36 s\n"
     ]
    }
   ],
   "source": [
    "%%time\n",
    "soft_ensemble = VotingClassifier(estimators=[('rf',model_rf),('nb',model_lgbm)],voting='soft',weights=[1,1.2],verbose=True)\n",
    "start = time.perf_counter()\n",
    "soft_ensemble.fit(X_train,y_train)\n",
    "end = time.perf_counter()\n",
    "print(f'Total training time: {end-start} s')"
   ]
  },
  {
   "cell_type": "code",
   "execution_count": 44,
   "metadata": {},
   "outputs": [
    {
     "name": "stdout",
     "output_type": "stream",
     "text": [
      "              precision    recall  f1-score   support\n",
      "\n",
      "           0     0.9434    0.8201    0.8774      4635\n",
      "           1     0.6590    0.6554    0.6572      2969\n",
      "           2     0.8582    0.9314    0.8933      7289\n",
      "\n",
      "    accuracy                         0.8417     14893\n",
      "   macro avg     0.8202    0.8023    0.8093     14893\n",
      "weighted avg     0.8450    0.8417    0.8413     14893\n",
      "\n"
     ]
    }
   ],
   "source": [
    "y_pred = soft_ensemble.predict(X_val)\n",
    "print(classification_report(y_val, y_pred, labels = sorted(list(set(y_enc))), digits=4))"
   ]
  },
  {
   "cell_type": "code",
   "execution_count": 45,
   "metadata": {},
   "outputs": [
    {
     "name": "stdout",
     "output_type": "stream",
     "text": [
      "[Voting] ....................... (1 of 2) Processing rf, total=  37.7s\n",
      "[LightGBM] [Info] Auto-choosing row-wise multi-threading, the overhead of testing was 0.003914 seconds.\n",
      "You can set `force_row_wise=true` to remove the overhead.\n",
      "And if memory is not enough, you can set `force_col_wise=true`.\n",
      "[LightGBM] [Info] Total Bins 1885\n",
      "[LightGBM] [Info] Number of data points in the train set: 59569, number of used features: 51\n",
      "[LightGBM] [Info] Start training from score -1.159147\n",
      "[LightGBM] [Info] Start training from score -1.624559\n",
      "[LightGBM] [Info] Start training from score -0.714886\n",
      "[Voting] ....................... (2 of 2) Processing nb, total=   1.1s\n",
      "Total training time: 38.827436699997634 s\n",
      "CPU times: total: 41.4 s\n",
      "Wall time: 39.2 s\n"
     ]
    }
   ],
   "source": [
    "%%time\n",
    "hard_ensemble = VotingClassifier(estimators=[('rf',model_rf),('nb',model_lgbm)],voting='hard',verbose=True)\n",
    "start = time.perf_counter()\n",
    "hard_ensemble.fit(X_train,y_train)\n",
    "end = time.perf_counter()\n",
    "print(f'Total training time: {end-start} s')"
   ]
  },
  {
   "cell_type": "code",
   "execution_count": 46,
   "metadata": {},
   "outputs": [
    {
     "name": "stdout",
     "output_type": "stream",
     "text": [
      "              precision    recall  f1-score   support\n",
      "\n",
      "           0     0.9250    0.8360    0.8783      4635\n",
      "           1     0.6491    0.6578    0.6534      2969\n",
      "           2     0.8678    0.9162    0.8914      7289\n",
      "\n",
      "    accuracy                         0.8397     14893\n",
      "   macro avg     0.8140    0.8033    0.8077     14893\n",
      "weighted avg     0.8420    0.8397    0.8398     14893\n",
      "\n"
     ]
    }
   ],
   "source": [
    "y_pred = hard_ensemble.predict(X_val)\n",
    "print(classification_report(y_val, y_pred, labels = sorted(list(set(y_enc))), digits=4))"
   ]
  },
  {
   "cell_type": "markdown",
   "metadata": {},
   "source": [
    "Let's try with weights"
   ]
  },
  {
   "cell_type": "code",
   "execution_count": 47,
   "metadata": {},
   "outputs": [
    {
     "name": "stdout",
     "output_type": "stream",
     "text": [
      "[Voting] ....................... (1 of 2) Processing rf, total=  33.5s\n",
      "[LightGBM] [Info] Auto-choosing row-wise multi-threading, the overhead of testing was 0.003271 seconds.\n",
      "You can set `force_row_wise=true` to remove the overhead.\n",
      "And if memory is not enough, you can set `force_col_wise=true`.\n",
      "[LightGBM] [Info] Total Bins 1885\n",
      "[LightGBM] [Info] Number of data points in the train set: 59569, number of used features: 51\n",
      "[LightGBM] [Info] Start training from score -1.159147\n",
      "[LightGBM] [Info] Start training from score -1.624559\n",
      "[LightGBM] [Info] Start training from score -0.714886\n",
      "[Voting] ....................... (2 of 2) Processing nb, total=   1.0s\n",
      "Total training time: 34.523147800002334 s\n",
      "CPU times: total: 38.6 s\n",
      "Wall time: 35.2 s\n"
     ]
    }
   ],
   "source": [
    "%%time\n",
    "hard_ensemble_weighted = VotingClassifier(estimators=[('rf',model_rf),('nb',model_lgbm)],voting='hard',weights=[1,1.2],verbose=True)\n",
    "start = time.perf_counter()\n",
    "hard_ensemble_weighted.fit(X_train,y_train)\n",
    "end = time.perf_counter()\n",
    "print(f'Total training time: {end-start} s')"
   ]
  },
  {
   "cell_type": "code",
   "execution_count": 48,
   "metadata": {},
   "outputs": [
    {
     "name": "stdout",
     "output_type": "stream",
     "text": [
      "              precision    recall  f1-score   support\n",
      "\n",
      "           0     0.9365    0.8276    0.8787      4635\n",
      "           1     0.6615    0.6554    0.6584      2969\n",
      "           2     0.8614    0.9282    0.8936      7289\n",
      "\n",
      "    accuracy                         0.8425     14893\n",
      "   macro avg     0.8198    0.8038    0.8102     14893\n",
      "weighted avg     0.8449    0.8425    0.8421     14893\n",
      "\n"
     ]
    }
   ],
   "source": [
    "y_pred = hard_ensemble_weighted.predict(X_val)\n",
    "print(classification_report(y_val, y_pred, labels = sorted(list(set(y_enc))), digits=4))"
   ]
  },
  {
   "cell_type": "markdown",
   "metadata": {},
   "source": [
    "Next, let us try the hard ensemble but with oversampling"
   ]
  },
  {
   "cell_type": "code",
   "execution_count": 49,
   "metadata": {},
   "outputs": [],
   "source": [
    "from imblearn.over_sampling import SMOTE"
   ]
  },
  {
   "cell_type": "code",
   "execution_count": 50,
   "metadata": {},
   "outputs": [],
   "source": [
    "X_train1, y_train1 = SMOTE().fit_resample(X_train,y_train)"
   ]
  },
  {
   "cell_type": "code",
   "execution_count": 51,
   "metadata": {},
   "outputs": [
    {
     "name": "stdout",
     "output_type": "stream",
     "text": [
      "[Voting] ....................... (1 of 2) Processing rf, total= 1.7min\n",
      "[LightGBM] [Info] Auto-choosing row-wise multi-threading, the overhead of testing was 0.006291 seconds.\n",
      "You can set `force_row_wise=true` to remove the overhead.\n",
      "And if memory is not enough, you can set `force_col_wise=true`.\n",
      "[LightGBM] [Info] Total Bins 11908\n",
      "[LightGBM] [Info] Number of data points in the train set: 87432, number of used features: 51\n",
      "[LightGBM] [Info] Start training from score -1.098612\n",
      "[LightGBM] [Info] Start training from score -1.098612\n",
      "[LightGBM] [Info] Start training from score -1.098612\n",
      "[Voting] ....................... (2 of 2) Processing nb, total=   2.3s\n",
      "Total training time: 103.80683549999958 s\n",
      "CPU times: total: 1min 54s\n",
      "Wall time: 1min 43s\n"
     ]
    }
   ],
   "source": [
    "%%time\n",
    "hard_ensemble = VotingClassifier(estimators=[('rf',model_rf),('nb',model_lgbm)],voting='hard',weights=[1,1.2],verbose=True)\n",
    "start = time.perf_counter()\n",
    "hard_ensemble.fit(X_train1,y_train1)\n",
    "end = time.perf_counter()\n",
    "print(f'Total training time: {end-start} s')"
   ]
  },
  {
   "cell_type": "code",
   "execution_count": 52,
   "metadata": {},
   "outputs": [
    {
     "name": "stdout",
     "output_type": "stream",
     "text": [
      "              precision    recall  f1-score   support\n",
      "\n",
      "           0     0.9372    0.8246    0.8773      4635\n",
      "           1     0.6550    0.6676    0.6612      2969\n",
      "           2     0.8651    0.9244    0.8938      7289\n",
      "\n",
      "    accuracy                         0.8421     14893\n",
      "   macro avg     0.8191    0.8055    0.8108     14893\n",
      "weighted avg     0.8456    0.8421    0.8423     14893\n",
      "\n"
     ]
    }
   ],
   "source": [
    "y_pred = hard_ensemble.predict(X_val)\n",
    "print(classification_report(y_val, y_pred, labels = sorted(list(set(y_enc))), digits=4))"
   ]
  },
  {
   "cell_type": "markdown",
   "metadata": {},
   "source": [
    "## Train base by oversampling\n",
    "\n",
    "We train base models by oversampling and then try the ensemble"
   ]
  },
  {
   "cell_type": "code",
   "execution_count": 53,
   "metadata": {},
   "outputs": [
    {
     "name": "stdout",
     "output_type": "stream",
     "text": [
      "Training ended in 111.45763879999868 s\n",
      "CPU times: total: 1min 40s\n",
      "Wall time: 1min 51s\n"
     ]
    }
   ],
   "source": [
    "%%time\n",
    "rf_os = RandomForestClassifier(n_estimators=300)\n",
    "start = time.perf_counter()\n",
    "rf_os.fit(X_train1,y_train1)\n",
    "end = time.perf_counter()\n",
    "print(f'Training ended in {end-start} s')"
   ]
  },
  {
   "cell_type": "code",
   "execution_count": 54,
   "metadata": {},
   "outputs": [
    {
     "name": "stdout",
     "output_type": "stream",
     "text": [
      "              precision    recall  f1-score   support\n",
      "\n",
      "           0     0.9491    0.8041    0.8706      4635\n",
      "           1     0.6313    0.6874    0.6582      2969\n",
      "           2     0.8637    0.9163    0.8892      7289\n",
      "\n",
      "    accuracy                         0.8358     14893\n",
      "   macro avg     0.8147    0.8026    0.8060     14893\n",
      "weighted avg     0.8439    0.8358    0.8374     14893\n",
      "\n"
     ]
    }
   ],
   "source": [
    "y_pred = rf_os.predict(X_val)\n",
    "print(classification_report(y_val, y_pred, labels = sorted(list(set(y_enc))), digits=4))"
   ]
  },
  {
   "cell_type": "code",
   "execution_count": 55,
   "metadata": {},
   "outputs": [
    {
     "name": "stdout",
     "output_type": "stream",
     "text": [
      "[LightGBM] [Info] Auto-choosing col-wise multi-threading, the overhead of testing was 0.017389 seconds.\n",
      "You can set `force_col_wise=true` to remove the overhead.\n",
      "[LightGBM] [Info] Total Bins 11908\n",
      "[LightGBM] [Info] Number of data points in the train set: 87432, number of used features: 51\n",
      "[LightGBM] [Info] Start training from score -1.098612\n",
      "[LightGBM] [Info] Start training from score -1.098612\n",
      "[LightGBM] [Info] Start training from score -1.098612\n",
      "Training ended in 3.696050300000934 s\n",
      "CPU times: total: 25.2 s\n",
      "Wall time: 3.69 s\n"
     ]
    }
   ],
   "source": [
    "%%time\n",
    "lgbm_os = LGBMClassifier(n_estimators=200)\n",
    "start = time.perf_counter()\n",
    "lgbm_os.fit(X_train1,y_train1)\n",
    "end = time.perf_counter()\n",
    "print(f'Training ended in {end-start} s')"
   ]
  },
  {
   "cell_type": "code",
   "execution_count": 56,
   "metadata": {},
   "outputs": [
    {
     "name": "stdout",
     "output_type": "stream",
     "text": [
      "              precision    recall  f1-score   support\n",
      "\n",
      "           0     0.9309    0.8311    0.8781      4635\n",
      "           1     0.6618    0.6591    0.6605      2969\n",
      "           2     0.8652    0.9256    0.8944      7289\n",
      "\n",
      "    accuracy                         0.8431     14893\n",
      "   macro avg     0.8193    0.8053    0.8110     14893\n",
      "weighted avg     0.8451    0.8431    0.8427     14893\n",
      "\n"
     ]
    }
   ],
   "source": [
    "y_pred = lgbm_os.predict(X_val)\n",
    "print(classification_report(y_val, y_pred, labels = sorted(list(set(y_enc))), digits=4))"
   ]
  },
  {
   "cell_type": "markdown",
   "metadata": {},
   "source": [
    "Let's try the ensemble"
   ]
  },
  {
   "cell_type": "code",
   "execution_count": 57,
   "metadata": {},
   "outputs": [
    {
     "name": "stdout",
     "output_type": "stream",
     "text": [
      "[Voting] ....................... (1 of 2) Processing rf, total= 1.8min\n",
      "[LightGBM] [Info] Auto-choosing row-wise multi-threading, the overhead of testing was 0.007337 seconds.\n",
      "You can set `force_row_wise=true` to remove the overhead.\n",
      "And if memory is not enough, you can set `force_col_wise=true`.\n",
      "[LightGBM] [Info] Total Bins 11908\n",
      "[LightGBM] [Info] Number of data points in the train set: 87432, number of used features: 51\n",
      "[LightGBM] [Info] Start training from score -1.098612\n",
      "[LightGBM] [Info] Start training from score -1.098612\n",
      "[LightGBM] [Info] Start training from score -1.098612\n",
      "[Voting] ....................... (2 of 2) Processing nb, total=   4.1s\n",
      "Total training time: 113.10359840000092 s\n",
      "CPU times: total: 2min 9s\n",
      "Wall time: 1min 53s\n"
     ]
    }
   ],
   "source": [
    "%%time\n",
    "hard_ensemble_os = VotingClassifier(estimators=[('rf',rf_os),('nb',lgbm_os)],voting='hard',weights=[1,1.2],verbose=True)\n",
    "start = time.perf_counter()\n",
    "hard_ensemble_os.fit(X_train1,y_train1)\n",
    "end = time.perf_counter()\n",
    "print(f'Total training time: {end-start} s')"
   ]
  },
  {
   "cell_type": "code",
   "execution_count": 58,
   "metadata": {},
   "outputs": [
    {
     "name": "stdout",
     "output_type": "stream",
     "text": [
      "              precision    recall  f1-score   support\n",
      "\n",
      "           0     0.9309    0.8311    0.8781      4635\n",
      "           1     0.6618    0.6591    0.6605      2969\n",
      "           2     0.8652    0.9256    0.8944      7289\n",
      "\n",
      "    accuracy                         0.8431     14893\n",
      "   macro avg     0.8193    0.8053    0.8110     14893\n",
      "weighted avg     0.8451    0.8431    0.8427     14893\n",
      "\n"
     ]
    }
   ],
   "source": [
    "y_pred = hard_ensemble_os.predict(X_val)\n",
    "print(classification_report(y_val, y_pred, labels = sorted(list(set(y_enc))), digits=4))"
   ]
  },
  {
   "cell_type": "markdown",
   "metadata": {},
   "source": [
    "Oversampling did help."
   ]
  }
 ],
 "metadata": {
  "kernelspec": {
   "display_name": "Python 3",
   "language": "python",
   "name": "python3"
  },
  "language_info": {
   "codemirror_mode": {
    "name": "ipython",
    "version": 3
   },
   "file_extension": ".py",
   "mimetype": "text/x-python",
   "name": "python",
   "nbconvert_exporter": "python",
   "pygments_lexer": "ipython3",
   "version": "3.11.4"
  }
 },
 "nbformat": 4,
 "nbformat_minor": 2
}
