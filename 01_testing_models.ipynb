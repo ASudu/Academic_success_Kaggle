{
 "cells": [
  {
   "cell_type": "markdown",
   "metadata": {},
   "source": [
    "# TESTING MODELS\n",
    "\n",
    "Let us try a few classification models\n",
    "## Classical ML models"
   ]
  },
  {
   "cell_type": "code",
   "execution_count": 36,
   "metadata": {},
   "outputs": [],
   "source": [
    "import pandas as pd\n",
    "import time\n",
    "import numpy as np\n",
    "import os\n",
    "from sklearn.preprocessing import StandardScaler, LabelEncoder\n",
    "from sklearn.metrics import roc_auc_score, multilabel_confusion_matrix, accuracy_score, classification_report, balanced_accuracy_score\n",
    "import matplotlib.pyplot as plt\n",
    "import seaborn as sns"
   ]
  },
  {
   "cell_type": "code",
   "execution_count": 37,
   "metadata": {},
   "outputs": [],
   "source": [
    "models = []"
   ]
  },
  {
   "cell_type": "code",
   "execution_count": 38,
   "metadata": {},
   "outputs": [
    {
     "data": {
      "text/plain": [
       "((75018, 53),\n",
       " Index(['id', 'marital_status', 'appln_mode', 'appln_order', 'prog_of_study',\n",
       "        'morn/eve_attend', 'prev_edu', 'prev_edu_grade', 'nationality',\n",
       "        'mom_edu', 'dad_edu', 'mom_occup', 'admission_grade', 'was_displaced',\n",
       "        'edu_spl_need', 'has_student_debt', 'no_fee_dues', 'gender',\n",
       "        'got_scholarship', 'age_at_start', 'sem1_units_credited',\n",
       "        'sem1_units_enrolled', 'sem1_units_eval', 'sem1_units_approved',\n",
       "        'sem1_units_grade', 'sem1_units_no_eval', 'sem2_units_credited',\n",
       "        'sem2_units_enrolled', 'sem2_units_eval', 'sem2_units_approved',\n",
       "        'sem2_units_grade', 'sem2_units_no_eval', 'unemployment_rate',\n",
       "        'inflation', 'gdp', 'Target', 'marital_status_log', 'appln_order_log',\n",
       "        'prog_of_study_log', 'morn/eve_attend_log', 'prev_edu_log',\n",
       "        'mom_occup_log', 'edu_spl_need_log', 'has_student_debt_log',\n",
       "        'no_fee_dues_log', 'got_scholarship_log', 'age_at_start_log',\n",
       "        'sem1_units_credited_log', 'sem1_units_grade_log',\n",
       "        'sem1_units_no_eval_log', 'sem2_units_credited_log',\n",
       "        'sem2_units_grade_log', 'sem2_units_no_eval_log'],\n",
       "       dtype='object'),\n",
       " ['sem2_units_approved',\n",
       "  'no_fee_dues',\n",
       "  'got_scholarship',\n",
       "  'sem2_units_enrolled',\n",
       "  'sem2_units_eval',\n",
       "  'admission_grade',\n",
       "  'prog_of_study',\n",
       "  'sem1_units_eval',\n",
       "  'prev_edu_grade',\n",
       "  'was_displaced',\n",
       "  'appln_order_log',\n",
       "  'morn/eve_attend',\n",
       "  'gdp',\n",
       "  'marital_status_log',\n",
       "  'has_student_debt',\n",
       "  'appln_mode',\n",
       "  'gender',\n",
       "  'age_at_start'])"
      ]
     },
     "execution_count": 38,
     "metadata": {},
     "output_type": "execute_result"
    }
   ],
   "source": [
    "df = pd.read_csv('data/cleaned_train.csv')\n",
    "feats = []\n",
    "with open('data/features.txt','r') as f:\n",
    "    feats = [x[:-1] for x in f.readlines()]\n",
    "df.shape, df.columns, feats"
   ]
  },
  {
   "cell_type": "markdown",
   "metadata": {},
   "source": [
    "We use only the selected features"
   ]
  },
  {
   "cell_type": "code",
   "execution_count": 39,
   "metadata": {},
   "outputs": [],
   "source": [
    "X,y = df.drop(columns=['Target','id','nationality']).values, df['Target'].values"
   ]
  },
  {
   "cell_type": "code",
   "execution_count": 40,
   "metadata": {},
   "outputs": [
    {
     "data": {
      "text/plain": [
       "(Target\n",
       " Graduate    36603\n",
       " Dropout     23669\n",
       " Enrolled    14746\n",
       " Name: count, dtype: int64,\n",
       " <Axes: >)"
      ]
     },
     "execution_count": 40,
     "metadata": {},
     "output_type": "execute_result"
    },
    {
     "data": {
      "image/png": "[encoded data removed]",
      "text/plain": [
       "<Figure size 640x480 with 1 Axes>"
      ]
     },
     "metadata": {},
     "output_type": "display_data"
    }
   ],
   "source": [
    "df['Target'].value_counts(), df['Target'].hist()"
   ]
  },
  {
   "cell_type": "markdown",
   "metadata": {},
   "source": [
    "So we have an imbalanced dataset. To handle this - for classical ML models, we oversample the smaller classes"
   ]
  },
  {
   "cell_type": "code",
   "execution_count": 41,
   "metadata": {},
   "outputs": [],
   "source": [
    "# Train test split\n",
    "from sklearn.model_selection import train_test_split\n",
    "\n",
    "le = LabelEncoder()\n",
    "y_l = le.fit(y)\n",
    "y_enc = y_l.transform(y)\n",
    "\n",
    "X_train, X_val, y_train, y_val = train_test_split(X, y_enc, test_size=0.2, random_state=42)"
   ]
  },
  {
   "cell_type": "markdown",
   "metadata": {},
   "source": [
    "### Decision tree\n",
    "\n",
    "First we check the performance without any oversampling"
   ]
  },
  {
   "cell_type": "code",
   "execution_count": 42,
   "metadata": {},
   "outputs": [],
   "source": [
    "from sklearn import tree"
   ]
  },
  {
   "cell_type": "code",
   "execution_count": 43,
   "metadata": {},
   "outputs": [
    {
     "name": "stdout",
     "output_type": "stream",
     "text": [
      "CPU times: total: 656 ms\n",
      "Wall time: 982 ms\n"
     ]
    }
   ],
   "source": [
    "%%time\n",
    "model_dt = tree.DecisionTreeClassifier()\n",
    "start = time.perf_counter()\n",
    "model_dt.fit(X_train,y_train)\n",
    "end = time.perf_counter()"
   ]
  },
  {
   "cell_type": "code",
   "execution_count": 44,
   "metadata": {},
   "outputs": [
    {
     "data": {
      "text/plain": [
       "array([[[ 9360,   945],\n",
       "        [  800,  3899]],\n",
       "\n",
       "       [[10552,  1491],\n",
       "        [ 1449,  1512]],\n",
       "\n",
       "       [[ 6492,  1168],\n",
       "        [ 1355,  5989]]], dtype=int64)"
      ]
     },
     "execution_count": 44,
     "metadata": {},
     "output_type": "execute_result"
    }
   ],
   "source": [
    "y_pred = model_dt.predict(X_val)\n",
    "mat = multilabel_confusion_matrix(y_val,y_pred)\n",
    "mat"
   ]
  },
  {
   "cell_type": "code",
   "execution_count": 45,
   "metadata": {},
   "outputs": [
    {
     "data": {
      "text/plain": [
       "(0.7186283171424129, 0.7597973873633698)"
      ]
     },
     "execution_count": 45,
     "metadata": {},
     "output_type": "execute_result"
    }
   ],
   "source": [
    "balanced_accuracy_score(y_val,y_pred), accuracy_score(y_val,y_pred)"
   ]
  },
  {
   "cell_type": "code",
   "execution_count": 46,
   "metadata": {},
   "outputs": [
    {
     "name": "stdout",
     "output_type": "stream",
     "text": [
      "DECISION TREE - NO PREPROCESSING\n"
     ]
    },
    {
     "data": {
      "text/html": [
       "<div>\n",
       "<style scoped>\n",
       "    .dataframe tbody tr th:only-of-type {\n",
       "        vertical-align: middle;\n",
       "    }\n",
       "\n",
       "    .dataframe tbody tr th {\n",
       "        vertical-align: top;\n",
       "    }\n",
       "\n",
       "    .dataframe thead th {\n",
       "        text-align: right;\n",
       "    }\n",
       "</style>\n",
       "<table border=\"1\" class=\"dataframe\">\n",
       "  <thead>\n",
       "    <tr style=\"text-align: right;\">\n",
       "      <th></th>\n",
       "      <th>model</th>\n",
       "      <th>metrics</th>\n",
       "      <th>training_time(s)</th>\n",
       "    </tr>\n",
       "  </thead>\n",
       "  <tbody>\n",
       "    <tr>\n",
       "      <th>0</th>\n",
       "      <td>Decision_tree_no_preprocessing</td>\n",
       "      <td>{'0': {'precision': 0.8049132947976878, 'recal...</td>\n",
       "      <td>0.980486</td>\n",
       "    </tr>\n",
       "  </tbody>\n",
       "</table>\n",
       "</div>"
      ],
      "text/plain": [
       "                            model  \\\n",
       "0  Decision_tree_no_preprocessing   \n",
       "\n",
       "                                             metrics  training_time(s)  \n",
       "0  {'0': {'precision': 0.8049132947976878, 'recal...          0.980486  "
      ]
     },
     "execution_count": 46,
     "metadata": {},
     "output_type": "execute_result"
    }
   ],
   "source": [
    "print('DECISION TREE - NO PREPROCESSING')\n",
    "x = classification_report(y_val, y_pred, labels = sorted(list(set(y_enc))), digits=4, output_dict=True)\n",
    "models.append({'model':'Decision_tree_no_preprocessing', 'metrics': x, 'training_time(s)':(end-start)})\n",
    "pd.DataFrame(models)"
   ]
  },
  {
   "cell_type": "markdown",
   "metadata": {},
   "source": [
    "Next, let us use `SMOTE` (Synthetic Minority Over-sampling Technique) to oversample the minority classes"
   ]
  },
  {
   "cell_type": "code",
   "execution_count": 47,
   "metadata": {},
   "outputs": [],
   "source": [
    "from imblearn.over_sampling import SMOTE\n",
    "from collections import Counter"
   ]
  },
  {
   "cell_type": "code",
   "execution_count": 48,
   "metadata": {},
   "outputs": [
    {
     "name": "stdout",
     "output_type": "stream",
     "text": [
      "Before Oversampling [(0, 18970), (1, 11785), (2, 29259)]\n",
      "After Oversampling [(0, 29259), (1, 29259), (2, 29259)]\n"
     ]
    }
   ],
   "source": [
    "#Apply Over Sampling\n",
    "print(f'Before Oversampling {sorted(Counter(y_train).items())}')\n",
    "X_train1, y_train1 = SMOTE().fit_resample(X_train, y_train)\n",
    "print(f'After Oversampling {sorted(Counter(y_train1).items())}')"
   ]
  },
  {
   "cell_type": "code",
   "execution_count": 49,
   "metadata": {},
   "outputs": [
    {
     "name": "stdout",
     "output_type": "stream",
     "text": [
      "CPU times: total: 2.5 s\n",
      "Wall time: 3.41 s\n"
     ]
    }
   ],
   "source": [
    "%%time\n",
    "model_dt = tree.DecisionTreeClassifier()\n",
    "start = time.perf_counter()\n",
    "model_dt.fit(X_train1,y_train1)\n",
    "end = time.perf_counter()"
   ]
  },
  {
   "cell_type": "code",
   "execution_count": 50,
   "metadata": {},
   "outputs": [
    {
     "data": {
      "text/plain": [
       "array([[[ 9408,   897],\n",
       "        [  810,  3889]],\n",
       "\n",
       "       [[10515,  1528],\n",
       "        [ 1378,  1583]],\n",
       "\n",
       "       [[ 6518,  1142],\n",
       "        [ 1379,  5965]]], dtype=int64)"
      ]
     },
     "execution_count": 50,
     "metadata": {},
     "output_type": "execute_result"
    }
   ],
   "source": [
    "y_pred = model_dt.predict(X_val)\n",
    "mat = multilabel_confusion_matrix(y_val,y_pred)\n",
    "mat"
   ]
  },
  {
   "cell_type": "code",
   "execution_count": 51,
   "metadata": {},
   "outputs": [
    {
     "data": {
      "text/plain": [
       "(0.7248224169624033, 0.7622633964276193)"
      ]
     },
     "execution_count": 51,
     "metadata": {},
     "output_type": "execute_result"
    }
   ],
   "source": [
    "balanced_accuracy_score(y_val,y_pred), accuracy_score(y_val,y_pred)"
   ]
  },
  {
   "cell_type": "code",
   "execution_count": 52,
   "metadata": {},
   "outputs": [
    {
     "name": "stdout",
     "output_type": "stream",
     "text": [
      "DECISION TREE - SMOTE\n"
     ]
    },
    {
     "data": {
      "text/html": [
       "<div>\n",
       "<style scoped>\n",
       "    .dataframe tbody tr th:only-of-type {\n",
       "        vertical-align: middle;\n",
       "    }\n",
       "\n",
       "    .dataframe tbody tr th {\n",
       "        vertical-align: top;\n",
       "    }\n",
       "\n",
       "    .dataframe thead th {\n",
       "        text-align: right;\n",
       "    }\n",
       "</style>\n",
       "<table border=\"1\" class=\"dataframe\">\n",
       "  <thead>\n",
       "    <tr style=\"text-align: right;\">\n",
       "      <th></th>\n",
       "      <th>model</th>\n",
       "      <th>metrics</th>\n",
       "      <th>training_time(s)</th>\n",
       "    </tr>\n",
       "  </thead>\n",
       "  <tbody>\n",
       "    <tr>\n",
       "      <th>0</th>\n",
       "      <td>Decision_tree_no_preprocessing</td>\n",
       "      <td>{'0': {'precision': 0.8049132947976878, 'recal...</td>\n",
       "      <td>0.980486</td>\n",
       "    </tr>\n",
       "    <tr>\n",
       "      <th>1</th>\n",
       "      <td>Decision_tree_oversampling</td>\n",
       "      <td>{'0': {'precision': 0.8125783535311325, 'recal...</td>\n",
       "      <td>3.405618</td>\n",
       "    </tr>\n",
       "  </tbody>\n",
       "</table>\n",
       "</div>"
      ],
      "text/plain": [
       "                            model  \\\n",
       "0  Decision_tree_no_preprocessing   \n",
       "1      Decision_tree_oversampling   \n",
       "\n",
       "                                             metrics  training_time(s)  \n",
       "0  {'0': {'precision': 0.8049132947976878, 'recal...          0.980486  \n",
       "1  {'0': {'precision': 0.8125783535311325, 'recal...          3.405618  "
      ]
     },
     "execution_count": 52,
     "metadata": {},
     "output_type": "execute_result"
    }
   ],
   "source": [
    "print('DECISION TREE - SMOTE')\n",
    "x = classification_report(y_val, y_pred, labels = sorted(list(set(y_enc))), digits=4, output_dict=True)\n",
    "models.append({'model':'Decision_tree_oversampling', 'metrics': x, 'training_time(s)':(end-start)})\n",
    "pd.DataFrame(models)"
   ]
  },
  {
   "cell_type": "markdown",
   "metadata": {},
   "source": [
    "Let us try an undersampler"
   ]
  },
  {
   "cell_type": "code",
   "execution_count": 53,
   "metadata": {},
   "outputs": [],
   "source": [
    "from imblearn.under_sampling import RandomUnderSampler"
   ]
  },
  {
   "cell_type": "code",
   "execution_count": 54,
   "metadata": {},
   "outputs": [
    {
     "name": "stdout",
     "output_type": "stream",
     "text": [
      "Before Undersampling [(0, 18970), (1, 11785), (2, 29259)]\n",
      "After Undersampling [(0, 11785), (1, 11785), (2, 11785)]\n"
     ]
    }
   ],
   "source": [
    "#Apply Random Under Sampling\n",
    "rus = RandomUnderSampler(random_state=0)\n",
    "print(f'Before Undersampling {sorted(Counter(y_train).items())}')\n",
    "X_train1, y_train1 =rus.fit_resample(X_train, y_train)\n",
    "print(f'After Undersampling {sorted(Counter(y_train1).items())}')"
   ]
  },
  {
   "cell_type": "code",
   "execution_count": 55,
   "metadata": {},
   "outputs": [
    {
     "name": "stdout",
     "output_type": "stream",
     "text": [
      "CPU times: total: 188 ms\n",
      "Wall time: 766 ms\n"
     ]
    }
   ],
   "source": [
    "%%time\n",
    "model_dt = tree.DecisionTreeClassifier()\n",
    "start = time.perf_counter()\n",
    "model_dt.fit(X_train1,y_train1)\n",
    "end = time.perf_counter()"
   ]
  },
  {
   "cell_type": "code",
   "execution_count": 56,
   "metadata": {},
   "outputs": [
    {
     "data": {
      "text/plain": [
       "array([[[9429,  876],\n",
       "        [ 834, 3865]],\n",
       "\n",
       "       [[9828, 2215],\n",
       "        [1061, 1900]],\n",
       "\n",
       "       [[6817,  843],\n",
       "        [2039, 5305]]], dtype=int64)"
      ]
     },
     "execution_count": 56,
     "metadata": {},
     "output_type": "execute_result"
    }
   ],
   "source": [
    "y_pred = model_dt.predict(X_val)\n",
    "mat = multilabel_confusion_matrix(y_val,y_pred)\n",
    "mat"
   ]
  },
  {
   "cell_type": "code",
   "execution_count": 57,
   "metadata": {},
   "outputs": [
    {
     "data": {
      "text/plain": [
       "(0.7288496421248073, 0.7378032524660091)"
      ]
     },
     "execution_count": 57,
     "metadata": {},
     "output_type": "execute_result"
    }
   ],
   "source": [
    "balanced_accuracy_score(y_val,y_pred), accuracy_score(y_val,y_pred)"
   ]
  },
  {
   "cell_type": "code",
   "execution_count": 58,
   "metadata": {},
   "outputs": [
    {
     "name": "stdout",
     "output_type": "stream",
     "text": [
      "DECISION TREE - Random Undersampler\n"
     ]
    },
    {
     "data": {
      "text/html": [
       "<div>\n",
       "<style scoped>\n",
       "    .dataframe tbody tr th:only-of-type {\n",
       "        vertical-align: middle;\n",
       "    }\n",
       "\n",
       "    .dataframe tbody tr th {\n",
       "        vertical-align: top;\n",
       "    }\n",
       "\n",
       "    .dataframe thead th {\n",
       "        text-align: right;\n",
       "    }\n",
       "</style>\n",
       "<table border=\"1\" class=\"dataframe\">\n",
       "  <thead>\n",
       "    <tr style=\"text-align: right;\">\n",
       "      <th></th>\n",
       "      <th>model</th>\n",
       "      <th>metrics</th>\n",
       "      <th>training_time(s)</th>\n",
       "    </tr>\n",
       "  </thead>\n",
       "  <tbody>\n",
       "    <tr>\n",
       "      <th>0</th>\n",
       "      <td>Decision_tree_no_preprocessing</td>\n",
       "      <td>{'0': {'precision': 0.8049132947976878, 'recal...</td>\n",
       "      <td>0.980486</td>\n",
       "    </tr>\n",
       "    <tr>\n",
       "      <th>1</th>\n",
       "      <td>Decision_tree_oversampling</td>\n",
       "      <td>{'0': {'precision': 0.8125783535311325, 'recal...</td>\n",
       "      <td>3.405618</td>\n",
       "    </tr>\n",
       "    <tr>\n",
       "      <th>2</th>\n",
       "      <td>Decision_tree_undersampling</td>\n",
       "      <td>{'0': {'precision': 0.8152288546720101, 'recal...</td>\n",
       "      <td>0.765867</td>\n",
       "    </tr>\n",
       "  </tbody>\n",
       "</table>\n",
       "</div>"
      ],
      "text/plain": [
       "                            model  \\\n",
       "0  Decision_tree_no_preprocessing   \n",
       "1      Decision_tree_oversampling   \n",
       "2     Decision_tree_undersampling   \n",
       "\n",
       "                                             metrics  training_time(s)  \n",
       "0  {'0': {'precision': 0.8049132947976878, 'recal...          0.980486  \n",
       "1  {'0': {'precision': 0.8125783535311325, 'recal...          3.405618  \n",
       "2  {'0': {'precision': 0.8152288546720101, 'recal...          0.765867  "
      ]
     },
     "execution_count": 58,
     "metadata": {},
     "output_type": "execute_result"
    }
   ],
   "source": [
    "print('DECISION TREE - Random Undersampler')\n",
    "x = classification_report(y_val, y_pred, labels = sorted(list(set(y_enc))), digits=4, output_dict=True)\n",
    "models.append({'model':'Decision_tree_undersampling', 'metrics': x, 'training_time(s)':(end-start)})\n",
    "pd.DataFrame(models)"
   ]
  },
  {
   "cell_type": "markdown",
   "metadata": {},
   "source": [
    "So, the performance is not vastly affected by the oversampling or undersampling => Decision tree is robust to imbalanced data\n",
    "\n",
    "### Random Forest"
   ]
  },
  {
   "cell_type": "code",
   "execution_count": 59,
   "metadata": {},
   "outputs": [],
   "source": [
    "from sklearn.ensemble import RandomForestClassifier"
   ]
  },
  {
   "cell_type": "code",
   "execution_count": 60,
   "metadata": {},
   "outputs": [
    {
     "name": "stdout",
     "output_type": "stream",
     "text": [
      "n_estimators: 5, time_taken: 0.9854593998752534s, accuracy: 0.8025193281791523\n",
      "n_estimators: 10, time_taken: 1.267887500114739s, accuracy: 0.8160490535857104\n",
      "n_estimators: 20, time_taken: 2.758644700050354s, accuracy: 0.8297120767795254\n",
      "n_estimators: 50, time_taken: 8.566147099947557s, accuracy: 0.8329778725673154\n",
      "n_estimators: 100, time_taken: 20.64796460000798s, accuracy: 0.8375766462276726\n",
      "n_estimators: 200, time_taken: 49.65825400012545s, accuracy: 0.8364436150359904\n",
      "n_estimators: 300, time_taken: 76.8785306001082s, accuracy: 0.835110637163423\n"
     ]
    }
   ],
   "source": [
    "estims = [5,10,20,50,100,200,300]\n",
    "model = RandomForestClassifier()\n",
    "acc,tim = [], []\n",
    "for x in estims:\n",
    "    model = RandomForestClassifier(n_estimators=x,warm_start=True)\n",
    "    start = time.perf_counter()\n",
    "    model.fit(X_train,y_train)\n",
    "    end = time.perf_counter()\n",
    "    y_pred = model.predict(X_val)\n",
    "    _acc = accuracy_score(y_val,y_pred)\n",
    "    tim.append(end-start)\n",
    "    print(f'n_estimators: {x}, time_taken: {end-start}s, accuracy: {_acc}')\n",
    "    acc.append(_acc)"
   ]
  },
  {
   "cell_type": "markdown",
   "metadata": {},
   "source": [
    "Pick best model"
   ]
  },
  {
   "cell_type": "code",
   "execution_count": 61,
   "metadata": {},
   "outputs": [
    {
     "name": "stdout",
     "output_type": "stream",
     "text": [
      "n_estimators: 300, time_taken: 26.715764000080526s, accuracy: 0.8339776059717409\n"
     ]
    }
   ],
   "source": [
    "model1 = RandomForestClassifier(n_estimators=estims[np.argmax(acc)],warm_start=True)\n",
    "start = time.perf_counter()\n",
    "model1.fit(X_train,y_train)\n",
    "end = time.perf_counter()\n",
    "y_pred = model1.predict(X_val)\n",
    "_acc = accuracy_score(y_val,y_pred)\n",
    "print(f'n_estimators: {x}, time_taken: {end-start}s, accuracy: {_acc}')"
   ]
  },
  {
   "cell_type": "code",
   "execution_count": 62,
   "metadata": {},
   "outputs": [
    {
     "data": {
      "text/plain": [
       "<bound method BaseEstimator.get_params of RandomForestClassifier(n_estimators=300, warm_start=True)>"
      ]
     },
     "execution_count": 62,
     "metadata": {},
     "output_type": "execute_result"
    }
   ],
   "source": [
    "model.get_params"
   ]
  },
  {
   "cell_type": "code",
   "execution_count": 63,
   "metadata": {},
   "outputs": [
    {
     "data": {
      "text/html": [
       "<div>\n",
       "<style scoped>\n",
       "    .dataframe tbody tr th:only-of-type {\n",
       "        vertical-align: middle;\n",
       "    }\n",
       "\n",
       "    .dataframe tbody tr th {\n",
       "        vertical-align: top;\n",
       "    }\n",
       "\n",
       "    .dataframe thead th {\n",
       "        text-align: right;\n",
       "    }\n",
       "</style>\n",
       "<table border=\"1\" class=\"dataframe\">\n",
       "  <thead>\n",
       "    <tr style=\"text-align: right;\">\n",
       "      <th></th>\n",
       "      <th>model</th>\n",
       "      <th>metrics</th>\n",
       "      <th>training_time(s)</th>\n",
       "    </tr>\n",
       "  </thead>\n",
       "  <tbody>\n",
       "    <tr>\n",
       "      <th>0</th>\n",
       "      <td>Decision_tree_no_preprocessing</td>\n",
       "      <td>{'0': {'precision': 0.8049132947976878, 'recal...</td>\n",
       "      <td>0.980486</td>\n",
       "    </tr>\n",
       "    <tr>\n",
       "      <th>1</th>\n",
       "      <td>Decision_tree_oversampling</td>\n",
       "      <td>{'0': {'precision': 0.8125783535311325, 'recal...</td>\n",
       "      <td>3.405618</td>\n",
       "    </tr>\n",
       "    <tr>\n",
       "      <th>2</th>\n",
       "      <td>Decision_tree_undersampling</td>\n",
       "      <td>{'0': {'precision': 0.8152288546720101, 'recal...</td>\n",
       "      <td>0.765867</td>\n",
       "    </tr>\n",
       "    <tr>\n",
       "      <th>3</th>\n",
       "      <td>RandomForest_no_preprocessing</td>\n",
       "      <td>{'0': {'precision': 0.9437790271327304, 'recal...</td>\n",
       "      <td>76.878531</td>\n",
       "    </tr>\n",
       "  </tbody>\n",
       "</table>\n",
       "</div>"
      ],
      "text/plain": [
       "                            model  \\\n",
       "0  Decision_tree_no_preprocessing   \n",
       "1      Decision_tree_oversampling   \n",
       "2     Decision_tree_undersampling   \n",
       "3   RandomForest_no_preprocessing   \n",
       "\n",
       "                                             metrics  training_time(s)  \n",
       "0  {'0': {'precision': 0.8049132947976878, 'recal...          0.980486  \n",
       "1  {'0': {'precision': 0.8125783535311325, 'recal...          3.405618  \n",
       "2  {'0': {'precision': 0.8152288546720101, 'recal...          0.765867  \n",
       "3  {'0': {'precision': 0.9437790271327304, 'recal...         76.878531  "
      ]
     },
     "execution_count": 63,
     "metadata": {},
     "output_type": "execute_result"
    }
   ],
   "source": [
    "y_pred = model.predict(X_val)\n",
    "x = classification_report(y_val, y_pred, digits=4, labels=sorted(list(set(y_enc))), output_dict=True)\n",
    "models.append({'model': 'RandomForest_no_preprocessing', 'metrics': x, 'training_time(s)': tim[-1]})\n",
    "pd.DataFrame(models)"
   ]
  },
  {
   "cell_type": "code",
   "execution_count": 64,
   "metadata": {},
   "outputs": [
    {
     "data": {
      "text/plain": [
       "Text(0.5, 1.0, 'Training time')"
      ]
     },
     "execution_count": 64,
     "metadata": {},
     "output_type": "execute_result"
    },
    {
     "data": {
      "image/png": "[encoded data removed]",
      "text/plain": [
       "<Figure size 1000x500 with 2 Axes>"
      ]
     },
     "metadata": {},
     "output_type": "display_data"
    }
   ],
   "source": [
    "fig = plt.figure(figsize=(10,5))\n",
    "\n",
    "ax1 = fig.add_subplot(121)\n",
    "ax1.plot(estims,acc)\n",
    "ax1.set_title('Accuracy')\n",
    "\n",
    "ax2 = fig.add_subplot(122)\n",
    "ax2.plot(estims,tim)\n",
    "ax2.set_title('Training time')"
   ]
  },
  {
   "cell_type": "markdown",
   "metadata": {},
   "source": [
    "Try with SMOTE"
   ]
  },
  {
   "cell_type": "code",
   "execution_count": 65,
   "metadata": {},
   "outputs": [
    {
     "name": "stdout",
     "output_type": "stream",
     "text": [
      "n_estimators: 5, time_taken: 3.3944650997873396s, accuracy: 0.7979872034124234\n",
      "n_estimators: 10, time_taken: 7.2505385999102145s, accuracy: 0.8142495334577446\n",
      "n_estimators: 20, time_taken: 14.392014099983498s, accuracy: 0.825246600906425\n",
      "n_estimators: 50, time_taken: 37.405577400000766s, accuracy: 0.832178085843775\n",
      "n_estimators: 100, time_taken: 78.1692329000216s, accuracy: 0.8335777126099707\n",
      "n_estimators: 200, time_taken: 146.6786739998497s, accuracy: 0.8348440415889096\n",
      "n_estimators: 300, time_taken: 214.04704680014402s, accuracy: 0.8354438816315649\n"
     ]
    }
   ],
   "source": [
    "X_train1, y_train1 = SMOTE().fit_resample(X_train,y_train)\n",
    "estims = [5,10,20,50,100,200,300]\n",
    "model = RandomForestClassifier()\n",
    "acc,tim = [], []\n",
    "for x in estims:\n",
    "    model = RandomForestClassifier(n_estimators=x,warm_start=True)\n",
    "    start = time.perf_counter()\n",
    "    model.fit(X_train1,y_train1)\n",
    "    end = time.perf_counter()\n",
    "    y_pred = model.predict(X_val)\n",
    "    _acc = accuracy_score(y_val,y_pred)\n",
    "    tim.append(end-start)\n",
    "    print(f'n_estimators: {x}, time_taken: {end-start}s, accuracy: {_acc}')\n",
    "    acc.append(_acc)"
   ]
  },
  {
   "cell_type": "markdown",
   "metadata": {},
   "source": [
    "Pick best model"
   ]
  },
  {
   "cell_type": "code",
   "execution_count": 66,
   "metadata": {},
   "outputs": [
    {
     "name": "stdout",
     "output_type": "stream",
     "text": [
      "n_estimators: 300, time_taken: 214.72428840002976s, accuracy: 0.8349773393761664\n"
     ]
    }
   ],
   "source": [
    "model1 = RandomForestClassifier(n_estimators=estims[np.argmax(acc)],warm_start=True)\n",
    "start = time.perf_counter()\n",
    "model1.fit(X_train1,y_train1)\n",
    "end = time.perf_counter()\n",
    "y_pred = model1.predict(X_val)\n",
    "_acc = accuracy_score(y_val,y_pred)\n",
    "print(f'n_estimators: {estims[np.argmax(acc)]}, time_taken: {end-start}s, accuracy: {_acc}')"
   ]
  },
  {
   "cell_type": "code",
   "execution_count": 67,
   "metadata": {},
   "outputs": [
    {
     "data": {
      "text/plain": [
       "array([0.0008263 , 0.00856767, 0.00749736, 0.0119644 , 0.00074448,\n",
       "       0.00176313, 0.02025677, 0.01149357, 0.01145217, 0.01206873,\n",
       "       0.02317489, 0.00660598, 0.00038603, 0.00503627, 0.02198834,\n",
       "       0.01187065, 0.02078177, 0.01818577, 0.00168993, 0.01063427,\n",
       "       0.03945771, 0.09429956, 0.07136731, 0.00154709, 0.00135987,\n",
       "       0.01077595, 0.04348037, 0.14426037, 0.10424047, 0.00157972,\n",
       "       0.01376037, 0.01229773, 0.01438192, 0.00085204, 0.00759663,\n",
       "       0.01227102, 0.00074589, 0.00171389, 0.01213031, 0.00039951,\n",
       "       0.00500718, 0.01893332, 0.02199405, 0.01916882, 0.00174918,\n",
       "       0.05506622, 0.00157015, 0.00146029, 0.07796321, 0.00158141])"
      ]
     },
     "execution_count": 67,
     "metadata": {},
     "output_type": "execute_result"
    }
   ],
   "source": [
    "model.feature_importances_"
   ]
  },
  {
   "cell_type": "code",
   "execution_count": 68,
   "metadata": {},
   "outputs": [
    {
     "data": {
      "text/html": [
       "<div>\n",
       "<style scoped>\n",
       "    .dataframe tbody tr th:only-of-type {\n",
       "        vertical-align: middle;\n",
       "    }\n",
       "\n",
       "    .dataframe tbody tr th {\n",
       "        vertical-align: top;\n",
       "    }\n",
       "\n",
       "    .dataframe thead th {\n",
       "        text-align: right;\n",
       "    }\n",
       "</style>\n",
       "<table border=\"1\" class=\"dataframe\">\n",
       "  <thead>\n",
       "    <tr style=\"text-align: right;\">\n",
       "      <th></th>\n",
       "      <th>model</th>\n",
       "      <th>metrics</th>\n",
       "      <th>training_time(s)</th>\n",
       "    </tr>\n",
       "  </thead>\n",
       "  <tbody>\n",
       "    <tr>\n",
       "      <th>0</th>\n",
       "      <td>Decision_tree_no_preprocessing</td>\n",
       "      <td>{'0': {'precision': 0.8049132947976878, 'recal...</td>\n",
       "      <td>0.980486</td>\n",
       "    </tr>\n",
       "    <tr>\n",
       "      <th>1</th>\n",
       "      <td>Decision_tree_oversampling</td>\n",
       "      <td>{'0': {'precision': 0.8125783535311325, 'recal...</td>\n",
       "      <td>3.405618</td>\n",
       "    </tr>\n",
       "    <tr>\n",
       "      <th>2</th>\n",
       "      <td>Decision_tree_undersampling</td>\n",
       "      <td>{'0': {'precision': 0.8152288546720101, 'recal...</td>\n",
       "      <td>0.765867</td>\n",
       "    </tr>\n",
       "    <tr>\n",
       "      <th>3</th>\n",
       "      <td>RandomForest_no_preprocessing</td>\n",
       "      <td>{'0': {'precision': 0.9437790271327304, 'recal...</td>\n",
       "      <td>76.878531</td>\n",
       "    </tr>\n",
       "    <tr>\n",
       "      <th>4</th>\n",
       "      <td>RandomForest_oversampling</td>\n",
       "      <td>{'0': {'precision': 0.9532803180914513, 'recal...</td>\n",
       "      <td>214.047047</td>\n",
       "    </tr>\n",
       "  </tbody>\n",
       "</table>\n",
       "</div>"
      ],
      "text/plain": [
       "                            model  \\\n",
       "0  Decision_tree_no_preprocessing   \n",
       "1      Decision_tree_oversampling   \n",
       "2     Decision_tree_undersampling   \n",
       "3   RandomForest_no_preprocessing   \n",
       "4       RandomForest_oversampling   \n",
       "\n",
       "                                             metrics  training_time(s)  \n",
       "0  {'0': {'precision': 0.8049132947976878, 'recal...          0.980486  \n",
       "1  {'0': {'precision': 0.8125783535311325, 'recal...          3.405618  \n",
       "2  {'0': {'precision': 0.8152288546720101, 'recal...          0.765867  \n",
       "3  {'0': {'precision': 0.9437790271327304, 'recal...         76.878531  \n",
       "4  {'0': {'precision': 0.9532803180914513, 'recal...        214.047047  "
      ]
     },
     "execution_count": 68,
     "metadata": {},
     "output_type": "execute_result"
    }
   ],
   "source": [
    "y_pred = model.predict(X_val)\n",
    "x = classification_report(y_val, y_pred, digits=4, labels=sorted(list(set(y_enc))), output_dict=True)\n",
    "models.append({'model': 'RandomForest_oversampling', 'metrics': x, 'training_time(s)': tim[-1]})\n",
    "pd.DataFrame(models)"
   ]
  },
  {
   "cell_type": "code",
   "execution_count": 69,
   "metadata": {},
   "outputs": [
    {
     "data": {
      "text/plain": [
       "Text(0.5, 1.0, 'Training time')"
      ]
     },
     "execution_count": 69,
     "metadata": {},
     "output_type": "execute_result"
    },
    {
     "data": {
      "image/png": "[encoded data removed]",
      "text/plain": [
       "<Figure size 1000x500 with 2 Axes>"
      ]
     },
     "metadata": {},
     "output_type": "display_data"
    }
   ],
   "source": [
    "fig = plt.figure(figsize=(10,5))\n",
    "\n",
    "ax1 = fig.add_subplot(121)\n",
    "ax1.plot(estims,acc)\n",
    "ax1.set_title('Accuracy')\n",
    "\n",
    "ax2 = fig.add_subplot(122)\n",
    "ax2.plot(estims,tim)\n",
    "ax2.set_title('Training time')\n"
   ]
  },
  {
   "cell_type": "markdown",
   "metadata": {},
   "source": [
    "Let's try Undersampling"
   ]
  },
  {
   "cell_type": "code",
   "execution_count": 70,
   "metadata": {},
   "outputs": [
    {
     "name": "stdout",
     "output_type": "stream",
     "text": [
      "n_estimators: 5, time_taken: 0.7891319999471307s, accuracy: 0.7753932284724073\n",
      "n_estimators: 10, time_taken: 1.5796254000160843s, accuracy: 0.7933884297520661\n",
      "n_estimators: 20, time_taken: 2.9931307998485863s, accuracy: 0.807584644094908\n",
      "n_estimators: 50, time_taken: 7.484269800130278s, accuracy: 0.8115835777126099\n",
      "n_estimators: 100, time_taken: 14.842837600037456s, accuracy: 0.8131831511596908\n",
      "n_estimators: 200, time_taken: 29.737965600099415s, accuracy: 0.8146494268195148\n",
      "n_estimators: 300, time_taken: 43.778003100072965s, accuracy: 0.8147827246067715\n"
     ]
    }
   ],
   "source": [
    "X_train1, y_train1 = RandomUnderSampler().fit_resample(X_train,y_train)\n",
    "estims = [5,10,20,50,100,200,300]\n",
    "model = RandomForestClassifier()\n",
    "acc,tim = [], []\n",
    "for x in estims:\n",
    "    model = RandomForestClassifier(n_estimators=x,warm_start=True)\n",
    "    start = time.perf_counter()\n",
    "    model.fit(X_train1,y_train1)\n",
    "    end = time.perf_counter()\n",
    "    y_pred = model.predict(X_val)\n",
    "    _acc = accuracy_score(y_val,y_pred)\n",
    "    tim.append(end-start)\n",
    "    print(f'n_estimators: {x}, time_taken: {end-start}s, accuracy: {_acc}')\n",
    "    acc.append(_acc)"
   ]
  },
  {
   "cell_type": "markdown",
   "metadata": {},
   "source": [
    "Pick best model"
   ]
  },
  {
   "cell_type": "code",
   "execution_count": 71,
   "metadata": {},
   "outputs": [
    {
     "name": "stdout",
     "output_type": "stream",
     "text": [
      "n_estimators: 300, time_taken: 43.83311500004493s, accuracy: 0.8147827246067715\n"
     ]
    }
   ],
   "source": [
    "model1 = RandomForestClassifier(n_estimators=estims[np.argmax(acc)],warm_start=True)\n",
    "start = time.perf_counter()\n",
    "model1.fit(X_train1,y_train1)\n",
    "end = time.perf_counter()\n",
    "y_pred = model1.predict(X_val)\n",
    "_acc = accuracy_score(y_val,y_pred)\n",
    "print(f'n_estimators: {estims[np.argmax(acc)]}, time_taken: {end-start}s, accuracy: {_acc}')"
   ]
  },
  {
   "cell_type": "code",
   "execution_count": 72,
   "metadata": {},
   "outputs": [
    {
     "data": {
      "text/plain": [
       "array([0.00083625, 0.01142319, 0.00864161, 0.01605541, 0.00106835,\n",
       "       0.00212845, 0.02716236, 0.01429053, 0.01425436, 0.01412137,\n",
       "       0.03201172, 0.00557477, 0.00041447, 0.00375688, 0.0151726 ,\n",
       "       0.00713396, 0.01081541, 0.0179683 , 0.00195375, 0.00871809,\n",
       "       0.03472788, 0.06699692, 0.078937  , 0.0016319 , 0.0016132 ,\n",
       "       0.00988848, 0.04520222, 0.11938536, 0.13324032, 0.00164365,\n",
       "       0.01586653, 0.01433609, 0.01670028, 0.0008347 , 0.00858209,\n",
       "       0.01674042, 0.00103312, 0.00219882, 0.01398026, 0.00039607,\n",
       "       0.00403841, 0.01680945, 0.01092816, 0.01876395, 0.00192713,\n",
       "       0.06282569, 0.00162459, 0.00175526, 0.08230762, 0.00158258])"
      ]
     },
     "execution_count": 72,
     "metadata": {},
     "output_type": "execute_result"
    }
   ],
   "source": [
    "model.feature_importances_"
   ]
  },
  {
   "cell_type": "code",
   "execution_count": 73,
   "metadata": {},
   "outputs": [
    {
     "data": {
      "text/html": [
       "<div>\n",
       "<style scoped>\n",
       "    .dataframe tbody tr th:only-of-type {\n",
       "        vertical-align: middle;\n",
       "    }\n",
       "\n",
       "    .dataframe tbody tr th {\n",
       "        vertical-align: top;\n",
       "    }\n",
       "\n",
       "    .dataframe thead th {\n",
       "        text-align: right;\n",
       "    }\n",
       "</style>\n",
       "<table border=\"1\" class=\"dataframe\">\n",
       "  <thead>\n",
       "    <tr style=\"text-align: right;\">\n",
       "      <th></th>\n",
       "      <th>model</th>\n",
       "      <th>metrics</th>\n",
       "      <th>training_time(s)</th>\n",
       "    </tr>\n",
       "  </thead>\n",
       "  <tbody>\n",
       "    <tr>\n",
       "      <th>0</th>\n",
       "      <td>Decision_tree_no_preprocessing</td>\n",
       "      <td>{'0': {'precision': 0.8049132947976878, 'recal...</td>\n",
       "      <td>0.980486</td>\n",
       "    </tr>\n",
       "    <tr>\n",
       "      <th>1</th>\n",
       "      <td>Decision_tree_oversampling</td>\n",
       "      <td>{'0': {'precision': 0.8125783535311325, 'recal...</td>\n",
       "      <td>3.405618</td>\n",
       "    </tr>\n",
       "    <tr>\n",
       "      <th>2</th>\n",
       "      <td>Decision_tree_undersampling</td>\n",
       "      <td>{'0': {'precision': 0.8152288546720101, 'recal...</td>\n",
       "      <td>0.765867</td>\n",
       "    </tr>\n",
       "    <tr>\n",
       "      <th>3</th>\n",
       "      <td>RandomForest_no_preprocessing</td>\n",
       "      <td>{'0': {'precision': 0.9437790271327304, 'recal...</td>\n",
       "      <td>76.878531</td>\n",
       "    </tr>\n",
       "    <tr>\n",
       "      <th>4</th>\n",
       "      <td>RandomForest_oversampling</td>\n",
       "      <td>{'0': {'precision': 0.9532803180914513, 'recal...</td>\n",
       "      <td>214.047047</td>\n",
       "    </tr>\n",
       "    <tr>\n",
       "      <th>5</th>\n",
       "      <td>RandomForest_undersampling</td>\n",
       "      <td>{'0': {'precision': 0.9725991649269311, 'recal...</td>\n",
       "      <td>43.778003</td>\n",
       "    </tr>\n",
       "  </tbody>\n",
       "</table>\n",
       "</div>"
      ],
      "text/plain": [
       "                            model  \\\n",
       "0  Decision_tree_no_preprocessing   \n",
       "1      Decision_tree_oversampling   \n",
       "2     Decision_tree_undersampling   \n",
       "3   RandomForest_no_preprocessing   \n",
       "4       RandomForest_oversampling   \n",
       "5      RandomForest_undersampling   \n",
       "\n",
       "                                             metrics  training_time(s)  \n",
       "0  {'0': {'precision': 0.8049132947976878, 'recal...          0.980486  \n",
       "1  {'0': {'precision': 0.8125783535311325, 'recal...          3.405618  \n",
       "2  {'0': {'precision': 0.8152288546720101, 'recal...          0.765867  \n",
       "3  {'0': {'precision': 0.9437790271327304, 'recal...         76.878531  \n",
       "4  {'0': {'precision': 0.9532803180914513, 'recal...        214.047047  \n",
       "5  {'0': {'precision': 0.9725991649269311, 'recal...         43.778003  "
      ]
     },
     "execution_count": 73,
     "metadata": {},
     "output_type": "execute_result"
    }
   ],
   "source": [
    "y_pred = model.predict(X_val)\n",
    "x = classification_report(y_val, y_pred, digits=4, labels=sorted(list(set(y_enc))), output_dict=True)\n",
    "models.append({'model': 'RandomForest_undersampling', 'metrics': x, 'training_time(s)': tim[-1]})\n",
    "pd.DataFrame(models)"
   ]
  },
  {
   "cell_type": "code",
   "execution_count": 74,
   "metadata": {},
   "outputs": [
    {
     "data": {
      "text/plain": [
       "Text(0.5, 1.0, 'Training time')"
      ]
     },
     "execution_count": 74,
     "metadata": {},
     "output_type": "execute_result"
    },
    {
     "data": {
      "image/png": "[encoded data removed]",
      "text/plain": [
       "<Figure size 1000x500 with 2 Axes>"
      ]
     },
     "metadata": {},
     "output_type": "display_data"
    }
   ],
   "source": [
    "fig = plt.figure(figsize=(10,5))\n",
    "\n",
    "ax1 = fig.add_subplot(121)\n",
    "ax1.plot(estims,acc)\n",
    "ax1.set_title('Accuracy')\n",
    "\n",
    "ax2 = fig.add_subplot(122)\n",
    "ax2.plot(estims,tim)\n",
    "ax2.set_title('Training time')\n"
   ]
  },
  {
   "cell_type": "markdown",
   "metadata": {},
   "source": [
    "### Naive Bayes"
   ]
  },
  {
   "cell_type": "code",
   "execution_count": 75,
   "metadata": {},
   "outputs": [],
   "source": [
    "from sklearn.naive_bayes import GaussianNB"
   ]
  },
  {
   "cell_type": "code",
   "execution_count": 76,
   "metadata": {},
   "outputs": [
    {
     "name": "stdout",
     "output_type": "stream",
     "text": [
      "CPU times: total: 156 ms\n",
      "Wall time: 184 ms\n"
     ]
    }
   ],
   "source": [
    "%%time\n",
    "model_nb = GaussianNB()\n",
    "start = time.perf_counter()\n",
    "model_nb.fit(X_train, y_train)\n",
    "end = time.perf_counter()"
   ]
  },
  {
   "cell_type": "code",
   "execution_count": 77,
   "metadata": {},
   "outputs": [
    {
     "data": {
      "text/plain": [
       "array([[[ 9667,   638],\n",
       "        [ 1001,  3698]],\n",
       "\n",
       "       [[10821,  1222],\n",
       "        [ 1635,  1326]],\n",
       "\n",
       "       [[ 5905,  1755],\n",
       "        [  979,  6365]]], dtype=int64)"
      ]
     },
     "execution_count": 77,
     "metadata": {},
     "output_type": "execute_result"
    }
   ],
   "source": [
    "y_pred = model_nb.predict(X_val)\n",
    "mat = multilabel_confusion_matrix(y_val,y_pred)\n",
    "mat"
   ]
  },
  {
   "cell_type": "code",
   "execution_count": 78,
   "metadata": {},
   "outputs": [
    {
     "data": {
      "text/plain": [
       "(0.7004971779922178, 0.7590642495334577)"
      ]
     },
     "execution_count": 78,
     "metadata": {},
     "output_type": "execute_result"
    }
   ],
   "source": [
    "balanced_accuracy_score(y_val,y_pred), accuracy_score(y_val,y_pred)"
   ]
  },
  {
   "cell_type": "code",
   "execution_count": 79,
   "metadata": {},
   "outputs": [
    {
     "name": "stdout",
     "output_type": "stream",
     "text": [
      "NAIVE BAYES - No preprocessing\n"
     ]
    },
    {
     "data": {
      "text/html": [
       "<div>\n",
       "<style scoped>\n",
       "    .dataframe tbody tr th:only-of-type {\n",
       "        vertical-align: middle;\n",
       "    }\n",
       "\n",
       "    .dataframe tbody tr th {\n",
       "        vertical-align: top;\n",
       "    }\n",
       "\n",
       "    .dataframe thead th {\n",
       "        text-align: right;\n",
       "    }\n",
       "</style>\n",
       "<table border=\"1\" class=\"dataframe\">\n",
       "  <thead>\n",
       "    <tr style=\"text-align: right;\">\n",
       "      <th></th>\n",
       "      <th>model</th>\n",
       "      <th>metrics</th>\n",
       "      <th>training_time(s)</th>\n",
       "    </tr>\n",
       "  </thead>\n",
       "  <tbody>\n",
       "    <tr>\n",
       "      <th>0</th>\n",
       "      <td>Decision_tree_no_preprocessing</td>\n",
       "      <td>{'0': {'precision': 0.8049132947976878, 'recal...</td>\n",
       "      <td>0.980486</td>\n",
       "    </tr>\n",
       "    <tr>\n",
       "      <th>1</th>\n",
       "      <td>Decision_tree_oversampling</td>\n",
       "      <td>{'0': {'precision': 0.8125783535311325, 'recal...</td>\n",
       "      <td>3.405618</td>\n",
       "    </tr>\n",
       "    <tr>\n",
       "      <th>2</th>\n",
       "      <td>Decision_tree_undersampling</td>\n",
       "      <td>{'0': {'precision': 0.8152288546720101, 'recal...</td>\n",
       "      <td>0.765867</td>\n",
       "    </tr>\n",
       "    <tr>\n",
       "      <th>3</th>\n",
       "      <td>RandomForest_no_preprocessing</td>\n",
       "      <td>{'0': {'precision': 0.9437790271327304, 'recal...</td>\n",
       "      <td>76.878531</td>\n",
       "    </tr>\n",
       "    <tr>\n",
       "      <th>4</th>\n",
       "      <td>RandomForest_oversampling</td>\n",
       "      <td>{'0': {'precision': 0.9532803180914513, 'recal...</td>\n",
       "      <td>214.047047</td>\n",
       "    </tr>\n",
       "    <tr>\n",
       "      <th>5</th>\n",
       "      <td>RandomForest_undersampling</td>\n",
       "      <td>{'0': {'precision': 0.9725991649269311, 'recal...</td>\n",
       "      <td>43.778003</td>\n",
       "    </tr>\n",
       "    <tr>\n",
       "      <th>6</th>\n",
       "      <td>Naive_Bayes_no_preprocessing</td>\n",
       "      <td>{'0': {'precision': 0.852859778597786, 'recall...</td>\n",
       "      <td>0.183097</td>\n",
       "    </tr>\n",
       "  </tbody>\n",
       "</table>\n",
       "</div>"
      ],
      "text/plain": [
       "                            model  \\\n",
       "0  Decision_tree_no_preprocessing   \n",
       "1      Decision_tree_oversampling   \n",
       "2     Decision_tree_undersampling   \n",
       "3   RandomForest_no_preprocessing   \n",
       "4       RandomForest_oversampling   \n",
       "5      RandomForest_undersampling   \n",
       "6    Naive_Bayes_no_preprocessing   \n",
       "\n",
       "                                             metrics  training_time(s)  \n",
       "0  {'0': {'precision': 0.8049132947976878, 'recal...          0.980486  \n",
       "1  {'0': {'precision': 0.8125783535311325, 'recal...          3.405618  \n",
       "2  {'0': {'precision': 0.8152288546720101, 'recal...          0.765867  \n",
       "3  {'0': {'precision': 0.9437790271327304, 'recal...         76.878531  \n",
       "4  {'0': {'precision': 0.9532803180914513, 'recal...        214.047047  \n",
       "5  {'0': {'precision': 0.9725991649269311, 'recal...         43.778003  \n",
       "6  {'0': {'precision': 0.852859778597786, 'recall...          0.183097  "
      ]
     },
     "execution_count": 79,
     "metadata": {},
     "output_type": "execute_result"
    }
   ],
   "source": [
    "print('NAIVE BAYES - No preprocessing')\n",
    "x = classification_report(y_val, y_pred, labels = sorted(list(set(y_enc))), digits=4, output_dict=True)\n",
    "models.append({'model':'Naive_Bayes_no_preprocessing', 'metrics': x, 'training_time(s)':(end-start)})\n",
    "pd.DataFrame(models)"
   ]
  },
  {
   "cell_type": "markdown",
   "metadata": {},
   "source": [
    "Let's try oversampling "
   ]
  },
  {
   "cell_type": "code",
   "execution_count": 80,
   "metadata": {},
   "outputs": [],
   "source": [
    "X_train1, y_train1 = SMOTE().fit_resample(X_train, y_train)"
   ]
  },
  {
   "cell_type": "code",
   "execution_count": 81,
   "metadata": {},
   "outputs": [
    {
     "name": "stdout",
     "output_type": "stream",
     "text": [
      "CPU times: total: 250 ms\n",
      "Wall time: 140 ms\n"
     ]
    }
   ],
   "source": [
    "%%time\n",
    "model_nb = GaussianNB()\n",
    "start = time.perf_counter()\n",
    "model_nb.fit(X_train1,y_train1)\n",
    "end = time.perf_counter()"
   ]
  },
  {
   "cell_type": "code",
   "execution_count": 82,
   "metadata": {},
   "outputs": [
    {
     "data": {
      "text/plain": [
       "array([[[ 9616,   689],\n",
       "        [  983,  3716]],\n",
       "\n",
       "       [[10393,  1650],\n",
       "        [ 1215,  1746]],\n",
       "\n",
       "       [[ 6456,  1204],\n",
       "        [ 1345,  5999]]], dtype=int64)"
      ]
     },
     "execution_count": 82,
     "metadata": {},
     "output_type": "execute_result"
    }
   ],
   "source": [
    "y_pred = model_nb.predict(X_val)\n",
    "mat = multilabel_confusion_matrix(y_val,y_pred)\n",
    "mat"
   ]
  },
  {
   "cell_type": "code",
   "execution_count": 83,
   "metadata": {},
   "outputs": [
    {
     "data": {
      "text/plain": [
       "(0.7324431688521561, 0.7638629698747)"
      ]
     },
     "execution_count": 83,
     "metadata": {},
     "output_type": "execute_result"
    }
   ],
   "source": [
    "balanced_accuracy_score(y_val,y_pred), accuracy_score(y_val,y_pred)"
   ]
  },
  {
   "cell_type": "code",
   "execution_count": 84,
   "metadata": {},
   "outputs": [
    {
     "data": {
      "text/html": [
       "<div>\n",
       "<style scoped>\n",
       "    .dataframe tbody tr th:only-of-type {\n",
       "        vertical-align: middle;\n",
       "    }\n",
       "\n",
       "    .dataframe tbody tr th {\n",
       "        vertical-align: top;\n",
       "    }\n",
       "\n",
       "    .dataframe thead th {\n",
       "        text-align: right;\n",
       "    }\n",
       "</style>\n",
       "<table border=\"1\" class=\"dataframe\">\n",
       "  <thead>\n",
       "    <tr style=\"text-align: right;\">\n",
       "      <th></th>\n",
       "      <th>model</th>\n",
       "      <th>metrics</th>\n",
       "      <th>training_time(s)</th>\n",
       "    </tr>\n",
       "  </thead>\n",
       "  <tbody>\n",
       "    <tr>\n",
       "      <th>0</th>\n",
       "      <td>Decision_tree_no_preprocessing</td>\n",
       "      <td>{'0': {'precision': 0.8049132947976878, 'recal...</td>\n",
       "      <td>0.980486</td>\n",
       "    </tr>\n",
       "    <tr>\n",
       "      <th>1</th>\n",
       "      <td>Decision_tree_oversampling</td>\n",
       "      <td>{'0': {'precision': 0.8125783535311325, 'recal...</td>\n",
       "      <td>3.405618</td>\n",
       "    </tr>\n",
       "    <tr>\n",
       "      <th>2</th>\n",
       "      <td>Decision_tree_undersampling</td>\n",
       "      <td>{'0': {'precision': 0.8152288546720101, 'recal...</td>\n",
       "      <td>0.765867</td>\n",
       "    </tr>\n",
       "    <tr>\n",
       "      <th>3</th>\n",
       "      <td>RandomForest_no_preprocessing</td>\n",
       "      <td>{'0': {'precision': 0.9437790271327304, 'recal...</td>\n",
       "      <td>76.878531</td>\n",
       "    </tr>\n",
       "    <tr>\n",
       "      <th>4</th>\n",
       "      <td>RandomForest_oversampling</td>\n",
       "      <td>{'0': {'precision': 0.9532803180914513, 'recal...</td>\n",
       "      <td>214.047047</td>\n",
       "    </tr>\n",
       "    <tr>\n",
       "      <th>5</th>\n",
       "      <td>RandomForest_undersampling</td>\n",
       "      <td>{'0': {'precision': 0.9725991649269311, 'recal...</td>\n",
       "      <td>43.778003</td>\n",
       "    </tr>\n",
       "    <tr>\n",
       "      <th>6</th>\n",
       "      <td>Naive_Bayes_no_preprocessing</td>\n",
       "      <td>{'0': {'precision': 0.852859778597786, 'recall...</td>\n",
       "      <td>0.183097</td>\n",
       "    </tr>\n",
       "    <tr>\n",
       "      <th>7</th>\n",
       "      <td>Naive_Bayes_oversampling</td>\n",
       "      <td>{'0': {'precision': 0.8435868331441544, 'recal...</td>\n",
       "      <td>0.139830</td>\n",
       "    </tr>\n",
       "  </tbody>\n",
       "</table>\n",
       "</div>"
      ],
      "text/plain": [
       "                            model  \\\n",
       "0  Decision_tree_no_preprocessing   \n",
       "1      Decision_tree_oversampling   \n",
       "2     Decision_tree_undersampling   \n",
       "3   RandomForest_no_preprocessing   \n",
       "4       RandomForest_oversampling   \n",
       "5      RandomForest_undersampling   \n",
       "6    Naive_Bayes_no_preprocessing   \n",
       "7        Naive_Bayes_oversampling   \n",
       "\n",
       "                                             metrics  training_time(s)  \n",
       "0  {'0': {'precision': 0.8049132947976878, 'recal...          0.980486  \n",
       "1  {'0': {'precision': 0.8125783535311325, 'recal...          3.405618  \n",
       "2  {'0': {'precision': 0.8152288546720101, 'recal...          0.765867  \n",
       "3  {'0': {'precision': 0.9437790271327304, 'recal...         76.878531  \n",
       "4  {'0': {'precision': 0.9532803180914513, 'recal...        214.047047  \n",
       "5  {'0': {'precision': 0.9725991649269311, 'recal...         43.778003  \n",
       "6  {'0': {'precision': 0.852859778597786, 'recall...          0.183097  \n",
       "7  {'0': {'precision': 0.8435868331441544, 'recal...          0.139830  "
      ]
     },
     "execution_count": 84,
     "metadata": {},
     "output_type": "execute_result"
    }
   ],
   "source": [
    "x = classification_report(y_val, y_pred, digits=4, labels=sorted(list(set(y_enc))), output_dict=True)\n",
    "models.append({'model': 'Naive_Bayes_oversampling', 'metrics': x, 'training_time(s)': (end-start)})\n",
    "pd.DataFrame(models)"
   ]
  },
  {
   "cell_type": "markdown",
   "metadata": {},
   "source": [
    "Let's try undersampling"
   ]
  },
  {
   "cell_type": "code",
   "execution_count": 85,
   "metadata": {},
   "outputs": [],
   "source": [
    "X_train1, y_train1 = RandomUnderSampler().fit_resample(X_train, y_train)"
   ]
  },
  {
   "cell_type": "code",
   "execution_count": 86,
   "metadata": {},
   "outputs": [
    {
     "name": "stdout",
     "output_type": "stream",
     "text": [
      "CPU times: total: 0 ns\n",
      "Wall time: 49.5 ms\n"
     ]
    }
   ],
   "source": [
    "%%time\n",
    "model_nb = GaussianNB()\n",
    "start = time.perf_counter()\n",
    "model_nb.fit(X_train1,y_train1)\n",
    "end = time.perf_counter()"
   ]
  },
  {
   "cell_type": "code",
   "execution_count": 87,
   "metadata": {},
   "outputs": [
    {
     "data": {
      "text/plain": [
       "array([[[ 9667,   638],\n",
       "        [ 1004,  3695]],\n",
       "\n",
       "       [[10749,  1294],\n",
       "        [ 1546,  1415]],\n",
       "\n",
       "       [[ 6015,  1645],\n",
       "        [ 1027,  6317]]], dtype=int64)"
      ]
     },
     "execution_count": 87,
     "metadata": {},
     "output_type": "execute_result"
    }
   ],
   "source": [
    "y_pred = model_nb.predict(X_val)\n",
    "mat = multilabel_confusion_matrix(y_val,y_pred)\n",
    "mat"
   ]
  },
  {
   "cell_type": "code",
   "execution_count": 88,
   "metadata": {},
   "outputs": [
    {
     "data": {
      "text/plain": [
       "(0.708124855197024, 0.7615969074913357)"
      ]
     },
     "execution_count": 88,
     "metadata": {},
     "output_type": "execute_result"
    }
   ],
   "source": [
    "balanced_accuracy_score(y_val,y_pred), accuracy_score(y_val,y_pred)"
   ]
  },
  {
   "cell_type": "code",
   "execution_count": 89,
   "metadata": {},
   "outputs": [
    {
     "data": {
      "text/html": [
       "<div>\n",
       "<style scoped>\n",
       "    .dataframe tbody tr th:only-of-type {\n",
       "        vertical-align: middle;\n",
       "    }\n",
       "\n",
       "    .dataframe tbody tr th {\n",
       "        vertical-align: top;\n",
       "    }\n",
       "\n",
       "    .dataframe thead th {\n",
       "        text-align: right;\n",
       "    }\n",
       "</style>\n",
       "<table border=\"1\" class=\"dataframe\">\n",
       "  <thead>\n",
       "    <tr style=\"text-align: right;\">\n",
       "      <th></th>\n",
       "      <th>model</th>\n",
       "      <th>metrics</th>\n",
       "      <th>training_time(s)</th>\n",
       "    </tr>\n",
       "  </thead>\n",
       "  <tbody>\n",
       "    <tr>\n",
       "      <th>0</th>\n",
       "      <td>Decision_tree_no_preprocessing</td>\n",
       "      <td>{'0': {'precision': 0.8049132947976878, 'recal...</td>\n",
       "      <td>0.980486</td>\n",
       "    </tr>\n",
       "    <tr>\n",
       "      <th>1</th>\n",
       "      <td>Decision_tree_oversampling</td>\n",
       "      <td>{'0': {'precision': 0.8125783535311325, 'recal...</td>\n",
       "      <td>3.405618</td>\n",
       "    </tr>\n",
       "    <tr>\n",
       "      <th>2</th>\n",
       "      <td>Decision_tree_undersampling</td>\n",
       "      <td>{'0': {'precision': 0.8152288546720101, 'recal...</td>\n",
       "      <td>0.765867</td>\n",
       "    </tr>\n",
       "    <tr>\n",
       "      <th>3</th>\n",
       "      <td>RandomForest_no_preprocessing</td>\n",
       "      <td>{'0': {'precision': 0.9437790271327304, 'recal...</td>\n",
       "      <td>76.878531</td>\n",
       "    </tr>\n",
       "    <tr>\n",
       "      <th>4</th>\n",
       "      <td>RandomForest_oversampling</td>\n",
       "      <td>{'0': {'precision': 0.9532803180914513, 'recal...</td>\n",
       "      <td>214.047047</td>\n",
       "    </tr>\n",
       "    <tr>\n",
       "      <th>5</th>\n",
       "      <td>RandomForest_undersampling</td>\n",
       "      <td>{'0': {'precision': 0.9725991649269311, 'recal...</td>\n",
       "      <td>43.778003</td>\n",
       "    </tr>\n",
       "    <tr>\n",
       "      <th>6</th>\n",
       "      <td>Naive_Bayes_no_preprocessing</td>\n",
       "      <td>{'0': {'precision': 0.852859778597786, 'recall...</td>\n",
       "      <td>0.183097</td>\n",
       "    </tr>\n",
       "    <tr>\n",
       "      <th>7</th>\n",
       "      <td>Naive_Bayes_oversampling</td>\n",
       "      <td>{'0': {'precision': 0.8435868331441544, 'recal...</td>\n",
       "      <td>0.139830</td>\n",
       "    </tr>\n",
       "    <tr>\n",
       "      <th>8</th>\n",
       "      <td>Naive_Bayes_undersampling</td>\n",
       "      <td>{'0': {'precision': 0.8527579044541888, 'recal...</td>\n",
       "      <td>0.049715</td>\n",
       "    </tr>\n",
       "  </tbody>\n",
       "</table>\n",
       "</div>"
      ],
      "text/plain": [
       "                            model  \\\n",
       "0  Decision_tree_no_preprocessing   \n",
       "1      Decision_tree_oversampling   \n",
       "2     Decision_tree_undersampling   \n",
       "3   RandomForest_no_preprocessing   \n",
       "4       RandomForest_oversampling   \n",
       "5      RandomForest_undersampling   \n",
       "6    Naive_Bayes_no_preprocessing   \n",
       "7        Naive_Bayes_oversampling   \n",
       "8       Naive_Bayes_undersampling   \n",
       "\n",
       "                                             metrics  training_time(s)  \n",
       "0  {'0': {'precision': 0.8049132947976878, 'recal...          0.980486  \n",
       "1  {'0': {'precision': 0.8125783535311325, 'recal...          3.405618  \n",
       "2  {'0': {'precision': 0.8152288546720101, 'recal...          0.765867  \n",
       "3  {'0': {'precision': 0.9437790271327304, 'recal...         76.878531  \n",
       "4  {'0': {'precision': 0.9532803180914513, 'recal...        214.047047  \n",
       "5  {'0': {'precision': 0.9725991649269311, 'recal...         43.778003  \n",
       "6  {'0': {'precision': 0.852859778597786, 'recall...          0.183097  \n",
       "7  {'0': {'precision': 0.8435868331441544, 'recal...          0.139830  \n",
       "8  {'0': {'precision': 0.8527579044541888, 'recal...          0.049715  "
      ]
     },
     "execution_count": 89,
     "metadata": {},
     "output_type": "execute_result"
    }
   ],
   "source": [
    "x = classification_report(y_val, y_pred, digits=4, labels=sorted(list(set(y_enc))), output_dict=True)\n",
    "models.append({'model': 'Naive_Bayes_undersampling', 'metrics': x, 'training_time(s)': (end-start)})\n",
    "pd.DataFrame(models)"
   ]
  },
  {
   "cell_type": "markdown",
   "metadata": {},
   "source": [
    "### K Nearest Neighbors"
   ]
  },
  {
   "cell_type": "code",
   "execution_count": 90,
   "metadata": {},
   "outputs": [],
   "source": [
    "from sklearn.neighbors import KNeighborsClassifier"
   ]
  },
  {
   "cell_type": "code",
   "execution_count": 91,
   "metadata": {},
   "outputs": [
    {
     "name": "stdout",
     "output_type": "stream",
     "text": [
      "n_neighbors: 3, time_taken: 0.014110400108620524s, accuracy: 0.7342042122100774\n",
      "n_neighbors: 5, time_taken: 0.010513999965041876s, accuracy: 0.7457344708077845\n",
      "n_neighbors: 10, time_taken: 0.01021890016272664s, accuracy: 0.753998933617702\n",
      "n_neighbors: 15, time_taken: 0.0096925999969244s, accuracy: 0.753998933617702\n",
      "n_neighbors: 20, time_taken: 0.00996820000000298s, accuracy: 0.7530658491069048\n",
      "n_neighbors: 25, time_taken: 0.01020489982329309s, accuracy: 0.751266328978939\n",
      "n_neighbors: 50, time_taken: 0.010343899950385094s, accuracy: 0.7434684084244202\n",
      "n_neighbors: 100, time_taken: 0.009793199831619859s, accuracy: 0.7292055451879499\n",
      "n_neighbors: 200, time_taken: 0.00787029997445643s, accuracy: 0.7113436416955479\n",
      "n_neighbors: 400, time_taken: 0.011176799889653921s, accuracy: 0.6866169021594242\n",
      "n_neighbors: 800, time_taken: 0.010877199936658144s, accuracy: 0.6582244734737404\n"
     ]
    }
   ],
   "source": [
    "nbors = [3,5,10,15,20,25,50,100,200,400,800]\n",
    "tim, acc = [], []\n",
    "model_knn = KNeighborsClassifier()\n",
    "\n",
    "for n in nbors:\n",
    "    model_knn = KNeighborsClassifier(n_neighbors=n)\n",
    "    start = time.perf_counter()\n",
    "    model_knn.fit(X_train,y_train)\n",
    "    end = time.perf_counter()\n",
    "    y_pred = model_knn.predict(X_val)\n",
    "    _acc = accuracy_score(y_val,y_pred)\n",
    "    tim.append(end-start)\n",
    "    print(f'n_neighbors: {n}, time_taken: {end-start}s, accuracy: {_acc}')\n",
    "    acc.append(_acc)"
   ]
  },
  {
   "cell_type": "markdown",
   "metadata": {},
   "source": [
    "Pick best model"
   ]
  },
  {
   "cell_type": "code",
   "execution_count": 92,
   "metadata": {},
   "outputs": [
    {
     "name": "stdout",
     "output_type": "stream",
     "text": [
      "n_estimators: 10, time_taken: 0.013366300147026777s, accuracy: 0.753998933617702\n"
     ]
    },
    {
     "data": {
      "text/plain": [
       "<bound method BaseEstimator.get_params of KNeighborsClassifier(n_neighbors=10)>"
      ]
     },
     "execution_count": 92,
     "metadata": {},
     "output_type": "execute_result"
    }
   ],
   "source": [
    "model1 = KNeighborsClassifier(n_neighbors=nbors[np.argmax(acc)])\n",
    "start = time.perf_counter()\n",
    "model1.fit(X_train,y_train)\n",
    "end = time.perf_counter()\n",
    "y_pred = model1.predict(X_val)\n",
    "_acc = accuracy_score(y_val,y_pred)\n",
    "print(f'n_estimators: {nbors[np.argmax(acc)]}, time_taken: {end-start}s, accuracy: {_acc}')\n",
    "model1.get_params"
   ]
  },
  {
   "cell_type": "code",
   "execution_count": 93,
   "metadata": {},
   "outputs": [
    {
     "data": {
      "text/html": [
       "<div>\n",
       "<style scoped>\n",
       "    .dataframe tbody tr th:only-of-type {\n",
       "        vertical-align: middle;\n",
       "    }\n",
       "\n",
       "    .dataframe tbody tr th {\n",
       "        vertical-align: top;\n",
       "    }\n",
       "\n",
       "    .dataframe thead th {\n",
       "        text-align: right;\n",
       "    }\n",
       "</style>\n",
       "<table border=\"1\" class=\"dataframe\">\n",
       "  <thead>\n",
       "    <tr style=\"text-align: right;\">\n",
       "      <th></th>\n",
       "      <th>model</th>\n",
       "      <th>metrics</th>\n",
       "      <th>training_time(s)</th>\n",
       "    </tr>\n",
       "  </thead>\n",
       "  <tbody>\n",
       "    <tr>\n",
       "      <th>0</th>\n",
       "      <td>Decision_tree_no_preprocessing</td>\n",
       "      <td>{'0': {'precision': 0.8049132947976878, 'recal...</td>\n",
       "      <td>0.980486</td>\n",
       "    </tr>\n",
       "    <tr>\n",
       "      <th>1</th>\n",
       "      <td>Decision_tree_oversampling</td>\n",
       "      <td>{'0': {'precision': 0.8125783535311325, 'recal...</td>\n",
       "      <td>3.405618</td>\n",
       "    </tr>\n",
       "    <tr>\n",
       "      <th>2</th>\n",
       "      <td>Decision_tree_undersampling</td>\n",
       "      <td>{'0': {'precision': 0.8152288546720101, 'recal...</td>\n",
       "      <td>0.765867</td>\n",
       "    </tr>\n",
       "    <tr>\n",
       "      <th>3</th>\n",
       "      <td>RandomForest_no_preprocessing</td>\n",
       "      <td>{'0': {'precision': 0.9437790271327304, 'recal...</td>\n",
       "      <td>76.878531</td>\n",
       "    </tr>\n",
       "    <tr>\n",
       "      <th>4</th>\n",
       "      <td>RandomForest_oversampling</td>\n",
       "      <td>{'0': {'precision': 0.9532803180914513, 'recal...</td>\n",
       "      <td>214.047047</td>\n",
       "    </tr>\n",
       "    <tr>\n",
       "      <th>5</th>\n",
       "      <td>RandomForest_undersampling</td>\n",
       "      <td>{'0': {'precision': 0.9725991649269311, 'recal...</td>\n",
       "      <td>43.778003</td>\n",
       "    </tr>\n",
       "    <tr>\n",
       "      <th>6</th>\n",
       "      <td>Naive_Bayes_no_preprocessing</td>\n",
       "      <td>{'0': {'precision': 0.852859778597786, 'recall...</td>\n",
       "      <td>0.183097</td>\n",
       "    </tr>\n",
       "    <tr>\n",
       "      <th>7</th>\n",
       "      <td>Naive_Bayes_oversampling</td>\n",
       "      <td>{'0': {'precision': 0.8435868331441544, 'recal...</td>\n",
       "      <td>0.139830</td>\n",
       "    </tr>\n",
       "    <tr>\n",
       "      <th>8</th>\n",
       "      <td>Naive_Bayes_undersampling</td>\n",
       "      <td>{'0': {'precision': 0.8527579044541888, 'recal...</td>\n",
       "      <td>0.049715</td>\n",
       "    </tr>\n",
       "    <tr>\n",
       "      <th>9</th>\n",
       "      <td>KNN_no_preprocessing</td>\n",
       "      <td>{'0': {'precision': 0.8735545500251383, 'recal...</td>\n",
       "      <td>0.013366</td>\n",
       "    </tr>\n",
       "  </tbody>\n",
       "</table>\n",
       "</div>"
      ],
      "text/plain": [
       "                            model  \\\n",
       "0  Decision_tree_no_preprocessing   \n",
       "1      Decision_tree_oversampling   \n",
       "2     Decision_tree_undersampling   \n",
       "3   RandomForest_no_preprocessing   \n",
       "4       RandomForest_oversampling   \n",
       "5      RandomForest_undersampling   \n",
       "6    Naive_Bayes_no_preprocessing   \n",
       "7        Naive_Bayes_oversampling   \n",
       "8       Naive_Bayes_undersampling   \n",
       "9            KNN_no_preprocessing   \n",
       "\n",
       "                                             metrics  training_time(s)  \n",
       "0  {'0': {'precision': 0.8049132947976878, 'recal...          0.980486  \n",
       "1  {'0': {'precision': 0.8125783535311325, 'recal...          3.405618  \n",
       "2  {'0': {'precision': 0.8152288546720101, 'recal...          0.765867  \n",
       "3  {'0': {'precision': 0.9437790271327304, 'recal...         76.878531  \n",
       "4  {'0': {'precision': 0.9532803180914513, 'recal...        214.047047  \n",
       "5  {'0': {'precision': 0.9725991649269311, 'recal...         43.778003  \n",
       "6  {'0': {'precision': 0.852859778597786, 'recall...          0.183097  \n",
       "7  {'0': {'precision': 0.8435868331441544, 'recal...          0.139830  \n",
       "8  {'0': {'precision': 0.8527579044541888, 'recal...          0.049715  \n",
       "9  {'0': {'precision': 0.8735545500251383, 'recal...          0.013366  "
      ]
     },
     "execution_count": 93,
     "metadata": {},
     "output_type": "execute_result"
    }
   ],
   "source": [
    "y_pred = model1.predict(X_val)\n",
    "x = classification_report(y_val, y_pred, digits=4, labels=sorted(list(set(y_enc))), output_dict=True)\n",
    "models.append({'model': 'KNN_no_preprocessing', 'metrics': x, 'training_time(s)': (end-start)})\n",
    "pd.DataFrame(models)"
   ]
  },
  {
   "cell_type": "code",
   "execution_count": 94,
   "metadata": {},
   "outputs": [
    {
     "data": {
      "text/plain": [
       "Text(0.5, 1.0, 'Training time')"
      ]
     },
     "execution_count": 94,
     "metadata": {},
     "output_type": "execute_result"
    },
    {
     "data": {
      "image/png": "[encoded data removed]",
      "text/plain": [
       "<Figure size 1000x500 with 2 Axes>"
      ]
     },
     "metadata": {},
     "output_type": "display_data"
    }
   ],
   "source": [
    "fig = plt.figure(figsize=(10,5))\n",
    "\n",
    "ax1 = fig.add_subplot(121)\n",
    "ax1.plot(nbors,acc)\n",
    "ax1.set_title('Accuracy')\n",
    "\n",
    "ax2 = fig.add_subplot(122)\n",
    "ax2.plot(nbors,tim)\n",
    "ax2.set_title('Training time')"
   ]
  },
  {
   "cell_type": "markdown",
   "metadata": {},
   "source": [
    "Let's try oversampling"
   ]
  },
  {
   "cell_type": "code",
   "execution_count": 95,
   "metadata": {},
   "outputs": [],
   "source": [
    "X_train1, y_train1 = SMOTE().fit_resample(X_train,y_train)"
   ]
  },
  {
   "cell_type": "code",
   "execution_count": 96,
   "metadata": {},
   "outputs": [
    {
     "name": "stdout",
     "output_type": "stream",
     "text": [
      "n_neighbors: 3, time_taken: 0.023888800060376525s, accuracy: 0.6998133830978406\n",
      "n_neighbors: 5, time_taken: 0.012594599975273013s, accuracy: 0.697880565182618\n",
      "n_neighbors: 10, time_taken: 0.0130088001023978s, accuracy: 0.6960143961610237\n",
      "n_neighbors: 15, time_taken: 0.012729099951684475s, accuracy: 0.7042788589709411\n",
      "n_neighbors: 20, time_taken: 0.013428299920633435s, accuracy: 0.7024126899493468\n",
      "n_neighbors: 25, time_taken: 0.013093400048092008s, accuracy: 0.7042788589709411\n",
      "n_neighbors: 50, time_taken: 0.012880700174719095s, accuracy: 0.7004798720341242\n",
      "n_neighbors: 100, time_taken: 0.014684399822726846s, accuracy: 0.6900159957344708\n",
      "n_neighbors: 200, time_taken: 0.013776400126516819s, accuracy: 0.679485470541189\n",
      "n_neighbors: 400, time_taken: 0.014469500165432692s, accuracy: 0.666355638496401\n",
      "n_neighbors: 800, time_taken: 0.01564290001988411s, accuracy: 0.6429618768328446\n"
     ]
    }
   ],
   "source": [
    "nbors = [3,5,10,15,20,25,50,100,200,400,800]\n",
    "tim, acc = [], []\n",
    "model_knn = KNeighborsClassifier()\n",
    "\n",
    "for n in nbors:\n",
    "    model_knn = KNeighborsClassifier(n_neighbors=n)\n",
    "    start = time.perf_counter()\n",
    "    model_knn.fit(X_train1,y_train1)\n",
    "    end = time.perf_counter()\n",
    "    y_pred = model_knn.predict(X_val)\n",
    "    _acc = accuracy_score(y_val,y_pred)\n",
    "    tim.append(end-start)\n",
    "    print(f'n_neighbors: {n}, time_taken: {end-start}s, accuracy: {_acc}')\n",
    "    acc.append(_acc)"
   ]
  },
  {
   "cell_type": "markdown",
   "metadata": {},
   "source": [
    "Pick best model"
   ]
  },
  {
   "cell_type": "code",
   "execution_count": 97,
   "metadata": {},
   "outputs": [
    {
     "name": "stdout",
     "output_type": "stream",
     "text": [
      "n_estimators: 15, time_taken: 0.016962200170382857s, accuracy: 0.7042788589709411\n"
     ]
    },
    {
     "data": {
      "text/plain": [
       "<bound method BaseEstimator.get_params of KNeighborsClassifier(n_neighbors=15)>"
      ]
     },
     "execution_count": 97,
     "metadata": {},
     "output_type": "execute_result"
    }
   ],
   "source": [
    "model1 = KNeighborsClassifier(n_neighbors=nbors[np.argmax(acc)])\n",
    "start = time.perf_counter()\n",
    "model1.fit(X_train1,y_train1)\n",
    "end = time.perf_counter()\n",
    "y_pred = model1.predict(X_val)\n",
    "_acc = accuracy_score(y_val,y_pred)\n",
    "print(f'n_estimators: {nbors[np.argmax(acc)]}, time_taken: {end-start}s, accuracy: {_acc}')\n",
    "model1.get_params"
   ]
  },
  {
   "cell_type": "code",
   "execution_count": 98,
   "metadata": {},
   "outputs": [
    {
     "data": {
      "text/html": [
       "<div>\n",
       "<style scoped>\n",
       "    .dataframe tbody tr th:only-of-type {\n",
       "        vertical-align: middle;\n",
       "    }\n",
       "\n",
       "    .dataframe tbody tr th {\n",
       "        vertical-align: top;\n",
       "    }\n",
       "\n",
       "    .dataframe thead th {\n",
       "        text-align: right;\n",
       "    }\n",
       "</style>\n",
       "<table border=\"1\" class=\"dataframe\">\n",
       "  <thead>\n",
       "    <tr style=\"text-align: right;\">\n",
       "      <th></th>\n",
       "      <th>model</th>\n",
       "      <th>metrics</th>\n",
       "      <th>training_time(s)</th>\n",
       "    </tr>\n",
       "  </thead>\n",
       "  <tbody>\n",
       "    <tr>\n",
       "      <th>0</th>\n",
       "      <td>Decision_tree_no_preprocessing</td>\n",
       "      <td>{'0': {'precision': 0.8049132947976878, 'recal...</td>\n",
       "      <td>0.980486</td>\n",
       "    </tr>\n",
       "    <tr>\n",
       "      <th>1</th>\n",
       "      <td>Decision_tree_oversampling</td>\n",
       "      <td>{'0': {'precision': 0.8125783535311325, 'recal...</td>\n",
       "      <td>3.405618</td>\n",
       "    </tr>\n",
       "    <tr>\n",
       "      <th>2</th>\n",
       "      <td>Decision_tree_undersampling</td>\n",
       "      <td>{'0': {'precision': 0.8152288546720101, 'recal...</td>\n",
       "      <td>0.765867</td>\n",
       "    </tr>\n",
       "    <tr>\n",
       "      <th>3</th>\n",
       "      <td>RandomForest_no_preprocessing</td>\n",
       "      <td>{'0': {'precision': 0.9437790271327304, 'recal...</td>\n",
       "      <td>76.878531</td>\n",
       "    </tr>\n",
       "    <tr>\n",
       "      <th>4</th>\n",
       "      <td>RandomForest_oversampling</td>\n",
       "      <td>{'0': {'precision': 0.9532803180914513, 'recal...</td>\n",
       "      <td>214.047047</td>\n",
       "    </tr>\n",
       "    <tr>\n",
       "      <th>5</th>\n",
       "      <td>RandomForest_undersampling</td>\n",
       "      <td>{'0': {'precision': 0.9725991649269311, 'recal...</td>\n",
       "      <td>43.778003</td>\n",
       "    </tr>\n",
       "    <tr>\n",
       "      <th>6</th>\n",
       "      <td>Naive_Bayes_no_preprocessing</td>\n",
       "      <td>{'0': {'precision': 0.852859778597786, 'recall...</td>\n",
       "      <td>0.183097</td>\n",
       "    </tr>\n",
       "    <tr>\n",
       "      <th>7</th>\n",
       "      <td>Naive_Bayes_oversampling</td>\n",
       "      <td>{'0': {'precision': 0.8435868331441544, 'recal...</td>\n",
       "      <td>0.139830</td>\n",
       "    </tr>\n",
       "    <tr>\n",
       "      <th>8</th>\n",
       "      <td>Naive_Bayes_undersampling</td>\n",
       "      <td>{'0': {'precision': 0.8527579044541888, 'recal...</td>\n",
       "      <td>0.049715</td>\n",
       "    </tr>\n",
       "    <tr>\n",
       "      <th>9</th>\n",
       "      <td>KNN_no_preprocessing</td>\n",
       "      <td>{'0': {'precision': 0.8735545500251383, 'recal...</td>\n",
       "      <td>0.013366</td>\n",
       "    </tr>\n",
       "    <tr>\n",
       "      <th>10</th>\n",
       "      <td>KNN_oversampling</td>\n",
       "      <td>{'0': {'precision': 0.878764074365017, 'recall...</td>\n",
       "      <td>0.016962</td>\n",
       "    </tr>\n",
       "  </tbody>\n",
       "</table>\n",
       "</div>"
      ],
      "text/plain": [
       "                             model  \\\n",
       "0   Decision_tree_no_preprocessing   \n",
       "1       Decision_tree_oversampling   \n",
       "2      Decision_tree_undersampling   \n",
       "3    RandomForest_no_preprocessing   \n",
       "4        RandomForest_oversampling   \n",
       "5       RandomForest_undersampling   \n",
       "6     Naive_Bayes_no_preprocessing   \n",
       "7         Naive_Bayes_oversampling   \n",
       "8        Naive_Bayes_undersampling   \n",
       "9             KNN_no_preprocessing   \n",
       "10                KNN_oversampling   \n",
       "\n",
       "                                              metrics  training_time(s)  \n",
       "0   {'0': {'precision': 0.8049132947976878, 'recal...          0.980486  \n",
       "1   {'0': {'precision': 0.8125783535311325, 'recal...          3.405618  \n",
       "2   {'0': {'precision': 0.8152288546720101, 'recal...          0.765867  \n",
       "3   {'0': {'precision': 0.9437790271327304, 'recal...         76.878531  \n",
       "4   {'0': {'precision': 0.9532803180914513, 'recal...        214.047047  \n",
       "5   {'0': {'precision': 0.9725991649269311, 'recal...         43.778003  \n",
       "6   {'0': {'precision': 0.852859778597786, 'recall...          0.183097  \n",
       "7   {'0': {'precision': 0.8435868331441544, 'recal...          0.139830  \n",
       "8   {'0': {'precision': 0.8527579044541888, 'recal...          0.049715  \n",
       "9   {'0': {'precision': 0.8735545500251383, 'recal...          0.013366  \n",
       "10  {'0': {'precision': 0.878764074365017, 'recall...          0.016962  "
      ]
     },
     "execution_count": 98,
     "metadata": {},
     "output_type": "execute_result"
    }
   ],
   "source": [
    "y_pred = model1.predict(X_val)\n",
    "x = classification_report(y_val, y_pred, digits=4, labels=sorted(list(set(y_enc))), output_dict=True)\n",
    "models.append({'model': 'KNN_oversampling', 'metrics': x, 'training_time(s)': (end-start)})\n",
    "pd.DataFrame(models)"
   ]
  },
  {
   "cell_type": "code",
   "execution_count": 99,
   "metadata": {},
   "outputs": [
    {
     "data": {
      "text/plain": [
       "Text(0.5, 1.0, 'Training time')"
      ]
     },
     "execution_count": 99,
     "metadata": {},
     "output_type": "execute_result"
    },
    {
     "data": {
      "image/png": "[encoded data removed]",
      "text/plain": [
       "<Figure size 1000x500 with 2 Axes>"
      ]
     },
     "metadata": {},
     "output_type": "display_data"
    }
   ],
   "source": [
    "fig = plt.figure(figsize=(10,5))\n",
    "\n",
    "ax1 = fig.add_subplot(121)\n",
    "ax1.plot(nbors,acc)\n",
    "ax1.set_title('Accuracy')\n",
    "\n",
    "ax2 = fig.add_subplot(122)\n",
    "ax2.plot(nbors,tim)\n",
    "ax2.set_title('Training time')"
   ]
  },
  {
   "cell_type": "markdown",
   "metadata": {},
   "source": [
    "Let's try undersampling"
   ]
  },
  {
   "cell_type": "code",
   "execution_count": 100,
   "metadata": {},
   "outputs": [],
   "source": [
    "X_train1, y_train1 = RandomUnderSampler().fit_resample(X_train,y_train)"
   ]
  },
  {
   "cell_type": "code",
   "execution_count": 101,
   "metadata": {},
   "outputs": [
    {
     "name": "stdout",
     "output_type": "stream",
     "text": [
      "n_neighbors: 3, time_taken: 0.011173599865287542s, accuracy: 0.6932817915222608\n",
      "n_neighbors: 5, time_taken: 0.0038469000719487667s, accuracy: 0.7015462543321781\n",
      "n_neighbors: 10, time_taken: 0.005143400048837066s, accuracy: 0.7089442815249267\n",
      "n_neighbors: 15, time_taken: 0.006229099817574024s, accuracy: 0.7101439616102373\n",
      "n_neighbors: 20, time_taken: 0.005917200120165944s, accuracy: 0.7066115702479339\n",
      "n_neighbors: 25, time_taken: 0.005157299805432558s, accuracy: 0.7064116235670488\n",
      "n_neighbors: 50, time_taken: 0.005172699922695756s, accuracy: 0.6948813649693415\n",
      "n_neighbors: 100, time_taken: 0.004986400017514825s, accuracy: 0.6789522793921621\n",
      "n_neighbors: 200, time_taken: 0.005647199926897883s, accuracy: 0.6628232471340976\n",
      "n_neighbors: 400, time_taken: 0.005309300031512976s, accuracy: 0.6383631031724873\n",
      "n_neighbors: 800, time_taken: 0.005674399901181459s, accuracy: 0.6088376432951214\n"
     ]
    }
   ],
   "source": [
    "nbors = [3,5,10,15,20,25,50,100,200,400,800]\n",
    "tim, acc = [], []\n",
    "model_knn = KNeighborsClassifier()\n",
    "\n",
    "for n in nbors:\n",
    "    model_knn = KNeighborsClassifier(n_neighbors=n)\n",
    "    start = time.perf_counter()\n",
    "    model_knn.fit(X_train1,y_train1)\n",
    "    end = time.perf_counter()\n",
    "    y_pred = model_knn.predict(X_val)\n",
    "    _acc = accuracy_score(y_val,y_pred)\n",
    "    tim.append(end-start)\n",
    "    print(f'n_neighbors: {n}, time_taken: {end-start}s, accuracy: {_acc}')\n",
    "    acc.append(_acc)"
   ]
  },
  {
   "cell_type": "markdown",
   "metadata": {},
   "source": [
    "Pick best model"
   ]
  },
  {
   "cell_type": "code",
   "execution_count": 102,
   "metadata": {},
   "outputs": [
    {
     "name": "stdout",
     "output_type": "stream",
     "text": [
      "n_estimators: 15, time_taken: 0.007978500099852681s, accuracy: 0.7101439616102373\n"
     ]
    },
    {
     "data": {
      "text/plain": [
       "<bound method BaseEstimator.get_params of KNeighborsClassifier(n_neighbors=15)>"
      ]
     },
     "execution_count": 102,
     "metadata": {},
     "output_type": "execute_result"
    }
   ],
   "source": [
    "model1 = KNeighborsClassifier(n_neighbors=nbors[np.argmax(acc)])\n",
    "start = time.perf_counter()\n",
    "model1.fit(X_train1,y_train1)\n",
    "end = time.perf_counter()\n",
    "y_pred = model1.predict(X_val)\n",
    "_acc = accuracy_score(y_val,y_pred)\n",
    "print(f'n_estimators: {nbors[np.argmax(acc)]}, time_taken: {end-start}s, accuracy: {_acc}')\n",
    "model1.get_params"
   ]
  },
  {
   "cell_type": "code",
   "execution_count": 103,
   "metadata": {},
   "outputs": [
    {
     "data": {
      "text/html": [
       "<div>\n",
       "<style scoped>\n",
       "    .dataframe tbody tr th:only-of-type {\n",
       "        vertical-align: middle;\n",
       "    }\n",
       "\n",
       "    .dataframe tbody tr th {\n",
       "        vertical-align: top;\n",
       "    }\n",
       "\n",
       "    .dataframe thead th {\n",
       "        text-align: right;\n",
       "    }\n",
       "</style>\n",
       "<table border=\"1\" class=\"dataframe\">\n",
       "  <thead>\n",
       "    <tr style=\"text-align: right;\">\n",
       "      <th></th>\n",
       "      <th>model</th>\n",
       "      <th>metrics</th>\n",
       "      <th>training_time(s)</th>\n",
       "    </tr>\n",
       "  </thead>\n",
       "  <tbody>\n",
       "    <tr>\n",
       "      <th>0</th>\n",
       "      <td>Decision_tree_no_preprocessing</td>\n",
       "      <td>{'0': {'precision': 0.8049132947976878, 'recal...</td>\n",
       "      <td>0.980486</td>\n",
       "    </tr>\n",
       "    <tr>\n",
       "      <th>1</th>\n",
       "      <td>Decision_tree_oversampling</td>\n",
       "      <td>{'0': {'precision': 0.8125783535311325, 'recal...</td>\n",
       "      <td>3.405618</td>\n",
       "    </tr>\n",
       "    <tr>\n",
       "      <th>2</th>\n",
       "      <td>Decision_tree_undersampling</td>\n",
       "      <td>{'0': {'precision': 0.8152288546720101, 'recal...</td>\n",
       "      <td>0.765867</td>\n",
       "    </tr>\n",
       "    <tr>\n",
       "      <th>3</th>\n",
       "      <td>RandomForest_no_preprocessing</td>\n",
       "      <td>{'0': {'precision': 0.9437790271327304, 'recal...</td>\n",
       "      <td>76.878531</td>\n",
       "    </tr>\n",
       "    <tr>\n",
       "      <th>4</th>\n",
       "      <td>RandomForest_oversampling</td>\n",
       "      <td>{'0': {'precision': 0.9532803180914513, 'recal...</td>\n",
       "      <td>214.047047</td>\n",
       "    </tr>\n",
       "    <tr>\n",
       "      <th>5</th>\n",
       "      <td>RandomForest_undersampling</td>\n",
       "      <td>{'0': {'precision': 0.9725991649269311, 'recal...</td>\n",
       "      <td>43.778003</td>\n",
       "    </tr>\n",
       "    <tr>\n",
       "      <th>6</th>\n",
       "      <td>Naive_Bayes_no_preprocessing</td>\n",
       "      <td>{'0': {'precision': 0.852859778597786, 'recall...</td>\n",
       "      <td>0.183097</td>\n",
       "    </tr>\n",
       "    <tr>\n",
       "      <th>7</th>\n",
       "      <td>Naive_Bayes_oversampling</td>\n",
       "      <td>{'0': {'precision': 0.8435868331441544, 'recal...</td>\n",
       "      <td>0.139830</td>\n",
       "    </tr>\n",
       "    <tr>\n",
       "      <th>8</th>\n",
       "      <td>Naive_Bayes_undersampling</td>\n",
       "      <td>{'0': {'precision': 0.8527579044541888, 'recal...</td>\n",
       "      <td>0.049715</td>\n",
       "    </tr>\n",
       "    <tr>\n",
       "      <th>9</th>\n",
       "      <td>KNN_no_preprocessing</td>\n",
       "      <td>{'0': {'precision': 0.8735545500251383, 'recal...</td>\n",
       "      <td>0.013366</td>\n",
       "    </tr>\n",
       "    <tr>\n",
       "      <th>10</th>\n",
       "      <td>KNN_oversampling</td>\n",
       "      <td>{'0': {'precision': 0.878764074365017, 'recall...</td>\n",
       "      <td>0.016962</td>\n",
       "    </tr>\n",
       "    <tr>\n",
       "      <th>11</th>\n",
       "      <td>KNN_undersampling</td>\n",
       "      <td>{'0': {'precision': 0.905051062655258, 'recall...</td>\n",
       "      <td>0.007979</td>\n",
       "    </tr>\n",
       "  </tbody>\n",
       "</table>\n",
       "</div>"
      ],
      "text/plain": [
       "                             model  \\\n",
       "0   Decision_tree_no_preprocessing   \n",
       "1       Decision_tree_oversampling   \n",
       "2      Decision_tree_undersampling   \n",
       "3    RandomForest_no_preprocessing   \n",
       "4        RandomForest_oversampling   \n",
       "5       RandomForest_undersampling   \n",
       "6     Naive_Bayes_no_preprocessing   \n",
       "7         Naive_Bayes_oversampling   \n",
       "8        Naive_Bayes_undersampling   \n",
       "9             KNN_no_preprocessing   \n",
       "10                KNN_oversampling   \n",
       "11               KNN_undersampling   \n",
       "\n",
       "                                              metrics  training_time(s)  \n",
       "0   {'0': {'precision': 0.8049132947976878, 'recal...          0.980486  \n",
       "1   {'0': {'precision': 0.8125783535311325, 'recal...          3.405618  \n",
       "2   {'0': {'precision': 0.8152288546720101, 'recal...          0.765867  \n",
       "3   {'0': {'precision': 0.9437790271327304, 'recal...         76.878531  \n",
       "4   {'0': {'precision': 0.9532803180914513, 'recal...        214.047047  \n",
       "5   {'0': {'precision': 0.9725991649269311, 'recal...         43.778003  \n",
       "6   {'0': {'precision': 0.852859778597786, 'recall...          0.183097  \n",
       "7   {'0': {'precision': 0.8435868331441544, 'recal...          0.139830  \n",
       "8   {'0': {'precision': 0.8527579044541888, 'recal...          0.049715  \n",
       "9   {'0': {'precision': 0.8735545500251383, 'recal...          0.013366  \n",
       "10  {'0': {'precision': 0.878764074365017, 'recall...          0.016962  \n",
       "11  {'0': {'precision': 0.905051062655258, 'recall...          0.007979  "
      ]
     },
     "execution_count": 103,
     "metadata": {},
     "output_type": "execute_result"
    }
   ],
   "source": [
    "y_pred = model1.predict(X_val)\n",
    "x = classification_report(y_val, y_pred, digits=4, labels=sorted(list(set(y_enc))), output_dict=True)\n",
    "models.append({'model': 'KNN_undersampling', 'metrics': x, 'training_time(s)': (end-start)})\n",
    "pd.DataFrame(models)"
   ]
  },
  {
   "cell_type": "code",
   "execution_count": 104,
   "metadata": {},
   "outputs": [
    {
     "data": {
      "text/plain": [
       "Text(0.5, 1.0, 'Training time')"
      ]
     },
     "execution_count": 104,
     "metadata": {},
     "output_type": "execute_result"
    },
    {
     "data": {
      "image/png": "[encoded data removed]",
      "text/plain": [
       "<Figure size 1000x500 with 2 Axes>"
      ]
     },
     "metadata": {},
     "output_type": "display_data"
    }
   ],
   "source": [
    "fig = plt.figure(figsize=(10,5))\n",
    "\n",
    "ax1 = fig.add_subplot(121)\n",
    "ax1.plot(nbors,acc)\n",
    "ax1.set_title('Accuracy')\n",
    "\n",
    "ax2 = fig.add_subplot(122)\n",
    "ax2.plot(nbors,tim)\n",
    "ax2.set_title('Training time')"
   ]
  },
  {
   "cell_type": "markdown",
   "metadata": {},
   "source": [
    "### LightGBM"
   ]
  },
  {
   "cell_type": "code",
   "execution_count": 105,
   "metadata": {},
   "outputs": [],
   "source": [
    "from lightgbm import LGBMClassifier"
   ]
  },
  {
   "cell_type": "code",
   "execution_count": 106,
   "metadata": {},
   "outputs": [
    {
     "name": "stdout",
     "output_type": "stream",
     "text": [
      "[LightGBM] [Info] Auto-choosing row-wise multi-threading, the overhead of testing was 0.008183 seconds.\n",
      "You can set `force_row_wise=true` to remove the overhead.\n",
      "And if memory is not enough, you can set `force_col_wise=true`.\n",
      "[LightGBM] [Info] Total Bins 1928\n",
      "[LightGBM] [Info] Number of data points in the train set: 60014, number of used features: 50\n",
      "[LightGBM] [Info] Start training from score -1.151719\n",
      "[LightGBM] [Info] Start training from score -1.627750\n",
      "[LightGBM] [Info] Start training from score -0.718391\n",
      "CPU times: total: 13 s\n",
      "Wall time: 2.92 s\n"
     ]
    },
    {
     "data": {
      "text/plain": [
       "2.8818260999396443"
      ]
     },
     "execution_count": 106,
     "metadata": {},
     "output_type": "execute_result"
    }
   ],
   "source": [
    "%%time\n",
    "model = LGBMClassifier()\n",
    "start = time.perf_counter()\n",
    "model.fit(X_train,y_train)\n",
    "end = time.perf_counter()\n",
    "end-start"
   ]
  },
  {
   "cell_type": "code",
   "execution_count": 107,
   "metadata": {},
   "outputs": [
    {
     "data": {
      "text/plain": [
       "array([[[10067,   238],\n",
       "        [  798,  3901]],\n",
       "\n",
       "       [[11037,  1006],\n",
       "        [ 1072,  1889]],\n",
       "\n",
       "       [[ 6478,  1182],\n",
       "        [  556,  6788]]], dtype=int64)"
      ]
     },
     "execution_count": 107,
     "metadata": {},
     "output_type": "execute_result"
    }
   ],
   "source": [
    "y_pred = model.predict(X_val)\n",
    "mat = multilabel_confusion_matrix(y_val,y_pred)\n",
    "mat"
   ]
  },
  {
   "cell_type": "code",
   "execution_count": 108,
   "metadata": {},
   "outputs": [
    {
     "data": {
      "text/plain": [
       "(0.7974762403075025, 0.8383097840575846)"
      ]
     },
     "execution_count": 108,
     "metadata": {},
     "output_type": "execute_result"
    }
   ],
   "source": [
    "balanced_accuracy_score(y_val,y_pred), accuracy_score(y_val,y_pred)"
   ]
  },
  {
   "cell_type": "code",
   "execution_count": 109,
   "metadata": {},
   "outputs": [
    {
     "name": "stdout",
     "output_type": "stream",
     "text": [
      "[LightGBM] [Info] Auto-choosing row-wise multi-threading, the overhead of testing was 0.007090 seconds.\n",
      "You can set `force_row_wise=true` to remove the overhead.\n",
      "And if memory is not enough, you can set `force_col_wise=true`.\n",
      "[LightGBM] [Info] Total Bins 1928\n",
      "[LightGBM] [Info] Number of data points in the train set: 60014, number of used features: 50\n",
      "[LightGBM] [Info] Start training from score -1.151719\n",
      "[LightGBM] [Info] Start training from score -1.627750\n",
      "[LightGBM] [Info] Start training from score -0.718391\n",
      "n_estims: 5, time_taken: 0.31149150012061s, accuracy: 0.8127832577979206\n",
      "[LightGBM] [Info] Auto-choosing row-wise multi-threading, the overhead of testing was 0.006858 seconds.\n",
      "You can set `force_row_wise=true` to remove the overhead.\n",
      "And if memory is not enough, you can set `force_col_wise=true`.\n",
      "[LightGBM] [Info] Total Bins 1928\n",
      "[LightGBM] [Info] Number of data points in the train set: 60014, number of used features: 50\n",
      "[LightGBM] [Info] Start training from score -1.151719\n",
      "[LightGBM] [Info] Start training from score -1.627750\n",
      "[LightGBM] [Info] Start training from score -0.718391\n",
      "n_estims: 10, time_taken: 0.44394339993596077s, accuracy: 0.8288456411623567\n",
      "[LightGBM] [Info] Auto-choosing row-wise multi-threading, the overhead of testing was 0.007190 seconds.\n",
      "You can set `force_row_wise=true` to remove the overhead.\n",
      "And if memory is not enough, you can set `force_col_wise=true`.\n",
      "[LightGBM] [Info] Total Bins 1928\n",
      "[LightGBM] [Info] Number of data points in the train set: 60014, number of used features: 50\n",
      "[LightGBM] [Info] Start training from score -1.151719\n",
      "[LightGBM] [Info] Start training from score -1.627750\n",
      "[LightGBM] [Info] Start training from score -0.718391\n",
      "n_estims: 20, time_taken: 0.7447643999475986s, accuracy: 0.8333777659290855\n",
      "[LightGBM] [Info] Auto-choosing row-wise multi-threading, the overhead of testing was 0.006370 seconds.\n",
      "You can set `force_row_wise=true` to remove the overhead.\n",
      "And if memory is not enough, you can set `force_col_wise=true`.\n",
      "[LightGBM] [Info] Total Bins 1928\n",
      "[LightGBM] [Info] Number of data points in the train set: 60014, number of used features: 50\n",
      "[LightGBM] [Info] Start training from score -1.151719\n",
      "[LightGBM] [Info] Start training from score -1.627750\n",
      "[LightGBM] [Info] Start training from score -0.718391\n",
      "n_estims: 50, time_taken: 1.641918000066653s, accuracy: 0.8379098906958145\n",
      "[LightGBM] [Info] Auto-choosing row-wise multi-threading, the overhead of testing was 0.006156 seconds.\n",
      "You can set `force_row_wise=true` to remove the overhead.\n",
      "And if memory is not enough, you can set `force_col_wise=true`.\n",
      "[LightGBM] [Info] Total Bins 1928\n",
      "[LightGBM] [Info] Number of data points in the train set: 60014, number of used features: 50\n",
      "[LightGBM] [Info] Start training from score -1.151719\n",
      "[LightGBM] [Info] Start training from score -1.627750\n",
      "[LightGBM] [Info] Start training from score -0.718391\n",
      "n_estims: 100, time_taken: 2.811836800072342s, accuracy: 0.8383097840575846\n",
      "[LightGBM] [Info] Auto-choosing row-wise multi-threading, the overhead of testing was 0.004640 seconds.\n",
      "You can set `force_row_wise=true` to remove the overhead.\n",
      "And if memory is not enough, you can set `force_col_wise=true`.\n",
      "[LightGBM] [Info] Total Bins 1928\n",
      "[LightGBM] [Info] Number of data points in the train set: 60014, number of used features: 50\n",
      "[LightGBM] [Info] Start training from score -1.151719\n",
      "[LightGBM] [Info] Start training from score -1.627750\n",
      "[LightGBM] [Info] Start training from score -0.718391\n",
      "n_estims: 200, time_taken: 4.233279200037941s, accuracy: 0.8392428685683818\n",
      "[LightGBM] [Info] Auto-choosing col-wise multi-threading, the overhead of testing was 0.023707 seconds.\n",
      "You can set `force_col_wise=true` to remove the overhead.\n",
      "[LightGBM] [Info] Total Bins 1928\n",
      "[LightGBM] [Info] Number of data points in the train set: 60014, number of used features: 50\n",
      "[LightGBM] [Info] Start training from score -1.151719\n",
      "[LightGBM] [Info] Start training from score -1.627750\n",
      "[LightGBM] [Info] Start training from score -0.718391\n",
      "n_estims: 300, time_taken: 9.365742200054228s, accuracy: 0.8405091975473207\n"
     ]
    }
   ],
   "source": [
    "tim, acc = [], []\n",
    "model_lg = LGBMClassifier()\n",
    "\n",
    "for n in estims:\n",
    "    model_lg = LGBMClassifier(n_estimators=n)\n",
    "    start = time.perf_counter()\n",
    "    model_lg.fit(X_train,y_train)\n",
    "    end = time.perf_counter()\n",
    "    y_pred = model_lg.predict(X_val)\n",
    "    _acc = accuracy_score(y_val,y_pred)\n",
    "    tim.append(end-start)\n",
    "    print(f'n_estims: {n}, time_taken: {end-start}s, accuracy: {_acc}')\n",
    "    acc.append(_acc)"
   ]
  },
  {
   "cell_type": "code",
   "execution_count": 110,
   "metadata": {},
   "outputs": [
    {
     "name": "stdout",
     "output_type": "stream",
     "text": [
      "[LightGBM] [Info] Auto-choosing row-wise multi-threading, the overhead of testing was 0.006872 seconds.\n",
      "You can set `force_row_wise=true` to remove the overhead.\n",
      "And if memory is not enough, you can set `force_col_wise=true`.\n",
      "[LightGBM] [Info] Total Bins 1928\n",
      "[LightGBM] [Info] Number of data points in the train set: 60014, number of used features: 50\n",
      "[LightGBM] [Info] Start training from score -1.151719\n",
      "[LightGBM] [Info] Start training from score -1.627750\n",
      "[LightGBM] [Info] Start training from score -0.718391\n"
     ]
    }
   ],
   "source": [
    "n = estims[np.argmax(acc)]\n",
    "model_lgbm = LGBMClassifier(n_estimators=n)\n",
    "model_lgbm.fit(X_train,y_train)\n",
    "y_pred = model_lgbm.predict(X_val)"
   ]
  },
  {
   "cell_type": "code",
   "execution_count": 111,
   "metadata": {},
   "outputs": [
    {
     "data": {
      "text/html": [
       "<div>\n",
       "<style scoped>\n",
       "    .dataframe tbody tr th:only-of-type {\n",
       "        vertical-align: middle;\n",
       "    }\n",
       "\n",
       "    .dataframe tbody tr th {\n",
       "        vertical-align: top;\n",
       "    }\n",
       "\n",
       "    .dataframe thead th {\n",
       "        text-align: right;\n",
       "    }\n",
       "</style>\n",
       "<table border=\"1\" class=\"dataframe\">\n",
       "  <thead>\n",
       "    <tr style=\"text-align: right;\">\n",
       "      <th></th>\n",
       "      <th>model</th>\n",
       "      <th>metrics</th>\n",
       "      <th>training_time(s)</th>\n",
       "    </tr>\n",
       "  </thead>\n",
       "  <tbody>\n",
       "    <tr>\n",
       "      <th>0</th>\n",
       "      <td>Decision_tree_no_preprocessing</td>\n",
       "      <td>{'0': {'precision': 0.8049132947976878, 'recal...</td>\n",
       "      <td>0.980486</td>\n",
       "    </tr>\n",
       "    <tr>\n",
       "      <th>1</th>\n",
       "      <td>Decision_tree_oversampling</td>\n",
       "      <td>{'0': {'precision': 0.8125783535311325, 'recal...</td>\n",
       "      <td>3.405618</td>\n",
       "    </tr>\n",
       "    <tr>\n",
       "      <th>2</th>\n",
       "      <td>Decision_tree_undersampling</td>\n",
       "      <td>{'0': {'precision': 0.8152288546720101, 'recal...</td>\n",
       "      <td>0.765867</td>\n",
       "    </tr>\n",
       "    <tr>\n",
       "      <th>3</th>\n",
       "      <td>RandomForest_no_preprocessing</td>\n",
       "      <td>{'0': {'precision': 0.9437790271327304, 'recal...</td>\n",
       "      <td>76.878531</td>\n",
       "    </tr>\n",
       "    <tr>\n",
       "      <th>4</th>\n",
       "      <td>RandomForest_oversampling</td>\n",
       "      <td>{'0': {'precision': 0.9532803180914513, 'recal...</td>\n",
       "      <td>214.047047</td>\n",
       "    </tr>\n",
       "    <tr>\n",
       "      <th>5</th>\n",
       "      <td>RandomForest_undersampling</td>\n",
       "      <td>{'0': {'precision': 0.9725991649269311, 'recal...</td>\n",
       "      <td>43.778003</td>\n",
       "    </tr>\n",
       "    <tr>\n",
       "      <th>6</th>\n",
       "      <td>Naive_Bayes_no_preprocessing</td>\n",
       "      <td>{'0': {'precision': 0.852859778597786, 'recall...</td>\n",
       "      <td>0.183097</td>\n",
       "    </tr>\n",
       "    <tr>\n",
       "      <th>7</th>\n",
       "      <td>Naive_Bayes_oversampling</td>\n",
       "      <td>{'0': {'precision': 0.8435868331441544, 'recal...</td>\n",
       "      <td>0.139830</td>\n",
       "    </tr>\n",
       "    <tr>\n",
       "      <th>8</th>\n",
       "      <td>Naive_Bayes_undersampling</td>\n",
       "      <td>{'0': {'precision': 0.8527579044541888, 'recal...</td>\n",
       "      <td>0.049715</td>\n",
       "    </tr>\n",
       "    <tr>\n",
       "      <th>9</th>\n",
       "      <td>KNN_no_preprocessing</td>\n",
       "      <td>{'0': {'precision': 0.8735545500251383, 'recal...</td>\n",
       "      <td>0.013366</td>\n",
       "    </tr>\n",
       "    <tr>\n",
       "      <th>10</th>\n",
       "      <td>KNN_oversampling</td>\n",
       "      <td>{'0': {'precision': 0.878764074365017, 'recall...</td>\n",
       "      <td>0.016962</td>\n",
       "    </tr>\n",
       "    <tr>\n",
       "      <th>11</th>\n",
       "      <td>KNN_undersampling</td>\n",
       "      <td>{'0': {'precision': 0.905051062655258, 'recall...</td>\n",
       "      <td>0.007979</td>\n",
       "    </tr>\n",
       "    <tr>\n",
       "      <th>12</th>\n",
       "      <td>LightGBM_no_preprocessing</td>\n",
       "      <td>{'0': {'precision': 0.9382009067048437, 'recal...</td>\n",
       "      <td>9.365742</td>\n",
       "    </tr>\n",
       "  </tbody>\n",
       "</table>\n",
       "</div>"
      ],
      "text/plain": [
       "                             model  \\\n",
       "0   Decision_tree_no_preprocessing   \n",
       "1       Decision_tree_oversampling   \n",
       "2      Decision_tree_undersampling   \n",
       "3    RandomForest_no_preprocessing   \n",
       "4        RandomForest_oversampling   \n",
       "5       RandomForest_undersampling   \n",
       "6     Naive_Bayes_no_preprocessing   \n",
       "7         Naive_Bayes_oversampling   \n",
       "8        Naive_Bayes_undersampling   \n",
       "9             KNN_no_preprocessing   \n",
       "10                KNN_oversampling   \n",
       "11               KNN_undersampling   \n",
       "12       LightGBM_no_preprocessing   \n",
       "\n",
       "                                              metrics  training_time(s)  \n",
       "0   {'0': {'precision': 0.8049132947976878, 'recal...          0.980486  \n",
       "1   {'0': {'precision': 0.8125783535311325, 'recal...          3.405618  \n",
       "2   {'0': {'precision': 0.8152288546720101, 'recal...          0.765867  \n",
       "3   {'0': {'precision': 0.9437790271327304, 'recal...         76.878531  \n",
       "4   {'0': {'precision': 0.9532803180914513, 'recal...        214.047047  \n",
       "5   {'0': {'precision': 0.9725991649269311, 'recal...         43.778003  \n",
       "6   {'0': {'precision': 0.852859778597786, 'recall...          0.183097  \n",
       "7   {'0': {'precision': 0.8435868331441544, 'recal...          0.139830  \n",
       "8   {'0': {'precision': 0.8527579044541888, 'recal...          0.049715  \n",
       "9   {'0': {'precision': 0.8735545500251383, 'recal...          0.013366  \n",
       "10  {'0': {'precision': 0.878764074365017, 'recall...          0.016962  \n",
       "11  {'0': {'precision': 0.905051062655258, 'recall...          0.007979  \n",
       "12  {'0': {'precision': 0.9382009067048437, 'recal...          9.365742  "
      ]
     },
     "execution_count": 111,
     "metadata": {},
     "output_type": "execute_result"
    }
   ],
   "source": [
    "x = classification_report(y_val, y_pred, digits=4, labels=sorted(list(set(y_enc))), output_dict=True)\n",
    "models.append({'model': 'LightGBM_no_preprocessing', 'metrics': x, 'training_time(s)': (end-start)})\n",
    "pd.DataFrame(models)"
   ]
  },
  {
   "cell_type": "markdown",
   "metadata": {},
   "source": [
    "Try SMOTE"
   ]
  },
  {
   "cell_type": "code",
   "execution_count": 112,
   "metadata": {},
   "outputs": [],
   "source": [
    "X_train1,y_train1 = SMOTE().fit_resample(X_train,y_train)"
   ]
  },
  {
   "cell_type": "code",
   "execution_count": 113,
   "metadata": {},
   "outputs": [
    {
     "name": "stdout",
     "output_type": "stream",
     "text": [
      "[LightGBM] [Info] Auto-choosing row-wise multi-threading, the overhead of testing was 0.012817 seconds.\n",
      "You can set `force_row_wise=true` to remove the overhead.\n",
      "And if memory is not enough, you can set `force_col_wise=true`.\n",
      "[LightGBM] [Info] Total Bins 11692\n",
      "[LightGBM] [Info] Number of data points in the train set: 87777, number of used features: 50\n",
      "[LightGBM] [Info] Start training from score -1.098612\n",
      "[LightGBM] [Info] Start training from score -1.098612\n",
      "[LightGBM] [Info] Start training from score -1.098612\n",
      "CPU times: total: 23 s\n",
      "Wall time: 4.45 s\n"
     ]
    },
    {
     "data": {
      "text/plain": [
       "4.452771199867129"
      ]
     },
     "execution_count": 113,
     "metadata": {},
     "output_type": "execute_result"
    }
   ],
   "source": [
    "%%time\n",
    "model = LGBMClassifier()\n",
    "start = time.perf_counter()\n",
    "model.fit(X_train1,y_train1)\n",
    "end = time.perf_counter()\n",
    "end-start"
   ]
  },
  {
   "cell_type": "code",
   "execution_count": 114,
   "metadata": {},
   "outputs": [
    {
     "data": {
      "text/plain": [
       "array([[[10073,   232],\n",
       "        [  787,  3912]],\n",
       "\n",
       "       [[10996,  1047],\n",
       "        [ 1010,  1951]],\n",
       "\n",
       "       [[ 6541,  1119],\n",
       "        [  601,  6743]]], dtype=int64)"
      ]
     },
     "execution_count": 114,
     "metadata": {},
     "output_type": "execute_result"
    }
   ],
   "source": [
    "y_pred = model.predict(X_val)\n",
    "mat = multilabel_confusion_matrix(y_val,y_pred)\n",
    "mat"
   ]
  },
  {
   "cell_type": "code",
   "execution_count": 115,
   "metadata": {},
   "outputs": [
    {
     "data": {
      "text/plain": [
       "(0.8031936885151945, 0.8401759530791789)"
      ]
     },
     "execution_count": 115,
     "metadata": {},
     "output_type": "execute_result"
    }
   ],
   "source": [
    "balanced_accuracy_score(y_val,y_pred), accuracy_score(y_val,y_pred)"
   ]
  },
  {
   "cell_type": "code",
   "execution_count": 116,
   "metadata": {},
   "outputs": [
    {
     "name": "stdout",
     "output_type": "stream",
     "text": [
      "[LightGBM] [Info] Auto-choosing col-wise multi-threading, the overhead of testing was 0.029839 seconds.\n",
      "You can set `force_col_wise=true` to remove the overhead.\n",
      "[LightGBM] [Info] Total Bins 11692\n",
      "[LightGBM] [Info] Number of data points in the train set: 87777, number of used features: 50\n",
      "[LightGBM] [Info] Start training from score -1.098612\n",
      "[LightGBM] [Info] Start training from score -1.098612\n",
      "[LightGBM] [Info] Start training from score -1.098612\n",
      "n_estims: 5, time_taken: 0.5719406998250633s, accuracy: 0.8196480938416423\n",
      "[LightGBM] [Info] Auto-choosing col-wise multi-threading, the overhead of testing was 0.030342 seconds.\n",
      "You can set `force_col_wise=true` to remove the overhead.\n",
      "[LightGBM] [Info] Total Bins 11692\n",
      "[LightGBM] [Info] Number of data points in the train set: 87777, number of used features: 50\n",
      "[LightGBM] [Info] Start training from score -1.098612\n",
      "[LightGBM] [Info] Start training from score -1.098612\n",
      "[LightGBM] [Info] Start training from score -1.098612\n",
      "n_estims: 10, time_taken: 0.8669513000641018s, accuracy: 0.8227805918421754\n",
      "[LightGBM] [Info] Auto-choosing col-wise multi-threading, the overhead of testing was 0.026051 seconds.\n",
      "You can set `force_col_wise=true` to remove the overhead.\n",
      "[LightGBM] [Info] Total Bins 11692\n",
      "[LightGBM] [Info] Number of data points in the train set: 87777, number of used features: 50\n",
      "[LightGBM] [Info] Start training from score -1.098612\n",
      "[LightGBM] [Info] Start training from score -1.098612\n",
      "[LightGBM] [Info] Start training from score -1.098612\n",
      "n_estims: 20, time_taken: 1.1984381000511348s, accuracy: 0.8280458544388163\n",
      "[LightGBM] [Info] Auto-choosing col-wise multi-threading, the overhead of testing was 0.030373 seconds.\n",
      "You can set `force_col_wise=true` to remove the overhead.\n",
      "[LightGBM] [Info] Total Bins 11692\n",
      "[LightGBM] [Info] Number of data points in the train set: 87777, number of used features: 50\n",
      "[LightGBM] [Info] Start training from score -1.098612\n",
      "[LightGBM] [Info] Start training from score -1.098612\n",
      "[LightGBM] [Info] Start training from score -1.098612\n",
      "n_estims: 50, time_taken: 2.466838499996811s, accuracy: 0.8379098906958145\n",
      "[LightGBM] [Info] Auto-choosing col-wise multi-threading, the overhead of testing was 0.030821 seconds.\n",
      "You can set `force_col_wise=true` to remove the overhead.\n",
      "[LightGBM] [Info] Total Bins 11692\n",
      "[LightGBM] [Info] Number of data points in the train set: 87777, number of used features: 50\n",
      "[LightGBM] [Info] Start training from score -1.098612\n",
      "[LightGBM] [Info] Start training from score -1.098612\n",
      "[LightGBM] [Info] Start training from score -1.098612\n",
      "n_estims: 100, time_taken: 4.4237548999954015s, accuracy: 0.8401759530791789\n",
      "[LightGBM] [Info] Auto-choosing row-wise multi-threading, the overhead of testing was 0.012845 seconds.\n",
      "You can set `force_row_wise=true` to remove the overhead.\n",
      "And if memory is not enough, you can set `force_col_wise=true`.\n",
      "[LightGBM] [Info] Total Bins 11692\n",
      "[LightGBM] [Info] Number of data points in the train set: 87777, number of used features: 50\n",
      "[LightGBM] [Info] Start training from score -1.098612\n",
      "[LightGBM] [Info] Start training from score -1.098612\n",
      "[LightGBM] [Info] Start training from score -1.098612\n",
      "n_estims: 200, time_taken: 7.431136199971661s, accuracy: 0.8409757398027192\n",
      "[LightGBM] [Info] Auto-choosing row-wise multi-threading, the overhead of testing was 0.013176 seconds.\n",
      "You can set `force_row_wise=true` to remove the overhead.\n",
      "And if memory is not enough, you can set `force_col_wise=true`.\n",
      "[LightGBM] [Info] Total Bins 11692\n",
      "[LightGBM] [Info] Number of data points in the train set: 87777, number of used features: 50\n",
      "[LightGBM] [Info] Start training from score -1.098612\n",
      "[LightGBM] [Info] Start training from score -1.098612\n",
      "[LightGBM] [Info] Start training from score -1.098612\n",
      "n_estims: 300, time_taken: 10.807361799990758s, accuracy: 0.839642761930152\n"
     ]
    }
   ],
   "source": [
    "tim, acc = [], []\n",
    "model_lg = LGBMClassifier()\n",
    "\n",
    "for n in estims:\n",
    "    model_lg = LGBMClassifier(n_estimators=n)\n",
    "    start = time.perf_counter()\n",
    "    model_lg.fit(X_train1,y_train1)\n",
    "    end = time.perf_counter()\n",
    "    y_pred = model_lg.predict(X_val)\n",
    "    _acc = accuracy_score(y_val,y_pred)\n",
    "    tim.append(end-start)\n",
    "    print(f'n_estims: {n}, time_taken: {end-start}s, accuracy: {_acc}')\n",
    "    acc.append(_acc)"
   ]
  },
  {
   "cell_type": "code",
   "execution_count": 117,
   "metadata": {},
   "outputs": [
    {
     "name": "stdout",
     "output_type": "stream",
     "text": [
      "[LightGBM] [Info] Auto-choosing col-wise multi-threading, the overhead of testing was 0.025460 seconds.\n",
      "You can set `force_col_wise=true` to remove the overhead.\n",
      "[LightGBM] [Info] Total Bins 11692\n",
      "[LightGBM] [Info] Number of data points in the train set: 87777, number of used features: 50\n",
      "[LightGBM] [Info] Start training from score -1.098612\n",
      "[LightGBM] [Info] Start training from score -1.098612\n",
      "[LightGBM] [Info] Start training from score -1.098612\n"
     ]
    }
   ],
   "source": [
    "n = estims[np.argmax(acc)]\n",
    "model_lgbm = LGBMClassifier(n_estimators=n)\n",
    "model_lgbm.fit(X_train1,y_train1)\n",
    "y_pred = model_lgbm.predict(X_val)"
   ]
  },
  {
   "cell_type": "code",
   "execution_count": 118,
   "metadata": {},
   "outputs": [
    {
     "data": {
      "text/html": [
       "<div>\n",
       "<style scoped>\n",
       "    .dataframe tbody tr th:only-of-type {\n",
       "        vertical-align: middle;\n",
       "    }\n",
       "\n",
       "    .dataframe tbody tr th {\n",
       "        vertical-align: top;\n",
       "    }\n",
       "\n",
       "    .dataframe thead th {\n",
       "        text-align: right;\n",
       "    }\n",
       "</style>\n",
       "<table border=\"1\" class=\"dataframe\">\n",
       "  <thead>\n",
       "    <tr style=\"text-align: right;\">\n",
       "      <th></th>\n",
       "      <th>model</th>\n",
       "      <th>metrics</th>\n",
       "      <th>training_time(s)</th>\n",
       "    </tr>\n",
       "  </thead>\n",
       "  <tbody>\n",
       "    <tr>\n",
       "      <th>0</th>\n",
       "      <td>Decision_tree_no_preprocessing</td>\n",
       "      <td>{'0': {'precision': 0.8049132947976878, 'recal...</td>\n",
       "      <td>0.980486</td>\n",
       "    </tr>\n",
       "    <tr>\n",
       "      <th>1</th>\n",
       "      <td>Decision_tree_oversampling</td>\n",
       "      <td>{'0': {'precision': 0.8125783535311325, 'recal...</td>\n",
       "      <td>3.405618</td>\n",
       "    </tr>\n",
       "    <tr>\n",
       "      <th>2</th>\n",
       "      <td>Decision_tree_undersampling</td>\n",
       "      <td>{'0': {'precision': 0.8152288546720101, 'recal...</td>\n",
       "      <td>0.765867</td>\n",
       "    </tr>\n",
       "    <tr>\n",
       "      <th>3</th>\n",
       "      <td>RandomForest_no_preprocessing</td>\n",
       "      <td>{'0': {'precision': 0.9437790271327304, 'recal...</td>\n",
       "      <td>76.878531</td>\n",
       "    </tr>\n",
       "    <tr>\n",
       "      <th>4</th>\n",
       "      <td>RandomForest_oversampling</td>\n",
       "      <td>{'0': {'precision': 0.9532803180914513, 'recal...</td>\n",
       "      <td>214.047047</td>\n",
       "    </tr>\n",
       "    <tr>\n",
       "      <th>5</th>\n",
       "      <td>RandomForest_undersampling</td>\n",
       "      <td>{'0': {'precision': 0.9725991649269311, 'recal...</td>\n",
       "      <td>43.778003</td>\n",
       "    </tr>\n",
       "    <tr>\n",
       "      <th>6</th>\n",
       "      <td>Naive_Bayes_no_preprocessing</td>\n",
       "      <td>{'0': {'precision': 0.852859778597786, 'recall...</td>\n",
       "      <td>0.183097</td>\n",
       "    </tr>\n",
       "    <tr>\n",
       "      <th>7</th>\n",
       "      <td>Naive_Bayes_oversampling</td>\n",
       "      <td>{'0': {'precision': 0.8435868331441544, 'recal...</td>\n",
       "      <td>0.139830</td>\n",
       "    </tr>\n",
       "    <tr>\n",
       "      <th>8</th>\n",
       "      <td>Naive_Bayes_undersampling</td>\n",
       "      <td>{'0': {'precision': 0.8527579044541888, 'recal...</td>\n",
       "      <td>0.049715</td>\n",
       "    </tr>\n",
       "    <tr>\n",
       "      <th>9</th>\n",
       "      <td>KNN_no_preprocessing</td>\n",
       "      <td>{'0': {'precision': 0.8735545500251383, 'recal...</td>\n",
       "      <td>0.013366</td>\n",
       "    </tr>\n",
       "    <tr>\n",
       "      <th>10</th>\n",
       "      <td>KNN_oversampling</td>\n",
       "      <td>{'0': {'precision': 0.878764074365017, 'recall...</td>\n",
       "      <td>0.016962</td>\n",
       "    </tr>\n",
       "    <tr>\n",
       "      <th>11</th>\n",
       "      <td>KNN_undersampling</td>\n",
       "      <td>{'0': {'precision': 0.905051062655258, 'recall...</td>\n",
       "      <td>0.007979</td>\n",
       "    </tr>\n",
       "    <tr>\n",
       "      <th>12</th>\n",
       "      <td>LightGBM_no_preprocessing</td>\n",
       "      <td>{'0': {'precision': 0.9382009067048437, 'recal...</td>\n",
       "      <td>9.365742</td>\n",
       "    </tr>\n",
       "    <tr>\n",
       "      <th>13</th>\n",
       "      <td>LightGBM_oversampling</td>\n",
       "      <td>{'0': {'precision': 0.9401340996168582, 'recal...</td>\n",
       "      <td>10.807362</td>\n",
       "    </tr>\n",
       "  </tbody>\n",
       "</table>\n",
       "</div>"
      ],
      "text/plain": [
       "                             model  \\\n",
       "0   Decision_tree_no_preprocessing   \n",
       "1       Decision_tree_oversampling   \n",
       "2      Decision_tree_undersampling   \n",
       "3    RandomForest_no_preprocessing   \n",
       "4        RandomForest_oversampling   \n",
       "5       RandomForest_undersampling   \n",
       "6     Naive_Bayes_no_preprocessing   \n",
       "7         Naive_Bayes_oversampling   \n",
       "8        Naive_Bayes_undersampling   \n",
       "9             KNN_no_preprocessing   \n",
       "10                KNN_oversampling   \n",
       "11               KNN_undersampling   \n",
       "12       LightGBM_no_preprocessing   \n",
       "13           LightGBM_oversampling   \n",
       "\n",
       "                                              metrics  training_time(s)  \n",
       "0   {'0': {'precision': 0.8049132947976878, 'recal...          0.980486  \n",
       "1   {'0': {'precision': 0.8125783535311325, 'recal...          3.405618  \n",
       "2   {'0': {'precision': 0.8152288546720101, 'recal...          0.765867  \n",
       "3   {'0': {'precision': 0.9437790271327304, 'recal...         76.878531  \n",
       "4   {'0': {'precision': 0.9532803180914513, 'recal...        214.047047  \n",
       "5   {'0': {'precision': 0.9725991649269311, 'recal...         43.778003  \n",
       "6   {'0': {'precision': 0.852859778597786, 'recall...          0.183097  \n",
       "7   {'0': {'precision': 0.8435868331441544, 'recal...          0.139830  \n",
       "8   {'0': {'precision': 0.8527579044541888, 'recal...          0.049715  \n",
       "9   {'0': {'precision': 0.8735545500251383, 'recal...          0.013366  \n",
       "10  {'0': {'precision': 0.878764074365017, 'recall...          0.016962  \n",
       "11  {'0': {'precision': 0.905051062655258, 'recall...          0.007979  \n",
       "12  {'0': {'precision': 0.9382009067048437, 'recal...          9.365742  \n",
       "13  {'0': {'precision': 0.9401340996168582, 'recal...         10.807362  "
      ]
     },
     "execution_count": 118,
     "metadata": {},
     "output_type": "execute_result"
    }
   ],
   "source": [
    "x = classification_report(y_val, y_pred, digits=4, labels=sorted(list(set(y_enc))), output_dict=True)\n",
    "models.append({'model': 'LightGBM_oversampling', 'metrics': x, 'training_time(s)': (end-start)})\n",
    "pd.DataFrame(models)"
   ]
  },
  {
   "cell_type": "markdown",
   "metadata": {},
   "source": [
    "Try Undersampling"
   ]
  },
  {
   "cell_type": "code",
   "execution_count": 119,
   "metadata": {},
   "outputs": [],
   "source": [
    "X_train1,y_train1 = RandomUnderSampler().fit_resample(X_train,y_train)"
   ]
  },
  {
   "cell_type": "code",
   "execution_count": 120,
   "metadata": {},
   "outputs": [
    {
     "name": "stdout",
     "output_type": "stream",
     "text": [
      "[LightGBM] [Info] Auto-choosing row-wise multi-threading, the overhead of testing was 0.007424 seconds.\n",
      "You can set `force_row_wise=true` to remove the overhead.\n",
      "And if memory is not enough, you can set `force_col_wise=true`.\n",
      "[LightGBM] [Info] Total Bins 1892\n",
      "[LightGBM] [Info] Number of data points in the train set: 35355, number of used features: 50\n",
      "[LightGBM] [Info] Start training from score -1.098612\n",
      "[LightGBM] [Info] Start training from score -1.098612\n",
      "[LightGBM] [Info] Start training from score -1.098612\n",
      "CPU times: total: 10.6 s\n",
      "Wall time: 2.46 s\n"
     ]
    },
    {
     "data": {
      "text/plain": [
       "2.457265199860558"
      ]
     },
     "execution_count": 120,
     "metadata": {},
     "output_type": "execute_result"
    }
   ],
   "source": [
    "%%time\n",
    "model = LGBMClassifier()\n",
    "start = time.perf_counter()\n",
    "model.fit(X_train1,y_train1)\n",
    "end = time.perf_counter()\n",
    "end-start"
   ]
  },
  {
   "cell_type": "code",
   "execution_count": 121,
   "metadata": {},
   "outputs": [
    {
     "data": {
      "text/plain": [
       "array([[[10156,   149],\n",
       "        [  904,  3795]],\n",
       "\n",
       "       [[10277,  1766],\n",
       "        [  616,  2345]],\n",
       "\n",
       "       [[ 6923,   737],\n",
       "        [ 1132,  6212]]], dtype=int64)"
      ]
     },
     "execution_count": 121,
     "metadata": {},
     "output_type": "execute_result"
    }
   ],
   "source": [
    "y_pred = model.predict(X_val)\n",
    "mat = multilabel_confusion_matrix(y_val,y_pred)\n",
    "mat"
   ]
  },
  {
   "cell_type": "code",
   "execution_count": 122,
   "metadata": {},
   "outputs": [
    {
     "data": {
      "text/plain": [
       "(0.8151471278846705, 0.823247134097574)"
      ]
     },
     "execution_count": 122,
     "metadata": {},
     "output_type": "execute_result"
    }
   ],
   "source": [
    "balanced_accuracy_score(y_val,y_pred), accuracy_score(y_val,y_pred)"
   ]
  },
  {
   "cell_type": "code",
   "execution_count": 123,
   "metadata": {},
   "outputs": [
    {
     "name": "stdout",
     "output_type": "stream",
     "text": [
      "[LightGBM] [Info] Auto-choosing row-wise multi-threading, the overhead of testing was 0.003605 seconds.\n",
      "You can set `force_row_wise=true` to remove the overhead.\n",
      "And if memory is not enough, you can set `force_col_wise=true`.\n",
      "[LightGBM] [Info] Total Bins 1892\n",
      "[LightGBM] [Info] Number of data points in the train set: 35355, number of used features: 50\n",
      "[LightGBM] [Info] Start training from score -1.098612\n",
      "[LightGBM] [Info] Start training from score -1.098612\n",
      "[LightGBM] [Info] Start training from score -1.098612\n",
      "n_estims: 5, time_taken: 0.34236719994805753s, accuracy: 0.8103838976272993\n",
      "[LightGBM] [Info] Auto-choosing row-wise multi-threading, the overhead of testing was 0.005614 seconds.\n",
      "You can set `force_row_wise=true` to remove the overhead.\n",
      "And if memory is not enough, you can set `force_col_wise=true`.\n",
      "[LightGBM] [Info] Total Bins 1892\n",
      "[LightGBM] [Info] Number of data points in the train set: 35355, number of used features: 50\n",
      "[LightGBM] [Info] Start training from score -1.098612\n",
      "[LightGBM] [Info] Start training from score -1.098612\n",
      "[LightGBM] [Info] Start training from score -1.098612\n",
      "n_estims: 10, time_taken: 0.3888576999306679s, accuracy: 0.8125166622234071\n",
      "[LightGBM] [Info] Auto-choosing row-wise multi-threading, the overhead of testing was 0.005249 seconds.\n",
      "You can set `force_row_wise=true` to remove the overhead.\n",
      "And if memory is not enough, you can set `force_col_wise=true`.\n",
      "[LightGBM] [Info] Total Bins 1892\n",
      "[LightGBM] [Info] Number of data points in the train set: 35355, number of used features: 50\n",
      "[LightGBM] [Info] Start training from score -1.098612\n",
      "[LightGBM] [Info] Start training from score -1.098612\n",
      "[LightGBM] [Info] Start training from score -1.098612\n",
      "n_estims: 20, time_taken: 0.5952135000843555s, accuracy: 0.817048786990136\n",
      "[LightGBM] [Info] Auto-choosing row-wise multi-threading, the overhead of testing was 0.004944 seconds.\n",
      "You can set `force_row_wise=true` to remove the overhead.\n",
      "And if memory is not enough, you can set `force_col_wise=true`.\n",
      "[LightGBM] [Info] Total Bins 1892\n",
      "[LightGBM] [Info] Number of data points in the train set: 35355, number of used features: 50\n",
      "[LightGBM] [Info] Start training from score -1.098612\n",
      "[LightGBM] [Info] Start training from score -1.098612\n",
      "[LightGBM] [Info] Start training from score -1.098612\n",
      "n_estims: 50, time_taken: 1.3248656000941992s, accuracy: 0.8231138363103172\n",
      "[LightGBM] [Info] Auto-choosing row-wise multi-threading, the overhead of testing was 0.004623 seconds.\n",
      "You can set `force_row_wise=true` to remove the overhead.\n",
      "And if memory is not enough, you can set `force_col_wise=true`.\n",
      "[LightGBM] [Info] Total Bins 1892\n",
      "[LightGBM] [Info] Number of data points in the train set: 35355, number of used features: 50\n",
      "[LightGBM] [Info] Start training from score -1.098612\n",
      "[LightGBM] [Info] Start training from score -1.098612\n",
      "[LightGBM] [Info] Start training from score -1.098612\n",
      "n_estims: 100, time_taken: 2.3835710999555886s, accuracy: 0.823247134097574\n",
      "[LightGBM] [Info] Auto-choosing row-wise multi-threading, the overhead of testing was 0.004328 seconds.\n",
      "You can set `force_row_wise=true` to remove the overhead.\n",
      "And if memory is not enough, you can set `force_col_wise=true`.\n",
      "[LightGBM] [Info] Total Bins 1892\n",
      "[LightGBM] [Info] Number of data points in the train set: 35355, number of used features: 50\n",
      "[LightGBM] [Info] Start training from score -1.098612\n",
      "[LightGBM] [Info] Start training from score -1.098612\n",
      "[LightGBM] [Info] Start training from score -1.098612\n",
      "n_estims: 200, time_taken: 5.160203699953854s, accuracy: 0.8236470274593441\n",
      "[LightGBM] [Info] Auto-choosing col-wise multi-threading, the overhead of testing was 0.011308 seconds.\n",
      "You can set `force_col_wise=true` to remove the overhead.\n",
      "[LightGBM] [Info] Total Bins 1892\n",
      "[LightGBM] [Info] Number of data points in the train set: 35355, number of used features: 50\n",
      "[LightGBM] [Info] Start training from score -1.098612\n",
      "[LightGBM] [Info] Start training from score -1.098612\n",
      "[LightGBM] [Info] Start training from score -1.098612\n",
      "n_estims: 300, time_taken: 8.352568600093946s, accuracy: 0.8233804318848307\n"
     ]
    }
   ],
   "source": [
    "tim, acc = [], []\n",
    "model_lg = LGBMClassifier()\n",
    "\n",
    "for n in estims:\n",
    "    model_lg = LGBMClassifier(n_estimators=n)\n",
    "    start = time.perf_counter()\n",
    "    model_lg.fit(X_train1,y_train1)\n",
    "    end = time.perf_counter()\n",
    "    y_pred = model_lg.predict(X_val)\n",
    "    _acc = accuracy_score(y_val,y_pred)\n",
    "    tim.append(end-start)\n",
    "    print(f'n_estims: {n}, time_taken: {end-start}s, accuracy: {_acc}')\n",
    "    acc.append(_acc)"
   ]
  },
  {
   "cell_type": "code",
   "execution_count": 124,
   "metadata": {},
   "outputs": [
    {
     "name": "stdout",
     "output_type": "stream",
     "text": [
      "[LightGBM] [Info] Auto-choosing row-wise multi-threading, the overhead of testing was 0.006583 seconds.\n",
      "You can set `force_row_wise=true` to remove the overhead.\n",
      "And if memory is not enough, you can set `force_col_wise=true`.\n",
      "[LightGBM] [Info] Total Bins 1892\n",
      "[LightGBM] [Info] Number of data points in the train set: 35355, number of used features: 50\n",
      "[LightGBM] [Info] Start training from score -1.098612\n",
      "[LightGBM] [Info] Start training from score -1.098612\n",
      "[LightGBM] [Info] Start training from score -1.098612\n"
     ]
    }
   ],
   "source": [
    "n = estims[np.argmax(acc)]\n",
    "model_lgbm = LGBMClassifier(n_estimators=n)\n",
    "model_lgbm.fit(X_train1,y_train1)\n",
    "y_pred = model_lgbm.predict(X_val)"
   ]
  },
  {
   "cell_type": "code",
   "execution_count": 125,
   "metadata": {},
   "outputs": [
    {
     "data": {
      "text/html": [
       "<div>\n",
       "<style scoped>\n",
       "    .dataframe tbody tr th:only-of-type {\n",
       "        vertical-align: middle;\n",
       "    }\n",
       "\n",
       "    .dataframe tbody tr th {\n",
       "        vertical-align: top;\n",
       "    }\n",
       "\n",
       "    .dataframe thead th {\n",
       "        text-align: right;\n",
       "    }\n",
       "</style>\n",
       "<table border=\"1\" class=\"dataframe\">\n",
       "  <thead>\n",
       "    <tr style=\"text-align: right;\">\n",
       "      <th></th>\n",
       "      <th>model</th>\n",
       "      <th>metrics</th>\n",
       "      <th>training_time(s)</th>\n",
       "    </tr>\n",
       "  </thead>\n",
       "  <tbody>\n",
       "    <tr>\n",
       "      <th>0</th>\n",
       "      <td>Decision_tree_no_preprocessing</td>\n",
       "      <td>{'0': {'precision': 0.8049132947976878, 'recal...</td>\n",
       "      <td>0.980486</td>\n",
       "    </tr>\n",
       "    <tr>\n",
       "      <th>1</th>\n",
       "      <td>Decision_tree_oversampling</td>\n",
       "      <td>{'0': {'precision': 0.8125783535311325, 'recal...</td>\n",
       "      <td>3.405618</td>\n",
       "    </tr>\n",
       "    <tr>\n",
       "      <th>2</th>\n",
       "      <td>Decision_tree_undersampling</td>\n",
       "      <td>{'0': {'precision': 0.8152288546720101, 'recal...</td>\n",
       "      <td>0.765867</td>\n",
       "    </tr>\n",
       "    <tr>\n",
       "      <th>3</th>\n",
       "      <td>RandomForest_no_preprocessing</td>\n",
       "      <td>{'0': {'precision': 0.9437790271327304, 'recal...</td>\n",
       "      <td>76.878531</td>\n",
       "    </tr>\n",
       "    <tr>\n",
       "      <th>4</th>\n",
       "      <td>RandomForest_oversampling</td>\n",
       "      <td>{'0': {'precision': 0.9532803180914513, 'recal...</td>\n",
       "      <td>214.047047</td>\n",
       "    </tr>\n",
       "    <tr>\n",
       "      <th>5</th>\n",
       "      <td>RandomForest_undersampling</td>\n",
       "      <td>{'0': {'precision': 0.9725991649269311, 'recal...</td>\n",
       "      <td>43.778003</td>\n",
       "    </tr>\n",
       "    <tr>\n",
       "      <th>6</th>\n",
       "      <td>Naive_Bayes_no_preprocessing</td>\n",
       "      <td>{'0': {'precision': 0.852859778597786, 'recall...</td>\n",
       "      <td>0.183097</td>\n",
       "    </tr>\n",
       "    <tr>\n",
       "      <th>7</th>\n",
       "      <td>Naive_Bayes_oversampling</td>\n",
       "      <td>{'0': {'precision': 0.8435868331441544, 'recal...</td>\n",
       "      <td>0.139830</td>\n",
       "    </tr>\n",
       "    <tr>\n",
       "      <th>8</th>\n",
       "      <td>Naive_Bayes_undersampling</td>\n",
       "      <td>{'0': {'precision': 0.8527579044541888, 'recal...</td>\n",
       "      <td>0.049715</td>\n",
       "    </tr>\n",
       "    <tr>\n",
       "      <th>9</th>\n",
       "      <td>KNN_no_preprocessing</td>\n",
       "      <td>{'0': {'precision': 0.8735545500251383, 'recal...</td>\n",
       "      <td>0.013366</td>\n",
       "    </tr>\n",
       "    <tr>\n",
       "      <th>10</th>\n",
       "      <td>KNN_oversampling</td>\n",
       "      <td>{'0': {'precision': 0.878764074365017, 'recall...</td>\n",
       "      <td>0.016962</td>\n",
       "    </tr>\n",
       "    <tr>\n",
       "      <th>11</th>\n",
       "      <td>KNN_undersampling</td>\n",
       "      <td>{'0': {'precision': 0.905051062655258, 'recall...</td>\n",
       "      <td>0.007979</td>\n",
       "    </tr>\n",
       "    <tr>\n",
       "      <th>12</th>\n",
       "      <td>LightGBM_no_preprocessing</td>\n",
       "      <td>{'0': {'precision': 0.9382009067048437, 'recal...</td>\n",
       "      <td>9.365742</td>\n",
       "    </tr>\n",
       "    <tr>\n",
       "      <th>13</th>\n",
       "      <td>LightGBM_oversampling</td>\n",
       "      <td>{'0': {'precision': 0.9401340996168582, 'recal...</td>\n",
       "      <td>10.807362</td>\n",
       "    </tr>\n",
       "    <tr>\n",
       "      <th>14</th>\n",
       "      <td>LightGBM_undersampling</td>\n",
       "      <td>{'0': {'precision': 0.9570459683496609, 'recal...</td>\n",
       "      <td>8.352569</td>\n",
       "    </tr>\n",
       "  </tbody>\n",
       "</table>\n",
       "</div>"
      ],
      "text/plain": [
       "                             model  \\\n",
       "0   Decision_tree_no_preprocessing   \n",
       "1       Decision_tree_oversampling   \n",
       "2      Decision_tree_undersampling   \n",
       "3    RandomForest_no_preprocessing   \n",
       "4        RandomForest_oversampling   \n",
       "5       RandomForest_undersampling   \n",
       "6     Naive_Bayes_no_preprocessing   \n",
       "7         Naive_Bayes_oversampling   \n",
       "8        Naive_Bayes_undersampling   \n",
       "9             KNN_no_preprocessing   \n",
       "10                KNN_oversampling   \n",
       "11               KNN_undersampling   \n",
       "12       LightGBM_no_preprocessing   \n",
       "13           LightGBM_oversampling   \n",
       "14          LightGBM_undersampling   \n",
       "\n",
       "                                              metrics  training_time(s)  \n",
       "0   {'0': {'precision': 0.8049132947976878, 'recal...          0.980486  \n",
       "1   {'0': {'precision': 0.8125783535311325, 'recal...          3.405618  \n",
       "2   {'0': {'precision': 0.8152288546720101, 'recal...          0.765867  \n",
       "3   {'0': {'precision': 0.9437790271327304, 'recal...         76.878531  \n",
       "4   {'0': {'precision': 0.9532803180914513, 'recal...        214.047047  \n",
       "5   {'0': {'precision': 0.9725991649269311, 'recal...         43.778003  \n",
       "6   {'0': {'precision': 0.852859778597786, 'recall...          0.183097  \n",
       "7   {'0': {'precision': 0.8435868331441544, 'recal...          0.139830  \n",
       "8   {'0': {'precision': 0.8527579044541888, 'recal...          0.049715  \n",
       "9   {'0': {'precision': 0.8735545500251383, 'recal...          0.013366  \n",
       "10  {'0': {'precision': 0.878764074365017, 'recall...          0.016962  \n",
       "11  {'0': {'precision': 0.905051062655258, 'recall...          0.007979  \n",
       "12  {'0': {'precision': 0.9382009067048437, 'recal...          9.365742  \n",
       "13  {'0': {'precision': 0.9401340996168582, 'recal...         10.807362  \n",
       "14  {'0': {'precision': 0.9570459683496609, 'recal...          8.352569  "
      ]
     },
     "execution_count": 125,
     "metadata": {},
     "output_type": "execute_result"
    }
   ],
   "source": [
    "x = classification_report(y_val, y_pred, digits=4, labels=sorted(list(set(y_enc))), output_dict=True)\n",
    "models.append({'model': 'LightGBM_undersampling', 'metrics': x, 'training_time(s)': (end-start)})\n",
    "pd.DataFrame(models)"
   ]
  },
  {
   "cell_type": "markdown",
   "metadata": {},
   "source": [
    "### XGBoost"
   ]
  },
  {
   "cell_type": "code",
   "execution_count": 126,
   "metadata": {},
   "outputs": [],
   "source": [
    "from xgboost import XGBClassifier\n",
    "\n",
    "from xgboost import plot_importance"
   ]
  },
  {
   "cell_type": "code",
   "execution_count": 127,
   "metadata": {},
   "outputs": [
    {
     "name": "stdout",
     "output_type": "stream",
     "text": [
      "Training time: 2.037636199966073s\n",
      "CPU times: total: 9.73 s\n",
      "Wall time: 2.04 s\n"
     ]
    }
   ],
   "source": [
    "%%time\n",
    "model_xgb = XGBClassifier(booster='gbtree')\n",
    "start = time.perf_counter()\n",
    "model_xgb.fit(X_train,y_train)\n",
    "end = time.perf_counter()\n",
    "print(f'Training time: {end-start}s')"
   ]
  },
  {
   "cell_type": "code",
   "execution_count": 128,
   "metadata": {},
   "outputs": [
    {
     "name": "stdout",
     "output_type": "stream",
     "text": [
      "              precision    recall  f1-score   support\n",
      "\n",
      "           0     0.9375    0.8361    0.8839      4699\n",
      "           1     0.6553    0.6440    0.6496      2961\n",
      "           2     0.8556    0.9208    0.8870      7344\n",
      "\n",
      "    accuracy                         0.8396     15004\n",
      "   macro avg     0.8161    0.8003    0.8068     15004\n",
      "weighted avg     0.8417    0.8396    0.8392     15004\n",
      "\n"
     ]
    }
   ],
   "source": [
    "y_pred = model_xgb.predict(X_val)\n",
    "x = classification_report(y_val, y_pred, digits=4, labels=sorted(list(set(y_enc))))\n",
    "print(x)"
   ]
  },
  {
   "cell_type": "markdown",
   "metadata": {},
   "source": [
    "Try SMOTE"
   ]
  },
  {
   "cell_type": "code",
   "execution_count": 129,
   "metadata": {},
   "outputs": [],
   "source": [
    "X_train1, y_train1 = SMOTE().fit_resample(X_train,y_train)"
   ]
  },
  {
   "cell_type": "code",
   "execution_count": 130,
   "metadata": {},
   "outputs": [
    {
     "name": "stdout",
     "output_type": "stream",
     "text": [
      "Training time: 3.4850534999277443s\n",
      "CPU times: total: 18.4 s\n",
      "Wall time: 3.49 s\n"
     ]
    }
   ],
   "source": [
    "%%time\n",
    "model_xgb = XGBClassifier(booster='gbtree')\n",
    "start = time.perf_counter()\n",
    "model_xgb.fit(X_train1,y_train1)\n",
    "end = time.perf_counter()\n",
    "print(f'Training time: {end-start}s')"
   ]
  },
  {
   "cell_type": "code",
   "execution_count": 131,
   "metadata": {},
   "outputs": [
    {
     "name": "stdout",
     "output_type": "stream",
     "text": [
      "              precision    recall  f1-score   support\n",
      "\n",
      "           0     0.9399    0.8353    0.8845      4699\n",
      "           1     0.6550    0.6545    0.6547      2961\n",
      "           2     0.8573    0.9186    0.8869      7344\n",
      "\n",
      "    accuracy                         0.8404     15004\n",
      "   macro avg     0.8174    0.8028    0.8087     15004\n",
      "weighted avg     0.8432    0.8404    0.8403     15004\n",
      "\n"
     ]
    }
   ],
   "source": [
    "y_pred = model_xgb.predict(X_val)\n",
    "x = classification_report(y_val, y_pred, digits=4, labels=sorted(list(set(y_enc))))\n",
    "print(x)"
   ]
  },
  {
   "cell_type": "markdown",
   "metadata": {},
   "source": [
    "Try undersampling"
   ]
  },
  {
   "cell_type": "code",
   "execution_count": 132,
   "metadata": {},
   "outputs": [],
   "source": [
    "X_train1, y_train1 = RandomUnderSampler().fit_resample(X_train,y_train)"
   ]
  },
  {
   "cell_type": "code",
   "execution_count": 133,
   "metadata": {},
   "outputs": [
    {
     "name": "stdout",
     "output_type": "stream",
     "text": [
      "Training time: 1.2278279999736696s\n",
      "CPU times: total: 5.91 s\n",
      "Wall time: 1.23 s\n"
     ]
    }
   ],
   "source": [
    "%%time\n",
    "model_xgb = XGBClassifier(booster='gbtree')\n",
    "start = time.perf_counter()\n",
    "model_xgb.fit(X_train1,y_train1)\n",
    "end = time.perf_counter()\n",
    "print(f'Training time: {end-start}s')"
   ]
  },
  {
   "cell_type": "code",
   "execution_count": 134,
   "metadata": {},
   "outputs": [
    {
     "name": "stdout",
     "output_type": "stream",
     "text": [
      "              precision    recall  f1-score   support\n",
      "\n",
      "           0     0.9548    0.8095    0.8762      4699\n",
      "           1     0.5690    0.7896    0.6614      2961\n",
      "           2     0.8938    0.8411    0.8666      7344\n",
      "\n",
      "    accuracy                         0.8210     15004\n",
      "   macro avg     0.8059    0.8134    0.8014     15004\n",
      "weighted avg     0.8488    0.8210    0.8291     15004\n",
      "\n"
     ]
    }
   ],
   "source": [
    "y_pred = model_xgb.predict(X_val)\n",
    "x = classification_report(y_val, y_pred, digits=4, labels=sorted(list(set(y_enc))))\n",
    "print(x)"
   ]
  },
  {
   "cell_type": "markdown",
   "metadata": {},
   "source": [
    "## Results"
   ]
  },
  {
   "cell_type": "code",
   "execution_count": 135,
   "metadata": {},
   "outputs": [],
   "source": [
    "df_results = pd.DataFrame(models)"
   ]
  },
  {
   "cell_type": "code",
   "execution_count": 136,
   "metadata": {},
   "outputs": [],
   "source": [
    "df_results['precision'] = df_results['metrics'].apply(lambda x: {0: round(x['0']['precision'],3), 1: round(x['1']['precision'],3), 2: round(x['2']['precision'],3)})\n",
    "df_results['recall'] = df_results['metrics'].apply(lambda x: {0: round(x['0']['recall'],3), 1: round(x['1']['recall'],3), 2: round(x['2']['recall'],3)})\n",
    "df_results['f1-score'] = df_results['metrics'].apply(lambda x: {0: round(x['0']['f1-score'],3), 1: round(x['1']['f1-score'],3), 2: round(x['2']['f1-score'],3)})\n",
    "df_results['macro_avg'] = df_results['metrics'].apply(lambda x: {k: round(x['macro avg'][k],3) for k in x['macro avg'].keys()})\n",
    "df_results['weighted_avg'] = df_results['metrics'].apply(lambda x: {k: round(x['weighted avg'][k],3) for k in x['weighted avg'].keys()})\n",
    "df_results['accuracy'] = df_results['metrics'].apply(lambda x: round(x['accuracy'],3))\n",
    "df_results['time (s)'] = df_results['training_time(s)']\n",
    "df_results.drop(columns=['metrics','training_time(s)'],inplace=True)"
   ]
  },
  {
   "cell_type": "code",
   "execution_count": 137,
   "metadata": {},
   "outputs": [
    {
     "data": {
      "text/html": [
       "<div>\n",
       "<style scoped>\n",
       "    .dataframe tbody tr th:only-of-type {\n",
       "        vertical-align: middle;\n",
       "    }\n",
       "\n",
       "    .dataframe tbody tr th {\n",
       "        vertical-align: top;\n",
       "    }\n",
       "\n",
       "    .dataframe thead th {\n",
       "        text-align: right;\n",
       "    }\n",
       "</style>\n",
       "<table border=\"1\" class=\"dataframe\">\n",
       "  <thead>\n",
       "    <tr style=\"text-align: right;\">\n",
       "      <th></th>\n",
       "      <th>model</th>\n",
       "      <th>precision</th>\n",
       "      <th>recall</th>\n",
       "      <th>f1-score</th>\n",
       "      <th>macro_avg</th>\n",
       "      <th>weighted_avg</th>\n",
       "      <th>accuracy</th>\n",
       "      <th>time (s)</th>\n",
       "    </tr>\n",
       "  </thead>\n",
       "  <tbody>\n",
       "    <tr>\n",
       "      <th>0</th>\n",
       "      <td>Decision_tree_no_preprocessing</td>\n",
       "      <td>{0: 0.805, 1: 0.503, 2: 0.837}</td>\n",
       "      <td>{0: 0.83, 1: 0.511, 2: 0.815}</td>\n",
       "      <td>{0: 0.817, 1: 0.507, 2: 0.826}</td>\n",
       "      <td>{'precision': 0.715, 'recall': 0.719, 'f1-scor...</td>\n",
       "      <td>{'precision': 0.761, 'recall': 0.76, 'f1-score...</td>\n",
       "      <td>0.760</td>\n",
       "      <td>0.980486</td>\n",
       "    </tr>\n",
       "    <tr>\n",
       "      <th>1</th>\n",
       "      <td>Decision_tree_oversampling</td>\n",
       "      <td>{0: 0.813, 1: 0.509, 2: 0.839}</td>\n",
       "      <td>{0: 0.828, 1: 0.535, 2: 0.812}</td>\n",
       "      <td>{0: 0.82, 1: 0.521, 2: 0.826}</td>\n",
       "      <td>{'precision': 0.72, 'recall': 0.725, 'f1-score...</td>\n",
       "      <td>{'precision': 0.766, 'recall': 0.762, 'f1-scor...</td>\n",
       "      <td>0.762</td>\n",
       "      <td>3.405618</td>\n",
       "    </tr>\n",
       "    <tr>\n",
       "      <th>2</th>\n",
       "      <td>Decision_tree_undersampling</td>\n",
       "      <td>{0: 0.815, 1: 0.462, 2: 0.863}</td>\n",
       "      <td>{0: 0.823, 1: 0.642, 2: 0.722}</td>\n",
       "      <td>{0: 0.819, 1: 0.537, 2: 0.786}</td>\n",
       "      <td>{'precision': 0.713, 'recall': 0.729, 'f1-scor...</td>\n",
       "      <td>{'precision': 0.769, 'recall': 0.738, 'f1-scor...</td>\n",
       "      <td>0.738</td>\n",
       "      <td>0.765867</td>\n",
       "    </tr>\n",
       "    <tr>\n",
       "      <th>3</th>\n",
       "      <td>RandomForest_no_preprocessing</td>\n",
       "      <td>{0: 0.944, 1: 0.647, 2: 0.847}</td>\n",
       "      <td>{0: 0.822, 1: 0.627, 2: 0.928}</td>\n",
       "      <td>{0: 0.878, 1: 0.637, 2: 0.885}</td>\n",
       "      <td>{'precision': 0.813, 'recall': 0.792, 'f1-scor...</td>\n",
       "      <td>{'precision': 0.838, 'recall': 0.835, 'f1-scor...</td>\n",
       "      <td>0.835</td>\n",
       "      <td>76.878531</td>\n",
       "    </tr>\n",
       "    <tr>\n",
       "      <th>4</th>\n",
       "      <td>RandomForest_oversampling</td>\n",
       "      <td>{0: 0.953, 1: 0.632, 2: 0.857}</td>\n",
       "      <td>{0: 0.816, 1: 0.67, 2: 0.914}</td>\n",
       "      <td>{0: 0.88, 1: 0.65, 2: 0.884}</td>\n",
       "      <td>{'precision': 0.814, 'recall': 0.8, 'f1-score'...</td>\n",
       "      <td>{'precision': 0.843, 'recall': 0.835, 'f1-scor...</td>\n",
       "      <td>0.835</td>\n",
       "      <td>214.047047</td>\n",
       "    </tr>\n",
       "    <tr>\n",
       "      <th>5</th>\n",
       "      <td>RandomForest_undersampling</td>\n",
       "      <td>{0: 0.973, 1: 0.552, 2: 0.892}</td>\n",
       "      <td>{0: 0.793, 1: 0.802, 2: 0.834}</td>\n",
       "      <td>{0: 0.874, 1: 0.654, 2: 0.862}</td>\n",
       "      <td>{'precision': 0.805, 'recall': 0.81, 'f1-score...</td>\n",
       "      <td>{'precision': 0.85, 'recall': 0.815, 'f1-score...</td>\n",
       "      <td>0.815</td>\n",
       "      <td>43.778003</td>\n",
       "    </tr>\n",
       "    <tr>\n",
       "      <th>6</th>\n",
       "      <td>Naive_Bayes_no_preprocessing</td>\n",
       "      <td>{0: 0.853, 1: 0.52, 2: 0.784}</td>\n",
       "      <td>{0: 0.787, 1: 0.448, 2: 0.867}</td>\n",
       "      <td>{0: 0.819, 1: 0.481, 2: 0.823}</td>\n",
       "      <td>{'precision': 0.719, 'recall': 0.7, 'f1-score'...</td>\n",
       "      <td>{'precision': 0.753, 'recall': 0.759, 'f1-scor...</td>\n",
       "      <td>0.759</td>\n",
       "      <td>0.183097</td>\n",
       "    </tr>\n",
       "    <tr>\n",
       "      <th>7</th>\n",
       "      <td>Naive_Bayes_oversampling</td>\n",
       "      <td>{0: 0.844, 1: 0.514, 2: 0.833}</td>\n",
       "      <td>{0: 0.791, 1: 0.59, 2: 0.817}</td>\n",
       "      <td>{0: 0.816, 1: 0.549, 2: 0.825}</td>\n",
       "      <td>{'precision': 0.73, 'recall': 0.732, 'f1-score...</td>\n",
       "      <td>{'precision': 0.773, 'recall': 0.764, 'f1-scor...</td>\n",
       "      <td>0.764</td>\n",
       "      <td>0.139830</td>\n",
       "    </tr>\n",
       "    <tr>\n",
       "      <th>8</th>\n",
       "      <td>Naive_Bayes_undersampling</td>\n",
       "      <td>{0: 0.853, 1: 0.522, 2: 0.793}</td>\n",
       "      <td>{0: 0.786, 1: 0.478, 2: 0.86}</td>\n",
       "      <td>{0: 0.818, 1: 0.499, 2: 0.825}</td>\n",
       "      <td>{'precision': 0.723, 'recall': 0.708, 'f1-scor...</td>\n",
       "      <td>{'precision': 0.758, 'recall': 0.762, 'f1-scor...</td>\n",
       "      <td>0.762</td>\n",
       "      <td>0.049715</td>\n",
       "    </tr>\n",
       "    <tr>\n",
       "      <th>9</th>\n",
       "      <td>KNN_no_preprocessing</td>\n",
       "      <td>{0: 0.874, 1: 0.525, 2: 0.768}</td>\n",
       "      <td>{0: 0.74, 1: 0.457, 2: 0.883}</td>\n",
       "      <td>{0: 0.801, 1: 0.488, 2: 0.821}</td>\n",
       "      <td>{'precision': 0.722, 'recall': 0.693, 'f1-scor...</td>\n",
       "      <td>{'precision': 0.753, 'recall': 0.754, 'f1-scor...</td>\n",
       "      <td>0.754</td>\n",
       "      <td>0.013366</td>\n",
       "    </tr>\n",
       "    <tr>\n",
       "      <th>10</th>\n",
       "      <td>KNN_oversampling</td>\n",
       "      <td>{0: 0.879, 1: 0.41, 2: 0.833}</td>\n",
       "      <td>{0: 0.714, 1: 0.69, 2: 0.704}</td>\n",
       "      <td>{0: 0.788, 1: 0.514, 2: 0.763}</td>\n",
       "      <td>{'precision': 0.707, 'recall': 0.703, 'f1-scor...</td>\n",
       "      <td>{'precision': 0.764, 'recall': 0.704, 'f1-scor...</td>\n",
       "      <td>0.704</td>\n",
       "      <td>0.016962</td>\n",
       "    </tr>\n",
       "    <tr>\n",
       "      <th>11</th>\n",
       "      <td>KNN_undersampling</td>\n",
       "      <td>{0: 0.905, 1: 0.42, 2: 0.822}</td>\n",
       "      <td>{0: 0.698, 1: 0.698, 2: 0.723}</td>\n",
       "      <td>{0: 0.788, 1: 0.525, 2: 0.769}</td>\n",
       "      <td>{'precision': 0.716, 'recall': 0.706, 'f1-scor...</td>\n",
       "      <td>{'precision': 0.769, 'recall': 0.71, 'f1-score...</td>\n",
       "      <td>0.710</td>\n",
       "      <td>0.007979</td>\n",
       "    </tr>\n",
       "    <tr>\n",
       "      <th>12</th>\n",
       "      <td>LightGBM_no_preprocessing</td>\n",
       "      <td>{0: 0.938, 1: 0.659, 2: 0.855}</td>\n",
       "      <td>{0: 0.837, 1: 0.641, 2: 0.923}</td>\n",
       "      <td>{0: 0.885, 1: 0.65, 2: 0.888}</td>\n",
       "      <td>{'precision': 0.817, 'recall': 0.8, 'f1-score'...</td>\n",
       "      <td>{'precision': 0.842, 'recall': 0.841, 'f1-scor...</td>\n",
       "      <td>0.841</td>\n",
       "      <td>9.365742</td>\n",
       "    </tr>\n",
       "    <tr>\n",
       "      <th>13</th>\n",
       "      <td>LightGBM_oversampling</td>\n",
       "      <td>{0: 0.94, 1: 0.655, 2: 0.859}</td>\n",
       "      <td>{0: 0.835, 1: 0.658, 2: 0.918}</td>\n",
       "      <td>{0: 0.885, 1: 0.656, 2: 0.888}</td>\n",
       "      <td>{'precision': 0.818, 'recall': 0.804, 'f1-scor...</td>\n",
       "      <td>{'precision': 0.844, 'recall': 0.841, 'f1-scor...</td>\n",
       "      <td>0.841</td>\n",
       "      <td>10.807362</td>\n",
       "    </tr>\n",
       "    <tr>\n",
       "      <th>14</th>\n",
       "      <td>LightGBM_undersampling</td>\n",
       "      <td>{0: 0.957, 1: 0.572, 2: 0.895}</td>\n",
       "      <td>{0: 0.811, 1: 0.788, 2: 0.846}</td>\n",
       "      <td>{0: 0.878, 1: 0.662, 2: 0.87}</td>\n",
       "      <td>{'precision': 0.808, 'recall': 0.815, 'f1-scor...</td>\n",
       "      <td>{'precision': 0.851, 'recall': 0.824, 'f1-scor...</td>\n",
       "      <td>0.824</td>\n",
       "      <td>8.352569</td>\n",
       "    </tr>\n",
       "  </tbody>\n",
       "</table>\n",
       "</div>"
      ],
      "text/plain": [
       "                             model                       precision  \\\n",
       "0   Decision_tree_no_preprocessing  {0: 0.805, 1: 0.503, 2: 0.837}   \n",
       "1       Decision_tree_oversampling  {0: 0.813, 1: 0.509, 2: 0.839}   \n",
       "2      Decision_tree_undersampling  {0: 0.815, 1: 0.462, 2: 0.863}   \n",
       "3    RandomForest_no_preprocessing  {0: 0.944, 1: 0.647, 2: 0.847}   \n",
       "4        RandomForest_oversampling  {0: 0.953, 1: 0.632, 2: 0.857}   \n",
       "5       RandomForest_undersampling  {0: 0.973, 1: 0.552, 2: 0.892}   \n",
       "6     Naive_Bayes_no_preprocessing   {0: 0.853, 1: 0.52, 2: 0.784}   \n",
       "7         Naive_Bayes_oversampling  {0: 0.844, 1: 0.514, 2: 0.833}   \n",
       "8        Naive_Bayes_undersampling  {0: 0.853, 1: 0.522, 2: 0.793}   \n",
       "9             KNN_no_preprocessing  {0: 0.874, 1: 0.525, 2: 0.768}   \n",
       "10                KNN_oversampling   {0: 0.879, 1: 0.41, 2: 0.833}   \n",
       "11               KNN_undersampling   {0: 0.905, 1: 0.42, 2: 0.822}   \n",
       "12       LightGBM_no_preprocessing  {0: 0.938, 1: 0.659, 2: 0.855}   \n",
       "13           LightGBM_oversampling   {0: 0.94, 1: 0.655, 2: 0.859}   \n",
       "14          LightGBM_undersampling  {0: 0.957, 1: 0.572, 2: 0.895}   \n",
       "\n",
       "                            recall                        f1-score  \\\n",
       "0    {0: 0.83, 1: 0.511, 2: 0.815}  {0: 0.817, 1: 0.507, 2: 0.826}   \n",
       "1   {0: 0.828, 1: 0.535, 2: 0.812}   {0: 0.82, 1: 0.521, 2: 0.826}   \n",
       "2   {0: 0.823, 1: 0.642, 2: 0.722}  {0: 0.819, 1: 0.537, 2: 0.786}   \n",
       "3   {0: 0.822, 1: 0.627, 2: 0.928}  {0: 0.878, 1: 0.637, 2: 0.885}   \n",
       "4    {0: 0.816, 1: 0.67, 2: 0.914}    {0: 0.88, 1: 0.65, 2: 0.884}   \n",
       "5   {0: 0.793, 1: 0.802, 2: 0.834}  {0: 0.874, 1: 0.654, 2: 0.862}   \n",
       "6   {0: 0.787, 1: 0.448, 2: 0.867}  {0: 0.819, 1: 0.481, 2: 0.823}   \n",
       "7    {0: 0.791, 1: 0.59, 2: 0.817}  {0: 0.816, 1: 0.549, 2: 0.825}   \n",
       "8    {0: 0.786, 1: 0.478, 2: 0.86}  {0: 0.818, 1: 0.499, 2: 0.825}   \n",
       "9    {0: 0.74, 1: 0.457, 2: 0.883}  {0: 0.801, 1: 0.488, 2: 0.821}   \n",
       "10   {0: 0.714, 1: 0.69, 2: 0.704}  {0: 0.788, 1: 0.514, 2: 0.763}   \n",
       "11  {0: 0.698, 1: 0.698, 2: 0.723}  {0: 0.788, 1: 0.525, 2: 0.769}   \n",
       "12  {0: 0.837, 1: 0.641, 2: 0.923}   {0: 0.885, 1: 0.65, 2: 0.888}   \n",
       "13  {0: 0.835, 1: 0.658, 2: 0.918}  {0: 0.885, 1: 0.656, 2: 0.888}   \n",
       "14  {0: 0.811, 1: 0.788, 2: 0.846}   {0: 0.878, 1: 0.662, 2: 0.87}   \n",
       "\n",
       "                                            macro_avg  \\\n",
       "0   {'precision': 0.715, 'recall': 0.719, 'f1-scor...   \n",
       "1   {'precision': 0.72, 'recall': 0.725, 'f1-score...   \n",
       "2   {'precision': 0.713, 'recall': 0.729, 'f1-scor...   \n",
       "3   {'precision': 0.813, 'recall': 0.792, 'f1-scor...   \n",
       "4   {'precision': 0.814, 'recall': 0.8, 'f1-score'...   \n",
       "5   {'precision': 0.805, 'recall': 0.81, 'f1-score...   \n",
       "6   {'precision': 0.719, 'recall': 0.7, 'f1-score'...   \n",
       "7   {'precision': 0.73, 'recall': 0.732, 'f1-score...   \n",
       "8   {'precision': 0.723, 'recall': 0.708, 'f1-scor...   \n",
       "9   {'precision': 0.722, 'recall': 0.693, 'f1-scor...   \n",
       "10  {'precision': 0.707, 'recall': 0.703, 'f1-scor...   \n",
       "11  {'precision': 0.716, 'recall': 0.706, 'f1-scor...   \n",
       "12  {'precision': 0.817, 'recall': 0.8, 'f1-score'...   \n",
       "13  {'precision': 0.818, 'recall': 0.804, 'f1-scor...   \n",
       "14  {'precision': 0.808, 'recall': 0.815, 'f1-scor...   \n",
       "\n",
       "                                         weighted_avg  accuracy    time (s)  \n",
       "0   {'precision': 0.761, 'recall': 0.76, 'f1-score...     0.760    0.980486  \n",
       "1   {'precision': 0.766, 'recall': 0.762, 'f1-scor...     0.762    3.405618  \n",
       "2   {'precision': 0.769, 'recall': 0.738, 'f1-scor...     0.738    0.765867  \n",
       "3   {'precision': 0.838, 'recall': 0.835, 'f1-scor...     0.835   76.878531  \n",
       "4   {'precision': 0.843, 'recall': 0.835, 'f1-scor...     0.835  214.047047  \n",
       "5   {'precision': 0.85, 'recall': 0.815, 'f1-score...     0.815   43.778003  \n",
       "6   {'precision': 0.753, 'recall': 0.759, 'f1-scor...     0.759    0.183097  \n",
       "7   {'precision': 0.773, 'recall': 0.764, 'f1-scor...     0.764    0.139830  \n",
       "8   {'precision': 0.758, 'recall': 0.762, 'f1-scor...     0.762    0.049715  \n",
       "9   {'precision': 0.753, 'recall': 0.754, 'f1-scor...     0.754    0.013366  \n",
       "10  {'precision': 0.764, 'recall': 0.704, 'f1-scor...     0.704    0.016962  \n",
       "11  {'precision': 0.769, 'recall': 0.71, 'f1-score...     0.710    0.007979  \n",
       "12  {'precision': 0.842, 'recall': 0.841, 'f1-scor...     0.841    9.365742  \n",
       "13  {'precision': 0.844, 'recall': 0.841, 'f1-scor...     0.841   10.807362  \n",
       "14  {'precision': 0.851, 'recall': 0.824, 'f1-scor...     0.824    8.352569  "
      ]
     },
     "execution_count": 137,
     "metadata": {},
     "output_type": "execute_result"
    }
   ],
   "source": [
    "df_results.to_csv('data/benchmarking_outliers_handled.csv',index=False)\n",
    "df_results"
   ]
  },
  {
   "cell_type": "code",
   "execution_count": 138,
   "metadata": {},
   "outputs": [],
   "source": [
    "def get_results(df):\n",
    "\n",
    "    fields = {'model':df['model'].values, 'precision':[x['precision'] for x in df['macro_avg'].values],\n",
    "                'recall':[x['recall'] for x in df['macro_avg'].values], 'f1-score':[x['f1-score'] for x in df['macro_avg'].values],\n",
    "                'accuracy':df['accuracy'].values, 'time (s)': df['time (s)']}\n",
    "    \n",
    "    return pd.DataFrame(fields)"
   ]
  },
  {
   "cell_type": "code",
   "execution_count": 139,
   "metadata": {},
   "outputs": [
    {
     "data": {
      "text/html": [
       "<div>\n",
       "<style scoped>\n",
       "    .dataframe tbody tr th:only-of-type {\n",
       "        vertical-align: middle;\n",
       "    }\n",
       "\n",
       "    .dataframe tbody tr th {\n",
       "        vertical-align: top;\n",
       "    }\n",
       "\n",
       "    .dataframe thead th {\n",
       "        text-align: right;\n",
       "    }\n",
       "</style>\n",
       "<table border=\"1\" class=\"dataframe\">\n",
       "  <thead>\n",
       "    <tr style=\"text-align: right;\">\n",
       "      <th></th>\n",
       "      <th>model</th>\n",
       "      <th>precision</th>\n",
       "      <th>recall</th>\n",
       "      <th>f1-score</th>\n",
       "      <th>accuracy</th>\n",
       "      <th>time (s)</th>\n",
       "    </tr>\n",
       "  </thead>\n",
       "  <tbody>\n",
       "    <tr>\n",
       "      <th>0</th>\n",
       "      <td>Decision_tree_no_preprocessing</td>\n",
       "      <td>0.715</td>\n",
       "      <td>0.719</td>\n",
       "      <td>0.717</td>\n",
       "      <td>0.760</td>\n",
       "      <td>0.980486</td>\n",
       "    </tr>\n",
       "    <tr>\n",
       "      <th>1</th>\n",
       "      <td>Decision_tree_oversampling</td>\n",
       "      <td>0.720</td>\n",
       "      <td>0.725</td>\n",
       "      <td>0.722</td>\n",
       "      <td>0.762</td>\n",
       "      <td>3.405618</td>\n",
       "    </tr>\n",
       "    <tr>\n",
       "      <th>2</th>\n",
       "      <td>Decision_tree_undersampling</td>\n",
       "      <td>0.713</td>\n",
       "      <td>0.729</td>\n",
       "      <td>0.714</td>\n",
       "      <td>0.738</td>\n",
       "      <td>0.765867</td>\n",
       "    </tr>\n",
       "    <tr>\n",
       "      <th>3</th>\n",
       "      <td>RandomForest_no_preprocessing</td>\n",
       "      <td>0.813</td>\n",
       "      <td>0.792</td>\n",
       "      <td>0.800</td>\n",
       "      <td>0.835</td>\n",
       "      <td>76.878531</td>\n",
       "    </tr>\n",
       "    <tr>\n",
       "      <th>4</th>\n",
       "      <td>RandomForest_oversampling</td>\n",
       "      <td>0.814</td>\n",
       "      <td>0.800</td>\n",
       "      <td>0.805</td>\n",
       "      <td>0.835</td>\n",
       "      <td>214.047047</td>\n",
       "    </tr>\n",
       "    <tr>\n",
       "      <th>5</th>\n",
       "      <td>RandomForest_undersampling</td>\n",
       "      <td>0.805</td>\n",
       "      <td>0.810</td>\n",
       "      <td>0.796</td>\n",
       "      <td>0.815</td>\n",
       "      <td>43.778003</td>\n",
       "    </tr>\n",
       "    <tr>\n",
       "      <th>6</th>\n",
       "      <td>Naive_Bayes_no_preprocessing</td>\n",
       "      <td>0.719</td>\n",
       "      <td>0.700</td>\n",
       "      <td>0.708</td>\n",
       "      <td>0.759</td>\n",
       "      <td>0.183097</td>\n",
       "    </tr>\n",
       "    <tr>\n",
       "      <th>7</th>\n",
       "      <td>Naive_Bayes_oversampling</td>\n",
       "      <td>0.730</td>\n",
       "      <td>0.732</td>\n",
       "      <td>0.730</td>\n",
       "      <td>0.764</td>\n",
       "      <td>0.139830</td>\n",
       "    </tr>\n",
       "    <tr>\n",
       "      <th>8</th>\n",
       "      <td>Naive_Bayes_undersampling</td>\n",
       "      <td>0.723</td>\n",
       "      <td>0.708</td>\n",
       "      <td>0.714</td>\n",
       "      <td>0.762</td>\n",
       "      <td>0.049715</td>\n",
       "    </tr>\n",
       "    <tr>\n",
       "      <th>9</th>\n",
       "      <td>KNN_no_preprocessing</td>\n",
       "      <td>0.722</td>\n",
       "      <td>0.693</td>\n",
       "      <td>0.704</td>\n",
       "      <td>0.754</td>\n",
       "      <td>0.013366</td>\n",
       "    </tr>\n",
       "    <tr>\n",
       "      <th>10</th>\n",
       "      <td>KNN_oversampling</td>\n",
       "      <td>0.707</td>\n",
       "      <td>0.703</td>\n",
       "      <td>0.688</td>\n",
       "      <td>0.704</td>\n",
       "      <td>0.016962</td>\n",
       "    </tr>\n",
       "    <tr>\n",
       "      <th>11</th>\n",
       "      <td>KNN_undersampling</td>\n",
       "      <td>0.716</td>\n",
       "      <td>0.706</td>\n",
       "      <td>0.694</td>\n",
       "      <td>0.710</td>\n",
       "      <td>0.007979</td>\n",
       "    </tr>\n",
       "    <tr>\n",
       "      <th>12</th>\n",
       "      <td>LightGBM_no_preprocessing</td>\n",
       "      <td>0.817</td>\n",
       "      <td>0.800</td>\n",
       "      <td>0.807</td>\n",
       "      <td>0.841</td>\n",
       "      <td>9.365742</td>\n",
       "    </tr>\n",
       "    <tr>\n",
       "      <th>13</th>\n",
       "      <td>LightGBM_oversampling</td>\n",
       "      <td>0.818</td>\n",
       "      <td>0.804</td>\n",
       "      <td>0.810</td>\n",
       "      <td>0.841</td>\n",
       "      <td>10.807362</td>\n",
       "    </tr>\n",
       "    <tr>\n",
       "      <th>14</th>\n",
       "      <td>LightGBM_undersampling</td>\n",
       "      <td>0.808</td>\n",
       "      <td>0.815</td>\n",
       "      <td>0.803</td>\n",
       "      <td>0.824</td>\n",
       "      <td>8.352569</td>\n",
       "    </tr>\n",
       "  </tbody>\n",
       "</table>\n",
       "</div>"
      ],
      "text/plain": [
       "                             model  precision  recall  f1-score  accuracy  \\\n",
       "0   Decision_tree_no_preprocessing      0.715   0.719     0.717     0.760   \n",
       "1       Decision_tree_oversampling      0.720   0.725     0.722     0.762   \n",
       "2      Decision_tree_undersampling      0.713   0.729     0.714     0.738   \n",
       "3    RandomForest_no_preprocessing      0.813   0.792     0.800     0.835   \n",
       "4        RandomForest_oversampling      0.814   0.800     0.805     0.835   \n",
       "5       RandomForest_undersampling      0.805   0.810     0.796     0.815   \n",
       "6     Naive_Bayes_no_preprocessing      0.719   0.700     0.708     0.759   \n",
       "7         Naive_Bayes_oversampling      0.730   0.732     0.730     0.764   \n",
       "8        Naive_Bayes_undersampling      0.723   0.708     0.714     0.762   \n",
       "9             KNN_no_preprocessing      0.722   0.693     0.704     0.754   \n",
       "10                KNN_oversampling      0.707   0.703     0.688     0.704   \n",
       "11               KNN_undersampling      0.716   0.706     0.694     0.710   \n",
       "12       LightGBM_no_preprocessing      0.817   0.800     0.807     0.841   \n",
       "13           LightGBM_oversampling      0.818   0.804     0.810     0.841   \n",
       "14          LightGBM_undersampling      0.808   0.815     0.803     0.824   \n",
       "\n",
       "      time (s)  \n",
       "0     0.980486  \n",
       "1     3.405618  \n",
       "2     0.765867  \n",
       "3    76.878531  \n",
       "4   214.047047  \n",
       "5    43.778003  \n",
       "6     0.183097  \n",
       "7     0.139830  \n",
       "8     0.049715  \n",
       "9     0.013366  \n",
       "10    0.016962  \n",
       "11    0.007979  \n",
       "12    9.365742  \n",
       "13   10.807362  \n",
       "14    8.352569  "
      ]
     },
     "execution_count": 139,
     "metadata": {},
     "output_type": "execute_result"
    }
   ],
   "source": [
    "res = get_results(df_results)\n",
    "res"
   ]
  }
 ],
 "metadata": {
  "kernelspec": {
   "display_name": "Python 3",
   "language": "python",
   "name": "python3"
  },
  "language_info": {
   "codemirror_mode": {
    "name": "ipython",
    "version": 3
   },
   "file_extension": ".py",
   "mimetype": "text/x-python",
   "name": "python",
   "nbconvert_exporter": "python",
   "pygments_lexer": "ipython3",
   "version": "3.11.4"
  }
 },
 "nbformat": 4,
 "nbformat_minor": 2
}
