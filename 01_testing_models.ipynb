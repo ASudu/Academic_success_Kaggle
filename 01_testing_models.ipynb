{
 "cells": [
  {
   "cell_type": "markdown",
   "metadata": {},
   "source": [
    "# TESTING MODELS\n",
    "\n",
    "Let us try a few classification models\n",
    "## Classical ML models"
   ]
  },
  {
   "cell_type": "code",
   "execution_count": 1,
   "metadata": {},
   "outputs": [],
   "source": [
    "import pandas as pd\n",
    "import time\n",
    "import numpy as np\n",
    "import os\n",
    "from sklearn.preprocessing import StandardScaler, LabelEncoder\n",
    "from sklearn.metrics import roc_auc_score, multilabel_confusion_matrix, accuracy_score, classification_report, balanced_accuracy_score\n",
    "import matplotlib.pyplot as plt\n",
    "import seaborn as sns"
   ]
  },
  {
   "cell_type": "code",
   "execution_count": 2,
   "metadata": {},
   "outputs": [],
   "source": [
    "models = []"
   ]
  },
  {
   "cell_type": "code",
   "execution_count": 3,
   "metadata": {},
   "outputs": [
    {
     "data": {
      "text/plain": [
       "((76518, 38),\n",
       " Index(['id', 'marital_status', 'appln_mode', 'appln_order', 'prog_of_study',\n",
       "        'morn/eve_attend', 'prev_edu', 'prev_edu_grade', 'nationality',\n",
       "        'mom_edu', 'dad_edu', 'mom_occup', 'dad_occup', 'admission_grade',\n",
       "        'was_displaced', 'edu_spl_need', 'has_student_debt', 'no_fee_dues',\n",
       "        'gender', 'got_scholarship', 'age_at_start', 'is_international_student',\n",
       "        'sem1_units_credited', 'sem1_units_enrolled', 'sem1_units_eval',\n",
       "        'sem1_units_approved', 'sem1_units_grade', 'sem1_units_no_eval',\n",
       "        'sem2_units_credited', 'sem2_units_enrolled', 'sem2_units_eval',\n",
       "        'sem2_units_approved', 'sem2_units_grade', 'sem2_units_no_eval',\n",
       "        'unemployment_rate', 'inflation', 'gdp', 'Target'],\n",
       "       dtype='object'))"
      ]
     },
     "execution_count": 3,
     "metadata": {},
     "output_type": "execute_result"
    }
   ],
   "source": [
    "df = pd.read_csv('data/cleaned_train.csv')\n",
    "df.shape, df.columns"
   ]
  },
  {
   "cell_type": "code",
   "execution_count": 4,
   "metadata": {},
   "outputs": [],
   "source": [
    "X,y = df.drop(columns=['id','Target']).values, df['Target'].values"
   ]
  },
  {
   "cell_type": "code",
   "execution_count": 5,
   "metadata": {},
   "outputs": [
    {
     "data": {
      "text/plain": [
       "(Target\n",
       " Graduate    36282\n",
       " Dropout     25296\n",
       " Enrolled    14940\n",
       " Name: count, dtype: int64,\n",
       " <Axes: >)"
      ]
     },
     "execution_count": 5,
     "metadata": {},
     "output_type": "execute_result"
    },
    {
     "data": {
      "image/png": "[encoded data removed]",
      "text/plain": [
       "<Figure size 640x480 with 1 Axes>"
      ]
     },
     "metadata": {},
     "output_type": "display_data"
    }
   ],
   "source": [
    "df['Target'].value_counts(), df['Target'].hist()"
   ]
  },
  {
   "cell_type": "markdown",
   "metadata": {},
   "source": [
    "So we have an imbalanced dataset. To handle this - for classical ML models, we oversample the smaller classes"
   ]
  },
  {
   "cell_type": "code",
   "execution_count": 6,
   "metadata": {},
   "outputs": [],
   "source": [
    "# Train test split\n",
    "from sklearn.model_selection import train_test_split\n",
    "\n",
    "le = LabelEncoder()\n",
    "y_l = le.fit(y)\n",
    "y_enc = y_l.transform(y)\n",
    "\n",
    "X_train, X_val, y_train, y_val = train_test_split(X, y_enc, test_size=0.2, random_state=42)"
   ]
  },
  {
   "cell_type": "markdown",
   "metadata": {},
   "source": [
    "### Decision tree\n",
    "\n",
    "First we check the performance without any oversampling"
   ]
  },
  {
   "cell_type": "code",
   "execution_count": 7,
   "metadata": {},
   "outputs": [],
   "source": [
    "from sklearn import tree"
   ]
  },
  {
   "cell_type": "code",
   "execution_count": 8,
   "metadata": {},
   "outputs": [
    {
     "name": "stdout",
     "output_type": "stream",
     "text": [
      "CPU times: total: 250 ms\n",
      "Wall time: 1.08 s\n"
     ]
    }
   ],
   "source": [
    "%%time\n",
    "model_dt = tree.DecisionTreeClassifier()\n",
    "start = time.perf_counter()\n",
    "model_dt.fit(X_train,y_train)\n",
    "end = time.perf_counter()"
   ]
  },
  {
   "cell_type": "code",
   "execution_count": 9,
   "metadata": {},
   "outputs": [
    {
     "data": {
      "text/plain": [
       "array([[[ 9139,  1137],\n",
       "        [ 1024,  4004]],\n",
       "\n",
       "       [[10690,  1597],\n",
       "        [ 1577,  1440]],\n",
       "\n",
       "       [[ 6804,  1241],\n",
       "        [ 1374,  5885]]], dtype=int64)"
      ]
     },
     "execution_count": 9,
     "metadata": {},
     "output_type": "execute_result"
    }
   ],
   "source": [
    "y_pred = model_dt.predict(X_val)\n",
    "mat = multilabel_confusion_matrix(y_val,y_pred)\n",
    "mat"
   ]
  },
  {
   "cell_type": "code",
   "execution_count": 10,
   "metadata": {},
   "outputs": [
    {
     "data": {
      "text/plain": [
       "(0.6947845164786554, 0.7402639832723471)"
      ]
     },
     "execution_count": 10,
     "metadata": {},
     "output_type": "execute_result"
    }
   ],
   "source": [
    "balanced_accuracy_score(y_val,y_pred), accuracy_score(y_val,y_pred)"
   ]
  },
  {
   "cell_type": "code",
   "execution_count": 11,
   "metadata": {},
   "outputs": [
    {
     "name": "stdout",
     "output_type": "stream",
     "text": [
      "DECISION TREE - NO PREPROCESSING\n"
     ]
    },
    {
     "data": {
      "text/html": [
       "<div>\n",
       "<style scoped>\n",
       "    .dataframe tbody tr th:only-of-type {\n",
       "        vertical-align: middle;\n",
       "    }\n",
       "\n",
       "    .dataframe tbody tr th {\n",
       "        vertical-align: top;\n",
       "    }\n",
       "\n",
       "    .dataframe thead th {\n",
       "        text-align: right;\n",
       "    }\n",
       "</style>\n",
       "<table border=\"1\" class=\"dataframe\">\n",
       "  <thead>\n",
       "    <tr style=\"text-align: right;\">\n",
       "      <th></th>\n",
       "      <th>model</th>\n",
       "      <th>metrics</th>\n",
       "      <th>training_time(s)</th>\n",
       "    </tr>\n",
       "  </thead>\n",
       "  <tbody>\n",
       "    <tr>\n",
       "      <th>0</th>\n",
       "      <td>Decision_tree_no_preprocessing</td>\n",
       "      <td>{'0': {'precision': 0.7788368021785644, 'recal...</td>\n",
       "      <td>1.072654</td>\n",
       "    </tr>\n",
       "  </tbody>\n",
       "</table>\n",
       "</div>"
      ],
      "text/plain": [
       "                            model  \\\n",
       "0  Decision_tree_no_preprocessing   \n",
       "\n",
       "                                             metrics  training_time(s)  \n",
       "0  {'0': {'precision': 0.7788368021785644, 'recal...          1.072654  "
      ]
     },
     "execution_count": 11,
     "metadata": {},
     "output_type": "execute_result"
    }
   ],
   "source": [
    "print('DECISION TREE - NO PREPROCESSING')\n",
    "x = classification_report(y_val, y_pred, labels = sorted(list(set(y_enc))), digits=4, output_dict=True)\n",
    "models.append({'model':'Decision_tree_no_preprocessing', 'metrics': x, 'training_time(s)':(end-start)})\n",
    "pd.DataFrame(models)"
   ]
  },
  {
   "cell_type": "markdown",
   "metadata": {},
   "source": [
    "Next, let us use `SMOTE` (Synthetic Minority Over-sampling Technique) to oversample the minority classes"
   ]
  },
  {
   "cell_type": "code",
   "execution_count": 12,
   "metadata": {},
   "outputs": [],
   "source": [
    "from imblearn.over_sampling import SMOTE\n",
    "from collections import Counter"
   ]
  },
  {
   "cell_type": "code",
   "execution_count": 13,
   "metadata": {},
   "outputs": [
    {
     "name": "stdout",
     "output_type": "stream",
     "text": [
      "Before Oversampling [(0, 20268), (1, 11923), (2, 29023)]\n",
      "After Oversampling [(0, 29023), (1, 29023), (2, 29023)]\n"
     ]
    }
   ],
   "source": [
    "#Apply Over Sampling\n",
    "print(f'Before Oversampling {sorted(Counter(y_train).items())}')\n",
    "X_train1, y_train1 = SMOTE().fit_resample(X_train, y_train)\n",
    "print(f'After Oversampling {sorted(Counter(y_train1).items())}')"
   ]
  },
  {
   "cell_type": "code",
   "execution_count": 14,
   "metadata": {},
   "outputs": [
    {
     "name": "stdout",
     "output_type": "stream",
     "text": [
      "CPU times: total: 1.7 s\n",
      "Wall time: 6.15 s\n"
     ]
    }
   ],
   "source": [
    "%%time\n",
    "model_dt = tree.DecisionTreeClassifier()\n",
    "start = time.perf_counter()\n",
    "model_dt.fit(X_train1,y_train1)\n",
    "end = time.perf_counter()"
   ]
  },
  {
   "cell_type": "code",
   "execution_count": 15,
   "metadata": {},
   "outputs": [
    {
     "data": {
      "text/plain": [
       "array([[[ 9187,  1089],\n",
       "        [ 1027,  4001]],\n",
       "\n",
       "       [[10681,  1606],\n",
       "        [ 1502,  1515]],\n",
       "\n",
       "       [[ 6863,  1182],\n",
       "        [ 1348,  5911]]], dtype=int64)"
      ]
     },
     "execution_count": 15,
     "metadata": {},
     "output_type": "execute_result"
    }
   ],
   "source": [
    "y_pred = model_dt.predict(X_val)\n",
    "mat = multilabel_confusion_matrix(y_val,y_pred)\n",
    "mat"
   ]
  },
  {
   "cell_type": "code",
   "execution_count": 16,
   "metadata": {},
   "outputs": [
    {
     "data": {
      "text/plain": [
       "(0.7040659276285002, 0.7466675378985886)"
      ]
     },
     "execution_count": 16,
     "metadata": {},
     "output_type": "execute_result"
    }
   ],
   "source": [
    "balanced_accuracy_score(y_val,y_pred), accuracy_score(y_val,y_pred)"
   ]
  },
  {
   "cell_type": "code",
   "execution_count": 17,
   "metadata": {},
   "outputs": [
    {
     "name": "stdout",
     "output_type": "stream",
     "text": [
      "DECISION TREE - SMOTE\n"
     ]
    },
    {
     "data": {
      "text/html": [
       "<div>\n",
       "<style scoped>\n",
       "    .dataframe tbody tr th:only-of-type {\n",
       "        vertical-align: middle;\n",
       "    }\n",
       "\n",
       "    .dataframe tbody tr th {\n",
       "        vertical-align: top;\n",
       "    }\n",
       "\n",
       "    .dataframe thead th {\n",
       "        text-align: right;\n",
       "    }\n",
       "</style>\n",
       "<table border=\"1\" class=\"dataframe\">\n",
       "  <thead>\n",
       "    <tr style=\"text-align: right;\">\n",
       "      <th></th>\n",
       "      <th>model</th>\n",
       "      <th>metrics</th>\n",
       "      <th>training_time(s)</th>\n",
       "    </tr>\n",
       "  </thead>\n",
       "  <tbody>\n",
       "    <tr>\n",
       "      <th>0</th>\n",
       "      <td>Decision_tree_no_preprocessing</td>\n",
       "      <td>{'0': {'precision': 0.7788368021785644, 'recal...</td>\n",
       "      <td>1.072654</td>\n",
       "    </tr>\n",
       "    <tr>\n",
       "      <th>1</th>\n",
       "      <td>Decision_tree_oversampling</td>\n",
       "      <td>{'0': {'precision': 0.7860510805500982, 'recal...</td>\n",
       "      <td>6.156376</td>\n",
       "    </tr>\n",
       "  </tbody>\n",
       "</table>\n",
       "</div>"
      ],
      "text/plain": [
       "                            model  \\\n",
       "0  Decision_tree_no_preprocessing   \n",
       "1      Decision_tree_oversampling   \n",
       "\n",
       "                                             metrics  training_time(s)  \n",
       "0  {'0': {'precision': 0.7788368021785644, 'recal...          1.072654  \n",
       "1  {'0': {'precision': 0.7860510805500982, 'recal...          6.156376  "
      ]
     },
     "execution_count": 17,
     "metadata": {},
     "output_type": "execute_result"
    }
   ],
   "source": [
    "print('DECISION TREE - SMOTE')\n",
    "x = classification_report(y_val, y_pred, labels = sorted(list(set(y_enc))), digits=4, output_dict=True)\n",
    "models.append({'model':'Decision_tree_oversampling', 'metrics': x, 'training_time(s)':(end-start)})\n",
    "pd.DataFrame(models)"
   ]
  },
  {
   "cell_type": "markdown",
   "metadata": {},
   "source": [
    "Let us try an undersampler"
   ]
  },
  {
   "cell_type": "code",
   "execution_count": 18,
   "metadata": {},
   "outputs": [],
   "source": [
    "from imblearn.under_sampling import RandomUnderSampler"
   ]
  },
  {
   "cell_type": "code",
   "execution_count": 19,
   "metadata": {},
   "outputs": [
    {
     "name": "stdout",
     "output_type": "stream",
     "text": [
      "Before Undersampling [(0, 20268), (1, 11923), (2, 29023)]\n",
      "After Undersampling [(0, 11923), (1, 11923), (2, 11923)]\n"
     ]
    }
   ],
   "source": [
    "#Apply Random Under Sampling\n",
    "rus = RandomUnderSampler(random_state=0)\n",
    "print(f'Before Undersampling {sorted(Counter(y_train).items())}')\n",
    "X_train1, y_train1 =rus.fit_resample(X_train, y_train)\n",
    "print(f'After Undersampling {sorted(Counter(y_train1).items())}')"
   ]
  },
  {
   "cell_type": "code",
   "execution_count": 20,
   "metadata": {},
   "outputs": [
    {
     "name": "stdout",
     "output_type": "stream",
     "text": [
      "CPU times: total: 750 ms\n",
      "Wall time: 1.56 s\n"
     ]
    }
   ],
   "source": [
    "%%time\n",
    "model_dt = tree.DecisionTreeClassifier()\n",
    "start = time.perf_counter()\n",
    "model_dt.fit(X_train1,y_train1)\n",
    "end = time.perf_counter()"
   ]
  },
  {
   "cell_type": "code",
   "execution_count": 21,
   "metadata": {},
   "outputs": [
    {
     "data": {
      "text/plain": [
       "array([[[9230, 1046],\n",
       "        [1165, 3863]],\n",
       "\n",
       "       [[9866, 2421],\n",
       "        [1203, 1814]],\n",
       "\n",
       "       [[7135,  910],\n",
       "        [2009, 5250]]], dtype=int64)"
      ]
     },
     "execution_count": 21,
     "metadata": {},
     "output_type": "execute_result"
    }
   ],
   "source": [
    "y_pred = model_dt.predict(X_val)\n",
    "mat = multilabel_confusion_matrix(y_val,y_pred)\n",
    "mat"
   ]
  },
  {
   "cell_type": "code",
   "execution_count": 22,
   "metadata": {},
   "outputs": [
    {
     "data": {
      "text/plain": [
       "(0.6975990596209515, 0.7139963408259279)"
      ]
     },
     "execution_count": 22,
     "metadata": {},
     "output_type": "execute_result"
    }
   ],
   "source": [
    "balanced_accuracy_score(y_val,y_pred), accuracy_score(y_val,y_pred)"
   ]
  },
  {
   "cell_type": "code",
   "execution_count": 23,
   "metadata": {},
   "outputs": [
    {
     "name": "stdout",
     "output_type": "stream",
     "text": [
      "DECISION TREE - Random Undersampler\n"
     ]
    },
    {
     "data": {
      "text/html": [
       "<div>\n",
       "<style scoped>\n",
       "    .dataframe tbody tr th:only-of-type {\n",
       "        vertical-align: middle;\n",
       "    }\n",
       "\n",
       "    .dataframe tbody tr th {\n",
       "        vertical-align: top;\n",
       "    }\n",
       "\n",
       "    .dataframe thead th {\n",
       "        text-align: right;\n",
       "    }\n",
       "</style>\n",
       "<table border=\"1\" class=\"dataframe\">\n",
       "  <thead>\n",
       "    <tr style=\"text-align: right;\">\n",
       "      <th></th>\n",
       "      <th>model</th>\n",
       "      <th>metrics</th>\n",
       "      <th>training_time(s)</th>\n",
       "    </tr>\n",
       "  </thead>\n",
       "  <tbody>\n",
       "    <tr>\n",
       "      <th>0</th>\n",
       "      <td>Decision_tree_no_preprocessing</td>\n",
       "      <td>{'0': {'precision': 0.7788368021785644, 'recal...</td>\n",
       "      <td>1.072654</td>\n",
       "    </tr>\n",
       "    <tr>\n",
       "      <th>1</th>\n",
       "      <td>Decision_tree_oversampling</td>\n",
       "      <td>{'0': {'precision': 0.7860510805500982, 'recal...</td>\n",
       "      <td>6.156376</td>\n",
       "    </tr>\n",
       "    <tr>\n",
       "      <th>2</th>\n",
       "      <td>Decision_tree_undersampling</td>\n",
       "      <td>{'0': {'precision': 0.7869219800366674, 'recal...</td>\n",
       "      <td>1.553906</td>\n",
       "    </tr>\n",
       "  </tbody>\n",
       "</table>\n",
       "</div>"
      ],
      "text/plain": [
       "                            model  \\\n",
       "0  Decision_tree_no_preprocessing   \n",
       "1      Decision_tree_oversampling   \n",
       "2     Decision_tree_undersampling   \n",
       "\n",
       "                                             metrics  training_time(s)  \n",
       "0  {'0': {'precision': 0.7788368021785644, 'recal...          1.072654  \n",
       "1  {'0': {'precision': 0.7860510805500982, 'recal...          6.156376  \n",
       "2  {'0': {'precision': 0.7869219800366674, 'recal...          1.553906  "
      ]
     },
     "execution_count": 23,
     "metadata": {},
     "output_type": "execute_result"
    }
   ],
   "source": [
    "print('DECISION TREE - Random Undersampler')\n",
    "x = classification_report(y_val, y_pred, labels = sorted(list(set(y_enc))), digits=4, output_dict=True)\n",
    "models.append({'model':'Decision_tree_undersampling', 'metrics': x, 'training_time(s)':(end-start)})\n",
    "pd.DataFrame(models)"
   ]
  },
  {
   "cell_type": "markdown",
   "metadata": {},
   "source": [
    "So, the performance is not vastly affected by the oversampling or undersampling => Decision tree is robust to imbalanced data\n",
    "\n",
    "### Random Forest"
   ]
  },
  {
   "cell_type": "code",
   "execution_count": 24,
   "metadata": {},
   "outputs": [],
   "source": [
    "from sklearn.ensemble import RandomForestClassifier"
   ]
  },
  {
   "cell_type": "code",
   "execution_count": 25,
   "metadata": {},
   "outputs": [
    {
     "name": "stdout",
     "output_type": "stream",
     "text": [
      "n_estimators: 5, time_taken: 1.880500299972482s, accuracy: 0.7921458442237324\n",
      "n_estimators: 10, time_taken: 4.305032300006133s, accuracy: 0.8080240460010455\n",
      "n_estimators: 20, time_taken: 7.905312299961224s, accuracy: 0.8173680083638265\n",
      "n_estimators: 50, time_taken: 11.448170099989511s, accuracy: 0.8253397804495557\n",
      "n_estimators: 100, time_taken: 19.88295959995594s, accuracy: 0.829064296915839\n",
      "n_estimators: 200, time_taken: 32.86680700001307s, accuracy: 0.8289989545216937\n",
      "n_estimators: 300, time_taken: 103.13362519996008s, accuracy: 0.8285415577626765\n"
     ]
    }
   ],
   "source": [
    "estims = [5,10,20,50,100,200,300]\n",
    "model = RandomForestClassifier()\n",
    "acc,tim = [], []\n",
    "for x in estims:\n",
    "    model = RandomForestClassifier(n_estimators=x,warm_start=True)\n",
    "    start = time.perf_counter()\n",
    "    model.fit(X_train,y_train)\n",
    "    end = time.perf_counter()\n",
    "    y_pred = model.predict(X_val)\n",
    "    _acc = accuracy_score(y_val,y_pred)\n",
    "    tim.append(end-start)\n",
    "    print(f'n_estimators: {x}, time_taken: {end-start}s, accuracy: {_acc}')\n",
    "    acc.append(_acc)"
   ]
  },
  {
   "cell_type": "code",
   "execution_count": 26,
   "metadata": {},
   "outputs": [
    {
     "data": {
      "text/plain": [
       "array([0.00261352, 0.01614678, 0.01182737, 0.0227489 , 0.00187919,\n",
       "       0.00389177, 0.03333774, 0.00065024, 0.01733171, 0.01729405,\n",
       "       0.01926365, 0.02374468, 0.04071813, 0.00697674, 0.00065148,\n",
       "       0.00704927, 0.03136767, 0.01033145, 0.01962777, 0.03166889,\n",
       "       0.00049027, 0.00275186, 0.01041268, 0.04227826, 0.11143002,\n",
       "       0.09587525, 0.00229438, 0.00202832, 0.01309029, 0.04971184,\n",
       "       0.1816168 , 0.11436349, 0.00255971, 0.01786807, 0.01626294,\n",
       "       0.01784479])"
      ]
     },
     "execution_count": 26,
     "metadata": {},
     "output_type": "execute_result"
    }
   ],
   "source": [
    "model.feature_importances_"
   ]
  },
  {
   "cell_type": "code",
   "execution_count": 27,
   "metadata": {},
   "outputs": [
    {
     "data": {
      "text/html": [
       "<div>\n",
       "<style scoped>\n",
       "    .dataframe tbody tr th:only-of-type {\n",
       "        vertical-align: middle;\n",
       "    }\n",
       "\n",
       "    .dataframe tbody tr th {\n",
       "        vertical-align: top;\n",
       "    }\n",
       "\n",
       "    .dataframe thead th {\n",
       "        text-align: right;\n",
       "    }\n",
       "</style>\n",
       "<table border=\"1\" class=\"dataframe\">\n",
       "  <thead>\n",
       "    <tr style=\"text-align: right;\">\n",
       "      <th></th>\n",
       "      <th>model</th>\n",
       "      <th>metrics</th>\n",
       "      <th>training_time(s)</th>\n",
       "    </tr>\n",
       "  </thead>\n",
       "  <tbody>\n",
       "    <tr>\n",
       "      <th>0</th>\n",
       "      <td>Decision_tree_no_preprocessing</td>\n",
       "      <td>{'0': {'precision': 0.7788368021785644, 'recal...</td>\n",
       "      <td>1.072654</td>\n",
       "    </tr>\n",
       "    <tr>\n",
       "      <th>1</th>\n",
       "      <td>Decision_tree_oversampling</td>\n",
       "      <td>{'0': {'precision': 0.7860510805500982, 'recal...</td>\n",
       "      <td>6.156376</td>\n",
       "    </tr>\n",
       "    <tr>\n",
       "      <th>2</th>\n",
       "      <td>Decision_tree_undersampling</td>\n",
       "      <td>{'0': {'precision': 0.7869219800366674, 'recal...</td>\n",
       "      <td>1.553906</td>\n",
       "    </tr>\n",
       "    <tr>\n",
       "      <th>3</th>\n",
       "      <td>RandomForest_no_preprocessing</td>\n",
       "      <td>{'0': {'precision': 0.902131361461505, 'recall...</td>\n",
       "      <td>103.133625</td>\n",
       "    </tr>\n",
       "  </tbody>\n",
       "</table>\n",
       "</div>"
      ],
      "text/plain": [
       "                            model  \\\n",
       "0  Decision_tree_no_preprocessing   \n",
       "1      Decision_tree_oversampling   \n",
       "2     Decision_tree_undersampling   \n",
       "3   RandomForest_no_preprocessing   \n",
       "\n",
       "                                             metrics  training_time(s)  \n",
       "0  {'0': {'precision': 0.7788368021785644, 'recal...          1.072654  \n",
       "1  {'0': {'precision': 0.7860510805500982, 'recal...          6.156376  \n",
       "2  {'0': {'precision': 0.7869219800366674, 'recal...          1.553906  \n",
       "3  {'0': {'precision': 0.902131361461505, 'recall...        103.133625  "
      ]
     },
     "execution_count": 27,
     "metadata": {},
     "output_type": "execute_result"
    }
   ],
   "source": [
    "y_pred = model.predict(X_val)\n",
    "x = classification_report(y_val, y_pred, digits=4, labels=sorted(list(set(y_enc))), output_dict=True)\n",
    "models.append({'model': 'RandomForest_no_preprocessing', 'metrics': x, 'training_time(s)': tim[-1]})\n",
    "pd.DataFrame(models)"
   ]
  },
  {
   "cell_type": "code",
   "execution_count": 28,
   "metadata": {},
   "outputs": [
    {
     "data": {
      "text/plain": [
       "Text(0.5, 1.0, 'Training time')"
      ]
     },
     "execution_count": 28,
     "metadata": {},
     "output_type": "execute_result"
    },
    {
     "data": {
      "image/png": "[encoded data removed]",
      "text/plain": [
       "<Figure size 1000x500 with 2 Axes>"
      ]
     },
     "metadata": {},
     "output_type": "display_data"
    }
   ],
   "source": [
    "fig = plt.figure(figsize=(10,5))\n",
    "\n",
    "ax1 = fig.add_subplot(121)\n",
    "ax1.plot(estims,acc)\n",
    "ax1.set_title('Accuracy')\n",
    "\n",
    "ax2 = fig.add_subplot(122)\n",
    "ax2.plot(estims,tim)\n",
    "ax2.set_title('Training time')"
   ]
  },
  {
   "cell_type": "markdown",
   "metadata": {},
   "source": [
    "Try with SMOTE"
   ]
  },
  {
   "cell_type": "code",
   "execution_count": 29,
   "metadata": {},
   "outputs": [
    {
     "name": "stdout",
     "output_type": "stream",
     "text": [
      "n_estimators: 5, time_taken: 6.136870199989062s, accuracy: 0.7922111866178777\n",
      "n_estimators: 10, time_taken: 11.771326199988835s, accuracy: 0.8102456874019864\n",
      "n_estimators: 20, time_taken: 22.206744999974035s, accuracy: 0.8194589649764767\n",
      "n_estimators: 50, time_taken: 61.13696009997511s, accuracy: 0.8254704652378463\n",
      "n_estimators: 100, time_taken: 108.4488246999681s, accuracy: 0.8274960794563513\n",
      "n_estimators: 200, time_taken: 219.9635470000212s, accuracy: 0.8278227914270779\n",
      "n_estimators: 300, time_taken: 316.3382472000085s, accuracy: 0.8262545739675902\n"
     ]
    }
   ],
   "source": [
    "X_train1, y_train1 = SMOTE().fit_resample(X_train,y_train)\n",
    "estims = [5,10,20,50,100,200,300]\n",
    "model = RandomForestClassifier()\n",
    "acc,tim = [], []\n",
    "for x in estims:\n",
    "    model = RandomForestClassifier(n_estimators=x,warm_start=True)\n",
    "    start = time.perf_counter()\n",
    "    model.fit(X_train1,y_train1)\n",
    "    end = time.perf_counter()\n",
    "    y_pred = model.predict(X_val)\n",
    "    _acc = accuracy_score(y_val,y_pred)\n",
    "    tim.append(end-start)\n",
    "    print(f'n_estimators: {x}, time_taken: {end-start}s, accuracy: {_acc}')\n",
    "    acc.append(_acc)"
   ]
  },
  {
   "cell_type": "code",
   "execution_count": 30,
   "metadata": {},
   "outputs": [
    {
     "data": {
      "text/plain": [
       "array([0.00278641, 0.01322363, 0.01131421, 0.01856088, 0.00162874,\n",
       "       0.00368339, 0.02735897, 0.00059285, 0.01533571, 0.01492784,\n",
       "       0.01791813, 0.02179159, 0.03174534, 0.00894498, 0.00079443,\n",
       "       0.00926347, 0.03822867, 0.01726556, 0.03580048, 0.02842272,\n",
       "       0.00048648, 0.00275481, 0.01380957, 0.05094282, 0.1181322 ,\n",
       "       0.07186738, 0.00234549, 0.00217779, 0.01461049, 0.05968798,\n",
       "       0.17983013, 0.11075862, 0.00253318, 0.01722765, 0.01580187,\n",
       "       0.01744553])"
      ]
     },
     "execution_count": 30,
     "metadata": {},
     "output_type": "execute_result"
    }
   ],
   "source": [
    "model.feature_importances_"
   ]
  },
  {
   "cell_type": "code",
   "execution_count": 31,
   "metadata": {},
   "outputs": [
    {
     "data": {
      "text/html": [
       "<div>\n",
       "<style scoped>\n",
       "    .dataframe tbody tr th:only-of-type {\n",
       "        vertical-align: middle;\n",
       "    }\n",
       "\n",
       "    .dataframe tbody tr th {\n",
       "        vertical-align: top;\n",
       "    }\n",
       "\n",
       "    .dataframe thead th {\n",
       "        text-align: right;\n",
       "    }\n",
       "</style>\n",
       "<table border=\"1\" class=\"dataframe\">\n",
       "  <thead>\n",
       "    <tr style=\"text-align: right;\">\n",
       "      <th></th>\n",
       "      <th>model</th>\n",
       "      <th>metrics</th>\n",
       "      <th>training_time(s)</th>\n",
       "    </tr>\n",
       "  </thead>\n",
       "  <tbody>\n",
       "    <tr>\n",
       "      <th>0</th>\n",
       "      <td>Decision_tree_no_preprocessing</td>\n",
       "      <td>{'0': {'precision': 0.7788368021785644, 'recal...</td>\n",
       "      <td>1.072654</td>\n",
       "    </tr>\n",
       "    <tr>\n",
       "      <th>1</th>\n",
       "      <td>Decision_tree_oversampling</td>\n",
       "      <td>{'0': {'precision': 0.7860510805500982, 'recal...</td>\n",
       "      <td>6.156376</td>\n",
       "    </tr>\n",
       "    <tr>\n",
       "      <th>2</th>\n",
       "      <td>Decision_tree_undersampling</td>\n",
       "      <td>{'0': {'precision': 0.7869219800366674, 'recal...</td>\n",
       "      <td>1.553906</td>\n",
       "    </tr>\n",
       "    <tr>\n",
       "      <th>3</th>\n",
       "      <td>RandomForest_no_preprocessing</td>\n",
       "      <td>{'0': {'precision': 0.902131361461505, 'recall...</td>\n",
       "      <td>103.133625</td>\n",
       "    </tr>\n",
       "    <tr>\n",
       "      <th>4</th>\n",
       "      <td>RandomForest_oversampling</td>\n",
       "      <td>{'0': {'precision': 0.9071915548713437, 'recal...</td>\n",
       "      <td>316.338247</td>\n",
       "    </tr>\n",
       "  </tbody>\n",
       "</table>\n",
       "</div>"
      ],
      "text/plain": [
       "                            model  \\\n",
       "0  Decision_tree_no_preprocessing   \n",
       "1      Decision_tree_oversampling   \n",
       "2     Decision_tree_undersampling   \n",
       "3   RandomForest_no_preprocessing   \n",
       "4       RandomForest_oversampling   \n",
       "\n",
       "                                             metrics  training_time(s)  \n",
       "0  {'0': {'precision': 0.7788368021785644, 'recal...          1.072654  \n",
       "1  {'0': {'precision': 0.7860510805500982, 'recal...          6.156376  \n",
       "2  {'0': {'precision': 0.7869219800366674, 'recal...          1.553906  \n",
       "3  {'0': {'precision': 0.902131361461505, 'recall...        103.133625  \n",
       "4  {'0': {'precision': 0.9071915548713437, 'recal...        316.338247  "
      ]
     },
     "execution_count": 31,
     "metadata": {},
     "output_type": "execute_result"
    }
   ],
   "source": [
    "y_pred = model.predict(X_val)\n",
    "x = classification_report(y_val, y_pred, digits=4, labels=sorted(list(set(y_enc))), output_dict=True)\n",
    "models.append({'model': 'RandomForest_oversampling', 'metrics': x, 'training_time(s)': tim[-1]})\n",
    "pd.DataFrame(models)"
   ]
  },
  {
   "cell_type": "code",
   "execution_count": 32,
   "metadata": {},
   "outputs": [
    {
     "data": {
      "text/plain": [
       "Text(0.5, 1.0, 'Training time')"
      ]
     },
     "execution_count": 32,
     "metadata": {},
     "output_type": "execute_result"
    },
    {
     "data": {
      "image/png": "[encoded data removed]",
      "text/plain": [
       "<Figure size 1000x500 with 2 Axes>"
      ]
     },
     "metadata": {},
     "output_type": "display_data"
    }
   ],
   "source": [
    "fig = plt.figure(figsize=(10,5))\n",
    "\n",
    "ax1 = fig.add_subplot(121)\n",
    "ax1.plot(estims,acc)\n",
    "ax1.set_title('Accuracy')\n",
    "\n",
    "ax2 = fig.add_subplot(122)\n",
    "ax2.plot(estims,tim)\n",
    "ax2.set_title('Training time')\n"
   ]
  },
  {
   "cell_type": "markdown",
   "metadata": {},
   "source": [
    "Let's try Undersampling"
   ]
  },
  {
   "cell_type": "code",
   "execution_count": 33,
   "metadata": {},
   "outputs": [
    {
     "name": "stdout",
     "output_type": "stream",
     "text": [
      "n_estimators: 5, time_taken: 1.215120200009551s, accuracy: 0.7726738107684266\n",
      "n_estimators: 10, time_taken: 2.4869209000025876s, accuracy: 0.7862650287506534\n",
      "n_estimators: 20, time_taken: 5.6522107000346296s, accuracy: 0.7988107684265552\n",
      "n_estimators: 50, time_taken: 13.600283700041473s, accuracy: 0.8065211709357031\n",
      "n_estimators: 100, time_taken: 14.293012399983127s, accuracy: 0.8100496602195505\n",
      "n_estimators: 200, time_taken: 49.51520409999648s, accuracy: 0.8077626764244642\n",
      "n_estimators: 300, time_taken: 74.57709800003795s, accuracy: 0.8085467851542081\n"
     ]
    }
   ],
   "source": [
    "X_train1, y_train1 = RandomUnderSampler().fit_resample(X_train,y_train)\n",
    "estims = [5,10,20,50,100,200,300]\n",
    "model = RandomForestClassifier()\n",
    "acc,tim = [], []\n",
    "for x in estims:\n",
    "    model = RandomForestClassifier(n_estimators=x,warm_start=True)\n",
    "    start = time.perf_counter()\n",
    "    model.fit(X_train1,y_train1)\n",
    "    end = time.perf_counter()\n",
    "    y_pred = model.predict(X_val)\n",
    "    _acc = accuracy_score(y_val,y_pred)\n",
    "    tim.append(end-start)\n",
    "    print(f'n_estimators: {x}, time_taken: {end-start}s, accuracy: {_acc}')\n",
    "    acc.append(_acc)"
   ]
  },
  {
   "cell_type": "code",
   "execution_count": 34,
   "metadata": {},
   "outputs": [
    {
     "data": {
      "text/plain": [
       "array([0.00296302, 0.01743689, 0.01295436, 0.02484843, 0.00223617,\n",
       "       0.00458966, 0.03634419, 0.00073488, 0.01907915, 0.01890366,\n",
       "       0.02150847, 0.02643342, 0.04386891, 0.007576  , 0.00068839,\n",
       "       0.00741115, 0.03095305, 0.00909464, 0.01995946, 0.03183902,\n",
       "       0.00060155, 0.00305927, 0.01202311, 0.05142871, 0.08994126,\n",
       "       0.08863221, 0.00255271, 0.00227369, 0.01436506, 0.05813241,\n",
       "       0.15243657, 0.12404515, 0.00280323, 0.01977396, 0.01814238,\n",
       "       0.0203658 ])"
      ]
     },
     "execution_count": 34,
     "metadata": {},
     "output_type": "execute_result"
    }
   ],
   "source": [
    "model.feature_importances_"
   ]
  },
  {
   "cell_type": "code",
   "execution_count": 35,
   "metadata": {},
   "outputs": [
    {
     "data": {
      "text/html": [
       "<div>\n",
       "<style scoped>\n",
       "    .dataframe tbody tr th:only-of-type {\n",
       "        vertical-align: middle;\n",
       "    }\n",
       "\n",
       "    .dataframe tbody tr th {\n",
       "        vertical-align: top;\n",
       "    }\n",
       "\n",
       "    .dataframe thead th {\n",
       "        text-align: right;\n",
       "    }\n",
       "</style>\n",
       "<table border=\"1\" class=\"dataframe\">\n",
       "  <thead>\n",
       "    <tr style=\"text-align: right;\">\n",
       "      <th></th>\n",
       "      <th>model</th>\n",
       "      <th>metrics</th>\n",
       "      <th>training_time(s)</th>\n",
       "    </tr>\n",
       "  </thead>\n",
       "  <tbody>\n",
       "    <tr>\n",
       "      <th>0</th>\n",
       "      <td>Decision_tree_no_preprocessing</td>\n",
       "      <td>{'0': {'precision': 0.7788368021785644, 'recal...</td>\n",
       "      <td>1.072654</td>\n",
       "    </tr>\n",
       "    <tr>\n",
       "      <th>1</th>\n",
       "      <td>Decision_tree_oversampling</td>\n",
       "      <td>{'0': {'precision': 0.7860510805500982, 'recal...</td>\n",
       "      <td>6.156376</td>\n",
       "    </tr>\n",
       "    <tr>\n",
       "      <th>2</th>\n",
       "      <td>Decision_tree_undersampling</td>\n",
       "      <td>{'0': {'precision': 0.7869219800366674, 'recal...</td>\n",
       "      <td>1.553906</td>\n",
       "    </tr>\n",
       "    <tr>\n",
       "      <th>3</th>\n",
       "      <td>RandomForest_no_preprocessing</td>\n",
       "      <td>{'0': {'precision': 0.902131361461505, 'recall...</td>\n",
       "      <td>103.133625</td>\n",
       "    </tr>\n",
       "    <tr>\n",
       "      <th>4</th>\n",
       "      <td>RandomForest_oversampling</td>\n",
       "      <td>{'0': {'precision': 0.9071915548713437, 'recal...</td>\n",
       "      <td>316.338247</td>\n",
       "    </tr>\n",
       "    <tr>\n",
       "      <th>5</th>\n",
       "      <td>RandomForest_undersampling</td>\n",
       "      <td>{'0': {'precision': 0.9196222938737909, 'recal...</td>\n",
       "      <td>74.577098</td>\n",
       "    </tr>\n",
       "  </tbody>\n",
       "</table>\n",
       "</div>"
      ],
      "text/plain": [
       "                            model  \\\n",
       "0  Decision_tree_no_preprocessing   \n",
       "1      Decision_tree_oversampling   \n",
       "2     Decision_tree_undersampling   \n",
       "3   RandomForest_no_preprocessing   \n",
       "4       RandomForest_oversampling   \n",
       "5      RandomForest_undersampling   \n",
       "\n",
       "                                             metrics  training_time(s)  \n",
       "0  {'0': {'precision': 0.7788368021785644, 'recal...          1.072654  \n",
       "1  {'0': {'precision': 0.7860510805500982, 'recal...          6.156376  \n",
       "2  {'0': {'precision': 0.7869219800366674, 'recal...          1.553906  \n",
       "3  {'0': {'precision': 0.902131361461505, 'recall...        103.133625  \n",
       "4  {'0': {'precision': 0.9071915548713437, 'recal...        316.338247  \n",
       "5  {'0': {'precision': 0.9196222938737909, 'recal...         74.577098  "
      ]
     },
     "execution_count": 35,
     "metadata": {},
     "output_type": "execute_result"
    }
   ],
   "source": [
    "y_pred = model.predict(X_val)\n",
    "x = classification_report(y_val, y_pred, digits=4, labels=sorted(list(set(y_enc))), output_dict=True)\n",
    "models.append({'model': 'RandomForest_undersampling', 'metrics': x, 'training_time(s)': tim[-1]})\n",
    "pd.DataFrame(models)"
   ]
  },
  {
   "cell_type": "code",
   "execution_count": 36,
   "metadata": {},
   "outputs": [
    {
     "data": {
      "text/plain": [
       "Text(0.5, 1.0, 'Training time')"
      ]
     },
     "execution_count": 36,
     "metadata": {},
     "output_type": "execute_result"
    },
    {
     "data": {
      "image/png": "[encoded data removed]",
      "text/plain": [
       "<Figure size 1000x500 with 2 Axes>"
      ]
     },
     "metadata": {},
     "output_type": "display_data"
    }
   ],
   "source": [
    "fig = plt.figure(figsize=(10,5))\n",
    "\n",
    "ax1 = fig.add_subplot(121)\n",
    "ax1.plot(estims,acc)\n",
    "ax1.set_title('Accuracy')\n",
    "\n",
    "ax2 = fig.add_subplot(122)\n",
    "ax2.plot(estims,tim)\n",
    "ax2.set_title('Training time')\n"
   ]
  },
  {
   "cell_type": "markdown",
   "metadata": {},
   "source": [
    "### Naive Bayes"
   ]
  },
  {
   "cell_type": "code",
   "execution_count": 37,
   "metadata": {},
   "outputs": [],
   "source": [
    "from sklearn.naive_bayes import GaussianNB"
   ]
  },
  {
   "cell_type": "code",
   "execution_count": 38,
   "metadata": {},
   "outputs": [
    {
     "name": "stdout",
     "output_type": "stream",
     "text": [
      "CPU times: total: 15.6 ms\n",
      "Wall time: 156 ms\n"
     ]
    }
   ],
   "source": [
    "%%time\n",
    "model_nb = GaussianNB()\n",
    "start = time.perf_counter()\n",
    "model_nb.fit(X_train, y_train)\n",
    "end = time.perf_counter()"
   ]
  },
  {
   "cell_type": "code",
   "execution_count": 39,
   "metadata": {},
   "outputs": [
    {
     "data": {
      "text/plain": [
       "array([[[ 9641,   635],\n",
       "        [ 1027,  4001]],\n",
       "\n",
       "       [[11091,  1196],\n",
       "        [ 1689,  1328]],\n",
       "\n",
       "       [[ 6313,  1732],\n",
       "        [  847,  6412]]], dtype=int64)"
      ]
     },
     "execution_count": 39,
     "metadata": {},
     "output_type": "execute_result"
    }
   ],
   "source": [
    "y_pred = model_nb.predict(X_val)\n",
    "mat = multilabel_confusion_matrix(y_val,y_pred)\n",
    "mat"
   ]
  },
  {
   "cell_type": "code",
   "execution_count": 40,
   "metadata": {},
   "outputs": [
    {
     "data": {
      "text/plain": [
       "(0.7064111508343623, 0.7671850496602195)"
      ]
     },
     "execution_count": 40,
     "metadata": {},
     "output_type": "execute_result"
    }
   ],
   "source": [
    "balanced_accuracy_score(y_val,y_pred), accuracy_score(y_val,y_pred)"
   ]
  },
  {
   "cell_type": "code",
   "execution_count": 41,
   "metadata": {},
   "outputs": [
    {
     "name": "stdout",
     "output_type": "stream",
     "text": [
      "NAIVE BAYES - No preprocessing\n"
     ]
    },
    {
     "data": {
      "text/html": [
       "<div>\n",
       "<style scoped>\n",
       "    .dataframe tbody tr th:only-of-type {\n",
       "        vertical-align: middle;\n",
       "    }\n",
       "\n",
       "    .dataframe tbody tr th {\n",
       "        vertical-align: top;\n",
       "    }\n",
       "\n",
       "    .dataframe thead th {\n",
       "        text-align: right;\n",
       "    }\n",
       "</style>\n",
       "<table border=\"1\" class=\"dataframe\">\n",
       "  <thead>\n",
       "    <tr style=\"text-align: right;\">\n",
       "      <th></th>\n",
       "      <th>model</th>\n",
       "      <th>metrics</th>\n",
       "      <th>training_time(s)</th>\n",
       "    </tr>\n",
       "  </thead>\n",
       "  <tbody>\n",
       "    <tr>\n",
       "      <th>0</th>\n",
       "      <td>Decision_tree_no_preprocessing</td>\n",
       "      <td>{'0': {'precision': 0.7788368021785644, 'recal...</td>\n",
       "      <td>1.072654</td>\n",
       "    </tr>\n",
       "    <tr>\n",
       "      <th>1</th>\n",
       "      <td>Decision_tree_oversampling</td>\n",
       "      <td>{'0': {'precision': 0.7860510805500982, 'recal...</td>\n",
       "      <td>6.156376</td>\n",
       "    </tr>\n",
       "    <tr>\n",
       "      <th>2</th>\n",
       "      <td>Decision_tree_undersampling</td>\n",
       "      <td>{'0': {'precision': 0.7869219800366674, 'recal...</td>\n",
       "      <td>1.553906</td>\n",
       "    </tr>\n",
       "    <tr>\n",
       "      <th>3</th>\n",
       "      <td>RandomForest_no_preprocessing</td>\n",
       "      <td>{'0': {'precision': 0.902131361461505, 'recall...</td>\n",
       "      <td>103.133625</td>\n",
       "    </tr>\n",
       "    <tr>\n",
       "      <th>4</th>\n",
       "      <td>RandomForest_oversampling</td>\n",
       "      <td>{'0': {'precision': 0.9071915548713437, 'recal...</td>\n",
       "      <td>316.338247</td>\n",
       "    </tr>\n",
       "    <tr>\n",
       "      <th>5</th>\n",
       "      <td>RandomForest_undersampling</td>\n",
       "      <td>{'0': {'precision': 0.9196222938737909, 'recal...</td>\n",
       "      <td>74.577098</td>\n",
       "    </tr>\n",
       "    <tr>\n",
       "      <th>6</th>\n",
       "      <td>Naive_Bayes_no_preprocessing</td>\n",
       "      <td>{'0': {'precision': 0.8630284728213977, 'recal...</td>\n",
       "      <td>0.153431</td>\n",
       "    </tr>\n",
       "  </tbody>\n",
       "</table>\n",
       "</div>"
      ],
      "text/plain": [
       "                            model  \\\n",
       "0  Decision_tree_no_preprocessing   \n",
       "1      Decision_tree_oversampling   \n",
       "2     Decision_tree_undersampling   \n",
       "3   RandomForest_no_preprocessing   \n",
       "4       RandomForest_oversampling   \n",
       "5      RandomForest_undersampling   \n",
       "6    Naive_Bayes_no_preprocessing   \n",
       "\n",
       "                                             metrics  training_time(s)  \n",
       "0  {'0': {'precision': 0.7788368021785644, 'recal...          1.072654  \n",
       "1  {'0': {'precision': 0.7860510805500982, 'recal...          6.156376  \n",
       "2  {'0': {'precision': 0.7869219800366674, 'recal...          1.553906  \n",
       "3  {'0': {'precision': 0.902131361461505, 'recall...        103.133625  \n",
       "4  {'0': {'precision': 0.9071915548713437, 'recal...        316.338247  \n",
       "5  {'0': {'precision': 0.9196222938737909, 'recal...         74.577098  \n",
       "6  {'0': {'precision': 0.8630284728213977, 'recal...          0.153431  "
      ]
     },
     "execution_count": 41,
     "metadata": {},
     "output_type": "execute_result"
    }
   ],
   "source": [
    "print('NAIVE BAYES - No preprocessing')\n",
    "x = classification_report(y_val, y_pred, labels = sorted(list(set(y_enc))), digits=4, output_dict=True)\n",
    "models.append({'model':'Naive_Bayes_no_preprocessing', 'metrics': x, 'training_time(s)':(end-start)})\n",
    "pd.DataFrame(models)"
   ]
  },
  {
   "cell_type": "markdown",
   "metadata": {},
   "source": [
    "Let's try oversampling "
   ]
  },
  {
   "cell_type": "code",
   "execution_count": 42,
   "metadata": {},
   "outputs": [],
   "source": [
    "X_train1, y_train1 = SMOTE().fit_resample(X_train, y_train)"
   ]
  },
  {
   "cell_type": "code",
   "execution_count": 43,
   "metadata": {},
   "outputs": [
    {
     "name": "stdout",
     "output_type": "stream",
     "text": [
      "CPU times: total: 109 ms\n",
      "Wall time: 162 ms\n"
     ]
    }
   ],
   "source": [
    "%%time\n",
    "model_nb = GaussianNB()\n",
    "start = time.perf_counter()\n",
    "model_nb.fit(X_train1,y_train1)\n",
    "end = time.perf_counter()"
   ]
  },
  {
   "cell_type": "code",
   "execution_count": 44,
   "metadata": {},
   "outputs": [
    {
     "data": {
      "text/plain": [
       "array([[[ 9601,   675],\n",
       "        [ 1014,  4014]],\n",
       "\n",
       "       [[10646,  1641],\n",
       "        [ 1240,  1777]],\n",
       "\n",
       "       [[ 6895,  1150],\n",
       "        [ 1212,  6047]]], dtype=int64)"
      ]
     },
     "execution_count": 44,
     "metadata": {},
     "output_type": "execute_result"
    }
   ],
   "source": [
    "y_pred = model_nb.predict(X_val)\n",
    "mat = multilabel_confusion_matrix(y_val,y_pred)\n",
    "mat"
   ]
  },
  {
   "cell_type": "code",
   "execution_count": 45,
   "metadata": {},
   "outputs": [
    {
     "data": {
      "text/plain": [
       "(0.7401199666593422, 0.7735232618923157)"
      ]
     },
     "execution_count": 45,
     "metadata": {},
     "output_type": "execute_result"
    }
   ],
   "source": [
    "balanced_accuracy_score(y_val,y_pred), accuracy_score(y_val,y_pred)"
   ]
  },
  {
   "cell_type": "code",
   "execution_count": 46,
   "metadata": {},
   "outputs": [
    {
     "data": {
      "text/html": [
       "<div>\n",
       "<style scoped>\n",
       "    .dataframe tbody tr th:only-of-type {\n",
       "        vertical-align: middle;\n",
       "    }\n",
       "\n",
       "    .dataframe tbody tr th {\n",
       "        vertical-align: top;\n",
       "    }\n",
       "\n",
       "    .dataframe thead th {\n",
       "        text-align: right;\n",
       "    }\n",
       "</style>\n",
       "<table border=\"1\" class=\"dataframe\">\n",
       "  <thead>\n",
       "    <tr style=\"text-align: right;\">\n",
       "      <th></th>\n",
       "      <th>model</th>\n",
       "      <th>metrics</th>\n",
       "      <th>training_time(s)</th>\n",
       "    </tr>\n",
       "  </thead>\n",
       "  <tbody>\n",
       "    <tr>\n",
       "      <th>0</th>\n",
       "      <td>Decision_tree_no_preprocessing</td>\n",
       "      <td>{'0': {'precision': 0.7788368021785644, 'recal...</td>\n",
       "      <td>1.072654</td>\n",
       "    </tr>\n",
       "    <tr>\n",
       "      <th>1</th>\n",
       "      <td>Decision_tree_oversampling</td>\n",
       "      <td>{'0': {'precision': 0.7860510805500982, 'recal...</td>\n",
       "      <td>6.156376</td>\n",
       "    </tr>\n",
       "    <tr>\n",
       "      <th>2</th>\n",
       "      <td>Decision_tree_undersampling</td>\n",
       "      <td>{'0': {'precision': 0.7869219800366674, 'recal...</td>\n",
       "      <td>1.553906</td>\n",
       "    </tr>\n",
       "    <tr>\n",
       "      <th>3</th>\n",
       "      <td>RandomForest_no_preprocessing</td>\n",
       "      <td>{'0': {'precision': 0.902131361461505, 'recall...</td>\n",
       "      <td>103.133625</td>\n",
       "    </tr>\n",
       "    <tr>\n",
       "      <th>4</th>\n",
       "      <td>RandomForest_oversampling</td>\n",
       "      <td>{'0': {'precision': 0.9071915548713437, 'recal...</td>\n",
       "      <td>316.338247</td>\n",
       "    </tr>\n",
       "    <tr>\n",
       "      <th>5</th>\n",
       "      <td>RandomForest_undersampling</td>\n",
       "      <td>{'0': {'precision': 0.9196222938737909, 'recal...</td>\n",
       "      <td>74.577098</td>\n",
       "    </tr>\n",
       "    <tr>\n",
       "      <th>6</th>\n",
       "      <td>Naive_Bayes_no_preprocessing</td>\n",
       "      <td>{'0': {'precision': 0.8630284728213977, 'recal...</td>\n",
       "      <td>0.153431</td>\n",
       "    </tr>\n",
       "    <tr>\n",
       "      <th>7</th>\n",
       "      <td>Naive_Bayes_oversampling</td>\n",
       "      <td>{'0': {'precision': 0.8560460652591171, 'recal...</td>\n",
       "      <td>0.164299</td>\n",
       "    </tr>\n",
       "  </tbody>\n",
       "</table>\n",
       "</div>"
      ],
      "text/plain": [
       "                            model  \\\n",
       "0  Decision_tree_no_preprocessing   \n",
       "1      Decision_tree_oversampling   \n",
       "2     Decision_tree_undersampling   \n",
       "3   RandomForest_no_preprocessing   \n",
       "4       RandomForest_oversampling   \n",
       "5      RandomForest_undersampling   \n",
       "6    Naive_Bayes_no_preprocessing   \n",
       "7        Naive_Bayes_oversampling   \n",
       "\n",
       "                                             metrics  training_time(s)  \n",
       "0  {'0': {'precision': 0.7788368021785644, 'recal...          1.072654  \n",
       "1  {'0': {'precision': 0.7860510805500982, 'recal...          6.156376  \n",
       "2  {'0': {'precision': 0.7869219800366674, 'recal...          1.553906  \n",
       "3  {'0': {'precision': 0.902131361461505, 'recall...        103.133625  \n",
       "4  {'0': {'precision': 0.9071915548713437, 'recal...        316.338247  \n",
       "5  {'0': {'precision': 0.9196222938737909, 'recal...         74.577098  \n",
       "6  {'0': {'precision': 0.8630284728213977, 'recal...          0.153431  \n",
       "7  {'0': {'precision': 0.8560460652591171, 'recal...          0.164299  "
      ]
     },
     "execution_count": 46,
     "metadata": {},
     "output_type": "execute_result"
    }
   ],
   "source": [
    "x = classification_report(y_val, y_pred, digits=4, labels=sorted(list(set(y_enc))), output_dict=True)\n",
    "models.append({'model': 'Naive_Bayes_oversampling', 'metrics': x, 'training_time(s)': (end-start)})\n",
    "pd.DataFrame(models)"
   ]
  },
  {
   "cell_type": "markdown",
   "metadata": {},
   "source": [
    "Let's try undersampling"
   ]
  },
  {
   "cell_type": "code",
   "execution_count": 47,
   "metadata": {},
   "outputs": [],
   "source": [
    "X_train1, y_train1 = RandomUnderSampler().fit_resample(X_train, y_train)"
   ]
  },
  {
   "cell_type": "code",
   "execution_count": 48,
   "metadata": {},
   "outputs": [
    {
     "name": "stdout",
     "output_type": "stream",
     "text": [
      "CPU times: total: 62.5 ms\n",
      "Wall time: 72.7 ms\n"
     ]
    }
   ],
   "source": [
    "%%time\n",
    "model_nb = GaussianNB()\n",
    "start = time.perf_counter()\n",
    "model_nb.fit(X_train1,y_train1)\n",
    "end = time.perf_counter()"
   ]
  },
  {
   "cell_type": "code",
   "execution_count": 49,
   "metadata": {},
   "outputs": [
    {
     "data": {
      "text/plain": [
       "array([[[ 9657,   619],\n",
       "        [ 1039,  3989]],\n",
       "\n",
       "       [[10877,  1410],\n",
       "        [ 1502,  1515]],\n",
       "\n",
       "       [[ 6538,  1507],\n",
       "        [  995,  6264]]], dtype=int64)"
      ]
     },
     "execution_count": 49,
     "metadata": {},
     "output_type": "execute_result"
    }
   ],
   "source": [
    "y_pred = model_nb.predict(X_val)\n",
    "mat = multilabel_confusion_matrix(y_val,y_pred)\n",
    "mat"
   ]
  },
  {
   "cell_type": "code",
   "execution_count": 50,
   "metadata": {},
   "outputs": [
    {
     "data": {
      "text/plain": [
       "(0.7194801452737726, 0.7689492943021432)"
      ]
     },
     "execution_count": 50,
     "metadata": {},
     "output_type": "execute_result"
    }
   ],
   "source": [
    "balanced_accuracy_score(y_val,y_pred), accuracy_score(y_val,y_pred)"
   ]
  },
  {
   "cell_type": "code",
   "execution_count": 51,
   "metadata": {},
   "outputs": [
    {
     "data": {
      "text/html": [
       "<div>\n",
       "<style scoped>\n",
       "    .dataframe tbody tr th:only-of-type {\n",
       "        vertical-align: middle;\n",
       "    }\n",
       "\n",
       "    .dataframe tbody tr th {\n",
       "        vertical-align: top;\n",
       "    }\n",
       "\n",
       "    .dataframe thead th {\n",
       "        text-align: right;\n",
       "    }\n",
       "</style>\n",
       "<table border=\"1\" class=\"dataframe\">\n",
       "  <thead>\n",
       "    <tr style=\"text-align: right;\">\n",
       "      <th></th>\n",
       "      <th>model</th>\n",
       "      <th>metrics</th>\n",
       "      <th>training_time(s)</th>\n",
       "    </tr>\n",
       "  </thead>\n",
       "  <tbody>\n",
       "    <tr>\n",
       "      <th>0</th>\n",
       "      <td>Decision_tree_no_preprocessing</td>\n",
       "      <td>{'0': {'precision': 0.7788368021785644, 'recal...</td>\n",
       "      <td>1.072654</td>\n",
       "    </tr>\n",
       "    <tr>\n",
       "      <th>1</th>\n",
       "      <td>Decision_tree_oversampling</td>\n",
       "      <td>{'0': {'precision': 0.7860510805500982, 'recal...</td>\n",
       "      <td>6.156376</td>\n",
       "    </tr>\n",
       "    <tr>\n",
       "      <th>2</th>\n",
       "      <td>Decision_tree_undersampling</td>\n",
       "      <td>{'0': {'precision': 0.7869219800366674, 'recal...</td>\n",
       "      <td>1.553906</td>\n",
       "    </tr>\n",
       "    <tr>\n",
       "      <th>3</th>\n",
       "      <td>RandomForest_no_preprocessing</td>\n",
       "      <td>{'0': {'precision': 0.902131361461505, 'recall...</td>\n",
       "      <td>103.133625</td>\n",
       "    </tr>\n",
       "    <tr>\n",
       "      <th>4</th>\n",
       "      <td>RandomForest_oversampling</td>\n",
       "      <td>{'0': {'precision': 0.9071915548713437, 'recal...</td>\n",
       "      <td>316.338247</td>\n",
       "    </tr>\n",
       "    <tr>\n",
       "      <th>5</th>\n",
       "      <td>RandomForest_undersampling</td>\n",
       "      <td>{'0': {'precision': 0.9196222938737909, 'recal...</td>\n",
       "      <td>74.577098</td>\n",
       "    </tr>\n",
       "    <tr>\n",
       "      <th>6</th>\n",
       "      <td>Naive_Bayes_no_preprocessing</td>\n",
       "      <td>{'0': {'precision': 0.8630284728213977, 'recal...</td>\n",
       "      <td>0.153431</td>\n",
       "    </tr>\n",
       "    <tr>\n",
       "      <th>7</th>\n",
       "      <td>Naive_Bayes_oversampling</td>\n",
       "      <td>{'0': {'precision': 0.8560460652591171, 'recal...</td>\n",
       "      <td>0.164299</td>\n",
       "    </tr>\n",
       "    <tr>\n",
       "      <th>8</th>\n",
       "      <td>Naive_Bayes_undersampling</td>\n",
       "      <td>{'0': {'precision': 0.8656684027777778, 'recal...</td>\n",
       "      <td>0.071734</td>\n",
       "    </tr>\n",
       "  </tbody>\n",
       "</table>\n",
       "</div>"
      ],
      "text/plain": [
       "                            model  \\\n",
       "0  Decision_tree_no_preprocessing   \n",
       "1      Decision_tree_oversampling   \n",
       "2     Decision_tree_undersampling   \n",
       "3   RandomForest_no_preprocessing   \n",
       "4       RandomForest_oversampling   \n",
       "5      RandomForest_undersampling   \n",
       "6    Naive_Bayes_no_preprocessing   \n",
       "7        Naive_Bayes_oversampling   \n",
       "8       Naive_Bayes_undersampling   \n",
       "\n",
       "                                             metrics  training_time(s)  \n",
       "0  {'0': {'precision': 0.7788368021785644, 'recal...          1.072654  \n",
       "1  {'0': {'precision': 0.7860510805500982, 'recal...          6.156376  \n",
       "2  {'0': {'precision': 0.7869219800366674, 'recal...          1.553906  \n",
       "3  {'0': {'precision': 0.902131361461505, 'recall...        103.133625  \n",
       "4  {'0': {'precision': 0.9071915548713437, 'recal...        316.338247  \n",
       "5  {'0': {'precision': 0.9196222938737909, 'recal...         74.577098  \n",
       "6  {'0': {'precision': 0.8630284728213977, 'recal...          0.153431  \n",
       "7  {'0': {'precision': 0.8560460652591171, 'recal...          0.164299  \n",
       "8  {'0': {'precision': 0.8656684027777778, 'recal...          0.071734  "
      ]
     },
     "execution_count": 51,
     "metadata": {},
     "output_type": "execute_result"
    }
   ],
   "source": [
    "x = classification_report(y_val, y_pred, digits=4, labels=sorted(list(set(y_enc))), output_dict=True)\n",
    "models.append({'model': 'Naive_Bayes_undersampling', 'metrics': x, 'training_time(s)': (end-start)})\n",
    "pd.DataFrame(models)"
   ]
  },
  {
   "cell_type": "markdown",
   "metadata": {},
   "source": [
    "### K Nearest Neighbors"
   ]
  },
  {
   "cell_type": "code",
   "execution_count": 52,
   "metadata": {},
   "outputs": [],
   "source": [
    "from sklearn.neighbors import KNeighborsClassifier"
   ]
  },
  {
   "cell_type": "code",
   "execution_count": 53,
   "metadata": {},
   "outputs": [
    {
     "name": "stdout",
     "output_type": "stream",
     "text": [
      "n_neighbors: 3, time_taken: 0.017732599982991815s, accuracy: 0.7211840041819132\n",
      "n_neighbors: 5, time_taken: 0.012191499990876764s, accuracy: 0.7356246732880293\n",
      "n_neighbors: 10, time_taken: 0.012228599982336164s, accuracy: 0.742093570308416\n",
      "n_neighbors: 15, time_taken: 0.012035599967930466s, accuracy: 0.7419628855201255\n",
      "n_neighbors: 20, time_taken: 0.012849000049754977s, accuracy: 0.7394798745426032\n",
      "n_neighbors: 25, time_taken: 0.011871900002006441s, accuracy: 0.7405906952430737\n",
      "n_neighbors: 50, time_taken: 0.012135399971157312s, accuracy: 0.7292211186617877\n",
      "n_neighbors: 100, time_taken: 0.012494999973569065s, accuracy: 0.7196811291165708\n",
      "n_neighbors: 200, time_taken: 0.016947800002526492s, accuracy: 0.7051751176163095\n",
      "n_neighbors: 400, time_taken: 0.012558899994473904s, accuracy: 0.6838734971249346\n",
      "n_neighbors: 800, time_taken: 0.015181499999016523s, accuracy: 0.6539466806063774\n"
     ]
    }
   ],
   "source": [
    "nbors = [3,5,10,15,20,25,50,100,200,400,800]\n",
    "tim, acc = [], []\n",
    "model_knn = KNeighborsClassifier()\n",
    "\n",
    "for n in nbors:\n",
    "    model_knn = KNeighborsClassifier(n_neighbors=n)\n",
    "    start = time.perf_counter()\n",
    "    model_knn.fit(X_train,y_train)\n",
    "    end = time.perf_counter()\n",
    "    y_pred = model_knn.predict(X_val)\n",
    "    _acc = accuracy_score(y_val,y_pred)\n",
    "    tim.append(end-start)\n",
    "    print(f'n_neighbors: {n}, time_taken: {end-start}s, accuracy: {_acc}')\n",
    "    acc.append(_acc)"
   ]
  },
  {
   "cell_type": "code",
   "execution_count": 54,
   "metadata": {},
   "outputs": [
    {
     "data": {
      "text/html": [
       "<div>\n",
       "<style scoped>\n",
       "    .dataframe tbody tr th:only-of-type {\n",
       "        vertical-align: middle;\n",
       "    }\n",
       "\n",
       "    .dataframe tbody tr th {\n",
       "        vertical-align: top;\n",
       "    }\n",
       "\n",
       "    .dataframe thead th {\n",
       "        text-align: right;\n",
       "    }\n",
       "</style>\n",
       "<table border=\"1\" class=\"dataframe\">\n",
       "  <thead>\n",
       "    <tr style=\"text-align: right;\">\n",
       "      <th></th>\n",
       "      <th>model</th>\n",
       "      <th>metrics</th>\n",
       "      <th>training_time(s)</th>\n",
       "    </tr>\n",
       "  </thead>\n",
       "  <tbody>\n",
       "    <tr>\n",
       "      <th>0</th>\n",
       "      <td>Decision_tree_no_preprocessing</td>\n",
       "      <td>{'0': {'precision': 0.7788368021785644, 'recal...</td>\n",
       "      <td>1.072654</td>\n",
       "    </tr>\n",
       "    <tr>\n",
       "      <th>1</th>\n",
       "      <td>Decision_tree_oversampling</td>\n",
       "      <td>{'0': {'precision': 0.7860510805500982, 'recal...</td>\n",
       "      <td>6.156376</td>\n",
       "    </tr>\n",
       "    <tr>\n",
       "      <th>2</th>\n",
       "      <td>Decision_tree_undersampling</td>\n",
       "      <td>{'0': {'precision': 0.7869219800366674, 'recal...</td>\n",
       "      <td>1.553906</td>\n",
       "    </tr>\n",
       "    <tr>\n",
       "      <th>3</th>\n",
       "      <td>RandomForest_no_preprocessing</td>\n",
       "      <td>{'0': {'precision': 0.902131361461505, 'recall...</td>\n",
       "      <td>103.133625</td>\n",
       "    </tr>\n",
       "    <tr>\n",
       "      <th>4</th>\n",
       "      <td>RandomForest_oversampling</td>\n",
       "      <td>{'0': {'precision': 0.9071915548713437, 'recal...</td>\n",
       "      <td>316.338247</td>\n",
       "    </tr>\n",
       "    <tr>\n",
       "      <th>5</th>\n",
       "      <td>RandomForest_undersampling</td>\n",
       "      <td>{'0': {'precision': 0.9196222938737909, 'recal...</td>\n",
       "      <td>74.577098</td>\n",
       "    </tr>\n",
       "    <tr>\n",
       "      <th>6</th>\n",
       "      <td>Naive_Bayes_no_preprocessing</td>\n",
       "      <td>{'0': {'precision': 0.8630284728213977, 'recal...</td>\n",
       "      <td>0.153431</td>\n",
       "    </tr>\n",
       "    <tr>\n",
       "      <th>7</th>\n",
       "      <td>Naive_Bayes_oversampling</td>\n",
       "      <td>{'0': {'precision': 0.8560460652591171, 'recal...</td>\n",
       "      <td>0.164299</td>\n",
       "    </tr>\n",
       "    <tr>\n",
       "      <th>8</th>\n",
       "      <td>Naive_Bayes_undersampling</td>\n",
       "      <td>{'0': {'precision': 0.8656684027777778, 'recal...</td>\n",
       "      <td>0.071734</td>\n",
       "    </tr>\n",
       "    <tr>\n",
       "      <th>9</th>\n",
       "      <td>KNN_no_preprocessing</td>\n",
       "      <td>{'0': {'precision': 0.7102606245597558, 'recal...</td>\n",
       "      <td>0.015181</td>\n",
       "    </tr>\n",
       "  </tbody>\n",
       "</table>\n",
       "</div>"
      ],
      "text/plain": [
       "                            model  \\\n",
       "0  Decision_tree_no_preprocessing   \n",
       "1      Decision_tree_oversampling   \n",
       "2     Decision_tree_undersampling   \n",
       "3   RandomForest_no_preprocessing   \n",
       "4       RandomForest_oversampling   \n",
       "5      RandomForest_undersampling   \n",
       "6    Naive_Bayes_no_preprocessing   \n",
       "7        Naive_Bayes_oversampling   \n",
       "8       Naive_Bayes_undersampling   \n",
       "9            KNN_no_preprocessing   \n",
       "\n",
       "                                             metrics  training_time(s)  \n",
       "0  {'0': {'precision': 0.7788368021785644, 'recal...          1.072654  \n",
       "1  {'0': {'precision': 0.7860510805500982, 'recal...          6.156376  \n",
       "2  {'0': {'precision': 0.7869219800366674, 'recal...          1.553906  \n",
       "3  {'0': {'precision': 0.902131361461505, 'recall...        103.133625  \n",
       "4  {'0': {'precision': 0.9071915548713437, 'recal...        316.338247  \n",
       "5  {'0': {'precision': 0.9196222938737909, 'recal...         74.577098  \n",
       "6  {'0': {'precision': 0.8630284728213977, 'recal...          0.153431  \n",
       "7  {'0': {'precision': 0.8560460652591171, 'recal...          0.164299  \n",
       "8  {'0': {'precision': 0.8656684027777778, 'recal...          0.071734  \n",
       "9  {'0': {'precision': 0.7102606245597558, 'recal...          0.015181  "
      ]
     },
     "execution_count": 54,
     "metadata": {},
     "output_type": "execute_result"
    }
   ],
   "source": [
    "y_pred = model_knn.predict(X_val)\n",
    "x = classification_report(y_val, y_pred, digits=4, labels=sorted(list(set(y_enc))), output_dict=True)\n",
    "models.append({'model': 'KNN_no_preprocessing', 'metrics': x, 'training_time(s)': tim[-1]})\n",
    "pd.DataFrame(models)"
   ]
  },
  {
   "cell_type": "code",
   "execution_count": 55,
   "metadata": {},
   "outputs": [
    {
     "data": {
      "text/plain": [
       "Text(0.5, 1.0, 'Training time')"
      ]
     },
     "execution_count": 55,
     "metadata": {},
     "output_type": "execute_result"
    },
    {
     "data": {
      "image/png": "[encoded data removed]",
      "text/plain": [
       "<Figure size 1000x500 with 2 Axes>"
      ]
     },
     "metadata": {},
     "output_type": "display_data"
    }
   ],
   "source": [
    "fig = plt.figure(figsize=(10,5))\n",
    "\n",
    "ax1 = fig.add_subplot(121)\n",
    "ax1.plot(nbors,acc)\n",
    "ax1.set_title('Accuracy')\n",
    "\n",
    "ax2 = fig.add_subplot(122)\n",
    "ax2.plot(nbors,tim)\n",
    "ax2.set_title('Training time')"
   ]
  },
  {
   "cell_type": "markdown",
   "metadata": {},
   "source": [
    "Let's try oversampling"
   ]
  },
  {
   "cell_type": "code",
   "execution_count": 56,
   "metadata": {},
   "outputs": [],
   "source": [
    "X_train1, y_train1 = SMOTE().fit_resample(X_train,y_train)"
   ]
  },
  {
   "cell_type": "code",
   "execution_count": 57,
   "metadata": {},
   "outputs": [
    {
     "name": "stdout",
     "output_type": "stream",
     "text": [
      "n_neighbors: 3, time_taken: 0.018376999942120165s, accuracy: 0.6844615786722426\n",
      "n_neighbors: 5, time_taken: 0.01588269998319447s, accuracy: 0.685768426555149\n",
      "n_neighbors: 10, time_taken: 0.016949900018516928s, accuracy: 0.6923680083638265\n",
      "n_neighbors: 15, time_taken: 0.01544869999634102s, accuracy: 0.6955697856769472\n",
      "n_neighbors: 20, time_taken: 0.016016900015529245s, accuracy: 0.6923680083638265\n",
      "n_neighbors: 25, time_taken: 0.018019000010099262s, accuracy: 0.6934788290642969\n",
      "n_neighbors: 50, time_taken: 0.014588900026865304s, accuracy: 0.6873366440146367\n",
      "n_neighbors: 100, time_taken: 0.013451899983920157s, accuracy: 0.678058024046001\n",
      "n_neighbors: 200, time_taken: 0.015465400007087737s, accuracy: 0.6696941975953999\n",
      "n_neighbors: 400, time_taken: 0.01783089997479692s, accuracy: 0.6583899634082593\n",
      "n_neighbors: 800, time_taken: 0.019687900028657168s, accuracy: 0.6338212232096184\n"
     ]
    }
   ],
   "source": [
    "nbors = [3,5,10,15,20,25,50,100,200,400,800]\n",
    "tim, acc = [], []\n",
    "model_knn = KNeighborsClassifier()\n",
    "\n",
    "for n in nbors:\n",
    "    model_knn = KNeighborsClassifier(n_neighbors=n)\n",
    "    start = time.perf_counter()\n",
    "    model_knn.fit(X_train1,y_train1)\n",
    "    end = time.perf_counter()\n",
    "    y_pred = model_knn.predict(X_val)\n",
    "    _acc = accuracy_score(y_val,y_pred)\n",
    "    tim.append(end-start)\n",
    "    print(f'n_neighbors: {n}, time_taken: {end-start}s, accuracy: {_acc}')\n",
    "    acc.append(_acc)"
   ]
  },
  {
   "cell_type": "markdown",
   "metadata": {},
   "source": [
    "`n_neighbors=15` gave best accuracy"
   ]
  },
  {
   "cell_type": "code",
   "execution_count": 58,
   "metadata": {},
   "outputs": [
    {
     "data": {
      "text/html": [
       "<div>\n",
       "<style scoped>\n",
       "    .dataframe tbody tr th:only-of-type {\n",
       "        vertical-align: middle;\n",
       "    }\n",
       "\n",
       "    .dataframe tbody tr th {\n",
       "        vertical-align: top;\n",
       "    }\n",
       "\n",
       "    .dataframe thead th {\n",
       "        text-align: right;\n",
       "    }\n",
       "</style>\n",
       "<table border=\"1\" class=\"dataframe\">\n",
       "  <thead>\n",
       "    <tr style=\"text-align: right;\">\n",
       "      <th></th>\n",
       "      <th>model</th>\n",
       "      <th>metrics</th>\n",
       "      <th>training_time(s)</th>\n",
       "    </tr>\n",
       "  </thead>\n",
       "  <tbody>\n",
       "    <tr>\n",
       "      <th>0</th>\n",
       "      <td>Decision_tree_no_preprocessing</td>\n",
       "      <td>{'0': {'precision': 0.7788368021785644, 'recal...</td>\n",
       "      <td>1.072654</td>\n",
       "    </tr>\n",
       "    <tr>\n",
       "      <th>1</th>\n",
       "      <td>Decision_tree_oversampling</td>\n",
       "      <td>{'0': {'precision': 0.7860510805500982, 'recal...</td>\n",
       "      <td>6.156376</td>\n",
       "    </tr>\n",
       "    <tr>\n",
       "      <th>2</th>\n",
       "      <td>Decision_tree_undersampling</td>\n",
       "      <td>{'0': {'precision': 0.7869219800366674, 'recal...</td>\n",
       "      <td>1.553906</td>\n",
       "    </tr>\n",
       "    <tr>\n",
       "      <th>3</th>\n",
       "      <td>RandomForest_no_preprocessing</td>\n",
       "      <td>{'0': {'precision': 0.902131361461505, 'recall...</td>\n",
       "      <td>103.133625</td>\n",
       "    </tr>\n",
       "    <tr>\n",
       "      <th>4</th>\n",
       "      <td>RandomForest_oversampling</td>\n",
       "      <td>{'0': {'precision': 0.9071915548713437, 'recal...</td>\n",
       "      <td>316.338247</td>\n",
       "    </tr>\n",
       "    <tr>\n",
       "      <th>5</th>\n",
       "      <td>RandomForest_undersampling</td>\n",
       "      <td>{'0': {'precision': 0.9196222938737909, 'recal...</td>\n",
       "      <td>74.577098</td>\n",
       "    </tr>\n",
       "    <tr>\n",
       "      <th>6</th>\n",
       "      <td>Naive_Bayes_no_preprocessing</td>\n",
       "      <td>{'0': {'precision': 0.8630284728213977, 'recal...</td>\n",
       "      <td>0.153431</td>\n",
       "    </tr>\n",
       "    <tr>\n",
       "      <th>7</th>\n",
       "      <td>Naive_Bayes_oversampling</td>\n",
       "      <td>{'0': {'precision': 0.8560460652591171, 'recal...</td>\n",
       "      <td>0.164299</td>\n",
       "    </tr>\n",
       "    <tr>\n",
       "      <th>8</th>\n",
       "      <td>Naive_Bayes_undersampling</td>\n",
       "      <td>{'0': {'precision': 0.8656684027777778, 'recal...</td>\n",
       "      <td>0.071734</td>\n",
       "    </tr>\n",
       "    <tr>\n",
       "      <th>9</th>\n",
       "      <td>KNN_no_preprocessing</td>\n",
       "      <td>{'0': {'precision': 0.7102606245597558, 'recal...</td>\n",
       "      <td>0.015181</td>\n",
       "    </tr>\n",
       "    <tr>\n",
       "      <th>10</th>\n",
       "      <td>KNN_oversampling</td>\n",
       "      <td>{'0': {'precision': 0.8411957029425502, 'recal...</td>\n",
       "      <td>0.019688</td>\n",
       "    </tr>\n",
       "  </tbody>\n",
       "</table>\n",
       "</div>"
      ],
      "text/plain": [
       "                             model  \\\n",
       "0   Decision_tree_no_preprocessing   \n",
       "1       Decision_tree_oversampling   \n",
       "2      Decision_tree_undersampling   \n",
       "3    RandomForest_no_preprocessing   \n",
       "4        RandomForest_oversampling   \n",
       "5       RandomForest_undersampling   \n",
       "6     Naive_Bayes_no_preprocessing   \n",
       "7         Naive_Bayes_oversampling   \n",
       "8        Naive_Bayes_undersampling   \n",
       "9             KNN_no_preprocessing   \n",
       "10                KNN_oversampling   \n",
       "\n",
       "                                              metrics  training_time(s)  \n",
       "0   {'0': {'precision': 0.7788368021785644, 'recal...          1.072654  \n",
       "1   {'0': {'precision': 0.7860510805500982, 'recal...          6.156376  \n",
       "2   {'0': {'precision': 0.7869219800366674, 'recal...          1.553906  \n",
       "3   {'0': {'precision': 0.902131361461505, 'recall...        103.133625  \n",
       "4   {'0': {'precision': 0.9071915548713437, 'recal...        316.338247  \n",
       "5   {'0': {'precision': 0.9196222938737909, 'recal...         74.577098  \n",
       "6   {'0': {'precision': 0.8630284728213977, 'recal...          0.153431  \n",
       "7   {'0': {'precision': 0.8560460652591171, 'recal...          0.164299  \n",
       "8   {'0': {'precision': 0.8656684027777778, 'recal...          0.071734  \n",
       "9   {'0': {'precision': 0.7102606245597558, 'recal...          0.015181  \n",
       "10  {'0': {'precision': 0.8411957029425502, 'recal...          0.019688  "
      ]
     },
     "execution_count": 58,
     "metadata": {},
     "output_type": "execute_result"
    }
   ],
   "source": [
    "model_knn = KNeighborsClassifier(n_neighbors=15)\n",
    "start = time.perf_counter()\n",
    "model_knn.fit(X_train1,y_train1)\n",
    "end = time.perf_counter()\n",
    "y_pred = model_knn.predict(X_val)\n",
    "x = classification_report(y_val, y_pred, digits=4, labels=sorted(list(set(y_enc))), output_dict=True)\n",
    "models.append({'model': 'KNN_oversampling', 'metrics': x, 'training_time(s)': tim[-1]})\n",
    "pd.DataFrame(models)"
   ]
  },
  {
   "cell_type": "code",
   "execution_count": 59,
   "metadata": {},
   "outputs": [
    {
     "data": {
      "text/plain": [
       "Text(0.5, 1.0, 'Training time')"
      ]
     },
     "execution_count": 59,
     "metadata": {},
     "output_type": "execute_result"
    },
    {
     "data": {
      "image/png": "[encoded data removed]",
      "text/plain": [
       "<Figure size 1000x500 with 2 Axes>"
      ]
     },
     "metadata": {},
     "output_type": "display_data"
    }
   ],
   "source": [
    "fig = plt.figure(figsize=(10,5))\n",
    "\n",
    "ax1 = fig.add_subplot(121)\n",
    "ax1.plot(nbors,acc)\n",
    "ax1.set_title('Accuracy')\n",
    "\n",
    "ax2 = fig.add_subplot(122)\n",
    "ax2.plot(nbors,tim)\n",
    "ax2.set_title('Training time')"
   ]
  },
  {
   "cell_type": "markdown",
   "metadata": {},
   "source": [
    "Let's try undersampling"
   ]
  },
  {
   "cell_type": "code",
   "execution_count": 60,
   "metadata": {},
   "outputs": [],
   "source": [
    "X_train1, y_train1 = RandomUnderSampler().fit_resample(X_train,y_train)"
   ]
  },
  {
   "cell_type": "code",
   "execution_count": 61,
   "metadata": {},
   "outputs": [
    {
     "name": "stdout",
     "output_type": "stream",
     "text": [
      "n_neighbors: 3, time_taken: 0.010726000007707626s, accuracy: 0.6779273392577104\n",
      "n_neighbors: 5, time_taken: 0.007452699996065348s, accuracy: 0.6928254051228437\n",
      "n_neighbors: 10, time_taken: 0.009854699950665236s, accuracy: 0.6952430737062206\n",
      "n_neighbors: 15, time_taken: 0.005471099982969463s, accuracy: 0.6955044432828019\n",
      "n_neighbors: 20, time_taken: 0.006335599988233298s, accuracy: 0.6904730789336121\n",
      "n_neighbors: 25, time_taken: 0.006000299996230751s, accuracy: 0.6881860951385259\n",
      "n_neighbors: 50, time_taken: 0.007325699960347265s, accuracy: 0.6776659696811291\n",
      "n_neighbors: 100, time_taken: 0.0058858999982476234s, accuracy: 0.6690407736539467\n",
      "n_neighbors: 200, time_taken: 0.007698600005824119s, accuracy: 0.6535546262415055\n",
      "n_neighbors: 400, time_taken: 0.00626999995438382s, accuracy: 0.6276136957658128\n",
      "n_neighbors: 800, time_taken: 0.007833499985281378s, accuracy: 0.5897151071615264\n"
     ]
    }
   ],
   "source": [
    "nbors = [3,5,10,15,20,25,50,100,200,400,800]\n",
    "tim, acc = [], []\n",
    "model_knn = KNeighborsClassifier()\n",
    "\n",
    "for n in nbors:\n",
    "    model_knn = KNeighborsClassifier(n_neighbors=n)\n",
    "    start = time.perf_counter()\n",
    "    model_knn.fit(X_train1,y_train1)\n",
    "    end = time.perf_counter()\n",
    "    y_pred = model_knn.predict(X_val)\n",
    "    _acc = accuracy_score(y_val,y_pred)\n",
    "    tim.append(end-start)\n",
    "    print(f'n_neighbors: {n}, time_taken: {end-start}s, accuracy: {_acc}')\n",
    "    acc.append(_acc)"
   ]
  },
  {
   "cell_type": "markdown",
   "metadata": {},
   "source": [
    "`n_neighbors=15` gave best accuracy"
   ]
  },
  {
   "cell_type": "code",
   "execution_count": 62,
   "metadata": {},
   "outputs": [
    {
     "data": {
      "text/html": [
       "<div>\n",
       "<style scoped>\n",
       "    .dataframe tbody tr th:only-of-type {\n",
       "        vertical-align: middle;\n",
       "    }\n",
       "\n",
       "    .dataframe tbody tr th {\n",
       "        vertical-align: top;\n",
       "    }\n",
       "\n",
       "    .dataframe thead th {\n",
       "        text-align: right;\n",
       "    }\n",
       "</style>\n",
       "<table border=\"1\" class=\"dataframe\">\n",
       "  <thead>\n",
       "    <tr style=\"text-align: right;\">\n",
       "      <th></th>\n",
       "      <th>model</th>\n",
       "      <th>metrics</th>\n",
       "      <th>training_time(s)</th>\n",
       "    </tr>\n",
       "  </thead>\n",
       "  <tbody>\n",
       "    <tr>\n",
       "      <th>0</th>\n",
       "      <td>Decision_tree_no_preprocessing</td>\n",
       "      <td>{'0': {'precision': 0.7788368021785644, 'recal...</td>\n",
       "      <td>1.072654</td>\n",
       "    </tr>\n",
       "    <tr>\n",
       "      <th>1</th>\n",
       "      <td>Decision_tree_oversampling</td>\n",
       "      <td>{'0': {'precision': 0.7860510805500982, 'recal...</td>\n",
       "      <td>6.156376</td>\n",
       "    </tr>\n",
       "    <tr>\n",
       "      <th>2</th>\n",
       "      <td>Decision_tree_undersampling</td>\n",
       "      <td>{'0': {'precision': 0.7869219800366674, 'recal...</td>\n",
       "      <td>1.553906</td>\n",
       "    </tr>\n",
       "    <tr>\n",
       "      <th>3</th>\n",
       "      <td>RandomForest_no_preprocessing</td>\n",
       "      <td>{'0': {'precision': 0.902131361461505, 'recall...</td>\n",
       "      <td>103.133625</td>\n",
       "    </tr>\n",
       "    <tr>\n",
       "      <th>4</th>\n",
       "      <td>RandomForest_oversampling</td>\n",
       "      <td>{'0': {'precision': 0.9071915548713437, 'recal...</td>\n",
       "      <td>316.338247</td>\n",
       "    </tr>\n",
       "    <tr>\n",
       "      <th>5</th>\n",
       "      <td>RandomForest_undersampling</td>\n",
       "      <td>{'0': {'precision': 0.9196222938737909, 'recal...</td>\n",
       "      <td>74.577098</td>\n",
       "    </tr>\n",
       "    <tr>\n",
       "      <th>6</th>\n",
       "      <td>Naive_Bayes_no_preprocessing</td>\n",
       "      <td>{'0': {'precision': 0.8630284728213977, 'recal...</td>\n",
       "      <td>0.153431</td>\n",
       "    </tr>\n",
       "    <tr>\n",
       "      <th>7</th>\n",
       "      <td>Naive_Bayes_oversampling</td>\n",
       "      <td>{'0': {'precision': 0.8560460652591171, 'recal...</td>\n",
       "      <td>0.164299</td>\n",
       "    </tr>\n",
       "    <tr>\n",
       "      <th>8</th>\n",
       "      <td>Naive_Bayes_undersampling</td>\n",
       "      <td>{'0': {'precision': 0.8656684027777778, 'recal...</td>\n",
       "      <td>0.071734</td>\n",
       "    </tr>\n",
       "    <tr>\n",
       "      <th>9</th>\n",
       "      <td>KNN_no_preprocessing</td>\n",
       "      <td>{'0': {'precision': 0.7102606245597558, 'recal...</td>\n",
       "      <td>0.015181</td>\n",
       "    </tr>\n",
       "    <tr>\n",
       "      <th>10</th>\n",
       "      <td>KNN_oversampling</td>\n",
       "      <td>{'0': {'precision': 0.8411957029425502, 'recal...</td>\n",
       "      <td>0.019688</td>\n",
       "    </tr>\n",
       "    <tr>\n",
       "      <th>11</th>\n",
       "      <td>KNN_undersampling</td>\n",
       "      <td>{'0': {'precision': 0.850036398932298, 'recall...</td>\n",
       "      <td>0.007833</td>\n",
       "    </tr>\n",
       "  </tbody>\n",
       "</table>\n",
       "</div>"
      ],
      "text/plain": [
       "                             model  \\\n",
       "0   Decision_tree_no_preprocessing   \n",
       "1       Decision_tree_oversampling   \n",
       "2      Decision_tree_undersampling   \n",
       "3    RandomForest_no_preprocessing   \n",
       "4        RandomForest_oversampling   \n",
       "5       RandomForest_undersampling   \n",
       "6     Naive_Bayes_no_preprocessing   \n",
       "7         Naive_Bayes_oversampling   \n",
       "8        Naive_Bayes_undersampling   \n",
       "9             KNN_no_preprocessing   \n",
       "10                KNN_oversampling   \n",
       "11               KNN_undersampling   \n",
       "\n",
       "                                              metrics  training_time(s)  \n",
       "0   {'0': {'precision': 0.7788368021785644, 'recal...          1.072654  \n",
       "1   {'0': {'precision': 0.7860510805500982, 'recal...          6.156376  \n",
       "2   {'0': {'precision': 0.7869219800366674, 'recal...          1.553906  \n",
       "3   {'0': {'precision': 0.902131361461505, 'recall...        103.133625  \n",
       "4   {'0': {'precision': 0.9071915548713437, 'recal...        316.338247  \n",
       "5   {'0': {'precision': 0.9196222938737909, 'recal...         74.577098  \n",
       "6   {'0': {'precision': 0.8630284728213977, 'recal...          0.153431  \n",
       "7   {'0': {'precision': 0.8560460652591171, 'recal...          0.164299  \n",
       "8   {'0': {'precision': 0.8656684027777778, 'recal...          0.071734  \n",
       "9   {'0': {'precision': 0.7102606245597558, 'recal...          0.015181  \n",
       "10  {'0': {'precision': 0.8411957029425502, 'recal...          0.019688  \n",
       "11  {'0': {'precision': 0.850036398932298, 'recall...          0.007833  "
      ]
     },
     "execution_count": 62,
     "metadata": {},
     "output_type": "execute_result"
    }
   ],
   "source": [
    "model_knn = KNeighborsClassifier(n_neighbors=15)\n",
    "start = time.perf_counter()\n",
    "model_knn.fit(X_train1,y_train1)\n",
    "end = time.perf_counter()\n",
    "y_pred = model_knn.predict(X_val)\n",
    "x = classification_report(y_val, y_pred, digits=4, labels=sorted(list(set(y_enc))), output_dict=True)\n",
    "models.append({'model': 'KNN_undersampling', 'metrics': x, 'training_time(s)': tim[-1]})\n",
    "pd.DataFrame(models)"
   ]
  },
  {
   "cell_type": "code",
   "execution_count": 63,
   "metadata": {},
   "outputs": [
    {
     "data": {
      "text/plain": [
       "Text(0.5, 1.0, 'Training time')"
      ]
     },
     "execution_count": 63,
     "metadata": {},
     "output_type": "execute_result"
    },
    {
     "data": {
      "image/png": "[encoded data removed]",
      "text/plain": [
       "<Figure size 1000x500 with 2 Axes>"
      ]
     },
     "metadata": {},
     "output_type": "display_data"
    }
   ],
   "source": [
    "fig = plt.figure(figsize=(10,5))\n",
    "\n",
    "ax1 = fig.add_subplot(121)\n",
    "ax1.plot(nbors,acc)\n",
    "ax1.set_title('Accuracy')\n",
    "\n",
    "ax2 = fig.add_subplot(122)\n",
    "ax2.plot(nbors,tim)\n",
    "ax2.set_title('Training time')"
   ]
  },
  {
   "cell_type": "code",
   "execution_count": 76,
   "metadata": {},
   "outputs": [],
   "source": [
    "df_results = pd.DataFrame(models)"
   ]
  },
  {
   "cell_type": "code",
   "execution_count": 81,
   "metadata": {},
   "outputs": [],
   "source": [
    "df_results['precision'] = df_results['metrics'].apply(lambda x: {0: round(x['0']['precision'],3), 1: round(x['1']['precision'],3), 2: round(x['2']['precision'],3)})\n",
    "df_results['recall'] = df_results['metrics'].apply(lambda x: {0: round(x['0']['recall'],3), 1: round(x['1']['recall'],3), 2: round(x['2']['recall'],3)})\n",
    "df_results['f1-score'] = df_results['metrics'].apply(lambda x: {0: round(x['0']['f1-score'],3), 1: round(x['1']['f1-score'],3), 2: round(x['2']['f1-score'],3)})\n",
    "df_results['macro_avg'] = df_results['metrics'].apply(lambda x: {k: round(x['macro avg'][k],3) for k in x['macro avg'].keys()})\n",
    "df_results['weighted_avg'] = df_results['metrics'].apply(lambda x: {k: round(x['weighted avg'][k],3) for k in x['weighted avg'].keys()})\n",
    "df_results['accuracy'] = df_results['metrics'].apply(lambda x: round(x['accuracy'],3))\n",
    "df_results['time (s)'] = df_results['training_time(s)']\n",
    "df_results.drop(columns=['metrics','training_time(s)'],inplace=True)"
   ]
  },
  {
   "cell_type": "code",
   "execution_count": 83,
   "metadata": {},
   "outputs": [
    {
     "data": {
      "text/html": [
       "<div>\n",
       "<style scoped>\n",
       "    .dataframe tbody tr th:only-of-type {\n",
       "        vertical-align: middle;\n",
       "    }\n",
       "\n",
       "    .dataframe tbody tr th {\n",
       "        vertical-align: top;\n",
       "    }\n",
       "\n",
       "    .dataframe thead th {\n",
       "        text-align: right;\n",
       "    }\n",
       "</style>\n",
       "<table border=\"1\" class=\"dataframe\">\n",
       "  <thead>\n",
       "    <tr style=\"text-align: right;\">\n",
       "      <th></th>\n",
       "      <th>model</th>\n",
       "      <th>precision</th>\n",
       "      <th>recall</th>\n",
       "      <th>f1-score</th>\n",
       "      <th>macro_avg</th>\n",
       "      <th>weighted_avg</th>\n",
       "      <th>accuracy</th>\n",
       "      <th>time (s)</th>\n",
       "    </tr>\n",
       "  </thead>\n",
       "  <tbody>\n",
       "    <tr>\n",
       "      <th>0</th>\n",
       "      <td>Decision_tree_no_preprocessing</td>\n",
       "      <td>{0: 0.779, 1: 0.474, 2: 0.826}</td>\n",
       "      <td>{0: 0.796, 1: 0.477, 2: 0.811}</td>\n",
       "      <td>{0: 0.787, 1: 0.476, 2: 0.818}</td>\n",
       "      <td>{'precision': 0.693, 'recall': 0.695, 'f1-score': 0.694, 'support': 15304.0}</td>\n",
       "      <td>{'precision': 0.741, 'recall': 0.74, 'f1-score': 0.741, 'support': 15304.0}</td>\n",
       "      <td>0.740</td>\n",
       "      <td>1.072654</td>\n",
       "    </tr>\n",
       "    <tr>\n",
       "      <th>1</th>\n",
       "      <td>Decision_tree_oversampling</td>\n",
       "      <td>{0: 0.786, 1: 0.485, 2: 0.833}</td>\n",
       "      <td>{0: 0.796, 1: 0.502, 2: 0.814}</td>\n",
       "      <td>{0: 0.791, 1: 0.494, 2: 0.824}</td>\n",
       "      <td>{'precision': 0.702, 'recall': 0.704, 'f1-score': 0.703, 'support': 15304.0}</td>\n",
       "      <td>{'precision': 0.749, 'recall': 0.747, 'f1-score': 0.748, 'support': 15304.0}</td>\n",
       "      <td>0.747</td>\n",
       "      <td>6.156376</td>\n",
       "    </tr>\n",
       "    <tr>\n",
       "      <th>2</th>\n",
       "      <td>Decision_tree_undersampling</td>\n",
       "      <td>{0: 0.787, 1: 0.428, 2: 0.852}</td>\n",
       "      <td>{0: 0.768, 1: 0.601, 2: 0.723}</td>\n",
       "      <td>{0: 0.777, 1: 0.5, 2: 0.782}</td>\n",
       "      <td>{'precision': 0.689, 'recall': 0.698, 'f1-score': 0.687, 'support': 15304.0}</td>\n",
       "      <td>{'precision': 0.747, 'recall': 0.714, 'f1-score': 0.725, 'support': 15304.0}</td>\n",
       "      <td>0.714</td>\n",
       "      <td>1.553906</td>\n",
       "    </tr>\n",
       "    <tr>\n",
       "      <th>3</th>\n",
       "      <td>RandomForest_no_preprocessing</td>\n",
       "      <td>{0: 0.902, 1: 0.647, 2: 0.85}</td>\n",
       "      <td>{0: 0.825, 1: 0.604, 2: 0.925}</td>\n",
       "      <td>{0: 0.862, 1: 0.625, 2: 0.886}</td>\n",
       "      <td>{'precision': 0.8, 'recall': 0.784, 'f1-score': 0.791, 'support': 15304.0}</td>\n",
       "      <td>{'precision': 0.827, 'recall': 0.829, 'f1-score': 0.826, 'support': 15304.0}</td>\n",
       "      <td>0.829</td>\n",
       "      <td>103.133625</td>\n",
       "    </tr>\n",
       "    <tr>\n",
       "      <th>4</th>\n",
       "      <td>RandomForest_oversampling</td>\n",
       "      <td>{0: 0.907, 1: 0.628, 2: 0.855}</td>\n",
       "      <td>{0: 0.82, 1: 0.623, 2: 0.915}</td>\n",
       "      <td>{0: 0.862, 1: 0.626, 2: 0.884}</td>\n",
       "      <td>{'precision': 0.797, 'recall': 0.786, 'f1-score': 0.79, 'support': 15304.0}</td>\n",
       "      <td>{'precision': 0.828, 'recall': 0.826, 'f1-score': 0.826, 'support': 15304.0}</td>\n",
       "      <td>0.826</td>\n",
       "      <td>316.338247</td>\n",
       "    </tr>\n",
       "    <tr>\n",
       "      <th>5</th>\n",
       "      <td>RandomForest_undersampling</td>\n",
       "      <td>{0: 0.92, 1: 0.552, 2: 0.895}</td>\n",
       "      <td>{0: 0.794, 1: 0.763, 2: 0.838}</td>\n",
       "      <td>{0: 0.852, 1: 0.641, 2: 0.865}</td>\n",
       "      <td>{'precision': 0.789, 'recall': 0.798, 'f1-score': 0.786, 'support': 15304.0}</td>\n",
       "      <td>{'precision': 0.835, 'recall': 0.809, 'f1-score': 0.817, 'support': 15304.0}</td>\n",
       "      <td>0.809</td>\n",
       "      <td>74.577098</td>\n",
       "    </tr>\n",
       "    <tr>\n",
       "      <th>6</th>\n",
       "      <td>Naive_Bayes_no_preprocessing</td>\n",
       "      <td>{0: 0.863, 1: 0.526, 2: 0.787}</td>\n",
       "      <td>{0: 0.796, 1: 0.44, 2: 0.883}</td>\n",
       "      <td>{0: 0.828, 1: 0.479, 2: 0.833}</td>\n",
       "      <td>{'precision': 0.726, 'recall': 0.706, 'f1-score': 0.713, 'support': 15304.0}</td>\n",
       "      <td>{'precision': 0.761, 'recall': 0.767, 'f1-score': 0.761, 'support': 15304.0}</td>\n",
       "      <td>0.767</td>\n",
       "      <td>0.153431</td>\n",
       "    </tr>\n",
       "    <tr>\n",
       "      <th>7</th>\n",
       "      <td>Naive_Bayes_oversampling</td>\n",
       "      <td>{0: 0.856, 1: 0.52, 2: 0.84}</td>\n",
       "      <td>{0: 0.798, 1: 0.589, 2: 0.833}</td>\n",
       "      <td>{0: 0.826, 1: 0.552, 2: 0.837}</td>\n",
       "      <td>{'precision': 0.739, 'recall': 0.74, 'f1-score': 0.738, 'support': 15304.0}</td>\n",
       "      <td>{'precision': 0.782, 'recall': 0.774, 'f1-score': 0.777, 'support': 15304.0}</td>\n",
       "      <td>0.774</td>\n",
       "      <td>0.164299</td>\n",
       "    </tr>\n",
       "    <tr>\n",
       "      <th>8</th>\n",
       "      <td>Naive_Bayes_undersampling</td>\n",
       "      <td>{0: 0.866, 1: 0.518, 2: 0.806}</td>\n",
       "      <td>{0: 0.793, 1: 0.502, 2: 0.863}</td>\n",
       "      <td>{0: 0.828, 1: 0.51, 2: 0.834}</td>\n",
       "      <td>{'precision': 0.73, 'recall': 0.719, 'f1-score': 0.724, 'support': 15304.0}</td>\n",
       "      <td>{'precision': 0.769, 'recall': 0.769, 'f1-score': 0.768, 'support': 15304.0}</td>\n",
       "      <td>0.769</td>\n",
       "      <td>0.071734</td>\n",
       "    </tr>\n",
       "    <tr>\n",
       "      <th>9</th>\n",
       "      <td>KNN_no_preprocessing</td>\n",
       "      <td>{0: 0.71, 1: 0.48, 2: 0.661}</td>\n",
       "      <td>{0: 0.602, 1: 0.282, 2: 0.845}</td>\n",
       "      <td>{0: 0.651, 1: 0.355, 2: 0.742}</td>\n",
       "      <td>{'precision': 0.617, 'recall': 0.576, 'f1-score': 0.583, 'support': 15304.0}</td>\n",
       "      <td>{'precision': 0.642, 'recall': 0.654, 'f1-score': 0.636, 'support': 15304.0}</td>\n",
       "      <td>0.654</td>\n",
       "      <td>0.015181</td>\n",
       "    </tr>\n",
       "    <tr>\n",
       "      <th>10</th>\n",
       "      <td>KNN_oversampling</td>\n",
       "      <td>{0: 0.841, 1: 0.404, 2: 0.83}</td>\n",
       "      <td>{0: 0.716, 1: 0.662, 2: 0.695}</td>\n",
       "      <td>{0: 0.774, 1: 0.502, 2: 0.757}</td>\n",
       "      <td>{'precision': 0.692, 'recall': 0.691, 'f1-score': 0.677, 'support': 15304.0}</td>\n",
       "      <td>{'precision': 0.75, 'recall': 0.696, 'f1-score': 0.712, 'support': 15304.0}</td>\n",
       "      <td>0.696</td>\n",
       "      <td>0.019688</td>\n",
       "    </tr>\n",
       "    <tr>\n",
       "      <th>11</th>\n",
       "      <td>KNN_undersampling</td>\n",
       "      <td>{0: 0.85, 1: 0.41, 2: 0.814}</td>\n",
       "      <td>{0: 0.697, 1: 0.66, 2: 0.709}</td>\n",
       "      <td>{0: 0.766, 1: 0.506, 2: 0.758}</td>\n",
       "      <td>{'precision': 0.691, 'recall': 0.689, 'f1-score': 0.677, 'support': 15304.0}</td>\n",
       "      <td>{'precision': 0.746, 'recall': 0.696, 'f1-score': 0.711, 'support': 15304.0}</td>\n",
       "      <td>0.696</td>\n",
       "      <td>0.007833</td>\n",
       "    </tr>\n",
       "  </tbody>\n",
       "</table>\n",
       "</div>"
      ],
      "text/plain": [
       "                             model                       precision  \\\n",
       "0   Decision_tree_no_preprocessing  {0: 0.779, 1: 0.474, 2: 0.826}   \n",
       "1   Decision_tree_oversampling      {0: 0.786, 1: 0.485, 2: 0.833}   \n",
       "2   Decision_tree_undersampling     {0: 0.787, 1: 0.428, 2: 0.852}   \n",
       "3   RandomForest_no_preprocessing   {0: 0.902, 1: 0.647, 2: 0.85}    \n",
       "4   RandomForest_oversampling       {0: 0.907, 1: 0.628, 2: 0.855}   \n",
       "5   RandomForest_undersampling      {0: 0.92, 1: 0.552, 2: 0.895}    \n",
       "6   Naive_Bayes_no_preprocessing    {0: 0.863, 1: 0.526, 2: 0.787}   \n",
       "7   Naive_Bayes_oversampling        {0: 0.856, 1: 0.52, 2: 0.84}     \n",
       "8   Naive_Bayes_undersampling       {0: 0.866, 1: 0.518, 2: 0.806}   \n",
       "9   KNN_no_preprocessing            {0: 0.71, 1: 0.48, 2: 0.661}     \n",
       "10  KNN_oversampling                {0: 0.841, 1: 0.404, 2: 0.83}    \n",
       "11  KNN_undersampling               {0: 0.85, 1: 0.41, 2: 0.814}     \n",
       "\n",
       "                            recall                        f1-score  \\\n",
       "0   {0: 0.796, 1: 0.477, 2: 0.811}  {0: 0.787, 1: 0.476, 2: 0.818}   \n",
       "1   {0: 0.796, 1: 0.502, 2: 0.814}  {0: 0.791, 1: 0.494, 2: 0.824}   \n",
       "2   {0: 0.768, 1: 0.601, 2: 0.723}  {0: 0.777, 1: 0.5, 2: 0.782}     \n",
       "3   {0: 0.825, 1: 0.604, 2: 0.925}  {0: 0.862, 1: 0.625, 2: 0.886}   \n",
       "4   {0: 0.82, 1: 0.623, 2: 0.915}   {0: 0.862, 1: 0.626, 2: 0.884}   \n",
       "5   {0: 0.794, 1: 0.763, 2: 0.838}  {0: 0.852, 1: 0.641, 2: 0.865}   \n",
       "6   {0: 0.796, 1: 0.44, 2: 0.883}   {0: 0.828, 1: 0.479, 2: 0.833}   \n",
       "7   {0: 0.798, 1: 0.589, 2: 0.833}  {0: 0.826, 1: 0.552, 2: 0.837}   \n",
       "8   {0: 0.793, 1: 0.502, 2: 0.863}  {0: 0.828, 1: 0.51, 2: 0.834}    \n",
       "9   {0: 0.602, 1: 0.282, 2: 0.845}  {0: 0.651, 1: 0.355, 2: 0.742}   \n",
       "10  {0: 0.716, 1: 0.662, 2: 0.695}  {0: 0.774, 1: 0.502, 2: 0.757}   \n",
       "11  {0: 0.697, 1: 0.66, 2: 0.709}   {0: 0.766, 1: 0.506, 2: 0.758}   \n",
       "\n",
       "                                                                       macro_avg  \\\n",
       "0   {'precision': 0.693, 'recall': 0.695, 'f1-score': 0.694, 'support': 15304.0}   \n",
       "1   {'precision': 0.702, 'recall': 0.704, 'f1-score': 0.703, 'support': 15304.0}   \n",
       "2   {'precision': 0.689, 'recall': 0.698, 'f1-score': 0.687, 'support': 15304.0}   \n",
       "3   {'precision': 0.8, 'recall': 0.784, 'f1-score': 0.791, 'support': 15304.0}     \n",
       "4   {'precision': 0.797, 'recall': 0.786, 'f1-score': 0.79, 'support': 15304.0}    \n",
       "5   {'precision': 0.789, 'recall': 0.798, 'f1-score': 0.786, 'support': 15304.0}   \n",
       "6   {'precision': 0.726, 'recall': 0.706, 'f1-score': 0.713, 'support': 15304.0}   \n",
       "7   {'precision': 0.739, 'recall': 0.74, 'f1-score': 0.738, 'support': 15304.0}    \n",
       "8   {'precision': 0.73, 'recall': 0.719, 'f1-score': 0.724, 'support': 15304.0}    \n",
       "9   {'precision': 0.617, 'recall': 0.576, 'f1-score': 0.583, 'support': 15304.0}   \n",
       "10  {'precision': 0.692, 'recall': 0.691, 'f1-score': 0.677, 'support': 15304.0}   \n",
       "11  {'precision': 0.691, 'recall': 0.689, 'f1-score': 0.677, 'support': 15304.0}   \n",
       "\n",
       "                                                                    weighted_avg  \\\n",
       "0   {'precision': 0.741, 'recall': 0.74, 'f1-score': 0.741, 'support': 15304.0}    \n",
       "1   {'precision': 0.749, 'recall': 0.747, 'f1-score': 0.748, 'support': 15304.0}   \n",
       "2   {'precision': 0.747, 'recall': 0.714, 'f1-score': 0.725, 'support': 15304.0}   \n",
       "3   {'precision': 0.827, 'recall': 0.829, 'f1-score': 0.826, 'support': 15304.0}   \n",
       "4   {'precision': 0.828, 'recall': 0.826, 'f1-score': 0.826, 'support': 15304.0}   \n",
       "5   {'precision': 0.835, 'recall': 0.809, 'f1-score': 0.817, 'support': 15304.0}   \n",
       "6   {'precision': 0.761, 'recall': 0.767, 'f1-score': 0.761, 'support': 15304.0}   \n",
       "7   {'precision': 0.782, 'recall': 0.774, 'f1-score': 0.777, 'support': 15304.0}   \n",
       "8   {'precision': 0.769, 'recall': 0.769, 'f1-score': 0.768, 'support': 15304.0}   \n",
       "9   {'precision': 0.642, 'recall': 0.654, 'f1-score': 0.636, 'support': 15304.0}   \n",
       "10  {'precision': 0.75, 'recall': 0.696, 'f1-score': 0.712, 'support': 15304.0}    \n",
       "11  {'precision': 0.746, 'recall': 0.696, 'f1-score': 0.711, 'support': 15304.0}   \n",
       "\n",
       "    accuracy    time (s)  \n",
       "0   0.740     1.072654    \n",
       "1   0.747     6.156376    \n",
       "2   0.714     1.553906    \n",
       "3   0.829     103.133625  \n",
       "4   0.826     316.338247  \n",
       "5   0.809     74.577098   \n",
       "6   0.767     0.153431    \n",
       "7   0.774     0.164299    \n",
       "8   0.769     0.071734    \n",
       "9   0.654     0.015181    \n",
       "10  0.696     0.019688    \n",
       "11  0.696     0.007833    "
      ]
     },
     "execution_count": 83,
     "metadata": {},
     "output_type": "execute_result"
    }
   ],
   "source": [
    "df_results.to_csv('data/benchmarking.csv',index=False)\n",
    "df_results"
   ]
  }
 ],
 "metadata": {
  "kernelspec": {
   "display_name": "Python 3",
   "language": "python",
   "name": "python3"
  },
  "language_info": {
   "codemirror_mode": {
    "name": "ipython",
    "version": 3
   },
   "file_extension": ".py",
   "mimetype": "text/x-python",
   "name": "python",
   "nbconvert_exporter": "python",
   "pygments_lexer": "ipython3",
   "version": "3.11.4"
  }
 },
 "nbformat": 4,
 "nbformat_minor": 2
}
