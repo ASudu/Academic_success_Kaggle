{
 "cells": [
  {
   "cell_type": "markdown",
   "metadata": {},
   "source": [
    "# TESTING MODELS\n",
    "\n",
    "Let us try a few classification models\n",
    "## Classical ML models"
   ]
  },
  {
   "cell_type": "code",
   "execution_count": 1,
   "metadata": {},
   "outputs": [],
   "source": [
    "import pandas as pd\n",
    "import time\n",
    "import numpy as np\n",
    "import os\n",
    "from sklearn.preprocessing import StandardScaler, LabelEncoder\n",
    "from sklearn.metrics import roc_auc_score, multilabel_confusion_matrix, accuracy_score, classification_report, balanced_accuracy_score\n",
    "import matplotlib.pyplot as plt\n",
    "import seaborn as sns"
   ]
  },
  {
   "cell_type": "code",
   "execution_count": 2,
   "metadata": {},
   "outputs": [],
   "source": [
    "models = []"
   ]
  },
  {
   "cell_type": "code",
   "execution_count": 3,
   "metadata": {},
   "outputs": [
    {
     "data": {
      "text/plain": [
       "((75018, 53),\n",
       " Index(['id', 'marital_status', 'appln_mode', 'appln_order', 'prog_of_study',\n",
       "        'morn/eve_attend', 'prev_edu', 'prev_edu_grade', 'nationality',\n",
       "        'mom_edu', 'dad_edu', 'mom_occup', 'admission_grade', 'was_displaced',\n",
       "        'edu_spl_need', 'has_student_debt', 'no_fee_dues', 'gender',\n",
       "        'got_scholarship', 'age_at_start', 'sem1_units_credited',\n",
       "        'sem1_units_enrolled', 'sem1_units_eval', 'sem1_units_approved',\n",
       "        'sem1_units_grade', 'sem1_units_no_eval', 'sem2_units_credited',\n",
       "        'sem2_units_enrolled', 'sem2_units_eval', 'sem2_units_approved',\n",
       "        'sem2_units_grade', 'sem2_units_no_eval', 'unemployment_rate',\n",
       "        'inflation', 'gdp', 'Target', 'marital_status_log', 'appln_order_log',\n",
       "        'prog_of_study_log', 'morn/eve_attend_log', 'prev_edu_log',\n",
       "        'mom_occup_log', 'edu_spl_need_log', 'has_student_debt_log',\n",
       "        'no_fee_dues_log', 'got_scholarship_log', 'age_at_start_log',\n",
       "        'sem1_units_credited_log', 'sem1_units_grade_log',\n",
       "        'sem1_units_no_eval_log', 'sem2_units_credited_log',\n",
       "        'sem2_units_grade_log', 'sem2_units_no_eval_log'],\n",
       "       dtype='object'),\n",
       " ['sem2_units_approved',\n",
       "  'no_fee_dues',\n",
       "  'got_scholarship',\n",
       "  'sem2_units_enrolled',\n",
       "  'sem2_units_eval',\n",
       "  'admission_grade',\n",
       "  'prog_of_study',\n",
       "  'sem1_units_eval',\n",
       "  'prev_edu_grade',\n",
       "  'was_displaced',\n",
       "  'appln_order_log',\n",
       "  'morn/eve_attend',\n",
       "  'gdp',\n",
       "  'marital_status_log',\n",
       "  'has_student_debt',\n",
       "  'appln_mode',\n",
       "  'gender',\n",
       "  'age_at_start'])"
      ]
     },
     "execution_count": 3,
     "metadata": {},
     "output_type": "execute_result"
    }
   ],
   "source": [
    "df = pd.read_csv('data/cleaned_train.csv')\n",
    "feats = []\n",
    "with open('data/features.txt','r') as f:\n",
    "    feats = [x[:-1] for x in f.readlines()]\n",
    "df.shape, df.columns, feats"
   ]
  },
  {
   "cell_type": "markdown",
   "metadata": {},
   "source": [
    "We use only the selected features"
   ]
  },
  {
   "cell_type": "code",
   "execution_count": 4,
   "metadata": {},
   "outputs": [],
   "source": [
    "X,y = df.drop(columns=['Target','id','nationality']).values, df['Target'].values"
   ]
  },
  {
   "cell_type": "code",
   "execution_count": 5,
   "metadata": {},
   "outputs": [
    {
     "data": {
      "text/plain": [
       "(Target\n",
       " Graduate    36603\n",
       " Dropout     23669\n",
       " Enrolled    14746\n",
       " Name: count, dtype: int64,\n",
       " <Axes: >)"
      ]
     },
     "execution_count": 5,
     "metadata": {},
     "output_type": "execute_result"
    },
    {
     "data": {
      "image/png": "[encoded data removed]",
      "text/plain": [
       "<Figure size 640x480 with 1 Axes>"
      ]
     },
     "metadata": {},
     "output_type": "display_data"
    }
   ],
   "source": [
    "df['Target'].value_counts(), df['Target'].hist()"
   ]
  },
  {
   "cell_type": "markdown",
   "metadata": {},
   "source": [
    "So we have an imbalanced dataset. To handle this - for classical ML models, we oversample the smaller classes"
   ]
  },
  {
   "cell_type": "code",
   "execution_count": 6,
   "metadata": {},
   "outputs": [],
   "source": [
    "# Train test split\n",
    "from sklearn.model_selection import train_test_split\n",
    "\n",
    "le = LabelEncoder()\n",
    "y_l = le.fit(y)\n",
    "y_enc = y_l.transform(y)\n",
    "\n",
    "X_train, X_val, y_train, y_val = train_test_split(X, y_enc, test_size=0.2, random_state=42)"
   ]
  },
  {
   "cell_type": "markdown",
   "metadata": {},
   "source": [
    "### Decision tree\n",
    "\n",
    "First we check the performance without any oversampling"
   ]
  },
  {
   "cell_type": "code",
   "execution_count": 7,
   "metadata": {},
   "outputs": [],
   "source": [
    "from sklearn import tree"
   ]
  },
  {
   "cell_type": "code",
   "execution_count": 8,
   "metadata": {},
   "outputs": [
    {
     "name": "stdout",
     "output_type": "stream",
     "text": [
      "CPU times: total: 797 ms\n",
      "Wall time: 860 ms\n"
     ]
    }
   ],
   "source": [
    "%%time\n",
    "model_dt = tree.DecisionTreeClassifier()\n",
    "start = time.perf_counter()\n",
    "model_dt.fit(X_train,y_train)\n",
    "end = time.perf_counter()"
   ]
  },
  {
   "cell_type": "code",
   "execution_count": 9,
   "metadata": {},
   "outputs": [
    {
     "data": {
      "text/plain": [
       "array([[[ 9393,   912],\n",
       "        [  800,  3899]],\n",
       "\n",
       "       [[10545,  1498],\n",
       "        [ 1420,  1541]],\n",
       "\n",
       "       [[ 6496,  1164],\n",
       "        [ 1354,  5990]]], dtype=int64)"
      ]
     },
     "execution_count": 9,
     "metadata": {},
     "output_type": "execute_result"
    }
   ],
   "source": [
    "y_pred = model_dt.predict(X_val)\n",
    "mat = multilabel_confusion_matrix(y_val,y_pred)\n",
    "mat"
   ]
  },
  {
   "cell_type": "code",
   "execution_count": 10,
   "metadata": {},
   "outputs": [
    {
     "data": {
      "text/plain": [
       "(0.7219383685073244, 0.7617968541722208)"
      ]
     },
     "execution_count": 10,
     "metadata": {},
     "output_type": "execute_result"
    }
   ],
   "source": [
    "balanced_accuracy_score(y_val,y_pred), accuracy_score(y_val,y_pred)"
   ]
  },
  {
   "cell_type": "code",
   "execution_count": 11,
   "metadata": {},
   "outputs": [
    {
     "name": "stdout",
     "output_type": "stream",
     "text": [
      "DECISION TREE - NO PREPROCESSING\n"
     ]
    },
    {
     "data": {
      "text/html": [
       "<div>\n",
       "<style scoped>\n",
       "    .dataframe tbody tr th:only-of-type {\n",
       "        vertical-align: middle;\n",
       "    }\n",
       "\n",
       "    .dataframe tbody tr th {\n",
       "        vertical-align: top;\n",
       "    }\n",
       "\n",
       "    .dataframe thead th {\n",
       "        text-align: right;\n",
       "    }\n",
       "</style>\n",
       "<table border=\"1\" class=\"dataframe\">\n",
       "  <thead>\n",
       "    <tr style=\"text-align: right;\">\n",
       "      <th></th>\n",
       "      <th>model</th>\n",
       "      <th>metrics</th>\n",
       "      <th>training_time(s)</th>\n",
       "    </tr>\n",
       "  </thead>\n",
       "  <tbody>\n",
       "    <tr>\n",
       "      <th>0</th>\n",
       "      <td>Decision_tree_no_preprocessing</td>\n",
       "      <td>{'0': {'precision': 0.8104344211182706, 'recal...</td>\n",
       "      <td>0.860545</td>\n",
       "    </tr>\n",
       "  </tbody>\n",
       "</table>\n",
       "</div>"
      ],
      "text/plain": [
       "                            model  \\\n",
       "0  Decision_tree_no_preprocessing   \n",
       "\n",
       "                                             metrics  training_time(s)  \n",
       "0  {'0': {'precision': 0.8104344211182706, 'recal...          0.860545  "
      ]
     },
     "execution_count": 11,
     "metadata": {},
     "output_type": "execute_result"
    }
   ],
   "source": [
    "print('DECISION TREE - NO PREPROCESSING')\n",
    "x = classification_report(y_val, y_pred, labels = sorted(list(set(y_enc))), digits=4, output_dict=True)\n",
    "models.append({'model':'Decision_tree_no_preprocessing', 'metrics': x, 'training_time(s)':(end-start)})\n",
    "pd.DataFrame(models)"
   ]
  },
  {
   "cell_type": "markdown",
   "metadata": {},
   "source": [
    "Next, let us use `SMOTE` (Synthetic Minority Over-sampling Technique) to oversample the minority classes"
   ]
  },
  {
   "cell_type": "code",
   "execution_count": 12,
   "metadata": {},
   "outputs": [],
   "source": [
    "from imblearn.over_sampling import SMOTE\n",
    "from collections import Counter"
   ]
  },
  {
   "cell_type": "code",
   "execution_count": 13,
   "metadata": {},
   "outputs": [
    {
     "name": "stdout",
     "output_type": "stream",
     "text": [
      "Before Oversampling [(0, 18970), (1, 11785), (2, 29259)]\n",
      "After Oversampling [(0, 29259), (1, 29259), (2, 29259)]\n"
     ]
    }
   ],
   "source": [
    "#Apply Over Sampling\n",
    "print(f'Before Oversampling {sorted(Counter(y_train).items())}')\n",
    "X_train1, y_train1 = SMOTE().fit_resample(X_train, y_train)\n",
    "print(f'After Oversampling {sorted(Counter(y_train1).items())}')"
   ]
  },
  {
   "cell_type": "code",
   "execution_count": 14,
   "metadata": {},
   "outputs": [
    {
     "name": "stdout",
     "output_type": "stream",
     "text": [
      "CPU times: total: 2.7 s\n",
      "Wall time: 2.77 s\n"
     ]
    }
   ],
   "source": [
    "%%time\n",
    "model_dt = tree.DecisionTreeClassifier()\n",
    "start = time.perf_counter()\n",
    "model_dt.fit(X_train1,y_train1)\n",
    "end = time.perf_counter()"
   ]
  },
  {
   "cell_type": "code",
   "execution_count": 15,
   "metadata": {},
   "outputs": [
    {
     "data": {
      "text/plain": [
       "array([[[ 9437,   868],\n",
       "        [  775,  3924]],\n",
       "\n",
       "       [[10509,  1534],\n",
       "        [ 1374,  1587]],\n",
       "\n",
       "       [[ 6519,  1141],\n",
       "        [ 1394,  5950]]], dtype=int64)"
      ]
     },
     "execution_count": 15,
     "metadata": {},
     "output_type": "execute_result"
    }
   ],
   "source": [
    "y_pred = model_dt.predict(X_val)\n",
    "mat = multilabel_confusion_matrix(y_val,y_pred)\n",
    "mat"
   ]
  },
  {
   "cell_type": "code",
   "execution_count": 16,
   "metadata": {},
   "outputs": [
    {
     "data": {
      "text/plain": [
       "(0.7270746851567201, 0.7638629698747)"
      ]
     },
     "execution_count": 16,
     "metadata": {},
     "output_type": "execute_result"
    }
   ],
   "source": [
    "balanced_accuracy_score(y_val,y_pred), accuracy_score(y_val,y_pred)"
   ]
  },
  {
   "cell_type": "code",
   "execution_count": 17,
   "metadata": {},
   "outputs": [
    {
     "name": "stdout",
     "output_type": "stream",
     "text": [
      "DECISION TREE - SMOTE\n"
     ]
    },
    {
     "data": {
      "text/html": [
       "<div>\n",
       "<style scoped>\n",
       "    .dataframe tbody tr th:only-of-type {\n",
       "        vertical-align: middle;\n",
       "    }\n",
       "\n",
       "    .dataframe tbody tr th {\n",
       "        vertical-align: top;\n",
       "    }\n",
       "\n",
       "    .dataframe thead th {\n",
       "        text-align: right;\n",
       "    }\n",
       "</style>\n",
       "<table border=\"1\" class=\"dataframe\">\n",
       "  <thead>\n",
       "    <tr style=\"text-align: right;\">\n",
       "      <th></th>\n",
       "      <th>model</th>\n",
       "      <th>metrics</th>\n",
       "      <th>training_time(s)</th>\n",
       "    </tr>\n",
       "  </thead>\n",
       "  <tbody>\n",
       "    <tr>\n",
       "      <th>0</th>\n",
       "      <td>Decision_tree_no_preprocessing</td>\n",
       "      <td>{'0': {'precision': 0.8104344211182706, 'recal...</td>\n",
       "      <td>0.860545</td>\n",
       "    </tr>\n",
       "    <tr>\n",
       "      <th>1</th>\n",
       "      <td>Decision_tree_oversampling</td>\n",
       "      <td>{'0': {'precision': 0.8188647746243739, 'recal...</td>\n",
       "      <td>2.772430</td>\n",
       "    </tr>\n",
       "  </tbody>\n",
       "</table>\n",
       "</div>"
      ],
      "text/plain": [
       "                            model  \\\n",
       "0  Decision_tree_no_preprocessing   \n",
       "1      Decision_tree_oversampling   \n",
       "\n",
       "                                             metrics  training_time(s)  \n",
       "0  {'0': {'precision': 0.8104344211182706, 'recal...          0.860545  \n",
       "1  {'0': {'precision': 0.8188647746243739, 'recal...          2.772430  "
      ]
     },
     "execution_count": 17,
     "metadata": {},
     "output_type": "execute_result"
    }
   ],
   "source": [
    "print('DECISION TREE - SMOTE')\n",
    "x = classification_report(y_val, y_pred, labels = sorted(list(set(y_enc))), digits=4, output_dict=True)\n",
    "models.append({'model':'Decision_tree_oversampling', 'metrics': x, 'training_time(s)':(end-start)})\n",
    "pd.DataFrame(models)"
   ]
  },
  {
   "cell_type": "markdown",
   "metadata": {},
   "source": [
    "Let us try an undersampler"
   ]
  },
  {
   "cell_type": "code",
   "execution_count": 18,
   "metadata": {},
   "outputs": [],
   "source": [
    "from imblearn.under_sampling import RandomUnderSampler"
   ]
  },
  {
   "cell_type": "code",
   "execution_count": 19,
   "metadata": {},
   "outputs": [
    {
     "name": "stdout",
     "output_type": "stream",
     "text": [
      "Before Undersampling [(0, 18970), (1, 11785), (2, 29259)]\n",
      "After Undersampling [(0, 11785), (1, 11785), (2, 11785)]\n"
     ]
    }
   ],
   "source": [
    "#Apply Random Under Sampling\n",
    "rus = RandomUnderSampler(random_state=0)\n",
    "print(f'Before Undersampling {sorted(Counter(y_train).items())}')\n",
    "X_train1, y_train1 =rus.fit_resample(X_train, y_train)\n",
    "print(f'After Undersampling {sorted(Counter(y_train1).items())}')"
   ]
  },
  {
   "cell_type": "code",
   "execution_count": 20,
   "metadata": {},
   "outputs": [
    {
     "name": "stdout",
     "output_type": "stream",
     "text": [
      "CPU times: total: 266 ms\n",
      "Wall time: 619 ms\n"
     ]
    }
   ],
   "source": [
    "%%time\n",
    "model_dt = tree.DecisionTreeClassifier()\n",
    "start = time.perf_counter()\n",
    "model_dt.fit(X_train1,y_train1)\n",
    "end = time.perf_counter()"
   ]
  },
  {
   "cell_type": "code",
   "execution_count": 21,
   "metadata": {},
   "outputs": [
    {
     "data": {
      "text/plain": [
       "array([[[9415,  890],\n",
       "        [ 847, 3852]],\n",
       "\n",
       "       [[9875, 2168],\n",
       "        [1068, 1893]],\n",
       "\n",
       "       [[6795,  865],\n",
       "        [2008, 5336]]], dtype=int64)"
      ]
     },
     "execution_count": 21,
     "metadata": {},
     "output_type": "execute_result"
    }
   ],
   "source": [
    "y_pred = model_dt.predict(X_val)\n",
    "mat = multilabel_confusion_matrix(y_val,y_pred)\n",
    "mat"
   ]
  },
  {
   "cell_type": "code",
   "execution_count": 22,
   "metadata": {},
   "outputs": [
    {
     "data": {
      "text/plain": [
       "(0.7285464823348464, 0.7385363902959211)"
      ]
     },
     "execution_count": 22,
     "metadata": {},
     "output_type": "execute_result"
    }
   ],
   "source": [
    "balanced_accuracy_score(y_val,y_pred), accuracy_score(y_val,y_pred)"
   ]
  },
  {
   "cell_type": "code",
   "execution_count": 23,
   "metadata": {},
   "outputs": [
    {
     "name": "stdout",
     "output_type": "stream",
     "text": [
      "DECISION TREE - Random Undersampler\n"
     ]
    },
    {
     "data": {
      "text/html": [
       "<div>\n",
       "<style scoped>\n",
       "    .dataframe tbody tr th:only-of-type {\n",
       "        vertical-align: middle;\n",
       "    }\n",
       "\n",
       "    .dataframe tbody tr th {\n",
       "        vertical-align: top;\n",
       "    }\n",
       "\n",
       "    .dataframe thead th {\n",
       "        text-align: right;\n",
       "    }\n",
       "</style>\n",
       "<table border=\"1\" class=\"dataframe\">\n",
       "  <thead>\n",
       "    <tr style=\"text-align: right;\">\n",
       "      <th></th>\n",
       "      <th>model</th>\n",
       "      <th>metrics</th>\n",
       "      <th>training_time(s)</th>\n",
       "    </tr>\n",
       "  </thead>\n",
       "  <tbody>\n",
       "    <tr>\n",
       "      <th>0</th>\n",
       "      <td>Decision_tree_no_preprocessing</td>\n",
       "      <td>{'0': {'precision': 0.8104344211182706, 'recal...</td>\n",
       "      <td>0.860545</td>\n",
       "    </tr>\n",
       "    <tr>\n",
       "      <th>1</th>\n",
       "      <td>Decision_tree_oversampling</td>\n",
       "      <td>{'0': {'precision': 0.8188647746243739, 'recal...</td>\n",
       "      <td>2.772430</td>\n",
       "    </tr>\n",
       "    <tr>\n",
       "      <th>2</th>\n",
       "      <td>Decision_tree_undersampling</td>\n",
       "      <td>{'0': {'precision': 0.8123154787009701, 'recal...</td>\n",
       "      <td>0.618921</td>\n",
       "    </tr>\n",
       "  </tbody>\n",
       "</table>\n",
       "</div>"
      ],
      "text/plain": [
       "                            model  \\\n",
       "0  Decision_tree_no_preprocessing   \n",
       "1      Decision_tree_oversampling   \n",
       "2     Decision_tree_undersampling   \n",
       "\n",
       "                                             metrics  training_time(s)  \n",
       "0  {'0': {'precision': 0.8104344211182706, 'recal...          0.860545  \n",
       "1  {'0': {'precision': 0.8188647746243739, 'recal...          2.772430  \n",
       "2  {'0': {'precision': 0.8123154787009701, 'recal...          0.618921  "
      ]
     },
     "execution_count": 23,
     "metadata": {},
     "output_type": "execute_result"
    }
   ],
   "source": [
    "print('DECISION TREE - Random Undersampler')\n",
    "x = classification_report(y_val, y_pred, labels = sorted(list(set(y_enc))), digits=4, output_dict=True)\n",
    "models.append({'model':'Decision_tree_undersampling', 'metrics': x, 'training_time(s)':(end-start)})\n",
    "pd.DataFrame(models)"
   ]
  },
  {
   "cell_type": "markdown",
   "metadata": {},
   "source": [
    "So, the performance is not vastly affected by the oversampling or undersampling => Decision tree is robust to imbalanced data\n",
    "\n",
    "### Random Forest"
   ]
  },
  {
   "cell_type": "code",
   "execution_count": 24,
   "metadata": {},
   "outputs": [],
   "source": [
    "from sklearn.ensemble import RandomForestClassifier"
   ]
  },
  {
   "cell_type": "code",
   "execution_count": 25,
   "metadata": {},
   "outputs": [
    {
     "name": "stdout",
     "output_type": "stream",
     "text": [
      "n_estimators: 5, time_taken: 0.6089823001530021s, accuracy: 0.798653692348707\n",
      "n_estimators: 10, time_taken: 1.1606748001649976s, accuracy: 0.817981871500933\n",
      "n_estimators: 20, time_taken: 2.5849787001498044s, accuracy: 0.8260463876299653\n",
      "n_estimators: 50, time_taken: 6.402804699959233s, accuracy: 0.8325779792055452\n",
      "n_estimators: 100, time_taken: 12.281118700047955s, accuracy: 0.8337776592908558\n",
      "n_estimators: 200, time_taken: 25.394146300153807s, accuracy: 0.8361770194614769\n",
      "n_estimators: 300, time_taken: 36.25085399998352s, accuracy: 0.836910157291389\n"
     ]
    }
   ],
   "source": [
    "estims = [5,10,20,50,100,200,300]\n",
    "model = RandomForestClassifier()\n",
    "acc,tim = [], []\n",
    "for x in estims:\n",
    "    model = RandomForestClassifier(n_estimators=x,warm_start=True)\n",
    "    start = time.perf_counter()\n",
    "    model.fit(X_train,y_train)\n",
    "    end = time.perf_counter()\n",
    "    y_pred = model.predict(X_val)\n",
    "    _acc = accuracy_score(y_val,y_pred)\n",
    "    tim.append(end-start)\n",
    "    print(f'n_estimators: {x}, time_taken: {end-start}s, accuracy: {_acc}')\n",
    "    acc.append(_acc)"
   ]
  },
  {
   "cell_type": "markdown",
   "metadata": {},
   "source": [
    "Pick best model"
   ]
  },
  {
   "cell_type": "code",
   "execution_count": 26,
   "metadata": {},
   "outputs": [
    {
     "name": "stdout",
     "output_type": "stream",
     "text": [
      "n_estimators: 300, time_taken: 34.53130759997293s, accuracy: 0.8358437749933351\n"
     ]
    }
   ],
   "source": [
    "model1 = RandomForestClassifier(n_estimators=estims[np.argmax(acc)],warm_start=True)\n",
    "start = time.perf_counter()\n",
    "model1.fit(X_train,y_train)\n",
    "end = time.perf_counter()\n",
    "y_pred = model1.predict(X_val)\n",
    "_acc = accuracy_score(y_val,y_pred)\n",
    "print(f'n_estimators: {x}, time_taken: {end-start}s, accuracy: {_acc}')"
   ]
  },
  {
   "cell_type": "code",
   "execution_count": 27,
   "metadata": {},
   "outputs": [
    {
     "data": {
      "text/plain": [
       "<bound method BaseEstimator.get_params of RandomForestClassifier(n_estimators=300, warm_start=True)>"
      ]
     },
     "execution_count": 27,
     "metadata": {},
     "output_type": "execute_result"
    }
   ],
   "source": [
    "model.get_params"
   ]
  },
  {
   "cell_type": "code",
   "execution_count": 28,
   "metadata": {},
   "outputs": [
    {
     "data": {
      "text/html": [
       "<div>\n",
       "<style scoped>\n",
       "    .dataframe tbody tr th:only-of-type {\n",
       "        vertical-align: middle;\n",
       "    }\n",
       "\n",
       "    .dataframe tbody tr th {\n",
       "        vertical-align: top;\n",
       "    }\n",
       "\n",
       "    .dataframe thead th {\n",
       "        text-align: right;\n",
       "    }\n",
       "</style>\n",
       "<table border=\"1\" class=\"dataframe\">\n",
       "  <thead>\n",
       "    <tr style=\"text-align: right;\">\n",
       "      <th></th>\n",
       "      <th>model</th>\n",
       "      <th>metrics</th>\n",
       "      <th>training_time(s)</th>\n",
       "    </tr>\n",
       "  </thead>\n",
       "  <tbody>\n",
       "    <tr>\n",
       "      <th>0</th>\n",
       "      <td>Decision_tree_no_preprocessing</td>\n",
       "      <td>{'0': {'precision': 0.8104344211182706, 'recal...</td>\n",
       "      <td>0.860545</td>\n",
       "    </tr>\n",
       "    <tr>\n",
       "      <th>1</th>\n",
       "      <td>Decision_tree_oversampling</td>\n",
       "      <td>{'0': {'precision': 0.8188647746243739, 'recal...</td>\n",
       "      <td>2.772430</td>\n",
       "    </tr>\n",
       "    <tr>\n",
       "      <th>2</th>\n",
       "      <td>Decision_tree_undersampling</td>\n",
       "      <td>{'0': {'precision': 0.8123154787009701, 'recal...</td>\n",
       "      <td>0.618921</td>\n",
       "    </tr>\n",
       "    <tr>\n",
       "      <th>3</th>\n",
       "      <td>RandomForest_no_preprocessing</td>\n",
       "      <td>{'0': {'precision': 0.9459261071690727, 'recal...</td>\n",
       "      <td>36.250854</td>\n",
       "    </tr>\n",
       "  </tbody>\n",
       "</table>\n",
       "</div>"
      ],
      "text/plain": [
       "                            model  \\\n",
       "0  Decision_tree_no_preprocessing   \n",
       "1      Decision_tree_oversampling   \n",
       "2     Decision_tree_undersampling   \n",
       "3   RandomForest_no_preprocessing   \n",
       "\n",
       "                                             metrics  training_time(s)  \n",
       "0  {'0': {'precision': 0.8104344211182706, 'recal...          0.860545  \n",
       "1  {'0': {'precision': 0.8188647746243739, 'recal...          2.772430  \n",
       "2  {'0': {'precision': 0.8123154787009701, 'recal...          0.618921  \n",
       "3  {'0': {'precision': 0.9459261071690727, 'recal...         36.250854  "
      ]
     },
     "execution_count": 28,
     "metadata": {},
     "output_type": "execute_result"
    }
   ],
   "source": [
    "y_pred = model.predict(X_val)\n",
    "x = classification_report(y_val, y_pred, digits=4, labels=sorted(list(set(y_enc))), output_dict=True)\n",
    "models.append({'model': 'RandomForest_no_preprocessing', 'metrics': x, 'training_time(s)': tim[-1]})\n",
    "pd.DataFrame(models)"
   ]
  },
  {
   "cell_type": "code",
   "execution_count": 29,
   "metadata": {},
   "outputs": [
    {
     "data": {
      "text/plain": [
       "Text(0.5, 1.0, 'Training time')"
      ]
     },
     "execution_count": 29,
     "metadata": {},
     "output_type": "execute_result"
    },
    {
     "data": {
      "image/png": "[encoded data removed]",
      "text/plain": [
       "<Figure size 1000x500 with 2 Axes>"
      ]
     },
     "metadata": {},
     "output_type": "display_data"
    }
   ],
   "source": [
    "fig = plt.figure(figsize=(10,5))\n",
    "\n",
    "ax1 = fig.add_subplot(121)\n",
    "ax1.plot(estims,acc)\n",
    "ax1.set_title('Accuracy')\n",
    "\n",
    "ax2 = fig.add_subplot(122)\n",
    "ax2.plot(estims,tim)\n",
    "ax2.set_title('Training time')"
   ]
  },
  {
   "cell_type": "markdown",
   "metadata": {},
   "source": [
    "Try with SMOTE"
   ]
  },
  {
   "cell_type": "code",
   "execution_count": 30,
   "metadata": {},
   "outputs": [
    {
     "name": "stdout",
     "output_type": "stream",
     "text": [
      "n_estimators: 5, time_taken: 1.8180452999658883s, accuracy: 0.7990535857104772\n",
      "n_estimators: 10, time_taken: 3.404166700085625s, accuracy: 0.8167155425219942\n",
      "n_estimators: 20, time_taken: 6.501640300033614s, accuracy: 0.8281791522260731\n",
      "n_estimators: 50, time_taken: 16.40562820015475s, accuracy: 0.8348440415889096\n",
      "n_estimators: 100, time_taken: 32.49802020005882s, accuracy: 0.8325779792055452\n",
      "n_estimators: 200, time_taken: 66.96973069990054s, accuracy: 0.8339776059717409\n",
      "n_estimators: 300, time_taken: 101.39715679991059s, accuracy: 0.83564382831245\n"
     ]
    }
   ],
   "source": [
    "X_train1, y_train1 = SMOTE().fit_resample(X_train,y_train)\n",
    "estims = [5,10,20,50,100,200,300]\n",
    "model = RandomForestClassifier()\n",
    "acc,tim = [], []\n",
    "for x in estims:\n",
    "    model = RandomForestClassifier(n_estimators=x,warm_start=True)\n",
    "    start = time.perf_counter()\n",
    "    model.fit(X_train1,y_train1)\n",
    "    end = time.perf_counter()\n",
    "    y_pred = model.predict(X_val)\n",
    "    _acc = accuracy_score(y_val,y_pred)\n",
    "    tim.append(end-start)\n",
    "    print(f'n_estimators: {x}, time_taken: {end-start}s, accuracy: {_acc}')\n",
    "    acc.append(_acc)"
   ]
  },
  {
   "cell_type": "markdown",
   "metadata": {},
   "source": [
    "Pick best model"
   ]
  },
  {
   "cell_type": "code",
   "execution_count": 31,
   "metadata": {},
   "outputs": [
    {
     "name": "stdout",
     "output_type": "stream",
     "text": [
      "n_estimators: 300, time_taken: 98.9995502999518s, accuracy: 0.834377499333511\n"
     ]
    }
   ],
   "source": [
    "model1 = RandomForestClassifier(n_estimators=estims[np.argmax(acc)],warm_start=True)\n",
    "start = time.perf_counter()\n",
    "model1.fit(X_train1,y_train1)\n",
    "end = time.perf_counter()\n",
    "y_pred = model1.predict(X_val)\n",
    "_acc = accuracy_score(y_val,y_pred)\n",
    "print(f'n_estimators: {estims[np.argmax(acc)]}, time_taken: {end-start}s, accuracy: {_acc}')"
   ]
  },
  {
   "cell_type": "code",
   "execution_count": 32,
   "metadata": {},
   "outputs": [
    {
     "data": {
      "text/plain": [
       "array([0.00085794, 0.00897412, 0.00755175, 0.01164801, 0.00071681,\n",
       "       0.00178633, 0.02061613, 0.01145813, 0.0116095 , 0.01225075,\n",
       "       0.02306628, 0.00645983, 0.00037726, 0.00543462, 0.01897722,\n",
       "       0.01150224, 0.02124396, 0.01744002, 0.0016583 , 0.01042399,\n",
       "       0.03599685, 0.09925293, 0.07892178, 0.0015296 , 0.00145869,\n",
       "       0.01152203, 0.04579482, 0.13567061, 0.10590674, 0.00163278,\n",
       "       0.01366853, 0.01252585, 0.01434493, 0.00086169, 0.00776939,\n",
       "       0.01214518, 0.00071196, 0.00183338, 0.01218886, 0.00036751,\n",
       "       0.00576726, 0.02233614, 0.02062314, 0.01790347, 0.00173623,\n",
       "       0.05433655, 0.00153454, 0.00148508, 0.07454675, 0.00157353])"
      ]
     },
     "execution_count": 32,
     "metadata": {},
     "output_type": "execute_result"
    }
   ],
   "source": [
    "model.feature_importances_"
   ]
  },
  {
   "cell_type": "code",
   "execution_count": 33,
   "metadata": {},
   "outputs": [
    {
     "data": {
      "text/html": [
       "<div>\n",
       "<style scoped>\n",
       "    .dataframe tbody tr th:only-of-type {\n",
       "        vertical-align: middle;\n",
       "    }\n",
       "\n",
       "    .dataframe tbody tr th {\n",
       "        vertical-align: top;\n",
       "    }\n",
       "\n",
       "    .dataframe thead th {\n",
       "        text-align: right;\n",
       "    }\n",
       "</style>\n",
       "<table border=\"1\" class=\"dataframe\">\n",
       "  <thead>\n",
       "    <tr style=\"text-align: right;\">\n",
       "      <th></th>\n",
       "      <th>model</th>\n",
       "      <th>metrics</th>\n",
       "      <th>training_time(s)</th>\n",
       "    </tr>\n",
       "  </thead>\n",
       "  <tbody>\n",
       "    <tr>\n",
       "      <th>0</th>\n",
       "      <td>Decision_tree_no_preprocessing</td>\n",
       "      <td>{'0': {'precision': 0.8104344211182706, 'recal...</td>\n",
       "      <td>0.860545</td>\n",
       "    </tr>\n",
       "    <tr>\n",
       "      <th>1</th>\n",
       "      <td>Decision_tree_oversampling</td>\n",
       "      <td>{'0': {'precision': 0.8188647746243739, 'recal...</td>\n",
       "      <td>2.772430</td>\n",
       "    </tr>\n",
       "    <tr>\n",
       "      <th>2</th>\n",
       "      <td>Decision_tree_undersampling</td>\n",
       "      <td>{'0': {'precision': 0.8123154787009701, 'recal...</td>\n",
       "      <td>0.618921</td>\n",
       "    </tr>\n",
       "    <tr>\n",
       "      <th>3</th>\n",
       "      <td>RandomForest_no_preprocessing</td>\n",
       "      <td>{'0': {'precision': 0.9459261071690727, 'recal...</td>\n",
       "      <td>36.250854</td>\n",
       "    </tr>\n",
       "    <tr>\n",
       "      <th>4</th>\n",
       "      <td>RandomForest_oversampling</td>\n",
       "      <td>{'0': {'precision': 0.9539915443919423, 'recal...</td>\n",
       "      <td>101.397157</td>\n",
       "    </tr>\n",
       "  </tbody>\n",
       "</table>\n",
       "</div>"
      ],
      "text/plain": [
       "                            model  \\\n",
       "0  Decision_tree_no_preprocessing   \n",
       "1      Decision_tree_oversampling   \n",
       "2     Decision_tree_undersampling   \n",
       "3   RandomForest_no_preprocessing   \n",
       "4       RandomForest_oversampling   \n",
       "\n",
       "                                             metrics  training_time(s)  \n",
       "0  {'0': {'precision': 0.8104344211182706, 'recal...          0.860545  \n",
       "1  {'0': {'precision': 0.8188647746243739, 'recal...          2.772430  \n",
       "2  {'0': {'precision': 0.8123154787009701, 'recal...          0.618921  \n",
       "3  {'0': {'precision': 0.9459261071690727, 'recal...         36.250854  \n",
       "4  {'0': {'precision': 0.9539915443919423, 'recal...        101.397157  "
      ]
     },
     "execution_count": 33,
     "metadata": {},
     "output_type": "execute_result"
    }
   ],
   "source": [
    "y_pred = model.predict(X_val)\n",
    "x = classification_report(y_val, y_pred, digits=4, labels=sorted(list(set(y_enc))), output_dict=True)\n",
    "models.append({'model': 'RandomForest_oversampling', 'metrics': x, 'training_time(s)': tim[-1]})\n",
    "pd.DataFrame(models)"
   ]
  },
  {
   "cell_type": "code",
   "execution_count": 34,
   "metadata": {},
   "outputs": [
    {
     "data": {
      "text/plain": [
       "Text(0.5, 1.0, 'Training time')"
      ]
     },
     "execution_count": 34,
     "metadata": {},
     "output_type": "execute_result"
    },
    {
     "data": {
      "image/png": "[encoded data removed]",
      "text/plain": [
       "<Figure size 1000x500 with 2 Axes>"
      ]
     },
     "metadata": {},
     "output_type": "display_data"
    }
   ],
   "source": [
    "fig = plt.figure(figsize=(10,5))\n",
    "\n",
    "ax1 = fig.add_subplot(121)\n",
    "ax1.plot(estims,acc)\n",
    "ax1.set_title('Accuracy')\n",
    "\n",
    "ax2 = fig.add_subplot(122)\n",
    "ax2.plot(estims,tim)\n",
    "ax2.set_title('Training time')\n"
   ]
  },
  {
   "cell_type": "markdown",
   "metadata": {},
   "source": [
    "Let's try Undersampling"
   ]
  },
  {
   "cell_type": "code",
   "execution_count": 35,
   "metadata": {},
   "outputs": [
    {
     "name": "stdout",
     "output_type": "stream",
     "text": [
      "n_estimators: 5, time_taken: 0.36110900016501546s, accuracy: 0.7777259397494002\n",
      "n_estimators: 10, time_taken: 0.6810815001372248s, accuracy: 0.7886563583044521\n",
      "n_estimators: 20, time_taken: 1.3805982999037951s, accuracy: 0.8091175686483605\n",
      "n_estimators: 50, time_taken: 3.455957799917087s, accuracy: 0.8140495867768595\n",
      "n_estimators: 100, time_taken: 7.123992399778217s, accuracy: 0.8147827246067715\n",
      "n_estimators: 200, time_taken: 13.74379640002735s, accuracy: 0.81851506264996\n",
      "n_estimators: 300, time_taken: 20.6800759001635s, accuracy: 0.817248733671021\n"
     ]
    }
   ],
   "source": [
    "X_train1, y_train1 = RandomUnderSampler().fit_resample(X_train,y_train)\n",
    "estims = [5,10,20,50,100,200,300]\n",
    "model = RandomForestClassifier()\n",
    "acc,tim = [], []\n",
    "for x in estims:\n",
    "    model = RandomForestClassifier(n_estimators=x,warm_start=True)\n",
    "    start = time.perf_counter()\n",
    "    model.fit(X_train1,y_train1)\n",
    "    end = time.perf_counter()\n",
    "    y_pred = model.predict(X_val)\n",
    "    _acc = accuracy_score(y_val,y_pred)\n",
    "    tim.append(end-start)\n",
    "    print(f'n_estimators: {x}, time_taken: {end-start}s, accuracy: {_acc}')\n",
    "    acc.append(_acc)"
   ]
  },
  {
   "cell_type": "markdown",
   "metadata": {},
   "source": [
    "Pick best model"
   ]
  },
  {
   "cell_type": "code",
   "execution_count": 36,
   "metadata": {},
   "outputs": [
    {
     "name": "stdout",
     "output_type": "stream",
     "text": [
      "n_estimators: 200, time_taken: 14.040627799928188s, accuracy: 0.8180485203945614\n"
     ]
    }
   ],
   "source": [
    "model1 = RandomForestClassifier(n_estimators=estims[np.argmax(acc)],warm_start=True)\n",
    "start = time.perf_counter()\n",
    "model1.fit(X_train1,y_train1)\n",
    "end = time.perf_counter()\n",
    "y_pred = model1.predict(X_val)\n",
    "_acc = accuracy_score(y_val,y_pred)\n",
    "print(f'n_estimators: {estims[np.argmax(acc)]}, time_taken: {end-start}s, accuracy: {_acc}')"
   ]
  },
  {
   "cell_type": "code",
   "execution_count": 37,
   "metadata": {},
   "outputs": [
    {
     "data": {
      "text/plain": [
       "array([0.00081896, 0.01184638, 0.00864269, 0.01626438, 0.00095103,\n",
       "       0.00221041, 0.02727008, 0.01435757, 0.01448313, 0.01414406,\n",
       "       0.03256432, 0.00577364, 0.00037044, 0.00404876, 0.01520154,\n",
       "       0.00707941, 0.01037703, 0.01808894, 0.00200347, 0.00924107,\n",
       "       0.03530893, 0.0799825 , 0.08446286, 0.00171391, 0.00168897,\n",
       "       0.00969641, 0.04045545, 0.11661102, 0.1147253 , 0.00172241,\n",
       "       0.01586665, 0.01445497, 0.01670839, 0.00080484, 0.00865909,\n",
       "       0.01585285, 0.00096574, 0.0022575 , 0.01435852, 0.00039243,\n",
       "       0.00414923, 0.01577076, 0.01146035, 0.01780459, 0.00198026,\n",
       "       0.06707819, 0.00165465, 0.00163189, 0.08428108, 0.00176295])"
      ]
     },
     "execution_count": 37,
     "metadata": {},
     "output_type": "execute_result"
    }
   ],
   "source": [
    "model.feature_importances_"
   ]
  },
  {
   "cell_type": "code",
   "execution_count": 38,
   "metadata": {},
   "outputs": [
    {
     "data": {
      "text/html": [
       "<div>\n",
       "<style scoped>\n",
       "    .dataframe tbody tr th:only-of-type {\n",
       "        vertical-align: middle;\n",
       "    }\n",
       "\n",
       "    .dataframe tbody tr th {\n",
       "        vertical-align: top;\n",
       "    }\n",
       "\n",
       "    .dataframe thead th {\n",
       "        text-align: right;\n",
       "    }\n",
       "</style>\n",
       "<table border=\"1\" class=\"dataframe\">\n",
       "  <thead>\n",
       "    <tr style=\"text-align: right;\">\n",
       "      <th></th>\n",
       "      <th>model</th>\n",
       "      <th>metrics</th>\n",
       "      <th>training_time(s)</th>\n",
       "    </tr>\n",
       "  </thead>\n",
       "  <tbody>\n",
       "    <tr>\n",
       "      <th>0</th>\n",
       "      <td>Decision_tree_no_preprocessing</td>\n",
       "      <td>{'0': {'precision': 0.8104344211182706, 'recal...</td>\n",
       "      <td>0.860545</td>\n",
       "    </tr>\n",
       "    <tr>\n",
       "      <th>1</th>\n",
       "      <td>Decision_tree_oversampling</td>\n",
       "      <td>{'0': {'precision': 0.8188647746243739, 'recal...</td>\n",
       "      <td>2.772430</td>\n",
       "    </tr>\n",
       "    <tr>\n",
       "      <th>2</th>\n",
       "      <td>Decision_tree_undersampling</td>\n",
       "      <td>{'0': {'precision': 0.8123154787009701, 'recal...</td>\n",
       "      <td>0.618921</td>\n",
       "    </tr>\n",
       "    <tr>\n",
       "      <th>3</th>\n",
       "      <td>RandomForest_no_preprocessing</td>\n",
       "      <td>{'0': {'precision': 0.9459261071690727, 'recal...</td>\n",
       "      <td>36.250854</td>\n",
       "    </tr>\n",
       "    <tr>\n",
       "      <th>4</th>\n",
       "      <td>RandomForest_oversampling</td>\n",
       "      <td>{'0': {'precision': 0.9539915443919423, 'recal...</td>\n",
       "      <td>101.397157</td>\n",
       "    </tr>\n",
       "    <tr>\n",
       "      <th>5</th>\n",
       "      <td>RandomForest_undersampling</td>\n",
       "      <td>{'0': {'precision': 0.971882322311898, 'recall...</td>\n",
       "      <td>20.680076</td>\n",
       "    </tr>\n",
       "  </tbody>\n",
       "</table>\n",
       "</div>"
      ],
      "text/plain": [
       "                            model  \\\n",
       "0  Decision_tree_no_preprocessing   \n",
       "1      Decision_tree_oversampling   \n",
       "2     Decision_tree_undersampling   \n",
       "3   RandomForest_no_preprocessing   \n",
       "4       RandomForest_oversampling   \n",
       "5      RandomForest_undersampling   \n",
       "\n",
       "                                             metrics  training_time(s)  \n",
       "0  {'0': {'precision': 0.8104344211182706, 'recal...          0.860545  \n",
       "1  {'0': {'precision': 0.8188647746243739, 'recal...          2.772430  \n",
       "2  {'0': {'precision': 0.8123154787009701, 'recal...          0.618921  \n",
       "3  {'0': {'precision': 0.9459261071690727, 'recal...         36.250854  \n",
       "4  {'0': {'precision': 0.9539915443919423, 'recal...        101.397157  \n",
       "5  {'0': {'precision': 0.971882322311898, 'recall...         20.680076  "
      ]
     },
     "execution_count": 38,
     "metadata": {},
     "output_type": "execute_result"
    }
   ],
   "source": [
    "y_pred = model.predict(X_val)\n",
    "x = classification_report(y_val, y_pred, digits=4, labels=sorted(list(set(y_enc))), output_dict=True)\n",
    "models.append({'model': 'RandomForest_undersampling', 'metrics': x, 'training_time(s)': tim[-1]})\n",
    "pd.DataFrame(models)"
   ]
  },
  {
   "cell_type": "code",
   "execution_count": 39,
   "metadata": {},
   "outputs": [
    {
     "data": {
      "text/plain": [
       "Text(0.5, 1.0, 'Training time')"
      ]
     },
     "execution_count": 39,
     "metadata": {},
     "output_type": "execute_result"
    },
    {
     "data": {
      "image/png": "[encoded data removed]",
      "text/plain": [
       "<Figure size 1000x500 with 2 Axes>"
      ]
     },
     "metadata": {},
     "output_type": "display_data"
    }
   ],
   "source": [
    "fig = plt.figure(figsize=(10,5))\n",
    "\n",
    "ax1 = fig.add_subplot(121)\n",
    "ax1.plot(estims,acc)\n",
    "ax1.set_title('Accuracy')\n",
    "\n",
    "ax2 = fig.add_subplot(122)\n",
    "ax2.plot(estims,tim)\n",
    "ax2.set_title('Training time')\n"
   ]
  },
  {
   "cell_type": "markdown",
   "metadata": {},
   "source": [
    "### Naive Bayes"
   ]
  },
  {
   "cell_type": "code",
   "execution_count": 40,
   "metadata": {},
   "outputs": [],
   "source": [
    "from sklearn.naive_bayes import GaussianNB"
   ]
  },
  {
   "cell_type": "code",
   "execution_count": 41,
   "metadata": {},
   "outputs": [
    {
     "name": "stdout",
     "output_type": "stream",
     "text": [
      "CPU times: total: 46.9 ms\n",
      "Wall time: 66.8 ms\n"
     ]
    }
   ],
   "source": [
    "%%time\n",
    "model_nb = GaussianNB()\n",
    "start = time.perf_counter()\n",
    "model_nb.fit(X_train, y_train)\n",
    "end = time.perf_counter()"
   ]
  },
  {
   "cell_type": "code",
   "execution_count": 42,
   "metadata": {},
   "outputs": [
    {
     "data": {
      "text/plain": [
       "array([[[ 9667,   638],\n",
       "        [ 1001,  3698]],\n",
       "\n",
       "       [[10821,  1222],\n",
       "        [ 1635,  1326]],\n",
       "\n",
       "       [[ 5905,  1755],\n",
       "        [  979,  6365]]], dtype=int64)"
      ]
     },
     "execution_count": 42,
     "metadata": {},
     "output_type": "execute_result"
    }
   ],
   "source": [
    "y_pred = model_nb.predict(X_val)\n",
    "mat = multilabel_confusion_matrix(y_val,y_pred)\n",
    "mat"
   ]
  },
  {
   "cell_type": "code",
   "execution_count": 43,
   "metadata": {},
   "outputs": [
    {
     "data": {
      "text/plain": [
       "(0.7004971779922178, 0.7590642495334577)"
      ]
     },
     "execution_count": 43,
     "metadata": {},
     "output_type": "execute_result"
    }
   ],
   "source": [
    "balanced_accuracy_score(y_val,y_pred), accuracy_score(y_val,y_pred)"
   ]
  },
  {
   "cell_type": "code",
   "execution_count": 44,
   "metadata": {},
   "outputs": [
    {
     "name": "stdout",
     "output_type": "stream",
     "text": [
      "NAIVE BAYES - No preprocessing\n"
     ]
    },
    {
     "data": {
      "text/html": [
       "<div>\n",
       "<style scoped>\n",
       "    .dataframe tbody tr th:only-of-type {\n",
       "        vertical-align: middle;\n",
       "    }\n",
       "\n",
       "    .dataframe tbody tr th {\n",
       "        vertical-align: top;\n",
       "    }\n",
       "\n",
       "    .dataframe thead th {\n",
       "        text-align: right;\n",
       "    }\n",
       "</style>\n",
       "<table border=\"1\" class=\"dataframe\">\n",
       "  <thead>\n",
       "    <tr style=\"text-align: right;\">\n",
       "      <th></th>\n",
       "      <th>model</th>\n",
       "      <th>metrics</th>\n",
       "      <th>training_time(s)</th>\n",
       "    </tr>\n",
       "  </thead>\n",
       "  <tbody>\n",
       "    <tr>\n",
       "      <th>0</th>\n",
       "      <td>Decision_tree_no_preprocessing</td>\n",
       "      <td>{'0': {'precision': 0.8104344211182706, 'recal...</td>\n",
       "      <td>0.860545</td>\n",
       "    </tr>\n",
       "    <tr>\n",
       "      <th>1</th>\n",
       "      <td>Decision_tree_oversampling</td>\n",
       "      <td>{'0': {'precision': 0.8188647746243739, 'recal...</td>\n",
       "      <td>2.772430</td>\n",
       "    </tr>\n",
       "    <tr>\n",
       "      <th>2</th>\n",
       "      <td>Decision_tree_undersampling</td>\n",
       "      <td>{'0': {'precision': 0.8123154787009701, 'recal...</td>\n",
       "      <td>0.618921</td>\n",
       "    </tr>\n",
       "    <tr>\n",
       "      <th>3</th>\n",
       "      <td>RandomForest_no_preprocessing</td>\n",
       "      <td>{'0': {'precision': 0.9459261071690727, 'recal...</td>\n",
       "      <td>36.250854</td>\n",
       "    </tr>\n",
       "    <tr>\n",
       "      <th>4</th>\n",
       "      <td>RandomForest_oversampling</td>\n",
       "      <td>{'0': {'precision': 0.9539915443919423, 'recal...</td>\n",
       "      <td>101.397157</td>\n",
       "    </tr>\n",
       "    <tr>\n",
       "      <th>5</th>\n",
       "      <td>RandomForest_undersampling</td>\n",
       "      <td>{'0': {'precision': 0.971882322311898, 'recall...</td>\n",
       "      <td>20.680076</td>\n",
       "    </tr>\n",
       "    <tr>\n",
       "      <th>6</th>\n",
       "      <td>Naive_Bayes_no_preprocessing</td>\n",
       "      <td>{'0': {'precision': 0.852859778597786, 'recall...</td>\n",
       "      <td>0.066764</td>\n",
       "    </tr>\n",
       "  </tbody>\n",
       "</table>\n",
       "</div>"
      ],
      "text/plain": [
       "                            model  \\\n",
       "0  Decision_tree_no_preprocessing   \n",
       "1      Decision_tree_oversampling   \n",
       "2     Decision_tree_undersampling   \n",
       "3   RandomForest_no_preprocessing   \n",
       "4       RandomForest_oversampling   \n",
       "5      RandomForest_undersampling   \n",
       "6    Naive_Bayes_no_preprocessing   \n",
       "\n",
       "                                             metrics  training_time(s)  \n",
       "0  {'0': {'precision': 0.8104344211182706, 'recal...          0.860545  \n",
       "1  {'0': {'precision': 0.8188647746243739, 'recal...          2.772430  \n",
       "2  {'0': {'precision': 0.8123154787009701, 'recal...          0.618921  \n",
       "3  {'0': {'precision': 0.9459261071690727, 'recal...         36.250854  \n",
       "4  {'0': {'precision': 0.9539915443919423, 'recal...        101.397157  \n",
       "5  {'0': {'precision': 0.971882322311898, 'recall...         20.680076  \n",
       "6  {'0': {'precision': 0.852859778597786, 'recall...          0.066764  "
      ]
     },
     "execution_count": 44,
     "metadata": {},
     "output_type": "execute_result"
    }
   ],
   "source": [
    "print('NAIVE BAYES - No preprocessing')\n",
    "x = classification_report(y_val, y_pred, labels = sorted(list(set(y_enc))), digits=4, output_dict=True)\n",
    "models.append({'model':'Naive_Bayes_no_preprocessing', 'metrics': x, 'training_time(s)':(end-start)})\n",
    "pd.DataFrame(models)"
   ]
  },
  {
   "cell_type": "markdown",
   "metadata": {},
   "source": [
    "Let's try oversampling "
   ]
  },
  {
   "cell_type": "code",
   "execution_count": 45,
   "metadata": {},
   "outputs": [],
   "source": [
    "X_train1, y_train1 = SMOTE().fit_resample(X_train, y_train)"
   ]
  },
  {
   "cell_type": "code",
   "execution_count": 46,
   "metadata": {},
   "outputs": [
    {
     "name": "stdout",
     "output_type": "stream",
     "text": [
      "CPU times: total: 328 ms\n",
      "Wall time: 97.6 ms\n"
     ]
    }
   ],
   "source": [
    "%%time\n",
    "model_nb = GaussianNB()\n",
    "start = time.perf_counter()\n",
    "model_nb.fit(X_train1,y_train1)\n",
    "end = time.perf_counter()"
   ]
  },
  {
   "cell_type": "code",
   "execution_count": 47,
   "metadata": {},
   "outputs": [
    {
     "data": {
      "text/plain": [
       "array([[[ 9633,   672],\n",
       "        [  984,  3715]],\n",
       "\n",
       "       [[10381,  1662],\n",
       "        [ 1212,  1749]],\n",
       "\n",
       "       [[ 6452,  1208],\n",
       "        [ 1346,  5998]]], dtype=int64)"
      ]
     },
     "execution_count": 47,
     "metadata": {},
     "output_type": "execute_result"
    }
   ],
   "source": [
    "y_pred = model_nb.predict(X_val)\n",
    "mat = multilabel_confusion_matrix(y_val,y_pred)\n",
    "mat"
   ]
  },
  {
   "cell_type": "code",
   "execution_count": 48,
   "metadata": {},
   "outputs": [
    {
     "data": {
      "text/plain": [
       "(0.7326645669895434, 0.7639296187683284)"
      ]
     },
     "execution_count": 48,
     "metadata": {},
     "output_type": "execute_result"
    }
   ],
   "source": [
    "balanced_accuracy_score(y_val,y_pred), accuracy_score(y_val,y_pred)"
   ]
  },
  {
   "cell_type": "code",
   "execution_count": 49,
   "metadata": {},
   "outputs": [
    {
     "data": {
      "text/html": [
       "<div>\n",
       "<style scoped>\n",
       "    .dataframe tbody tr th:only-of-type {\n",
       "        vertical-align: middle;\n",
       "    }\n",
       "\n",
       "    .dataframe tbody tr th {\n",
       "        vertical-align: top;\n",
       "    }\n",
       "\n",
       "    .dataframe thead th {\n",
       "        text-align: right;\n",
       "    }\n",
       "</style>\n",
       "<table border=\"1\" class=\"dataframe\">\n",
       "  <thead>\n",
       "    <tr style=\"text-align: right;\">\n",
       "      <th></th>\n",
       "      <th>model</th>\n",
       "      <th>metrics</th>\n",
       "      <th>training_time(s)</th>\n",
       "    </tr>\n",
       "  </thead>\n",
       "  <tbody>\n",
       "    <tr>\n",
       "      <th>0</th>\n",
       "      <td>Decision_tree_no_preprocessing</td>\n",
       "      <td>{'0': {'precision': 0.8104344211182706, 'recal...</td>\n",
       "      <td>0.860545</td>\n",
       "    </tr>\n",
       "    <tr>\n",
       "      <th>1</th>\n",
       "      <td>Decision_tree_oversampling</td>\n",
       "      <td>{'0': {'precision': 0.8188647746243739, 'recal...</td>\n",
       "      <td>2.772430</td>\n",
       "    </tr>\n",
       "    <tr>\n",
       "      <th>2</th>\n",
       "      <td>Decision_tree_undersampling</td>\n",
       "      <td>{'0': {'precision': 0.8123154787009701, 'recal...</td>\n",
       "      <td>0.618921</td>\n",
       "    </tr>\n",
       "    <tr>\n",
       "      <th>3</th>\n",
       "      <td>RandomForest_no_preprocessing</td>\n",
       "      <td>{'0': {'precision': 0.9459261071690727, 'recal...</td>\n",
       "      <td>36.250854</td>\n",
       "    </tr>\n",
       "    <tr>\n",
       "      <th>4</th>\n",
       "      <td>RandomForest_oversampling</td>\n",
       "      <td>{'0': {'precision': 0.9539915443919423, 'recal...</td>\n",
       "      <td>101.397157</td>\n",
       "    </tr>\n",
       "    <tr>\n",
       "      <th>5</th>\n",
       "      <td>RandomForest_undersampling</td>\n",
       "      <td>{'0': {'precision': 0.971882322311898, 'recall...</td>\n",
       "      <td>20.680076</td>\n",
       "    </tr>\n",
       "    <tr>\n",
       "      <th>6</th>\n",
       "      <td>Naive_Bayes_no_preprocessing</td>\n",
       "      <td>{'0': {'precision': 0.852859778597786, 'recall...</td>\n",
       "      <td>0.066764</td>\n",
       "    </tr>\n",
       "    <tr>\n",
       "      <th>7</th>\n",
       "      <td>Naive_Bayes_oversampling</td>\n",
       "      <td>{'0': {'precision': 0.8468201504444951, 'recal...</td>\n",
       "      <td>0.096846</td>\n",
       "    </tr>\n",
       "  </tbody>\n",
       "</table>\n",
       "</div>"
      ],
      "text/plain": [
       "                            model  \\\n",
       "0  Decision_tree_no_preprocessing   \n",
       "1      Decision_tree_oversampling   \n",
       "2     Decision_tree_undersampling   \n",
       "3   RandomForest_no_preprocessing   \n",
       "4       RandomForest_oversampling   \n",
       "5      RandomForest_undersampling   \n",
       "6    Naive_Bayes_no_preprocessing   \n",
       "7        Naive_Bayes_oversampling   \n",
       "\n",
       "                                             metrics  training_time(s)  \n",
       "0  {'0': {'precision': 0.8104344211182706, 'recal...          0.860545  \n",
       "1  {'0': {'precision': 0.8188647746243739, 'recal...          2.772430  \n",
       "2  {'0': {'precision': 0.8123154787009701, 'recal...          0.618921  \n",
       "3  {'0': {'precision': 0.9459261071690727, 'recal...         36.250854  \n",
       "4  {'0': {'precision': 0.9539915443919423, 'recal...        101.397157  \n",
       "5  {'0': {'precision': 0.971882322311898, 'recall...         20.680076  \n",
       "6  {'0': {'precision': 0.852859778597786, 'recall...          0.066764  \n",
       "7  {'0': {'precision': 0.8468201504444951, 'recal...          0.096846  "
      ]
     },
     "execution_count": 49,
     "metadata": {},
     "output_type": "execute_result"
    }
   ],
   "source": [
    "x = classification_report(y_val, y_pred, digits=4, labels=sorted(list(set(y_enc))), output_dict=True)\n",
    "models.append({'model': 'Naive_Bayes_oversampling', 'metrics': x, 'training_time(s)': (end-start)})\n",
    "pd.DataFrame(models)"
   ]
  },
  {
   "cell_type": "markdown",
   "metadata": {},
   "source": [
    "Let's try undersampling"
   ]
  },
  {
   "cell_type": "code",
   "execution_count": 50,
   "metadata": {},
   "outputs": [],
   "source": [
    "X_train1, y_train1 = RandomUnderSampler().fit_resample(X_train, y_train)"
   ]
  },
  {
   "cell_type": "code",
   "execution_count": 51,
   "metadata": {},
   "outputs": [
    {
     "name": "stdout",
     "output_type": "stream",
     "text": [
      "CPU times: total: 31.2 ms\n",
      "Wall time: 46.5 ms\n"
     ]
    }
   ],
   "source": [
    "%%time\n",
    "model_nb = GaussianNB()\n",
    "start = time.perf_counter()\n",
    "model_nb.fit(X_train1,y_train1)\n",
    "end = time.perf_counter()"
   ]
  },
  {
   "cell_type": "code",
   "execution_count": 52,
   "metadata": {},
   "outputs": [
    {
     "data": {
      "text/plain": [
       "array([[[ 9675,   630],\n",
       "        [ 1004,  3695]],\n",
       "\n",
       "       [[10671,  1372],\n",
       "        [ 1496,  1465]],\n",
       "\n",
       "       [[ 6081,  1579],\n",
       "        [ 1081,  6263]]], dtype=int64)"
      ]
     },
     "execution_count": 52,
     "metadata": {},
     "output_type": "execute_result"
    }
   ],
   "source": [
    "y_pred = model_nb.predict(X_val)\n",
    "mat = multilabel_confusion_matrix(y_val,y_pred)\n",
    "mat"
   ]
  },
  {
   "cell_type": "code",
   "execution_count": 53,
   "metadata": {},
   "outputs": [
    {
     "data": {
      "text/plain": [
       "(0.7113026038378513, 0.7613303119168222)"
      ]
     },
     "execution_count": 53,
     "metadata": {},
     "output_type": "execute_result"
    }
   ],
   "source": [
    "balanced_accuracy_score(y_val,y_pred), accuracy_score(y_val,y_pred)"
   ]
  },
  {
   "cell_type": "code",
   "execution_count": 54,
   "metadata": {},
   "outputs": [
    {
     "data": {
      "text/html": [
       "<div>\n",
       "<style scoped>\n",
       "    .dataframe tbody tr th:only-of-type {\n",
       "        vertical-align: middle;\n",
       "    }\n",
       "\n",
       "    .dataframe tbody tr th {\n",
       "        vertical-align: top;\n",
       "    }\n",
       "\n",
       "    .dataframe thead th {\n",
       "        text-align: right;\n",
       "    }\n",
       "</style>\n",
       "<table border=\"1\" class=\"dataframe\">\n",
       "  <thead>\n",
       "    <tr style=\"text-align: right;\">\n",
       "      <th></th>\n",
       "      <th>model</th>\n",
       "      <th>metrics</th>\n",
       "      <th>training_time(s)</th>\n",
       "    </tr>\n",
       "  </thead>\n",
       "  <tbody>\n",
       "    <tr>\n",
       "      <th>0</th>\n",
       "      <td>Decision_tree_no_preprocessing</td>\n",
       "      <td>{'0': {'precision': 0.8104344211182706, 'recal...</td>\n",
       "      <td>0.860545</td>\n",
       "    </tr>\n",
       "    <tr>\n",
       "      <th>1</th>\n",
       "      <td>Decision_tree_oversampling</td>\n",
       "      <td>{'0': {'precision': 0.8188647746243739, 'recal...</td>\n",
       "      <td>2.772430</td>\n",
       "    </tr>\n",
       "    <tr>\n",
       "      <th>2</th>\n",
       "      <td>Decision_tree_undersampling</td>\n",
       "      <td>{'0': {'precision': 0.8123154787009701, 'recal...</td>\n",
       "      <td>0.618921</td>\n",
       "    </tr>\n",
       "    <tr>\n",
       "      <th>3</th>\n",
       "      <td>RandomForest_no_preprocessing</td>\n",
       "      <td>{'0': {'precision': 0.9459261071690727, 'recal...</td>\n",
       "      <td>36.250854</td>\n",
       "    </tr>\n",
       "    <tr>\n",
       "      <th>4</th>\n",
       "      <td>RandomForest_oversampling</td>\n",
       "      <td>{'0': {'precision': 0.9539915443919423, 'recal...</td>\n",
       "      <td>101.397157</td>\n",
       "    </tr>\n",
       "    <tr>\n",
       "      <th>5</th>\n",
       "      <td>RandomForest_undersampling</td>\n",
       "      <td>{'0': {'precision': 0.971882322311898, 'recall...</td>\n",
       "      <td>20.680076</td>\n",
       "    </tr>\n",
       "    <tr>\n",
       "      <th>6</th>\n",
       "      <td>Naive_Bayes_no_preprocessing</td>\n",
       "      <td>{'0': {'precision': 0.852859778597786, 'recall...</td>\n",
       "      <td>0.066764</td>\n",
       "    </tr>\n",
       "    <tr>\n",
       "      <th>7</th>\n",
       "      <td>Naive_Bayes_oversampling</td>\n",
       "      <td>{'0': {'precision': 0.8468201504444951, 'recal...</td>\n",
       "      <td>0.096846</td>\n",
       "    </tr>\n",
       "    <tr>\n",
       "      <th>8</th>\n",
       "      <td>Naive_Bayes_undersampling</td>\n",
       "      <td>{'0': {'precision': 0.8543352601156069, 'recal...</td>\n",
       "      <td>0.045773</td>\n",
       "    </tr>\n",
       "  </tbody>\n",
       "</table>\n",
       "</div>"
      ],
      "text/plain": [
       "                            model  \\\n",
       "0  Decision_tree_no_preprocessing   \n",
       "1      Decision_tree_oversampling   \n",
       "2     Decision_tree_undersampling   \n",
       "3   RandomForest_no_preprocessing   \n",
       "4       RandomForest_oversampling   \n",
       "5      RandomForest_undersampling   \n",
       "6    Naive_Bayes_no_preprocessing   \n",
       "7        Naive_Bayes_oversampling   \n",
       "8       Naive_Bayes_undersampling   \n",
       "\n",
       "                                             metrics  training_time(s)  \n",
       "0  {'0': {'precision': 0.8104344211182706, 'recal...          0.860545  \n",
       "1  {'0': {'precision': 0.8188647746243739, 'recal...          2.772430  \n",
       "2  {'0': {'precision': 0.8123154787009701, 'recal...          0.618921  \n",
       "3  {'0': {'precision': 0.9459261071690727, 'recal...         36.250854  \n",
       "4  {'0': {'precision': 0.9539915443919423, 'recal...        101.397157  \n",
       "5  {'0': {'precision': 0.971882322311898, 'recall...         20.680076  \n",
       "6  {'0': {'precision': 0.852859778597786, 'recall...          0.066764  \n",
       "7  {'0': {'precision': 0.8468201504444951, 'recal...          0.096846  \n",
       "8  {'0': {'precision': 0.8543352601156069, 'recal...          0.045773  "
      ]
     },
     "execution_count": 54,
     "metadata": {},
     "output_type": "execute_result"
    }
   ],
   "source": [
    "x = classification_report(y_val, y_pred, digits=4, labels=sorted(list(set(y_enc))), output_dict=True)\n",
    "models.append({'model': 'Naive_Bayes_undersampling', 'metrics': x, 'training_time(s)': (end-start)})\n",
    "pd.DataFrame(models)"
   ]
  },
  {
   "cell_type": "markdown",
   "metadata": {},
   "source": [
    "### K Nearest Neighbors"
   ]
  },
  {
   "cell_type": "code",
   "execution_count": 55,
   "metadata": {},
   "outputs": [],
   "source": [
    "from sklearn.neighbors import KNeighborsClassifier"
   ]
  },
  {
   "cell_type": "code",
   "execution_count": 56,
   "metadata": {},
   "outputs": [
    {
     "name": "stdout",
     "output_type": "stream",
     "text": [
      "n_neighbors: 3, time_taken: 0.011399999959394336s, accuracy: 0.7342042122100774\n",
      "n_neighbors: 5, time_taken: 0.00906129996292293s, accuracy: 0.7457344708077845\n",
      "n_neighbors: 10, time_taken: 0.0109140002168715s, accuracy: 0.753998933617702\n",
      "n_neighbors: 15, time_taken: 0.012708700029179454s, accuracy: 0.753998933617702\n",
      "n_neighbors: 20, time_taken: 0.009556100005283952s, accuracy: 0.7530658491069048\n",
      "n_neighbors: 25, time_taken: 0.011353400070220232s, accuracy: 0.751266328978939\n",
      "n_neighbors: 50, time_taken: 0.008967699948698282s, accuracy: 0.7434684084244202\n",
      "n_neighbors: 100, time_taken: 0.009389800019562244s, accuracy: 0.7292055451879499\n",
      "n_neighbors: 200, time_taken: 0.007864300161600113s, accuracy: 0.7113436416955479\n",
      "n_neighbors: 400, time_taken: 0.006646299967542291s, accuracy: 0.6866169021594242\n",
      "n_neighbors: 800, time_taken: 0.007040600059553981s, accuracy: 0.6582244734737404\n"
     ]
    }
   ],
   "source": [
    "nbors = [3,5,10,15,20,25,50,100,200,400,800]\n",
    "tim, acc = [], []\n",
    "model_knn = KNeighborsClassifier()\n",
    "\n",
    "for n in nbors:\n",
    "    model_knn = KNeighborsClassifier(n_neighbors=n)\n",
    "    start = time.perf_counter()\n",
    "    model_knn.fit(X_train,y_train)\n",
    "    end = time.perf_counter()\n",
    "    y_pred = model_knn.predict(X_val)\n",
    "    _acc = accuracy_score(y_val,y_pred)\n",
    "    tim.append(end-start)\n",
    "    print(f'n_neighbors: {n}, time_taken: {end-start}s, accuracy: {_acc}')\n",
    "    acc.append(_acc)"
   ]
  },
  {
   "cell_type": "markdown",
   "metadata": {},
   "source": [
    "Pick best model"
   ]
  },
  {
   "cell_type": "code",
   "execution_count": 57,
   "metadata": {},
   "outputs": [
    {
     "name": "stdout",
     "output_type": "stream",
     "text": [
      "n_estimators: 10, time_taken: 0.01722939987666905s, accuracy: 0.753998933617702\n"
     ]
    },
    {
     "data": {
      "text/plain": [
       "<bound method BaseEstimator.get_params of KNeighborsClassifier(n_neighbors=10)>"
      ]
     },
     "execution_count": 57,
     "metadata": {},
     "output_type": "execute_result"
    }
   ],
   "source": [
    "model1 = KNeighborsClassifier(n_neighbors=nbors[np.argmax(acc)])\n",
    "start = time.perf_counter()\n",
    "model1.fit(X_train,y_train)\n",
    "end = time.perf_counter()\n",
    "y_pred = model1.predict(X_val)\n",
    "_acc = accuracy_score(y_val,y_pred)\n",
    "print(f'n_estimators: {nbors[np.argmax(acc)]}, time_taken: {end-start}s, accuracy: {_acc}')\n",
    "model1.get_params"
   ]
  },
  {
   "cell_type": "code",
   "execution_count": 58,
   "metadata": {},
   "outputs": [
    {
     "data": {
      "text/html": [
       "<div>\n",
       "<style scoped>\n",
       "    .dataframe tbody tr th:only-of-type {\n",
       "        vertical-align: middle;\n",
       "    }\n",
       "\n",
       "    .dataframe tbody tr th {\n",
       "        vertical-align: top;\n",
       "    }\n",
       "\n",
       "    .dataframe thead th {\n",
       "        text-align: right;\n",
       "    }\n",
       "</style>\n",
       "<table border=\"1\" class=\"dataframe\">\n",
       "  <thead>\n",
       "    <tr style=\"text-align: right;\">\n",
       "      <th></th>\n",
       "      <th>model</th>\n",
       "      <th>metrics</th>\n",
       "      <th>training_time(s)</th>\n",
       "    </tr>\n",
       "  </thead>\n",
       "  <tbody>\n",
       "    <tr>\n",
       "      <th>0</th>\n",
       "      <td>Decision_tree_no_preprocessing</td>\n",
       "      <td>{'0': {'precision': 0.8104344211182706, 'recal...</td>\n",
       "      <td>0.860545</td>\n",
       "    </tr>\n",
       "    <tr>\n",
       "      <th>1</th>\n",
       "      <td>Decision_tree_oversampling</td>\n",
       "      <td>{'0': {'precision': 0.8188647746243739, 'recal...</td>\n",
       "      <td>2.772430</td>\n",
       "    </tr>\n",
       "    <tr>\n",
       "      <th>2</th>\n",
       "      <td>Decision_tree_undersampling</td>\n",
       "      <td>{'0': {'precision': 0.8123154787009701, 'recal...</td>\n",
       "      <td>0.618921</td>\n",
       "    </tr>\n",
       "    <tr>\n",
       "      <th>3</th>\n",
       "      <td>RandomForest_no_preprocessing</td>\n",
       "      <td>{'0': {'precision': 0.9459261071690727, 'recal...</td>\n",
       "      <td>36.250854</td>\n",
       "    </tr>\n",
       "    <tr>\n",
       "      <th>4</th>\n",
       "      <td>RandomForest_oversampling</td>\n",
       "      <td>{'0': {'precision': 0.9539915443919423, 'recal...</td>\n",
       "      <td>101.397157</td>\n",
       "    </tr>\n",
       "    <tr>\n",
       "      <th>5</th>\n",
       "      <td>RandomForest_undersampling</td>\n",
       "      <td>{'0': {'precision': 0.971882322311898, 'recall...</td>\n",
       "      <td>20.680076</td>\n",
       "    </tr>\n",
       "    <tr>\n",
       "      <th>6</th>\n",
       "      <td>Naive_Bayes_no_preprocessing</td>\n",
       "      <td>{'0': {'precision': 0.852859778597786, 'recall...</td>\n",
       "      <td>0.066764</td>\n",
       "    </tr>\n",
       "    <tr>\n",
       "      <th>7</th>\n",
       "      <td>Naive_Bayes_oversampling</td>\n",
       "      <td>{'0': {'precision': 0.8468201504444951, 'recal...</td>\n",
       "      <td>0.096846</td>\n",
       "    </tr>\n",
       "    <tr>\n",
       "      <th>8</th>\n",
       "      <td>Naive_Bayes_undersampling</td>\n",
       "      <td>{'0': {'precision': 0.8543352601156069, 'recal...</td>\n",
       "      <td>0.045773</td>\n",
       "    </tr>\n",
       "    <tr>\n",
       "      <th>9</th>\n",
       "      <td>KNN_no_preprocessing</td>\n",
       "      <td>{'0': {'precision': 0.8735545500251383, 'recal...</td>\n",
       "      <td>0.017229</td>\n",
       "    </tr>\n",
       "  </tbody>\n",
       "</table>\n",
       "</div>"
      ],
      "text/plain": [
       "                            model  \\\n",
       "0  Decision_tree_no_preprocessing   \n",
       "1      Decision_tree_oversampling   \n",
       "2     Decision_tree_undersampling   \n",
       "3   RandomForest_no_preprocessing   \n",
       "4       RandomForest_oversampling   \n",
       "5      RandomForest_undersampling   \n",
       "6    Naive_Bayes_no_preprocessing   \n",
       "7        Naive_Bayes_oversampling   \n",
       "8       Naive_Bayes_undersampling   \n",
       "9            KNN_no_preprocessing   \n",
       "\n",
       "                                             metrics  training_time(s)  \n",
       "0  {'0': {'precision': 0.8104344211182706, 'recal...          0.860545  \n",
       "1  {'0': {'precision': 0.8188647746243739, 'recal...          2.772430  \n",
       "2  {'0': {'precision': 0.8123154787009701, 'recal...          0.618921  \n",
       "3  {'0': {'precision': 0.9459261071690727, 'recal...         36.250854  \n",
       "4  {'0': {'precision': 0.9539915443919423, 'recal...        101.397157  \n",
       "5  {'0': {'precision': 0.971882322311898, 'recall...         20.680076  \n",
       "6  {'0': {'precision': 0.852859778597786, 'recall...          0.066764  \n",
       "7  {'0': {'precision': 0.8468201504444951, 'recal...          0.096846  \n",
       "8  {'0': {'precision': 0.8543352601156069, 'recal...          0.045773  \n",
       "9  {'0': {'precision': 0.8735545500251383, 'recal...          0.017229  "
      ]
     },
     "execution_count": 58,
     "metadata": {},
     "output_type": "execute_result"
    }
   ],
   "source": [
    "y_pred = model1.predict(X_val)\n",
    "x = classification_report(y_val, y_pred, digits=4, labels=sorted(list(set(y_enc))), output_dict=True)\n",
    "models.append({'model': 'KNN_no_preprocessing', 'metrics': x, 'training_time(s)': (end-start)})\n",
    "pd.DataFrame(models)"
   ]
  },
  {
   "cell_type": "code",
   "execution_count": 59,
   "metadata": {},
   "outputs": [
    {
     "data": {
      "text/plain": [
       "Text(0.5, 1.0, 'Training time')"
      ]
     },
     "execution_count": 59,
     "metadata": {},
     "output_type": "execute_result"
    },
    {
     "data": {
      "image/png": "[encoded data removed]",
      "text/plain": [
       "<Figure size 1000x500 with 2 Axes>"
      ]
     },
     "metadata": {},
     "output_type": "display_data"
    }
   ],
   "source": [
    "fig = plt.figure(figsize=(10,5))\n",
    "\n",
    "ax1 = fig.add_subplot(121)\n",
    "ax1.plot(nbors,acc)\n",
    "ax1.set_title('Accuracy')\n",
    "\n",
    "ax2 = fig.add_subplot(122)\n",
    "ax2.plot(nbors,tim)\n",
    "ax2.set_title('Training time')"
   ]
  },
  {
   "cell_type": "markdown",
   "metadata": {},
   "source": [
    "Let's try oversampling"
   ]
  },
  {
   "cell_type": "code",
   "execution_count": 60,
   "metadata": {},
   "outputs": [],
   "source": [
    "X_train1, y_train1 = SMOTE().fit_resample(X_train,y_train)"
   ]
  },
  {
   "cell_type": "code",
   "execution_count": 61,
   "metadata": {},
   "outputs": [
    {
     "name": "stdout",
     "output_type": "stream",
     "text": [
      "n_neighbors: 3, time_taken: 0.017633599927648902s, accuracy: 0.700079978672354\n",
      "n_neighbors: 5, time_taken: 0.0168785999994725s, accuracy: 0.697880565182618\n",
      "n_neighbors: 10, time_taken: 0.009318999946117401s, accuracy: 0.6998133830978406\n",
      "n_neighbors: 15, time_taken: 0.011219499865546823s, accuracy: 0.7054118901626233\n",
      "n_neighbors: 20, time_taken: 0.008675100049003959s, accuracy: 0.7022127432684617\n",
      "n_neighbors: 25, time_taken: 0.01213450008071959s, accuracy: 0.7074113569714743\n",
      "n_neighbors: 50, time_taken: 0.013422199990600348s, accuracy: 0.7019461476939483\n",
      "n_neighbors: 100, time_taken: 0.009422200033441186s, accuracy: 0.6910157291388963\n",
      "n_neighbors: 200, time_taken: 0.017044000094756484s, accuracy: 0.6778858970941083\n",
      "n_neighbors: 400, time_taken: 0.007446100004017353s, accuracy: 0.6683551053052519\n",
      "n_neighbors: 800, time_taken: 0.011323400074616075s, accuracy: 0.6454278858970941\n"
     ]
    }
   ],
   "source": [
    "nbors = [3,5,10,15,20,25,50,100,200,400,800]\n",
    "tim, acc = [], []\n",
    "model_knn = KNeighborsClassifier()\n",
    "\n",
    "for n in nbors:\n",
    "    model_knn = KNeighborsClassifier(n_neighbors=n)\n",
    "    start = time.perf_counter()\n",
    "    model_knn.fit(X_train1,y_train1)\n",
    "    end = time.perf_counter()\n",
    "    y_pred = model_knn.predict(X_val)\n",
    "    _acc = accuracy_score(y_val,y_pred)\n",
    "    tim.append(end-start)\n",
    "    print(f'n_neighbors: {n}, time_taken: {end-start}s, accuracy: {_acc}')\n",
    "    acc.append(_acc)"
   ]
  },
  {
   "cell_type": "markdown",
   "metadata": {},
   "source": [
    "Pick best model"
   ]
  },
  {
   "cell_type": "code",
   "execution_count": 62,
   "metadata": {},
   "outputs": [
    {
     "name": "stdout",
     "output_type": "stream",
     "text": [
      "n_estimators: 25, time_taken: 0.014460899867117405s, accuracy: 0.7074113569714743\n"
     ]
    },
    {
     "data": {
      "text/plain": [
       "<bound method BaseEstimator.get_params of KNeighborsClassifier(n_neighbors=25)>"
      ]
     },
     "execution_count": 62,
     "metadata": {},
     "output_type": "execute_result"
    }
   ],
   "source": [
    "model1 = KNeighborsClassifier(n_neighbors=nbors[np.argmax(acc)])\n",
    "start = time.perf_counter()\n",
    "model1.fit(X_train1,y_train1)\n",
    "end = time.perf_counter()\n",
    "y_pred = model1.predict(X_val)\n",
    "_acc = accuracy_score(y_val,y_pred)\n",
    "print(f'n_estimators: {nbors[np.argmax(acc)]}, time_taken: {end-start}s, accuracy: {_acc}')\n",
    "model1.get_params"
   ]
  },
  {
   "cell_type": "code",
   "execution_count": 63,
   "metadata": {},
   "outputs": [
    {
     "data": {
      "text/html": [
       "<div>\n",
       "<style scoped>\n",
       "    .dataframe tbody tr th:only-of-type {\n",
       "        vertical-align: middle;\n",
       "    }\n",
       "\n",
       "    .dataframe tbody tr th {\n",
       "        vertical-align: top;\n",
       "    }\n",
       "\n",
       "    .dataframe thead th {\n",
       "        text-align: right;\n",
       "    }\n",
       "</style>\n",
       "<table border=\"1\" class=\"dataframe\">\n",
       "  <thead>\n",
       "    <tr style=\"text-align: right;\">\n",
       "      <th></th>\n",
       "      <th>model</th>\n",
       "      <th>metrics</th>\n",
       "      <th>training_time(s)</th>\n",
       "    </tr>\n",
       "  </thead>\n",
       "  <tbody>\n",
       "    <tr>\n",
       "      <th>0</th>\n",
       "      <td>Decision_tree_no_preprocessing</td>\n",
       "      <td>{'0': {'precision': 0.8104344211182706, 'recal...</td>\n",
       "      <td>0.860545</td>\n",
       "    </tr>\n",
       "    <tr>\n",
       "      <th>1</th>\n",
       "      <td>Decision_tree_oversampling</td>\n",
       "      <td>{'0': {'precision': 0.8188647746243739, 'recal...</td>\n",
       "      <td>2.772430</td>\n",
       "    </tr>\n",
       "    <tr>\n",
       "      <th>2</th>\n",
       "      <td>Decision_tree_undersampling</td>\n",
       "      <td>{'0': {'precision': 0.8123154787009701, 'recal...</td>\n",
       "      <td>0.618921</td>\n",
       "    </tr>\n",
       "    <tr>\n",
       "      <th>3</th>\n",
       "      <td>RandomForest_no_preprocessing</td>\n",
       "      <td>{'0': {'precision': 0.9459261071690727, 'recal...</td>\n",
       "      <td>36.250854</td>\n",
       "    </tr>\n",
       "    <tr>\n",
       "      <th>4</th>\n",
       "      <td>RandomForest_oversampling</td>\n",
       "      <td>{'0': {'precision': 0.9539915443919423, 'recal...</td>\n",
       "      <td>101.397157</td>\n",
       "    </tr>\n",
       "    <tr>\n",
       "      <th>5</th>\n",
       "      <td>RandomForest_undersampling</td>\n",
       "      <td>{'0': {'precision': 0.971882322311898, 'recall...</td>\n",
       "      <td>20.680076</td>\n",
       "    </tr>\n",
       "    <tr>\n",
       "      <th>6</th>\n",
       "      <td>Naive_Bayes_no_preprocessing</td>\n",
       "      <td>{'0': {'precision': 0.852859778597786, 'recall...</td>\n",
       "      <td>0.066764</td>\n",
       "    </tr>\n",
       "    <tr>\n",
       "      <th>7</th>\n",
       "      <td>Naive_Bayes_oversampling</td>\n",
       "      <td>{'0': {'precision': 0.8468201504444951, 'recal...</td>\n",
       "      <td>0.096846</td>\n",
       "    </tr>\n",
       "    <tr>\n",
       "      <th>8</th>\n",
       "      <td>Naive_Bayes_undersampling</td>\n",
       "      <td>{'0': {'precision': 0.8543352601156069, 'recal...</td>\n",
       "      <td>0.045773</td>\n",
       "    </tr>\n",
       "    <tr>\n",
       "      <th>9</th>\n",
       "      <td>KNN_no_preprocessing</td>\n",
       "      <td>{'0': {'precision': 0.8735545500251383, 'recal...</td>\n",
       "      <td>0.017229</td>\n",
       "    </tr>\n",
       "    <tr>\n",
       "      <th>10</th>\n",
       "      <td>KNN_oversampling</td>\n",
       "      <td>{'0': {'precision': 0.9063444108761329, 'recal...</td>\n",
       "      <td>0.014461</td>\n",
       "    </tr>\n",
       "  </tbody>\n",
       "</table>\n",
       "</div>"
      ],
      "text/plain": [
       "                             model  \\\n",
       "0   Decision_tree_no_preprocessing   \n",
       "1       Decision_tree_oversampling   \n",
       "2      Decision_tree_undersampling   \n",
       "3    RandomForest_no_preprocessing   \n",
       "4        RandomForest_oversampling   \n",
       "5       RandomForest_undersampling   \n",
       "6     Naive_Bayes_no_preprocessing   \n",
       "7         Naive_Bayes_oversampling   \n",
       "8        Naive_Bayes_undersampling   \n",
       "9             KNN_no_preprocessing   \n",
       "10                KNN_oversampling   \n",
       "\n",
       "                                              metrics  training_time(s)  \n",
       "0   {'0': {'precision': 0.8104344211182706, 'recal...          0.860545  \n",
       "1   {'0': {'precision': 0.8188647746243739, 'recal...          2.772430  \n",
       "2   {'0': {'precision': 0.8123154787009701, 'recal...          0.618921  \n",
       "3   {'0': {'precision': 0.9459261071690727, 'recal...         36.250854  \n",
       "4   {'0': {'precision': 0.9539915443919423, 'recal...        101.397157  \n",
       "5   {'0': {'precision': 0.971882322311898, 'recall...         20.680076  \n",
       "6   {'0': {'precision': 0.852859778597786, 'recall...          0.066764  \n",
       "7   {'0': {'precision': 0.8468201504444951, 'recal...          0.096846  \n",
       "8   {'0': {'precision': 0.8543352601156069, 'recal...          0.045773  \n",
       "9   {'0': {'precision': 0.8735545500251383, 'recal...          0.017229  \n",
       "10  {'0': {'precision': 0.9063444108761329, 'recal...          0.014461  "
      ]
     },
     "execution_count": 63,
     "metadata": {},
     "output_type": "execute_result"
    }
   ],
   "source": [
    "y_pred = model1.predict(X_val)\n",
    "x = classification_report(y_val, y_pred, digits=4, labels=sorted(list(set(y_enc))), output_dict=True)\n",
    "models.append({'model': 'KNN_oversampling', 'metrics': x, 'training_time(s)': (end-start)})\n",
    "pd.DataFrame(models)"
   ]
  },
  {
   "cell_type": "code",
   "execution_count": 64,
   "metadata": {},
   "outputs": [
    {
     "data": {
      "text/plain": [
       "Text(0.5, 1.0, 'Training time')"
      ]
     },
     "execution_count": 64,
     "metadata": {},
     "output_type": "execute_result"
    },
    {
     "data": {
      "image/png": "[encoded data removed]",
      "text/plain": [
       "<Figure size 1000x500 with 2 Axes>"
      ]
     },
     "metadata": {},
     "output_type": "display_data"
    }
   ],
   "source": [
    "fig = plt.figure(figsize=(10,5))\n",
    "\n",
    "ax1 = fig.add_subplot(121)\n",
    "ax1.plot(nbors,acc)\n",
    "ax1.set_title('Accuracy')\n",
    "\n",
    "ax2 = fig.add_subplot(122)\n",
    "ax2.plot(nbors,tim)\n",
    "ax2.set_title('Training time')"
   ]
  },
  {
   "cell_type": "markdown",
   "metadata": {},
   "source": [
    "Let's try undersampling"
   ]
  },
  {
   "cell_type": "code",
   "execution_count": 65,
   "metadata": {},
   "outputs": [],
   "source": [
    "X_train1, y_train1 = RandomUnderSampler().fit_resample(X_train,y_train)"
   ]
  },
  {
   "cell_type": "code",
   "execution_count": 66,
   "metadata": {},
   "outputs": [
    {
     "name": "stdout",
     "output_type": "stream",
     "text": [
      "n_neighbors: 3, time_taken: 0.003234799951314926s, accuracy: 0.6920821114369502\n",
      "n_neighbors: 5, time_taken: 0.003065400058403611s, accuracy: 0.7002132764596107\n",
      "n_neighbors: 10, time_taken: 0.005631800042465329s, accuracy: 0.7078112503332444\n",
      "n_neighbors: 15, time_taken: 0.00483600003644824s, accuracy: 0.7080778459077579\n",
      "n_neighbors: 20, time_taken: 0.005287999985739589s, accuracy: 0.7070114636097041\n",
      "n_neighbors: 25, time_taken: 0.002832199912518263s, accuracy: 0.7034790722474007\n",
      "n_neighbors: 50, time_taken: 0.005228700116276741s, accuracy: 0.6944814716075713\n",
      "n_neighbors: 100, time_taken: 0.008398100035265088s, accuracy: 0.6822847240735804\n",
      "n_neighbors: 200, time_taken: 0.007755800150334835s, accuracy: 0.6648227139429486\n",
      "n_neighbors: 400, time_taken: 0.002796499989926815s, accuracy: 0.638296454278859\n",
      "n_neighbors: 800, time_taken: 0.003611000021919608s, accuracy: 0.6087043455078646\n"
     ]
    }
   ],
   "source": [
    "nbors = [3,5,10,15,20,25,50,100,200,400,800]\n",
    "tim, acc = [], []\n",
    "model_knn = KNeighborsClassifier()\n",
    "\n",
    "for n in nbors:\n",
    "    model_knn = KNeighborsClassifier(n_neighbors=n)\n",
    "    start = time.perf_counter()\n",
    "    model_knn.fit(X_train1,y_train1)\n",
    "    end = time.perf_counter()\n",
    "    y_pred = model_knn.predict(X_val)\n",
    "    _acc = accuracy_score(y_val,y_pred)\n",
    "    tim.append(end-start)\n",
    "    print(f'n_neighbors: {n}, time_taken: {end-start}s, accuracy: {_acc}')\n",
    "    acc.append(_acc)"
   ]
  },
  {
   "cell_type": "markdown",
   "metadata": {},
   "source": [
    "Pick best model"
   ]
  },
  {
   "cell_type": "code",
   "execution_count": 67,
   "metadata": {},
   "outputs": [
    {
     "name": "stdout",
     "output_type": "stream",
     "text": [
      "n_estimators: 15, time_taken: 0.006567200180143118s, accuracy: 0.7080778459077579\n"
     ]
    },
    {
     "data": {
      "text/plain": [
       "<bound method BaseEstimator.get_params of KNeighborsClassifier(n_neighbors=15)>"
      ]
     },
     "execution_count": 67,
     "metadata": {},
     "output_type": "execute_result"
    }
   ],
   "source": [
    "model1 = KNeighborsClassifier(n_neighbors=nbors[np.argmax(acc)])\n",
    "start = time.perf_counter()\n",
    "model1.fit(X_train1,y_train1)\n",
    "end = time.perf_counter()\n",
    "y_pred = model1.predict(X_val)\n",
    "_acc = accuracy_score(y_val,y_pred)\n",
    "print(f'n_estimators: {nbors[np.argmax(acc)]}, time_taken: {end-start}s, accuracy: {_acc}')\n",
    "model1.get_params"
   ]
  },
  {
   "cell_type": "code",
   "execution_count": 68,
   "metadata": {},
   "outputs": [
    {
     "data": {
      "text/html": [
       "<div>\n",
       "<style scoped>\n",
       "    .dataframe tbody tr th:only-of-type {\n",
       "        vertical-align: middle;\n",
       "    }\n",
       "\n",
       "    .dataframe tbody tr th {\n",
       "        vertical-align: top;\n",
       "    }\n",
       "\n",
       "    .dataframe thead th {\n",
       "        text-align: right;\n",
       "    }\n",
       "</style>\n",
       "<table border=\"1\" class=\"dataframe\">\n",
       "  <thead>\n",
       "    <tr style=\"text-align: right;\">\n",
       "      <th></th>\n",
       "      <th>model</th>\n",
       "      <th>metrics</th>\n",
       "      <th>training_time(s)</th>\n",
       "    </tr>\n",
       "  </thead>\n",
       "  <tbody>\n",
       "    <tr>\n",
       "      <th>0</th>\n",
       "      <td>Decision_tree_no_preprocessing</td>\n",
       "      <td>{'0': {'precision': 0.8104344211182706, 'recal...</td>\n",
       "      <td>0.860545</td>\n",
       "    </tr>\n",
       "    <tr>\n",
       "      <th>1</th>\n",
       "      <td>Decision_tree_oversampling</td>\n",
       "      <td>{'0': {'precision': 0.8188647746243739, 'recal...</td>\n",
       "      <td>2.772430</td>\n",
       "    </tr>\n",
       "    <tr>\n",
       "      <th>2</th>\n",
       "      <td>Decision_tree_undersampling</td>\n",
       "      <td>{'0': {'precision': 0.8123154787009701, 'recal...</td>\n",
       "      <td>0.618921</td>\n",
       "    </tr>\n",
       "    <tr>\n",
       "      <th>3</th>\n",
       "      <td>RandomForest_no_preprocessing</td>\n",
       "      <td>{'0': {'precision': 0.9459261071690727, 'recal...</td>\n",
       "      <td>36.250854</td>\n",
       "    </tr>\n",
       "    <tr>\n",
       "      <th>4</th>\n",
       "      <td>RandomForest_oversampling</td>\n",
       "      <td>{'0': {'precision': 0.9539915443919423, 'recal...</td>\n",
       "      <td>101.397157</td>\n",
       "    </tr>\n",
       "    <tr>\n",
       "      <th>5</th>\n",
       "      <td>RandomForest_undersampling</td>\n",
       "      <td>{'0': {'precision': 0.971882322311898, 'recall...</td>\n",
       "      <td>20.680076</td>\n",
       "    </tr>\n",
       "    <tr>\n",
       "      <th>6</th>\n",
       "      <td>Naive_Bayes_no_preprocessing</td>\n",
       "      <td>{'0': {'precision': 0.852859778597786, 'recall...</td>\n",
       "      <td>0.066764</td>\n",
       "    </tr>\n",
       "    <tr>\n",
       "      <th>7</th>\n",
       "      <td>Naive_Bayes_oversampling</td>\n",
       "      <td>{'0': {'precision': 0.8468201504444951, 'recal...</td>\n",
       "      <td>0.096846</td>\n",
       "    </tr>\n",
       "    <tr>\n",
       "      <th>8</th>\n",
       "      <td>Naive_Bayes_undersampling</td>\n",
       "      <td>{'0': {'precision': 0.8543352601156069, 'recal...</td>\n",
       "      <td>0.045773</td>\n",
       "    </tr>\n",
       "    <tr>\n",
       "      <th>9</th>\n",
       "      <td>KNN_no_preprocessing</td>\n",
       "      <td>{'0': {'precision': 0.8735545500251383, 'recal...</td>\n",
       "      <td>0.017229</td>\n",
       "    </tr>\n",
       "    <tr>\n",
       "      <th>10</th>\n",
       "      <td>KNN_oversampling</td>\n",
       "      <td>{'0': {'precision': 0.9063444108761329, 'recal...</td>\n",
       "      <td>0.014461</td>\n",
       "    </tr>\n",
       "    <tr>\n",
       "      <th>11</th>\n",
       "      <td>KNN_undersampling</td>\n",
       "      <td>{'0': {'precision': 0.9078583287216381, 'recal...</td>\n",
       "      <td>0.006567</td>\n",
       "    </tr>\n",
       "  </tbody>\n",
       "</table>\n",
       "</div>"
      ],
      "text/plain": [
       "                             model  \\\n",
       "0   Decision_tree_no_preprocessing   \n",
       "1       Decision_tree_oversampling   \n",
       "2      Decision_tree_undersampling   \n",
       "3    RandomForest_no_preprocessing   \n",
       "4        RandomForest_oversampling   \n",
       "5       RandomForest_undersampling   \n",
       "6     Naive_Bayes_no_preprocessing   \n",
       "7         Naive_Bayes_oversampling   \n",
       "8        Naive_Bayes_undersampling   \n",
       "9             KNN_no_preprocessing   \n",
       "10                KNN_oversampling   \n",
       "11               KNN_undersampling   \n",
       "\n",
       "                                              metrics  training_time(s)  \n",
       "0   {'0': {'precision': 0.8104344211182706, 'recal...          0.860545  \n",
       "1   {'0': {'precision': 0.8188647746243739, 'recal...          2.772430  \n",
       "2   {'0': {'precision': 0.8123154787009701, 'recal...          0.618921  \n",
       "3   {'0': {'precision': 0.9459261071690727, 'recal...         36.250854  \n",
       "4   {'0': {'precision': 0.9539915443919423, 'recal...        101.397157  \n",
       "5   {'0': {'precision': 0.971882322311898, 'recall...         20.680076  \n",
       "6   {'0': {'precision': 0.852859778597786, 'recall...          0.066764  \n",
       "7   {'0': {'precision': 0.8468201504444951, 'recal...          0.096846  \n",
       "8   {'0': {'precision': 0.8543352601156069, 'recal...          0.045773  \n",
       "9   {'0': {'precision': 0.8735545500251383, 'recal...          0.017229  \n",
       "10  {'0': {'precision': 0.9063444108761329, 'recal...          0.014461  \n",
       "11  {'0': {'precision': 0.9078583287216381, 'recal...          0.006567  "
      ]
     },
     "execution_count": 68,
     "metadata": {},
     "output_type": "execute_result"
    }
   ],
   "source": [
    "y_pred = model1.predict(X_val)\n",
    "x = classification_report(y_val, y_pred, digits=4, labels=sorted(list(set(y_enc))), output_dict=True)\n",
    "models.append({'model': 'KNN_undersampling', 'metrics': x, 'training_time(s)': (end-start)})\n",
    "pd.DataFrame(models)"
   ]
  },
  {
   "cell_type": "code",
   "execution_count": 69,
   "metadata": {},
   "outputs": [
    {
     "data": {
      "text/plain": [
       "Text(0.5, 1.0, 'Training time')"
      ]
     },
     "execution_count": 69,
     "metadata": {},
     "output_type": "execute_result"
    },
    {
     "data": {
      "image/png": "[encoded data removed]",
      "text/plain": [
       "<Figure size 1000x500 with 2 Axes>"
      ]
     },
     "metadata": {},
     "output_type": "display_data"
    }
   ],
   "source": [
    "fig = plt.figure(figsize=(10,5))\n",
    "\n",
    "ax1 = fig.add_subplot(121)\n",
    "ax1.plot(nbors,acc)\n",
    "ax1.set_title('Accuracy')\n",
    "\n",
    "ax2 = fig.add_subplot(122)\n",
    "ax2.plot(nbors,tim)\n",
    "ax2.set_title('Training time')"
   ]
  },
  {
   "cell_type": "markdown",
   "metadata": {},
   "source": [
    "### LightGBM"
   ]
  },
  {
   "cell_type": "code",
   "execution_count": 70,
   "metadata": {},
   "outputs": [],
   "source": [
    "from lightgbm import LGBMClassifier"
   ]
  },
  {
   "cell_type": "code",
   "execution_count": 71,
   "metadata": {},
   "outputs": [
    {
     "name": "stdout",
     "output_type": "stream",
     "text": [
      "[LightGBM] [Info] Auto-choosing row-wise multi-threading, the overhead of testing was 0.006882 seconds.\n",
      "You can set `force_row_wise=true` to remove the overhead.\n",
      "And if memory is not enough, you can set `force_col_wise=true`.\n",
      "[LightGBM] [Info] Total Bins 1928\n",
      "[LightGBM] [Info] Number of data points in the train set: 60014, number of used features: 50\n",
      "[LightGBM] [Info] Start training from score -1.151719\n",
      "[LightGBM] [Info] Start training from score -1.627750\n",
      "[LightGBM] [Info] Start training from score -0.718391\n",
      "CPU times: total: 8.41 s\n",
      "Wall time: 1.29 s\n"
     ]
    },
    {
     "data": {
      "text/plain": [
       "1.2736665001139045"
      ]
     },
     "execution_count": 71,
     "metadata": {},
     "output_type": "execute_result"
    }
   ],
   "source": [
    "%%time\n",
    "model = LGBMClassifier()\n",
    "start = time.perf_counter()\n",
    "model.fit(X_train,y_train)\n",
    "end = time.perf_counter()\n",
    "end-start"
   ]
  },
  {
   "cell_type": "code",
   "execution_count": 72,
   "metadata": {},
   "outputs": [
    {
     "data": {
      "text/plain": [
       "array([[[10067,   238],\n",
       "        [  798,  3901]],\n",
       "\n",
       "       [[11037,  1006],\n",
       "        [ 1072,  1889]],\n",
       "\n",
       "       [[ 6478,  1182],\n",
       "        [  556,  6788]]], dtype=int64)"
      ]
     },
     "execution_count": 72,
     "metadata": {},
     "output_type": "execute_result"
    }
   ],
   "source": [
    "y_pred = model.predict(X_val)\n",
    "mat = multilabel_confusion_matrix(y_val,y_pred)\n",
    "mat"
   ]
  },
  {
   "cell_type": "code",
   "execution_count": 73,
   "metadata": {},
   "outputs": [
    {
     "data": {
      "text/plain": [
       "(0.7974762403075025, 0.8383097840575846)"
      ]
     },
     "execution_count": 73,
     "metadata": {},
     "output_type": "execute_result"
    }
   ],
   "source": [
    "balanced_accuracy_score(y_val,y_pred), accuracy_score(y_val,y_pred)"
   ]
  },
  {
   "cell_type": "code",
   "execution_count": 74,
   "metadata": {},
   "outputs": [
    {
     "data": {
      "text/html": [
       "<div>\n",
       "<style scoped>\n",
       "    .dataframe tbody tr th:only-of-type {\n",
       "        vertical-align: middle;\n",
       "    }\n",
       "\n",
       "    .dataframe tbody tr th {\n",
       "        vertical-align: top;\n",
       "    }\n",
       "\n",
       "    .dataframe thead th {\n",
       "        text-align: right;\n",
       "    }\n",
       "</style>\n",
       "<table border=\"1\" class=\"dataframe\">\n",
       "  <thead>\n",
       "    <tr style=\"text-align: right;\">\n",
       "      <th></th>\n",
       "      <th>model</th>\n",
       "      <th>metrics</th>\n",
       "      <th>training_time(s)</th>\n",
       "    </tr>\n",
       "  </thead>\n",
       "  <tbody>\n",
       "    <tr>\n",
       "      <th>0</th>\n",
       "      <td>Decision_tree_no_preprocessing</td>\n",
       "      <td>{'0': {'precision': 0.8104344211182706, 'recal...</td>\n",
       "      <td>0.860545</td>\n",
       "    </tr>\n",
       "    <tr>\n",
       "      <th>1</th>\n",
       "      <td>Decision_tree_oversampling</td>\n",
       "      <td>{'0': {'precision': 0.8188647746243739, 'recal...</td>\n",
       "      <td>2.772430</td>\n",
       "    </tr>\n",
       "    <tr>\n",
       "      <th>2</th>\n",
       "      <td>Decision_tree_undersampling</td>\n",
       "      <td>{'0': {'precision': 0.8123154787009701, 'recal...</td>\n",
       "      <td>0.618921</td>\n",
       "    </tr>\n",
       "    <tr>\n",
       "      <th>3</th>\n",
       "      <td>RandomForest_no_preprocessing</td>\n",
       "      <td>{'0': {'precision': 0.9459261071690727, 'recal...</td>\n",
       "      <td>36.250854</td>\n",
       "    </tr>\n",
       "    <tr>\n",
       "      <th>4</th>\n",
       "      <td>RandomForest_oversampling</td>\n",
       "      <td>{'0': {'precision': 0.9539915443919423, 'recal...</td>\n",
       "      <td>101.397157</td>\n",
       "    </tr>\n",
       "    <tr>\n",
       "      <th>5</th>\n",
       "      <td>RandomForest_undersampling</td>\n",
       "      <td>{'0': {'precision': 0.971882322311898, 'recall...</td>\n",
       "      <td>20.680076</td>\n",
       "    </tr>\n",
       "    <tr>\n",
       "      <th>6</th>\n",
       "      <td>Naive_Bayes_no_preprocessing</td>\n",
       "      <td>{'0': {'precision': 0.852859778597786, 'recall...</td>\n",
       "      <td>0.066764</td>\n",
       "    </tr>\n",
       "    <tr>\n",
       "      <th>7</th>\n",
       "      <td>Naive_Bayes_oversampling</td>\n",
       "      <td>{'0': {'precision': 0.8468201504444951, 'recal...</td>\n",
       "      <td>0.096846</td>\n",
       "    </tr>\n",
       "    <tr>\n",
       "      <th>8</th>\n",
       "      <td>Naive_Bayes_undersampling</td>\n",
       "      <td>{'0': {'precision': 0.8543352601156069, 'recal...</td>\n",
       "      <td>0.045773</td>\n",
       "    </tr>\n",
       "    <tr>\n",
       "      <th>9</th>\n",
       "      <td>KNN_no_preprocessing</td>\n",
       "      <td>{'0': {'precision': 0.8735545500251383, 'recal...</td>\n",
       "      <td>0.017229</td>\n",
       "    </tr>\n",
       "    <tr>\n",
       "      <th>10</th>\n",
       "      <td>KNN_oversampling</td>\n",
       "      <td>{'0': {'precision': 0.9063444108761329, 'recal...</td>\n",
       "      <td>0.014461</td>\n",
       "    </tr>\n",
       "    <tr>\n",
       "      <th>11</th>\n",
       "      <td>KNN_undersampling</td>\n",
       "      <td>{'0': {'precision': 0.9078583287216381, 'recal...</td>\n",
       "      <td>0.006567</td>\n",
       "    </tr>\n",
       "    <tr>\n",
       "      <th>12</th>\n",
       "      <td>LightGBM_no_preprocessing</td>\n",
       "      <td>{'0': {'precision': 0.9424981879681082, 'recal...</td>\n",
       "      <td>1.273667</td>\n",
       "    </tr>\n",
       "  </tbody>\n",
       "</table>\n",
       "</div>"
      ],
      "text/plain": [
       "                             model  \\\n",
       "0   Decision_tree_no_preprocessing   \n",
       "1       Decision_tree_oversampling   \n",
       "2      Decision_tree_undersampling   \n",
       "3    RandomForest_no_preprocessing   \n",
       "4        RandomForest_oversampling   \n",
       "5       RandomForest_undersampling   \n",
       "6     Naive_Bayes_no_preprocessing   \n",
       "7         Naive_Bayes_oversampling   \n",
       "8        Naive_Bayes_undersampling   \n",
       "9             KNN_no_preprocessing   \n",
       "10                KNN_oversampling   \n",
       "11               KNN_undersampling   \n",
       "12       LightGBM_no_preprocessing   \n",
       "\n",
       "                                              metrics  training_time(s)  \n",
       "0   {'0': {'precision': 0.8104344211182706, 'recal...          0.860545  \n",
       "1   {'0': {'precision': 0.8188647746243739, 'recal...          2.772430  \n",
       "2   {'0': {'precision': 0.8123154787009701, 'recal...          0.618921  \n",
       "3   {'0': {'precision': 0.9459261071690727, 'recal...         36.250854  \n",
       "4   {'0': {'precision': 0.9539915443919423, 'recal...        101.397157  \n",
       "5   {'0': {'precision': 0.971882322311898, 'recall...         20.680076  \n",
       "6   {'0': {'precision': 0.852859778597786, 'recall...          0.066764  \n",
       "7   {'0': {'precision': 0.8468201504444951, 'recal...          0.096846  \n",
       "8   {'0': {'precision': 0.8543352601156069, 'recal...          0.045773  \n",
       "9   {'0': {'precision': 0.8735545500251383, 'recal...          0.017229  \n",
       "10  {'0': {'precision': 0.9063444108761329, 'recal...          0.014461  \n",
       "11  {'0': {'precision': 0.9078583287216381, 'recal...          0.006567  \n",
       "12  {'0': {'precision': 0.9424981879681082, 'recal...          1.273667  "
      ]
     },
     "execution_count": 74,
     "metadata": {},
     "output_type": "execute_result"
    }
   ],
   "source": [
    "x = classification_report(y_val, y_pred, digits=4, labels=sorted(list(set(y_enc))), output_dict=True)\n",
    "models.append({'model': 'LightGBM_no_preprocessing', 'metrics': x, 'training_time(s)': (end-start)})\n",
    "pd.DataFrame(models)"
   ]
  },
  {
   "cell_type": "markdown",
   "metadata": {},
   "source": [
    "Try SMOTE"
   ]
  },
  {
   "cell_type": "code",
   "execution_count": 75,
   "metadata": {},
   "outputs": [],
   "source": [
    "X_train1,y_train1 = SMOTE().fit_resample(X_train,y_train)"
   ]
  },
  {
   "cell_type": "code",
   "execution_count": 76,
   "metadata": {},
   "outputs": [
    {
     "name": "stdout",
     "output_type": "stream",
     "text": [
      "[LightGBM] [Info] Auto-choosing row-wise multi-threading, the overhead of testing was 0.014182 seconds.\n",
      "You can set `force_row_wise=true` to remove the overhead.\n",
      "And if memory is not enough, you can set `force_col_wise=true`.\n",
      "[LightGBM] [Info] Total Bins 11703\n",
      "[LightGBM] [Info] Number of data points in the train set: 87777, number of used features: 50\n",
      "[LightGBM] [Info] Start training from score -1.098612\n",
      "[LightGBM] [Info] Start training from score -1.098612\n",
      "[LightGBM] [Info] Start training from score -1.098612\n",
      "CPU times: total: 28.1 s\n",
      "Wall time: 3.7 s\n"
     ]
    },
    {
     "data": {
      "text/plain": [
       "3.703258499968797"
      ]
     },
     "execution_count": 76,
     "metadata": {},
     "output_type": "execute_result"
    }
   ],
   "source": [
    "%%time\n",
    "model = LGBMClassifier()\n",
    "start = time.perf_counter()\n",
    "model.fit(X_train1,y_train1)\n",
    "end = time.perf_counter()\n",
    "end-start"
   ]
  },
  {
   "cell_type": "code",
   "execution_count": 77,
   "metadata": {},
   "outputs": [
    {
     "data": {
      "text/plain": [
       "array([[[10072,   233],\n",
       "        [  792,  3907]],\n",
       "\n",
       "       [[11002,  1041],\n",
       "        [ 1014,  1947]],\n",
       "\n",
       "       [[ 6536,  1124],\n",
       "        [  592,  6752]]], dtype=int64)"
      ]
     },
     "execution_count": 77,
     "metadata": {},
     "output_type": "execute_result"
    }
   ],
   "source": [
    "y_pred = model.predict(X_val)\n",
    "mat = multilabel_confusion_matrix(y_val,y_pred)\n",
    "mat"
   ]
  },
  {
   "cell_type": "code",
   "execution_count": 78,
   "metadata": {},
   "outputs": [
    {
     "data": {
      "text/plain": [
       "(0.8027972015305264, 0.8401759530791789)"
      ]
     },
     "execution_count": 78,
     "metadata": {},
     "output_type": "execute_result"
    }
   ],
   "source": [
    "balanced_accuracy_score(y_val,y_pred), accuracy_score(y_val,y_pred)"
   ]
  },
  {
   "cell_type": "code",
   "execution_count": 79,
   "metadata": {},
   "outputs": [
    {
     "data": {
      "text/html": [
       "<div>\n",
       "<style scoped>\n",
       "    .dataframe tbody tr th:only-of-type {\n",
       "        vertical-align: middle;\n",
       "    }\n",
       "\n",
       "    .dataframe tbody tr th {\n",
       "        vertical-align: top;\n",
       "    }\n",
       "\n",
       "    .dataframe thead th {\n",
       "        text-align: right;\n",
       "    }\n",
       "</style>\n",
       "<table border=\"1\" class=\"dataframe\">\n",
       "  <thead>\n",
       "    <tr style=\"text-align: right;\">\n",
       "      <th></th>\n",
       "      <th>model</th>\n",
       "      <th>metrics</th>\n",
       "      <th>training_time(s)</th>\n",
       "    </tr>\n",
       "  </thead>\n",
       "  <tbody>\n",
       "    <tr>\n",
       "      <th>0</th>\n",
       "      <td>Decision_tree_no_preprocessing</td>\n",
       "      <td>{'0': {'precision': 0.8104344211182706, 'recal...</td>\n",
       "      <td>0.860545</td>\n",
       "    </tr>\n",
       "    <tr>\n",
       "      <th>1</th>\n",
       "      <td>Decision_tree_oversampling</td>\n",
       "      <td>{'0': {'precision': 0.8188647746243739, 'recal...</td>\n",
       "      <td>2.772430</td>\n",
       "    </tr>\n",
       "    <tr>\n",
       "      <th>2</th>\n",
       "      <td>Decision_tree_undersampling</td>\n",
       "      <td>{'0': {'precision': 0.8123154787009701, 'recal...</td>\n",
       "      <td>0.618921</td>\n",
       "    </tr>\n",
       "    <tr>\n",
       "      <th>3</th>\n",
       "      <td>RandomForest_no_preprocessing</td>\n",
       "      <td>{'0': {'precision': 0.9459261071690727, 'recal...</td>\n",
       "      <td>36.250854</td>\n",
       "    </tr>\n",
       "    <tr>\n",
       "      <th>4</th>\n",
       "      <td>RandomForest_oversampling</td>\n",
       "      <td>{'0': {'precision': 0.9539915443919423, 'recal...</td>\n",
       "      <td>101.397157</td>\n",
       "    </tr>\n",
       "    <tr>\n",
       "      <th>5</th>\n",
       "      <td>RandomForest_undersampling</td>\n",
       "      <td>{'0': {'precision': 0.971882322311898, 'recall...</td>\n",
       "      <td>20.680076</td>\n",
       "    </tr>\n",
       "    <tr>\n",
       "      <th>6</th>\n",
       "      <td>Naive_Bayes_no_preprocessing</td>\n",
       "      <td>{'0': {'precision': 0.852859778597786, 'recall...</td>\n",
       "      <td>0.066764</td>\n",
       "    </tr>\n",
       "    <tr>\n",
       "      <th>7</th>\n",
       "      <td>Naive_Bayes_oversampling</td>\n",
       "      <td>{'0': {'precision': 0.8468201504444951, 'recal...</td>\n",
       "      <td>0.096846</td>\n",
       "    </tr>\n",
       "    <tr>\n",
       "      <th>8</th>\n",
       "      <td>Naive_Bayes_undersampling</td>\n",
       "      <td>{'0': {'precision': 0.8543352601156069, 'recal...</td>\n",
       "      <td>0.045773</td>\n",
       "    </tr>\n",
       "    <tr>\n",
       "      <th>9</th>\n",
       "      <td>KNN_no_preprocessing</td>\n",
       "      <td>{'0': {'precision': 0.8735545500251383, 'recal...</td>\n",
       "      <td>0.017229</td>\n",
       "    </tr>\n",
       "    <tr>\n",
       "      <th>10</th>\n",
       "      <td>KNN_oversampling</td>\n",
       "      <td>{'0': {'precision': 0.9063444108761329, 'recal...</td>\n",
       "      <td>0.014461</td>\n",
       "    </tr>\n",
       "    <tr>\n",
       "      <th>11</th>\n",
       "      <td>KNN_undersampling</td>\n",
       "      <td>{'0': {'precision': 0.9078583287216381, 'recal...</td>\n",
       "      <td>0.006567</td>\n",
       "    </tr>\n",
       "    <tr>\n",
       "      <th>12</th>\n",
       "      <td>LightGBM_no_preprocessing</td>\n",
       "      <td>{'0': {'precision': 0.9424981879681082, 'recal...</td>\n",
       "      <td>1.273667</td>\n",
       "    </tr>\n",
       "    <tr>\n",
       "      <th>13</th>\n",
       "      <td>LightGBM_oversampling</td>\n",
       "      <td>{'0': {'precision': 0.943719806763285, 'recall...</td>\n",
       "      <td>3.703258</td>\n",
       "    </tr>\n",
       "  </tbody>\n",
       "</table>\n",
       "</div>"
      ],
      "text/plain": [
       "                             model  \\\n",
       "0   Decision_tree_no_preprocessing   \n",
       "1       Decision_tree_oversampling   \n",
       "2      Decision_tree_undersampling   \n",
       "3    RandomForest_no_preprocessing   \n",
       "4        RandomForest_oversampling   \n",
       "5       RandomForest_undersampling   \n",
       "6     Naive_Bayes_no_preprocessing   \n",
       "7         Naive_Bayes_oversampling   \n",
       "8        Naive_Bayes_undersampling   \n",
       "9             KNN_no_preprocessing   \n",
       "10                KNN_oversampling   \n",
       "11               KNN_undersampling   \n",
       "12       LightGBM_no_preprocessing   \n",
       "13           LightGBM_oversampling   \n",
       "\n",
       "                                              metrics  training_time(s)  \n",
       "0   {'0': {'precision': 0.8104344211182706, 'recal...          0.860545  \n",
       "1   {'0': {'precision': 0.8188647746243739, 'recal...          2.772430  \n",
       "2   {'0': {'precision': 0.8123154787009701, 'recal...          0.618921  \n",
       "3   {'0': {'precision': 0.9459261071690727, 'recal...         36.250854  \n",
       "4   {'0': {'precision': 0.9539915443919423, 'recal...        101.397157  \n",
       "5   {'0': {'precision': 0.971882322311898, 'recall...         20.680076  \n",
       "6   {'0': {'precision': 0.852859778597786, 'recall...          0.066764  \n",
       "7   {'0': {'precision': 0.8468201504444951, 'recal...          0.096846  \n",
       "8   {'0': {'precision': 0.8543352601156069, 'recal...          0.045773  \n",
       "9   {'0': {'precision': 0.8735545500251383, 'recal...          0.017229  \n",
       "10  {'0': {'precision': 0.9063444108761329, 'recal...          0.014461  \n",
       "11  {'0': {'precision': 0.9078583287216381, 'recal...          0.006567  \n",
       "12  {'0': {'precision': 0.9424981879681082, 'recal...          1.273667  \n",
       "13  {'0': {'precision': 0.943719806763285, 'recall...          3.703258  "
      ]
     },
     "execution_count": 79,
     "metadata": {},
     "output_type": "execute_result"
    }
   ],
   "source": [
    "x = classification_report(y_val, y_pred, digits=4, labels=sorted(list(set(y_enc))), output_dict=True)\n",
    "models.append({'model': 'LightGBM_oversampling', 'metrics': x, 'training_time(s)': (end-start)})\n",
    "pd.DataFrame(models)"
   ]
  },
  {
   "cell_type": "markdown",
   "metadata": {},
   "source": [
    "Try Undersampling"
   ]
  },
  {
   "cell_type": "code",
   "execution_count": 80,
   "metadata": {},
   "outputs": [],
   "source": [
    "X_train1,y_train1 = RandomUnderSampler().fit_resample(X_train,y_train)"
   ]
  },
  {
   "cell_type": "code",
   "execution_count": 81,
   "metadata": {},
   "outputs": [
    {
     "name": "stdout",
     "output_type": "stream",
     "text": [
      "[LightGBM] [Info] Auto-choosing col-wise multi-threading, the overhead of testing was 0.009076 seconds.\n",
      "You can set `force_col_wise=true` to remove the overhead.\n",
      "[LightGBM] [Info] Total Bins 1890\n",
      "[LightGBM] [Info] Number of data points in the train set: 35355, number of used features: 50\n",
      "[LightGBM] [Info] Start training from score -1.098612\n",
      "[LightGBM] [Info] Start training from score -1.098612\n",
      "[LightGBM] [Info] Start training from score -1.098612\n",
      "CPU times: total: 6.36 s\n",
      "Wall time: 927 ms\n"
     ]
    },
    {
     "data": {
      "text/plain": [
       "0.9251995999366045"
      ]
     },
     "execution_count": 81,
     "metadata": {},
     "output_type": "execute_result"
    }
   ],
   "source": [
    "%%time\n",
    "model = LGBMClassifier()\n",
    "start = time.perf_counter()\n",
    "model.fit(X_train1,y_train1)\n",
    "end = time.perf_counter()\n",
    "end-start"
   ]
  },
  {
   "cell_type": "code",
   "execution_count": 82,
   "metadata": {},
   "outputs": [
    {
     "data": {
      "text/plain": [
       "array([[[10145,   160],\n",
       "        [  903,  3796]],\n",
       "\n",
       "       [[10253,  1790],\n",
       "        [  604,  2357]],\n",
       "\n",
       "       [[ 6941,   719],\n",
       "        [ 1162,  6182]]], dtype=int64)"
      ]
     },
     "execution_count": 82,
     "metadata": {},
     "output_type": "execute_result"
    }
   ],
   "source": [
    "y_pred = model.predict(X_val)\n",
    "mat = multilabel_confusion_matrix(y_val,y_pred)\n",
    "mat"
   ]
  },
  {
   "cell_type": "code",
   "execution_count": 83,
   "metadata": {},
   "outputs": [
    {
     "data": {
      "text/plain": [
       "(0.8152073041579774, 0.8221141029058917)"
      ]
     },
     "execution_count": 83,
     "metadata": {},
     "output_type": "execute_result"
    }
   ],
   "source": [
    "balanced_accuracy_score(y_val,y_pred), accuracy_score(y_val,y_pred)"
   ]
  },
  {
   "cell_type": "code",
   "execution_count": 84,
   "metadata": {},
   "outputs": [
    {
     "data": {
      "text/html": [
       "<div>\n",
       "<style scoped>\n",
       "    .dataframe tbody tr th:only-of-type {\n",
       "        vertical-align: middle;\n",
       "    }\n",
       "\n",
       "    .dataframe tbody tr th {\n",
       "        vertical-align: top;\n",
       "    }\n",
       "\n",
       "    .dataframe thead th {\n",
       "        text-align: right;\n",
       "    }\n",
       "</style>\n",
       "<table border=\"1\" class=\"dataframe\">\n",
       "  <thead>\n",
       "    <tr style=\"text-align: right;\">\n",
       "      <th></th>\n",
       "      <th>model</th>\n",
       "      <th>metrics</th>\n",
       "      <th>training_time(s)</th>\n",
       "    </tr>\n",
       "  </thead>\n",
       "  <tbody>\n",
       "    <tr>\n",
       "      <th>0</th>\n",
       "      <td>Decision_tree_no_preprocessing</td>\n",
       "      <td>{'0': {'precision': 0.8104344211182706, 'recal...</td>\n",
       "      <td>0.860545</td>\n",
       "    </tr>\n",
       "    <tr>\n",
       "      <th>1</th>\n",
       "      <td>Decision_tree_oversampling</td>\n",
       "      <td>{'0': {'precision': 0.8188647746243739, 'recal...</td>\n",
       "      <td>2.772430</td>\n",
       "    </tr>\n",
       "    <tr>\n",
       "      <th>2</th>\n",
       "      <td>Decision_tree_undersampling</td>\n",
       "      <td>{'0': {'precision': 0.8123154787009701, 'recal...</td>\n",
       "      <td>0.618921</td>\n",
       "    </tr>\n",
       "    <tr>\n",
       "      <th>3</th>\n",
       "      <td>RandomForest_no_preprocessing</td>\n",
       "      <td>{'0': {'precision': 0.9459261071690727, 'recal...</td>\n",
       "      <td>36.250854</td>\n",
       "    </tr>\n",
       "    <tr>\n",
       "      <th>4</th>\n",
       "      <td>RandomForest_oversampling</td>\n",
       "      <td>{'0': {'precision': 0.9539915443919423, 'recal...</td>\n",
       "      <td>101.397157</td>\n",
       "    </tr>\n",
       "    <tr>\n",
       "      <th>5</th>\n",
       "      <td>RandomForest_undersampling</td>\n",
       "      <td>{'0': {'precision': 0.971882322311898, 'recall...</td>\n",
       "      <td>20.680076</td>\n",
       "    </tr>\n",
       "    <tr>\n",
       "      <th>6</th>\n",
       "      <td>Naive_Bayes_no_preprocessing</td>\n",
       "      <td>{'0': {'precision': 0.852859778597786, 'recall...</td>\n",
       "      <td>0.066764</td>\n",
       "    </tr>\n",
       "    <tr>\n",
       "      <th>7</th>\n",
       "      <td>Naive_Bayes_oversampling</td>\n",
       "      <td>{'0': {'precision': 0.8468201504444951, 'recal...</td>\n",
       "      <td>0.096846</td>\n",
       "    </tr>\n",
       "    <tr>\n",
       "      <th>8</th>\n",
       "      <td>Naive_Bayes_undersampling</td>\n",
       "      <td>{'0': {'precision': 0.8543352601156069, 'recal...</td>\n",
       "      <td>0.045773</td>\n",
       "    </tr>\n",
       "    <tr>\n",
       "      <th>9</th>\n",
       "      <td>KNN_no_preprocessing</td>\n",
       "      <td>{'0': {'precision': 0.8735545500251383, 'recal...</td>\n",
       "      <td>0.017229</td>\n",
       "    </tr>\n",
       "    <tr>\n",
       "      <th>10</th>\n",
       "      <td>KNN_oversampling</td>\n",
       "      <td>{'0': {'precision': 0.9063444108761329, 'recal...</td>\n",
       "      <td>0.014461</td>\n",
       "    </tr>\n",
       "    <tr>\n",
       "      <th>11</th>\n",
       "      <td>KNN_undersampling</td>\n",
       "      <td>{'0': {'precision': 0.9078583287216381, 'recal...</td>\n",
       "      <td>0.006567</td>\n",
       "    </tr>\n",
       "    <tr>\n",
       "      <th>12</th>\n",
       "      <td>LightGBM_no_preprocessing</td>\n",
       "      <td>{'0': {'precision': 0.9424981879681082, 'recal...</td>\n",
       "      <td>1.273667</td>\n",
       "    </tr>\n",
       "    <tr>\n",
       "      <th>13</th>\n",
       "      <td>LightGBM_oversampling</td>\n",
       "      <td>{'0': {'precision': 0.943719806763285, 'recall...</td>\n",
       "      <td>3.703258</td>\n",
       "    </tr>\n",
       "    <tr>\n",
       "      <th>14</th>\n",
       "      <td>LightGBM_undersampling</td>\n",
       "      <td>{'0': {'precision': 0.9595551061678463, 'recal...</td>\n",
       "      <td>0.925200</td>\n",
       "    </tr>\n",
       "  </tbody>\n",
       "</table>\n",
       "</div>"
      ],
      "text/plain": [
       "                             model  \\\n",
       "0   Decision_tree_no_preprocessing   \n",
       "1       Decision_tree_oversampling   \n",
       "2      Decision_tree_undersampling   \n",
       "3    RandomForest_no_preprocessing   \n",
       "4        RandomForest_oversampling   \n",
       "5       RandomForest_undersampling   \n",
       "6     Naive_Bayes_no_preprocessing   \n",
       "7         Naive_Bayes_oversampling   \n",
       "8        Naive_Bayes_undersampling   \n",
       "9             KNN_no_preprocessing   \n",
       "10                KNN_oversampling   \n",
       "11               KNN_undersampling   \n",
       "12       LightGBM_no_preprocessing   \n",
       "13           LightGBM_oversampling   \n",
       "14          LightGBM_undersampling   \n",
       "\n",
       "                                              metrics  training_time(s)  \n",
       "0   {'0': {'precision': 0.8104344211182706, 'recal...          0.860545  \n",
       "1   {'0': {'precision': 0.8188647746243739, 'recal...          2.772430  \n",
       "2   {'0': {'precision': 0.8123154787009701, 'recal...          0.618921  \n",
       "3   {'0': {'precision': 0.9459261071690727, 'recal...         36.250854  \n",
       "4   {'0': {'precision': 0.9539915443919423, 'recal...        101.397157  \n",
       "5   {'0': {'precision': 0.971882322311898, 'recall...         20.680076  \n",
       "6   {'0': {'precision': 0.852859778597786, 'recall...          0.066764  \n",
       "7   {'0': {'precision': 0.8468201504444951, 'recal...          0.096846  \n",
       "8   {'0': {'precision': 0.8543352601156069, 'recal...          0.045773  \n",
       "9   {'0': {'precision': 0.8735545500251383, 'recal...          0.017229  \n",
       "10  {'0': {'precision': 0.9063444108761329, 'recal...          0.014461  \n",
       "11  {'0': {'precision': 0.9078583287216381, 'recal...          0.006567  \n",
       "12  {'0': {'precision': 0.9424981879681082, 'recal...          1.273667  \n",
       "13  {'0': {'precision': 0.943719806763285, 'recall...          3.703258  \n",
       "14  {'0': {'precision': 0.9595551061678463, 'recal...          0.925200  "
      ]
     },
     "execution_count": 84,
     "metadata": {},
     "output_type": "execute_result"
    }
   ],
   "source": [
    "x = classification_report(y_val, y_pred, digits=4, labels=sorted(list(set(y_enc))), output_dict=True)\n",
    "models.append({'model': 'LightGBM_undersampling', 'metrics': x, 'training_time(s)': (end-start)})\n",
    "pd.DataFrame(models)"
   ]
  },
  {
   "cell_type": "markdown",
   "metadata": {},
   "source": [
    "## Results"
   ]
  },
  {
   "cell_type": "code",
   "execution_count": 85,
   "metadata": {},
   "outputs": [],
   "source": [
    "df_results = pd.DataFrame(models)"
   ]
  },
  {
   "cell_type": "code",
   "execution_count": 86,
   "metadata": {},
   "outputs": [],
   "source": [
    "df_results['precision'] = df_results['metrics'].apply(lambda x: {0: round(x['0']['precision'],3), 1: round(x['1']['precision'],3), 2: round(x['2']['precision'],3)})\n",
    "df_results['recall'] = df_results['metrics'].apply(lambda x: {0: round(x['0']['recall'],3), 1: round(x['1']['recall'],3), 2: round(x['2']['recall'],3)})\n",
    "df_results['f1-score'] = df_results['metrics'].apply(lambda x: {0: round(x['0']['f1-score'],3), 1: round(x['1']['f1-score'],3), 2: round(x['2']['f1-score'],3)})\n",
    "df_results['macro_avg'] = df_results['metrics'].apply(lambda x: {k: round(x['macro avg'][k],3) for k in x['macro avg'].keys()})\n",
    "df_results['weighted_avg'] = df_results['metrics'].apply(lambda x: {k: round(x['weighted avg'][k],3) for k in x['weighted avg'].keys()})\n",
    "df_results['accuracy'] = df_results['metrics'].apply(lambda x: round(x['accuracy'],3))\n",
    "df_results['time (s)'] = df_results['training_time(s)']\n",
    "df_results.drop(columns=['metrics','training_time(s)'],inplace=True)"
   ]
  },
  {
   "cell_type": "code",
   "execution_count": 87,
   "metadata": {},
   "outputs": [
    {
     "data": {
      "text/html": [
       "<div>\n",
       "<style scoped>\n",
       "    .dataframe tbody tr th:only-of-type {\n",
       "        vertical-align: middle;\n",
       "    }\n",
       "\n",
       "    .dataframe tbody tr th {\n",
       "        vertical-align: top;\n",
       "    }\n",
       "\n",
       "    .dataframe thead th {\n",
       "        text-align: right;\n",
       "    }\n",
       "</style>\n",
       "<table border=\"1\" class=\"dataframe\">\n",
       "  <thead>\n",
       "    <tr style=\"text-align: right;\">\n",
       "      <th></th>\n",
       "      <th>model</th>\n",
       "      <th>precision</th>\n",
       "      <th>recall</th>\n",
       "      <th>f1-score</th>\n",
       "      <th>macro_avg</th>\n",
       "      <th>weighted_avg</th>\n",
       "      <th>accuracy</th>\n",
       "      <th>time (s)</th>\n",
       "    </tr>\n",
       "  </thead>\n",
       "  <tbody>\n",
       "    <tr>\n",
       "      <th>0</th>\n",
       "      <td>Decision_tree_no_preprocessing</td>\n",
       "      <td>{0: 0.81, 1: 0.507, 2: 0.837}</td>\n",
       "      <td>{0: 0.83, 1: 0.52, 2: 0.816}</td>\n",
       "      <td>{0: 0.82, 1: 0.514, 2: 0.826}</td>\n",
       "      <td>{'precision': 0.718, 'recall': 0.722, 'f1-scor...</td>\n",
       "      <td>{'precision': 0.764, 'recall': 0.762, 'f1-scor...</td>\n",
       "      <td>0.762</td>\n",
       "      <td>0.860545</td>\n",
       "    </tr>\n",
       "    <tr>\n",
       "      <th>1</th>\n",
       "      <td>Decision_tree_oversampling</td>\n",
       "      <td>{0: 0.819, 1: 0.508, 2: 0.839}</td>\n",
       "      <td>{0: 0.835, 1: 0.536, 2: 0.81}</td>\n",
       "      <td>{0: 0.827, 1: 0.522, 2: 0.824}</td>\n",
       "      <td>{'precision': 0.722, 'recall': 0.727, 'f1-scor...</td>\n",
       "      <td>{'precision': 0.768, 'recall': 0.764, 'f1-scor...</td>\n",
       "      <td>0.764</td>\n",
       "      <td>2.772430</td>\n",
       "    </tr>\n",
       "    <tr>\n",
       "      <th>2</th>\n",
       "      <td>Decision_tree_undersampling</td>\n",
       "      <td>{0: 0.812, 1: 0.466, 2: 0.861}</td>\n",
       "      <td>{0: 0.82, 1: 0.639, 2: 0.727}</td>\n",
       "      <td>{0: 0.816, 1: 0.539, 2: 0.788}</td>\n",
       "      <td>{'precision': 0.713, 'recall': 0.729, 'f1-scor...</td>\n",
       "      <td>{'precision': 0.768, 'recall': 0.739, 'f1-scor...</td>\n",
       "      <td>0.739</td>\n",
       "      <td>0.618921</td>\n",
       "    </tr>\n",
       "    <tr>\n",
       "      <th>3</th>\n",
       "      <td>RandomForest_no_preprocessing</td>\n",
       "      <td>{0: 0.946, 1: 0.652, 2: 0.848}</td>\n",
       "      <td>{0: 0.823, 1: 0.634, 2: 0.928}</td>\n",
       "      <td>{0: 0.88, 1: 0.643, 2: 0.886}</td>\n",
       "      <td>{'precision': 0.815, 'recall': 0.795, 'f1-scor...</td>\n",
       "      <td>{'precision': 0.84, 'recall': 0.837, 'f1-score...</td>\n",
       "      <td>0.837</td>\n",
       "      <td>36.250854</td>\n",
       "    </tr>\n",
       "    <tr>\n",
       "      <th>4</th>\n",
       "      <td>RandomForest_oversampling</td>\n",
       "      <td>{0: 0.954, 1: 0.633, 2: 0.857}</td>\n",
       "      <td>{0: 0.816, 1: 0.673, 2: 0.913}</td>\n",
       "      <td>{0: 0.88, 1: 0.652, 2: 0.884}</td>\n",
       "      <td>{'precision': 0.814, 'recall': 0.801, 'f1-scor...</td>\n",
       "      <td>{'precision': 0.843, 'recall': 0.836, 'f1-scor...</td>\n",
       "      <td>0.836</td>\n",
       "      <td>101.397157</td>\n",
       "    </tr>\n",
       "    <tr>\n",
       "      <th>5</th>\n",
       "      <td>RandomForest_undersampling</td>\n",
       "      <td>{0: 0.972, 1: 0.557, 2: 0.892}</td>\n",
       "      <td>{0: 0.794, 1: 0.802, 2: 0.838}</td>\n",
       "      <td>{0: 0.874, 1: 0.658, 2: 0.864}</td>\n",
       "      <td>{'precision': 0.807, 'recall': 0.811, 'f1-scor...</td>\n",
       "      <td>{'precision': 0.851, 'recall': 0.817, 'f1-scor...</td>\n",
       "      <td>0.817</td>\n",
       "      <td>20.680076</td>\n",
       "    </tr>\n",
       "    <tr>\n",
       "      <th>6</th>\n",
       "      <td>Naive_Bayes_no_preprocessing</td>\n",
       "      <td>{0: 0.853, 1: 0.52, 2: 0.784}</td>\n",
       "      <td>{0: 0.787, 1: 0.448, 2: 0.867}</td>\n",
       "      <td>{0: 0.819, 1: 0.481, 2: 0.823}</td>\n",
       "      <td>{'precision': 0.719, 'recall': 0.7, 'f1-score'...</td>\n",
       "      <td>{'precision': 0.753, 'recall': 0.759, 'f1-scor...</td>\n",
       "      <td>0.759</td>\n",
       "      <td>0.066764</td>\n",
       "    </tr>\n",
       "    <tr>\n",
       "      <th>7</th>\n",
       "      <td>Naive_Bayes_oversampling</td>\n",
       "      <td>{0: 0.847, 1: 0.513, 2: 0.832}</td>\n",
       "      <td>{0: 0.791, 1: 0.591, 2: 0.817}</td>\n",
       "      <td>{0: 0.818, 1: 0.549, 2: 0.824}</td>\n",
       "      <td>{'precision': 0.731, 'recall': 0.733, 'f1-scor...</td>\n",
       "      <td>{'precision': 0.774, 'recall': 0.764, 'f1-scor...</td>\n",
       "      <td>0.764</td>\n",
       "      <td>0.096846</td>\n",
       "    </tr>\n",
       "    <tr>\n",
       "      <th>8</th>\n",
       "      <td>Naive_Bayes_undersampling</td>\n",
       "      <td>{0: 0.854, 1: 0.516, 2: 0.799}</td>\n",
       "      <td>{0: 0.786, 1: 0.495, 2: 0.853}</td>\n",
       "      <td>{0: 0.819, 1: 0.505, 2: 0.825}</td>\n",
       "      <td>{'precision': 0.723, 'recall': 0.711, 'f1-scor...</td>\n",
       "      <td>{'precision': 0.76, 'recall': 0.761, 'f1-score...</td>\n",
       "      <td>0.761</td>\n",
       "      <td>0.045773</td>\n",
       "    </tr>\n",
       "    <tr>\n",
       "      <th>9</th>\n",
       "      <td>KNN_no_preprocessing</td>\n",
       "      <td>{0: 0.874, 1: 0.525, 2: 0.768}</td>\n",
       "      <td>{0: 0.74, 1: 0.457, 2: 0.883}</td>\n",
       "      <td>{0: 0.801, 1: 0.488, 2: 0.821}</td>\n",
       "      <td>{'precision': 0.722, 'recall': 0.693, 'f1-scor...</td>\n",
       "      <td>{'precision': 0.753, 'recall': 0.754, 'f1-scor...</td>\n",
       "      <td>0.754</td>\n",
       "      <td>0.017229</td>\n",
       "    </tr>\n",
       "    <tr>\n",
       "      <th>10</th>\n",
       "      <td>KNN_oversampling</td>\n",
       "      <td>{0: 0.906, 1: 0.415, 2: 0.834}</td>\n",
       "      <td>{0: 0.702, 1: 0.724, 2: 0.704}</td>\n",
       "      <td>{0: 0.791, 1: 0.528, 2: 0.763}</td>\n",
       "      <td>{'precision': 0.718, 'recall': 0.71, 'f1-score...</td>\n",
       "      <td>{'precision': 0.774, 'recall': 0.707, 'f1-scor...</td>\n",
       "      <td>0.707</td>\n",
       "      <td>0.014461</td>\n",
       "    </tr>\n",
       "    <tr>\n",
       "      <th>11</th>\n",
       "      <td>KNN_undersampling</td>\n",
       "      <td>{0: 0.908, 1: 0.416, 2: 0.817}</td>\n",
       "      <td>{0: 0.698, 1: 0.689, 2: 0.722}</td>\n",
       "      <td>{0: 0.789, 1: 0.519, 2: 0.767}</td>\n",
       "      <td>{'precision': 0.714, 'recall': 0.703, 'f1-scor...</td>\n",
       "      <td>{'precision': 0.766, 'recall': 0.708, 'f1-scor...</td>\n",
       "      <td>0.708</td>\n",
       "      <td>0.006567</td>\n",
       "    </tr>\n",
       "    <tr>\n",
       "      <th>12</th>\n",
       "      <td>LightGBM_no_preprocessing</td>\n",
       "      <td>{0: 0.942, 1: 0.653, 2: 0.852}</td>\n",
       "      <td>{0: 0.83, 1: 0.638, 2: 0.924}</td>\n",
       "      <td>{0: 0.883, 1: 0.645, 2: 0.887}</td>\n",
       "      <td>{'precision': 0.816, 'recall': 0.797, 'f1-scor...</td>\n",
       "      <td>{'precision': 0.841, 'recall': 0.838, 'f1-scor...</td>\n",
       "      <td>0.838</td>\n",
       "      <td>1.273667</td>\n",
       "    </tr>\n",
       "    <tr>\n",
       "      <th>13</th>\n",
       "      <td>LightGBM_oversampling</td>\n",
       "      <td>{0: 0.944, 1: 0.652, 2: 0.857}</td>\n",
       "      <td>{0: 0.831, 1: 0.658, 2: 0.919}</td>\n",
       "      <td>{0: 0.884, 1: 0.655, 2: 0.887}</td>\n",
       "      <td>{'precision': 0.818, 'recall': 0.803, 'f1-scor...</td>\n",
       "      <td>{'precision': 0.844, 'recall': 0.84, 'f1-score...</td>\n",
       "      <td>0.840</td>\n",
       "      <td>3.703258</td>\n",
       "    </tr>\n",
       "    <tr>\n",
       "      <th>14</th>\n",
       "      <td>LightGBM_undersampling</td>\n",
       "      <td>{0: 0.96, 1: 0.568, 2: 0.896}</td>\n",
       "      <td>{0: 0.808, 1: 0.796, 2: 0.842}</td>\n",
       "      <td>{0: 0.877, 1: 0.663, 2: 0.868}</td>\n",
       "      <td>{'precision': 0.808, 'recall': 0.815, 'f1-scor...</td>\n",
       "      <td>{'precision': 0.851, 'recall': 0.822, 'f1-scor...</td>\n",
       "      <td>0.822</td>\n",
       "      <td>0.925200</td>\n",
       "    </tr>\n",
       "  </tbody>\n",
       "</table>\n",
       "</div>"
      ],
      "text/plain": [
       "                             model                       precision  \\\n",
       "0   Decision_tree_no_preprocessing   {0: 0.81, 1: 0.507, 2: 0.837}   \n",
       "1       Decision_tree_oversampling  {0: 0.819, 1: 0.508, 2: 0.839}   \n",
       "2      Decision_tree_undersampling  {0: 0.812, 1: 0.466, 2: 0.861}   \n",
       "3    RandomForest_no_preprocessing  {0: 0.946, 1: 0.652, 2: 0.848}   \n",
       "4        RandomForest_oversampling  {0: 0.954, 1: 0.633, 2: 0.857}   \n",
       "5       RandomForest_undersampling  {0: 0.972, 1: 0.557, 2: 0.892}   \n",
       "6     Naive_Bayes_no_preprocessing   {0: 0.853, 1: 0.52, 2: 0.784}   \n",
       "7         Naive_Bayes_oversampling  {0: 0.847, 1: 0.513, 2: 0.832}   \n",
       "8        Naive_Bayes_undersampling  {0: 0.854, 1: 0.516, 2: 0.799}   \n",
       "9             KNN_no_preprocessing  {0: 0.874, 1: 0.525, 2: 0.768}   \n",
       "10                KNN_oversampling  {0: 0.906, 1: 0.415, 2: 0.834}   \n",
       "11               KNN_undersampling  {0: 0.908, 1: 0.416, 2: 0.817}   \n",
       "12       LightGBM_no_preprocessing  {0: 0.942, 1: 0.653, 2: 0.852}   \n",
       "13           LightGBM_oversampling  {0: 0.944, 1: 0.652, 2: 0.857}   \n",
       "14          LightGBM_undersampling   {0: 0.96, 1: 0.568, 2: 0.896}   \n",
       "\n",
       "                            recall                        f1-score  \\\n",
       "0     {0: 0.83, 1: 0.52, 2: 0.816}   {0: 0.82, 1: 0.514, 2: 0.826}   \n",
       "1    {0: 0.835, 1: 0.536, 2: 0.81}  {0: 0.827, 1: 0.522, 2: 0.824}   \n",
       "2    {0: 0.82, 1: 0.639, 2: 0.727}  {0: 0.816, 1: 0.539, 2: 0.788}   \n",
       "3   {0: 0.823, 1: 0.634, 2: 0.928}   {0: 0.88, 1: 0.643, 2: 0.886}   \n",
       "4   {0: 0.816, 1: 0.673, 2: 0.913}   {0: 0.88, 1: 0.652, 2: 0.884}   \n",
       "5   {0: 0.794, 1: 0.802, 2: 0.838}  {0: 0.874, 1: 0.658, 2: 0.864}   \n",
       "6   {0: 0.787, 1: 0.448, 2: 0.867}  {0: 0.819, 1: 0.481, 2: 0.823}   \n",
       "7   {0: 0.791, 1: 0.591, 2: 0.817}  {0: 0.818, 1: 0.549, 2: 0.824}   \n",
       "8   {0: 0.786, 1: 0.495, 2: 0.853}  {0: 0.819, 1: 0.505, 2: 0.825}   \n",
       "9    {0: 0.74, 1: 0.457, 2: 0.883}  {0: 0.801, 1: 0.488, 2: 0.821}   \n",
       "10  {0: 0.702, 1: 0.724, 2: 0.704}  {0: 0.791, 1: 0.528, 2: 0.763}   \n",
       "11  {0: 0.698, 1: 0.689, 2: 0.722}  {0: 0.789, 1: 0.519, 2: 0.767}   \n",
       "12   {0: 0.83, 1: 0.638, 2: 0.924}  {0: 0.883, 1: 0.645, 2: 0.887}   \n",
       "13  {0: 0.831, 1: 0.658, 2: 0.919}  {0: 0.884, 1: 0.655, 2: 0.887}   \n",
       "14  {0: 0.808, 1: 0.796, 2: 0.842}  {0: 0.877, 1: 0.663, 2: 0.868}   \n",
       "\n",
       "                                            macro_avg  \\\n",
       "0   {'precision': 0.718, 'recall': 0.722, 'f1-scor...   \n",
       "1   {'precision': 0.722, 'recall': 0.727, 'f1-scor...   \n",
       "2   {'precision': 0.713, 'recall': 0.729, 'f1-scor...   \n",
       "3   {'precision': 0.815, 'recall': 0.795, 'f1-scor...   \n",
       "4   {'precision': 0.814, 'recall': 0.801, 'f1-scor...   \n",
       "5   {'precision': 0.807, 'recall': 0.811, 'f1-scor...   \n",
       "6   {'precision': 0.719, 'recall': 0.7, 'f1-score'...   \n",
       "7   {'precision': 0.731, 'recall': 0.733, 'f1-scor...   \n",
       "8   {'precision': 0.723, 'recall': 0.711, 'f1-scor...   \n",
       "9   {'precision': 0.722, 'recall': 0.693, 'f1-scor...   \n",
       "10  {'precision': 0.718, 'recall': 0.71, 'f1-score...   \n",
       "11  {'precision': 0.714, 'recall': 0.703, 'f1-scor...   \n",
       "12  {'precision': 0.816, 'recall': 0.797, 'f1-scor...   \n",
       "13  {'precision': 0.818, 'recall': 0.803, 'f1-scor...   \n",
       "14  {'precision': 0.808, 'recall': 0.815, 'f1-scor...   \n",
       "\n",
       "                                         weighted_avg  accuracy    time (s)  \n",
       "0   {'precision': 0.764, 'recall': 0.762, 'f1-scor...     0.762    0.860545  \n",
       "1   {'precision': 0.768, 'recall': 0.764, 'f1-scor...     0.764    2.772430  \n",
       "2   {'precision': 0.768, 'recall': 0.739, 'f1-scor...     0.739    0.618921  \n",
       "3   {'precision': 0.84, 'recall': 0.837, 'f1-score...     0.837   36.250854  \n",
       "4   {'precision': 0.843, 'recall': 0.836, 'f1-scor...     0.836  101.397157  \n",
       "5   {'precision': 0.851, 'recall': 0.817, 'f1-scor...     0.817   20.680076  \n",
       "6   {'precision': 0.753, 'recall': 0.759, 'f1-scor...     0.759    0.066764  \n",
       "7   {'precision': 0.774, 'recall': 0.764, 'f1-scor...     0.764    0.096846  \n",
       "8   {'precision': 0.76, 'recall': 0.761, 'f1-score...     0.761    0.045773  \n",
       "9   {'precision': 0.753, 'recall': 0.754, 'f1-scor...     0.754    0.017229  \n",
       "10  {'precision': 0.774, 'recall': 0.707, 'f1-scor...     0.707    0.014461  \n",
       "11  {'precision': 0.766, 'recall': 0.708, 'f1-scor...     0.708    0.006567  \n",
       "12  {'precision': 0.841, 'recall': 0.838, 'f1-scor...     0.838    1.273667  \n",
       "13  {'precision': 0.844, 'recall': 0.84, 'f1-score...     0.840    3.703258  \n",
       "14  {'precision': 0.851, 'recall': 0.822, 'f1-scor...     0.822    0.925200  "
      ]
     },
     "execution_count": 87,
     "metadata": {},
     "output_type": "execute_result"
    }
   ],
   "source": [
    "df_results.to_csv('data/benchmarking_outliers_handled.csv',index=False)\n",
    "df_results"
   ]
  },
  {
   "cell_type": "code",
   "execution_count": 88,
   "metadata": {},
   "outputs": [],
   "source": [
    "def get_results(df):\n",
    "\n",
    "    fields = {'model':df['model'].values, 'precision':[x['precision'] for x in df['macro_avg'].values],\n",
    "                'recall':[x['recall'] for x in df['macro_avg'].values], 'f1-score':[x['f1-score'] for x in df['macro_avg'].values],\n",
    "                'accuracy':df['accuracy'].values, 'time (s)': df['time (s)']}\n",
    "    \n",
    "    return pd.DataFrame(fields)"
   ]
  },
  {
   "cell_type": "code",
   "execution_count": 89,
   "metadata": {},
   "outputs": [
    {
     "data": {
      "text/html": [
       "<div>\n",
       "<style scoped>\n",
       "    .dataframe tbody tr th:only-of-type {\n",
       "        vertical-align: middle;\n",
       "    }\n",
       "\n",
       "    .dataframe tbody tr th {\n",
       "        vertical-align: top;\n",
       "    }\n",
       "\n",
       "    .dataframe thead th {\n",
       "        text-align: right;\n",
       "    }\n",
       "</style>\n",
       "<table border=\"1\" class=\"dataframe\">\n",
       "  <thead>\n",
       "    <tr style=\"text-align: right;\">\n",
       "      <th></th>\n",
       "      <th>model</th>\n",
       "      <th>precision</th>\n",
       "      <th>recall</th>\n",
       "      <th>f1-score</th>\n",
       "      <th>accuracy</th>\n",
       "      <th>time (s)</th>\n",
       "    </tr>\n",
       "  </thead>\n",
       "  <tbody>\n",
       "    <tr>\n",
       "      <th>0</th>\n",
       "      <td>Decision_tree_no_preprocessing</td>\n",
       "      <td>0.718</td>\n",
       "      <td>0.722</td>\n",
       "      <td>0.720</td>\n",
       "      <td>0.762</td>\n",
       "      <td>0.860545</td>\n",
       "    </tr>\n",
       "    <tr>\n",
       "      <th>1</th>\n",
       "      <td>Decision_tree_oversampling</td>\n",
       "      <td>0.722</td>\n",
       "      <td>0.727</td>\n",
       "      <td>0.724</td>\n",
       "      <td>0.764</td>\n",
       "      <td>2.772430</td>\n",
       "    </tr>\n",
       "    <tr>\n",
       "      <th>2</th>\n",
       "      <td>Decision_tree_undersampling</td>\n",
       "      <td>0.713</td>\n",
       "      <td>0.729</td>\n",
       "      <td>0.714</td>\n",
       "      <td>0.739</td>\n",
       "      <td>0.618921</td>\n",
       "    </tr>\n",
       "    <tr>\n",
       "      <th>3</th>\n",
       "      <td>RandomForest_no_preprocessing</td>\n",
       "      <td>0.815</td>\n",
       "      <td>0.795</td>\n",
       "      <td>0.803</td>\n",
       "      <td>0.837</td>\n",
       "      <td>36.250854</td>\n",
       "    </tr>\n",
       "    <tr>\n",
       "      <th>4</th>\n",
       "      <td>RandomForest_oversampling</td>\n",
       "      <td>0.814</td>\n",
       "      <td>0.801</td>\n",
       "      <td>0.805</td>\n",
       "      <td>0.836</td>\n",
       "      <td>101.397157</td>\n",
       "    </tr>\n",
       "    <tr>\n",
       "      <th>5</th>\n",
       "      <td>RandomForest_undersampling</td>\n",
       "      <td>0.807</td>\n",
       "      <td>0.811</td>\n",
       "      <td>0.799</td>\n",
       "      <td>0.817</td>\n",
       "      <td>20.680076</td>\n",
       "    </tr>\n",
       "    <tr>\n",
       "      <th>6</th>\n",
       "      <td>Naive_Bayes_no_preprocessing</td>\n",
       "      <td>0.719</td>\n",
       "      <td>0.700</td>\n",
       "      <td>0.708</td>\n",
       "      <td>0.759</td>\n",
       "      <td>0.066764</td>\n",
       "    </tr>\n",
       "    <tr>\n",
       "      <th>7</th>\n",
       "      <td>Naive_Bayes_oversampling</td>\n",
       "      <td>0.731</td>\n",
       "      <td>0.733</td>\n",
       "      <td>0.730</td>\n",
       "      <td>0.764</td>\n",
       "      <td>0.096846</td>\n",
       "    </tr>\n",
       "    <tr>\n",
       "      <th>8</th>\n",
       "      <td>Naive_Bayes_undersampling</td>\n",
       "      <td>0.723</td>\n",
       "      <td>0.711</td>\n",
       "      <td>0.716</td>\n",
       "      <td>0.761</td>\n",
       "      <td>0.045773</td>\n",
       "    </tr>\n",
       "    <tr>\n",
       "      <th>9</th>\n",
       "      <td>KNN_no_preprocessing</td>\n",
       "      <td>0.722</td>\n",
       "      <td>0.693</td>\n",
       "      <td>0.704</td>\n",
       "      <td>0.754</td>\n",
       "      <td>0.017229</td>\n",
       "    </tr>\n",
       "    <tr>\n",
       "      <th>10</th>\n",
       "      <td>KNN_oversampling</td>\n",
       "      <td>0.718</td>\n",
       "      <td>0.710</td>\n",
       "      <td>0.694</td>\n",
       "      <td>0.707</td>\n",
       "      <td>0.014461</td>\n",
       "    </tr>\n",
       "    <tr>\n",
       "      <th>11</th>\n",
       "      <td>KNN_undersampling</td>\n",
       "      <td>0.714</td>\n",
       "      <td>0.703</td>\n",
       "      <td>0.692</td>\n",
       "      <td>0.708</td>\n",
       "      <td>0.006567</td>\n",
       "    </tr>\n",
       "    <tr>\n",
       "      <th>12</th>\n",
       "      <td>LightGBM_no_preprocessing</td>\n",
       "      <td>0.816</td>\n",
       "      <td>0.797</td>\n",
       "      <td>0.805</td>\n",
       "      <td>0.838</td>\n",
       "      <td>1.273667</td>\n",
       "    </tr>\n",
       "    <tr>\n",
       "      <th>13</th>\n",
       "      <td>LightGBM_oversampling</td>\n",
       "      <td>0.818</td>\n",
       "      <td>0.803</td>\n",
       "      <td>0.809</td>\n",
       "      <td>0.840</td>\n",
       "      <td>3.703258</td>\n",
       "    </tr>\n",
       "    <tr>\n",
       "      <th>14</th>\n",
       "      <td>LightGBM_undersampling</td>\n",
       "      <td>0.808</td>\n",
       "      <td>0.815</td>\n",
       "      <td>0.803</td>\n",
       "      <td>0.822</td>\n",
       "      <td>0.925200</td>\n",
       "    </tr>\n",
       "  </tbody>\n",
       "</table>\n",
       "</div>"
      ],
      "text/plain": [
       "                             model  precision  recall  f1-score  accuracy  \\\n",
       "0   Decision_tree_no_preprocessing      0.718   0.722     0.720     0.762   \n",
       "1       Decision_tree_oversampling      0.722   0.727     0.724     0.764   \n",
       "2      Decision_tree_undersampling      0.713   0.729     0.714     0.739   \n",
       "3    RandomForest_no_preprocessing      0.815   0.795     0.803     0.837   \n",
       "4        RandomForest_oversampling      0.814   0.801     0.805     0.836   \n",
       "5       RandomForest_undersampling      0.807   0.811     0.799     0.817   \n",
       "6     Naive_Bayes_no_preprocessing      0.719   0.700     0.708     0.759   \n",
       "7         Naive_Bayes_oversampling      0.731   0.733     0.730     0.764   \n",
       "8        Naive_Bayes_undersampling      0.723   0.711     0.716     0.761   \n",
       "9             KNN_no_preprocessing      0.722   0.693     0.704     0.754   \n",
       "10                KNN_oversampling      0.718   0.710     0.694     0.707   \n",
       "11               KNN_undersampling      0.714   0.703     0.692     0.708   \n",
       "12       LightGBM_no_preprocessing      0.816   0.797     0.805     0.838   \n",
       "13           LightGBM_oversampling      0.818   0.803     0.809     0.840   \n",
       "14          LightGBM_undersampling      0.808   0.815     0.803     0.822   \n",
       "\n",
       "      time (s)  \n",
       "0     0.860545  \n",
       "1     2.772430  \n",
       "2     0.618921  \n",
       "3    36.250854  \n",
       "4   101.397157  \n",
       "5    20.680076  \n",
       "6     0.066764  \n",
       "7     0.096846  \n",
       "8     0.045773  \n",
       "9     0.017229  \n",
       "10    0.014461  \n",
       "11    0.006567  \n",
       "12    1.273667  \n",
       "13    3.703258  \n",
       "14    0.925200  "
      ]
     },
     "execution_count": 89,
     "metadata": {},
     "output_type": "execute_result"
    }
   ],
   "source": [
    "res = get_results(df_results)\n",
    "res"
   ]
  }
 ],
 "metadata": {
  "kernelspec": {
   "display_name": "Python 3",
   "language": "python",
   "name": "python3"
  },
  "language_info": {
   "codemirror_mode": {
    "name": "ipython",
    "version": 3
   },
   "file_extension": ".py",
   "mimetype": "text/x-python",
   "name": "python",
   "nbconvert_exporter": "python",
   "pygments_lexer": "ipython3",
   "version": "3.11.4"
  }
 },
 "nbformat": 4,
 "nbformat_minor": 2
}
