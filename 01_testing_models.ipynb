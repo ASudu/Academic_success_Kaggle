{
 "cells": [
  {
   "cell_type": "markdown",
   "metadata": {},
   "source": [
    "# TESTING MODELS\n",
    "\n",
    "Let us try a few classification models\n",
    "## Classical ML models"
   ]
  },
  {
   "cell_type": "code",
   "execution_count": 1,
   "metadata": {},
   "outputs": [],
   "source": [
    "import pandas as pd\n",
    "import time\n",
    "import numpy as np\n",
    "import os\n",
    "from sklearn.preprocessing import StandardScaler, LabelEncoder\n",
    "from sklearn.metrics import roc_auc_score, multilabel_confusion_matrix, accuracy_score, classification_report, balanced_accuracy_score\n",
    "import matplotlib.pyplot as plt\n",
    "import seaborn as sns"
   ]
  },
  {
   "cell_type": "code",
   "execution_count": 2,
   "metadata": {},
   "outputs": [],
   "source": [
    "models = []"
   ]
  },
  {
   "cell_type": "code",
   "execution_count": 3,
   "metadata": {},
   "outputs": [
    {
     "data": {
      "text/plain": [
       "((74462, 54),\n",
       " Index(['id', 'marital_status', 'appln_mode', 'appln_order', 'prog_of_study',\n",
       "        'morn/eve_attend', 'prev_edu', 'prev_edu_grade', 'nationality',\n",
       "        'mom_edu', 'dad_edu', 'mom_occup', 'admission_grade', 'was_displaced',\n",
       "        'edu_spl_need', 'has_student_debt', 'no_fee_dues', 'gender',\n",
       "        'got_scholarship', 'age_at_start', 'sem1_units_credited',\n",
       "        'sem1_units_enrolled', 'sem1_units_eval', 'sem1_units_approved',\n",
       "        'sem1_units_grade', 'sem1_units_no_eval', 'sem2_units_credited',\n",
       "        'sem2_units_enrolled', 'sem2_units_eval', 'sem2_units_approved',\n",
       "        'sem2_units_grade', 'sem2_units_no_eval', 'unemployment_rate',\n",
       "        'inflation', 'gdp', 'Target', 'marital_status_log', 'appln_order_log',\n",
       "        'prog_of_study_log', 'morn/eve_attend_log', 'prev_edu_log',\n",
       "        'nationality_log', 'mom_occup_log', 'edu_spl_need_log',\n",
       "        'has_student_debt_log', 'no_fee_dues_log', 'got_scholarship_log',\n",
       "        'age_at_start_log', 'sem1_units_credited_log', 'sem1_units_grade_log',\n",
       "        'sem1_units_no_eval_log', 'sem2_units_credited_log',\n",
       "        'sem2_units_grade_log', 'sem2_units_no_eval_log'],\n",
       "       dtype='object'),\n",
       " ['sem2_units_approved',\n",
       "  'no_fee_dues_log',\n",
       "  'got_scholarship_log',\n",
       "  'sem2_units_enrolled',\n",
       "  'sem2_units_eval',\n",
       "  'admission_grade',\n",
       "  'prog_of_study',\n",
       "  'sem1_units_eval',\n",
       "  'prev_edu_grade',\n",
       "  'was_displaced',\n",
       "  'appln_order_log',\n",
       "  'morn/eve_attend',\n",
       "  'gdp',\n",
       "  'marital_status_log',\n",
       "  'has_student_debt_log',\n",
       "  'appln_mode',\n",
       "  'gender',\n",
       "  'age_at_start'])"
      ]
     },
     "execution_count": 3,
     "metadata": {},
     "output_type": "execute_result"
    }
   ],
   "source": [
    "df = pd.read_csv('data/cleaned_train.csv')\n",
    "feats = []\n",
    "with open('data/features.txt','r') as f:\n",
    "    feats = [x[:-1] for x in f.readlines()]\n",
    "df.shape, df.columns, feats"
   ]
  },
  {
   "cell_type": "markdown",
   "metadata": {},
   "source": [
    "We use only the selected features"
   ]
  },
  {
   "cell_type": "code",
   "execution_count": 4,
   "metadata": {},
   "outputs": [],
   "source": [
    "X,y = df.drop(columns=['Target','id','nationality']).values, df['Target'].values"
   ]
  },
  {
   "cell_type": "code",
   "execution_count": 5,
   "metadata": {},
   "outputs": [
    {
     "data": {
      "text/plain": [
       "(Target\n",
       " Graduate    36433\n",
       " Dropout     23325\n",
       " Enrolled    14704\n",
       " Name: count, dtype: int64,\n",
       " <Axes: >)"
      ]
     },
     "execution_count": 5,
     "metadata": {},
     "output_type": "execute_result"
    },
    {
     "data": {
      "image/png": "[encoded data removed]",
      "text/plain": [
       "<Figure size 640x480 with 1 Axes>"
      ]
     },
     "metadata": {},
     "output_type": "display_data"
    }
   ],
   "source": [
    "df['Target'].value_counts(), df['Target'].hist()"
   ]
  },
  {
   "cell_type": "markdown",
   "metadata": {},
   "source": [
    "So we have an imbalanced dataset. To handle this - for classical ML models, we oversample the smaller classes"
   ]
  },
  {
   "cell_type": "code",
   "execution_count": 6,
   "metadata": {},
   "outputs": [],
   "source": [
    "# Train test split\n",
    "from sklearn.model_selection import train_test_split\n",
    "\n",
    "le = LabelEncoder()\n",
    "y_l = le.fit(y)\n",
    "y_enc = y_l.transform(y)\n",
    "\n",
    "X_train, X_val, y_train, y_val = train_test_split(X, y_enc, test_size=0.2, random_state=42)"
   ]
  },
  {
   "cell_type": "markdown",
   "metadata": {},
   "source": [
    "### Decision tree\n",
    "\n",
    "First we check the performance without any oversampling"
   ]
  },
  {
   "cell_type": "code",
   "execution_count": 7,
   "metadata": {},
   "outputs": [],
   "source": [
    "from sklearn import tree"
   ]
  },
  {
   "cell_type": "code",
   "execution_count": 8,
   "metadata": {},
   "outputs": [
    {
     "name": "stdout",
     "output_type": "stream",
     "text": [
      "CPU times: total: 922 ms\n",
      "Wall time: 1.06 s\n"
     ]
    }
   ],
   "source": [
    "%%time\n",
    "model_dt = tree.DecisionTreeClassifier()\n",
    "start = time.perf_counter()\n",
    "model_dt.fit(X_train,y_train)\n",
    "end = time.perf_counter()"
   ]
  },
  {
   "cell_type": "code",
   "execution_count": 9,
   "metadata": {},
   "outputs": [
    {
     "data": {
      "text/plain": [
       "array([[[ 9364,   894],\n",
       "        [  845,  3790]],\n",
       "\n",
       "       [[10432,  1492],\n",
       "        [ 1400,  1569]],\n",
       "\n",
       "       [[ 6435,  1169],\n",
       "        [ 1310,  5979]]], dtype=int64)"
      ]
     },
     "execution_count": 9,
     "metadata": {},
     "output_type": "execute_result"
    }
   ],
   "source": [
    "y_pred = model_dt.predict(X_val)\n",
    "mat = multilabel_confusion_matrix(y_val,y_pred)\n",
    "mat"
   ]
  },
  {
   "cell_type": "code",
   "execution_count": 10,
   "metadata": {},
   "outputs": [
    {
     "data": {
      "text/plain": [
       "(0.7221431230021699, 0.7612972537433693)"
      ]
     },
     "execution_count": 10,
     "metadata": {},
     "output_type": "execute_result"
    }
   ],
   "source": [
    "balanced_accuracy_score(y_val,y_pred), accuracy_score(y_val,y_pred)"
   ]
  },
  {
   "cell_type": "code",
   "execution_count": 11,
   "metadata": {},
   "outputs": [
    {
     "name": "stdout",
     "output_type": "stream",
     "text": [
      "DECISION TREE - NO PREPROCESSING\n"
     ]
    },
    {
     "data": {
      "text/html": [
       "<div>\n",
       "<style scoped>\n",
       "    .dataframe tbody tr th:only-of-type {\n",
       "        vertical-align: middle;\n",
       "    }\n",
       "\n",
       "    .dataframe tbody tr th {\n",
       "        vertical-align: top;\n",
       "    }\n",
       "\n",
       "    .dataframe thead th {\n",
       "        text-align: right;\n",
       "    }\n",
       "</style>\n",
       "<table border=\"1\" class=\"dataframe\">\n",
       "  <thead>\n",
       "    <tr style=\"text-align: right;\">\n",
       "      <th></th>\n",
       "      <th>model</th>\n",
       "      <th>metrics</th>\n",
       "      <th>training_time(s)</th>\n",
       "    </tr>\n",
       "  </thead>\n",
       "  <tbody>\n",
       "    <tr>\n",
       "      <th>0</th>\n",
       "      <td>Decision_tree_no_preprocessing</td>\n",
       "      <td>{'0': {'precision': 0.8091374893253629, 'recal...</td>\n",
       "      <td>1.05477</td>\n",
       "    </tr>\n",
       "  </tbody>\n",
       "</table>\n",
       "</div>"
      ],
      "text/plain": [
       "                            model  \\\n",
       "0  Decision_tree_no_preprocessing   \n",
       "\n",
       "                                             metrics  training_time(s)  \n",
       "0  {'0': {'precision': 0.8091374893253629, 'recal...           1.05477  "
      ]
     },
     "execution_count": 11,
     "metadata": {},
     "output_type": "execute_result"
    }
   ],
   "source": [
    "print('DECISION TREE - NO PREPROCESSING')\n",
    "x = classification_report(y_val, y_pred, labels = sorted(list(set(y_enc))), digits=4, output_dict=True)\n",
    "models.append({'model':'Decision_tree_no_preprocessing', 'metrics': x, 'training_time(s)':(end-start)})\n",
    "pd.DataFrame(models)"
   ]
  },
  {
   "cell_type": "markdown",
   "metadata": {},
   "source": [
    "Next, let us use `SMOTE` (Synthetic Minority Over-sampling Technique) to oversample the minority classes"
   ]
  },
  {
   "cell_type": "code",
   "execution_count": 12,
   "metadata": {},
   "outputs": [],
   "source": [
    "from imblearn.over_sampling import SMOTE\n",
    "from collections import Counter"
   ]
  },
  {
   "cell_type": "code",
   "execution_count": 13,
   "metadata": {},
   "outputs": [
    {
     "name": "stdout",
     "output_type": "stream",
     "text": [
      "Before Oversampling [(0, 18690), (1, 11735), (2, 29144)]\n",
      "After Oversampling [(0, 29144), (1, 29144), (2, 29144)]\n"
     ]
    }
   ],
   "source": [
    "#Apply Over Sampling\n",
    "print(f'Before Oversampling {sorted(Counter(y_train).items())}')\n",
    "X_train1, y_train1 = SMOTE().fit_resample(X_train, y_train)\n",
    "print(f'After Oversampling {sorted(Counter(y_train1).items())}')"
   ]
  },
  {
   "cell_type": "code",
   "execution_count": 14,
   "metadata": {},
   "outputs": [
    {
     "name": "stdout",
     "output_type": "stream",
     "text": [
      "CPU times: total: 3.67 s\n",
      "Wall time: 3.85 s\n"
     ]
    }
   ],
   "source": [
    "%%time\n",
    "model_dt = tree.DecisionTreeClassifier()\n",
    "start = time.perf_counter()\n",
    "model_dt.fit(X_train1,y_train1)\n",
    "end = time.perf_counter()"
   ]
  },
  {
   "cell_type": "code",
   "execution_count": 15,
   "metadata": {},
   "outputs": [
    {
     "data": {
      "text/plain": [
       "array([[[ 9369,   889],\n",
       "        [  873,  3762]],\n",
       "\n",
       "       [[10387,  1537],\n",
       "        [ 1365,  1604]],\n",
       "\n",
       "       [[ 6474,  1130],\n",
       "        [ 1318,  5971]]], dtype=int64)"
      ]
     },
     "execution_count": 15,
     "metadata": {},
     "output_type": "execute_result"
    }
   ],
   "source": [
    "y_pred = model_dt.predict(X_val)\n",
    "mat = multilabel_confusion_matrix(y_val,y_pred)\n",
    "mat"
   ]
  },
  {
   "cell_type": "code",
   "execution_count": 16,
   "metadata": {},
   "outputs": [
    {
     "data": {
      "text/plain": [
       "(0.7236931044276739, 0.7612301081044787)"
      ]
     },
     "execution_count": 16,
     "metadata": {},
     "output_type": "execute_result"
    }
   ],
   "source": [
    "balanced_accuracy_score(y_val,y_pred), accuracy_score(y_val,y_pred)"
   ]
  },
  {
   "cell_type": "code",
   "execution_count": 17,
   "metadata": {},
   "outputs": [
    {
     "name": "stdout",
     "output_type": "stream",
     "text": [
      "DECISION TREE - SMOTE\n"
     ]
    },
    {
     "data": {
      "text/html": [
       "<div>\n",
       "<style scoped>\n",
       "    .dataframe tbody tr th:only-of-type {\n",
       "        vertical-align: middle;\n",
       "    }\n",
       "\n",
       "    .dataframe tbody tr th {\n",
       "        vertical-align: top;\n",
       "    }\n",
       "\n",
       "    .dataframe thead th {\n",
       "        text-align: right;\n",
       "    }\n",
       "</style>\n",
       "<table border=\"1\" class=\"dataframe\">\n",
       "  <thead>\n",
       "    <tr style=\"text-align: right;\">\n",
       "      <th></th>\n",
       "      <th>model</th>\n",
       "      <th>metrics</th>\n",
       "      <th>training_time(s)</th>\n",
       "    </tr>\n",
       "  </thead>\n",
       "  <tbody>\n",
       "    <tr>\n",
       "      <th>0</th>\n",
       "      <td>Decision_tree_no_preprocessing</td>\n",
       "      <td>{'0': {'precision': 0.8091374893253629, 'recal...</td>\n",
       "      <td>1.054770</td>\n",
       "    </tr>\n",
       "    <tr>\n",
       "      <th>1</th>\n",
       "      <td>Decision_tree_oversampling</td>\n",
       "      <td>{'0': {'precision': 0.8088583100408514, 'recal...</td>\n",
       "      <td>3.844142</td>\n",
       "    </tr>\n",
       "  </tbody>\n",
       "</table>\n",
       "</div>"
      ],
      "text/plain": [
       "                            model  \\\n",
       "0  Decision_tree_no_preprocessing   \n",
       "1      Decision_tree_oversampling   \n",
       "\n",
       "                                             metrics  training_time(s)  \n",
       "0  {'0': {'precision': 0.8091374893253629, 'recal...          1.054770  \n",
       "1  {'0': {'precision': 0.8088583100408514, 'recal...          3.844142  "
      ]
     },
     "execution_count": 17,
     "metadata": {},
     "output_type": "execute_result"
    }
   ],
   "source": [
    "print('DECISION TREE - SMOTE')\n",
    "x = classification_report(y_val, y_pred, labels = sorted(list(set(y_enc))), digits=4, output_dict=True)\n",
    "models.append({'model':'Decision_tree_oversampling', 'metrics': x, 'training_time(s)':(end-start)})\n",
    "pd.DataFrame(models)"
   ]
  },
  {
   "cell_type": "markdown",
   "metadata": {},
   "source": [
    "Let us try an undersampler"
   ]
  },
  {
   "cell_type": "code",
   "execution_count": 18,
   "metadata": {},
   "outputs": [],
   "source": [
    "from imblearn.under_sampling import RandomUnderSampler"
   ]
  },
  {
   "cell_type": "code",
   "execution_count": 19,
   "metadata": {},
   "outputs": [
    {
     "name": "stdout",
     "output_type": "stream",
     "text": [
      "Before Undersampling [(0, 18690), (1, 11735), (2, 29144)]\n",
      "After Undersampling [(0, 11735), (1, 11735), (2, 11735)]\n"
     ]
    }
   ],
   "source": [
    "#Apply Random Under Sampling\n",
    "rus = RandomUnderSampler(random_state=0)\n",
    "print(f'Before Undersampling {sorted(Counter(y_train).items())}')\n",
    "X_train1, y_train1 =rus.fit_resample(X_train, y_train)\n",
    "print(f'After Undersampling {sorted(Counter(y_train1).items())}')"
   ]
  },
  {
   "cell_type": "code",
   "execution_count": 20,
   "metadata": {},
   "outputs": [
    {
     "name": "stdout",
     "output_type": "stream",
     "text": [
      "CPU times: total: 484 ms\n",
      "Wall time: 778 ms\n"
     ]
    }
   ],
   "source": [
    "%%time\n",
    "model_dt = tree.DecisionTreeClassifier()\n",
    "start = time.perf_counter()\n",
    "model_dt.fit(X_train1,y_train1)\n",
    "end = time.perf_counter()"
   ]
  },
  {
   "cell_type": "code",
   "execution_count": 21,
   "metadata": {},
   "outputs": [
    {
     "data": {
      "text/plain": [
       "array([[[9390,  868],\n",
       "        [ 922, 3713]],\n",
       "\n",
       "       [[9619, 2305],\n",
       "        [1043, 1926]],\n",
       "\n",
       "       [[6783,  821],\n",
       "        [2029, 5260]]], dtype=int64)"
      ]
     },
     "execution_count": 21,
     "metadata": {},
     "output_type": "execute_result"
    }
   ],
   "source": [
    "y_pred = model_dt.predict(X_val)\n",
    "mat = multilabel_confusion_matrix(y_val,y_pred)\n",
    "mat"
   ]
  },
  {
   "cell_type": "code",
   "execution_count": 22,
   "metadata": {},
   "outputs": [
    {
     "data": {
      "text/plain": [
       "(0.7238057855565142, 0.7318203182703283)"
      ]
     },
     "execution_count": 22,
     "metadata": {},
     "output_type": "execute_result"
    }
   ],
   "source": [
    "balanced_accuracy_score(y_val,y_pred), accuracy_score(y_val,y_pred)"
   ]
  },
  {
   "cell_type": "code",
   "execution_count": 23,
   "metadata": {},
   "outputs": [
    {
     "name": "stdout",
     "output_type": "stream",
     "text": [
      "DECISION TREE - Random Undersampler\n"
     ]
    },
    {
     "data": {
      "text/html": [
       "<div>\n",
       "<style scoped>\n",
       "    .dataframe tbody tr th:only-of-type {\n",
       "        vertical-align: middle;\n",
       "    }\n",
       "\n",
       "    .dataframe tbody tr th {\n",
       "        vertical-align: top;\n",
       "    }\n",
       "\n",
       "    .dataframe thead th {\n",
       "        text-align: right;\n",
       "    }\n",
       "</style>\n",
       "<table border=\"1\" class=\"dataframe\">\n",
       "  <thead>\n",
       "    <tr style=\"text-align: right;\">\n",
       "      <th></th>\n",
       "      <th>model</th>\n",
       "      <th>metrics</th>\n",
       "      <th>training_time(s)</th>\n",
       "    </tr>\n",
       "  </thead>\n",
       "  <tbody>\n",
       "    <tr>\n",
       "      <th>0</th>\n",
       "      <td>Decision_tree_no_preprocessing</td>\n",
       "      <td>{'0': {'precision': 0.8091374893253629, 'recal...</td>\n",
       "      <td>1.054770</td>\n",
       "    </tr>\n",
       "    <tr>\n",
       "      <th>1</th>\n",
       "      <td>Decision_tree_oversampling</td>\n",
       "      <td>{'0': {'precision': 0.8088583100408514, 'recal...</td>\n",
       "      <td>3.844142</td>\n",
       "    </tr>\n",
       "    <tr>\n",
       "      <th>2</th>\n",
       "      <td>Decision_tree_undersampling</td>\n",
       "      <td>{'0': {'precision': 0.8105217201484392, 'recal...</td>\n",
       "      <td>0.777214</td>\n",
       "    </tr>\n",
       "  </tbody>\n",
       "</table>\n",
       "</div>"
      ],
      "text/plain": [
       "                            model  \\\n",
       "0  Decision_tree_no_preprocessing   \n",
       "1      Decision_tree_oversampling   \n",
       "2     Decision_tree_undersampling   \n",
       "\n",
       "                                             metrics  training_time(s)  \n",
       "0  {'0': {'precision': 0.8091374893253629, 'recal...          1.054770  \n",
       "1  {'0': {'precision': 0.8088583100408514, 'recal...          3.844142  \n",
       "2  {'0': {'precision': 0.8105217201484392, 'recal...          0.777214  "
      ]
     },
     "execution_count": 23,
     "metadata": {},
     "output_type": "execute_result"
    }
   ],
   "source": [
    "print('DECISION TREE - Random Undersampler')\n",
    "x = classification_report(y_val, y_pred, labels = sorted(list(set(y_enc))), digits=4, output_dict=True)\n",
    "models.append({'model':'Decision_tree_undersampling', 'metrics': x, 'training_time(s)':(end-start)})\n",
    "pd.DataFrame(models)"
   ]
  },
  {
   "cell_type": "markdown",
   "metadata": {},
   "source": [
    "So, the performance is not vastly affected by the oversampling or undersampling => Decision tree is robust to imbalanced data\n",
    "\n",
    "### Random Forest"
   ]
  },
  {
   "cell_type": "code",
   "execution_count": 24,
   "metadata": {},
   "outputs": [],
   "source": [
    "from sklearn.ensemble import RandomForestClassifier"
   ]
  },
  {
   "cell_type": "code",
   "execution_count": 25,
   "metadata": {},
   "outputs": [
    {
     "name": "stdout",
     "output_type": "stream",
     "text": [
      "n_estimators: 5, time_taken: 0.6162093999992067s, accuracy: 0.804001880077889\n",
      "n_estimators: 10, time_taken: 1.1735269000018889s, accuracy: 0.8183039011616196\n",
      "n_estimators: 20, time_taken: 2.381616999999096s, accuracy: 0.8281743100785603\n",
      "n_estimators: 50, time_taken: 5.77274799999941s, accuracy: 0.8344188544954005\n",
      "n_estimators: 100, time_taken: 11.361902100001316s, accuracy: 0.8358289129121064\n",
      "n_estimators: 200, time_taken: 22.25403940000251s, accuracy: 0.8363660780232324\n",
      "n_estimators: 300, time_taken: 35.01019670000096s, accuracy: 0.8370375344121399\n"
     ]
    }
   ],
   "source": [
    "estims = [5,10,20,50,100,200,300]\n",
    "model = RandomForestClassifier()\n",
    "acc,tim = [], []\n",
    "for x in estims:\n",
    "    model = RandomForestClassifier(n_estimators=x,warm_start=True)\n",
    "    start = time.perf_counter()\n",
    "    model.fit(X_train,y_train)\n",
    "    end = time.perf_counter()\n",
    "    y_pred = model.predict(X_val)\n",
    "    _acc = accuracy_score(y_val,y_pred)\n",
    "    tim.append(end-start)\n",
    "    print(f'n_estimators: {x}, time_taken: {end-start}s, accuracy: {_acc}')\n",
    "    acc.append(_acc)"
   ]
  },
  {
   "cell_type": "markdown",
   "metadata": {},
   "source": [
    "Pick best model"
   ]
  },
  {
   "cell_type": "code",
   "execution_count": 26,
   "metadata": {},
   "outputs": [
    {
     "name": "stdout",
     "output_type": "stream",
     "text": [
      "n_estimators: 300, time_taken: 37.33499699999811s, accuracy: 0.8369032431343584\n"
     ]
    }
   ],
   "source": [
    "model1 = RandomForestClassifier(n_estimators=estims[np.argmax(acc)],warm_start=True)\n",
    "start = time.perf_counter()\n",
    "model1.fit(X_train,y_train)\n",
    "end = time.perf_counter()\n",
    "y_pred = model1.predict(X_val)\n",
    "_acc = accuracy_score(y_val,y_pred)\n",
    "print(f'n_estimators: {estims[np.argmax(acc)]}, time_taken: {end-start}s, accuracy: {_acc}')"
   ]
  },
  {
   "cell_type": "code",
   "execution_count": 27,
   "metadata": {},
   "outputs": [
    {
     "data": {
      "text/html": [
       "<div>\n",
       "<style scoped>\n",
       "    .dataframe tbody tr th:only-of-type {\n",
       "        vertical-align: middle;\n",
       "    }\n",
       "\n",
       "    .dataframe tbody tr th {\n",
       "        vertical-align: top;\n",
       "    }\n",
       "\n",
       "    .dataframe thead th {\n",
       "        text-align: right;\n",
       "    }\n",
       "</style>\n",
       "<table border=\"1\" class=\"dataframe\">\n",
       "  <thead>\n",
       "    <tr style=\"text-align: right;\">\n",
       "      <th></th>\n",
       "      <th>model</th>\n",
       "      <th>metrics</th>\n",
       "      <th>training_time(s)</th>\n",
       "    </tr>\n",
       "  </thead>\n",
       "  <tbody>\n",
       "    <tr>\n",
       "      <th>0</th>\n",
       "      <td>Decision_tree_no_preprocessing</td>\n",
       "      <td>{'0': {'precision': 0.8091374893253629, 'recal...</td>\n",
       "      <td>1.054770</td>\n",
       "    </tr>\n",
       "    <tr>\n",
       "      <th>1</th>\n",
       "      <td>Decision_tree_oversampling</td>\n",
       "      <td>{'0': {'precision': 0.8088583100408514, 'recal...</td>\n",
       "      <td>3.844142</td>\n",
       "    </tr>\n",
       "    <tr>\n",
       "      <th>2</th>\n",
       "      <td>Decision_tree_undersampling</td>\n",
       "      <td>{'0': {'precision': 0.8105217201484392, 'recal...</td>\n",
       "      <td>0.777214</td>\n",
       "    </tr>\n",
       "    <tr>\n",
       "      <th>3</th>\n",
       "      <td>RandomForest_no_preprocessing</td>\n",
       "      <td>{'0': {'precision': 0.9438993710691824, 'recal...</td>\n",
       "      <td>35.010197</td>\n",
       "    </tr>\n",
       "  </tbody>\n",
       "</table>\n",
       "</div>"
      ],
      "text/plain": [
       "                            model  \\\n",
       "0  Decision_tree_no_preprocessing   \n",
       "1      Decision_tree_oversampling   \n",
       "2     Decision_tree_undersampling   \n",
       "3   RandomForest_no_preprocessing   \n",
       "\n",
       "                                             metrics  training_time(s)  \n",
       "0  {'0': {'precision': 0.8091374893253629, 'recal...          1.054770  \n",
       "1  {'0': {'precision': 0.8088583100408514, 'recal...          3.844142  \n",
       "2  {'0': {'precision': 0.8105217201484392, 'recal...          0.777214  \n",
       "3  {'0': {'precision': 0.9438993710691824, 'recal...         35.010197  "
      ]
     },
     "execution_count": 27,
     "metadata": {},
     "output_type": "execute_result"
    }
   ],
   "source": [
    "y_pred = model1.predict(X_val)\n",
    "x = classification_report(y_val, y_pred, digits=4, labels=sorted(list(set(y_enc))), output_dict=True)\n",
    "models.append({'model': 'RandomForest_no_preprocessing', 'metrics': x, 'training_time(s)': tim[-1]})\n",
    "pd.DataFrame(models)"
   ]
  },
  {
   "cell_type": "code",
   "execution_count": 28,
   "metadata": {},
   "outputs": [
    {
     "data": {
      "text/plain": [
       "Text(0.5, 1.0, 'Training time')"
      ]
     },
     "execution_count": 28,
     "metadata": {},
     "output_type": "execute_result"
    },
    {
     "data": {
      "image/png": "[encoded data removed]",
      "text/plain": [
       "<Figure size 1000x500 with 2 Axes>"
      ]
     },
     "metadata": {},
     "output_type": "display_data"
    }
   ],
   "source": [
    "fig = plt.figure(figsize=(10,5))\n",
    "\n",
    "ax1 = fig.add_subplot(121)\n",
    "ax1.plot(estims,acc)\n",
    "ax1.set_title('Accuracy')\n",
    "\n",
    "ax2 = fig.add_subplot(122)\n",
    "ax2.plot(estims,tim)\n",
    "ax2.set_title('Training time')"
   ]
  },
  {
   "cell_type": "markdown",
   "metadata": {},
   "source": [
    "Try with SMOTE"
   ]
  },
  {
   "cell_type": "code",
   "execution_count": 29,
   "metadata": {},
   "outputs": [
    {
     "name": "stdout",
     "output_type": "stream",
     "text": [
      "n_estimators: 5, time_taken: 1.711980100000801s, accuracy: 0.800711743772242\n",
      "n_estimators: 10, time_taken: 3.3994600999976683s, accuracy: 0.8198482508561069\n",
      "n_estimators: 20, time_taken: 6.701393899998948s, accuracy: 0.8260256496340562\n",
      "n_estimators: 50, time_taken: 18.319298399997933s, accuracy: 0.8324716309675687\n",
      "n_estimators: 100, time_taken: 32.98988280000049s, accuracy: 0.8344860001342913\n",
      "n_estimators: 200, time_taken: 80.94888179999907s, accuracy: 0.8349560196065265\n",
      "n_estimators: 300, time_taken: 122.86633029999939s, accuracy: 0.8354260390787618\n"
     ]
    }
   ],
   "source": [
    "X_train1, y_train1 = SMOTE().fit_resample(X_train,y_train)\n",
    "estims = [5,10,20,50,100,200,300]\n",
    "model = RandomForestClassifier()\n",
    "acc,tim = [], []\n",
    "for x in estims:\n",
    "    model = RandomForestClassifier(n_estimators=x,warm_start=True)\n",
    "    start = time.perf_counter()\n",
    "    model.fit(X_train1,y_train1)\n",
    "    end = time.perf_counter()\n",
    "    y_pred = model.predict(X_val)\n",
    "    _acc = accuracy_score(y_val,y_pred)\n",
    "    tim.append(end-start)\n",
    "    print(f'n_estimators: {x}, time_taken: {end-start}s, accuracy: {_acc}')\n",
    "    acc.append(_acc)"
   ]
  },
  {
   "cell_type": "markdown",
   "metadata": {},
   "source": [
    "Pick best model"
   ]
  },
  {
   "cell_type": "code",
   "execution_count": 30,
   "metadata": {},
   "outputs": [
    {
     "name": "stdout",
     "output_type": "stream",
     "text": [
      "n_estimators: 300, time_taken: 122.50176519999877s, accuracy: 0.8338145437453838\n"
     ]
    }
   ],
   "source": [
    "model1 = RandomForestClassifier(n_estimators=estims[np.argmax(acc)],warm_start=True)\n",
    "start = time.perf_counter()\n",
    "model1.fit(X_train1,y_train1)\n",
    "end = time.perf_counter()\n",
    "y_pred = model1.predict(X_val)\n",
    "_acc = accuracy_score(y_val,y_pred)\n",
    "print(f'n_estimators: {estims[np.argmax(acc)]}, time_taken: {end-start}s, accuracy: {_acc}')"
   ]
  },
  {
   "cell_type": "code",
   "execution_count": 31,
   "metadata": {},
   "outputs": [
    {
     "data": {
      "text/html": [
       "<div>\n",
       "<style scoped>\n",
       "    .dataframe tbody tr th:only-of-type {\n",
       "        vertical-align: middle;\n",
       "    }\n",
       "\n",
       "    .dataframe tbody tr th {\n",
       "        vertical-align: top;\n",
       "    }\n",
       "\n",
       "    .dataframe thead th {\n",
       "        text-align: right;\n",
       "    }\n",
       "</style>\n",
       "<table border=\"1\" class=\"dataframe\">\n",
       "  <thead>\n",
       "    <tr style=\"text-align: right;\">\n",
       "      <th></th>\n",
       "      <th>model</th>\n",
       "      <th>metrics</th>\n",
       "      <th>training_time(s)</th>\n",
       "    </tr>\n",
       "  </thead>\n",
       "  <tbody>\n",
       "    <tr>\n",
       "      <th>0</th>\n",
       "      <td>Decision_tree_no_preprocessing</td>\n",
       "      <td>{'0': {'precision': 0.8091374893253629, 'recal...</td>\n",
       "      <td>1.054770</td>\n",
       "    </tr>\n",
       "    <tr>\n",
       "      <th>1</th>\n",
       "      <td>Decision_tree_oversampling</td>\n",
       "      <td>{'0': {'precision': 0.8088583100408514, 'recal...</td>\n",
       "      <td>3.844142</td>\n",
       "    </tr>\n",
       "    <tr>\n",
       "      <th>2</th>\n",
       "      <td>Decision_tree_undersampling</td>\n",
       "      <td>{'0': {'precision': 0.8105217201484392, 'recal...</td>\n",
       "      <td>0.777214</td>\n",
       "    </tr>\n",
       "    <tr>\n",
       "      <th>3</th>\n",
       "      <td>RandomForest_no_preprocessing</td>\n",
       "      <td>{'0': {'precision': 0.9438993710691824, 'recal...</td>\n",
       "      <td>35.010197</td>\n",
       "    </tr>\n",
       "    <tr>\n",
       "      <th>4</th>\n",
       "      <td>RandomForest_oversampling</td>\n",
       "      <td>{'0': {'precision': 0.9486658195679797, 'recal...</td>\n",
       "      <td>122.866330</td>\n",
       "    </tr>\n",
       "  </tbody>\n",
       "</table>\n",
       "</div>"
      ],
      "text/plain": [
       "                            model  \\\n",
       "0  Decision_tree_no_preprocessing   \n",
       "1      Decision_tree_oversampling   \n",
       "2     Decision_tree_undersampling   \n",
       "3   RandomForest_no_preprocessing   \n",
       "4       RandomForest_oversampling   \n",
       "\n",
       "                                             metrics  training_time(s)  \n",
       "0  {'0': {'precision': 0.8091374893253629, 'recal...          1.054770  \n",
       "1  {'0': {'precision': 0.8088583100408514, 'recal...          3.844142  \n",
       "2  {'0': {'precision': 0.8105217201484392, 'recal...          0.777214  \n",
       "3  {'0': {'precision': 0.9438993710691824, 'recal...         35.010197  \n",
       "4  {'0': {'precision': 0.9486658195679797, 'recal...        122.866330  "
      ]
     },
     "execution_count": 31,
     "metadata": {},
     "output_type": "execute_result"
    }
   ],
   "source": [
    "y_pred = model1.predict(X_val)\n",
    "x = classification_report(y_val, y_pred, digits=4, labels=sorted(list(set(y_enc))), output_dict=True)\n",
    "models.append({'model': 'RandomForest_oversampling', 'metrics': x, 'training_time(s)': tim[-1]})\n",
    "pd.DataFrame(models)"
   ]
  },
  {
   "cell_type": "code",
   "execution_count": 32,
   "metadata": {},
   "outputs": [
    {
     "data": {
      "text/plain": [
       "Text(0.5, 1.0, 'Training time')"
      ]
     },
     "execution_count": 32,
     "metadata": {},
     "output_type": "execute_result"
    },
    {
     "data": {
      "image/png": "[encoded data removed]",
      "text/plain": [
       "<Figure size 1000x500 with 2 Axes>"
      ]
     },
     "metadata": {},
     "output_type": "display_data"
    }
   ],
   "source": [
    "fig = plt.figure(figsize=(10,5))\n",
    "\n",
    "ax1 = fig.add_subplot(121)\n",
    "ax1.plot(estims,acc)\n",
    "ax1.set_title('Accuracy')\n",
    "\n",
    "ax2 = fig.add_subplot(122)\n",
    "ax2.plot(estims,tim)\n",
    "ax2.set_title('Training time')\n"
   ]
  },
  {
   "cell_type": "markdown",
   "metadata": {},
   "source": [
    "Let's try Undersampling"
   ]
  },
  {
   "cell_type": "code",
   "execution_count": 33,
   "metadata": {},
   "outputs": [
    {
     "name": "stdout",
     "output_type": "stream",
     "text": [
      "n_estimators: 5, time_taken: 0.44251290000102017s, accuracy: 0.7764721681326798\n",
      "n_estimators: 10, time_taken: 0.9050316000029852s, accuracy: 0.7969515879943597\n",
      "n_estimators: 20, time_taken: 1.8506123999977717s, accuracy: 0.8066205599946283\n",
      "n_estimators: 50, time_taken: 4.488022999998066s, accuracy: 0.8114550459947626\n",
      "n_estimators: 100, time_taken: 9.058499399998254s, accuracy: 0.8144094541059558\n",
      "n_estimators: 200, time_taken: 17.02805619999708s, accuracy: 0.8171624253004768\n",
      "n_estimators: 300, time_taken: 25.618703299998742s, accuracy: 0.8154837843282079\n"
     ]
    }
   ],
   "source": [
    "X_train1, y_train1 = RandomUnderSampler().fit_resample(X_train,y_train)\n",
    "estims = [5,10,20,50,100,200,300]\n",
    "model = RandomForestClassifier()\n",
    "acc,tim = [], []\n",
    "for x in estims:\n",
    "    model = RandomForestClassifier(n_estimators=x,warm_start=True)\n",
    "    start = time.perf_counter()\n",
    "    model.fit(X_train1,y_train1)\n",
    "    end = time.perf_counter()\n",
    "    y_pred = model.predict(X_val)\n",
    "    _acc = accuracy_score(y_val,y_pred)\n",
    "    tim.append(end-start)\n",
    "    print(f'n_estimators: {x}, time_taken: {end-start}s, accuracy: {_acc}')\n",
    "    acc.append(_acc)"
   ]
  },
  {
   "cell_type": "markdown",
   "metadata": {},
   "source": [
    "Pick best model"
   ]
  },
  {
   "cell_type": "code",
   "execution_count": 34,
   "metadata": {},
   "outputs": [
    {
     "name": "stdout",
     "output_type": "stream",
     "text": [
      "n_estimators: 200, time_taken: 17.34312570000111s, accuracy: 0.8156180756059894\n"
     ]
    }
   ],
   "source": [
    "model1 = RandomForestClassifier(n_estimators=estims[np.argmax(acc)],warm_start=True)\n",
    "start = time.perf_counter()\n",
    "model1.fit(X_train1,y_train1)\n",
    "end = time.perf_counter()\n",
    "y_pred = model1.predict(X_val)\n",
    "_acc = accuracy_score(y_val,y_pred)\n",
    "print(f'n_estimators: {estims[np.argmax(acc)]}, time_taken: {end-start}s, accuracy: {_acc}')"
   ]
  },
  {
   "cell_type": "code",
   "execution_count": 35,
   "metadata": {},
   "outputs": [
    {
     "data": {
      "text/plain": [
       "array([0.0008745 , 0.01186795, 0.00876311, 0.01681078, 0.00097427,\n",
       "       0.00197605, 0.02750683, 0.01449029, 0.01455011, 0.01348698,\n",
       "       0.03198259, 0.00579219, 0.00040198, 0.00451769, 0.01492717,\n",
       "       0.00666729, 0.01464388, 0.01843687, 0.00187962, 0.01016381,\n",
       "       0.03769603, 0.07461531, 0.07953684, 0.00174207, 0.00150028,\n",
       "       0.0112673 , 0.04147363, 0.11700634, 0.11848896, 0.00173152,\n",
       "       0.01609303, 0.0145077 , 0.01625605, 0.00088329, 0.00888928,\n",
       "       0.01704257, 0.00096642, 0.00199011, 0.00046036, 0.01348072,\n",
       "       0.00040375, 0.00451707, 0.01551235, 0.01199841, 0.01790993,\n",
       "       0.00174945, 0.06409989, 0.00173308, 0.00144301, 0.08255959,\n",
       "       0.00173169])"
      ]
     },
     "execution_count": 35,
     "metadata": {},
     "output_type": "execute_result"
    }
   ],
   "source": [
    "model.feature_importances_"
   ]
  },
  {
   "cell_type": "code",
   "execution_count": 36,
   "metadata": {},
   "outputs": [
    {
     "data": {
      "text/html": [
       "<div>\n",
       "<style scoped>\n",
       "    .dataframe tbody tr th:only-of-type {\n",
       "        vertical-align: middle;\n",
       "    }\n",
       "\n",
       "    .dataframe tbody tr th {\n",
       "        vertical-align: top;\n",
       "    }\n",
       "\n",
       "    .dataframe thead th {\n",
       "        text-align: right;\n",
       "    }\n",
       "</style>\n",
       "<table border=\"1\" class=\"dataframe\">\n",
       "  <thead>\n",
       "    <tr style=\"text-align: right;\">\n",
       "      <th></th>\n",
       "      <th>model</th>\n",
       "      <th>metrics</th>\n",
       "      <th>training_time(s)</th>\n",
       "    </tr>\n",
       "  </thead>\n",
       "  <tbody>\n",
       "    <tr>\n",
       "      <th>0</th>\n",
       "      <td>Decision_tree_no_preprocessing</td>\n",
       "      <td>{'0': {'precision': 0.8091374893253629, 'recal...</td>\n",
       "      <td>1.054770</td>\n",
       "    </tr>\n",
       "    <tr>\n",
       "      <th>1</th>\n",
       "      <td>Decision_tree_oversampling</td>\n",
       "      <td>{'0': {'precision': 0.8088583100408514, 'recal...</td>\n",
       "      <td>3.844142</td>\n",
       "    </tr>\n",
       "    <tr>\n",
       "      <th>2</th>\n",
       "      <td>Decision_tree_undersampling</td>\n",
       "      <td>{'0': {'precision': 0.8105217201484392, 'recal...</td>\n",
       "      <td>0.777214</td>\n",
       "    </tr>\n",
       "    <tr>\n",
       "      <th>3</th>\n",
       "      <td>RandomForest_no_preprocessing</td>\n",
       "      <td>{'0': {'precision': 0.9438993710691824, 'recal...</td>\n",
       "      <td>35.010197</td>\n",
       "    </tr>\n",
       "    <tr>\n",
       "      <th>4</th>\n",
       "      <td>RandomForest_oversampling</td>\n",
       "      <td>{'0': {'precision': 0.9486658195679797, 'recal...</td>\n",
       "      <td>122.866330</td>\n",
       "    </tr>\n",
       "    <tr>\n",
       "      <th>5</th>\n",
       "      <td>RandomForest_undersampling</td>\n",
       "      <td>{'0': {'precision': 0.9703903095558546, 'recal...</td>\n",
       "      <td>25.618703</td>\n",
       "    </tr>\n",
       "  </tbody>\n",
       "</table>\n",
       "</div>"
      ],
      "text/plain": [
       "                            model  \\\n",
       "0  Decision_tree_no_preprocessing   \n",
       "1      Decision_tree_oversampling   \n",
       "2     Decision_tree_undersampling   \n",
       "3   RandomForest_no_preprocessing   \n",
       "4       RandomForest_oversampling   \n",
       "5      RandomForest_undersampling   \n",
       "\n",
       "                                             metrics  training_time(s)  \n",
       "0  {'0': {'precision': 0.8091374893253629, 'recal...          1.054770  \n",
       "1  {'0': {'precision': 0.8088583100408514, 'recal...          3.844142  \n",
       "2  {'0': {'precision': 0.8105217201484392, 'recal...          0.777214  \n",
       "3  {'0': {'precision': 0.9438993710691824, 'recal...         35.010197  \n",
       "4  {'0': {'precision': 0.9486658195679797, 'recal...        122.866330  \n",
       "5  {'0': {'precision': 0.9703903095558546, 'recal...         25.618703  "
      ]
     },
     "execution_count": 36,
     "metadata": {},
     "output_type": "execute_result"
    }
   ],
   "source": [
    "y_pred = model.predict(X_val)\n",
    "x = classification_report(y_val, y_pred, digits=4, labels=sorted(list(set(y_enc))), output_dict=True)\n",
    "models.append({'model': 'RandomForest_undersampling', 'metrics': x, 'training_time(s)': tim[-1]})\n",
    "pd.DataFrame(models)"
   ]
  },
  {
   "cell_type": "code",
   "execution_count": 37,
   "metadata": {},
   "outputs": [
    {
     "data": {
      "text/plain": [
       "Text(0.5, 1.0, 'Training time')"
      ]
     },
     "execution_count": 37,
     "metadata": {},
     "output_type": "execute_result"
    },
    {
     "data": {
      "image/png": "[encoded data removed]",
      "text/plain": [
       "<Figure size 1000x500 with 2 Axes>"
      ]
     },
     "metadata": {},
     "output_type": "display_data"
    }
   ],
   "source": [
    "fig = plt.figure(figsize=(10,5))\n",
    "\n",
    "ax1 = fig.add_subplot(121)\n",
    "ax1.plot(estims,acc)\n",
    "ax1.set_title('Accuracy')\n",
    "\n",
    "ax2 = fig.add_subplot(122)\n",
    "ax2.plot(estims,tim)\n",
    "ax2.set_title('Training time')\n"
   ]
  },
  {
   "cell_type": "markdown",
   "metadata": {},
   "source": [
    "### Naive Bayes"
   ]
  },
  {
   "cell_type": "code",
   "execution_count": 38,
   "metadata": {},
   "outputs": [],
   "source": [
    "from sklearn.naive_bayes import GaussianNB"
   ]
  },
  {
   "cell_type": "code",
   "execution_count": 39,
   "metadata": {},
   "outputs": [
    {
     "name": "stdout",
     "output_type": "stream",
     "text": [
      "CPU times: total: 0 ns\n",
      "Wall time: 53.6 ms\n"
     ]
    }
   ],
   "source": [
    "%%time\n",
    "model_nb = GaussianNB()\n",
    "start = time.perf_counter()\n",
    "model_nb.fit(X_train, y_train)\n",
    "end = time.perf_counter()"
   ]
  },
  {
   "cell_type": "code",
   "execution_count": 40,
   "metadata": {},
   "outputs": [
    {
     "data": {
      "text/plain": [
       "array([[[ 9632,   626],\n",
       "        [ 1042,  3593]],\n",
       "\n",
       "       [[10596,  1328],\n",
       "        [ 1536,  1433]],\n",
       "\n",
       "       [[ 5994,  1610],\n",
       "        [  986,  6303]]], dtype=int64)"
      ]
     },
     "execution_count": 40,
     "metadata": {},
     "output_type": "execute_result"
    }
   ],
   "source": [
    "y_pred = model_nb.predict(X_val)\n",
    "mat = multilabel_confusion_matrix(y_val,y_pred)\n",
    "mat"
   ]
  },
  {
   "cell_type": "code",
   "execution_count": 41,
   "metadata": {},
   "outputs": [
    {
     "data": {
      "text/plain": [
       "(0.7075235150450866, 0.7606929429933525)"
      ]
     },
     "execution_count": 41,
     "metadata": {},
     "output_type": "execute_result"
    }
   ],
   "source": [
    "balanced_accuracy_score(y_val,y_pred), accuracy_score(y_val,y_pred)"
   ]
  },
  {
   "cell_type": "code",
   "execution_count": 42,
   "metadata": {},
   "outputs": [
    {
     "name": "stdout",
     "output_type": "stream",
     "text": [
      "NAIVE BAYES - No preprocessing\n"
     ]
    },
    {
     "data": {
      "text/html": [
       "<div>\n",
       "<style scoped>\n",
       "    .dataframe tbody tr th:only-of-type {\n",
       "        vertical-align: middle;\n",
       "    }\n",
       "\n",
       "    .dataframe tbody tr th {\n",
       "        vertical-align: top;\n",
       "    }\n",
       "\n",
       "    .dataframe thead th {\n",
       "        text-align: right;\n",
       "    }\n",
       "</style>\n",
       "<table border=\"1\" class=\"dataframe\">\n",
       "  <thead>\n",
       "    <tr style=\"text-align: right;\">\n",
       "      <th></th>\n",
       "      <th>model</th>\n",
       "      <th>metrics</th>\n",
       "      <th>training_time(s)</th>\n",
       "    </tr>\n",
       "  </thead>\n",
       "  <tbody>\n",
       "    <tr>\n",
       "      <th>0</th>\n",
       "      <td>Decision_tree_no_preprocessing</td>\n",
       "      <td>{'0': {'precision': 0.8091374893253629, 'recal...</td>\n",
       "      <td>1.054770</td>\n",
       "    </tr>\n",
       "    <tr>\n",
       "      <th>1</th>\n",
       "      <td>Decision_tree_oversampling</td>\n",
       "      <td>{'0': {'precision': 0.8088583100408514, 'recal...</td>\n",
       "      <td>3.844142</td>\n",
       "    </tr>\n",
       "    <tr>\n",
       "      <th>2</th>\n",
       "      <td>Decision_tree_undersampling</td>\n",
       "      <td>{'0': {'precision': 0.8105217201484392, 'recal...</td>\n",
       "      <td>0.777214</td>\n",
       "    </tr>\n",
       "    <tr>\n",
       "      <th>3</th>\n",
       "      <td>RandomForest_no_preprocessing</td>\n",
       "      <td>{'0': {'precision': 0.9438993710691824, 'recal...</td>\n",
       "      <td>35.010197</td>\n",
       "    </tr>\n",
       "    <tr>\n",
       "      <th>4</th>\n",
       "      <td>RandomForest_oversampling</td>\n",
       "      <td>{'0': {'precision': 0.9486658195679797, 'recal...</td>\n",
       "      <td>122.866330</td>\n",
       "    </tr>\n",
       "    <tr>\n",
       "      <th>5</th>\n",
       "      <td>RandomForest_undersampling</td>\n",
       "      <td>{'0': {'precision': 0.9703903095558546, 'recal...</td>\n",
       "      <td>25.618703</td>\n",
       "    </tr>\n",
       "    <tr>\n",
       "      <th>6</th>\n",
       "      <td>Naive_Bayes_no_preprocessing</td>\n",
       "      <td>{'0': {'precision': 0.8516236074899265, 'recal...</td>\n",
       "      <td>0.062947</td>\n",
       "    </tr>\n",
       "  </tbody>\n",
       "</table>\n",
       "</div>"
      ],
      "text/plain": [
       "                            model  \\\n",
       "0  Decision_tree_no_preprocessing   \n",
       "1      Decision_tree_oversampling   \n",
       "2     Decision_tree_undersampling   \n",
       "3   RandomForest_no_preprocessing   \n",
       "4       RandomForest_oversampling   \n",
       "5      RandomForest_undersampling   \n",
       "6    Naive_Bayes_no_preprocessing   \n",
       "\n",
       "                                             metrics  training_time(s)  \n",
       "0  {'0': {'precision': 0.8091374893253629, 'recal...          1.054770  \n",
       "1  {'0': {'precision': 0.8088583100408514, 'recal...          3.844142  \n",
       "2  {'0': {'precision': 0.8105217201484392, 'recal...          0.777214  \n",
       "3  {'0': {'precision': 0.9438993710691824, 'recal...         35.010197  \n",
       "4  {'0': {'precision': 0.9486658195679797, 'recal...        122.866330  \n",
       "5  {'0': {'precision': 0.9703903095558546, 'recal...         25.618703  \n",
       "6  {'0': {'precision': 0.8516236074899265, 'recal...          0.062947  "
      ]
     },
     "execution_count": 42,
     "metadata": {},
     "output_type": "execute_result"
    }
   ],
   "source": [
    "print('NAIVE BAYES - No preprocessing')\n",
    "x = classification_report(y_val, y_pred, labels = sorted(list(set(y_enc))), digits=4, output_dict=True)\n",
    "models.append({'model':'Naive_Bayes_no_preprocessing', 'metrics': x, 'training_time(s)':(end-start)})\n",
    "pd.DataFrame(models)"
   ]
  },
  {
   "cell_type": "markdown",
   "metadata": {},
   "source": [
    "Let's try oversampling "
   ]
  },
  {
   "cell_type": "code",
   "execution_count": 43,
   "metadata": {},
   "outputs": [],
   "source": [
    "X_train1, y_train1 = SMOTE().fit_resample(X_train, y_train)"
   ]
  },
  {
   "cell_type": "code",
   "execution_count": 44,
   "metadata": {},
   "outputs": [
    {
     "name": "stdout",
     "output_type": "stream",
     "text": [
      "CPU times: total: 188 ms\n",
      "Wall time: 99.4 ms\n"
     ]
    }
   ],
   "source": [
    "%%time\n",
    "model_nb = GaussianNB()\n",
    "start = time.perf_counter()\n",
    "model_nb.fit(X_train1,y_train1)\n",
    "end = time.perf_counter()"
   ]
  },
  {
   "cell_type": "code",
   "execution_count": 45,
   "metadata": {},
   "outputs": [
    {
     "data": {
      "text/plain": [
       "array([[[ 9565,   693],\n",
       "        [ 1027,  3608]],\n",
       "\n",
       "       [[10077,  1847],\n",
       "        [ 1109,  1860]],\n",
       "\n",
       "       [[ 6580,  1024],\n",
       "        [ 1428,  5861]]], dtype=int64)"
      ]
     },
     "execution_count": 45,
     "metadata": {},
     "output_type": "execute_result"
    }
   ],
   "source": [
    "y_pred = model_nb.predict(X_val)\n",
    "mat = multilabel_confusion_matrix(y_val,y_pred)\n",
    "mat"
   ]
  },
  {
   "cell_type": "code",
   "execution_count": 46,
   "metadata": {},
   "outputs": [
    {
     "data": {
      "text/plain": [
       "(0.7363289798005573, 0.7606929429933525)"
      ]
     },
     "execution_count": 46,
     "metadata": {},
     "output_type": "execute_result"
    }
   ],
   "source": [
    "balanced_accuracy_score(y_val,y_pred), accuracy_score(y_val,y_pred)"
   ]
  },
  {
   "cell_type": "code",
   "execution_count": 47,
   "metadata": {},
   "outputs": [
    {
     "data": {
      "text/html": [
       "<div>\n",
       "<style scoped>\n",
       "    .dataframe tbody tr th:only-of-type {\n",
       "        vertical-align: middle;\n",
       "    }\n",
       "\n",
       "    .dataframe tbody tr th {\n",
       "        vertical-align: top;\n",
       "    }\n",
       "\n",
       "    .dataframe thead th {\n",
       "        text-align: right;\n",
       "    }\n",
       "</style>\n",
       "<table border=\"1\" class=\"dataframe\">\n",
       "  <thead>\n",
       "    <tr style=\"text-align: right;\">\n",
       "      <th></th>\n",
       "      <th>model</th>\n",
       "      <th>metrics</th>\n",
       "      <th>training_time(s)</th>\n",
       "    </tr>\n",
       "  </thead>\n",
       "  <tbody>\n",
       "    <tr>\n",
       "      <th>0</th>\n",
       "      <td>Decision_tree_no_preprocessing</td>\n",
       "      <td>{'0': {'precision': 0.8091374893253629, 'recal...</td>\n",
       "      <td>1.054770</td>\n",
       "    </tr>\n",
       "    <tr>\n",
       "      <th>1</th>\n",
       "      <td>Decision_tree_oversampling</td>\n",
       "      <td>{'0': {'precision': 0.8088583100408514, 'recal...</td>\n",
       "      <td>3.844142</td>\n",
       "    </tr>\n",
       "    <tr>\n",
       "      <th>2</th>\n",
       "      <td>Decision_tree_undersampling</td>\n",
       "      <td>{'0': {'precision': 0.8105217201484392, 'recal...</td>\n",
       "      <td>0.777214</td>\n",
       "    </tr>\n",
       "    <tr>\n",
       "      <th>3</th>\n",
       "      <td>RandomForest_no_preprocessing</td>\n",
       "      <td>{'0': {'precision': 0.9438993710691824, 'recal...</td>\n",
       "      <td>35.010197</td>\n",
       "    </tr>\n",
       "    <tr>\n",
       "      <th>4</th>\n",
       "      <td>RandomForest_oversampling</td>\n",
       "      <td>{'0': {'precision': 0.9486658195679797, 'recal...</td>\n",
       "      <td>122.866330</td>\n",
       "    </tr>\n",
       "    <tr>\n",
       "      <th>5</th>\n",
       "      <td>RandomForest_undersampling</td>\n",
       "      <td>{'0': {'precision': 0.9703903095558546, 'recal...</td>\n",
       "      <td>25.618703</td>\n",
       "    </tr>\n",
       "    <tr>\n",
       "      <th>6</th>\n",
       "      <td>Naive_Bayes_no_preprocessing</td>\n",
       "      <td>{'0': {'precision': 0.8516236074899265, 'recal...</td>\n",
       "      <td>0.062947</td>\n",
       "    </tr>\n",
       "    <tr>\n",
       "      <th>7</th>\n",
       "      <td>Naive_Bayes_oversampling</td>\n",
       "      <td>{'0': {'precision': 0.8388746803069054, 'recal...</td>\n",
       "      <td>0.090476</td>\n",
       "    </tr>\n",
       "  </tbody>\n",
       "</table>\n",
       "</div>"
      ],
      "text/plain": [
       "                            model  \\\n",
       "0  Decision_tree_no_preprocessing   \n",
       "1      Decision_tree_oversampling   \n",
       "2     Decision_tree_undersampling   \n",
       "3   RandomForest_no_preprocessing   \n",
       "4       RandomForest_oversampling   \n",
       "5      RandomForest_undersampling   \n",
       "6    Naive_Bayes_no_preprocessing   \n",
       "7        Naive_Bayes_oversampling   \n",
       "\n",
       "                                             metrics  training_time(s)  \n",
       "0  {'0': {'precision': 0.8091374893253629, 'recal...          1.054770  \n",
       "1  {'0': {'precision': 0.8088583100408514, 'recal...          3.844142  \n",
       "2  {'0': {'precision': 0.8105217201484392, 'recal...          0.777214  \n",
       "3  {'0': {'precision': 0.9438993710691824, 'recal...         35.010197  \n",
       "4  {'0': {'precision': 0.9486658195679797, 'recal...        122.866330  \n",
       "5  {'0': {'precision': 0.9703903095558546, 'recal...         25.618703  \n",
       "6  {'0': {'precision': 0.8516236074899265, 'recal...          0.062947  \n",
       "7  {'0': {'precision': 0.8388746803069054, 'recal...          0.090476  "
      ]
     },
     "execution_count": 47,
     "metadata": {},
     "output_type": "execute_result"
    }
   ],
   "source": [
    "x = classification_report(y_val, y_pred, digits=4, labels=sorted(list(set(y_enc))), output_dict=True)\n",
    "models.append({'model': 'Naive_Bayes_oversampling', 'metrics': x, 'training_time(s)': (end-start)})\n",
    "pd.DataFrame(models)"
   ]
  },
  {
   "cell_type": "markdown",
   "metadata": {},
   "source": [
    "Let's try undersampling"
   ]
  },
  {
   "cell_type": "code",
   "execution_count": 48,
   "metadata": {},
   "outputs": [],
   "source": [
    "X_train1, y_train1 = RandomUnderSampler().fit_resample(X_train, y_train)"
   ]
  },
  {
   "cell_type": "code",
   "execution_count": 49,
   "metadata": {},
   "outputs": [
    {
     "name": "stdout",
     "output_type": "stream",
     "text": [
      "CPU times: total: 0 ns\n",
      "Wall time: 42.4 ms\n"
     ]
    }
   ],
   "source": [
    "%%time\n",
    "model_nb = GaussianNB()\n",
    "start = time.perf_counter()\n",
    "model_nb.fit(X_train1,y_train1)\n",
    "end = time.perf_counter()"
   ]
  },
  {
   "cell_type": "code",
   "execution_count": 50,
   "metadata": {},
   "outputs": [
    {
     "data": {
      "text/plain": [
       "array([[[ 9648,   610],\n",
       "        [ 1050,  3585]],\n",
       "\n",
       "       [[10459,  1465],\n",
       "        [ 1373,  1596]],\n",
       "\n",
       "       [[ 6195,  1409],\n",
       "        [ 1061,  6228]]], dtype=int64)"
      ]
     },
     "execution_count": 50,
     "metadata": {},
     "output_type": "execute_result"
    }
   ],
   "source": [
    "y_pred = model_nb.predict(X_val)\n",
    "mat = multilabel_confusion_matrix(y_val,y_pred)\n",
    "mat"
   ]
  },
  {
   "cell_type": "code",
   "execution_count": 51,
   "metadata": {},
   "outputs": [
    {
     "data": {
      "text/plain": [
       "(0.7218185699814379, 0.7660645941046129)"
      ]
     },
     "execution_count": 51,
     "metadata": {},
     "output_type": "execute_result"
    }
   ],
   "source": [
    "balanced_accuracy_score(y_val,y_pred), accuracy_score(y_val,y_pred)"
   ]
  },
  {
   "cell_type": "code",
   "execution_count": 52,
   "metadata": {},
   "outputs": [
    {
     "data": {
      "text/html": [
       "<div>\n",
       "<style scoped>\n",
       "    .dataframe tbody tr th:only-of-type {\n",
       "        vertical-align: middle;\n",
       "    }\n",
       "\n",
       "    .dataframe tbody tr th {\n",
       "        vertical-align: top;\n",
       "    }\n",
       "\n",
       "    .dataframe thead th {\n",
       "        text-align: right;\n",
       "    }\n",
       "</style>\n",
       "<table border=\"1\" class=\"dataframe\">\n",
       "  <thead>\n",
       "    <tr style=\"text-align: right;\">\n",
       "      <th></th>\n",
       "      <th>model</th>\n",
       "      <th>metrics</th>\n",
       "      <th>training_time(s)</th>\n",
       "    </tr>\n",
       "  </thead>\n",
       "  <tbody>\n",
       "    <tr>\n",
       "      <th>0</th>\n",
       "      <td>Decision_tree_no_preprocessing</td>\n",
       "      <td>{'0': {'precision': 0.8091374893253629, 'recal...</td>\n",
       "      <td>1.054770</td>\n",
       "    </tr>\n",
       "    <tr>\n",
       "      <th>1</th>\n",
       "      <td>Decision_tree_oversampling</td>\n",
       "      <td>{'0': {'precision': 0.8088583100408514, 'recal...</td>\n",
       "      <td>3.844142</td>\n",
       "    </tr>\n",
       "    <tr>\n",
       "      <th>2</th>\n",
       "      <td>Decision_tree_undersampling</td>\n",
       "      <td>{'0': {'precision': 0.8105217201484392, 'recal...</td>\n",
       "      <td>0.777214</td>\n",
       "    </tr>\n",
       "    <tr>\n",
       "      <th>3</th>\n",
       "      <td>RandomForest_no_preprocessing</td>\n",
       "      <td>{'0': {'precision': 0.9438993710691824, 'recal...</td>\n",
       "      <td>35.010197</td>\n",
       "    </tr>\n",
       "    <tr>\n",
       "      <th>4</th>\n",
       "      <td>RandomForest_oversampling</td>\n",
       "      <td>{'0': {'precision': 0.9486658195679797, 'recal...</td>\n",
       "      <td>122.866330</td>\n",
       "    </tr>\n",
       "    <tr>\n",
       "      <th>5</th>\n",
       "      <td>RandomForest_undersampling</td>\n",
       "      <td>{'0': {'precision': 0.9703903095558546, 'recal...</td>\n",
       "      <td>25.618703</td>\n",
       "    </tr>\n",
       "    <tr>\n",
       "      <th>6</th>\n",
       "      <td>Naive_Bayes_no_preprocessing</td>\n",
       "      <td>{'0': {'precision': 0.8516236074899265, 'recal...</td>\n",
       "      <td>0.062947</td>\n",
       "    </tr>\n",
       "    <tr>\n",
       "      <th>7</th>\n",
       "      <td>Naive_Bayes_oversampling</td>\n",
       "      <td>{'0': {'precision': 0.8388746803069054, 'recal...</td>\n",
       "      <td>0.090476</td>\n",
       "    </tr>\n",
       "    <tr>\n",
       "      <th>8</th>\n",
       "      <td>Naive_Bayes_undersampling</td>\n",
       "      <td>{'0': {'precision': 0.8545887961859356, 'recal...</td>\n",
       "      <td>0.048847</td>\n",
       "    </tr>\n",
       "  </tbody>\n",
       "</table>\n",
       "</div>"
      ],
      "text/plain": [
       "                            model  \\\n",
       "0  Decision_tree_no_preprocessing   \n",
       "1      Decision_tree_oversampling   \n",
       "2     Decision_tree_undersampling   \n",
       "3   RandomForest_no_preprocessing   \n",
       "4       RandomForest_oversampling   \n",
       "5      RandomForest_undersampling   \n",
       "6    Naive_Bayes_no_preprocessing   \n",
       "7        Naive_Bayes_oversampling   \n",
       "8       Naive_Bayes_undersampling   \n",
       "\n",
       "                                             metrics  training_time(s)  \n",
       "0  {'0': {'precision': 0.8091374893253629, 'recal...          1.054770  \n",
       "1  {'0': {'precision': 0.8088583100408514, 'recal...          3.844142  \n",
       "2  {'0': {'precision': 0.8105217201484392, 'recal...          0.777214  \n",
       "3  {'0': {'precision': 0.9438993710691824, 'recal...         35.010197  \n",
       "4  {'0': {'precision': 0.9486658195679797, 'recal...        122.866330  \n",
       "5  {'0': {'precision': 0.9703903095558546, 'recal...         25.618703  \n",
       "6  {'0': {'precision': 0.8516236074899265, 'recal...          0.062947  \n",
       "7  {'0': {'precision': 0.8388746803069054, 'recal...          0.090476  \n",
       "8  {'0': {'precision': 0.8545887961859356, 'recal...          0.048847  "
      ]
     },
     "execution_count": 52,
     "metadata": {},
     "output_type": "execute_result"
    }
   ],
   "source": [
    "x = classification_report(y_val, y_pred, digits=4, labels=sorted(list(set(y_enc))), output_dict=True)\n",
    "models.append({'model': 'Naive_Bayes_undersampling', 'metrics': x, 'training_time(s)': (end-start)})\n",
    "pd.DataFrame(models)"
   ]
  },
  {
   "cell_type": "markdown",
   "metadata": {},
   "source": [
    "### K Nearest Neighbors"
   ]
  },
  {
   "cell_type": "code",
   "execution_count": 53,
   "metadata": {},
   "outputs": [],
   "source": [
    "from sklearn.neighbors import KNeighborsClassifier"
   ]
  },
  {
   "cell_type": "code",
   "execution_count": 54,
   "metadata": {},
   "outputs": [
    {
     "name": "stdout",
     "output_type": "stream",
     "text": [
      "n_neighbors: 3, time_taken: 0.012215599999763072s, accuracy: 0.7351104545759752\n",
      "n_neighbors: 5, time_taken: 0.009230899999238318s, accuracy: 0.7465923588262943\n",
      "n_neighbors: 10, time_taken: 0.00713980000000447s, accuracy: 0.7522997381320083\n",
      "n_neighbors: 15, time_taken: 0.006016499999532243s, accuracy: 0.7528369032431343\n",
      "n_neighbors: 20, time_taken: 0.006942599997273646s, accuracy: 0.751023970993084\n",
      "n_neighbors: 25, time_taken: 0.012110200001188787s, accuracy: 0.750218223326395\n",
      "n_neighbors: 50, time_taken: 0.007391099999949802s, accuracy: 0.7377291344927147\n",
      "n_neighbors: 100, time_taken: 0.015967899998940993s, accuracy: 0.7227556570200765\n",
      "n_neighbors: 200, time_taken: 0.0076456999995571095s, accuracy: 0.7054992278251527\n",
      "n_neighbors: 400, time_taken: 0.006112700000812765s, accuracy: 0.683341166991204\n",
      "n_neighbors: 800, time_taken: 0.006583200000022771s, accuracy: 0.6509769690458604\n"
     ]
    }
   ],
   "source": [
    "nbors = [3,5,10,15,20,25,50,100,200,400,800]\n",
    "tim, acc = [], []\n",
    "model_knn = KNeighborsClassifier()\n",
    "\n",
    "for n in nbors:\n",
    "    model_knn = KNeighborsClassifier(n_neighbors=n)\n",
    "    start = time.perf_counter()\n",
    "    model_knn.fit(X_train,y_train)\n",
    "    end = time.perf_counter()\n",
    "    y_pred = model_knn.predict(X_val)\n",
    "    _acc = accuracy_score(y_val,y_pred)\n",
    "    tim.append(end-start)\n",
    "    print(f'n_neighbors: {n}, time_taken: {end-start}s, accuracy: {_acc}')\n",
    "    acc.append(_acc)"
   ]
  },
  {
   "cell_type": "markdown",
   "metadata": {},
   "source": [
    "Pick best model"
   ]
  },
  {
   "cell_type": "code",
   "execution_count": 55,
   "metadata": {},
   "outputs": [
    {
     "name": "stdout",
     "output_type": "stream",
     "text": [
      "n_estimators: 15, time_taken: 0.010772000001452398s, accuracy: 0.7528369032431343\n"
     ]
    },
    {
     "data": {
      "text/plain": [
       "<bound method BaseEstimator.get_params of KNeighborsClassifier(n_neighbors=15)>"
      ]
     },
     "execution_count": 55,
     "metadata": {},
     "output_type": "execute_result"
    }
   ],
   "source": [
    "model1 = KNeighborsClassifier(n_neighbors=nbors[np.argmax(acc)])\n",
    "start = time.perf_counter()\n",
    "model1.fit(X_train,y_train)\n",
    "end = time.perf_counter()\n",
    "y_pred = model1.predict(X_val)\n",
    "_acc = accuracy_score(y_val,y_pred)\n",
    "print(f'n_estimators: {nbors[np.argmax(acc)]}, time_taken: {end-start}s, accuracy: {_acc}')\n",
    "model1.get_params"
   ]
  },
  {
   "cell_type": "code",
   "execution_count": 56,
   "metadata": {},
   "outputs": [
    {
     "data": {
      "text/html": [
       "<div>\n",
       "<style scoped>\n",
       "    .dataframe tbody tr th:only-of-type {\n",
       "        vertical-align: middle;\n",
       "    }\n",
       "\n",
       "    .dataframe tbody tr th {\n",
       "        vertical-align: top;\n",
       "    }\n",
       "\n",
       "    .dataframe thead th {\n",
       "        text-align: right;\n",
       "    }\n",
       "</style>\n",
       "<table border=\"1\" class=\"dataframe\">\n",
       "  <thead>\n",
       "    <tr style=\"text-align: right;\">\n",
       "      <th></th>\n",
       "      <th>model</th>\n",
       "      <th>metrics</th>\n",
       "      <th>training_time(s)</th>\n",
       "    </tr>\n",
       "  </thead>\n",
       "  <tbody>\n",
       "    <tr>\n",
       "      <th>0</th>\n",
       "      <td>Decision_tree_no_preprocessing</td>\n",
       "      <td>{'0': {'precision': 0.8091374893253629, 'recal...</td>\n",
       "      <td>1.054770</td>\n",
       "    </tr>\n",
       "    <tr>\n",
       "      <th>1</th>\n",
       "      <td>Decision_tree_oversampling</td>\n",
       "      <td>{'0': {'precision': 0.8088583100408514, 'recal...</td>\n",
       "      <td>3.844142</td>\n",
       "    </tr>\n",
       "    <tr>\n",
       "      <th>2</th>\n",
       "      <td>Decision_tree_undersampling</td>\n",
       "      <td>{'0': {'precision': 0.8105217201484392, 'recal...</td>\n",
       "      <td>0.777214</td>\n",
       "    </tr>\n",
       "    <tr>\n",
       "      <th>3</th>\n",
       "      <td>RandomForest_no_preprocessing</td>\n",
       "      <td>{'0': {'precision': 0.9438993710691824, 'recal...</td>\n",
       "      <td>35.010197</td>\n",
       "    </tr>\n",
       "    <tr>\n",
       "      <th>4</th>\n",
       "      <td>RandomForest_oversampling</td>\n",
       "      <td>{'0': {'precision': 0.9486658195679797, 'recal...</td>\n",
       "      <td>122.866330</td>\n",
       "    </tr>\n",
       "    <tr>\n",
       "      <th>5</th>\n",
       "      <td>RandomForest_undersampling</td>\n",
       "      <td>{'0': {'precision': 0.9703903095558546, 'recal...</td>\n",
       "      <td>25.618703</td>\n",
       "    </tr>\n",
       "    <tr>\n",
       "      <th>6</th>\n",
       "      <td>Naive_Bayes_no_preprocessing</td>\n",
       "      <td>{'0': {'precision': 0.8516236074899265, 'recal...</td>\n",
       "      <td>0.062947</td>\n",
       "    </tr>\n",
       "    <tr>\n",
       "      <th>7</th>\n",
       "      <td>Naive_Bayes_oversampling</td>\n",
       "      <td>{'0': {'precision': 0.8388746803069054, 'recal...</td>\n",
       "      <td>0.090476</td>\n",
       "    </tr>\n",
       "    <tr>\n",
       "      <th>8</th>\n",
       "      <td>Naive_Bayes_undersampling</td>\n",
       "      <td>{'0': {'precision': 0.8545887961859356, 'recal...</td>\n",
       "      <td>0.048847</td>\n",
       "    </tr>\n",
       "    <tr>\n",
       "      <th>9</th>\n",
       "      <td>KNN_no_preprocessing</td>\n",
       "      <td>{'0': {'precision': 0.8917525773195877, 'recal...</td>\n",
       "      <td>0.010772</td>\n",
       "    </tr>\n",
       "  </tbody>\n",
       "</table>\n",
       "</div>"
      ],
      "text/plain": [
       "                            model  \\\n",
       "0  Decision_tree_no_preprocessing   \n",
       "1      Decision_tree_oversampling   \n",
       "2     Decision_tree_undersampling   \n",
       "3   RandomForest_no_preprocessing   \n",
       "4       RandomForest_oversampling   \n",
       "5      RandomForest_undersampling   \n",
       "6    Naive_Bayes_no_preprocessing   \n",
       "7        Naive_Bayes_oversampling   \n",
       "8       Naive_Bayes_undersampling   \n",
       "9            KNN_no_preprocessing   \n",
       "\n",
       "                                             metrics  training_time(s)  \n",
       "0  {'0': {'precision': 0.8091374893253629, 'recal...          1.054770  \n",
       "1  {'0': {'precision': 0.8088583100408514, 'recal...          3.844142  \n",
       "2  {'0': {'precision': 0.8105217201484392, 'recal...          0.777214  \n",
       "3  {'0': {'precision': 0.9438993710691824, 'recal...         35.010197  \n",
       "4  {'0': {'precision': 0.9486658195679797, 'recal...        122.866330  \n",
       "5  {'0': {'precision': 0.9703903095558546, 'recal...         25.618703  \n",
       "6  {'0': {'precision': 0.8516236074899265, 'recal...          0.062947  \n",
       "7  {'0': {'precision': 0.8388746803069054, 'recal...          0.090476  \n",
       "8  {'0': {'precision': 0.8545887961859356, 'recal...          0.048847  \n",
       "9  {'0': {'precision': 0.8917525773195877, 'recal...          0.010772  "
      ]
     },
     "execution_count": 56,
     "metadata": {},
     "output_type": "execute_result"
    }
   ],
   "source": [
    "y_pred = model1.predict(X_val)\n",
    "x = classification_report(y_val, y_pred, digits=4, labels=sorted(list(set(y_enc))), output_dict=True)\n",
    "models.append({'model': 'KNN_no_preprocessing', 'metrics': x, 'training_time(s)': (end-start)})\n",
    "pd.DataFrame(models)"
   ]
  },
  {
   "cell_type": "code",
   "execution_count": 57,
   "metadata": {},
   "outputs": [
    {
     "data": {
      "text/plain": [
       "Text(0.5, 1.0, 'Training time')"
      ]
     },
     "execution_count": 57,
     "metadata": {},
     "output_type": "execute_result"
    },
    {
     "data": {
      "image/png": "[encoded data removed]",
      "text/plain": [
       "<Figure size 1000x500 with 2 Axes>"
      ]
     },
     "metadata": {},
     "output_type": "display_data"
    }
   ],
   "source": [
    "fig = plt.figure(figsize=(10,5))\n",
    "\n",
    "ax1 = fig.add_subplot(121)\n",
    "ax1.plot(nbors,acc)\n",
    "ax1.set_title('Accuracy')\n",
    "\n",
    "ax2 = fig.add_subplot(122)\n",
    "ax2.plot(nbors,tim)\n",
    "ax2.set_title('Training time')"
   ]
  },
  {
   "cell_type": "markdown",
   "metadata": {},
   "source": [
    "Let's try oversampling"
   ]
  },
  {
   "cell_type": "code",
   "execution_count": 58,
   "metadata": {},
   "outputs": [],
   "source": [
    "X_train1, y_train1 = SMOTE().fit_resample(X_train,y_train)"
   ]
  },
  {
   "cell_type": "code",
   "execution_count": 59,
   "metadata": {},
   "outputs": [
    {
     "name": "stdout",
     "output_type": "stream",
     "text": [
      "n_neighbors: 3, time_taken: 0.013270200000988552s, accuracy: 0.7006647418250185\n",
      "n_neighbors: 5, time_taken: 0.008411800001340453s, accuracy: 0.701873363325052\n",
      "n_neighbors: 10, time_taken: 0.00934160000178963s, accuracy: 0.7021419458806151\n",
      "n_neighbors: 15, time_taken: 0.00953289999961271s, accuracy: 0.7106694420197408\n",
      "n_neighbors: 20, time_taken: 0.00899339999887161s, accuracy: 0.7088565097696905\n",
      "n_neighbors: 25, time_taken: 0.0295083999990311s, accuracy: 0.7093265292419257\n",
      "n_neighbors: 50, time_taken: 0.009265600001526764s, accuracy: 0.6946887799637413\n",
      "n_neighbors: 100, time_taken: 0.008455200000753393s, accuracy: 0.6864970120190693\n",
      "n_neighbors: 200, time_taken: 0.017085499999666354s, accuracy: 0.675417981602095\n",
      "n_neighbors: 400, time_taken: 0.010068100000353297s, accuracy: 0.6611831061572551\n",
      "n_neighbors: 800, time_taken: 0.013573199998063501s, accuracy: 0.6361377828510039\n"
     ]
    }
   ],
   "source": [
    "nbors = [3,5,10,15,20,25,50,100,200,400,800]\n",
    "tim, acc = [], []\n",
    "model_knn = KNeighborsClassifier()\n",
    "\n",
    "for n in nbors:\n",
    "    model_knn = KNeighborsClassifier(n_neighbors=n)\n",
    "    start = time.perf_counter()\n",
    "    model_knn.fit(X_train1,y_train1)\n",
    "    end = time.perf_counter()\n",
    "    y_pred = model_knn.predict(X_val)\n",
    "    _acc = accuracy_score(y_val,y_pred)\n",
    "    tim.append(end-start)\n",
    "    print(f'n_neighbors: {n}, time_taken: {end-start}s, accuracy: {_acc}')\n",
    "    acc.append(_acc)"
   ]
  },
  {
   "cell_type": "markdown",
   "metadata": {},
   "source": [
    "Pick best model"
   ]
  },
  {
   "cell_type": "code",
   "execution_count": 60,
   "metadata": {},
   "outputs": [
    {
     "name": "stdout",
     "output_type": "stream",
     "text": [
      "n_estimators: 15, time_taken: 0.009545900000375696s, accuracy: 0.7106694420197408\n"
     ]
    },
    {
     "data": {
      "text/plain": [
       "<bound method BaseEstimator.get_params of KNeighborsClassifier(n_neighbors=15)>"
      ]
     },
     "execution_count": 60,
     "metadata": {},
     "output_type": "execute_result"
    }
   ],
   "source": [
    "model1 = KNeighborsClassifier(n_neighbors=nbors[np.argmax(acc)])\n",
    "start = time.perf_counter()\n",
    "model1.fit(X_train1,y_train1)\n",
    "end = time.perf_counter()\n",
    "y_pred = model1.predict(X_val)\n",
    "_acc = accuracy_score(y_val,y_pred)\n",
    "print(f'n_estimators: {nbors[np.argmax(acc)]}, time_taken: {end-start}s, accuracy: {_acc}')\n",
    "model1.get_params"
   ]
  },
  {
   "cell_type": "code",
   "execution_count": 61,
   "metadata": {},
   "outputs": [
    {
     "data": {
      "text/html": [
       "<div>\n",
       "<style scoped>\n",
       "    .dataframe tbody tr th:only-of-type {\n",
       "        vertical-align: middle;\n",
       "    }\n",
       "\n",
       "    .dataframe tbody tr th {\n",
       "        vertical-align: top;\n",
       "    }\n",
       "\n",
       "    .dataframe thead th {\n",
       "        text-align: right;\n",
       "    }\n",
       "</style>\n",
       "<table border=\"1\" class=\"dataframe\">\n",
       "  <thead>\n",
       "    <tr style=\"text-align: right;\">\n",
       "      <th></th>\n",
       "      <th>model</th>\n",
       "      <th>metrics</th>\n",
       "      <th>training_time(s)</th>\n",
       "    </tr>\n",
       "  </thead>\n",
       "  <tbody>\n",
       "    <tr>\n",
       "      <th>0</th>\n",
       "      <td>Decision_tree_no_preprocessing</td>\n",
       "      <td>{'0': {'precision': 0.8091374893253629, 'recal...</td>\n",
       "      <td>1.054770</td>\n",
       "    </tr>\n",
       "    <tr>\n",
       "      <th>1</th>\n",
       "      <td>Decision_tree_oversampling</td>\n",
       "      <td>{'0': {'precision': 0.8088583100408514, 'recal...</td>\n",
       "      <td>3.844142</td>\n",
       "    </tr>\n",
       "    <tr>\n",
       "      <th>2</th>\n",
       "      <td>Decision_tree_undersampling</td>\n",
       "      <td>{'0': {'precision': 0.8105217201484392, 'recal...</td>\n",
       "      <td>0.777214</td>\n",
       "    </tr>\n",
       "    <tr>\n",
       "      <th>3</th>\n",
       "      <td>RandomForest_no_preprocessing</td>\n",
       "      <td>{'0': {'precision': 0.9438993710691824, 'recal...</td>\n",
       "      <td>35.010197</td>\n",
       "    </tr>\n",
       "    <tr>\n",
       "      <th>4</th>\n",
       "      <td>RandomForest_oversampling</td>\n",
       "      <td>{'0': {'precision': 0.9486658195679797, 'recal...</td>\n",
       "      <td>122.866330</td>\n",
       "    </tr>\n",
       "    <tr>\n",
       "      <th>5</th>\n",
       "      <td>RandomForest_undersampling</td>\n",
       "      <td>{'0': {'precision': 0.9703903095558546, 'recal...</td>\n",
       "      <td>25.618703</td>\n",
       "    </tr>\n",
       "    <tr>\n",
       "      <th>6</th>\n",
       "      <td>Naive_Bayes_no_preprocessing</td>\n",
       "      <td>{'0': {'precision': 0.8516236074899265, 'recal...</td>\n",
       "      <td>0.062947</td>\n",
       "    </tr>\n",
       "    <tr>\n",
       "      <th>7</th>\n",
       "      <td>Naive_Bayes_oversampling</td>\n",
       "      <td>{'0': {'precision': 0.8388746803069054, 'recal...</td>\n",
       "      <td>0.090476</td>\n",
       "    </tr>\n",
       "    <tr>\n",
       "      <th>8</th>\n",
       "      <td>Naive_Bayes_undersampling</td>\n",
       "      <td>{'0': {'precision': 0.8545887961859356, 'recal...</td>\n",
       "      <td>0.048847</td>\n",
       "    </tr>\n",
       "    <tr>\n",
       "      <th>9</th>\n",
       "      <td>KNN_no_preprocessing</td>\n",
       "      <td>{'0': {'precision': 0.8917525773195877, 'recal...</td>\n",
       "      <td>0.010772</td>\n",
       "    </tr>\n",
       "    <tr>\n",
       "      <th>10</th>\n",
       "      <td>KNN_oversampling</td>\n",
       "      <td>{'0': {'precision': 0.885620016497113, 'recall...</td>\n",
       "      <td>0.009546</td>\n",
       "    </tr>\n",
       "  </tbody>\n",
       "</table>\n",
       "</div>"
      ],
      "text/plain": [
       "                             model  \\\n",
       "0   Decision_tree_no_preprocessing   \n",
       "1       Decision_tree_oversampling   \n",
       "2      Decision_tree_undersampling   \n",
       "3    RandomForest_no_preprocessing   \n",
       "4        RandomForest_oversampling   \n",
       "5       RandomForest_undersampling   \n",
       "6     Naive_Bayes_no_preprocessing   \n",
       "7         Naive_Bayes_oversampling   \n",
       "8        Naive_Bayes_undersampling   \n",
       "9             KNN_no_preprocessing   \n",
       "10                KNN_oversampling   \n",
       "\n",
       "                                              metrics  training_time(s)  \n",
       "0   {'0': {'precision': 0.8091374893253629, 'recal...          1.054770  \n",
       "1   {'0': {'precision': 0.8088583100408514, 'recal...          3.844142  \n",
       "2   {'0': {'precision': 0.8105217201484392, 'recal...          0.777214  \n",
       "3   {'0': {'precision': 0.9438993710691824, 'recal...         35.010197  \n",
       "4   {'0': {'precision': 0.9486658195679797, 'recal...        122.866330  \n",
       "5   {'0': {'precision': 0.9703903095558546, 'recal...         25.618703  \n",
       "6   {'0': {'precision': 0.8516236074899265, 'recal...          0.062947  \n",
       "7   {'0': {'precision': 0.8388746803069054, 'recal...          0.090476  \n",
       "8   {'0': {'precision': 0.8545887961859356, 'recal...          0.048847  \n",
       "9   {'0': {'precision': 0.8917525773195877, 'recal...          0.010772  \n",
       "10  {'0': {'precision': 0.885620016497113, 'recall...          0.009546  "
      ]
     },
     "execution_count": 61,
     "metadata": {},
     "output_type": "execute_result"
    }
   ],
   "source": [
    "y_pred = model1.predict(X_val)\n",
    "x = classification_report(y_val, y_pred, digits=4, labels=sorted(list(set(y_enc))), output_dict=True)\n",
    "models.append({'model': 'KNN_oversampling', 'metrics': x, 'training_time(s)': (end-start)})\n",
    "pd.DataFrame(models)"
   ]
  },
  {
   "cell_type": "code",
   "execution_count": 62,
   "metadata": {},
   "outputs": [
    {
     "data": {
      "text/plain": [
       "Text(0.5, 1.0, 'Training time')"
      ]
     },
     "execution_count": 62,
     "metadata": {},
     "output_type": "execute_result"
    },
    {
     "data": {
      "image/png": "[encoded data removed]",
      "text/plain": [
       "<Figure size 1000x500 with 2 Axes>"
      ]
     },
     "metadata": {},
     "output_type": "display_data"
    }
   ],
   "source": [
    "fig = plt.figure(figsize=(10,5))\n",
    "\n",
    "ax1 = fig.add_subplot(121)\n",
    "ax1.plot(nbors,acc)\n",
    "ax1.set_title('Accuracy')\n",
    "\n",
    "ax2 = fig.add_subplot(122)\n",
    "ax2.plot(nbors,tim)\n",
    "ax2.set_title('Training time')"
   ]
  },
  {
   "cell_type": "markdown",
   "metadata": {},
   "source": [
    "Let's try undersampling"
   ]
  },
  {
   "cell_type": "code",
   "execution_count": 63,
   "metadata": {},
   "outputs": [],
   "source": [
    "X_train1, y_train1 = RandomUnderSampler().fit_resample(X_train,y_train)"
   ]
  },
  {
   "cell_type": "code",
   "execution_count": 64,
   "metadata": {},
   "outputs": [
    {
     "name": "stdout",
     "output_type": "stream",
     "text": [
      "n_neighbors: 3, time_taken: 0.0035022000010940246s, accuracy: 0.6941516148526153\n",
      "n_neighbors: 5, time_taken: 0.004147999999986496s, accuracy: 0.6979789162693883\n",
      "n_neighbors: 10, time_taken: 0.0034904999993159436s, accuracy: 0.7061035385751695\n",
      "n_neighbors: 15, time_taken: 0.004260300000169082s, accuracy: 0.7046934801584637\n",
      "n_neighbors: 20, time_taken: 0.0031156000004557427s, accuracy: 0.7002618679916739\n",
      "n_neighbors: 25, time_taken: 0.05718730000080541s, accuracy: 0.6961659840193379\n",
      "n_neighbors: 50, time_taken: 0.007226699999591801s, accuracy: 0.6853555361579265\n",
      "n_neighbors: 100, time_taken: 0.004361200000857934s, accuracy: 0.6717921171019943\n",
      "n_neighbors: 200, time_taken: 0.003848299998935545s, accuracy: 0.6546699791848519\n",
      "n_neighbors: 400, time_taken: 0.0027674000011757016s, accuracy: 0.6283488887396763\n",
      "n_neighbors: 800, time_taken: 0.004218100002617575s, accuracy: 0.5983347881555093\n"
     ]
    }
   ],
   "source": [
    "nbors = [3,5,10,15,20,25,50,100,200,400,800]\n",
    "tim, acc = [], []\n",
    "model_knn = KNeighborsClassifier()\n",
    "\n",
    "for n in nbors:\n",
    "    model_knn = KNeighborsClassifier(n_neighbors=n)\n",
    "    start = time.perf_counter()\n",
    "    model_knn.fit(X_train1,y_train1)\n",
    "    end = time.perf_counter()\n",
    "    y_pred = model_knn.predict(X_val)\n",
    "    _acc = accuracy_score(y_val,y_pred)\n",
    "    tim.append(end-start)\n",
    "    print(f'n_neighbors: {n}, time_taken: {end-start}s, accuracy: {_acc}')\n",
    "    acc.append(_acc)"
   ]
  },
  {
   "cell_type": "markdown",
   "metadata": {},
   "source": [
    "Pick best model"
   ]
  },
  {
   "cell_type": "code",
   "execution_count": 65,
   "metadata": {},
   "outputs": [
    {
     "name": "stdout",
     "output_type": "stream",
     "text": [
      "n_estimators: 10, time_taken: 0.008452199999737786s, accuracy: 0.7061035385751695\n"
     ]
    },
    {
     "data": {
      "text/plain": [
       "<bound method BaseEstimator.get_params of KNeighborsClassifier(n_neighbors=10)>"
      ]
     },
     "execution_count": 65,
     "metadata": {},
     "output_type": "execute_result"
    }
   ],
   "source": [
    "model1 = KNeighborsClassifier(n_neighbors=nbors[np.argmax(acc)])\n",
    "start = time.perf_counter()\n",
    "model1.fit(X_train1,y_train1)\n",
    "end = time.perf_counter()\n",
    "y_pred = model1.predict(X_val)\n",
    "_acc = accuracy_score(y_val,y_pred)\n",
    "print(f'n_estimators: {nbors[np.argmax(acc)]}, time_taken: {end-start}s, accuracy: {_acc}')\n",
    "model1.get_params"
   ]
  },
  {
   "cell_type": "code",
   "execution_count": 66,
   "metadata": {},
   "outputs": [
    {
     "data": {
      "text/html": [
       "<div>\n",
       "<style scoped>\n",
       "    .dataframe tbody tr th:only-of-type {\n",
       "        vertical-align: middle;\n",
       "    }\n",
       "\n",
       "    .dataframe tbody tr th {\n",
       "        vertical-align: top;\n",
       "    }\n",
       "\n",
       "    .dataframe thead th {\n",
       "        text-align: right;\n",
       "    }\n",
       "</style>\n",
       "<table border=\"1\" class=\"dataframe\">\n",
       "  <thead>\n",
       "    <tr style=\"text-align: right;\">\n",
       "      <th></th>\n",
       "      <th>model</th>\n",
       "      <th>metrics</th>\n",
       "      <th>training_time(s)</th>\n",
       "    </tr>\n",
       "  </thead>\n",
       "  <tbody>\n",
       "    <tr>\n",
       "      <th>0</th>\n",
       "      <td>Decision_tree_no_preprocessing</td>\n",
       "      <td>{'0': {'precision': 0.8091374893253629, 'recal...</td>\n",
       "      <td>1.054770</td>\n",
       "    </tr>\n",
       "    <tr>\n",
       "      <th>1</th>\n",
       "      <td>Decision_tree_oversampling</td>\n",
       "      <td>{'0': {'precision': 0.8088583100408514, 'recal...</td>\n",
       "      <td>3.844142</td>\n",
       "    </tr>\n",
       "    <tr>\n",
       "      <th>2</th>\n",
       "      <td>Decision_tree_undersampling</td>\n",
       "      <td>{'0': {'precision': 0.8105217201484392, 'recal...</td>\n",
       "      <td>0.777214</td>\n",
       "    </tr>\n",
       "    <tr>\n",
       "      <th>3</th>\n",
       "      <td>RandomForest_no_preprocessing</td>\n",
       "      <td>{'0': {'precision': 0.9438993710691824, 'recal...</td>\n",
       "      <td>35.010197</td>\n",
       "    </tr>\n",
       "    <tr>\n",
       "      <th>4</th>\n",
       "      <td>RandomForest_oversampling</td>\n",
       "      <td>{'0': {'precision': 0.9486658195679797, 'recal...</td>\n",
       "      <td>122.866330</td>\n",
       "    </tr>\n",
       "    <tr>\n",
       "      <th>5</th>\n",
       "      <td>RandomForest_undersampling</td>\n",
       "      <td>{'0': {'precision': 0.9703903095558546, 'recal...</td>\n",
       "      <td>25.618703</td>\n",
       "    </tr>\n",
       "    <tr>\n",
       "      <th>6</th>\n",
       "      <td>Naive_Bayes_no_preprocessing</td>\n",
       "      <td>{'0': {'precision': 0.8516236074899265, 'recal...</td>\n",
       "      <td>0.062947</td>\n",
       "    </tr>\n",
       "    <tr>\n",
       "      <th>7</th>\n",
       "      <td>Naive_Bayes_oversampling</td>\n",
       "      <td>{'0': {'precision': 0.8388746803069054, 'recal...</td>\n",
       "      <td>0.090476</td>\n",
       "    </tr>\n",
       "    <tr>\n",
       "      <th>8</th>\n",
       "      <td>Naive_Bayes_undersampling</td>\n",
       "      <td>{'0': {'precision': 0.8545887961859356, 'recal...</td>\n",
       "      <td>0.048847</td>\n",
       "    </tr>\n",
       "    <tr>\n",
       "      <th>9</th>\n",
       "      <td>KNN_no_preprocessing</td>\n",
       "      <td>{'0': {'precision': 0.8917525773195877, 'recal...</td>\n",
       "      <td>0.010772</td>\n",
       "    </tr>\n",
       "    <tr>\n",
       "      <th>10</th>\n",
       "      <td>KNN_oversampling</td>\n",
       "      <td>{'0': {'precision': 0.885620016497113, 'recall...</td>\n",
       "      <td>0.009546</td>\n",
       "    </tr>\n",
       "    <tr>\n",
       "      <th>11</th>\n",
       "      <td>KNN_undersampling</td>\n",
       "      <td>{'0': {'precision': 0.9007914075749011, 'recal...</td>\n",
       "      <td>0.008452</td>\n",
       "    </tr>\n",
       "  </tbody>\n",
       "</table>\n",
       "</div>"
      ],
      "text/plain": [
       "                             model  \\\n",
       "0   Decision_tree_no_preprocessing   \n",
       "1       Decision_tree_oversampling   \n",
       "2      Decision_tree_undersampling   \n",
       "3    RandomForest_no_preprocessing   \n",
       "4        RandomForest_oversampling   \n",
       "5       RandomForest_undersampling   \n",
       "6     Naive_Bayes_no_preprocessing   \n",
       "7         Naive_Bayes_oversampling   \n",
       "8        Naive_Bayes_undersampling   \n",
       "9             KNN_no_preprocessing   \n",
       "10                KNN_oversampling   \n",
       "11               KNN_undersampling   \n",
       "\n",
       "                                              metrics  training_time(s)  \n",
       "0   {'0': {'precision': 0.8091374893253629, 'recal...          1.054770  \n",
       "1   {'0': {'precision': 0.8088583100408514, 'recal...          3.844142  \n",
       "2   {'0': {'precision': 0.8105217201484392, 'recal...          0.777214  \n",
       "3   {'0': {'precision': 0.9438993710691824, 'recal...         35.010197  \n",
       "4   {'0': {'precision': 0.9486658195679797, 'recal...        122.866330  \n",
       "5   {'0': {'precision': 0.9703903095558546, 'recal...         25.618703  \n",
       "6   {'0': {'precision': 0.8516236074899265, 'recal...          0.062947  \n",
       "7   {'0': {'precision': 0.8388746803069054, 'recal...          0.090476  \n",
       "8   {'0': {'precision': 0.8545887961859356, 'recal...          0.048847  \n",
       "9   {'0': {'precision': 0.8917525773195877, 'recal...          0.010772  \n",
       "10  {'0': {'precision': 0.885620016497113, 'recall...          0.009546  \n",
       "11  {'0': {'precision': 0.9007914075749011, 'recal...          0.008452  "
      ]
     },
     "execution_count": 66,
     "metadata": {},
     "output_type": "execute_result"
    }
   ],
   "source": [
    "y_pred = model1.predict(X_val)\n",
    "x = classification_report(y_val, y_pred, digits=4, labels=sorted(list(set(y_enc))), output_dict=True)\n",
    "models.append({'model': 'KNN_undersampling', 'metrics': x, 'training_time(s)': (end-start)})\n",
    "pd.DataFrame(models)"
   ]
  },
  {
   "cell_type": "code",
   "execution_count": 67,
   "metadata": {},
   "outputs": [
    {
     "data": {
      "text/plain": [
       "Text(0.5, 1.0, 'Training time')"
      ]
     },
     "execution_count": 67,
     "metadata": {},
     "output_type": "execute_result"
    },
    {
     "data": {
      "image/png": "[encoded data removed]",
      "text/plain": [
       "<Figure size 1000x500 with 2 Axes>"
      ]
     },
     "metadata": {},
     "output_type": "display_data"
    }
   ],
   "source": [
    "fig = plt.figure(figsize=(10,5))\n",
    "\n",
    "ax1 = fig.add_subplot(121)\n",
    "ax1.plot(nbors,acc)\n",
    "ax1.set_title('Accuracy')\n",
    "\n",
    "ax2 = fig.add_subplot(122)\n",
    "ax2.plot(nbors,tim)\n",
    "ax2.set_title('Training time')"
   ]
  },
  {
   "cell_type": "markdown",
   "metadata": {},
   "source": [
    "### LightGBM"
   ]
  },
  {
   "cell_type": "code",
   "execution_count": 68,
   "metadata": {},
   "outputs": [],
   "source": [
    "from lightgbm import LGBMClassifier"
   ]
  },
  {
   "cell_type": "code",
   "execution_count": 69,
   "metadata": {},
   "outputs": [
    {
     "name": "stdout",
     "output_type": "stream",
     "text": [
      "[LightGBM] [Info] Auto-choosing row-wise multi-threading, the overhead of testing was 0.006622 seconds.\n",
      "You can set `force_row_wise=true` to remove the overhead.\n",
      "And if memory is not enough, you can set `force_col_wise=true`.\n",
      "[LightGBM] [Info] Total Bins 1885\n",
      "[LightGBM] [Info] Number of data points in the train set: 59569, number of used features: 51\n",
      "[LightGBM] [Info] Start training from score -1.159147\n",
      "[LightGBM] [Info] Start training from score -1.624559\n",
      "[LightGBM] [Info] Start training from score -0.714886\n",
      "CPU times: total: 8.48 s\n",
      "Wall time: 1.41 s\n"
     ]
    },
    {
     "data": {
      "text/plain": [
       "1.384688099999039"
      ]
     },
     "execution_count": 69,
     "metadata": {},
     "output_type": "execute_result"
    }
   ],
   "source": [
    "%%time\n",
    "model = LGBMClassifier()\n",
    "start = time.perf_counter()\n",
    "model.fit(X_train,y_train)\n",
    "end = time.perf_counter()\n",
    "end-start"
   ]
  },
  {
   "cell_type": "code",
   "execution_count": 70,
   "metadata": {},
   "outputs": [
    {
     "data": {
      "text/plain": [
       "array([[[ 9998,   260],\n",
       "        [  799,  3836]],\n",
       "\n",
       "       [[10928,   996],\n",
       "        [ 1023,  1946]],\n",
       "\n",
       "       [[ 6515,  1089],\n",
       "        [  523,  6766]]], dtype=int64)"
      ]
     },
     "execution_count": 70,
     "metadata": {},
     "output_type": "execute_result"
    }
   ],
   "source": [
    "y_pred = model.predict(X_val)\n",
    "mat = multilabel_confusion_matrix(y_val,y_pred)\n",
    "mat"
   ]
  },
  {
   "cell_type": "code",
   "execution_count": 71,
   "metadata": {},
   "outputs": [
    {
     "data": {
      "text/plain": [
       "(0.8037678508042226, 0.8425434768011818)"
      ]
     },
     "execution_count": 71,
     "metadata": {},
     "output_type": "execute_result"
    }
   ],
   "source": [
    "balanced_accuracy_score(y_val,y_pred), accuracy_score(y_val,y_pred)"
   ]
  },
  {
   "cell_type": "code",
   "execution_count": 72,
   "metadata": {},
   "outputs": [
    {
     "name": "stdout",
     "output_type": "stream",
     "text": [
      "[LightGBM] [Info] Auto-choosing row-wise multi-threading, the overhead of testing was 0.012581 seconds.\n",
      "You can set `force_row_wise=true` to remove the overhead.\n",
      "And if memory is not enough, you can set `force_col_wise=true`.\n",
      "[LightGBM] [Info] Total Bins 1885\n",
      "[LightGBM] [Info] Number of data points in the train set: 59569, number of used features: 51\n",
      "[LightGBM] [Info] Start training from score -1.159147\n",
      "[LightGBM] [Info] Start training from score -1.624559\n",
      "[LightGBM] [Info] Start training from score -0.714886\n",
      "n_estims: 5, time_taken: 0.514803000001848s, accuracy: 0.8121936480225609\n",
      "[LightGBM] [Info] Auto-choosing row-wise multi-threading, the overhead of testing was 0.012837 seconds.\n",
      "You can set `force_row_wise=true` to remove the overhead.\n",
      "And if memory is not enough, you can set `force_col_wise=true`.\n",
      "[LightGBM] [Info] Total Bins 1885\n",
      "[LightGBM] [Info] Number of data points in the train set: 59569, number of used features: 51\n",
      "[LightGBM] [Info] Start training from score -1.159147\n",
      "[LightGBM] [Info] Start training from score -1.624559\n",
      "[LightGBM] [Info] Start training from score -0.714886\n",
      "n_estims: 10, time_taken: 0.6404290999998921s, accuracy: 0.8294500772174848\n",
      "[LightGBM] [Info] Auto-choosing row-wise multi-threading, the overhead of testing was 0.013396 seconds.\n",
      "You can set `force_row_wise=true` to remove the overhead.\n",
      "And if memory is not enough, you can set `force_col_wise=true`.\n",
      "[LightGBM] [Info] Total Bins 1885\n",
      "[LightGBM] [Info] Number of data points in the train set: 59569, number of used features: 51\n",
      "[LightGBM] [Info] Start training from score -1.159147\n",
      "[LightGBM] [Info] Start training from score -1.624559\n",
      "[LightGBM] [Info] Start training from score -0.714886\n",
      "n_estims: 20, time_taken: 0.9833256000019901s, accuracy: 0.8353588934398711\n",
      "[LightGBM] [Info] Auto-choosing row-wise multi-threading, the overhead of testing was 0.013120 seconds.\n",
      "You can set `force_row_wise=true` to remove the overhead.\n",
      "And if memory is not enough, you can set `force_col_wise=true`.\n",
      "[LightGBM] [Info] Total Bins 1885\n",
      "[LightGBM] [Info] Number of data points in the train set: 59569, number of used features: 51\n",
      "[LightGBM] [Info] Start training from score -1.159147\n",
      "[LightGBM] [Info] Start training from score -1.624559\n",
      "[LightGBM] [Info] Start training from score -0.714886\n",
      "n_estims: 50, time_taken: 1.9753061000010348s, accuracy: 0.8406633989122406\n",
      "[LightGBM] [Info] Auto-choosing row-wise multi-threading, the overhead of testing was 0.015772 seconds.\n",
      "You can set `force_row_wise=true` to remove the overhead.\n",
      "And if memory is not enough, you can set `force_col_wise=true`.\n",
      "[LightGBM] [Info] Total Bins 1885\n",
      "[LightGBM] [Info] Number of data points in the train set: 59569, number of used features: 51\n",
      "[LightGBM] [Info] Start training from score -1.159147\n",
      "[LightGBM] [Info] Start training from score -1.624559\n",
      "[LightGBM] [Info] Start training from score -0.714886\n",
      "n_estims: 100, time_taken: 3.3952793999997084s, accuracy: 0.8425434768011818\n",
      "[LightGBM] [Info] Auto-choosing row-wise multi-threading, the overhead of testing was 0.013162 seconds.\n",
      "You can set `force_row_wise=true` to remove the overhead.\n",
      "And if memory is not enough, you can set `force_col_wise=true`.\n",
      "[LightGBM] [Info] Total Bins 1885\n",
      "[LightGBM] [Info] Number of data points in the train set: 59569, number of used features: 51\n",
      "[LightGBM] [Info] Start training from score -1.159147\n",
      "[LightGBM] [Info] Start training from score -1.624559\n",
      "[LightGBM] [Info] Start training from score -0.714886\n",
      "n_estims: 200, time_taken: 5.656570600000123s, accuracy: 0.8413348553011482\n",
      "[LightGBM] [Info] Auto-choosing row-wise multi-threading, the overhead of testing was 0.012880 seconds.\n",
      "You can set `force_row_wise=true` to remove the overhead.\n",
      "And if memory is not enough, you can set `force_col_wise=true`.\n",
      "[LightGBM] [Info] Total Bins 1885\n",
      "[LightGBM] [Info] Number of data points in the train set: 59569, number of used features: 51\n",
      "[LightGBM] [Info] Start training from score -1.159147\n",
      "[LightGBM] [Info] Start training from score -1.624559\n",
      "[LightGBM] [Info] Start training from score -0.714886\n",
      "n_estims: 300, time_taken: 7.752637199999299s, accuracy: 0.8407976901900222\n"
     ]
    }
   ],
   "source": [
    "tim, acc = [], []\n",
    "model_lg = LGBMClassifier()\n",
    "\n",
    "for n in estims:\n",
    "    model_lg = LGBMClassifier(n_estimators=n)\n",
    "    start = time.perf_counter()\n",
    "    model_lg.fit(X_train,y_train)\n",
    "    end = time.perf_counter()\n",
    "    y_pred = model_lg.predict(X_val)\n",
    "    _acc = accuracy_score(y_val,y_pred)\n",
    "    tim.append(end-start)\n",
    "    print(f'n_estims: {n}, time_taken: {end-start}s, accuracy: {_acc}')\n",
    "    acc.append(_acc)"
   ]
  },
  {
   "cell_type": "code",
   "execution_count": 73,
   "metadata": {},
   "outputs": [
    {
     "name": "stdout",
     "output_type": "stream",
     "text": [
      "[LightGBM] [Info] Auto-choosing row-wise multi-threading, the overhead of testing was 0.012518 seconds.\n",
      "You can set `force_row_wise=true` to remove the overhead.\n",
      "And if memory is not enough, you can set `force_col_wise=true`.\n",
      "[LightGBM] [Info] Total Bins 1885\n",
      "[LightGBM] [Info] Number of data points in the train set: 59569, number of used features: 51\n",
      "[LightGBM] [Info] Start training from score -1.159147\n",
      "[LightGBM] [Info] Start training from score -1.624559\n",
      "[LightGBM] [Info] Start training from score -0.714886\n"
     ]
    }
   ],
   "source": [
    "n = estims[np.argmax(acc)]\n",
    "model_lgbm = LGBMClassifier(n_estimators=n)\n",
    "model_lgbm.fit(X_train,y_train)\n",
    "y_pred = model_lgbm.predict(X_val)"
   ]
  },
  {
   "cell_type": "code",
   "execution_count": 74,
   "metadata": {},
   "outputs": [
    {
     "data": {
      "text/html": [
       "<div>\n",
       "<style scoped>\n",
       "    .dataframe tbody tr th:only-of-type {\n",
       "        vertical-align: middle;\n",
       "    }\n",
       "\n",
       "    .dataframe tbody tr th {\n",
       "        vertical-align: top;\n",
       "    }\n",
       "\n",
       "    .dataframe thead th {\n",
       "        text-align: right;\n",
       "    }\n",
       "</style>\n",
       "<table border=\"1\" class=\"dataframe\">\n",
       "  <thead>\n",
       "    <tr style=\"text-align: right;\">\n",
       "      <th></th>\n",
       "      <th>model</th>\n",
       "      <th>metrics</th>\n",
       "      <th>training_time(s)</th>\n",
       "    </tr>\n",
       "  </thead>\n",
       "  <tbody>\n",
       "    <tr>\n",
       "      <th>0</th>\n",
       "      <td>Decision_tree_no_preprocessing</td>\n",
       "      <td>{'0': {'precision': 0.8091374893253629, 'recal...</td>\n",
       "      <td>1.054770</td>\n",
       "    </tr>\n",
       "    <tr>\n",
       "      <th>1</th>\n",
       "      <td>Decision_tree_oversampling</td>\n",
       "      <td>{'0': {'precision': 0.8088583100408514, 'recal...</td>\n",
       "      <td>3.844142</td>\n",
       "    </tr>\n",
       "    <tr>\n",
       "      <th>2</th>\n",
       "      <td>Decision_tree_undersampling</td>\n",
       "      <td>{'0': {'precision': 0.8105217201484392, 'recal...</td>\n",
       "      <td>0.777214</td>\n",
       "    </tr>\n",
       "    <tr>\n",
       "      <th>3</th>\n",
       "      <td>RandomForest_no_preprocessing</td>\n",
       "      <td>{'0': {'precision': 0.9438993710691824, 'recal...</td>\n",
       "      <td>35.010197</td>\n",
       "    </tr>\n",
       "    <tr>\n",
       "      <th>4</th>\n",
       "      <td>RandomForest_oversampling</td>\n",
       "      <td>{'0': {'precision': 0.9486658195679797, 'recal...</td>\n",
       "      <td>122.866330</td>\n",
       "    </tr>\n",
       "    <tr>\n",
       "      <th>5</th>\n",
       "      <td>RandomForest_undersampling</td>\n",
       "      <td>{'0': {'precision': 0.9703903095558546, 'recal...</td>\n",
       "      <td>25.618703</td>\n",
       "    </tr>\n",
       "    <tr>\n",
       "      <th>6</th>\n",
       "      <td>Naive_Bayes_no_preprocessing</td>\n",
       "      <td>{'0': {'precision': 0.8516236074899265, 'recal...</td>\n",
       "      <td>0.062947</td>\n",
       "    </tr>\n",
       "    <tr>\n",
       "      <th>7</th>\n",
       "      <td>Naive_Bayes_oversampling</td>\n",
       "      <td>{'0': {'precision': 0.8388746803069054, 'recal...</td>\n",
       "      <td>0.090476</td>\n",
       "    </tr>\n",
       "    <tr>\n",
       "      <th>8</th>\n",
       "      <td>Naive_Bayes_undersampling</td>\n",
       "      <td>{'0': {'precision': 0.8545887961859356, 'recal...</td>\n",
       "      <td>0.048847</td>\n",
       "    </tr>\n",
       "    <tr>\n",
       "      <th>9</th>\n",
       "      <td>KNN_no_preprocessing</td>\n",
       "      <td>{'0': {'precision': 0.8917525773195877, 'recal...</td>\n",
       "      <td>0.010772</td>\n",
       "    </tr>\n",
       "    <tr>\n",
       "      <th>10</th>\n",
       "      <td>KNN_oversampling</td>\n",
       "      <td>{'0': {'precision': 0.885620016497113, 'recall...</td>\n",
       "      <td>0.009546</td>\n",
       "    </tr>\n",
       "    <tr>\n",
       "      <th>11</th>\n",
       "      <td>KNN_undersampling</td>\n",
       "      <td>{'0': {'precision': 0.9007914075749011, 'recal...</td>\n",
       "      <td>0.008452</td>\n",
       "    </tr>\n",
       "    <tr>\n",
       "      <th>12</th>\n",
       "      <td>LightGBM_no_preprocessing</td>\n",
       "      <td>{'0': {'precision': 0.9365234375, 'recall': 0....</td>\n",
       "      <td>7.752637</td>\n",
       "    </tr>\n",
       "  </tbody>\n",
       "</table>\n",
       "</div>"
      ],
      "text/plain": [
       "                             model  \\\n",
       "0   Decision_tree_no_preprocessing   \n",
       "1       Decision_tree_oversampling   \n",
       "2      Decision_tree_undersampling   \n",
       "3    RandomForest_no_preprocessing   \n",
       "4        RandomForest_oversampling   \n",
       "5       RandomForest_undersampling   \n",
       "6     Naive_Bayes_no_preprocessing   \n",
       "7         Naive_Bayes_oversampling   \n",
       "8        Naive_Bayes_undersampling   \n",
       "9             KNN_no_preprocessing   \n",
       "10                KNN_oversampling   \n",
       "11               KNN_undersampling   \n",
       "12       LightGBM_no_preprocessing   \n",
       "\n",
       "                                              metrics  training_time(s)  \n",
       "0   {'0': {'precision': 0.8091374893253629, 'recal...          1.054770  \n",
       "1   {'0': {'precision': 0.8088583100408514, 'recal...          3.844142  \n",
       "2   {'0': {'precision': 0.8105217201484392, 'recal...          0.777214  \n",
       "3   {'0': {'precision': 0.9438993710691824, 'recal...         35.010197  \n",
       "4   {'0': {'precision': 0.9486658195679797, 'recal...        122.866330  \n",
       "5   {'0': {'precision': 0.9703903095558546, 'recal...         25.618703  \n",
       "6   {'0': {'precision': 0.8516236074899265, 'recal...          0.062947  \n",
       "7   {'0': {'precision': 0.8388746803069054, 'recal...          0.090476  \n",
       "8   {'0': {'precision': 0.8545887961859356, 'recal...          0.048847  \n",
       "9   {'0': {'precision': 0.8917525773195877, 'recal...          0.010772  \n",
       "10  {'0': {'precision': 0.885620016497113, 'recall...          0.009546  \n",
       "11  {'0': {'precision': 0.9007914075749011, 'recal...          0.008452  \n",
       "12  {'0': {'precision': 0.9365234375, 'recall': 0....          7.752637  "
      ]
     },
     "execution_count": 74,
     "metadata": {},
     "output_type": "execute_result"
    }
   ],
   "source": [
    "x = classification_report(y_val, y_pred, digits=4, labels=sorted(list(set(y_enc))), output_dict=True)\n",
    "models.append({'model': 'LightGBM_no_preprocessing', 'metrics': x, 'training_time(s)': (end-start)})\n",
    "pd.DataFrame(models)"
   ]
  },
  {
   "cell_type": "markdown",
   "metadata": {},
   "source": [
    "Try SMOTE"
   ]
  },
  {
   "cell_type": "code",
   "execution_count": 75,
   "metadata": {},
   "outputs": [],
   "source": [
    "X_train1,y_train1 = SMOTE().fit_resample(X_train,y_train)"
   ]
  },
  {
   "cell_type": "code",
   "execution_count": 76,
   "metadata": {},
   "outputs": [
    {
     "name": "stdout",
     "output_type": "stream",
     "text": [
      "[LightGBM] [Info] Auto-choosing row-wise multi-threading, the overhead of testing was 0.019558 seconds.\n",
      "You can set `force_row_wise=true` to remove the overhead.\n",
      "And if memory is not enough, you can set `force_col_wise=true`.\n",
      "[LightGBM] [Info] Total Bins 11920\n",
      "[LightGBM] [Info] Number of data points in the train set: 87432, number of used features: 51\n",
      "[LightGBM] [Info] Start training from score -1.098612\n",
      "[LightGBM] [Info] Start training from score -1.098612\n",
      "[LightGBM] [Info] Start training from score -1.098612\n",
      "CPU times: total: 1min 5s\n",
      "Wall time: 8.07 s\n"
     ]
    },
    {
     "data": {
      "text/plain": [
       "8.073831400000927"
      ]
     },
     "execution_count": 76,
     "metadata": {},
     "output_type": "execute_result"
    }
   ],
   "source": [
    "%%time\n",
    "model = LGBMClassifier()\n",
    "start = time.perf_counter()\n",
    "model.fit(X_train1,y_train1)\n",
    "end = time.perf_counter()\n",
    "end-start"
   ]
  },
  {
   "cell_type": "code",
   "execution_count": 77,
   "metadata": {},
   "outputs": [
    {
     "data": {
      "text/plain": [
       "array([[[10002,   256],\n",
       "        [  812,  3823]],\n",
       "\n",
       "       [[10891,  1033],\n",
       "        [  996,  1973]],\n",
       "\n",
       "       [[ 6539,  1065],\n",
       "        [  546,  6743]]], dtype=int64)"
      ]
     },
     "execution_count": 77,
     "metadata": {},
     "output_type": "execute_result"
    }
   ],
   "source": [
    "y_pred = model.predict(X_val)\n",
    "mat = multilabel_confusion_matrix(y_val,y_pred)\n",
    "mat"
   ]
  },
  {
   "cell_type": "code",
   "execution_count": 78,
   "metadata": {},
   "outputs": [
    {
     "data": {
      "text/plain": [
       "(0.804812445749652, 0.8419391660511649)"
      ]
     },
     "execution_count": 78,
     "metadata": {},
     "output_type": "execute_result"
    }
   ],
   "source": [
    "balanced_accuracy_score(y_val,y_pred), accuracy_score(y_val,y_pred)"
   ]
  },
  {
   "cell_type": "code",
   "execution_count": 79,
   "metadata": {},
   "outputs": [
    {
     "name": "stdout",
     "output_type": "stream",
     "text": [
      "[LightGBM] [Info] Auto-choosing row-wise multi-threading, the overhead of testing was 0.023273 seconds.\n",
      "You can set `force_row_wise=true` to remove the overhead.\n",
      "And if memory is not enough, you can set `force_col_wise=true`.\n",
      "[LightGBM] [Info] Total Bins 11920\n",
      "[LightGBM] [Info] Number of data points in the train set: 87432, number of used features: 51\n",
      "[LightGBM] [Info] Start training from score -1.098612\n",
      "[LightGBM] [Info] Start training from score -1.098612\n",
      "[LightGBM] [Info] Start training from score -1.098612\n",
      "n_estims: 5, time_taken: 0.8943204999995942s, accuracy: 0.8236084066339892\n",
      "[LightGBM] [Info] Auto-choosing col-wise multi-threading, the overhead of testing was 0.060820 seconds.\n",
      "You can set `force_col_wise=true` to remove the overhead.\n",
      "[LightGBM] [Info] Total Bins 11920\n",
      "[LightGBM] [Info] Number of data points in the train set: 87432, number of used features: 51\n",
      "[LightGBM] [Info] Start training from score -1.098612\n",
      "[LightGBM] [Info] Start training from score -1.098612\n",
      "[LightGBM] [Info] Start training from score -1.098612\n",
      "n_estims: 10, time_taken: 1.1908172000003105s, accuracy: 0.8246155912173504\n",
      "[LightGBM] [Info] Auto-choosing col-wise multi-threading, the overhead of testing was 0.036968 seconds.\n",
      "You can set `force_col_wise=true` to remove the overhead.\n",
      "[LightGBM] [Info] Total Bins 11920\n",
      "[LightGBM] [Info] Number of data points in the train set: 87432, number of used features: 51\n",
      "[LightGBM] [Info] Start training from score -1.098612\n",
      "[LightGBM] [Info] Start training from score -1.098612\n",
      "[LightGBM] [Info] Start training from score -1.098612\n",
      "n_estims: 20, time_taken: 1.1086880000002566s, accuracy: 0.8303229705230645\n",
      "[LightGBM] [Info] Auto-choosing row-wise multi-threading, the overhead of testing was 0.028492 seconds.\n",
      "You can set `force_row_wise=true` to remove the overhead.\n",
      "And if memory is not enough, you can set `force_col_wise=true`.\n",
      "[LightGBM] [Info] Total Bins 11920\n",
      "[LightGBM] [Info] Number of data points in the train set: 87432, number of used features: 51\n",
      "[LightGBM] [Info] Start training from score -1.098612\n",
      "[LightGBM] [Info] Start training from score -1.098612\n",
      "[LightGBM] [Info] Start training from score -1.098612\n",
      "n_estims: 50, time_taken: 4.618282999999792s, accuracy: 0.8371046800510307\n",
      "[LightGBM] [Info] Auto-choosing col-wise multi-threading, the overhead of testing was 0.057450 seconds.\n",
      "You can set `force_col_wise=true` to remove the overhead.\n",
      "[LightGBM] [Info] Total Bins 11920\n",
      "[LightGBM] [Info] Number of data points in the train set: 87432, number of used features: 51\n",
      "[LightGBM] [Info] Start training from score -1.098612\n",
      "[LightGBM] [Info] Start training from score -1.098612\n",
      "[LightGBM] [Info] Start training from score -1.098612\n",
      "n_estims: 100, time_taken: 7.31149490000098s, accuracy: 0.8419391660511649\n",
      "[LightGBM] [Info] Auto-choosing col-wise multi-threading, the overhead of testing was 0.064329 seconds.\n",
      "You can set `force_col_wise=true` to remove the overhead.\n",
      "[LightGBM] [Info] Total Bins 11920\n",
      "[LightGBM] [Info] Number of data points in the train set: 87432, number of used features: 51\n",
      "[LightGBM] [Info] Start training from score -1.098612\n",
      "[LightGBM] [Info] Start training from score -1.098612\n",
      "[LightGBM] [Info] Start training from score -1.098612\n",
      "n_estims: 200, time_taken: 12.130527400000574s, accuracy: 0.8424091855234003\n",
      "[LightGBM] [Info] Auto-choosing row-wise multi-threading, the overhead of testing was 0.024363 seconds.\n",
      "You can set `force_row_wise=true` to remove the overhead.\n",
      "And if memory is not enough, you can set `force_col_wise=true`.\n",
      "[LightGBM] [Info] Total Bins 11920\n",
      "[LightGBM] [Info] Number of data points in the train set: 87432, number of used features: 51\n",
      "[LightGBM] [Info] Start training from score -1.098612\n",
      "[LightGBM] [Info] Start training from score -1.098612\n",
      "[LightGBM] [Info] Start training from score -1.098612\n",
      "n_estims: 300, time_taken: 1253.982439200001s, accuracy: 0.842207748606728\n"
     ]
    }
   ],
   "source": [
    "tim, acc = [], []\n",
    "model_lg = LGBMClassifier()\n",
    "\n",
    "for n in estims:\n",
    "    model_lg = LGBMClassifier(n_estimators=n)\n",
    "    start = time.perf_counter()\n",
    "    model_lg.fit(X_train1,y_train1)\n",
    "    end = time.perf_counter()\n",
    "    y_pred = model_lg.predict(X_val)\n",
    "    _acc = accuracy_score(y_val,y_pred)\n",
    "    tim.append(end-start)\n",
    "    print(f'n_estims: {n}, time_taken: {end-start}s, accuracy: {_acc}')\n",
    "    acc.append(_acc)"
   ]
  },
  {
   "cell_type": "code",
   "execution_count": 80,
   "metadata": {},
   "outputs": [
    {
     "name": "stdout",
     "output_type": "stream",
     "text": [
      "[LightGBM] [Info] Auto-choosing col-wise multi-threading, the overhead of testing was 0.037789 seconds.\n",
      "You can set `force_col_wise=true` to remove the overhead.\n",
      "[LightGBM] [Info] Total Bins 11920\n",
      "[LightGBM] [Info] Number of data points in the train set: 87432, number of used features: 51\n",
      "[LightGBM] [Info] Start training from score -1.098612\n",
      "[LightGBM] [Info] Start training from score -1.098612\n",
      "[LightGBM] [Info] Start training from score -1.098612\n"
     ]
    }
   ],
   "source": [
    "n = estims[np.argmax(acc)]\n",
    "model_lgbm = LGBMClassifier(n_estimators=n)\n",
    "model_lgbm.fit(X_train1,y_train1)\n",
    "y_pred = model_lgbm.predict(X_val)"
   ]
  },
  {
   "cell_type": "code",
   "execution_count": 81,
   "metadata": {},
   "outputs": [
    {
     "data": {
      "text/html": [
       "<div>\n",
       "<style scoped>\n",
       "    .dataframe tbody tr th:only-of-type {\n",
       "        vertical-align: middle;\n",
       "    }\n",
       "\n",
       "    .dataframe tbody tr th {\n",
       "        vertical-align: top;\n",
       "    }\n",
       "\n",
       "    .dataframe thead th {\n",
       "        text-align: right;\n",
       "    }\n",
       "</style>\n",
       "<table border=\"1\" class=\"dataframe\">\n",
       "  <thead>\n",
       "    <tr style=\"text-align: right;\">\n",
       "      <th></th>\n",
       "      <th>model</th>\n",
       "      <th>metrics</th>\n",
       "      <th>training_time(s)</th>\n",
       "    </tr>\n",
       "  </thead>\n",
       "  <tbody>\n",
       "    <tr>\n",
       "      <th>0</th>\n",
       "      <td>Decision_tree_no_preprocessing</td>\n",
       "      <td>{'0': {'precision': 0.8091374893253629, 'recal...</td>\n",
       "      <td>1.054770</td>\n",
       "    </tr>\n",
       "    <tr>\n",
       "      <th>1</th>\n",
       "      <td>Decision_tree_oversampling</td>\n",
       "      <td>{'0': {'precision': 0.8088583100408514, 'recal...</td>\n",
       "      <td>3.844142</td>\n",
       "    </tr>\n",
       "    <tr>\n",
       "      <th>2</th>\n",
       "      <td>Decision_tree_undersampling</td>\n",
       "      <td>{'0': {'precision': 0.8105217201484392, 'recal...</td>\n",
       "      <td>0.777214</td>\n",
       "    </tr>\n",
       "    <tr>\n",
       "      <th>3</th>\n",
       "      <td>RandomForest_no_preprocessing</td>\n",
       "      <td>{'0': {'precision': 0.9438993710691824, 'recal...</td>\n",
       "      <td>35.010197</td>\n",
       "    </tr>\n",
       "    <tr>\n",
       "      <th>4</th>\n",
       "      <td>RandomForest_oversampling</td>\n",
       "      <td>{'0': {'precision': 0.9486658195679797, 'recal...</td>\n",
       "      <td>122.866330</td>\n",
       "    </tr>\n",
       "    <tr>\n",
       "      <th>5</th>\n",
       "      <td>RandomForest_undersampling</td>\n",
       "      <td>{'0': {'precision': 0.9703903095558546, 'recal...</td>\n",
       "      <td>25.618703</td>\n",
       "    </tr>\n",
       "    <tr>\n",
       "      <th>6</th>\n",
       "      <td>Naive_Bayes_no_preprocessing</td>\n",
       "      <td>{'0': {'precision': 0.8516236074899265, 'recal...</td>\n",
       "      <td>0.062947</td>\n",
       "    </tr>\n",
       "    <tr>\n",
       "      <th>7</th>\n",
       "      <td>Naive_Bayes_oversampling</td>\n",
       "      <td>{'0': {'precision': 0.8388746803069054, 'recal...</td>\n",
       "      <td>0.090476</td>\n",
       "    </tr>\n",
       "    <tr>\n",
       "      <th>8</th>\n",
       "      <td>Naive_Bayes_undersampling</td>\n",
       "      <td>{'0': {'precision': 0.8545887961859356, 'recal...</td>\n",
       "      <td>0.048847</td>\n",
       "    </tr>\n",
       "    <tr>\n",
       "      <th>9</th>\n",
       "      <td>KNN_no_preprocessing</td>\n",
       "      <td>{'0': {'precision': 0.8917525773195877, 'recal...</td>\n",
       "      <td>0.010772</td>\n",
       "    </tr>\n",
       "    <tr>\n",
       "      <th>10</th>\n",
       "      <td>KNN_oversampling</td>\n",
       "      <td>{'0': {'precision': 0.885620016497113, 'recall...</td>\n",
       "      <td>0.009546</td>\n",
       "    </tr>\n",
       "    <tr>\n",
       "      <th>11</th>\n",
       "      <td>KNN_undersampling</td>\n",
       "      <td>{'0': {'precision': 0.9007914075749011, 'recal...</td>\n",
       "      <td>0.008452</td>\n",
       "    </tr>\n",
       "    <tr>\n",
       "      <th>12</th>\n",
       "      <td>LightGBM_no_preprocessing</td>\n",
       "      <td>{'0': {'precision': 0.9365234375, 'recall': 0....</td>\n",
       "      <td>7.752637</td>\n",
       "    </tr>\n",
       "    <tr>\n",
       "      <th>13</th>\n",
       "      <td>LightGBM_oversampling</td>\n",
       "      <td>{'0': {'precision': 0.9311848800581536, 'recal...</td>\n",
       "      <td>1253.982439</td>\n",
       "    </tr>\n",
       "  </tbody>\n",
       "</table>\n",
       "</div>"
      ],
      "text/plain": [
       "                             model  \\\n",
       "0   Decision_tree_no_preprocessing   \n",
       "1       Decision_tree_oversampling   \n",
       "2      Decision_tree_undersampling   \n",
       "3    RandomForest_no_preprocessing   \n",
       "4        RandomForest_oversampling   \n",
       "5       RandomForest_undersampling   \n",
       "6     Naive_Bayes_no_preprocessing   \n",
       "7         Naive_Bayes_oversampling   \n",
       "8        Naive_Bayes_undersampling   \n",
       "9             KNN_no_preprocessing   \n",
       "10                KNN_oversampling   \n",
       "11               KNN_undersampling   \n",
       "12       LightGBM_no_preprocessing   \n",
       "13           LightGBM_oversampling   \n",
       "\n",
       "                                              metrics  training_time(s)  \n",
       "0   {'0': {'precision': 0.8091374893253629, 'recal...          1.054770  \n",
       "1   {'0': {'precision': 0.8088583100408514, 'recal...          3.844142  \n",
       "2   {'0': {'precision': 0.8105217201484392, 'recal...          0.777214  \n",
       "3   {'0': {'precision': 0.9438993710691824, 'recal...         35.010197  \n",
       "4   {'0': {'precision': 0.9486658195679797, 'recal...        122.866330  \n",
       "5   {'0': {'precision': 0.9703903095558546, 'recal...         25.618703  \n",
       "6   {'0': {'precision': 0.8516236074899265, 'recal...          0.062947  \n",
       "7   {'0': {'precision': 0.8388746803069054, 'recal...          0.090476  \n",
       "8   {'0': {'precision': 0.8545887961859356, 'recal...          0.048847  \n",
       "9   {'0': {'precision': 0.8917525773195877, 'recal...          0.010772  \n",
       "10  {'0': {'precision': 0.885620016497113, 'recall...          0.009546  \n",
       "11  {'0': {'precision': 0.9007914075749011, 'recal...          0.008452  \n",
       "12  {'0': {'precision': 0.9365234375, 'recall': 0....          7.752637  \n",
       "13  {'0': {'precision': 0.9311848800581536, 'recal...       1253.982439  "
      ]
     },
     "execution_count": 81,
     "metadata": {},
     "output_type": "execute_result"
    }
   ],
   "source": [
    "x = classification_report(y_val, y_pred, digits=4, labels=sorted(list(set(y_enc))), output_dict=True)\n",
    "models.append({'model': 'LightGBM_oversampling', 'metrics': x, 'training_time(s)': (end-start)})\n",
    "pd.DataFrame(models)"
   ]
  },
  {
   "cell_type": "markdown",
   "metadata": {},
   "source": [
    "Try Undersampling"
   ]
  },
  {
   "cell_type": "code",
   "execution_count": 82,
   "metadata": {},
   "outputs": [],
   "source": [
    "X_train1,y_train1 = RandomUnderSampler().fit_resample(X_train,y_train)"
   ]
  },
  {
   "cell_type": "code",
   "execution_count": 83,
   "metadata": {},
   "outputs": [
    {
     "name": "stdout",
     "output_type": "stream",
     "text": [
      "[LightGBM] [Info] Auto-choosing row-wise multi-threading, the overhead of testing was 0.005989 seconds.\n",
      "You can set `force_row_wise=true` to remove the overhead.\n",
      "And if memory is not enough, you can set `force_col_wise=true`.\n",
      "[LightGBM] [Info] Total Bins 1855\n",
      "[LightGBM] [Info] Number of data points in the train set: 35205, number of used features: 51\n",
      "[LightGBM] [Info] Start training from score -1.098612\n",
      "[LightGBM] [Info] Start training from score -1.098612\n",
      "[LightGBM] [Info] Start training from score -1.098612\n",
      "CPU times: total: 14.1 s\n",
      "Wall time: 3.86 s\n"
     ]
    },
    {
     "data": {
      "text/plain": [
       "3.859562800000276"
      ]
     },
     "execution_count": 83,
     "metadata": {},
     "output_type": "execute_result"
    }
   ],
   "source": [
    "%%time\n",
    "model = LGBMClassifier()\n",
    "start = time.perf_counter()\n",
    "model.fit(X_train1,y_train1)\n",
    "end = time.perf_counter()\n",
    "end-start"
   ]
  },
  {
   "cell_type": "code",
   "execution_count": 84,
   "metadata": {},
   "outputs": [
    {
     "data": {
      "text/plain": [
       "array([[[10109,   149],\n",
       "        [  935,  3700]],\n",
       "\n",
       "       [[10105,  1819],\n",
       "        [  579,  2390]],\n",
       "\n",
       "       [[ 6943,   661],\n",
       "        [ 1115,  6174]]], dtype=int64)"
      ]
     },
     "execution_count": 84,
     "metadata": {},
     "output_type": "execute_result"
    }
   ],
   "source": [
    "y_pred = model.predict(X_val)\n",
    "mat = multilabel_confusion_matrix(y_val,y_pred)\n",
    "mat"
   ]
  },
  {
   "cell_type": "code",
   "execution_count": 85,
   "metadata": {},
   "outputs": [
    {
     "data": {
      "text/plain": [
       "(0.8167628721422487, 0.8234741153562076)"
      ]
     },
     "execution_count": 85,
     "metadata": {},
     "output_type": "execute_result"
    }
   ],
   "source": [
    "balanced_accuracy_score(y_val,y_pred), accuracy_score(y_val,y_pred)"
   ]
  },
  {
   "cell_type": "code",
   "execution_count": 86,
   "metadata": {},
   "outputs": [
    {
     "name": "stdout",
     "output_type": "stream",
     "text": [
      "[LightGBM] [Info] Auto-choosing row-wise multi-threading, the overhead of testing was 0.008961 seconds.\n",
      "You can set `force_row_wise=true` to remove the overhead.\n",
      "And if memory is not enough, you can set `force_col_wise=true`.\n",
      "[LightGBM] [Info] Total Bins 1855\n",
      "[LightGBM] [Info] Number of data points in the train set: 35205, number of used features: 51\n",
      "[LightGBM] [Info] Start training from score -1.098612\n",
      "[LightGBM] [Info] Start training from score -1.098612\n",
      "[LightGBM] [Info] Start training from score -1.098612\n",
      "n_estims: 5, time_taken: 0.3995826999998826s, accuracy: 0.8102464244947291\n",
      "[LightGBM] [Info] Auto-choosing row-wise multi-threading, the overhead of testing was 0.007049 seconds.\n",
      "You can set `force_row_wise=true` to remove the overhead.\n",
      "And if memory is not enough, you can set `force_col_wise=true`.\n",
      "[LightGBM] [Info] Total Bins 1855\n",
      "[LightGBM] [Info] Number of data points in the train set: 35205, number of used features: 51\n",
      "[LightGBM] [Info] Start training from score -1.098612\n",
      "[LightGBM] [Info] Start training from score -1.098612\n",
      "[LightGBM] [Info] Start training from score -1.098612\n",
      "n_estims: 10, time_taken: 0.48194449999937206s, accuracy: 0.8128651044114684\n",
      "[LightGBM] [Info] Auto-choosing row-wise multi-threading, the overhead of testing was 0.006416 seconds.\n",
      "You can set `force_row_wise=true` to remove the overhead.\n",
      "And if memory is not enough, you can set `force_col_wise=true`.\n",
      "[LightGBM] [Info] Total Bins 1855\n",
      "[LightGBM] [Info] Number of data points in the train set: 35205, number of used features: 51\n",
      "[LightGBM] [Info] Start training from score -1.098612\n",
      "[LightGBM] [Info] Start training from score -1.098612\n",
      "[LightGBM] [Info] Start training from score -1.098612\n",
      "n_estims: 20, time_taken: 1.2534750000013446s, accuracy: 0.817095279661586\n",
      "[LightGBM] [Info] Auto-choosing col-wise multi-threading, the overhead of testing was 0.020791 seconds.\n",
      "You can set `force_col_wise=true` to remove the overhead.\n",
      "[LightGBM] [Info] Total Bins 1855\n",
      "[LightGBM] [Info] Number of data points in the train set: 35205, number of used features: 51\n",
      "[LightGBM] [Info] Start training from score -1.098612\n",
      "[LightGBM] [Info] Start training from score -1.098612\n",
      "[LightGBM] [Info] Start training from score -1.098612\n",
      "n_estims: 50, time_taken: 2.0194319000001997s, accuracy: 0.8222654938561741\n",
      "[LightGBM] [Info] Auto-choosing row-wise multi-threading, the overhead of testing was 0.007767 seconds.\n",
      "You can set `force_row_wise=true` to remove the overhead.\n",
      "And if memory is not enough, you can set `force_col_wise=true`.\n",
      "[LightGBM] [Info] Total Bins 1855\n",
      "[LightGBM] [Info] Number of data points in the train set: 35205, number of used features: 51\n",
      "[LightGBM] [Info] Start training from score -1.098612\n",
      "[LightGBM] [Info] Start training from score -1.098612\n",
      "[LightGBM] [Info] Start training from score -1.098612\n",
      "n_estims: 100, time_taken: 3.022313400000712s, accuracy: 0.8234741153562076\n",
      "[LightGBM] [Info] Auto-choosing row-wise multi-threading, the overhead of testing was 0.004947 seconds.\n",
      "You can set `force_row_wise=true` to remove the overhead.\n",
      "And if memory is not enough, you can set `force_col_wise=true`.\n",
      "[LightGBM] [Info] Total Bins 1855\n",
      "[LightGBM] [Info] Number of data points in the train set: 35205, number of used features: 51\n",
      "[LightGBM] [Info] Start training from score -1.098612\n",
      "[LightGBM] [Info] Start training from score -1.098612\n",
      "[LightGBM] [Info] Start training from score -1.098612\n",
      "n_estims: 200, time_taken: 4.497548399998777s, accuracy: 0.8231383871617538\n",
      "[LightGBM] [Info] Auto-choosing row-wise multi-threading, the overhead of testing was 0.005145 seconds.\n",
      "You can set `force_row_wise=true` to remove the overhead.\n",
      "And if memory is not enough, you can set `force_col_wise=true`.\n",
      "[LightGBM] [Info] Total Bins 1855\n",
      "[LightGBM] [Info] Number of data points in the train set: 35205, number of used features: 51\n",
      "[LightGBM] [Info] Start training from score -1.098612\n",
      "[LightGBM] [Info] Start training from score -1.098612\n",
      "[LightGBM] [Info] Start training from score -1.098612\n",
      "n_estims: 300, time_taken: 5.682297200000903s, accuracy: 0.8236084066339892\n"
     ]
    }
   ],
   "source": [
    "tim, acc = [], []\n",
    "model_lg = LGBMClassifier()\n",
    "\n",
    "for n in estims:\n",
    "    model_lg = LGBMClassifier(n_estimators=n)\n",
    "    start = time.perf_counter()\n",
    "    model_lg.fit(X_train1,y_train1)\n",
    "    end = time.perf_counter()\n",
    "    y_pred = model_lg.predict(X_val)\n",
    "    _acc = accuracy_score(y_val,y_pred)\n",
    "    tim.append(end-start)\n",
    "    print(f'n_estims: {n}, time_taken: {end-start}s, accuracy: {_acc}')\n",
    "    acc.append(_acc)"
   ]
  },
  {
   "cell_type": "code",
   "execution_count": 87,
   "metadata": {},
   "outputs": [
    {
     "name": "stdout",
     "output_type": "stream",
     "text": [
      "[LightGBM] [Info] Auto-choosing row-wise multi-threading, the overhead of testing was 0.003537 seconds.\n",
      "You can set `force_row_wise=true` to remove the overhead.\n",
      "And if memory is not enough, you can set `force_col_wise=true`.\n",
      "[LightGBM] [Info] Total Bins 1855\n",
      "[LightGBM] [Info] Number of data points in the train set: 35205, number of used features: 51\n",
      "[LightGBM] [Info] Start training from score -1.098612\n",
      "[LightGBM] [Info] Start training from score -1.098612\n",
      "[LightGBM] [Info] Start training from score -1.098612\n"
     ]
    }
   ],
   "source": [
    "n = estims[np.argmax(acc)]\n",
    "model_lgbm = LGBMClassifier(n_estimators=n)\n",
    "model_lgbm.fit(X_train1,y_train1)\n",
    "y_pred = model_lgbm.predict(X_val)"
   ]
  },
  {
   "cell_type": "code",
   "execution_count": 88,
   "metadata": {},
   "outputs": [
    {
     "data": {
      "text/html": [
       "<div>\n",
       "<style scoped>\n",
       "    .dataframe tbody tr th:only-of-type {\n",
       "        vertical-align: middle;\n",
       "    }\n",
       "\n",
       "    .dataframe tbody tr th {\n",
       "        vertical-align: top;\n",
       "    }\n",
       "\n",
       "    .dataframe thead th {\n",
       "        text-align: right;\n",
       "    }\n",
       "</style>\n",
       "<table border=\"1\" class=\"dataframe\">\n",
       "  <thead>\n",
       "    <tr style=\"text-align: right;\">\n",
       "      <th></th>\n",
       "      <th>model</th>\n",
       "      <th>metrics</th>\n",
       "      <th>training_time(s)</th>\n",
       "    </tr>\n",
       "  </thead>\n",
       "  <tbody>\n",
       "    <tr>\n",
       "      <th>0</th>\n",
       "      <td>Decision_tree_no_preprocessing</td>\n",
       "      <td>{'0': {'precision': 0.8091374893253629, 'recal...</td>\n",
       "      <td>1.054770</td>\n",
       "    </tr>\n",
       "    <tr>\n",
       "      <th>1</th>\n",
       "      <td>Decision_tree_oversampling</td>\n",
       "      <td>{'0': {'precision': 0.8088583100408514, 'recal...</td>\n",
       "      <td>3.844142</td>\n",
       "    </tr>\n",
       "    <tr>\n",
       "      <th>2</th>\n",
       "      <td>Decision_tree_undersampling</td>\n",
       "      <td>{'0': {'precision': 0.8105217201484392, 'recal...</td>\n",
       "      <td>0.777214</td>\n",
       "    </tr>\n",
       "    <tr>\n",
       "      <th>3</th>\n",
       "      <td>RandomForest_no_preprocessing</td>\n",
       "      <td>{'0': {'precision': 0.9438993710691824, 'recal...</td>\n",
       "      <td>35.010197</td>\n",
       "    </tr>\n",
       "    <tr>\n",
       "      <th>4</th>\n",
       "      <td>RandomForest_oversampling</td>\n",
       "      <td>{'0': {'precision': 0.9486658195679797, 'recal...</td>\n",
       "      <td>122.866330</td>\n",
       "    </tr>\n",
       "    <tr>\n",
       "      <th>5</th>\n",
       "      <td>RandomForest_undersampling</td>\n",
       "      <td>{'0': {'precision': 0.9703903095558546, 'recal...</td>\n",
       "      <td>25.618703</td>\n",
       "    </tr>\n",
       "    <tr>\n",
       "      <th>6</th>\n",
       "      <td>Naive_Bayes_no_preprocessing</td>\n",
       "      <td>{'0': {'precision': 0.8516236074899265, 'recal...</td>\n",
       "      <td>0.062947</td>\n",
       "    </tr>\n",
       "    <tr>\n",
       "      <th>7</th>\n",
       "      <td>Naive_Bayes_oversampling</td>\n",
       "      <td>{'0': {'precision': 0.8388746803069054, 'recal...</td>\n",
       "      <td>0.090476</td>\n",
       "    </tr>\n",
       "    <tr>\n",
       "      <th>8</th>\n",
       "      <td>Naive_Bayes_undersampling</td>\n",
       "      <td>{'0': {'precision': 0.8545887961859356, 'recal...</td>\n",
       "      <td>0.048847</td>\n",
       "    </tr>\n",
       "    <tr>\n",
       "      <th>9</th>\n",
       "      <td>KNN_no_preprocessing</td>\n",
       "      <td>{'0': {'precision': 0.8917525773195877, 'recal...</td>\n",
       "      <td>0.010772</td>\n",
       "    </tr>\n",
       "    <tr>\n",
       "      <th>10</th>\n",
       "      <td>KNN_oversampling</td>\n",
       "      <td>{'0': {'precision': 0.885620016497113, 'recall...</td>\n",
       "      <td>0.009546</td>\n",
       "    </tr>\n",
       "    <tr>\n",
       "      <th>11</th>\n",
       "      <td>KNN_undersampling</td>\n",
       "      <td>{'0': {'precision': 0.9007914075749011, 'recal...</td>\n",
       "      <td>0.008452</td>\n",
       "    </tr>\n",
       "    <tr>\n",
       "      <th>12</th>\n",
       "      <td>LightGBM_no_preprocessing</td>\n",
       "      <td>{'0': {'precision': 0.9365234375, 'recall': 0....</td>\n",
       "      <td>7.752637</td>\n",
       "    </tr>\n",
       "    <tr>\n",
       "      <th>13</th>\n",
       "      <td>LightGBM_oversampling</td>\n",
       "      <td>{'0': {'precision': 0.9311848800581536, 'recal...</td>\n",
       "      <td>1253.982439</td>\n",
       "    </tr>\n",
       "    <tr>\n",
       "      <th>14</th>\n",
       "      <td>LightGBM_undersampling</td>\n",
       "      <td>{'0': {'precision': 0.9530851606323304, 'recal...</td>\n",
       "      <td>5.682297</td>\n",
       "    </tr>\n",
       "  </tbody>\n",
       "</table>\n",
       "</div>"
      ],
      "text/plain": [
       "                             model  \\\n",
       "0   Decision_tree_no_preprocessing   \n",
       "1       Decision_tree_oversampling   \n",
       "2      Decision_tree_undersampling   \n",
       "3    RandomForest_no_preprocessing   \n",
       "4        RandomForest_oversampling   \n",
       "5       RandomForest_undersampling   \n",
       "6     Naive_Bayes_no_preprocessing   \n",
       "7         Naive_Bayes_oversampling   \n",
       "8        Naive_Bayes_undersampling   \n",
       "9             KNN_no_preprocessing   \n",
       "10                KNN_oversampling   \n",
       "11               KNN_undersampling   \n",
       "12       LightGBM_no_preprocessing   \n",
       "13           LightGBM_oversampling   \n",
       "14          LightGBM_undersampling   \n",
       "\n",
       "                                              metrics  training_time(s)  \n",
       "0   {'0': {'precision': 0.8091374893253629, 'recal...          1.054770  \n",
       "1   {'0': {'precision': 0.8088583100408514, 'recal...          3.844142  \n",
       "2   {'0': {'precision': 0.8105217201484392, 'recal...          0.777214  \n",
       "3   {'0': {'precision': 0.9438993710691824, 'recal...         35.010197  \n",
       "4   {'0': {'precision': 0.9486658195679797, 'recal...        122.866330  \n",
       "5   {'0': {'precision': 0.9703903095558546, 'recal...         25.618703  \n",
       "6   {'0': {'precision': 0.8516236074899265, 'recal...          0.062947  \n",
       "7   {'0': {'precision': 0.8388746803069054, 'recal...          0.090476  \n",
       "8   {'0': {'precision': 0.8545887961859356, 'recal...          0.048847  \n",
       "9   {'0': {'precision': 0.8917525773195877, 'recal...          0.010772  \n",
       "10  {'0': {'precision': 0.885620016497113, 'recall...          0.009546  \n",
       "11  {'0': {'precision': 0.9007914075749011, 'recal...          0.008452  \n",
       "12  {'0': {'precision': 0.9365234375, 'recall': 0....          7.752637  \n",
       "13  {'0': {'precision': 0.9311848800581536, 'recal...       1253.982439  \n",
       "14  {'0': {'precision': 0.9530851606323304, 'recal...          5.682297  "
      ]
     },
     "execution_count": 88,
     "metadata": {},
     "output_type": "execute_result"
    }
   ],
   "source": [
    "x = classification_report(y_val, y_pred, digits=4, labels=sorted(list(set(y_enc))), output_dict=True)\n",
    "models.append({'model': 'LightGBM_undersampling', 'metrics': x, 'training_time(s)': (end-start)})\n",
    "pd.DataFrame(models)"
   ]
  },
  {
   "cell_type": "markdown",
   "metadata": {},
   "source": [
    "### XGBoost"
   ]
  },
  {
   "cell_type": "code",
   "execution_count": 89,
   "metadata": {},
   "outputs": [],
   "source": [
    "from xgboost import XGBClassifier\n",
    "\n",
    "from xgboost import plot_importance"
   ]
  },
  {
   "cell_type": "code",
   "execution_count": 90,
   "metadata": {},
   "outputs": [
    {
     "name": "stdout",
     "output_type": "stream",
     "text": [
      "Training time: 2.5132644000004802s\n",
      "CPU times: total: 15.6 s\n",
      "Wall time: 2.52 s\n"
     ]
    }
   ],
   "source": [
    "%%time\n",
    "model_xgb = XGBClassifier(booster='gbtree')\n",
    "start = time.perf_counter()\n",
    "model_xgb.fit(X_train,y_train)\n",
    "end = time.perf_counter()\n",
    "print(f'Training time: {end-start}s')"
   ]
  },
  {
   "cell_type": "code",
   "execution_count": 91,
   "metadata": {},
   "outputs": [
    {
     "name": "stdout",
     "output_type": "stream",
     "text": [
      "              precision    recall  f1-score   support\n",
      "\n",
      "           0     0.9302    0.8306    0.8776      4635\n",
      "           1     0.6614    0.6541    0.6577      2969\n",
      "           2     0.8636    0.9263    0.8939      7289\n",
      "\n",
      "    accuracy                         0.8423     14893\n",
      "   macro avg     0.8184    0.8037    0.8097     14893\n",
      "weighted avg     0.8440    0.8423    0.8417     14893\n",
      "\n"
     ]
    }
   ],
   "source": [
    "y_pred = model_xgb.predict(X_val)\n",
    "x = classification_report(y_val, y_pred, digits=4, labels=sorted(list(set(y_enc))))\n",
    "print(x)"
   ]
  },
  {
   "cell_type": "markdown",
   "metadata": {},
   "source": [
    "Try SMOTE"
   ]
  },
  {
   "cell_type": "code",
   "execution_count": 92,
   "metadata": {},
   "outputs": [],
   "source": [
    "X_train1, y_train1 = SMOTE().fit_resample(X_train,y_train)"
   ]
  },
  {
   "cell_type": "code",
   "execution_count": 93,
   "metadata": {},
   "outputs": [
    {
     "name": "stdout",
     "output_type": "stream",
     "text": [
      "Training time: 4.774547799999709s\n",
      "CPU times: total: 34.5 s\n",
      "Wall time: 4.78 s\n"
     ]
    }
   ],
   "source": [
    "%%time\n",
    "model_xgb = XGBClassifier(booster='gbtree')\n",
    "start = time.perf_counter()\n",
    "model_xgb.fit(X_train1,y_train1)\n",
    "end = time.perf_counter()\n",
    "print(f'Training time: {end-start}s')"
   ]
  },
  {
   "cell_type": "code",
   "execution_count": 94,
   "metadata": {},
   "outputs": [
    {
     "name": "stdout",
     "output_type": "stream",
     "text": [
      "              precision    recall  f1-score   support\n",
      "\n",
      "           0     0.9276    0.8298    0.8760      4635\n",
      "           1     0.6597    0.6588    0.6593      2969\n",
      "           2     0.8657    0.9243    0.8940      7289\n",
      "\n",
      "    accuracy                         0.8419     14893\n",
      "   macro avg     0.8177    0.8043    0.8098     14893\n",
      "weighted avg     0.8439    0.8419    0.8416     14893\n",
      "\n"
     ]
    }
   ],
   "source": [
    "y_pred = model_xgb.predict(X_val)\n",
    "x = classification_report(y_val, y_pred, digits=4, labels=sorted(list(set(y_enc))))\n",
    "print(x)"
   ]
  },
  {
   "cell_type": "markdown",
   "metadata": {},
   "source": [
    "Try undersampling"
   ]
  },
  {
   "cell_type": "code",
   "execution_count": 95,
   "metadata": {},
   "outputs": [],
   "source": [
    "X_train1, y_train1 = RandomUnderSampler().fit_resample(X_train,y_train)"
   ]
  },
  {
   "cell_type": "code",
   "execution_count": 96,
   "metadata": {},
   "outputs": [
    {
     "name": "stdout",
     "output_type": "stream",
     "text": [
      "Training time: 1.9033457000005s\n",
      "CPU times: total: 13.6 s\n",
      "Wall time: 1.91 s\n"
     ]
    }
   ],
   "source": [
    "%%time\n",
    "model_xgb = XGBClassifier(booster='gbtree')\n",
    "start = time.perf_counter()\n",
    "model_xgb.fit(X_train1,y_train1)\n",
    "end = time.perf_counter()\n",
    "print(f'Training time: {end-start}s')"
   ]
  },
  {
   "cell_type": "code",
   "execution_count": 97,
   "metadata": {},
   "outputs": [
    {
     "name": "stdout",
     "output_type": "stream",
     "text": [
      "              precision    recall  f1-score   support\n",
      "\n",
      "           0     0.9492    0.8067    0.8722      4635\n",
      "           1     0.5674    0.7912    0.6609      2969\n",
      "           2     0.9012    0.8425    0.8709      7289\n",
      "\n",
      "    accuracy                         0.8211     14893\n",
      "   macro avg     0.8059    0.8135    0.8013     14893\n",
      "weighted avg     0.8496    0.8211    0.8294     14893\n",
      "\n"
     ]
    }
   ],
   "source": [
    "y_pred = model_xgb.predict(X_val)\n",
    "x = classification_report(y_val, y_pred, digits=4, labels=sorted(list(set(y_enc))))\n",
    "print(x)"
   ]
  },
  {
   "cell_type": "markdown",
   "metadata": {},
   "source": [
    "## Results"
   ]
  },
  {
   "cell_type": "code",
   "execution_count": 98,
   "metadata": {},
   "outputs": [],
   "source": [
    "df_results = pd.DataFrame(models)"
   ]
  },
  {
   "cell_type": "code",
   "execution_count": 99,
   "metadata": {},
   "outputs": [],
   "source": [
    "df_results['precision'] = df_results['metrics'].apply(lambda x: {0: round(x['0']['precision'],3), 1: round(x['1']['precision'],3), 2: round(x['2']['precision'],3)})\n",
    "df_results['recall'] = df_results['metrics'].apply(lambda x: {0: round(x['0']['recall'],3), 1: round(x['1']['recall'],3), 2: round(x['2']['recall'],3)})\n",
    "df_results['f1-score'] = df_results['metrics'].apply(lambda x: {0: round(x['0']['f1-score'],3), 1: round(x['1']['f1-score'],3), 2: round(x['2']['f1-score'],3)})\n",
    "df_results['macro_avg'] = df_results['metrics'].apply(lambda x: {k: round(x['macro avg'][k],3) for k in x['macro avg'].keys()})\n",
    "df_results['weighted_avg'] = df_results['metrics'].apply(lambda x: {k: round(x['weighted avg'][k],3) for k in x['weighted avg'].keys()})\n",
    "df_results['accuracy'] = df_results['metrics'].apply(lambda x: round(x['accuracy'],3))\n",
    "df_results['time (s)'] = df_results['training_time(s)']\n",
    "df_results.drop(columns=['metrics','training_time(s)'],inplace=True)"
   ]
  },
  {
   "cell_type": "code",
   "execution_count": 100,
   "metadata": {},
   "outputs": [
    {
     "data": {
      "text/html": [
       "<div>\n",
       "<style scoped>\n",
       "    .dataframe tbody tr th:only-of-type {\n",
       "        vertical-align: middle;\n",
       "    }\n",
       "\n",
       "    .dataframe tbody tr th {\n",
       "        vertical-align: top;\n",
       "    }\n",
       "\n",
       "    .dataframe thead th {\n",
       "        text-align: right;\n",
       "    }\n",
       "</style>\n",
       "<table border=\"1\" class=\"dataframe\">\n",
       "  <thead>\n",
       "    <tr style=\"text-align: right;\">\n",
       "      <th></th>\n",
       "      <th>model</th>\n",
       "      <th>precision</th>\n",
       "      <th>recall</th>\n",
       "      <th>f1-score</th>\n",
       "      <th>macro_avg</th>\n",
       "      <th>weighted_avg</th>\n",
       "      <th>accuracy</th>\n",
       "      <th>time (s)</th>\n",
       "    </tr>\n",
       "  </thead>\n",
       "  <tbody>\n",
       "    <tr>\n",
       "      <th>0</th>\n",
       "      <td>Decision_tree_no_preprocessing</td>\n",
       "      <td>{0: 0.809, 1: 0.513, 2: 0.836}</td>\n",
       "      <td>{0: 0.818, 1: 0.528, 2: 0.82}</td>\n",
       "      <td>{0: 0.813, 1: 0.52, 2: 0.828}</td>\n",
       "      <td>{'precision': 0.719, 'recall': 0.722, 'f1-scor...</td>\n",
       "      <td>{'precision': 0.763, 'recall': 0.761, 'f1-scor...</td>\n",
       "      <td>0.761</td>\n",
       "      <td>1.054770</td>\n",
       "    </tr>\n",
       "    <tr>\n",
       "      <th>1</th>\n",
       "      <td>Decision_tree_oversampling</td>\n",
       "      <td>{0: 0.809, 1: 0.511, 2: 0.841}</td>\n",
       "      <td>{0: 0.812, 1: 0.54, 2: 0.819}</td>\n",
       "      <td>{0: 0.81, 1: 0.525, 2: 0.83}</td>\n",
       "      <td>{'precision': 0.72, 'recall': 0.724, 'f1-score...</td>\n",
       "      <td>{'precision': 0.765, 'recall': 0.761, 'f1-scor...</td>\n",
       "      <td>0.761</td>\n",
       "      <td>3.844142</td>\n",
       "    </tr>\n",
       "    <tr>\n",
       "      <th>2</th>\n",
       "      <td>Decision_tree_undersampling</td>\n",
       "      <td>{0: 0.811, 1: 0.455, 2: 0.865}</td>\n",
       "      <td>{0: 0.801, 1: 0.649, 2: 0.722}</td>\n",
       "      <td>{0: 0.806, 1: 0.535, 2: 0.787}</td>\n",
       "      <td>{'precision': 0.71, 'recall': 0.724, 'f1-score...</td>\n",
       "      <td>{'precision': 0.766, 'recall': 0.732, 'f1-scor...</td>\n",
       "      <td>0.732</td>\n",
       "      <td>0.777214</td>\n",
       "    </tr>\n",
       "    <tr>\n",
       "      <th>3</th>\n",
       "      <td>RandomForest_no_preprocessing</td>\n",
       "      <td>{0: 0.944, 1: 0.647, 2: 0.854}</td>\n",
       "      <td>{0: 0.809, 1: 0.649, 2: 0.931}</td>\n",
       "      <td>{0: 0.872, 1: 0.648, 2: 0.891}</td>\n",
       "      <td>{'precision': 0.815, 'recall': 0.797, 'f1-scor...</td>\n",
       "      <td>{'precision': 0.841, 'recall': 0.837, 'f1-scor...</td>\n",
       "      <td>0.837</td>\n",
       "      <td>35.010197</td>\n",
       "    </tr>\n",
       "    <tr>\n",
       "      <th>4</th>\n",
       "      <td>RandomForest_oversampling</td>\n",
       "      <td>{0: 0.949, 1: 0.627, 2: 0.862}</td>\n",
       "      <td>{0: 0.805, 1: 0.681, 2: 0.914}</td>\n",
       "      <td>{0: 0.871, 1: 0.653, 2: 0.887}</td>\n",
       "      <td>{'precision': 0.812, 'recall': 0.8, 'f1-score'...</td>\n",
       "      <td>{'precision': 0.842, 'recall': 0.834, 'f1-scor...</td>\n",
       "      <td>0.834</td>\n",
       "      <td>122.866330</td>\n",
       "    </tr>\n",
       "    <tr>\n",
       "      <th>5</th>\n",
       "      <td>RandomForest_undersampling</td>\n",
       "      <td>{0: 0.97, 1: 0.553, 2: 0.899}</td>\n",
       "      <td>{0: 0.778, 1: 0.81, 2: 0.842}</td>\n",
       "      <td>{0: 0.863, 1: 0.657, 2: 0.869}</td>\n",
       "      <td>{'precision': 0.807, 'recall': 0.81, 'f1-score...</td>\n",
       "      <td>{'precision': 0.852, 'recall': 0.815, 'f1-scor...</td>\n",
       "      <td>0.815</td>\n",
       "      <td>25.618703</td>\n",
       "    </tr>\n",
       "    <tr>\n",
       "      <th>6</th>\n",
       "      <td>Naive_Bayes_no_preprocessing</td>\n",
       "      <td>{0: 0.852, 1: 0.519, 2: 0.797}</td>\n",
       "      <td>{0: 0.775, 1: 0.483, 2: 0.865}</td>\n",
       "      <td>{0: 0.812, 1: 0.5, 2: 0.829}</td>\n",
       "      <td>{'precision': 0.722, 'recall': 0.708, 'f1-scor...</td>\n",
       "      <td>{'precision': 0.758, 'recall': 0.761, 'f1-scor...</td>\n",
       "      <td>0.761</td>\n",
       "      <td>0.062947</td>\n",
       "    </tr>\n",
       "    <tr>\n",
       "      <th>7</th>\n",
       "      <td>Naive_Bayes_oversampling</td>\n",
       "      <td>{0: 0.839, 1: 0.502, 2: 0.851}</td>\n",
       "      <td>{0: 0.778, 1: 0.626, 2: 0.804}</td>\n",
       "      <td>{0: 0.808, 1: 0.557, 2: 0.827}</td>\n",
       "      <td>{'precision': 0.731, 'recall': 0.736, 'f1-scor...</td>\n",
       "      <td>{'precision': 0.778, 'recall': 0.761, 'f1-scor...</td>\n",
       "      <td>0.761</td>\n",
       "      <td>0.090476</td>\n",
       "    </tr>\n",
       "    <tr>\n",
       "      <th>8</th>\n",
       "      <td>Naive_Bayes_undersampling</td>\n",
       "      <td>{0: 0.855, 1: 0.521, 2: 0.816}</td>\n",
       "      <td>{0: 0.773, 1: 0.538, 2: 0.854}</td>\n",
       "      <td>{0: 0.812, 1: 0.529, 2: 0.835}</td>\n",
       "      <td>{'precision': 0.73, 'recall': 0.722, 'f1-score...</td>\n",
       "      <td>{'precision': 0.769, 'recall': 0.766, 'f1-scor...</td>\n",
       "      <td>0.766</td>\n",
       "      <td>0.048847</td>\n",
       "    </tr>\n",
       "    <tr>\n",
       "      <th>9</th>\n",
       "      <td>KNN_no_preprocessing</td>\n",
       "      <td>{0: 0.892, 1: 0.531, 2: 0.759}</td>\n",
       "      <td>{0: 0.709, 1: 0.458, 2: 0.901}</td>\n",
       "      <td>{0: 0.79, 1: 0.492, 2: 0.824}</td>\n",
       "      <td>{'precision': 0.727, 'recall': 0.689, 'f1-scor...</td>\n",
       "      <td>{'precision': 0.755, 'recall': 0.753, 'f1-scor...</td>\n",
       "      <td>0.753</td>\n",
       "      <td>0.010772</td>\n",
       "    </tr>\n",
       "    <tr>\n",
       "      <th>10</th>\n",
       "      <td>KNN_oversampling</td>\n",
       "      <td>{0: 0.886, 1: 0.42, 2: 0.84}</td>\n",
       "      <td>{0: 0.695, 1: 0.707, 2: 0.722}</td>\n",
       "      <td>{0: 0.779, 1: 0.527, 2: 0.777}</td>\n",
       "      <td>{'precision': 0.715, 'recall': 0.708, 'f1-scor...</td>\n",
       "      <td>{'precision': 0.771, 'recall': 0.711, 'f1-scor...</td>\n",
       "      <td>0.711</td>\n",
       "      <td>0.009546</td>\n",
       "    </tr>\n",
       "    <tr>\n",
       "      <th>11</th>\n",
       "      <td>KNN_undersampling</td>\n",
       "      <td>{0: 0.901, 1: 0.417, 2: 0.828}</td>\n",
       "      <td>{0: 0.688, 1: 0.706, 2: 0.718}</td>\n",
       "      <td>{0: 0.78, 1: 0.524, 2: 0.769}</td>\n",
       "      <td>{'precision': 0.715, 'recall': 0.704, 'f1-scor...</td>\n",
       "      <td>{'precision': 0.768, 'recall': 0.706, 'f1-scor...</td>\n",
       "      <td>0.706</td>\n",
       "      <td>0.008452</td>\n",
       "    </tr>\n",
       "    <tr>\n",
       "      <th>12</th>\n",
       "      <td>LightGBM_no_preprocessing</td>\n",
       "      <td>{0: 0.937, 1: 0.661, 2: 0.861}</td>\n",
       "      <td>{0: 0.828, 1: 0.655, 2: 0.928}</td>\n",
       "      <td>{0: 0.879, 1: 0.658, 2: 0.894}</td>\n",
       "      <td>{'precision': 0.82, 'recall': 0.804, 'f1-score...</td>\n",
       "      <td>{'precision': 0.845, 'recall': 0.843, 'f1-scor...</td>\n",
       "      <td>0.843</td>\n",
       "      <td>7.752637</td>\n",
       "    </tr>\n",
       "    <tr>\n",
       "      <th>13</th>\n",
       "      <td>LightGBM_oversampling</td>\n",
       "      <td>{0: 0.931, 1: 0.662, 2: 0.863}</td>\n",
       "      <td>{0: 0.829, 1: 0.656, 2: 0.927}</td>\n",
       "      <td>{0: 0.877, 1: 0.659, 2: 0.894}</td>\n",
       "      <td>{'precision': 0.819, 'recall': 0.804, 'f1-scor...</td>\n",
       "      <td>{'precision': 0.844, 'recall': 0.842, 'f1-scor...</td>\n",
       "      <td>0.842</td>\n",
       "      <td>1253.982439</td>\n",
       "    </tr>\n",
       "    <tr>\n",
       "      <th>14</th>\n",
       "      <td>LightGBM_undersampling</td>\n",
       "      <td>{0: 0.953, 1: 0.571, 2: 0.902}</td>\n",
       "      <td>{0: 0.806, 1: 0.794, 2: 0.847}</td>\n",
       "      <td>{0: 0.874, 1: 0.664, 2: 0.874}</td>\n",
       "      <td>{'precision': 0.809, 'recall': 0.816, 'f1-scor...</td>\n",
       "      <td>{'precision': 0.852, 'recall': 0.824, 'f1-scor...</td>\n",
       "      <td>0.824</td>\n",
       "      <td>5.682297</td>\n",
       "    </tr>\n",
       "  </tbody>\n",
       "</table>\n",
       "</div>"
      ],
      "text/plain": [
       "                             model                       precision  \\\n",
       "0   Decision_tree_no_preprocessing  {0: 0.809, 1: 0.513, 2: 0.836}   \n",
       "1       Decision_tree_oversampling  {0: 0.809, 1: 0.511, 2: 0.841}   \n",
       "2      Decision_tree_undersampling  {0: 0.811, 1: 0.455, 2: 0.865}   \n",
       "3    RandomForest_no_preprocessing  {0: 0.944, 1: 0.647, 2: 0.854}   \n",
       "4        RandomForest_oversampling  {0: 0.949, 1: 0.627, 2: 0.862}   \n",
       "5       RandomForest_undersampling   {0: 0.97, 1: 0.553, 2: 0.899}   \n",
       "6     Naive_Bayes_no_preprocessing  {0: 0.852, 1: 0.519, 2: 0.797}   \n",
       "7         Naive_Bayes_oversampling  {0: 0.839, 1: 0.502, 2: 0.851}   \n",
       "8        Naive_Bayes_undersampling  {0: 0.855, 1: 0.521, 2: 0.816}   \n",
       "9             KNN_no_preprocessing  {0: 0.892, 1: 0.531, 2: 0.759}   \n",
       "10                KNN_oversampling    {0: 0.886, 1: 0.42, 2: 0.84}   \n",
       "11               KNN_undersampling  {0: 0.901, 1: 0.417, 2: 0.828}   \n",
       "12       LightGBM_no_preprocessing  {0: 0.937, 1: 0.661, 2: 0.861}   \n",
       "13           LightGBM_oversampling  {0: 0.931, 1: 0.662, 2: 0.863}   \n",
       "14          LightGBM_undersampling  {0: 0.953, 1: 0.571, 2: 0.902}   \n",
       "\n",
       "                            recall                        f1-score  \\\n",
       "0    {0: 0.818, 1: 0.528, 2: 0.82}   {0: 0.813, 1: 0.52, 2: 0.828}   \n",
       "1    {0: 0.812, 1: 0.54, 2: 0.819}    {0: 0.81, 1: 0.525, 2: 0.83}   \n",
       "2   {0: 0.801, 1: 0.649, 2: 0.722}  {0: 0.806, 1: 0.535, 2: 0.787}   \n",
       "3   {0: 0.809, 1: 0.649, 2: 0.931}  {0: 0.872, 1: 0.648, 2: 0.891}   \n",
       "4   {0: 0.805, 1: 0.681, 2: 0.914}  {0: 0.871, 1: 0.653, 2: 0.887}   \n",
       "5    {0: 0.778, 1: 0.81, 2: 0.842}  {0: 0.863, 1: 0.657, 2: 0.869}   \n",
       "6   {0: 0.775, 1: 0.483, 2: 0.865}    {0: 0.812, 1: 0.5, 2: 0.829}   \n",
       "7   {0: 0.778, 1: 0.626, 2: 0.804}  {0: 0.808, 1: 0.557, 2: 0.827}   \n",
       "8   {0: 0.773, 1: 0.538, 2: 0.854}  {0: 0.812, 1: 0.529, 2: 0.835}   \n",
       "9   {0: 0.709, 1: 0.458, 2: 0.901}   {0: 0.79, 1: 0.492, 2: 0.824}   \n",
       "10  {0: 0.695, 1: 0.707, 2: 0.722}  {0: 0.779, 1: 0.527, 2: 0.777}   \n",
       "11  {0: 0.688, 1: 0.706, 2: 0.718}   {0: 0.78, 1: 0.524, 2: 0.769}   \n",
       "12  {0: 0.828, 1: 0.655, 2: 0.928}  {0: 0.879, 1: 0.658, 2: 0.894}   \n",
       "13  {0: 0.829, 1: 0.656, 2: 0.927}  {0: 0.877, 1: 0.659, 2: 0.894}   \n",
       "14  {0: 0.806, 1: 0.794, 2: 0.847}  {0: 0.874, 1: 0.664, 2: 0.874}   \n",
       "\n",
       "                                            macro_avg  \\\n",
       "0   {'precision': 0.719, 'recall': 0.722, 'f1-scor...   \n",
       "1   {'precision': 0.72, 'recall': 0.724, 'f1-score...   \n",
       "2   {'precision': 0.71, 'recall': 0.724, 'f1-score...   \n",
       "3   {'precision': 0.815, 'recall': 0.797, 'f1-scor...   \n",
       "4   {'precision': 0.812, 'recall': 0.8, 'f1-score'...   \n",
       "5   {'precision': 0.807, 'recall': 0.81, 'f1-score...   \n",
       "6   {'precision': 0.722, 'recall': 0.708, 'f1-scor...   \n",
       "7   {'precision': 0.731, 'recall': 0.736, 'f1-scor...   \n",
       "8   {'precision': 0.73, 'recall': 0.722, 'f1-score...   \n",
       "9   {'precision': 0.727, 'recall': 0.689, 'f1-scor...   \n",
       "10  {'precision': 0.715, 'recall': 0.708, 'f1-scor...   \n",
       "11  {'precision': 0.715, 'recall': 0.704, 'f1-scor...   \n",
       "12  {'precision': 0.82, 'recall': 0.804, 'f1-score...   \n",
       "13  {'precision': 0.819, 'recall': 0.804, 'f1-scor...   \n",
       "14  {'precision': 0.809, 'recall': 0.816, 'f1-scor...   \n",
       "\n",
       "                                         weighted_avg  accuracy     time (s)  \n",
       "0   {'precision': 0.763, 'recall': 0.761, 'f1-scor...     0.761     1.054770  \n",
       "1   {'precision': 0.765, 'recall': 0.761, 'f1-scor...     0.761     3.844142  \n",
       "2   {'precision': 0.766, 'recall': 0.732, 'f1-scor...     0.732     0.777214  \n",
       "3   {'precision': 0.841, 'recall': 0.837, 'f1-scor...     0.837    35.010197  \n",
       "4   {'precision': 0.842, 'recall': 0.834, 'f1-scor...     0.834   122.866330  \n",
       "5   {'precision': 0.852, 'recall': 0.815, 'f1-scor...     0.815    25.618703  \n",
       "6   {'precision': 0.758, 'recall': 0.761, 'f1-scor...     0.761     0.062947  \n",
       "7   {'precision': 0.778, 'recall': 0.761, 'f1-scor...     0.761     0.090476  \n",
       "8   {'precision': 0.769, 'recall': 0.766, 'f1-scor...     0.766     0.048847  \n",
       "9   {'precision': 0.755, 'recall': 0.753, 'f1-scor...     0.753     0.010772  \n",
       "10  {'precision': 0.771, 'recall': 0.711, 'f1-scor...     0.711     0.009546  \n",
       "11  {'precision': 0.768, 'recall': 0.706, 'f1-scor...     0.706     0.008452  \n",
       "12  {'precision': 0.845, 'recall': 0.843, 'f1-scor...     0.843     7.752637  \n",
       "13  {'precision': 0.844, 'recall': 0.842, 'f1-scor...     0.842  1253.982439  \n",
       "14  {'precision': 0.852, 'recall': 0.824, 'f1-scor...     0.824     5.682297  "
      ]
     },
     "execution_count": 100,
     "metadata": {},
     "output_type": "execute_result"
    }
   ],
   "source": [
    "df_results.to_csv('data/benchmarking_outliers_handled.csv',index=False)\n",
    "df_results"
   ]
  },
  {
   "cell_type": "code",
   "execution_count": 101,
   "metadata": {},
   "outputs": [],
   "source": [
    "def get_results(df):\n",
    "\n",
    "    fields = {'model':df['model'].values, 'precision':[x['precision'] for x in df['macro_avg'].values],\n",
    "                'recall':[x['recall'] for x in df['macro_avg'].values], 'f1-score':[x['f1-score'] for x in df['macro_avg'].values],\n",
    "                'accuracy':df['accuracy'].values, 'time (s)': df['time (s)']}\n",
    "    \n",
    "    return pd.DataFrame(fields)"
   ]
  },
  {
   "cell_type": "code",
   "execution_count": 102,
   "metadata": {},
   "outputs": [
    {
     "data": {
      "text/html": [
       "<div>\n",
       "<style scoped>\n",
       "    .dataframe tbody tr th:only-of-type {\n",
       "        vertical-align: middle;\n",
       "    }\n",
       "\n",
       "    .dataframe tbody tr th {\n",
       "        vertical-align: top;\n",
       "    }\n",
       "\n",
       "    .dataframe thead th {\n",
       "        text-align: right;\n",
       "    }\n",
       "</style>\n",
       "<table border=\"1\" class=\"dataframe\">\n",
       "  <thead>\n",
       "    <tr style=\"text-align: right;\">\n",
       "      <th></th>\n",
       "      <th>model</th>\n",
       "      <th>precision</th>\n",
       "      <th>recall</th>\n",
       "      <th>f1-score</th>\n",
       "      <th>accuracy</th>\n",
       "      <th>time (s)</th>\n",
       "    </tr>\n",
       "  </thead>\n",
       "  <tbody>\n",
       "    <tr>\n",
       "      <th>0</th>\n",
       "      <td>Decision_tree_no_preprocessing</td>\n",
       "      <td>0.719</td>\n",
       "      <td>0.722</td>\n",
       "      <td>0.721</td>\n",
       "      <td>0.761</td>\n",
       "      <td>1.054770</td>\n",
       "    </tr>\n",
       "    <tr>\n",
       "      <th>1</th>\n",
       "      <td>Decision_tree_oversampling</td>\n",
       "      <td>0.720</td>\n",
       "      <td>0.724</td>\n",
       "      <td>0.722</td>\n",
       "      <td>0.761</td>\n",
       "      <td>3.844142</td>\n",
       "    </tr>\n",
       "    <tr>\n",
       "      <th>2</th>\n",
       "      <td>Decision_tree_undersampling</td>\n",
       "      <td>0.710</td>\n",
       "      <td>0.724</td>\n",
       "      <td>0.709</td>\n",
       "      <td>0.732</td>\n",
       "      <td>0.777214</td>\n",
       "    </tr>\n",
       "    <tr>\n",
       "      <th>3</th>\n",
       "      <td>RandomForest_no_preprocessing</td>\n",
       "      <td>0.815</td>\n",
       "      <td>0.797</td>\n",
       "      <td>0.804</td>\n",
       "      <td>0.837</td>\n",
       "      <td>35.010197</td>\n",
       "    </tr>\n",
       "    <tr>\n",
       "      <th>4</th>\n",
       "      <td>RandomForest_oversampling</td>\n",
       "      <td>0.812</td>\n",
       "      <td>0.800</td>\n",
       "      <td>0.804</td>\n",
       "      <td>0.834</td>\n",
       "      <td>122.866330</td>\n",
       "    </tr>\n",
       "    <tr>\n",
       "      <th>5</th>\n",
       "      <td>RandomForest_undersampling</td>\n",
       "      <td>0.807</td>\n",
       "      <td>0.810</td>\n",
       "      <td>0.797</td>\n",
       "      <td>0.815</td>\n",
       "      <td>25.618703</td>\n",
       "    </tr>\n",
       "    <tr>\n",
       "      <th>6</th>\n",
       "      <td>Naive_Bayes_no_preprocessing</td>\n",
       "      <td>0.722</td>\n",
       "      <td>0.708</td>\n",
       "      <td>0.714</td>\n",
       "      <td>0.761</td>\n",
       "      <td>0.062947</td>\n",
       "    </tr>\n",
       "    <tr>\n",
       "      <th>7</th>\n",
       "      <td>Naive_Bayes_oversampling</td>\n",
       "      <td>0.731</td>\n",
       "      <td>0.736</td>\n",
       "      <td>0.731</td>\n",
       "      <td>0.761</td>\n",
       "      <td>0.090476</td>\n",
       "    </tr>\n",
       "    <tr>\n",
       "      <th>8</th>\n",
       "      <td>Naive_Bayes_undersampling</td>\n",
       "      <td>0.730</td>\n",
       "      <td>0.722</td>\n",
       "      <td>0.725</td>\n",
       "      <td>0.766</td>\n",
       "      <td>0.048847</td>\n",
       "    </tr>\n",
       "    <tr>\n",
       "      <th>9</th>\n",
       "      <td>KNN_no_preprocessing</td>\n",
       "      <td>0.727</td>\n",
       "      <td>0.689</td>\n",
       "      <td>0.702</td>\n",
       "      <td>0.753</td>\n",
       "      <td>0.010772</td>\n",
       "    </tr>\n",
       "    <tr>\n",
       "      <th>10</th>\n",
       "      <td>KNN_oversampling</td>\n",
       "      <td>0.715</td>\n",
       "      <td>0.708</td>\n",
       "      <td>0.694</td>\n",
       "      <td>0.711</td>\n",
       "      <td>0.009546</td>\n",
       "    </tr>\n",
       "    <tr>\n",
       "      <th>11</th>\n",
       "      <td>KNN_undersampling</td>\n",
       "      <td>0.715</td>\n",
       "      <td>0.704</td>\n",
       "      <td>0.691</td>\n",
       "      <td>0.706</td>\n",
       "      <td>0.008452</td>\n",
       "    </tr>\n",
       "    <tr>\n",
       "      <th>12</th>\n",
       "      <td>LightGBM_no_preprocessing</td>\n",
       "      <td>0.820</td>\n",
       "      <td>0.804</td>\n",
       "      <td>0.810</td>\n",
       "      <td>0.843</td>\n",
       "      <td>7.752637</td>\n",
       "    </tr>\n",
       "    <tr>\n",
       "      <th>13</th>\n",
       "      <td>LightGBM_oversampling</td>\n",
       "      <td>0.819</td>\n",
       "      <td>0.804</td>\n",
       "      <td>0.810</td>\n",
       "      <td>0.842</td>\n",
       "      <td>1253.982439</td>\n",
       "    </tr>\n",
       "    <tr>\n",
       "      <th>14</th>\n",
       "      <td>LightGBM_undersampling</td>\n",
       "      <td>0.809</td>\n",
       "      <td>0.816</td>\n",
       "      <td>0.804</td>\n",
       "      <td>0.824</td>\n",
       "      <td>5.682297</td>\n",
       "    </tr>\n",
       "  </tbody>\n",
       "</table>\n",
       "</div>"
      ],
      "text/plain": [
       "                             model  precision  recall  f1-score  accuracy  \\\n",
       "0   Decision_tree_no_preprocessing      0.719   0.722     0.721     0.761   \n",
       "1       Decision_tree_oversampling      0.720   0.724     0.722     0.761   \n",
       "2      Decision_tree_undersampling      0.710   0.724     0.709     0.732   \n",
       "3    RandomForest_no_preprocessing      0.815   0.797     0.804     0.837   \n",
       "4        RandomForest_oversampling      0.812   0.800     0.804     0.834   \n",
       "5       RandomForest_undersampling      0.807   0.810     0.797     0.815   \n",
       "6     Naive_Bayes_no_preprocessing      0.722   0.708     0.714     0.761   \n",
       "7         Naive_Bayes_oversampling      0.731   0.736     0.731     0.761   \n",
       "8        Naive_Bayes_undersampling      0.730   0.722     0.725     0.766   \n",
       "9             KNN_no_preprocessing      0.727   0.689     0.702     0.753   \n",
       "10                KNN_oversampling      0.715   0.708     0.694     0.711   \n",
       "11               KNN_undersampling      0.715   0.704     0.691     0.706   \n",
       "12       LightGBM_no_preprocessing      0.820   0.804     0.810     0.843   \n",
       "13           LightGBM_oversampling      0.819   0.804     0.810     0.842   \n",
       "14          LightGBM_undersampling      0.809   0.816     0.804     0.824   \n",
       "\n",
       "       time (s)  \n",
       "0      1.054770  \n",
       "1      3.844142  \n",
       "2      0.777214  \n",
       "3     35.010197  \n",
       "4    122.866330  \n",
       "5     25.618703  \n",
       "6      0.062947  \n",
       "7      0.090476  \n",
       "8      0.048847  \n",
       "9      0.010772  \n",
       "10     0.009546  \n",
       "11     0.008452  \n",
       "12     7.752637  \n",
       "13  1253.982439  \n",
       "14     5.682297  "
      ]
     },
     "execution_count": 102,
     "metadata": {},
     "output_type": "execute_result"
    }
   ],
   "source": [
    "res = get_results(df_results)\n",
    "res"
   ]
  }
 ],
 "metadata": {
  "kernelspec": {
   "display_name": "Python 3",
   "language": "python",
   "name": "python3"
  },
  "language_info": {
   "codemirror_mode": {
    "name": "ipython",
    "version": 3
   },
   "file_extension": ".py",
   "mimetype": "text/x-python",
   "name": "python",
   "nbconvert_exporter": "python",
   "pygments_lexer": "ipython3",
   "version": "3.11.4"
  }
 },
 "nbformat": 4,
 "nbformat_minor": 2
}
