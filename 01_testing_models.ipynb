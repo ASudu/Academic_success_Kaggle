{
 "cells": [
  {
   "cell_type": "markdown",
   "metadata": {},
   "source": [
    "# TESTING MODELS\n",
    "\n",
    "Let us try a few classification models\n",
    "## Classical ML models"
   ]
  },
  {
   "cell_type": "code",
   "execution_count": 1,
   "metadata": {},
   "outputs": [],
   "source": [
    "import pandas as pd\n",
    "import time\n",
    "import numpy as np\n",
    "import os\n",
    "from sklearn.preprocessing import StandardScaler, LabelEncoder\n",
    "from sklearn.metrics import roc_auc_score, multilabel_confusion_matrix, accuracy_score, classification_report, balanced_accuracy_score\n",
    "import matplotlib.pyplot as plt\n",
    "import seaborn as sns"
   ]
  },
  {
   "cell_type": "code",
   "execution_count": 2,
   "metadata": {},
   "outputs": [],
   "source": [
    "models = []"
   ]
  },
  {
   "cell_type": "code",
   "execution_count": 3,
   "metadata": {},
   "outputs": [
    {
     "data": {
      "text/plain": [
       "((75018, 53),\n",
       " Index(['id', 'marital_status', 'appln_mode', 'appln_order', 'prog_of_study',\n",
       "        'morn/eve_attend', 'prev_edu', 'prev_edu_grade', 'nationality',\n",
       "        'mom_edu', 'dad_edu', 'mom_occup', 'admission_grade', 'was_displaced',\n",
       "        'edu_spl_need', 'has_student_debt', 'no_fee_dues', 'gender',\n",
       "        'got_scholarship', 'age_at_start', 'sem1_units_credited',\n",
       "        'sem1_units_enrolled', 'sem1_units_eval', 'sem1_units_approved',\n",
       "        'sem1_units_grade', 'sem1_units_no_eval', 'sem2_units_credited',\n",
       "        'sem2_units_enrolled', 'sem2_units_eval', 'sem2_units_approved',\n",
       "        'sem2_units_grade', 'sem2_units_no_eval', 'unemployment_rate',\n",
       "        'inflation', 'gdp', 'Target', 'marital_status_log', 'appln_order_log',\n",
       "        'prog_of_study_log', 'morn/eve_attend_log', 'prev_edu_log',\n",
       "        'mom_occup_log', 'edu_spl_need_log', 'has_student_debt_log',\n",
       "        'no_fee_dues_log', 'got_scholarship_log', 'age_at_start_log',\n",
       "        'sem1_units_credited_log', 'sem1_units_grade_log',\n",
       "        'sem1_units_no_eval_log', 'sem2_units_credited_log',\n",
       "        'sem2_units_grade_log', 'sem2_units_no_eval_log'],\n",
       "       dtype='object'),\n",
       " ['sem2_units_approved',\n",
       "  'no_fee_dues',\n",
       "  'got_scholarship',\n",
       "  'sem2_units_enrolled',\n",
       "  'sem2_units_eval',\n",
       "  'admission_grade',\n",
       "  'prog_of_study',\n",
       "  'sem1_units_eval',\n",
       "  'prev_edu_grade',\n",
       "  'was_displaced',\n",
       "  'appln_order_log',\n",
       "  'morn/eve_attend',\n",
       "  'gdp',\n",
       "  'marital_status_log',\n",
       "  'has_student_debt',\n",
       "  'appln_mode',\n",
       "  'gender',\n",
       "  'age_at_start'])"
      ]
     },
     "execution_count": 3,
     "metadata": {},
     "output_type": "execute_result"
    }
   ],
   "source": [
    "df = pd.read_csv('data/cleaned_train.csv')\n",
    "feats = []\n",
    "with open('data/features.txt','r') as f:\n",
    "    feats = [x[:-1] for x in f.readlines()]\n",
    "df.shape, df.columns, feats"
   ]
  },
  {
   "cell_type": "markdown",
   "metadata": {},
   "source": [
    "We use only the selected features"
   ]
  },
  {
   "cell_type": "code",
   "execution_count": 4,
   "metadata": {},
   "outputs": [],
   "source": [
    "X,y = df.drop(columns=['Target','id','nationality']).values, df['Target'].values"
   ]
  },
  {
   "cell_type": "code",
   "execution_count": 5,
   "metadata": {},
   "outputs": [
    {
     "data": {
      "text/plain": [
       "(Target\n",
       " Graduate    36603\n",
       " Dropout     23669\n",
       " Enrolled    14746\n",
       " Name: count, dtype: int64,\n",
       " <Axes: >)"
      ]
     },
     "execution_count": 5,
     "metadata": {},
     "output_type": "execute_result"
    },
    {
     "data": {
      "image/png": "[encoded data removed]",
      "text/plain": [
       "<Figure size 640x480 with 1 Axes>"
      ]
     },
     "metadata": {},
     "output_type": "display_data"
    }
   ],
   "source": [
    "df['Target'].value_counts(), df['Target'].hist()"
   ]
  },
  {
   "cell_type": "markdown",
   "metadata": {},
   "source": [
    "So we have an imbalanced dataset. To handle this - for classical ML models, we oversample the smaller classes"
   ]
  },
  {
   "cell_type": "code",
   "execution_count": 6,
   "metadata": {},
   "outputs": [],
   "source": [
    "# Train test split\n",
    "from sklearn.model_selection import train_test_split\n",
    "\n",
    "le = LabelEncoder()\n",
    "y_l = le.fit(y)\n",
    "y_enc = y_l.transform(y)\n",
    "\n",
    "X_train, X_val, y_train, y_val = train_test_split(X, y_enc, test_size=0.2, random_state=42)"
   ]
  },
  {
   "cell_type": "markdown",
   "metadata": {},
   "source": [
    "### Decision tree\n",
    "\n",
    "First we check the performance without any oversampling"
   ]
  },
  {
   "cell_type": "code",
   "execution_count": 7,
   "metadata": {},
   "outputs": [],
   "source": [
    "from sklearn import tree"
   ]
  },
  {
   "cell_type": "code",
   "execution_count": 8,
   "metadata": {},
   "outputs": [
    {
     "name": "stdout",
     "output_type": "stream",
     "text": [
      "CPU times: total: 500 ms\n",
      "Wall time: 1.07 s\n"
     ]
    }
   ],
   "source": [
    "%%time\n",
    "model_dt = tree.DecisionTreeClassifier()\n",
    "start = time.perf_counter()\n",
    "model_dt.fit(X_train,y_train)\n",
    "end = time.perf_counter()"
   ]
  },
  {
   "cell_type": "code",
   "execution_count": 9,
   "metadata": {},
   "outputs": [
    {
     "data": {
      "text/plain": [
       "array([[[ 9368,   937],\n",
       "        [  775,  3924]],\n",
       "\n",
       "       [[10576,  1467],\n",
       "        [ 1449,  1512]],\n",
       "\n",
       "       [[ 6492,  1168],\n",
       "        [ 1348,  5996]]], dtype=int64)"
      ]
     },
     "execution_count": 9,
     "metadata": {},
     "output_type": "execute_result"
    }
   ],
   "source": [
    "y_pred = model_dt.predict(X_val)\n",
    "mat = multilabel_confusion_matrix(y_val,y_pred)\n",
    "mat"
   ]
  },
  {
   "cell_type": "code",
   "execution_count": 10,
   "metadata": {},
   "outputs": [
    {
     "data": {
      "text/plain": [
       "(0.720719463793155, 0.7619301519594774)"
      ]
     },
     "execution_count": 10,
     "metadata": {},
     "output_type": "execute_result"
    }
   ],
   "source": [
    "balanced_accuracy_score(y_val,y_pred), accuracy_score(y_val,y_pred)"
   ]
  },
  {
   "cell_type": "code",
   "execution_count": 11,
   "metadata": {},
   "outputs": [
    {
     "name": "stdout",
     "output_type": "stream",
     "text": [
      "DECISION TREE - NO PREPROCESSING\n"
     ]
    },
    {
     "data": {
      "text/html": [
       "<div>\n",
       "<style scoped>\n",
       "    .dataframe tbody tr th:only-of-type {\n",
       "        vertical-align: middle;\n",
       "    }\n",
       "\n",
       "    .dataframe tbody tr th {\n",
       "        vertical-align: top;\n",
       "    }\n",
       "\n",
       "    .dataframe thead th {\n",
       "        text-align: right;\n",
       "    }\n",
       "</style>\n",
       "<table border=\"1\" class=\"dataframe\">\n",
       "  <thead>\n",
       "    <tr style=\"text-align: right;\">\n",
       "      <th></th>\n",
       "      <th>model</th>\n",
       "      <th>metrics</th>\n",
       "      <th>training_time(s)</th>\n",
       "    </tr>\n",
       "  </thead>\n",
       "  <tbody>\n",
       "    <tr>\n",
       "      <th>0</th>\n",
       "      <td>Decision_tree_no_preprocessing</td>\n",
       "      <td>{'0': {'precision': 0.8072413083727628, 'recal...</td>\n",
       "      <td>1.066185</td>\n",
       "    </tr>\n",
       "  </tbody>\n",
       "</table>\n",
       "</div>"
      ],
      "text/plain": [
       "                            model  \\\n",
       "0  Decision_tree_no_preprocessing   \n",
       "\n",
       "                                             metrics  training_time(s)  \n",
       "0  {'0': {'precision': 0.8072413083727628, 'recal...          1.066185  "
      ]
     },
     "execution_count": 11,
     "metadata": {},
     "output_type": "execute_result"
    }
   ],
   "source": [
    "print('DECISION TREE - NO PREPROCESSING')\n",
    "x = classification_report(y_val, y_pred, labels = sorted(list(set(y_enc))), digits=4, output_dict=True)\n",
    "models.append({'model':'Decision_tree_no_preprocessing', 'metrics': x, 'training_time(s)':(end-start)})\n",
    "pd.DataFrame(models)"
   ]
  },
  {
   "cell_type": "markdown",
   "metadata": {},
   "source": [
    "Next, let us use `SMOTE` (Synthetic Minority Over-sampling Technique) to oversample the minority classes"
   ]
  },
  {
   "cell_type": "code",
   "execution_count": 12,
   "metadata": {},
   "outputs": [],
   "source": [
    "from imblearn.over_sampling import SMOTE\n",
    "from collections import Counter"
   ]
  },
  {
   "cell_type": "code",
   "execution_count": 13,
   "metadata": {},
   "outputs": [
    {
     "name": "stdout",
     "output_type": "stream",
     "text": [
      "Before Oversampling [(0, 18970), (1, 11785), (2, 29259)]\n",
      "After Oversampling [(0, 29259), (1, 29259), (2, 29259)]\n"
     ]
    }
   ],
   "source": [
    "#Apply Over Sampling\n",
    "print(f'Before Oversampling {sorted(Counter(y_train).items())}')\n",
    "X_train1, y_train1 = SMOTE().fit_resample(X_train, y_train)\n",
    "print(f'After Oversampling {sorted(Counter(y_train1).items())}')"
   ]
  },
  {
   "cell_type": "code",
   "execution_count": 14,
   "metadata": {},
   "outputs": [
    {
     "name": "stdout",
     "output_type": "stream",
     "text": [
      "CPU times: total: 5.05 s\n",
      "Wall time: 5.18 s\n"
     ]
    }
   ],
   "source": [
    "%%time\n",
    "model_dt = tree.DecisionTreeClassifier()\n",
    "start = time.perf_counter()\n",
    "model_dt.fit(X_train1,y_train1)\n",
    "end = time.perf_counter()"
   ]
  },
  {
   "cell_type": "code",
   "execution_count": 15,
   "metadata": {},
   "outputs": [
    {
     "data": {
      "text/plain": [
       "array([[[ 9440,   865],\n",
       "        [  778,  3921]],\n",
       "\n",
       "       [[10546,  1497],\n",
       "        [ 1389,  1572]],\n",
       "\n",
       "       [[ 6475,  1185],\n",
       "        [ 1380,  5964]]], dtype=int64)"
      ]
     },
     "execution_count": 15,
     "metadata": {},
     "output_type": "execute_result"
    }
   ],
   "source": [
    "y_pred = model_dt.predict(X_val)\n",
    "mat = multilabel_confusion_matrix(y_val,y_pred)\n",
    "mat"
   ]
  },
  {
   "cell_type": "code",
   "execution_count": 16,
   "metadata": {},
   "outputs": [
    {
     "data": {
      "text/plain": [
       "(0.7258086945713211, 0.7635963743001866)"
      ]
     },
     "execution_count": 16,
     "metadata": {},
     "output_type": "execute_result"
    }
   ],
   "source": [
    "balanced_accuracy_score(y_val,y_pred), accuracy_score(y_val,y_pred)"
   ]
  },
  {
   "cell_type": "code",
   "execution_count": 17,
   "metadata": {},
   "outputs": [
    {
     "name": "stdout",
     "output_type": "stream",
     "text": [
      "DECISION TREE - SMOTE\n"
     ]
    },
    {
     "data": {
      "text/html": [
       "<div>\n",
       "<style scoped>\n",
       "    .dataframe tbody tr th:only-of-type {\n",
       "        vertical-align: middle;\n",
       "    }\n",
       "\n",
       "    .dataframe tbody tr th {\n",
       "        vertical-align: top;\n",
       "    }\n",
       "\n",
       "    .dataframe thead th {\n",
       "        text-align: right;\n",
       "    }\n",
       "</style>\n",
       "<table border=\"1\" class=\"dataframe\">\n",
       "  <thead>\n",
       "    <tr style=\"text-align: right;\">\n",
       "      <th></th>\n",
       "      <th>model</th>\n",
       "      <th>metrics</th>\n",
       "      <th>training_time(s)</th>\n",
       "    </tr>\n",
       "  </thead>\n",
       "  <tbody>\n",
       "    <tr>\n",
       "      <th>0</th>\n",
       "      <td>Decision_tree_no_preprocessing</td>\n",
       "      <td>{'0': {'precision': 0.8072413083727628, 'recal...</td>\n",
       "      <td>1.066185</td>\n",
       "    </tr>\n",
       "    <tr>\n",
       "      <th>1</th>\n",
       "      <td>Decision_tree_oversampling</td>\n",
       "      <td>{'0': {'precision': 0.8192645215211032, 'recal...</td>\n",
       "      <td>5.181477</td>\n",
       "    </tr>\n",
       "  </tbody>\n",
       "</table>\n",
       "</div>"
      ],
      "text/plain": [
       "                            model  \\\n",
       "0  Decision_tree_no_preprocessing   \n",
       "1      Decision_tree_oversampling   \n",
       "\n",
       "                                             metrics  training_time(s)  \n",
       "0  {'0': {'precision': 0.8072413083727628, 'recal...          1.066185  \n",
       "1  {'0': {'precision': 0.8192645215211032, 'recal...          5.181477  "
      ]
     },
     "execution_count": 17,
     "metadata": {},
     "output_type": "execute_result"
    }
   ],
   "source": [
    "print('DECISION TREE - SMOTE')\n",
    "x = classification_report(y_val, y_pred, labels = sorted(list(set(y_enc))), digits=4, output_dict=True)\n",
    "models.append({'model':'Decision_tree_oversampling', 'metrics': x, 'training_time(s)':(end-start)})\n",
    "pd.DataFrame(models)"
   ]
  },
  {
   "cell_type": "markdown",
   "metadata": {},
   "source": [
    "Let us try an undersampler"
   ]
  },
  {
   "cell_type": "code",
   "execution_count": 18,
   "metadata": {},
   "outputs": [],
   "source": [
    "from imblearn.under_sampling import RandomUnderSampler"
   ]
  },
  {
   "cell_type": "code",
   "execution_count": 19,
   "metadata": {},
   "outputs": [
    {
     "name": "stdout",
     "output_type": "stream",
     "text": [
      "Before Undersampling [(0, 18970), (1, 11785), (2, 29259)]\n",
      "After Undersampling [(0, 11785), (1, 11785), (2, 11785)]\n"
     ]
    }
   ],
   "source": [
    "#Apply Random Under Sampling\n",
    "rus = RandomUnderSampler(random_state=0)\n",
    "print(f'Before Undersampling {sorted(Counter(y_train).items())}')\n",
    "X_train1, y_train1 =rus.fit_resample(X_train, y_train)\n",
    "print(f'After Undersampling {sorted(Counter(y_train1).items())}')"
   ]
  },
  {
   "cell_type": "code",
   "execution_count": 20,
   "metadata": {},
   "outputs": [
    {
     "name": "stdout",
     "output_type": "stream",
     "text": [
      "CPU times: total: 1.16 s\n",
      "Wall time: 1.28 s\n"
     ]
    }
   ],
   "source": [
    "%%time\n",
    "model_dt = tree.DecisionTreeClassifier()\n",
    "start = time.perf_counter()\n",
    "model_dt.fit(X_train1,y_train1)\n",
    "end = time.perf_counter()"
   ]
  },
  {
   "cell_type": "code",
   "execution_count": 21,
   "metadata": {},
   "outputs": [
    {
     "data": {
      "text/plain": [
       "array([[[9401,  904],\n",
       "        [ 834, 3865]],\n",
       "\n",
       "       [[9832, 2211],\n",
       "        [1071, 1890]],\n",
       "\n",
       "       [[6818,  842],\n",
       "        [2052, 5292]]], dtype=int64)"
      ]
     },
     "execution_count": 21,
     "metadata": {},
     "output_type": "execute_result"
    }
   ],
   "source": [
    "y_pred = model_dt.predict(X_val)\n",
    "mat = multilabel_confusion_matrix(y_val,y_pred)\n",
    "mat"
   ]
  },
  {
   "cell_type": "code",
   "execution_count": 22,
   "metadata": {},
   "outputs": [
    {
     "data": {
      "text/plain": [
       "(0.7271338454830616, 0.7362703279125566)"
      ]
     },
     "execution_count": 22,
     "metadata": {},
     "output_type": "execute_result"
    }
   ],
   "source": [
    "balanced_accuracy_score(y_val,y_pred), accuracy_score(y_val,y_pred)"
   ]
  },
  {
   "cell_type": "code",
   "execution_count": 23,
   "metadata": {},
   "outputs": [
    {
     "name": "stdout",
     "output_type": "stream",
     "text": [
      "DECISION TREE - Random Undersampler\n"
     ]
    },
    {
     "data": {
      "text/html": [
       "<div>\n",
       "<style scoped>\n",
       "    .dataframe tbody tr th:only-of-type {\n",
       "        vertical-align: middle;\n",
       "    }\n",
       "\n",
       "    .dataframe tbody tr th {\n",
       "        vertical-align: top;\n",
       "    }\n",
       "\n",
       "    .dataframe thead th {\n",
       "        text-align: right;\n",
       "    }\n",
       "</style>\n",
       "<table border=\"1\" class=\"dataframe\">\n",
       "  <thead>\n",
       "    <tr style=\"text-align: right;\">\n",
       "      <th></th>\n",
       "      <th>model</th>\n",
       "      <th>metrics</th>\n",
       "      <th>training_time(s)</th>\n",
       "    </tr>\n",
       "  </thead>\n",
       "  <tbody>\n",
       "    <tr>\n",
       "      <th>0</th>\n",
       "      <td>Decision_tree_no_preprocessing</td>\n",
       "      <td>{'0': {'precision': 0.8072413083727628, 'recal...</td>\n",
       "      <td>1.066185</td>\n",
       "    </tr>\n",
       "    <tr>\n",
       "      <th>1</th>\n",
       "      <td>Decision_tree_oversampling</td>\n",
       "      <td>{'0': {'precision': 0.8192645215211032, 'recal...</td>\n",
       "      <td>5.181477</td>\n",
       "    </tr>\n",
       "    <tr>\n",
       "      <th>2</th>\n",
       "      <td>Decision_tree_undersampling</td>\n",
       "      <td>{'0': {'precision': 0.8104424407632628, 'recal...</td>\n",
       "      <td>1.281096</td>\n",
       "    </tr>\n",
       "  </tbody>\n",
       "</table>\n",
       "</div>"
      ],
      "text/plain": [
       "                            model  \\\n",
       "0  Decision_tree_no_preprocessing   \n",
       "1      Decision_tree_oversampling   \n",
       "2     Decision_tree_undersampling   \n",
       "\n",
       "                                             metrics  training_time(s)  \n",
       "0  {'0': {'precision': 0.8072413083727628, 'recal...          1.066185  \n",
       "1  {'0': {'precision': 0.8192645215211032, 'recal...          5.181477  \n",
       "2  {'0': {'precision': 0.8104424407632628, 'recal...          1.281096  "
      ]
     },
     "execution_count": 23,
     "metadata": {},
     "output_type": "execute_result"
    }
   ],
   "source": [
    "print('DECISION TREE - Random Undersampler')\n",
    "x = classification_report(y_val, y_pred, labels = sorted(list(set(y_enc))), digits=4, output_dict=True)\n",
    "models.append({'model':'Decision_tree_undersampling', 'metrics': x, 'training_time(s)':(end-start)})\n",
    "pd.DataFrame(models)"
   ]
  },
  {
   "cell_type": "markdown",
   "metadata": {},
   "source": [
    "So, the performance is not vastly affected by the oversampling or undersampling => Decision tree is robust to imbalanced data\n",
    "\n",
    "### Random Forest"
   ]
  },
  {
   "cell_type": "code",
   "execution_count": 24,
   "metadata": {},
   "outputs": [],
   "source": [
    "from sklearn.ensemble import RandomForestClassifier"
   ]
  },
  {
   "cell_type": "code",
   "execution_count": 25,
   "metadata": {},
   "outputs": [
    {
     "name": "stdout",
     "output_type": "stream",
     "text": [
      "n_estimators: 5, time_taken: 1.4639389999210835s, accuracy: 0.7995867768595041\n",
      "n_estimators: 10, time_taken: 2.986446099821478s, accuracy: 0.8139829378832312\n",
      "n_estimators: 20, time_taken: 5.413364399923012s, accuracy: 0.8267795254598773\n",
      "n_estimators: 50, time_taken: 13.187157700071111s, accuracy: 0.8314449480138629\n",
      "n_estimators: 100, time_taken: 14.697851500008255s, accuracy: 0.8345107971207678\n",
      "n_estimators: 200, time_taken: 26.815963699948043s, accuracy: 0.8365769128232471\n",
      "n_estimators: 300, time_taken: 47.31647190009244s, accuracy: 0.8353105838443082\n"
     ]
    }
   ],
   "source": [
    "estims = [5,10,20,50,100,200,300]\n",
    "model = RandomForestClassifier()\n",
    "acc,tim = [], []\n",
    "for x in estims:\n",
    "    model = RandomForestClassifier(n_estimators=x,warm_start=True)\n",
    "    start = time.perf_counter()\n",
    "    model.fit(X_train,y_train)\n",
    "    end = time.perf_counter()\n",
    "    y_pred = model.predict(X_val)\n",
    "    _acc = accuracy_score(y_val,y_pred)\n",
    "    tim.append(end-start)\n",
    "    print(f'n_estimators: {x}, time_taken: {end-start}s, accuracy: {_acc}')\n",
    "    acc.append(_acc)"
   ]
  },
  {
   "cell_type": "markdown",
   "metadata": {},
   "source": [
    "Pick best model"
   ]
  },
  {
   "cell_type": "code",
   "execution_count": 26,
   "metadata": {},
   "outputs": [
    {
     "name": "stdout",
     "output_type": "stream",
     "text": [
      "n_estimators: 300, time_taken: 36.3925775999669s, accuracy: 0.834910690482538\n"
     ]
    }
   ],
   "source": [
    "model1 = RandomForestClassifier(n_estimators=estims[np.argmax(acc)],warm_start=True)\n",
    "start = time.perf_counter()\n",
    "model1.fit(X_train,y_train)\n",
    "end = time.perf_counter()\n",
    "y_pred = model1.predict(X_val)\n",
    "_acc = accuracy_score(y_val,y_pred)\n",
    "print(f'n_estimators: {x}, time_taken: {end-start}s, accuracy: {_acc}')"
   ]
  },
  {
   "cell_type": "code",
   "execution_count": 27,
   "metadata": {},
   "outputs": [
    {
     "data": {
      "text/plain": [
       "<bound method BaseEstimator.get_params of RandomForestClassifier(n_estimators=300, warm_start=True)>"
      ]
     },
     "execution_count": 27,
     "metadata": {},
     "output_type": "execute_result"
    }
   ],
   "source": [
    "model.get_params"
   ]
  },
  {
   "cell_type": "code",
   "execution_count": 28,
   "metadata": {},
   "outputs": [
    {
     "data": {
      "text/html": [
       "<div>\n",
       "<style scoped>\n",
       "    .dataframe tbody tr th:only-of-type {\n",
       "        vertical-align: middle;\n",
       "    }\n",
       "\n",
       "    .dataframe tbody tr th {\n",
       "        vertical-align: top;\n",
       "    }\n",
       "\n",
       "    .dataframe thead th {\n",
       "        text-align: right;\n",
       "    }\n",
       "</style>\n",
       "<table border=\"1\" class=\"dataframe\">\n",
       "  <thead>\n",
       "    <tr style=\"text-align: right;\">\n",
       "      <th></th>\n",
       "      <th>model</th>\n",
       "      <th>metrics</th>\n",
       "      <th>training_time(s)</th>\n",
       "    </tr>\n",
       "  </thead>\n",
       "  <tbody>\n",
       "    <tr>\n",
       "      <th>0</th>\n",
       "      <td>Decision_tree_no_preprocessing</td>\n",
       "      <td>{'0': {'precision': 0.8072413083727628, 'recal...</td>\n",
       "      <td>1.066185</td>\n",
       "    </tr>\n",
       "    <tr>\n",
       "      <th>1</th>\n",
       "      <td>Decision_tree_oversampling</td>\n",
       "      <td>{'0': {'precision': 0.8192645215211032, 'recal...</td>\n",
       "      <td>5.181477</td>\n",
       "    </tr>\n",
       "    <tr>\n",
       "      <th>2</th>\n",
       "      <td>Decision_tree_undersampling</td>\n",
       "      <td>{'0': {'precision': 0.8104424407632628, 'recal...</td>\n",
       "      <td>1.281096</td>\n",
       "    </tr>\n",
       "    <tr>\n",
       "      <th>3</th>\n",
       "      <td>RandomForest_no_preprocessing</td>\n",
       "      <td>{'0': {'precision': 0.946270853778214, 'recall...</td>\n",
       "      <td>47.316472</td>\n",
       "    </tr>\n",
       "  </tbody>\n",
       "</table>\n",
       "</div>"
      ],
      "text/plain": [
       "                            model  \\\n",
       "0  Decision_tree_no_preprocessing   \n",
       "1      Decision_tree_oversampling   \n",
       "2     Decision_tree_undersampling   \n",
       "3   RandomForest_no_preprocessing   \n",
       "\n",
       "                                             metrics  training_time(s)  \n",
       "0  {'0': {'precision': 0.8072413083727628, 'recal...          1.066185  \n",
       "1  {'0': {'precision': 0.8192645215211032, 'recal...          5.181477  \n",
       "2  {'0': {'precision': 0.8104424407632628, 'recal...          1.281096  \n",
       "3  {'0': {'precision': 0.946270853778214, 'recall...         47.316472  "
      ]
     },
     "execution_count": 28,
     "metadata": {},
     "output_type": "execute_result"
    }
   ],
   "source": [
    "y_pred = model.predict(X_val)\n",
    "x = classification_report(y_val, y_pred, digits=4, labels=sorted(list(set(y_enc))), output_dict=True)\n",
    "models.append({'model': 'RandomForest_no_preprocessing', 'metrics': x, 'training_time(s)': tim[-1]})\n",
    "pd.DataFrame(models)"
   ]
  },
  {
   "cell_type": "code",
   "execution_count": 29,
   "metadata": {},
   "outputs": [
    {
     "data": {
      "text/plain": [
       "Text(0.5, 1.0, 'Training time')"
      ]
     },
     "execution_count": 29,
     "metadata": {},
     "output_type": "execute_result"
    },
    {
     "data": {
      "image/png": "[encoded data removed]",
      "text/plain": [
       "<Figure size 1000x500 with 2 Axes>"
      ]
     },
     "metadata": {},
     "output_type": "display_data"
    }
   ],
   "source": [
    "fig = plt.figure(figsize=(10,5))\n",
    "\n",
    "ax1 = fig.add_subplot(121)\n",
    "ax1.plot(estims,acc)\n",
    "ax1.set_title('Accuracy')\n",
    "\n",
    "ax2 = fig.add_subplot(122)\n",
    "ax2.plot(estims,tim)\n",
    "ax2.set_title('Training time')"
   ]
  },
  {
   "cell_type": "markdown",
   "metadata": {},
   "source": [
    "Try with SMOTE"
   ]
  },
  {
   "cell_type": "code",
   "execution_count": 30,
   "metadata": {},
   "outputs": [
    {
     "name": "stdout",
     "output_type": "stream",
     "text": [
      "n_estimators: 5, time_taken: 2.297044500010088s, accuracy: 0.7995867768595041\n",
      "n_estimators: 10, time_taken: 3.569596700137481s, accuracy: 0.8180485203945614\n",
      "n_estimators: 20, time_taken: 8.607535799965262s, accuracy: 0.8261796854172221\n",
      "n_estimators: 50, time_taken: 20.697533099912107s, accuracy: 0.8317781924820048\n",
      "n_estimators: 100, time_taken: 72.84697670000605s, accuracy: 0.8329778725673154\n",
      "n_estimators: 200, time_taken: 111.21241220016964s, accuracy: 0.8335110637163423\n",
      "n_estimators: 300, time_taken: 134.349898400018s, accuracy: 0.8332444681418288\n"
     ]
    }
   ],
   "source": [
    "X_train1, y_train1 = SMOTE().fit_resample(X_train,y_train)\n",
    "estims = [5,10,20,50,100,200,300]\n",
    "model = RandomForestClassifier()\n",
    "acc,tim = [], []\n",
    "for x in estims:\n",
    "    model = RandomForestClassifier(n_estimators=x,warm_start=True)\n",
    "    start = time.perf_counter()\n",
    "    model.fit(X_train1,y_train1)\n",
    "    end = time.perf_counter()\n",
    "    y_pred = model.predict(X_val)\n",
    "    _acc = accuracy_score(y_val,y_pred)\n",
    "    tim.append(end-start)\n",
    "    print(f'n_estimators: {x}, time_taken: {end-start}s, accuracy: {_acc}')\n",
    "    acc.append(_acc)"
   ]
  },
  {
   "cell_type": "markdown",
   "metadata": {},
   "source": [
    "Pick best model"
   ]
  },
  {
   "cell_type": "code",
   "execution_count": 31,
   "metadata": {},
   "outputs": [
    {
     "name": "stdout",
     "output_type": "stream",
     "text": [
      "n_estimators: 200, time_taken: 109.96131150005385s, accuracy: 0.8330445214609438\n"
     ]
    }
   ],
   "source": [
    "model1 = RandomForestClassifier(n_estimators=estims[np.argmax(acc)],warm_start=True)\n",
    "start = time.perf_counter()\n",
    "model1.fit(X_train1,y_train1)\n",
    "end = time.perf_counter()\n",
    "y_pred = model1.predict(X_val)\n",
    "_acc = accuracy_score(y_val,y_pred)\n",
    "print(f'n_estimators: {estims[np.argmax(acc)]}, time_taken: {end-start}s, accuracy: {_acc}')"
   ]
  },
  {
   "cell_type": "code",
   "execution_count": 32,
   "metadata": {},
   "outputs": [
    {
     "data": {
      "text/plain": [
       "array([0.00086687, 0.00875009, 0.00759882, 0.01183261, 0.00069221,\n",
       "       0.00169284, 0.02044773, 0.01157121, 0.01150637, 0.01201701,\n",
       "       0.02299017, 0.00656748, 0.00043072, 0.00495055, 0.0188556 ,\n",
       "       0.01173874, 0.0241558 , 0.01618498, 0.00175634, 0.00909079,\n",
       "       0.03621919, 0.08947201, 0.06250715, 0.00150443, 0.00156258,\n",
       "       0.01112991, 0.04685576, 0.15013224, 0.10966183, 0.00160883,\n",
       "       0.01345917, 0.0124258 , 0.01455473, 0.00083398, 0.00767959,\n",
       "       0.01204089, 0.0007341 , 0.00187524, 0.01215713, 0.00040685,\n",
       "       0.00593324, 0.02142406, 0.02065922, 0.0173091 , 0.00185013,\n",
       "       0.05668794, 0.00155467, 0.00161082, 0.08083716, 0.00161534])"
      ]
     },
     "execution_count": 32,
     "metadata": {},
     "output_type": "execute_result"
    }
   ],
   "source": [
    "model.feature_importances_"
   ]
  },
  {
   "cell_type": "code",
   "execution_count": 33,
   "metadata": {},
   "outputs": [
    {
     "data": {
      "text/html": [
       "<div>\n",
       "<style scoped>\n",
       "    .dataframe tbody tr th:only-of-type {\n",
       "        vertical-align: middle;\n",
       "    }\n",
       "\n",
       "    .dataframe tbody tr th {\n",
       "        vertical-align: top;\n",
       "    }\n",
       "\n",
       "    .dataframe thead th {\n",
       "        text-align: right;\n",
       "    }\n",
       "</style>\n",
       "<table border=\"1\" class=\"dataframe\">\n",
       "  <thead>\n",
       "    <tr style=\"text-align: right;\">\n",
       "      <th></th>\n",
       "      <th>model</th>\n",
       "      <th>metrics</th>\n",
       "      <th>training_time(s)</th>\n",
       "    </tr>\n",
       "  </thead>\n",
       "  <tbody>\n",
       "    <tr>\n",
       "      <th>0</th>\n",
       "      <td>Decision_tree_no_preprocessing</td>\n",
       "      <td>{'0': {'precision': 0.8072413083727628, 'recal...</td>\n",
       "      <td>1.066185</td>\n",
       "    </tr>\n",
       "    <tr>\n",
       "      <th>1</th>\n",
       "      <td>Decision_tree_oversampling</td>\n",
       "      <td>{'0': {'precision': 0.8192645215211032, 'recal...</td>\n",
       "      <td>5.181477</td>\n",
       "    </tr>\n",
       "    <tr>\n",
       "      <th>2</th>\n",
       "      <td>Decision_tree_undersampling</td>\n",
       "      <td>{'0': {'precision': 0.8104424407632628, 'recal...</td>\n",
       "      <td>1.281096</td>\n",
       "    </tr>\n",
       "    <tr>\n",
       "      <th>3</th>\n",
       "      <td>RandomForest_no_preprocessing</td>\n",
       "      <td>{'0': {'precision': 0.946270853778214, 'recall...</td>\n",
       "      <td>47.316472</td>\n",
       "    </tr>\n",
       "    <tr>\n",
       "      <th>4</th>\n",
       "      <td>RandomForest_oversampling</td>\n",
       "      <td>{'0': {'precision': 0.9532687049465572, 'recal...</td>\n",
       "      <td>134.349898</td>\n",
       "    </tr>\n",
       "  </tbody>\n",
       "</table>\n",
       "</div>"
      ],
      "text/plain": [
       "                            model  \\\n",
       "0  Decision_tree_no_preprocessing   \n",
       "1      Decision_tree_oversampling   \n",
       "2     Decision_tree_undersampling   \n",
       "3   RandomForest_no_preprocessing   \n",
       "4       RandomForest_oversampling   \n",
       "\n",
       "                                             metrics  training_time(s)  \n",
       "0  {'0': {'precision': 0.8072413083727628, 'recal...          1.066185  \n",
       "1  {'0': {'precision': 0.8192645215211032, 'recal...          5.181477  \n",
       "2  {'0': {'precision': 0.8104424407632628, 'recal...          1.281096  \n",
       "3  {'0': {'precision': 0.946270853778214, 'recall...         47.316472  \n",
       "4  {'0': {'precision': 0.9532687049465572, 'recal...        134.349898  "
      ]
     },
     "execution_count": 33,
     "metadata": {},
     "output_type": "execute_result"
    }
   ],
   "source": [
    "y_pred = model.predict(X_val)\n",
    "x = classification_report(y_val, y_pred, digits=4, labels=sorted(list(set(y_enc))), output_dict=True)\n",
    "models.append({'model': 'RandomForest_oversampling', 'metrics': x, 'training_time(s)': tim[-1]})\n",
    "pd.DataFrame(models)"
   ]
  },
  {
   "cell_type": "code",
   "execution_count": 34,
   "metadata": {},
   "outputs": [
    {
     "data": {
      "text/plain": [
       "Text(0.5, 1.0, 'Training time')"
      ]
     },
     "execution_count": 34,
     "metadata": {},
     "output_type": "execute_result"
    },
    {
     "data": {
      "image/png": "[encoded data removed]",
      "text/plain": [
       "<Figure size 1000x500 with 2 Axes>"
      ]
     },
     "metadata": {},
     "output_type": "display_data"
    }
   ],
   "source": [
    "fig = plt.figure(figsize=(10,5))\n",
    "\n",
    "ax1 = fig.add_subplot(121)\n",
    "ax1.plot(estims,acc)\n",
    "ax1.set_title('Accuracy')\n",
    "\n",
    "ax2 = fig.add_subplot(122)\n",
    "ax2.plot(estims,tim)\n",
    "ax2.set_title('Training time')\n"
   ]
  },
  {
   "cell_type": "markdown",
   "metadata": {},
   "source": [
    "Let's try Undersampling"
   ]
  },
  {
   "cell_type": "code",
   "execution_count": 35,
   "metadata": {},
   "outputs": [
    {
     "name": "stdout",
     "output_type": "stream",
     "text": [
      "n_estimators: 5, time_taken: 0.8623602001462132s, accuracy: 0.7754598773660357\n",
      "n_estimators: 10, time_taken: 1.6096657998859882s, accuracy: 0.7910557184750733\n",
      "n_estimators: 20, time_taken: 3.5772107001394033s, accuracy: 0.8039189549453479\n",
      "n_estimators: 50, time_taken: 6.019068199908361s, accuracy: 0.8121167688616369\n",
      "n_estimators: 100, time_taken: 8.261339199962094s, accuracy: 0.8135163956278326\n",
      "n_estimators: 200, time_taken: 29.962966099847108s, accuracy: 0.8148493735003999\n",
      "n_estimators: 300, time_taken: 32.30679100006819s, accuracy: 0.8173153825646494\n"
     ]
    }
   ],
   "source": [
    "X_train1, y_train1 = RandomUnderSampler().fit_resample(X_train,y_train)\n",
    "estims = [5,10,20,50,100,200,300]\n",
    "model = RandomForestClassifier()\n",
    "acc,tim = [], []\n",
    "for x in estims:\n",
    "    model = RandomForestClassifier(n_estimators=x,warm_start=True)\n",
    "    start = time.perf_counter()\n",
    "    model.fit(X_train1,y_train1)\n",
    "    end = time.perf_counter()\n",
    "    y_pred = model.predict(X_val)\n",
    "    _acc = accuracy_score(y_val,y_pred)\n",
    "    tim.append(end-start)\n",
    "    print(f'n_estimators: {x}, time_taken: {end-start}s, accuracy: {_acc}')\n",
    "    acc.append(_acc)"
   ]
  },
  {
   "cell_type": "markdown",
   "metadata": {},
   "source": [
    "Pick best model"
   ]
  },
  {
   "cell_type": "code",
   "execution_count": 36,
   "metadata": {},
   "outputs": [
    {
     "name": "stdout",
     "output_type": "stream",
     "text": [
      "n_estimators: 300, time_taken: 24.874332499923185s, accuracy: 0.8168488403092509\n"
     ]
    }
   ],
   "source": [
    "model1 = RandomForestClassifier(n_estimators=estims[np.argmax(acc)],warm_start=True)\n",
    "start = time.perf_counter()\n",
    "model1.fit(X_train1,y_train1)\n",
    "end = time.perf_counter()\n",
    "y_pred = model1.predict(X_val)\n",
    "_acc = accuracy_score(y_val,y_pred)\n",
    "print(f'n_estimators: {estims[np.argmax(acc)]}, time_taken: {end-start}s, accuracy: {_acc}')"
   ]
  },
  {
   "cell_type": "code",
   "execution_count": 37,
   "metadata": {},
   "outputs": [
    {
     "data": {
      "text/plain": [
       "array([0.00082644, 0.01193799, 0.00857145, 0.01604411, 0.00107902,\n",
       "       0.00223376, 0.02731321, 0.01445519, 0.01445587, 0.01463447,\n",
       "       0.03252089, 0.00581013, 0.00037   , 0.00423123, 0.01681652,\n",
       "       0.00692605, 0.0122623 , 0.01927631, 0.00199534, 0.00979924,\n",
       "       0.03472746, 0.08250975, 0.0869888 , 0.001596  , 0.00155632,\n",
       "       0.00985803, 0.04481059, 0.11473117, 0.11111618, 0.0016972 ,\n",
       "       0.01617353, 0.01437229, 0.01661194, 0.0008122 , 0.00852519,\n",
       "       0.01584951, 0.00104561, 0.00219135, 0.01438968, 0.00038324,\n",
       "       0.00393679, 0.01685159, 0.01278002, 0.01839015, 0.00191932,\n",
       "       0.05938283, 0.00160635, 0.00159162, 0.08034073, 0.00169508])"
      ]
     },
     "execution_count": 37,
     "metadata": {},
     "output_type": "execute_result"
    }
   ],
   "source": [
    "model.feature_importances_"
   ]
  },
  {
   "cell_type": "code",
   "execution_count": 38,
   "metadata": {},
   "outputs": [
    {
     "data": {
      "text/html": [
       "<div>\n",
       "<style scoped>\n",
       "    .dataframe tbody tr th:only-of-type {\n",
       "        vertical-align: middle;\n",
       "    }\n",
       "\n",
       "    .dataframe tbody tr th {\n",
       "        vertical-align: top;\n",
       "    }\n",
       "\n",
       "    .dataframe thead th {\n",
       "        text-align: right;\n",
       "    }\n",
       "</style>\n",
       "<table border=\"1\" class=\"dataframe\">\n",
       "  <thead>\n",
       "    <tr style=\"text-align: right;\">\n",
       "      <th></th>\n",
       "      <th>model</th>\n",
       "      <th>metrics</th>\n",
       "      <th>training_time(s)</th>\n",
       "    </tr>\n",
       "  </thead>\n",
       "  <tbody>\n",
       "    <tr>\n",
       "      <th>0</th>\n",
       "      <td>Decision_tree_no_preprocessing</td>\n",
       "      <td>{'0': {'precision': 0.8072413083727628, 'recal...</td>\n",
       "      <td>1.066185</td>\n",
       "    </tr>\n",
       "    <tr>\n",
       "      <th>1</th>\n",
       "      <td>Decision_tree_oversampling</td>\n",
       "      <td>{'0': {'precision': 0.8192645215211032, 'recal...</td>\n",
       "      <td>5.181477</td>\n",
       "    </tr>\n",
       "    <tr>\n",
       "      <th>2</th>\n",
       "      <td>Decision_tree_undersampling</td>\n",
       "      <td>{'0': {'precision': 0.8104424407632628, 'recal...</td>\n",
       "      <td>1.281096</td>\n",
       "    </tr>\n",
       "    <tr>\n",
       "      <th>3</th>\n",
       "      <td>RandomForest_no_preprocessing</td>\n",
       "      <td>{'0': {'precision': 0.946270853778214, 'recall...</td>\n",
       "      <td>47.316472</td>\n",
       "    </tr>\n",
       "    <tr>\n",
       "      <th>4</th>\n",
       "      <td>RandomForest_oversampling</td>\n",
       "      <td>{'0': {'precision': 0.9532687049465572, 'recal...</td>\n",
       "      <td>134.349898</td>\n",
       "    </tr>\n",
       "    <tr>\n",
       "      <th>5</th>\n",
       "      <td>RandomForest_undersampling</td>\n",
       "      <td>{'0': {'precision': 0.9706874189364462, 'recal...</td>\n",
       "      <td>32.306791</td>\n",
       "    </tr>\n",
       "  </tbody>\n",
       "</table>\n",
       "</div>"
      ],
      "text/plain": [
       "                            model  \\\n",
       "0  Decision_tree_no_preprocessing   \n",
       "1      Decision_tree_oversampling   \n",
       "2     Decision_tree_undersampling   \n",
       "3   RandomForest_no_preprocessing   \n",
       "4       RandomForest_oversampling   \n",
       "5      RandomForest_undersampling   \n",
       "\n",
       "                                             metrics  training_time(s)  \n",
       "0  {'0': {'precision': 0.8072413083727628, 'recal...          1.066185  \n",
       "1  {'0': {'precision': 0.8192645215211032, 'recal...          5.181477  \n",
       "2  {'0': {'precision': 0.8104424407632628, 'recal...          1.281096  \n",
       "3  {'0': {'precision': 0.946270853778214, 'recall...         47.316472  \n",
       "4  {'0': {'precision': 0.9532687049465572, 'recal...        134.349898  \n",
       "5  {'0': {'precision': 0.9706874189364462, 'recal...         32.306791  "
      ]
     },
     "execution_count": 38,
     "metadata": {},
     "output_type": "execute_result"
    }
   ],
   "source": [
    "y_pred = model.predict(X_val)\n",
    "x = classification_report(y_val, y_pred, digits=4, labels=sorted(list(set(y_enc))), output_dict=True)\n",
    "models.append({'model': 'RandomForest_undersampling', 'metrics': x, 'training_time(s)': tim[-1]})\n",
    "pd.DataFrame(models)"
   ]
  },
  {
   "cell_type": "code",
   "execution_count": 39,
   "metadata": {},
   "outputs": [
    {
     "data": {
      "text/plain": [
       "Text(0.5, 1.0, 'Training time')"
      ]
     },
     "execution_count": 39,
     "metadata": {},
     "output_type": "execute_result"
    },
    {
     "data": {
      "image/png": "[encoded data removed]",
      "text/plain": [
       "<Figure size 1000x500 with 2 Axes>"
      ]
     },
     "metadata": {},
     "output_type": "display_data"
    }
   ],
   "source": [
    "fig = plt.figure(figsize=(10,5))\n",
    "\n",
    "ax1 = fig.add_subplot(121)\n",
    "ax1.plot(estims,acc)\n",
    "ax1.set_title('Accuracy')\n",
    "\n",
    "ax2 = fig.add_subplot(122)\n",
    "ax2.plot(estims,tim)\n",
    "ax2.set_title('Training time')\n"
   ]
  },
  {
   "cell_type": "markdown",
   "metadata": {},
   "source": [
    "### Naive Bayes"
   ]
  },
  {
   "cell_type": "code",
   "execution_count": 40,
   "metadata": {},
   "outputs": [],
   "source": [
    "from sklearn.naive_bayes import GaussianNB"
   ]
  },
  {
   "cell_type": "code",
   "execution_count": 41,
   "metadata": {},
   "outputs": [
    {
     "name": "stdout",
     "output_type": "stream",
     "text": [
      "CPU times: total: 62.5 ms\n",
      "Wall time: 93.1 ms\n"
     ]
    }
   ],
   "source": [
    "%%time\n",
    "model_nb = GaussianNB()\n",
    "start = time.perf_counter()\n",
    "model_nb.fit(X_train, y_train)\n",
    "end = time.perf_counter()"
   ]
  },
  {
   "cell_type": "code",
   "execution_count": 42,
   "metadata": {},
   "outputs": [
    {
     "data": {
      "text/plain": [
       "array([[[ 9667,   638],\n",
       "        [ 1001,  3698]],\n",
       "\n",
       "       [[10821,  1222],\n",
       "        [ 1635,  1326]],\n",
       "\n",
       "       [[ 5905,  1755],\n",
       "        [  979,  6365]]], dtype=int64)"
      ]
     },
     "execution_count": 42,
     "metadata": {},
     "output_type": "execute_result"
    }
   ],
   "source": [
    "y_pred = model_nb.predict(X_val)\n",
    "mat = multilabel_confusion_matrix(y_val,y_pred)\n",
    "mat"
   ]
  },
  {
   "cell_type": "code",
   "execution_count": 43,
   "metadata": {},
   "outputs": [
    {
     "data": {
      "text/plain": [
       "(0.7004971779922178, 0.7590642495334577)"
      ]
     },
     "execution_count": 43,
     "metadata": {},
     "output_type": "execute_result"
    }
   ],
   "source": [
    "balanced_accuracy_score(y_val,y_pred), accuracy_score(y_val,y_pred)"
   ]
  },
  {
   "cell_type": "code",
   "execution_count": 44,
   "metadata": {},
   "outputs": [
    {
     "name": "stdout",
     "output_type": "stream",
     "text": [
      "NAIVE BAYES - No preprocessing\n"
     ]
    },
    {
     "data": {
      "text/html": [
       "<div>\n",
       "<style scoped>\n",
       "    .dataframe tbody tr th:only-of-type {\n",
       "        vertical-align: middle;\n",
       "    }\n",
       "\n",
       "    .dataframe tbody tr th {\n",
       "        vertical-align: top;\n",
       "    }\n",
       "\n",
       "    .dataframe thead th {\n",
       "        text-align: right;\n",
       "    }\n",
       "</style>\n",
       "<table border=\"1\" class=\"dataframe\">\n",
       "  <thead>\n",
       "    <tr style=\"text-align: right;\">\n",
       "      <th></th>\n",
       "      <th>model</th>\n",
       "      <th>metrics</th>\n",
       "      <th>training_time(s)</th>\n",
       "    </tr>\n",
       "  </thead>\n",
       "  <tbody>\n",
       "    <tr>\n",
       "      <th>0</th>\n",
       "      <td>Decision_tree_no_preprocessing</td>\n",
       "      <td>{'0': {'precision': 0.8072413083727628, 'recal...</td>\n",
       "      <td>1.066185</td>\n",
       "    </tr>\n",
       "    <tr>\n",
       "      <th>1</th>\n",
       "      <td>Decision_tree_oversampling</td>\n",
       "      <td>{'0': {'precision': 0.8192645215211032, 'recal...</td>\n",
       "      <td>5.181477</td>\n",
       "    </tr>\n",
       "    <tr>\n",
       "      <th>2</th>\n",
       "      <td>Decision_tree_undersampling</td>\n",
       "      <td>{'0': {'precision': 0.8104424407632628, 'recal...</td>\n",
       "      <td>1.281096</td>\n",
       "    </tr>\n",
       "    <tr>\n",
       "      <th>3</th>\n",
       "      <td>RandomForest_no_preprocessing</td>\n",
       "      <td>{'0': {'precision': 0.946270853778214, 'recall...</td>\n",
       "      <td>47.316472</td>\n",
       "    </tr>\n",
       "    <tr>\n",
       "      <th>4</th>\n",
       "      <td>RandomForest_oversampling</td>\n",
       "      <td>{'0': {'precision': 0.9532687049465572, 'recal...</td>\n",
       "      <td>134.349898</td>\n",
       "    </tr>\n",
       "    <tr>\n",
       "      <th>5</th>\n",
       "      <td>RandomForest_undersampling</td>\n",
       "      <td>{'0': {'precision': 0.9706874189364462, 'recal...</td>\n",
       "      <td>32.306791</td>\n",
       "    </tr>\n",
       "    <tr>\n",
       "      <th>6</th>\n",
       "      <td>Naive_Bayes_no_preprocessing</td>\n",
       "      <td>{'0': {'precision': 0.852859778597786, 'recall...</td>\n",
       "      <td>0.093065</td>\n",
       "    </tr>\n",
       "  </tbody>\n",
       "</table>\n",
       "</div>"
      ],
      "text/plain": [
       "                            model  \\\n",
       "0  Decision_tree_no_preprocessing   \n",
       "1      Decision_tree_oversampling   \n",
       "2     Decision_tree_undersampling   \n",
       "3   RandomForest_no_preprocessing   \n",
       "4       RandomForest_oversampling   \n",
       "5      RandomForest_undersampling   \n",
       "6    Naive_Bayes_no_preprocessing   \n",
       "\n",
       "                                             metrics  training_time(s)  \n",
       "0  {'0': {'precision': 0.8072413083727628, 'recal...          1.066185  \n",
       "1  {'0': {'precision': 0.8192645215211032, 'recal...          5.181477  \n",
       "2  {'0': {'precision': 0.8104424407632628, 'recal...          1.281096  \n",
       "3  {'0': {'precision': 0.946270853778214, 'recall...         47.316472  \n",
       "4  {'0': {'precision': 0.9532687049465572, 'recal...        134.349898  \n",
       "5  {'0': {'precision': 0.9706874189364462, 'recal...         32.306791  \n",
       "6  {'0': {'precision': 0.852859778597786, 'recall...          0.093065  "
      ]
     },
     "execution_count": 44,
     "metadata": {},
     "output_type": "execute_result"
    }
   ],
   "source": [
    "print('NAIVE BAYES - No preprocessing')\n",
    "x = classification_report(y_val, y_pred, labels = sorted(list(set(y_enc))), digits=4, output_dict=True)\n",
    "models.append({'model':'Naive_Bayes_no_preprocessing', 'metrics': x, 'training_time(s)':(end-start)})\n",
    "pd.DataFrame(models)"
   ]
  },
  {
   "cell_type": "markdown",
   "metadata": {},
   "source": [
    "Let's try oversampling "
   ]
  },
  {
   "cell_type": "code",
   "execution_count": 45,
   "metadata": {},
   "outputs": [],
   "source": [
    "X_train1, y_train1 = SMOTE().fit_resample(X_train, y_train)"
   ]
  },
  {
   "cell_type": "code",
   "execution_count": 46,
   "metadata": {},
   "outputs": [
    {
     "name": "stdout",
     "output_type": "stream",
     "text": [
      "CPU times: total: 281 ms\n",
      "Wall time: 101 ms\n"
     ]
    }
   ],
   "source": [
    "%%time\n",
    "model_nb = GaussianNB()\n",
    "start = time.perf_counter()\n",
    "model_nb.fit(X_train1,y_train1)\n",
    "end = time.perf_counter()"
   ]
  },
  {
   "cell_type": "code",
   "execution_count": 47,
   "metadata": {},
   "outputs": [
    {
     "data": {
      "text/plain": [
       "array([[[ 9623,   682],\n",
       "        [  986,  3713]],\n",
       "\n",
       "       [[10399,  1644],\n",
       "        [ 1226,  1735]],\n",
       "\n",
       "       [[ 6444,  1216],\n",
       "        [ 1330,  6014]]], dtype=int64)"
      ]
     },
     "execution_count": 47,
     "metadata": {},
     "output_type": "execute_result"
    }
   ],
   "source": [
    "y_pred = model_nb.predict(X_val)\n",
    "mat = multilabel_confusion_matrix(y_val,y_pred)\n",
    "mat"
   ]
  },
  {
   "cell_type": "code",
   "execution_count": 48,
   "metadata": {},
   "outputs": [
    {
     "data": {
      "text/plain": [
       "(0.7316728651151765, 0.7639296187683284)"
      ]
     },
     "execution_count": 48,
     "metadata": {},
     "output_type": "execute_result"
    }
   ],
   "source": [
    "balanced_accuracy_score(y_val,y_pred), accuracy_score(y_val,y_pred)"
   ]
  },
  {
   "cell_type": "code",
   "execution_count": 49,
   "metadata": {},
   "outputs": [
    {
     "data": {
      "text/html": [
       "<div>\n",
       "<style scoped>\n",
       "    .dataframe tbody tr th:only-of-type {\n",
       "        vertical-align: middle;\n",
       "    }\n",
       "\n",
       "    .dataframe tbody tr th {\n",
       "        vertical-align: top;\n",
       "    }\n",
       "\n",
       "    .dataframe thead th {\n",
       "        text-align: right;\n",
       "    }\n",
       "</style>\n",
       "<table border=\"1\" class=\"dataframe\">\n",
       "  <thead>\n",
       "    <tr style=\"text-align: right;\">\n",
       "      <th></th>\n",
       "      <th>model</th>\n",
       "      <th>metrics</th>\n",
       "      <th>training_time(s)</th>\n",
       "    </tr>\n",
       "  </thead>\n",
       "  <tbody>\n",
       "    <tr>\n",
       "      <th>0</th>\n",
       "      <td>Decision_tree_no_preprocessing</td>\n",
       "      <td>{'0': {'precision': 0.8072413083727628, 'recal...</td>\n",
       "      <td>1.066185</td>\n",
       "    </tr>\n",
       "    <tr>\n",
       "      <th>1</th>\n",
       "      <td>Decision_tree_oversampling</td>\n",
       "      <td>{'0': {'precision': 0.8192645215211032, 'recal...</td>\n",
       "      <td>5.181477</td>\n",
       "    </tr>\n",
       "    <tr>\n",
       "      <th>2</th>\n",
       "      <td>Decision_tree_undersampling</td>\n",
       "      <td>{'0': {'precision': 0.8104424407632628, 'recal...</td>\n",
       "      <td>1.281096</td>\n",
       "    </tr>\n",
       "    <tr>\n",
       "      <th>3</th>\n",
       "      <td>RandomForest_no_preprocessing</td>\n",
       "      <td>{'0': {'precision': 0.946270853778214, 'recall...</td>\n",
       "      <td>47.316472</td>\n",
       "    </tr>\n",
       "    <tr>\n",
       "      <th>4</th>\n",
       "      <td>RandomForest_oversampling</td>\n",
       "      <td>{'0': {'precision': 0.9532687049465572, 'recal...</td>\n",
       "      <td>134.349898</td>\n",
       "    </tr>\n",
       "    <tr>\n",
       "      <th>5</th>\n",
       "      <td>RandomForest_undersampling</td>\n",
       "      <td>{'0': {'precision': 0.9706874189364462, 'recal...</td>\n",
       "      <td>32.306791</td>\n",
       "    </tr>\n",
       "    <tr>\n",
       "      <th>6</th>\n",
       "      <td>Naive_Bayes_no_preprocessing</td>\n",
       "      <td>{'0': {'precision': 0.852859778597786, 'recall...</td>\n",
       "      <td>0.093065</td>\n",
       "    </tr>\n",
       "    <tr>\n",
       "      <th>7</th>\n",
       "      <td>Naive_Bayes_oversampling</td>\n",
       "      <td>{'0': {'precision': 0.8448236632536974, 'recal...</td>\n",
       "      <td>0.101237</td>\n",
       "    </tr>\n",
       "  </tbody>\n",
       "</table>\n",
       "</div>"
      ],
      "text/plain": [
       "                            model  \\\n",
       "0  Decision_tree_no_preprocessing   \n",
       "1      Decision_tree_oversampling   \n",
       "2     Decision_tree_undersampling   \n",
       "3   RandomForest_no_preprocessing   \n",
       "4       RandomForest_oversampling   \n",
       "5      RandomForest_undersampling   \n",
       "6    Naive_Bayes_no_preprocessing   \n",
       "7        Naive_Bayes_oversampling   \n",
       "\n",
       "                                             metrics  training_time(s)  \n",
       "0  {'0': {'precision': 0.8072413083727628, 'recal...          1.066185  \n",
       "1  {'0': {'precision': 0.8192645215211032, 'recal...          5.181477  \n",
       "2  {'0': {'precision': 0.8104424407632628, 'recal...          1.281096  \n",
       "3  {'0': {'precision': 0.946270853778214, 'recall...         47.316472  \n",
       "4  {'0': {'precision': 0.9532687049465572, 'recal...        134.349898  \n",
       "5  {'0': {'precision': 0.9706874189364462, 'recal...         32.306791  \n",
       "6  {'0': {'precision': 0.852859778597786, 'recall...          0.093065  \n",
       "7  {'0': {'precision': 0.8448236632536974, 'recal...          0.101237  "
      ]
     },
     "execution_count": 49,
     "metadata": {},
     "output_type": "execute_result"
    }
   ],
   "source": [
    "x = classification_report(y_val, y_pred, digits=4, labels=sorted(list(set(y_enc))), output_dict=True)\n",
    "models.append({'model': 'Naive_Bayes_oversampling', 'metrics': x, 'training_time(s)': (end-start)})\n",
    "pd.DataFrame(models)"
   ]
  },
  {
   "cell_type": "markdown",
   "metadata": {},
   "source": [
    "Let's try undersampling"
   ]
  },
  {
   "cell_type": "code",
   "execution_count": 50,
   "metadata": {},
   "outputs": [],
   "source": [
    "X_train1, y_train1 = RandomUnderSampler().fit_resample(X_train, y_train)"
   ]
  },
  {
   "cell_type": "code",
   "execution_count": 51,
   "metadata": {},
   "outputs": [
    {
     "name": "stdout",
     "output_type": "stream",
     "text": [
      "CPU times: total: 0 ns\n",
      "Wall time: 36.8 ms\n"
     ]
    }
   ],
   "source": [
    "%%time\n",
    "model_nb = GaussianNB()\n",
    "start = time.perf_counter()\n",
    "model_nb.fit(X_train1,y_train1)\n",
    "end = time.perf_counter()"
   ]
  },
  {
   "cell_type": "code",
   "execution_count": 52,
   "metadata": {},
   "outputs": [
    {
     "data": {
      "text/plain": [
       "array([[[ 9664,   641],\n",
       "        [ 1004,  3695]],\n",
       "\n",
       "       [[10726,  1317],\n",
       "        [ 1534,  1427]],\n",
       "\n",
       "       [[ 6032,  1628],\n",
       "        [ 1048,  6296]]], dtype=int64)"
      ]
     },
     "execution_count": 52,
     "metadata": {},
     "output_type": "execute_result"
    }
   ],
   "source": [
    "y_pred = model_nb.predict(X_val)\n",
    "mat = multilabel_confusion_matrix(y_val,y_pred)\n",
    "mat"
   ]
  },
  {
   "cell_type": "code",
   "execution_count": 53,
   "metadata": {},
   "outputs": [
    {
     "data": {
      "text/plain": [
       "(0.7085225911235457, 0.7609970674486803)"
      ]
     },
     "execution_count": 53,
     "metadata": {},
     "output_type": "execute_result"
    }
   ],
   "source": [
    "balanced_accuracy_score(y_val,y_pred), accuracy_score(y_val,y_pred)"
   ]
  },
  {
   "cell_type": "code",
   "execution_count": 54,
   "metadata": {},
   "outputs": [
    {
     "data": {
      "text/html": [
       "<div>\n",
       "<style scoped>\n",
       "    .dataframe tbody tr th:only-of-type {\n",
       "        vertical-align: middle;\n",
       "    }\n",
       "\n",
       "    .dataframe tbody tr th {\n",
       "        vertical-align: top;\n",
       "    }\n",
       "\n",
       "    .dataframe thead th {\n",
       "        text-align: right;\n",
       "    }\n",
       "</style>\n",
       "<table border=\"1\" class=\"dataframe\">\n",
       "  <thead>\n",
       "    <tr style=\"text-align: right;\">\n",
       "      <th></th>\n",
       "      <th>model</th>\n",
       "      <th>metrics</th>\n",
       "      <th>training_time(s)</th>\n",
       "    </tr>\n",
       "  </thead>\n",
       "  <tbody>\n",
       "    <tr>\n",
       "      <th>0</th>\n",
       "      <td>Decision_tree_no_preprocessing</td>\n",
       "      <td>{'0': {'precision': 0.8072413083727628, 'recal...</td>\n",
       "      <td>1.066185</td>\n",
       "    </tr>\n",
       "    <tr>\n",
       "      <th>1</th>\n",
       "      <td>Decision_tree_oversampling</td>\n",
       "      <td>{'0': {'precision': 0.8192645215211032, 'recal...</td>\n",
       "      <td>5.181477</td>\n",
       "    </tr>\n",
       "    <tr>\n",
       "      <th>2</th>\n",
       "      <td>Decision_tree_undersampling</td>\n",
       "      <td>{'0': {'precision': 0.8104424407632628, 'recal...</td>\n",
       "      <td>1.281096</td>\n",
       "    </tr>\n",
       "    <tr>\n",
       "      <th>3</th>\n",
       "      <td>RandomForest_no_preprocessing</td>\n",
       "      <td>{'0': {'precision': 0.946270853778214, 'recall...</td>\n",
       "      <td>47.316472</td>\n",
       "    </tr>\n",
       "    <tr>\n",
       "      <th>4</th>\n",
       "      <td>RandomForest_oversampling</td>\n",
       "      <td>{'0': {'precision': 0.9532687049465572, 'recal...</td>\n",
       "      <td>134.349898</td>\n",
       "    </tr>\n",
       "    <tr>\n",
       "      <th>5</th>\n",
       "      <td>RandomForest_undersampling</td>\n",
       "      <td>{'0': {'precision': 0.9706874189364462, 'recal...</td>\n",
       "      <td>32.306791</td>\n",
       "    </tr>\n",
       "    <tr>\n",
       "      <th>6</th>\n",
       "      <td>Naive_Bayes_no_preprocessing</td>\n",
       "      <td>{'0': {'precision': 0.852859778597786, 'recall...</td>\n",
       "      <td>0.093065</td>\n",
       "    </tr>\n",
       "    <tr>\n",
       "      <th>7</th>\n",
       "      <td>Naive_Bayes_oversampling</td>\n",
       "      <td>{'0': {'precision': 0.8448236632536974, 'recal...</td>\n",
       "      <td>0.101237</td>\n",
       "    </tr>\n",
       "    <tr>\n",
       "      <th>8</th>\n",
       "      <td>Naive_Bayes_undersampling</td>\n",
       "      <td>{'0': {'precision': 0.8521678966789668, 'recal...</td>\n",
       "      <td>0.037619</td>\n",
       "    </tr>\n",
       "  </tbody>\n",
       "</table>\n",
       "</div>"
      ],
      "text/plain": [
       "                            model  \\\n",
       "0  Decision_tree_no_preprocessing   \n",
       "1      Decision_tree_oversampling   \n",
       "2     Decision_tree_undersampling   \n",
       "3   RandomForest_no_preprocessing   \n",
       "4       RandomForest_oversampling   \n",
       "5      RandomForest_undersampling   \n",
       "6    Naive_Bayes_no_preprocessing   \n",
       "7        Naive_Bayes_oversampling   \n",
       "8       Naive_Bayes_undersampling   \n",
       "\n",
       "                                             metrics  training_time(s)  \n",
       "0  {'0': {'precision': 0.8072413083727628, 'recal...          1.066185  \n",
       "1  {'0': {'precision': 0.8192645215211032, 'recal...          5.181477  \n",
       "2  {'0': {'precision': 0.8104424407632628, 'recal...          1.281096  \n",
       "3  {'0': {'precision': 0.946270853778214, 'recall...         47.316472  \n",
       "4  {'0': {'precision': 0.9532687049465572, 'recal...        134.349898  \n",
       "5  {'0': {'precision': 0.9706874189364462, 'recal...         32.306791  \n",
       "6  {'0': {'precision': 0.852859778597786, 'recall...          0.093065  \n",
       "7  {'0': {'precision': 0.8448236632536974, 'recal...          0.101237  \n",
       "8  {'0': {'precision': 0.8521678966789668, 'recal...          0.037619  "
      ]
     },
     "execution_count": 54,
     "metadata": {},
     "output_type": "execute_result"
    }
   ],
   "source": [
    "x = classification_report(y_val, y_pred, digits=4, labels=sorted(list(set(y_enc))), output_dict=True)\n",
    "models.append({'model': 'Naive_Bayes_undersampling', 'metrics': x, 'training_time(s)': (end-start)})\n",
    "pd.DataFrame(models)"
   ]
  },
  {
   "cell_type": "markdown",
   "metadata": {},
   "source": [
    "### K Nearest Neighbors"
   ]
  },
  {
   "cell_type": "code",
   "execution_count": 60,
   "metadata": {},
   "outputs": [],
   "source": [
    "from sklearn.neighbors import KNeighborsClassifier"
   ]
  },
  {
   "cell_type": "code",
   "execution_count": 61,
   "metadata": {},
   "outputs": [
    {
     "name": "stdout",
     "output_type": "stream",
     "text": [
      "n_neighbors: 3, time_taken: 0.013904700055718422s, accuracy: 0.7342042122100774\n",
      "n_neighbors: 5, time_taken: 0.01322800014168024s, accuracy: 0.7457344708077845\n",
      "n_neighbors: 10, time_taken: 0.00706010009162128s, accuracy: 0.753998933617702\n",
      "n_neighbors: 15, time_taken: 0.006334200035780668s, accuracy: 0.753998933617702\n",
      "n_neighbors: 20, time_taken: 0.007885999977588654s, accuracy: 0.7530658491069048\n",
      "n_neighbors: 25, time_taken: 0.01021880004554987s, accuracy: 0.751266328978939\n",
      "n_neighbors: 50, time_taken: 0.009707899997010827s, accuracy: 0.7434684084244202\n",
      "n_neighbors: 100, time_taken: 0.006164100021123886s, accuracy: 0.7292055451879499\n",
      "n_neighbors: 200, time_taken: 0.00973709998652339s, accuracy: 0.7113436416955479\n",
      "n_neighbors: 400, time_taken: 0.00720779993571341s, accuracy: 0.6866169021594242\n",
      "n_neighbors: 800, time_taken: 0.008246499812230468s, accuracy: 0.6582244734737404\n"
     ]
    }
   ],
   "source": [
    "nbors = [3,5,10,15,20,25,50,100,200,400,800]\n",
    "tim, acc = [], []\n",
    "model_knn = KNeighborsClassifier()\n",
    "\n",
    "for n in nbors:\n",
    "    model_knn = KNeighborsClassifier(n_neighbors=n)\n",
    "    start = time.perf_counter()\n",
    "    model_knn.fit(X_train,y_train)\n",
    "    end = time.perf_counter()\n",
    "    y_pred = model_knn.predict(X_val)\n",
    "    _acc = accuracy_score(y_val,y_pred)\n",
    "    tim.append(end-start)\n",
    "    print(f'n_neighbors: {n}, time_taken: {end-start}s, accuracy: {_acc}')\n",
    "    acc.append(_acc)"
   ]
  },
  {
   "cell_type": "markdown",
   "metadata": {},
   "source": [
    "Pick best model"
   ]
  },
  {
   "cell_type": "code",
   "execution_count": 62,
   "metadata": {},
   "outputs": [
    {
     "name": "stdout",
     "output_type": "stream",
     "text": [
      "n_estimators: 10, time_taken: 0.01371240010485053s, accuracy: 0.753998933617702\n"
     ]
    },
    {
     "data": {
      "text/plain": [
       "<bound method BaseEstimator.get_params of KNeighborsClassifier(n_neighbors=10)>"
      ]
     },
     "execution_count": 62,
     "metadata": {},
     "output_type": "execute_result"
    }
   ],
   "source": [
    "model1 = KNeighborsClassifier(n_neighbors=nbors[np.argmax(acc)])\n",
    "start = time.perf_counter()\n",
    "model1.fit(X_train,y_train)\n",
    "end = time.perf_counter()\n",
    "y_pred = model1.predict(X_val)\n",
    "_acc = accuracy_score(y_val,y_pred)\n",
    "print(f'n_estimators: {nbors[np.argmax(acc)]}, time_taken: {end-start}s, accuracy: {_acc}')\n",
    "model1.get_params"
   ]
  },
  {
   "cell_type": "code",
   "execution_count": 63,
   "metadata": {},
   "outputs": [
    {
     "data": {
      "text/html": [
       "<div>\n",
       "<style scoped>\n",
       "    .dataframe tbody tr th:only-of-type {\n",
       "        vertical-align: middle;\n",
       "    }\n",
       "\n",
       "    .dataframe tbody tr th {\n",
       "        vertical-align: top;\n",
       "    }\n",
       "\n",
       "    .dataframe thead th {\n",
       "        text-align: right;\n",
       "    }\n",
       "</style>\n",
       "<table border=\"1\" class=\"dataframe\">\n",
       "  <thead>\n",
       "    <tr style=\"text-align: right;\">\n",
       "      <th></th>\n",
       "      <th>model</th>\n",
       "      <th>metrics</th>\n",
       "      <th>training_time(s)</th>\n",
       "    </tr>\n",
       "  </thead>\n",
       "  <tbody>\n",
       "    <tr>\n",
       "      <th>0</th>\n",
       "      <td>Decision_tree_no_preprocessing</td>\n",
       "      <td>{'0': {'precision': 0.8072413083727628, 'recal...</td>\n",
       "      <td>1.066185</td>\n",
       "    </tr>\n",
       "    <tr>\n",
       "      <th>1</th>\n",
       "      <td>Decision_tree_oversampling</td>\n",
       "      <td>{'0': {'precision': 0.8192645215211032, 'recal...</td>\n",
       "      <td>5.181477</td>\n",
       "    </tr>\n",
       "    <tr>\n",
       "      <th>2</th>\n",
       "      <td>Decision_tree_undersampling</td>\n",
       "      <td>{'0': {'precision': 0.8104424407632628, 'recal...</td>\n",
       "      <td>1.281096</td>\n",
       "    </tr>\n",
       "    <tr>\n",
       "      <th>3</th>\n",
       "      <td>RandomForest_no_preprocessing</td>\n",
       "      <td>{'0': {'precision': 0.946270853778214, 'recall...</td>\n",
       "      <td>47.316472</td>\n",
       "    </tr>\n",
       "    <tr>\n",
       "      <th>4</th>\n",
       "      <td>RandomForest_oversampling</td>\n",
       "      <td>{'0': {'precision': 0.9532687049465572, 'recal...</td>\n",
       "      <td>134.349898</td>\n",
       "    </tr>\n",
       "    <tr>\n",
       "      <th>5</th>\n",
       "      <td>RandomForest_undersampling</td>\n",
       "      <td>{'0': {'precision': 0.9706874189364462, 'recal...</td>\n",
       "      <td>32.306791</td>\n",
       "    </tr>\n",
       "    <tr>\n",
       "      <th>6</th>\n",
       "      <td>Naive_Bayes_no_preprocessing</td>\n",
       "      <td>{'0': {'precision': 0.852859778597786, 'recall...</td>\n",
       "      <td>0.093065</td>\n",
       "    </tr>\n",
       "    <tr>\n",
       "      <th>7</th>\n",
       "      <td>Naive_Bayes_oversampling</td>\n",
       "      <td>{'0': {'precision': 0.8448236632536974, 'recal...</td>\n",
       "      <td>0.101237</td>\n",
       "    </tr>\n",
       "    <tr>\n",
       "      <th>8</th>\n",
       "      <td>Naive_Bayes_undersampling</td>\n",
       "      <td>{'0': {'precision': 0.8521678966789668, 'recal...</td>\n",
       "      <td>0.037619</td>\n",
       "    </tr>\n",
       "    <tr>\n",
       "      <th>9</th>\n",
       "      <td>KNN_no_preprocessing</td>\n",
       "      <td>{'0': {'precision': 0.8735545500251383, 'recal...</td>\n",
       "      <td>0.013712</td>\n",
       "    </tr>\n",
       "  </tbody>\n",
       "</table>\n",
       "</div>"
      ],
      "text/plain": [
       "                            model  \\\n",
       "0  Decision_tree_no_preprocessing   \n",
       "1      Decision_tree_oversampling   \n",
       "2     Decision_tree_undersampling   \n",
       "3   RandomForest_no_preprocessing   \n",
       "4       RandomForest_oversampling   \n",
       "5      RandomForest_undersampling   \n",
       "6    Naive_Bayes_no_preprocessing   \n",
       "7        Naive_Bayes_oversampling   \n",
       "8       Naive_Bayes_undersampling   \n",
       "9            KNN_no_preprocessing   \n",
       "\n",
       "                                             metrics  training_time(s)  \n",
       "0  {'0': {'precision': 0.8072413083727628, 'recal...          1.066185  \n",
       "1  {'0': {'precision': 0.8192645215211032, 'recal...          5.181477  \n",
       "2  {'0': {'precision': 0.8104424407632628, 'recal...          1.281096  \n",
       "3  {'0': {'precision': 0.946270853778214, 'recall...         47.316472  \n",
       "4  {'0': {'precision': 0.9532687049465572, 'recal...        134.349898  \n",
       "5  {'0': {'precision': 0.9706874189364462, 'recal...         32.306791  \n",
       "6  {'0': {'precision': 0.852859778597786, 'recall...          0.093065  \n",
       "7  {'0': {'precision': 0.8448236632536974, 'recal...          0.101237  \n",
       "8  {'0': {'precision': 0.8521678966789668, 'recal...          0.037619  \n",
       "9  {'0': {'precision': 0.8735545500251383, 'recal...          0.013712  "
      ]
     },
     "execution_count": 63,
     "metadata": {},
     "output_type": "execute_result"
    }
   ],
   "source": [
    "y_pred = model1.predict(X_val)\n",
    "x = classification_report(y_val, y_pred, digits=4, labels=sorted(list(set(y_enc))), output_dict=True)\n",
    "models.append({'model': 'KNN_no_preprocessing', 'metrics': x, 'training_time(s)': (end-start)})\n",
    "pd.DataFrame(models)"
   ]
  },
  {
   "cell_type": "code",
   "execution_count": 64,
   "metadata": {},
   "outputs": [
    {
     "data": {
      "text/plain": [
       "Text(0.5, 1.0, 'Training time')"
      ]
     },
     "execution_count": 64,
     "metadata": {},
     "output_type": "execute_result"
    },
    {
     "data": {
      "image/png": "[encoded data removed]",
      "text/plain": [
       "<Figure size 1000x500 with 2 Axes>"
      ]
     },
     "metadata": {},
     "output_type": "display_data"
    }
   ],
   "source": [
    "fig = plt.figure(figsize=(10,5))\n",
    "\n",
    "ax1 = fig.add_subplot(121)\n",
    "ax1.plot(nbors,acc)\n",
    "ax1.set_title('Accuracy')\n",
    "\n",
    "ax2 = fig.add_subplot(122)\n",
    "ax2.plot(nbors,tim)\n",
    "ax2.set_title('Training time')"
   ]
  },
  {
   "cell_type": "markdown",
   "metadata": {},
   "source": [
    "Let's try oversampling"
   ]
  },
  {
   "cell_type": "code",
   "execution_count": 65,
   "metadata": {},
   "outputs": [],
   "source": [
    "X_train1, y_train1 = SMOTE().fit_resample(X_train,y_train)"
   ]
  },
  {
   "cell_type": "code",
   "execution_count": 66,
   "metadata": {},
   "outputs": [
    {
     "name": "stdout",
     "output_type": "stream",
     "text": [
      "n_neighbors: 3, time_taken: 0.015507099917158484s, accuracy: 0.7003465742468675\n",
      "n_neighbors: 5, time_taken: 0.011253400007262826s, accuracy: 0.6988802985870435\n",
      "n_neighbors: 10, time_taken: 0.013427500147372484s, accuracy: 0.6996800853105839\n",
      "n_neighbors: 15, time_taken: 0.010580000001937151s, accuracy: 0.7080111970141295\n",
      "n_neighbors: 20, time_taken: 0.01119489991106093s, accuracy: 0.7037456678219142\n",
      "n_neighbors: 25, time_taken: 0.018301700009033084s, accuracy: 0.7042788589709411\n",
      "n_neighbors: 50, time_taken: 0.015107800019904971s, accuracy: 0.7008797653958945\n",
      "n_neighbors: 100, time_taken: 0.015287899877876043s, accuracy: 0.6899493468408424\n",
      "n_neighbors: 200, time_taken: 0.012987200170755386s, accuracy: 0.6797520661157025\n",
      "n_neighbors: 400, time_taken: 0.007760399952530861s, accuracy: 0.6664889362836577\n",
      "n_neighbors: 800, time_taken: 0.011216599959880114s, accuracy: 0.64396161023727\n"
     ]
    }
   ],
   "source": [
    "nbors = [3,5,10,15,20,25,50,100,200,400,800]\n",
    "tim, acc = [], []\n",
    "model_knn = KNeighborsClassifier()\n",
    "\n",
    "for n in nbors:\n",
    "    model_knn = KNeighborsClassifier(n_neighbors=n)\n",
    "    start = time.perf_counter()\n",
    "    model_knn.fit(X_train1,y_train1)\n",
    "    end = time.perf_counter()\n",
    "    y_pred = model_knn.predict(X_val)\n",
    "    _acc = accuracy_score(y_val,y_pred)\n",
    "    tim.append(end-start)\n",
    "    print(f'n_neighbors: {n}, time_taken: {end-start}s, accuracy: {_acc}')\n",
    "    acc.append(_acc)"
   ]
  },
  {
   "cell_type": "markdown",
   "metadata": {},
   "source": [
    "Pick best model"
   ]
  },
  {
   "cell_type": "code",
   "execution_count": 67,
   "metadata": {},
   "outputs": [
    {
     "name": "stdout",
     "output_type": "stream",
     "text": [
      "n_estimators: 15, time_taken: 0.014597899978980422s, accuracy: 0.7080111970141295\n"
     ]
    },
    {
     "data": {
      "text/plain": [
       "<bound method BaseEstimator.get_params of KNeighborsClassifier(n_neighbors=15)>"
      ]
     },
     "execution_count": 67,
     "metadata": {},
     "output_type": "execute_result"
    }
   ],
   "source": [
    "model1 = KNeighborsClassifier(n_neighbors=nbors[np.argmax(acc)])\n",
    "start = time.perf_counter()\n",
    "model1.fit(X_train1,y_train1)\n",
    "end = time.perf_counter()\n",
    "y_pred = model1.predict(X_val)\n",
    "_acc = accuracy_score(y_val,y_pred)\n",
    "print(f'n_estimators: {nbors[np.argmax(acc)]}, time_taken: {end-start}s, accuracy: {_acc}')\n",
    "model1.get_params"
   ]
  },
  {
   "cell_type": "code",
   "execution_count": 68,
   "metadata": {},
   "outputs": [
    {
     "data": {
      "text/html": [
       "<div>\n",
       "<style scoped>\n",
       "    .dataframe tbody tr th:only-of-type {\n",
       "        vertical-align: middle;\n",
       "    }\n",
       "\n",
       "    .dataframe tbody tr th {\n",
       "        vertical-align: top;\n",
       "    }\n",
       "\n",
       "    .dataframe thead th {\n",
       "        text-align: right;\n",
       "    }\n",
       "</style>\n",
       "<table border=\"1\" class=\"dataframe\">\n",
       "  <thead>\n",
       "    <tr style=\"text-align: right;\">\n",
       "      <th></th>\n",
       "      <th>model</th>\n",
       "      <th>metrics</th>\n",
       "      <th>training_time(s)</th>\n",
       "    </tr>\n",
       "  </thead>\n",
       "  <tbody>\n",
       "    <tr>\n",
       "      <th>0</th>\n",
       "      <td>Decision_tree_no_preprocessing</td>\n",
       "      <td>{'0': {'precision': 0.8072413083727628, 'recal...</td>\n",
       "      <td>1.066185</td>\n",
       "    </tr>\n",
       "    <tr>\n",
       "      <th>1</th>\n",
       "      <td>Decision_tree_oversampling</td>\n",
       "      <td>{'0': {'precision': 0.8192645215211032, 'recal...</td>\n",
       "      <td>5.181477</td>\n",
       "    </tr>\n",
       "    <tr>\n",
       "      <th>2</th>\n",
       "      <td>Decision_tree_undersampling</td>\n",
       "      <td>{'0': {'precision': 0.8104424407632628, 'recal...</td>\n",
       "      <td>1.281096</td>\n",
       "    </tr>\n",
       "    <tr>\n",
       "      <th>3</th>\n",
       "      <td>RandomForest_no_preprocessing</td>\n",
       "      <td>{'0': {'precision': 0.946270853778214, 'recall...</td>\n",
       "      <td>47.316472</td>\n",
       "    </tr>\n",
       "    <tr>\n",
       "      <th>4</th>\n",
       "      <td>RandomForest_oversampling</td>\n",
       "      <td>{'0': {'precision': 0.9532687049465572, 'recal...</td>\n",
       "      <td>134.349898</td>\n",
       "    </tr>\n",
       "    <tr>\n",
       "      <th>5</th>\n",
       "      <td>RandomForest_undersampling</td>\n",
       "      <td>{'0': {'precision': 0.9706874189364462, 'recal...</td>\n",
       "      <td>32.306791</td>\n",
       "    </tr>\n",
       "    <tr>\n",
       "      <th>6</th>\n",
       "      <td>Naive_Bayes_no_preprocessing</td>\n",
       "      <td>{'0': {'precision': 0.852859778597786, 'recall...</td>\n",
       "      <td>0.093065</td>\n",
       "    </tr>\n",
       "    <tr>\n",
       "      <th>7</th>\n",
       "      <td>Naive_Bayes_oversampling</td>\n",
       "      <td>{'0': {'precision': 0.8448236632536974, 'recal...</td>\n",
       "      <td>0.101237</td>\n",
       "    </tr>\n",
       "    <tr>\n",
       "      <th>8</th>\n",
       "      <td>Naive_Bayes_undersampling</td>\n",
       "      <td>{'0': {'precision': 0.8521678966789668, 'recal...</td>\n",
       "      <td>0.037619</td>\n",
       "    </tr>\n",
       "    <tr>\n",
       "      <th>9</th>\n",
       "      <td>KNN_no_preprocessing</td>\n",
       "      <td>{'0': {'precision': 0.8735545500251383, 'recal...</td>\n",
       "      <td>0.013712</td>\n",
       "    </tr>\n",
       "    <tr>\n",
       "      <th>10</th>\n",
       "      <td>KNN_oversampling</td>\n",
       "      <td>{'0': {'precision': 0.8815376569037657, 'recal...</td>\n",
       "      <td>0.014598</td>\n",
       "    </tr>\n",
       "  </tbody>\n",
       "</table>\n",
       "</div>"
      ],
      "text/plain": [
       "                             model  \\\n",
       "0   Decision_tree_no_preprocessing   \n",
       "1       Decision_tree_oversampling   \n",
       "2      Decision_tree_undersampling   \n",
       "3    RandomForest_no_preprocessing   \n",
       "4        RandomForest_oversampling   \n",
       "5       RandomForest_undersampling   \n",
       "6     Naive_Bayes_no_preprocessing   \n",
       "7         Naive_Bayes_oversampling   \n",
       "8        Naive_Bayes_undersampling   \n",
       "9             KNN_no_preprocessing   \n",
       "10                KNN_oversampling   \n",
       "\n",
       "                                              metrics  training_time(s)  \n",
       "0   {'0': {'precision': 0.8072413083727628, 'recal...          1.066185  \n",
       "1   {'0': {'precision': 0.8192645215211032, 'recal...          5.181477  \n",
       "2   {'0': {'precision': 0.8104424407632628, 'recal...          1.281096  \n",
       "3   {'0': {'precision': 0.946270853778214, 'recall...         47.316472  \n",
       "4   {'0': {'precision': 0.9532687049465572, 'recal...        134.349898  \n",
       "5   {'0': {'precision': 0.9706874189364462, 'recal...         32.306791  \n",
       "6   {'0': {'precision': 0.852859778597786, 'recall...          0.093065  \n",
       "7   {'0': {'precision': 0.8448236632536974, 'recal...          0.101237  \n",
       "8   {'0': {'precision': 0.8521678966789668, 'recal...          0.037619  \n",
       "9   {'0': {'precision': 0.8735545500251383, 'recal...          0.013712  \n",
       "10  {'0': {'precision': 0.8815376569037657, 'recal...          0.014598  "
      ]
     },
     "execution_count": 68,
     "metadata": {},
     "output_type": "execute_result"
    }
   ],
   "source": [
    "y_pred = model1.predict(X_val)\n",
    "x = classification_report(y_val, y_pred, digits=4, labels=sorted(list(set(y_enc))), output_dict=True)\n",
    "models.append({'model': 'KNN_oversampling', 'metrics': x, 'training_time(s)': (end-start)})\n",
    "pd.DataFrame(models)"
   ]
  },
  {
   "cell_type": "code",
   "execution_count": 69,
   "metadata": {},
   "outputs": [
    {
     "data": {
      "text/plain": [
       "Text(0.5, 1.0, 'Training time')"
      ]
     },
     "execution_count": 69,
     "metadata": {},
     "output_type": "execute_result"
    },
    {
     "data": {
      "image/png": "[encoded data removed]",
      "text/plain": [
       "<Figure size 1000x500 with 2 Axes>"
      ]
     },
     "metadata": {},
     "output_type": "display_data"
    }
   ],
   "source": [
    "fig = plt.figure(figsize=(10,5))\n",
    "\n",
    "ax1 = fig.add_subplot(121)\n",
    "ax1.plot(nbors,acc)\n",
    "ax1.set_title('Accuracy')\n",
    "\n",
    "ax2 = fig.add_subplot(122)\n",
    "ax2.plot(nbors,tim)\n",
    "ax2.set_title('Training time')"
   ]
  },
  {
   "cell_type": "markdown",
   "metadata": {},
   "source": [
    "Let's try undersampling"
   ]
  },
  {
   "cell_type": "code",
   "execution_count": 70,
   "metadata": {},
   "outputs": [],
   "source": [
    "X_train1, y_train1 = RandomUnderSampler().fit_resample(X_train,y_train)"
   ]
  },
  {
   "cell_type": "code",
   "execution_count": 71,
   "metadata": {},
   "outputs": [
    {
     "name": "stdout",
     "output_type": "stream",
     "text": [
      "n_neighbors: 3, time_taken: 0.004091599956154823s, accuracy: 0.694614769394828\n",
      "n_neighbors: 5, time_taken: 0.0037070000544190407s, accuracy: 0.7042122100773127\n",
      "n_neighbors: 10, time_taken: 0.004570400109514594s, accuracy: 0.7076779525459878\n",
      "n_neighbors: 15, time_taken: 0.003762299893423915s, accuracy: 0.7122100773127166\n",
      "n_neighbors: 20, time_taken: 0.004290600074455142s, accuracy: 0.7063449746734204\n",
      "n_neighbors: 25, time_taken: 0.013324700063094497s, accuracy: 0.7012796587576646\n",
      "n_neighbors: 50, time_taken: 0.010493299923837185s, accuracy: 0.691882164756065\n",
      "n_neighbors: 100, time_taken: 0.0027974999975413084s, accuracy: 0.6758197813916289\n",
      "n_neighbors: 200, time_taken: 0.0038542000111192465s, accuracy: 0.6633564382831245\n",
      "n_neighbors: 400, time_taken: 0.0028568999841809273s, accuracy: 0.6344308184484138\n",
      "n_neighbors: 800, time_taken: 0.0035869998391717672s, accuracy: 0.608770994401493\n"
     ]
    }
   ],
   "source": [
    "nbors = [3,5,10,15,20,25,50,100,200,400,800]\n",
    "tim, acc = [], []\n",
    "model_knn = KNeighborsClassifier()\n",
    "\n",
    "for n in nbors:\n",
    "    model_knn = KNeighborsClassifier(n_neighbors=n)\n",
    "    start = time.perf_counter()\n",
    "    model_knn.fit(X_train1,y_train1)\n",
    "    end = time.perf_counter()\n",
    "    y_pred = model_knn.predict(X_val)\n",
    "    _acc = accuracy_score(y_val,y_pred)\n",
    "    tim.append(end-start)\n",
    "    print(f'n_neighbors: {n}, time_taken: {end-start}s, accuracy: {_acc}')\n",
    "    acc.append(_acc)"
   ]
  },
  {
   "cell_type": "markdown",
   "metadata": {},
   "source": [
    "Pick best model"
   ]
  },
  {
   "cell_type": "code",
   "execution_count": 72,
   "metadata": {},
   "outputs": [
    {
     "name": "stdout",
     "output_type": "stream",
     "text": [
      "n_estimators: 15, time_taken: 0.009641699958592653s, accuracy: 0.7122100773127166\n"
     ]
    },
    {
     "data": {
      "text/plain": [
       "<bound method BaseEstimator.get_params of KNeighborsClassifier(n_neighbors=15)>"
      ]
     },
     "execution_count": 72,
     "metadata": {},
     "output_type": "execute_result"
    }
   ],
   "source": [
    "model1 = KNeighborsClassifier(n_neighbors=nbors[np.argmax(acc)])\n",
    "start = time.perf_counter()\n",
    "model1.fit(X_train1,y_train1)\n",
    "end = time.perf_counter()\n",
    "y_pred = model1.predict(X_val)\n",
    "_acc = accuracy_score(y_val,y_pred)\n",
    "print(f'n_estimators: {nbors[np.argmax(acc)]}, time_taken: {end-start}s, accuracy: {_acc}')\n",
    "model1.get_params"
   ]
  },
  {
   "cell_type": "code",
   "execution_count": 73,
   "metadata": {},
   "outputs": [
    {
     "data": {
      "text/html": [
       "<div>\n",
       "<style scoped>\n",
       "    .dataframe tbody tr th:only-of-type {\n",
       "        vertical-align: middle;\n",
       "    }\n",
       "\n",
       "    .dataframe tbody tr th {\n",
       "        vertical-align: top;\n",
       "    }\n",
       "\n",
       "    .dataframe thead th {\n",
       "        text-align: right;\n",
       "    }\n",
       "</style>\n",
       "<table border=\"1\" class=\"dataframe\">\n",
       "  <thead>\n",
       "    <tr style=\"text-align: right;\">\n",
       "      <th></th>\n",
       "      <th>model</th>\n",
       "      <th>metrics</th>\n",
       "      <th>training_time(s)</th>\n",
       "    </tr>\n",
       "  </thead>\n",
       "  <tbody>\n",
       "    <tr>\n",
       "      <th>0</th>\n",
       "      <td>Decision_tree_no_preprocessing</td>\n",
       "      <td>{'0': {'precision': 0.8072413083727628, 'recal...</td>\n",
       "      <td>1.066185</td>\n",
       "    </tr>\n",
       "    <tr>\n",
       "      <th>1</th>\n",
       "      <td>Decision_tree_oversampling</td>\n",
       "      <td>{'0': {'precision': 0.8192645215211032, 'recal...</td>\n",
       "      <td>5.181477</td>\n",
       "    </tr>\n",
       "    <tr>\n",
       "      <th>2</th>\n",
       "      <td>Decision_tree_undersampling</td>\n",
       "      <td>{'0': {'precision': 0.8104424407632628, 'recal...</td>\n",
       "      <td>1.281096</td>\n",
       "    </tr>\n",
       "    <tr>\n",
       "      <th>3</th>\n",
       "      <td>RandomForest_no_preprocessing</td>\n",
       "      <td>{'0': {'precision': 0.946270853778214, 'recall...</td>\n",
       "      <td>47.316472</td>\n",
       "    </tr>\n",
       "    <tr>\n",
       "      <th>4</th>\n",
       "      <td>RandomForest_oversampling</td>\n",
       "      <td>{'0': {'precision': 0.9532687049465572, 'recal...</td>\n",
       "      <td>134.349898</td>\n",
       "    </tr>\n",
       "    <tr>\n",
       "      <th>5</th>\n",
       "      <td>RandomForest_undersampling</td>\n",
       "      <td>{'0': {'precision': 0.9706874189364462, 'recal...</td>\n",
       "      <td>32.306791</td>\n",
       "    </tr>\n",
       "    <tr>\n",
       "      <th>6</th>\n",
       "      <td>Naive_Bayes_no_preprocessing</td>\n",
       "      <td>{'0': {'precision': 0.852859778597786, 'recall...</td>\n",
       "      <td>0.093065</td>\n",
       "    </tr>\n",
       "    <tr>\n",
       "      <th>7</th>\n",
       "      <td>Naive_Bayes_oversampling</td>\n",
       "      <td>{'0': {'precision': 0.8448236632536974, 'recal...</td>\n",
       "      <td>0.101237</td>\n",
       "    </tr>\n",
       "    <tr>\n",
       "      <th>8</th>\n",
       "      <td>Naive_Bayes_undersampling</td>\n",
       "      <td>{'0': {'precision': 0.8521678966789668, 'recal...</td>\n",
       "      <td>0.037619</td>\n",
       "    </tr>\n",
       "    <tr>\n",
       "      <th>9</th>\n",
       "      <td>KNN_no_preprocessing</td>\n",
       "      <td>{'0': {'precision': 0.8735545500251383, 'recal...</td>\n",
       "      <td>0.013712</td>\n",
       "    </tr>\n",
       "    <tr>\n",
       "      <th>10</th>\n",
       "      <td>KNN_oversampling</td>\n",
       "      <td>{'0': {'precision': 0.8815376569037657, 'recal...</td>\n",
       "      <td>0.014598</td>\n",
       "    </tr>\n",
       "    <tr>\n",
       "      <th>11</th>\n",
       "      <td>KNN_undersampling</td>\n",
       "      <td>{'0': {'precision': 0.8930783732830595, 'recal...</td>\n",
       "      <td>0.009642</td>\n",
       "    </tr>\n",
       "  </tbody>\n",
       "</table>\n",
       "</div>"
      ],
      "text/plain": [
       "                             model  \\\n",
       "0   Decision_tree_no_preprocessing   \n",
       "1       Decision_tree_oversampling   \n",
       "2      Decision_tree_undersampling   \n",
       "3    RandomForest_no_preprocessing   \n",
       "4        RandomForest_oversampling   \n",
       "5       RandomForest_undersampling   \n",
       "6     Naive_Bayes_no_preprocessing   \n",
       "7         Naive_Bayes_oversampling   \n",
       "8        Naive_Bayes_undersampling   \n",
       "9             KNN_no_preprocessing   \n",
       "10                KNN_oversampling   \n",
       "11               KNN_undersampling   \n",
       "\n",
       "                                              metrics  training_time(s)  \n",
       "0   {'0': {'precision': 0.8072413083727628, 'recal...          1.066185  \n",
       "1   {'0': {'precision': 0.8192645215211032, 'recal...          5.181477  \n",
       "2   {'0': {'precision': 0.8104424407632628, 'recal...          1.281096  \n",
       "3   {'0': {'precision': 0.946270853778214, 'recall...         47.316472  \n",
       "4   {'0': {'precision': 0.9532687049465572, 'recal...        134.349898  \n",
       "5   {'0': {'precision': 0.9706874189364462, 'recal...         32.306791  \n",
       "6   {'0': {'precision': 0.852859778597786, 'recall...          0.093065  \n",
       "7   {'0': {'precision': 0.8448236632536974, 'recal...          0.101237  \n",
       "8   {'0': {'precision': 0.8521678966789668, 'recal...          0.037619  \n",
       "9   {'0': {'precision': 0.8735545500251383, 'recal...          0.013712  \n",
       "10  {'0': {'precision': 0.8815376569037657, 'recal...          0.014598  \n",
       "11  {'0': {'precision': 0.8930783732830595, 'recal...          0.009642  "
      ]
     },
     "execution_count": 73,
     "metadata": {},
     "output_type": "execute_result"
    }
   ],
   "source": [
    "y_pred = model1.predict(X_val)\n",
    "x = classification_report(y_val, y_pred, digits=4, labels=sorted(list(set(y_enc))), output_dict=True)\n",
    "models.append({'model': 'KNN_undersampling', 'metrics': x, 'training_time(s)': (end-start)})\n",
    "pd.DataFrame(models)"
   ]
  },
  {
   "cell_type": "code",
   "execution_count": 74,
   "metadata": {},
   "outputs": [
    {
     "data": {
      "text/plain": [
       "Text(0.5, 1.0, 'Training time')"
      ]
     },
     "execution_count": 74,
     "metadata": {},
     "output_type": "execute_result"
    },
    {
     "data": {
      "image/png": "[encoded data removed]",
      "text/plain": [
       "<Figure size 1000x500 with 2 Axes>"
      ]
     },
     "metadata": {},
     "output_type": "display_data"
    }
   ],
   "source": [
    "fig = plt.figure(figsize=(10,5))\n",
    "\n",
    "ax1 = fig.add_subplot(121)\n",
    "ax1.plot(nbors,acc)\n",
    "ax1.set_title('Accuracy')\n",
    "\n",
    "ax2 = fig.add_subplot(122)\n",
    "ax2.plot(nbors,tim)\n",
    "ax2.set_title('Training time')"
   ]
  },
  {
   "cell_type": "code",
   "execution_count": 75,
   "metadata": {},
   "outputs": [],
   "source": [
    "df_results = pd.DataFrame(models)"
   ]
  },
  {
   "cell_type": "code",
   "execution_count": 76,
   "metadata": {},
   "outputs": [],
   "source": [
    "df_results['precision'] = df_results['metrics'].apply(lambda x: {0: round(x['0']['precision'],3), 1: round(x['1']['precision'],3), 2: round(x['2']['precision'],3)})\n",
    "df_results['recall'] = df_results['metrics'].apply(lambda x: {0: round(x['0']['recall'],3), 1: round(x['1']['recall'],3), 2: round(x['2']['recall'],3)})\n",
    "df_results['f1-score'] = df_results['metrics'].apply(lambda x: {0: round(x['0']['f1-score'],3), 1: round(x['1']['f1-score'],3), 2: round(x['2']['f1-score'],3)})\n",
    "df_results['macro_avg'] = df_results['metrics'].apply(lambda x: {k: round(x['macro avg'][k],3) for k in x['macro avg'].keys()})\n",
    "df_results['weighted_avg'] = df_results['metrics'].apply(lambda x: {k: round(x['weighted avg'][k],3) for k in x['weighted avg'].keys()})\n",
    "df_results['accuracy'] = df_results['metrics'].apply(lambda x: round(x['accuracy'],3))\n",
    "df_results['time (s)'] = df_results['training_time(s)']\n",
    "df_results.drop(columns=['metrics','training_time(s)'],inplace=True)"
   ]
  },
  {
   "cell_type": "code",
   "execution_count": 77,
   "metadata": {},
   "outputs": [
    {
     "data": {
      "text/html": [
       "<div>\n",
       "<style scoped>\n",
       "    .dataframe tbody tr th:only-of-type {\n",
       "        vertical-align: middle;\n",
       "    }\n",
       "\n",
       "    .dataframe tbody tr th {\n",
       "        vertical-align: top;\n",
       "    }\n",
       "\n",
       "    .dataframe thead th {\n",
       "        text-align: right;\n",
       "    }\n",
       "</style>\n",
       "<table border=\"1\" class=\"dataframe\">\n",
       "  <thead>\n",
       "    <tr style=\"text-align: right;\">\n",
       "      <th></th>\n",
       "      <th>model</th>\n",
       "      <th>precision</th>\n",
       "      <th>recall</th>\n",
       "      <th>f1-score</th>\n",
       "      <th>macro_avg</th>\n",
       "      <th>weighted_avg</th>\n",
       "      <th>accuracy</th>\n",
       "      <th>time (s)</th>\n",
       "    </tr>\n",
       "  </thead>\n",
       "  <tbody>\n",
       "    <tr>\n",
       "      <th>0</th>\n",
       "      <td>Decision_tree_no_preprocessing</td>\n",
       "      <td>{0: 0.807, 1: 0.508, 2: 0.837}</td>\n",
       "      <td>{0: 0.835, 1: 0.511, 2: 0.816}</td>\n",
       "      <td>{0: 0.821, 1: 0.509, 2: 0.827}</td>\n",
       "      <td>{'precision': 0.717, 'recall': 0.721, 'f1-scor...</td>\n",
       "      <td>{'precision': 0.763, 'recall': 0.762, 'f1-scor...</td>\n",
       "      <td>0.762</td>\n",
       "      <td>1.066185</td>\n",
       "    </tr>\n",
       "    <tr>\n",
       "      <th>1</th>\n",
       "      <td>Decision_tree_oversampling</td>\n",
       "      <td>{0: 0.819, 1: 0.512, 2: 0.834}</td>\n",
       "      <td>{0: 0.834, 1: 0.531, 2: 0.812}</td>\n",
       "      <td>{0: 0.827, 1: 0.521, 2: 0.823}</td>\n",
       "      <td>{'precision': 0.722, 'recall': 0.726, 'f1-scor...</td>\n",
       "      <td>{'precision': 0.766, 'recall': 0.764, 'f1-scor...</td>\n",
       "      <td>0.764</td>\n",
       "      <td>5.181477</td>\n",
       "    </tr>\n",
       "    <tr>\n",
       "      <th>2</th>\n",
       "      <td>Decision_tree_undersampling</td>\n",
       "      <td>{0: 0.81, 1: 0.461, 2: 0.863}</td>\n",
       "      <td>{0: 0.823, 1: 0.638, 2: 0.721}</td>\n",
       "      <td>{0: 0.816, 1: 0.535, 2: 0.785}</td>\n",
       "      <td>{'precision': 0.711, 'recall': 0.727, 'f1-scor...</td>\n",
       "      <td>{'precision': 0.767, 'recall': 0.736, 'f1-scor...</td>\n",
       "      <td>0.736</td>\n",
       "      <td>1.281096</td>\n",
       "    </tr>\n",
       "    <tr>\n",
       "      <th>3</th>\n",
       "      <td>RandomForest_no_preprocessing</td>\n",
       "      <td>{0: 0.946, 1: 0.646, 2: 0.847}</td>\n",
       "      <td>{0: 0.821, 1: 0.632, 2: 0.927}</td>\n",
       "      <td>{0: 0.879, 1: 0.639, 2: 0.885}</td>\n",
       "      <td>{'precision': 0.813, 'recall': 0.793, 'f1-scor...</td>\n",
       "      <td>{'precision': 0.839, 'recall': 0.835, 'f1-scor...</td>\n",
       "      <td>0.835</td>\n",
       "      <td>47.316472</td>\n",
       "    </tr>\n",
       "    <tr>\n",
       "      <th>4</th>\n",
       "      <td>RandomForest_oversampling</td>\n",
       "      <td>{0: 0.953, 1: 0.625, 2: 0.856}</td>\n",
       "      <td>{0: 0.816, 1: 0.669, 2: 0.911}</td>\n",
       "      <td>{0: 0.879, 1: 0.646, 2: 0.882}</td>\n",
       "      <td>{'precision': 0.811, 'recall': 0.798, 'f1-scor...</td>\n",
       "      <td>{'precision': 0.841, 'recall': 0.833, 'f1-scor...</td>\n",
       "      <td>0.833</td>\n",
       "      <td>134.349898</td>\n",
       "    </tr>\n",
       "    <tr>\n",
       "      <th>5</th>\n",
       "      <td>RandomForest_undersampling</td>\n",
       "      <td>{0: 0.971, 1: 0.557, 2: 0.892}</td>\n",
       "      <td>{0: 0.796, 1: 0.8, 2: 0.838}</td>\n",
       "      <td>{0: 0.875, 1: 0.657, 2: 0.864}</td>\n",
       "      <td>{'precision': 0.807, 'recall': 0.811, 'f1-scor...</td>\n",
       "      <td>{'precision': 0.851, 'recall': 0.817, 'f1-scor...</td>\n",
       "      <td>0.817</td>\n",
       "      <td>32.306791</td>\n",
       "    </tr>\n",
       "    <tr>\n",
       "      <th>6</th>\n",
       "      <td>Naive_Bayes_no_preprocessing</td>\n",
       "      <td>{0: 0.853, 1: 0.52, 2: 0.784}</td>\n",
       "      <td>{0: 0.787, 1: 0.448, 2: 0.867}</td>\n",
       "      <td>{0: 0.819, 1: 0.481, 2: 0.823}</td>\n",
       "      <td>{'precision': 0.719, 'recall': 0.7, 'f1-score'...</td>\n",
       "      <td>{'precision': 0.753, 'recall': 0.759, 'f1-scor...</td>\n",
       "      <td>0.759</td>\n",
       "      <td>0.093065</td>\n",
       "    </tr>\n",
       "    <tr>\n",
       "      <th>7</th>\n",
       "      <td>Naive_Bayes_oversampling</td>\n",
       "      <td>{0: 0.845, 1: 0.513, 2: 0.832}</td>\n",
       "      <td>{0: 0.79, 1: 0.586, 2: 0.819}</td>\n",
       "      <td>{0: 0.817, 1: 0.547, 2: 0.825}</td>\n",
       "      <td>{'precision': 0.73, 'recall': 0.732, 'f1-score...</td>\n",
       "      <td>{'precision': 0.773, 'recall': 0.764, 'f1-scor...</td>\n",
       "      <td>0.764</td>\n",
       "      <td>0.101237</td>\n",
       "    </tr>\n",
       "    <tr>\n",
       "      <th>8</th>\n",
       "      <td>Naive_Bayes_undersampling</td>\n",
       "      <td>{0: 0.852, 1: 0.52, 2: 0.795}</td>\n",
       "      <td>{0: 0.786, 1: 0.482, 2: 0.857}</td>\n",
       "      <td>{0: 0.818, 1: 0.5, 2: 0.825}</td>\n",
       "      <td>{'precision': 0.722, 'recall': 0.709, 'f1-scor...</td>\n",
       "      <td>{'precision': 0.758, 'recall': 0.761, 'f1-scor...</td>\n",
       "      <td>0.761</td>\n",
       "      <td>0.037619</td>\n",
       "    </tr>\n",
       "    <tr>\n",
       "      <th>9</th>\n",
       "      <td>KNN_no_preprocessing</td>\n",
       "      <td>{0: 0.874, 1: 0.525, 2: 0.768}</td>\n",
       "      <td>{0: 0.74, 1: 0.457, 2: 0.883}</td>\n",
       "      <td>{0: 0.801, 1: 0.488, 2: 0.821}</td>\n",
       "      <td>{'precision': 0.722, 'recall': 0.693, 'f1-scor...</td>\n",
       "      <td>{'precision': 0.753, 'recall': 0.754, 'f1-scor...</td>\n",
       "      <td>0.754</td>\n",
       "      <td>0.013712</td>\n",
       "    </tr>\n",
       "    <tr>\n",
       "      <th>10</th>\n",
       "      <td>KNN_oversampling</td>\n",
       "      <td>{0: 0.882, 1: 0.416, 2: 0.832}</td>\n",
       "      <td>{0: 0.717, 1: 0.691, 2: 0.709}</td>\n",
       "      <td>{0: 0.791, 1: 0.519, 2: 0.765}</td>\n",
       "      <td>{'precision': 0.71, 'recall': 0.706, 'f1-score...</td>\n",
       "      <td>{'precision': 0.765, 'recall': 0.708, 'f1-scor...</td>\n",
       "      <td>0.708</td>\n",
       "      <td>0.014598</td>\n",
       "    </tr>\n",
       "    <tr>\n",
       "      <th>11</th>\n",
       "      <td>KNN_undersampling</td>\n",
       "      <td>{0: 0.893, 1: 0.424, 2: 0.826}</td>\n",
       "      <td>{0: 0.706, 1: 0.695, 2: 0.723}</td>\n",
       "      <td>{0: 0.788, 1: 0.526, 2: 0.771}</td>\n",
       "      <td>{'precision': 0.714, 'recall': 0.708, 'f1-scor...</td>\n",
       "      <td>{'precision': 0.767, 'recall': 0.712, 'f1-scor...</td>\n",
       "      <td>0.712</td>\n",
       "      <td>0.009642</td>\n",
       "    </tr>\n",
       "  </tbody>\n",
       "</table>\n",
       "</div>"
      ],
      "text/plain": [
       "                             model                       precision  \\\n",
       "0   Decision_tree_no_preprocessing  {0: 0.807, 1: 0.508, 2: 0.837}   \n",
       "1       Decision_tree_oversampling  {0: 0.819, 1: 0.512, 2: 0.834}   \n",
       "2      Decision_tree_undersampling   {0: 0.81, 1: 0.461, 2: 0.863}   \n",
       "3    RandomForest_no_preprocessing  {0: 0.946, 1: 0.646, 2: 0.847}   \n",
       "4        RandomForest_oversampling  {0: 0.953, 1: 0.625, 2: 0.856}   \n",
       "5       RandomForest_undersampling  {0: 0.971, 1: 0.557, 2: 0.892}   \n",
       "6     Naive_Bayes_no_preprocessing   {0: 0.853, 1: 0.52, 2: 0.784}   \n",
       "7         Naive_Bayes_oversampling  {0: 0.845, 1: 0.513, 2: 0.832}   \n",
       "8        Naive_Bayes_undersampling   {0: 0.852, 1: 0.52, 2: 0.795}   \n",
       "9             KNN_no_preprocessing  {0: 0.874, 1: 0.525, 2: 0.768}   \n",
       "10                KNN_oversampling  {0: 0.882, 1: 0.416, 2: 0.832}   \n",
       "11               KNN_undersampling  {0: 0.893, 1: 0.424, 2: 0.826}   \n",
       "\n",
       "                            recall                        f1-score  \\\n",
       "0   {0: 0.835, 1: 0.511, 2: 0.816}  {0: 0.821, 1: 0.509, 2: 0.827}   \n",
       "1   {0: 0.834, 1: 0.531, 2: 0.812}  {0: 0.827, 1: 0.521, 2: 0.823}   \n",
       "2   {0: 0.823, 1: 0.638, 2: 0.721}  {0: 0.816, 1: 0.535, 2: 0.785}   \n",
       "3   {0: 0.821, 1: 0.632, 2: 0.927}  {0: 0.879, 1: 0.639, 2: 0.885}   \n",
       "4   {0: 0.816, 1: 0.669, 2: 0.911}  {0: 0.879, 1: 0.646, 2: 0.882}   \n",
       "5     {0: 0.796, 1: 0.8, 2: 0.838}  {0: 0.875, 1: 0.657, 2: 0.864}   \n",
       "6   {0: 0.787, 1: 0.448, 2: 0.867}  {0: 0.819, 1: 0.481, 2: 0.823}   \n",
       "7    {0: 0.79, 1: 0.586, 2: 0.819}  {0: 0.817, 1: 0.547, 2: 0.825}   \n",
       "8   {0: 0.786, 1: 0.482, 2: 0.857}    {0: 0.818, 1: 0.5, 2: 0.825}   \n",
       "9    {0: 0.74, 1: 0.457, 2: 0.883}  {0: 0.801, 1: 0.488, 2: 0.821}   \n",
       "10  {0: 0.717, 1: 0.691, 2: 0.709}  {0: 0.791, 1: 0.519, 2: 0.765}   \n",
       "11  {0: 0.706, 1: 0.695, 2: 0.723}  {0: 0.788, 1: 0.526, 2: 0.771}   \n",
       "\n",
       "                                            macro_avg  \\\n",
       "0   {'precision': 0.717, 'recall': 0.721, 'f1-scor...   \n",
       "1   {'precision': 0.722, 'recall': 0.726, 'f1-scor...   \n",
       "2   {'precision': 0.711, 'recall': 0.727, 'f1-scor...   \n",
       "3   {'precision': 0.813, 'recall': 0.793, 'f1-scor...   \n",
       "4   {'precision': 0.811, 'recall': 0.798, 'f1-scor...   \n",
       "5   {'precision': 0.807, 'recall': 0.811, 'f1-scor...   \n",
       "6   {'precision': 0.719, 'recall': 0.7, 'f1-score'...   \n",
       "7   {'precision': 0.73, 'recall': 0.732, 'f1-score...   \n",
       "8   {'precision': 0.722, 'recall': 0.709, 'f1-scor...   \n",
       "9   {'precision': 0.722, 'recall': 0.693, 'f1-scor...   \n",
       "10  {'precision': 0.71, 'recall': 0.706, 'f1-score...   \n",
       "11  {'precision': 0.714, 'recall': 0.708, 'f1-scor...   \n",
       "\n",
       "                                         weighted_avg  accuracy    time (s)  \n",
       "0   {'precision': 0.763, 'recall': 0.762, 'f1-scor...     0.762    1.066185  \n",
       "1   {'precision': 0.766, 'recall': 0.764, 'f1-scor...     0.764    5.181477  \n",
       "2   {'precision': 0.767, 'recall': 0.736, 'f1-scor...     0.736    1.281096  \n",
       "3   {'precision': 0.839, 'recall': 0.835, 'f1-scor...     0.835   47.316472  \n",
       "4   {'precision': 0.841, 'recall': 0.833, 'f1-scor...     0.833  134.349898  \n",
       "5   {'precision': 0.851, 'recall': 0.817, 'f1-scor...     0.817   32.306791  \n",
       "6   {'precision': 0.753, 'recall': 0.759, 'f1-scor...     0.759    0.093065  \n",
       "7   {'precision': 0.773, 'recall': 0.764, 'f1-scor...     0.764    0.101237  \n",
       "8   {'precision': 0.758, 'recall': 0.761, 'f1-scor...     0.761    0.037619  \n",
       "9   {'precision': 0.753, 'recall': 0.754, 'f1-scor...     0.754    0.013712  \n",
       "10  {'precision': 0.765, 'recall': 0.708, 'f1-scor...     0.708    0.014598  \n",
       "11  {'precision': 0.767, 'recall': 0.712, 'f1-scor...     0.712    0.009642  "
      ]
     },
     "execution_count": 77,
     "metadata": {},
     "output_type": "execute_result"
    }
   ],
   "source": [
    "df_results.to_csv('data/benchmarking_outliers_handled.csv',index=False)\n",
    "df_results"
   ]
  }
 ],
 "metadata": {
  "kernelspec": {
   "display_name": "Python 3",
   "language": "python",
   "name": "python3"
  },
  "language_info": {
   "codemirror_mode": {
    "name": "ipython",
    "version": 3
   },
   "file_extension": ".py",
   "mimetype": "text/x-python",
   "name": "python",
   "nbconvert_exporter": "python",
   "pygments_lexer": "ipython3",
   "version": "3.11.4"
  }
 },
 "nbformat": 4,
 "nbformat_minor": 2
}
